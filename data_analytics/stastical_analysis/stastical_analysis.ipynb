{
 "cells": [
  {
   "cell_type": "markdown",
   "id": "fc03e014",
   "metadata": {},
   "source": [
    "## Подготовка к работе"
   ]
  },
  {
   "cell_type": "markdown",
   "id": "724fa29d",
   "metadata": {},
   "source": [
    "### Описание проекта"
   ]
  },
  {
   "cell_type": "markdown",
   "id": "891e8e0e",
   "metadata": {},
   "source": [
    "Были переданы данные о некоторых пользователях из нескольких городов, а также об их поездках. Проанализируйте данные и проверьте некоторые гипотезы, которые могут помочь бизнесу вырасти. Чтобы совершать поездки по городу, пользователи сервиса GoFast пользуются мобильным приложением. Сервисом можно пользоваться:\n",
    "\n",
    "без подписки абонентская плата отсутствует;\n",
    "\n",
    "* стоимость одной минуты поездки — 8 рублей;\n",
    "* стоимость старта (начала поездки) — 50 рублей;\n",
    "\n",
    "с подпиской Ultra\n",
    "\n",
    "* абонентская плата — 199 рублей в месяц;\n",
    "* стоимость одной минуты поездки — 6 рублей;\n",
    "* стоимость старта — бесплатно."
   ]
  },
  {
   "cell_type": "markdown",
   "id": "d820a947",
   "metadata": {},
   "source": [
    "### Описание данных датафрейма"
   ]
  },
  {
   "cell_type": "markdown",
   "id": "b0ae0530",
   "metadata": {},
   "source": [
    "В основных данных есть информация о пользователях, их поездках и подписках.\n",
    "\n",
    "* Пользователи — users_go.csv\n",
    " * user_id\tуникальный идентификатор пользователя\n",
    " * name\tимя пользователя\n",
    " * age\tвозраст\n",
    " * city\tгород\n",
    " * subscription_type\tтип подписки (free, ultra)\n",
    "\n",
    "* Поездки — rides_go.csv\n",
    " * user_id\tуникальный идентификатор пользователя\n",
    " * distance\tрасстояние, которое пользователь проехал в текущей сессии (в метрах)\n",
    " * duration\tпродолжительность сессии (в минутах) — время с того момента, как пользователь нажал кнопку «Начать поездку» до момента, как он нажал кнопку «Завершить поездку»\n",
    " * date\tдата совершения поездки\n",
    "\n",
    "* Подписки — subscriptions_go.csv\n",
    " * subscription_type\tтип подписки\n",
    " * minute_price\tстоимость одной минуты поездки по данной подписке\n",
    " * start_ride_price\tстоимость начала поездки\n",
    " * subscription_fee\tстоимость ежемесячного платежа"
   ]
  },
  {
   "cell_type": "markdown",
   "id": "1e992593",
   "metadata": {},
   "source": [
    "### Подключение библиотек"
   ]
  },
  {
   "cell_type": "code",
   "execution_count": 1,
   "id": "544fc641",
   "metadata": {},
   "outputs": [],
   "source": [
    "import pandas as pd\n",
    "import numpy as np\n",
    "from matplotlib import pyplot as plt\n",
    "import seaborn as sns\n",
    "from scipy import stats as st\n",
    "from math import factorial\n",
    "from scipy.stats import binom"
   ]
  },
  {
   "cell_type": "markdown",
   "id": "c42cbe00",
   "metadata": {},
   "source": [
    "## Загрузка данных"
   ]
  },
  {
   "cell_type": "markdown",
   "id": "8bd91eee",
   "metadata": {},
   "source": [
    "### Загрузка датафрейма"
   ]
  },
  {
   "cell_type": "code",
   "execution_count": 2,
   "id": "89709ea3",
   "metadata": {},
   "outputs": [],
   "source": [
    "users = pd.read_csv(\"/datasets/users_go.csv\")\n",
    "rides = pd.read_csv(\"/datasets/rides_go.csv\")\n",
    "sub = pd.read_csv(\"/datasets/subscriptions_go.csv\")"
   ]
  },
  {
   "cell_type": "markdown",
   "id": "1ee5baab",
   "metadata": {},
   "source": [
    "### Просмотр датафреймов и их описания"
   ]
  },
  {
   "cell_type": "code",
   "execution_count": 3,
   "id": "f5ff85f6",
   "metadata": {},
   "outputs": [
    {
     "data": {
      "text/html": [
       "<div>\n",
       "<style scoped>\n",
       "    .dataframe tbody tr th:only-of-type {\n",
       "        vertical-align: middle;\n",
       "    }\n",
       "\n",
       "    .dataframe tbody tr th {\n",
       "        vertical-align: top;\n",
       "    }\n",
       "\n",
       "    .dataframe thead th {\n",
       "        text-align: right;\n",
       "    }\n",
       "</style>\n",
       "<table border=\"1\" class=\"dataframe\">\n",
       "  <thead>\n",
       "    <tr style=\"text-align: right;\">\n",
       "      <th></th>\n",
       "      <th>user_id</th>\n",
       "      <th>name</th>\n",
       "      <th>age</th>\n",
       "      <th>city</th>\n",
       "      <th>subscription_type</th>\n",
       "    </tr>\n",
       "  </thead>\n",
       "  <tbody>\n",
       "    <tr>\n",
       "      <th>0</th>\n",
       "      <td>1</td>\n",
       "      <td>Кира</td>\n",
       "      <td>22</td>\n",
       "      <td>Тюмень</td>\n",
       "      <td>ultra</td>\n",
       "    </tr>\n",
       "    <tr>\n",
       "      <th>1</th>\n",
       "      <td>2</td>\n",
       "      <td>Станислав</td>\n",
       "      <td>31</td>\n",
       "      <td>Омск</td>\n",
       "      <td>ultra</td>\n",
       "    </tr>\n",
       "    <tr>\n",
       "      <th>2</th>\n",
       "      <td>3</td>\n",
       "      <td>Алексей</td>\n",
       "      <td>20</td>\n",
       "      <td>Москва</td>\n",
       "      <td>ultra</td>\n",
       "    </tr>\n",
       "    <tr>\n",
       "      <th>3</th>\n",
       "      <td>4</td>\n",
       "      <td>Константин</td>\n",
       "      <td>26</td>\n",
       "      <td>Ростов-на-Дону</td>\n",
       "      <td>ultra</td>\n",
       "    </tr>\n",
       "    <tr>\n",
       "      <th>4</th>\n",
       "      <td>5</td>\n",
       "      <td>Адель</td>\n",
       "      <td>28</td>\n",
       "      <td>Омск</td>\n",
       "      <td>ultra</td>\n",
       "    </tr>\n",
       "    <tr>\n",
       "      <th>5</th>\n",
       "      <td>6</td>\n",
       "      <td>Регина</td>\n",
       "      <td>25</td>\n",
       "      <td>Краснодар</td>\n",
       "      <td>ultra</td>\n",
       "    </tr>\n",
       "    <tr>\n",
       "      <th>6</th>\n",
       "      <td>7</td>\n",
       "      <td>Игорь</td>\n",
       "      <td>23</td>\n",
       "      <td>Омск</td>\n",
       "      <td>ultra</td>\n",
       "    </tr>\n",
       "    <tr>\n",
       "      <th>7</th>\n",
       "      <td>8</td>\n",
       "      <td>Юрий</td>\n",
       "      <td>23</td>\n",
       "      <td>Краснодар</td>\n",
       "      <td>ultra</td>\n",
       "    </tr>\n",
       "    <tr>\n",
       "      <th>8</th>\n",
       "      <td>9</td>\n",
       "      <td>Ян</td>\n",
       "      <td>21</td>\n",
       "      <td>Пятигорск</td>\n",
       "      <td>ultra</td>\n",
       "    </tr>\n",
       "    <tr>\n",
       "      <th>9</th>\n",
       "      <td>10</td>\n",
       "      <td>Валерий</td>\n",
       "      <td>18</td>\n",
       "      <td>Екатеринбург</td>\n",
       "      <td>ultra</td>\n",
       "    </tr>\n",
       "  </tbody>\n",
       "</table>\n",
       "</div>"
      ],
      "text/plain": [
       "   user_id        name  age            city subscription_type\n",
       "0        1        Кира   22          Тюмень             ultra\n",
       "1        2   Станислав   31            Омск             ultra\n",
       "2        3     Алексей   20          Москва             ultra\n",
       "3        4  Константин   26  Ростов-на-Дону             ultra\n",
       "4        5       Адель   28            Омск             ultra\n",
       "5        6      Регина   25       Краснодар             ultra\n",
       "6        7       Игорь   23            Омск             ultra\n",
       "7        8        Юрий   23       Краснодар             ultra\n",
       "8        9          Ян   21       Пятигорск             ultra\n",
       "9       10     Валерий   18    Екатеринбург             ultra"
      ]
     },
     "execution_count": 3,
     "metadata": {},
     "output_type": "execute_result"
    }
   ],
   "source": [
    "users.head(10)"
   ]
  },
  {
   "cell_type": "code",
   "execution_count": 4,
   "id": "b0d0383f",
   "metadata": {},
   "outputs": [
    {
     "name": "stdout",
     "output_type": "stream",
     "text": [
      "<class 'pandas.core.frame.DataFrame'>\n",
      "RangeIndex: 1565 entries, 0 to 1564\n",
      "Data columns (total 5 columns):\n",
      " #   Column             Non-Null Count  Dtype \n",
      "---  ------             --------------  ----- \n",
      " 0   user_id            1565 non-null   int64 \n",
      " 1   name               1565 non-null   object\n",
      " 2   age                1565 non-null   int64 \n",
      " 3   city               1565 non-null   object\n",
      " 4   subscription_type  1565 non-null   object\n",
      "dtypes: int64(2), object(3)\n",
      "memory usage: 61.3+ KB\n"
     ]
    }
   ],
   "source": [
    "users.info()"
   ]
  },
  {
   "cell_type": "code",
   "execution_count": 5,
   "id": "9b199759",
   "metadata": {},
   "outputs": [
    {
     "data": {
      "text/html": [
       "<div>\n",
       "<style scoped>\n",
       "    .dataframe tbody tr th:only-of-type {\n",
       "        vertical-align: middle;\n",
       "    }\n",
       "\n",
       "    .dataframe tbody tr th {\n",
       "        vertical-align: top;\n",
       "    }\n",
       "\n",
       "    .dataframe thead th {\n",
       "        text-align: right;\n",
       "    }\n",
       "</style>\n",
       "<table border=\"1\" class=\"dataframe\">\n",
       "  <thead>\n",
       "    <tr style=\"text-align: right;\">\n",
       "      <th></th>\n",
       "      <th>user_id</th>\n",
       "      <th>distance</th>\n",
       "      <th>duration</th>\n",
       "      <th>date</th>\n",
       "    </tr>\n",
       "  </thead>\n",
       "  <tbody>\n",
       "    <tr>\n",
       "      <th>0</th>\n",
       "      <td>1</td>\n",
       "      <td>4409.919140</td>\n",
       "      <td>25.599769</td>\n",
       "      <td>2021-01-01</td>\n",
       "    </tr>\n",
       "    <tr>\n",
       "      <th>1</th>\n",
       "      <td>1</td>\n",
       "      <td>2617.592153</td>\n",
       "      <td>15.816871</td>\n",
       "      <td>2021-01-18</td>\n",
       "    </tr>\n",
       "    <tr>\n",
       "      <th>2</th>\n",
       "      <td>1</td>\n",
       "      <td>754.159807</td>\n",
       "      <td>6.232113</td>\n",
       "      <td>2021-04-20</td>\n",
       "    </tr>\n",
       "    <tr>\n",
       "      <th>3</th>\n",
       "      <td>1</td>\n",
       "      <td>2694.783254</td>\n",
       "      <td>18.511000</td>\n",
       "      <td>2021-08-11</td>\n",
       "    </tr>\n",
       "    <tr>\n",
       "      <th>4</th>\n",
       "      <td>1</td>\n",
       "      <td>4028.687306</td>\n",
       "      <td>26.265803</td>\n",
       "      <td>2021-08-28</td>\n",
       "    </tr>\n",
       "    <tr>\n",
       "      <th>5</th>\n",
       "      <td>1</td>\n",
       "      <td>2770.890808</td>\n",
       "      <td>16.650138</td>\n",
       "      <td>2021-10-09</td>\n",
       "    </tr>\n",
       "    <tr>\n",
       "      <th>6</th>\n",
       "      <td>1</td>\n",
       "      <td>3039.020292</td>\n",
       "      <td>14.927879</td>\n",
       "      <td>2021-10-19</td>\n",
       "    </tr>\n",
       "    <tr>\n",
       "      <th>7</th>\n",
       "      <td>1</td>\n",
       "      <td>2842.118050</td>\n",
       "      <td>23.117468</td>\n",
       "      <td>2021-11-06</td>\n",
       "    </tr>\n",
       "    <tr>\n",
       "      <th>8</th>\n",
       "      <td>1</td>\n",
       "      <td>3412.690668</td>\n",
       "      <td>15.238072</td>\n",
       "      <td>2021-11-14</td>\n",
       "    </tr>\n",
       "    <tr>\n",
       "      <th>9</th>\n",
       "      <td>1</td>\n",
       "      <td>748.690645</td>\n",
       "      <td>15.041884</td>\n",
       "      <td>2021-11-22</td>\n",
       "    </tr>\n",
       "  </tbody>\n",
       "</table>\n",
       "</div>"
      ],
      "text/plain": [
       "   user_id     distance   duration        date\n",
       "0        1  4409.919140  25.599769  2021-01-01\n",
       "1        1  2617.592153  15.816871  2021-01-18\n",
       "2        1   754.159807   6.232113  2021-04-20\n",
       "3        1  2694.783254  18.511000  2021-08-11\n",
       "4        1  4028.687306  26.265803  2021-08-28\n",
       "5        1  2770.890808  16.650138  2021-10-09\n",
       "6        1  3039.020292  14.927879  2021-10-19\n",
       "7        1  2842.118050  23.117468  2021-11-06\n",
       "8        1  3412.690668  15.238072  2021-11-14\n",
       "9        1   748.690645  15.041884  2021-11-22"
      ]
     },
     "execution_count": 5,
     "metadata": {},
     "output_type": "execute_result"
    }
   ],
   "source": [
    "rides.head(10)"
   ]
  },
  {
   "cell_type": "code",
   "execution_count": 6,
   "id": "c8178f77",
   "metadata": {},
   "outputs": [
    {
     "name": "stdout",
     "output_type": "stream",
     "text": [
      "<class 'pandas.core.frame.DataFrame'>\n",
      "RangeIndex: 18068 entries, 0 to 18067\n",
      "Data columns (total 4 columns):\n",
      " #   Column    Non-Null Count  Dtype  \n",
      "---  ------    --------------  -----  \n",
      " 0   user_id   18068 non-null  int64  \n",
      " 1   distance  18068 non-null  float64\n",
      " 2   duration  18068 non-null  float64\n",
      " 3   date      18068 non-null  object \n",
      "dtypes: float64(2), int64(1), object(1)\n",
      "memory usage: 564.8+ KB\n"
     ]
    }
   ],
   "source": [
    "rides.info()"
   ]
  },
  {
   "cell_type": "code",
   "execution_count": 7,
   "id": "9287e98a",
   "metadata": {},
   "outputs": [
    {
     "data": {
      "text/html": [
       "<div>\n",
       "<style scoped>\n",
       "    .dataframe tbody tr th:only-of-type {\n",
       "        vertical-align: middle;\n",
       "    }\n",
       "\n",
       "    .dataframe tbody tr th {\n",
       "        vertical-align: top;\n",
       "    }\n",
       "\n",
       "    .dataframe thead th {\n",
       "        text-align: right;\n",
       "    }\n",
       "</style>\n",
       "<table border=\"1\" class=\"dataframe\">\n",
       "  <thead>\n",
       "    <tr style=\"text-align: right;\">\n",
       "      <th></th>\n",
       "      <th>subscription_type</th>\n",
       "      <th>minute_price</th>\n",
       "      <th>start_ride_price</th>\n",
       "      <th>subscription_fee</th>\n",
       "    </tr>\n",
       "  </thead>\n",
       "  <tbody>\n",
       "    <tr>\n",
       "      <th>0</th>\n",
       "      <td>free</td>\n",
       "      <td>8</td>\n",
       "      <td>50</td>\n",
       "      <td>0</td>\n",
       "    </tr>\n",
       "    <tr>\n",
       "      <th>1</th>\n",
       "      <td>ultra</td>\n",
       "      <td>6</td>\n",
       "      <td>0</td>\n",
       "      <td>199</td>\n",
       "    </tr>\n",
       "  </tbody>\n",
       "</table>\n",
       "</div>"
      ],
      "text/plain": [
       "  subscription_type  minute_price  start_ride_price  subscription_fee\n",
       "0              free             8                50                 0\n",
       "1             ultra             6                 0               199"
      ]
     },
     "execution_count": 7,
     "metadata": {},
     "output_type": "execute_result"
    }
   ],
   "source": [
    "sub.head(10)"
   ]
  },
  {
   "cell_type": "code",
   "execution_count": 8,
   "id": "51febfdf",
   "metadata": {},
   "outputs": [
    {
     "name": "stdout",
     "output_type": "stream",
     "text": [
      "<class 'pandas.core.frame.DataFrame'>\n",
      "RangeIndex: 2 entries, 0 to 1\n",
      "Data columns (total 4 columns):\n",
      " #   Column             Non-Null Count  Dtype \n",
      "---  ------             --------------  ----- \n",
      " 0   subscription_type  2 non-null      object\n",
      " 1   minute_price       2 non-null      int64 \n",
      " 2   start_ride_price   2 non-null      int64 \n",
      " 3   subscription_fee   2 non-null      int64 \n",
      "dtypes: int64(3), object(1)\n",
      "memory usage: 192.0+ bytes\n"
     ]
    }
   ],
   "source": [
    "sub.info()"
   ]
  },
  {
   "cell_type": "markdown",
   "id": "e95ebca7",
   "metadata": {},
   "source": [
    "## Предобработка данных"
   ]
  },
  {
   "cell_type": "markdown",
   "id": "4d74ded8",
   "metadata": {},
   "source": [
    "### Приведение типов"
   ]
  },
  {
   "cell_type": "code",
   "execution_count": 9,
   "id": "4851e443",
   "metadata": {},
   "outputs": [
    {
     "data": {
      "text/plain": [
       "0   2021-01-01\n",
       "1   2021-01-18\n",
       "2   2021-04-20\n",
       "3   2021-08-11\n",
       "4   2021-08-28\n",
       "Name: date, dtype: datetime64[ns]"
      ]
     },
     "execution_count": 9,
     "metadata": {},
     "output_type": "execute_result"
    }
   ],
   "source": [
    "rides['date'] = pd.to_datetime(rides['date'], format = \"%Y-%m-%d\")\n",
    "rides['date'].head(5)"
   ]
  },
  {
   "cell_type": "code",
   "execution_count": 10,
   "id": "aa7f7d63",
   "metadata": {},
   "outputs": [
    {
     "name": "stdout",
     "output_type": "stream",
     "text": [
      "<class 'pandas.core.frame.DataFrame'>\n",
      "RangeIndex: 18068 entries, 0 to 18067\n",
      "Data columns (total 4 columns):\n",
      " #   Column    Non-Null Count  Dtype         \n",
      "---  ------    --------------  -----         \n",
      " 0   user_id   18068 non-null  int64         \n",
      " 1   distance  18068 non-null  float64       \n",
      " 2   duration  18068 non-null  float64       \n",
      " 3   date      18068 non-null  datetime64[ns]\n",
      "dtypes: datetime64[ns](1), float64(2), int64(1)\n",
      "memory usage: 564.8 KB\n"
     ]
    }
   ],
   "source": [
    "rides.info()"
   ]
  },
  {
   "cell_type": "markdown",
   "id": "91dde234",
   "metadata": {},
   "source": [
    "### Создание столбца с номером месяца"
   ]
  },
  {
   "cell_type": "code",
   "execution_count": 11,
   "id": "09b8ae71",
   "metadata": {},
   "outputs": [
    {
     "data": {
      "text/html": [
       "<div>\n",
       "<style scoped>\n",
       "    .dataframe tbody tr th:only-of-type {\n",
       "        vertical-align: middle;\n",
       "    }\n",
       "\n",
       "    .dataframe tbody tr th {\n",
       "        vertical-align: top;\n",
       "    }\n",
       "\n",
       "    .dataframe thead th {\n",
       "        text-align: right;\n",
       "    }\n",
       "</style>\n",
       "<table border=\"1\" class=\"dataframe\">\n",
       "  <thead>\n",
       "    <tr style=\"text-align: right;\">\n",
       "      <th></th>\n",
       "      <th>user_id</th>\n",
       "      <th>distance</th>\n",
       "      <th>duration</th>\n",
       "      <th>date</th>\n",
       "      <th>month</th>\n",
       "    </tr>\n",
       "  </thead>\n",
       "  <tbody>\n",
       "    <tr>\n",
       "      <th>0</th>\n",
       "      <td>1</td>\n",
       "      <td>4409.919140</td>\n",
       "      <td>25.599769</td>\n",
       "      <td>2021-01-01</td>\n",
       "      <td>1</td>\n",
       "    </tr>\n",
       "    <tr>\n",
       "      <th>1</th>\n",
       "      <td>1</td>\n",
       "      <td>2617.592153</td>\n",
       "      <td>15.816871</td>\n",
       "      <td>2021-01-18</td>\n",
       "      <td>1</td>\n",
       "    </tr>\n",
       "    <tr>\n",
       "      <th>2</th>\n",
       "      <td>1</td>\n",
       "      <td>754.159807</td>\n",
       "      <td>6.232113</td>\n",
       "      <td>2021-04-20</td>\n",
       "      <td>4</td>\n",
       "    </tr>\n",
       "    <tr>\n",
       "      <th>3</th>\n",
       "      <td>1</td>\n",
       "      <td>2694.783254</td>\n",
       "      <td>18.511000</td>\n",
       "      <td>2021-08-11</td>\n",
       "      <td>8</td>\n",
       "    </tr>\n",
       "    <tr>\n",
       "      <th>4</th>\n",
       "      <td>1</td>\n",
       "      <td>4028.687306</td>\n",
       "      <td>26.265803</td>\n",
       "      <td>2021-08-28</td>\n",
       "      <td>8</td>\n",
       "    </tr>\n",
       "  </tbody>\n",
       "</table>\n",
       "</div>"
      ],
      "text/plain": [
       "   user_id     distance   duration       date  month\n",
       "0        1  4409.919140  25.599769 2021-01-01      1\n",
       "1        1  2617.592153  15.816871 2021-01-18      1\n",
       "2        1   754.159807   6.232113 2021-04-20      4\n",
       "3        1  2694.783254  18.511000 2021-08-11      8\n",
       "4        1  4028.687306  26.265803 2021-08-28      8"
      ]
     },
     "execution_count": 11,
     "metadata": {},
     "output_type": "execute_result"
    }
   ],
   "source": [
    "rides['month'] = pd.DatetimeIndex(rides['date']).month\n",
    "rides.head()"
   ]
  },
  {
   "cell_type": "markdown",
   "id": "3d954a3a",
   "metadata": {},
   "source": [
    "### Проверка на аномалии"
   ]
  },
  {
   "cell_type": "code",
   "execution_count": 12,
   "id": "076aaa3f",
   "metadata": {},
   "outputs": [
    {
     "data": {
      "image/png": "[encoded data removed]",
      "text/plain": [
       "<Figure size 432x288 with 1 Axes>"
      ]
     },
     "metadata": {
      "needs_background": "light"
     },
     "output_type": "display_data"
    }
   ],
   "source": [
    "rides['distance'].hist(bins = 100)\n",
    "plt.title('Рсапределение дальности поездок по пользователям') \n",
    "plt.xlabel('Дистанция')           \n",
    "plt.ylabel('Количество')           \n",
    "plt.show()"
   ]
  },
  {
   "cell_type": "code",
   "execution_count": 13,
   "id": "064fd7e6",
   "metadata": {},
   "outputs": [
    {
     "data": {
      "image/png": "[encoded data removed]",
      "text/plain": [
       "<Figure size 432x288 with 1 Axes>"
      ]
     },
     "metadata": {
      "needs_background": "light"
     },
     "output_type": "display_data"
    }
   ],
   "source": [
    "rides['duration'].hist(bins=60)\n",
    "plt.title('Рсапределение длительности поездок по пользователям') \n",
    "plt.xlabel('Длительность')           \n",
    "plt.ylabel('Количество')           \n",
    "plt.show()"
   ]
  },
  {
   "cell_type": "code",
   "execution_count": 14,
   "id": "86ca8605",
   "metadata": {},
   "outputs": [
    {
     "data": {
      "image/png": "[encoded data removed]",
      "text/plain": [
       "<Figure size 432x288 with 1 Axes>"
      ]
     },
     "metadata": {
      "needs_background": "light"
     },
     "output_type": "display_data"
    }
   ],
   "source": [
    "rides['duration'].hist(range=(0, 3))\n",
    "plt.title('Рсапределение коротких поездок по пользователям') \n",
    "plt.xlabel('Длительность')           \n",
    "plt.ylabel('Количество')           \n",
    "plt.show()"
   ]
  },
  {
   "cell_type": "markdown",
   "id": "8ca0eb50",
   "metadata": {},
   "source": [
    "Мы выявили около 80 поездок длительностью около 30 секунд, что не особенно имеет смысл (взять самокат - 10 секунд, сдать - 10 секунд, на катание всего 10 секунд???), так что мы их удалим"
   ]
  },
  {
   "cell_type": "code",
   "execution_count": 15,
   "id": "8f68f0b1",
   "metadata": {},
   "outputs": [
    {
     "name": "stdout",
     "output_type": "stream",
     "text": [
      "<class 'pandas.core.frame.DataFrame'>\n",
      "Int64Index: 17973 entries, 0 to 18067\n",
      "Data columns (total 5 columns):\n",
      " #   Column    Non-Null Count  Dtype         \n",
      "---  ------    --------------  -----         \n",
      " 0   user_id   17973 non-null  int64         \n",
      " 1   distance  17973 non-null  float64       \n",
      " 2   duration  17973 non-null  float64       \n",
      " 3   date      17973 non-null  datetime64[ns]\n",
      " 4   month     17973 non-null  int64         \n",
      "dtypes: datetime64[ns](1), float64(2), int64(2)\n",
      "memory usage: 842.5 KB\n"
     ]
    }
   ],
   "source": [
    "rides = rides[rides['duration']>2]\n",
    "rides.info()"
   ]
  },
  {
   "cell_type": "markdown",
   "id": "cdb51bda",
   "metadata": {},
   "source": [
    "### Обработка дубликатов"
   ]
  },
  {
   "cell_type": "markdown",
   "id": "315a15e2",
   "metadata": {},
   "source": [
    "#### Пользователи"
   ]
  },
  {
   "cell_type": "code",
   "execution_count": 16,
   "id": "06ece5a2",
   "metadata": {},
   "outputs": [
    {
     "data": {
      "text/html": [
       "<div>\n",
       "<style scoped>\n",
       "    .dataframe tbody tr th:only-of-type {\n",
       "        vertical-align: middle;\n",
       "    }\n",
       "\n",
       "    .dataframe tbody tr th {\n",
       "        vertical-align: top;\n",
       "    }\n",
       "\n",
       "    .dataframe thead th {\n",
       "        text-align: right;\n",
       "    }\n",
       "</style>\n",
       "<table border=\"1\" class=\"dataframe\">\n",
       "  <thead>\n",
       "    <tr style=\"text-align: right;\">\n",
       "      <th></th>\n",
       "      <th>user_id</th>\n",
       "      <th>name</th>\n",
       "      <th>age</th>\n",
       "      <th>city</th>\n",
       "      <th>subscription_type</th>\n",
       "    </tr>\n",
       "  </thead>\n",
       "  <tbody>\n",
       "    <tr>\n",
       "      <th>15</th>\n",
       "      <td>16</td>\n",
       "      <td>Амалия</td>\n",
       "      <td>27</td>\n",
       "      <td>Краснодар</td>\n",
       "      <td>ultra</td>\n",
       "    </tr>\n",
       "    <tr>\n",
       "      <th>1535</th>\n",
       "      <td>16</td>\n",
       "      <td>Амалия</td>\n",
       "      <td>27</td>\n",
       "      <td>Краснодар</td>\n",
       "      <td>ultra</td>\n",
       "    </tr>\n",
       "    <tr>\n",
       "      <th>42</th>\n",
       "      <td>43</td>\n",
       "      <td>Стефания</td>\n",
       "      <td>22</td>\n",
       "      <td>Омск</td>\n",
       "      <td>ultra</td>\n",
       "    </tr>\n",
       "    <tr>\n",
       "      <th>1539</th>\n",
       "      <td>43</td>\n",
       "      <td>Стефания</td>\n",
       "      <td>22</td>\n",
       "      <td>Омск</td>\n",
       "      <td>ultra</td>\n",
       "    </tr>\n",
       "    <tr>\n",
       "      <th>1563</th>\n",
       "      <td>47</td>\n",
       "      <td>Юрий</td>\n",
       "      <td>28</td>\n",
       "      <td>Тюмень</td>\n",
       "      <td>ultra</td>\n",
       "    </tr>\n",
       "    <tr>\n",
       "      <th>...</th>\n",
       "      <td>...</td>\n",
       "      <td>...</td>\n",
       "      <td>...</td>\n",
       "      <td>...</td>\n",
       "      <td>...</td>\n",
       "    </tr>\n",
       "    <tr>\n",
       "      <th>1554</th>\n",
       "      <td>1198</td>\n",
       "      <td>Демид</td>\n",
       "      <td>29</td>\n",
       "      <td>Ростов-на-Дону</td>\n",
       "      <td>free</td>\n",
       "    </tr>\n",
       "    <tr>\n",
       "      <th>1558</th>\n",
       "      <td>1237</td>\n",
       "      <td>Евгения</td>\n",
       "      <td>23</td>\n",
       "      <td>Тюмень</td>\n",
       "      <td>free</td>\n",
       "    </tr>\n",
       "    <tr>\n",
       "      <th>1236</th>\n",
       "      <td>1237</td>\n",
       "      <td>Евгения</td>\n",
       "      <td>23</td>\n",
       "      <td>Тюмень</td>\n",
       "      <td>free</td>\n",
       "    </tr>\n",
       "    <tr>\n",
       "      <th>1544</th>\n",
       "      <td>1245</td>\n",
       "      <td>Регина</td>\n",
       "      <td>27</td>\n",
       "      <td>Пятигорск</td>\n",
       "      <td>free</td>\n",
       "    </tr>\n",
       "    <tr>\n",
       "      <th>1244</th>\n",
       "      <td>1245</td>\n",
       "      <td>Регина</td>\n",
       "      <td>27</td>\n",
       "      <td>Пятигорск</td>\n",
       "      <td>free</td>\n",
       "    </tr>\n",
       "  </tbody>\n",
       "</table>\n",
       "<p>62 rows × 5 columns</p>\n",
       "</div>"
      ],
      "text/plain": [
       "      user_id      name  age            city subscription_type\n",
       "15         16    Амалия   27       Краснодар             ultra\n",
       "1535       16    Амалия   27       Краснодар             ultra\n",
       "42         43  Стефания   22            Омск             ultra\n",
       "1539       43  Стефания   22            Омск             ultra\n",
       "1563       47      Юрий   28          Тюмень             ultra\n",
       "...       ...       ...  ...             ...               ...\n",
       "1554     1198     Демид   29  Ростов-на-Дону              free\n",
       "1558     1237   Евгения   23          Тюмень              free\n",
       "1236     1237   Евгения   23          Тюмень              free\n",
       "1544     1245    Регина   27       Пятигорск              free\n",
       "1244     1245    Регина   27       Пятигорск              free\n",
       "\n",
       "[62 rows x 5 columns]"
      ]
     },
     "execution_count": 16,
     "metadata": {},
     "output_type": "execute_result"
    }
   ],
   "source": [
    "users[users.duplicated(keep = False)].sort_values('user_id')"
   ]
  },
  {
   "cell_type": "markdown",
   "id": "3efb6e75",
   "metadata": {},
   "source": [
    "Мы получили полные повторения некоторых пользователей, оценим их долю в датафрейме"
   ]
  },
  {
   "cell_type": "code",
   "execution_count": 17,
   "id": "795bf26f",
   "metadata": {},
   "outputs": [
    {
     "data": {
      "text/plain": [
       "0.019808306709265176"
      ]
     },
     "execution_count": 17,
     "metadata": {},
     "output_type": "execute_result"
    }
   ],
   "source": [
    "users.duplicated().sum()/len(users['user_id'])"
   ]
  },
  {
   "cell_type": "markdown",
   "id": "6e42696f",
   "metadata": {},
   "source": [
    "Доля состоавляет всего 1.98%, поэтому их можно удалить из датасета"
   ]
  },
  {
   "cell_type": "code",
   "execution_count": 18,
   "id": "ac79072c",
   "metadata": {},
   "outputs": [
    {
     "data": {
      "text/plain": [
       "0"
      ]
     },
     "execution_count": 18,
     "metadata": {},
     "output_type": "execute_result"
    }
   ],
   "source": [
    "users = users.drop_duplicates()\n",
    "users.duplicated().sum()"
   ]
  },
  {
   "cell_type": "code",
   "execution_count": 19,
   "id": "fc3f4ce9",
   "metadata": {},
   "outputs": [
    {
     "name": "stdout",
     "output_type": "stream",
     "text": [
      "<class 'pandas.core.frame.DataFrame'>\n",
      "Int64Index: 1534 entries, 0 to 1533\n",
      "Data columns (total 5 columns):\n",
      " #   Column             Non-Null Count  Dtype \n",
      "---  ------             --------------  ----- \n",
      " 0   user_id            1534 non-null   int64 \n",
      " 1   name               1534 non-null   object\n",
      " 2   age                1534 non-null   int64 \n",
      " 3   city               1534 non-null   object\n",
      " 4   subscription_type  1534 non-null   object\n",
      "dtypes: int64(2), object(3)\n",
      "memory usage: 71.9+ KB\n"
     ]
    }
   ],
   "source": [
    "users.info()"
   ]
  },
  {
   "cell_type": "markdown",
   "id": "712f4d95",
   "metadata": {},
   "source": [
    "#### Поездки"
   ]
  },
  {
   "cell_type": "markdown",
   "id": "fbf81e52",
   "metadata": {},
   "source": [
    "В данном датафрейме нет параметров, которые могли бы содержать дубликаты"
   ]
  },
  {
   "cell_type": "code",
   "execution_count": 20,
   "id": "bab2008b",
   "metadata": {},
   "outputs": [
    {
     "data": {
      "text/plain": [
       "0"
      ]
     },
     "execution_count": 20,
     "metadata": {},
     "output_type": "execute_result"
    }
   ],
   "source": [
    "rides.duplicated().sum()"
   ]
  },
  {
   "cell_type": "markdown",
   "id": "4c5d55cc",
   "metadata": {},
   "source": [
    "#### Подписки"
   ]
  },
  {
   "cell_type": "markdown",
   "id": "4159fa35",
   "metadata": {},
   "source": [
    "В данном датафрейме ситуация аналогична датафрейму поездок"
   ]
  },
  {
   "cell_type": "code",
   "execution_count": 21,
   "id": "37fdede4",
   "metadata": {},
   "outputs": [
    {
     "data": {
      "text/plain": [
       "0"
      ]
     },
     "execution_count": 21,
     "metadata": {},
     "output_type": "execute_result"
    }
   ],
   "source": [
    "sub.duplicated().sum()"
   ]
  },
  {
   "cell_type": "markdown",
   "id": "f156c001",
   "metadata": {},
   "source": [
    "### Обработка пропусков"
   ]
  },
  {
   "cell_type": "markdown",
   "id": "059ebe75",
   "metadata": {},
   "source": [
    "Из пункта 2.2 можно сделать выводы, что данные датафреймы не содержат пропусков, необходимых для обработки"
   ]
  },
  {
   "cell_type": "markdown",
   "id": "2278d8f7",
   "metadata": {},
   "source": [
    "### Выводы"
   ]
  },
  {
   "cell_type": "markdown",
   "id": "4e21d6bd",
   "metadata": {},
   "source": [
    "При обработке данных мы преобразовали даты к удобному для работы формату, а также избавились от полных дубликатов пользователей. \n",
    "\n",
    "Также мы проверили числовые данные о поездках на аномалии и выявили, что их распределение близко к нормальному, аномалий практически нет. Можно выявить, что поездки в районе 1000 метров создают локальный максимум, который важно также учитывать.\n",
    "\n",
    "Также была выявлена аномалия с очень короткими поездками, которые мы удалили"
   ]
  },
  {
   "cell_type": "markdown",
   "id": "212593c7",
   "metadata": {},
   "source": [
    "## Исследовательский анализ данных"
   ]
  },
  {
   "cell_type": "markdown",
   "id": "48851d66",
   "metadata": {},
   "source": [
    "### Частота встречаемости городов"
   ]
  },
  {
   "cell_type": "code",
   "execution_count": 22,
   "id": "5c202d83",
   "metadata": {},
   "outputs": [
    {
     "data": {
      "text/plain": [
       "city\n",
       "Пятигорск         219\n",
       "Екатеринбург      204\n",
       "Ростов-на-Дону    198\n",
       "Краснодар         193\n",
       "Сочи              189\n",
       "Омск              183\n",
       "Тюмень            180\n",
       "Москва            168\n",
       "Name: user_id, dtype: int64"
      ]
     },
     "execution_count": 22,
     "metadata": {},
     "output_type": "execute_result"
    }
   ],
   "source": [
    "users.pivot_table(index = \"city\", aggfunc = \"count\")[\"user_id\"].sort_values(ascending = False)"
   ]
  },
  {
   "cell_type": "code",
   "execution_count": 23,
   "id": "a6f2be52",
   "metadata": {},
   "outputs": [
    {
     "data": {
      "image/png": "[encoded data removed]",
      "text/plain": [
       "<Figure size 720x360 with 1 Axes>"
      ]
     },
     "metadata": {
      "needs_background": "light"
     },
     "output_type": "display_data"
    }
   ],
   "source": [
    "cities = users.pivot_table(index = \"city\", aggfunc = \"count\")[\"user_id\"].sort_values(ascending = False)\n",
    "\n",
    "plt.figure(figsize=(10, 5))\n",
    "plt.bar(cities.index, cities)\n",
    "plt.xticks(rotation=45, ha='right')\n",
    "plt.title('Распределение пользователей по городам')\n",
    "plt.tight_layout()\n",
    "plt.show()"
   ]
  },
  {
   "cell_type": "markdown",
   "id": "7fc8173b",
   "metadata": {},
   "source": [
    "### Пользователи с подпиской\\без подписки"
   ]
  },
  {
   "cell_type": "code",
   "execution_count": 24,
   "id": "394535b9",
   "metadata": {},
   "outputs": [
    {
     "data": {
      "text/plain": [
       "subscription_type\n",
       "free     0.544329\n",
       "ultra    0.455671\n",
       "Name: user_id, dtype: float64"
      ]
     },
     "execution_count": 24,
     "metadata": {},
     "output_type": "execute_result"
    }
   ],
   "source": [
    "users.pivot_table(index = \"subscription_type\", aggfunc = \"count\")['user_id']/len(users[\"user_id\"])"
   ]
  },
  {
   "cell_type": "code",
   "execution_count": 25,
   "id": "5087b562",
   "metadata": {},
   "outputs": [
    {
     "data": {
      "image/png": "[encoded data removed]",
      "text/plain": [
       "<Figure size 432x288 with 1 Axes>"
      ]
     },
     "metadata": {},
     "output_type": "display_data"
    }
   ],
   "source": [
    "sub_type = users.pivot_table(index = \"subscription_type\", aggfunc = \"count\")['user_id']\n",
    "plt.pie(sub_type, labels = sub_type.index)\n",
    "plt.title('Разделение пользователей по признаку подписки')            \n",
    "plt.show()"
   ]
  },
  {
   "cell_type": "markdown",
   "id": "4b7e31d8",
   "metadata": {},
   "source": [
    "### Возраст пользователей"
   ]
  },
  {
   "cell_type": "code",
   "execution_count": 26,
   "id": "92260e0b",
   "metadata": {},
   "outputs": [
    {
     "data": {
      "text/plain": [
       "age\n",
       "12      4\n",
       "13      8\n",
       "14      9\n",
       "15     13\n",
       "16     19\n",
       "17     26\n",
       "18     46\n",
       "19     47\n",
       "20     71\n",
       "21     93\n",
       "22    119\n",
       "23    129\n",
       "24    132\n",
       "25    145\n",
       "26    131\n",
       "27    119\n",
       "28    112\n",
       "29     68\n",
       "30     68\n",
       "31     48\n",
       "32     41\n",
       "33     39\n",
       "34     19\n",
       "35     15\n",
       "36      6\n",
       "37      2\n",
       "38      3\n",
       "39      1\n",
       "43      1\n",
       "Name: user_id, dtype: int64"
      ]
     },
     "execution_count": 26,
     "metadata": {},
     "output_type": "execute_result"
    }
   ],
   "source": [
    "users.groupby('age').count()['user_id']"
   ]
  },
  {
   "cell_type": "code",
   "execution_count": 27,
   "id": "ae49a057",
   "metadata": {},
   "outputs": [
    {
     "data": {
      "text/plain": [
       "count    1534.000000\n",
       "mean       24.903520\n",
       "std         4.572367\n",
       "min        12.000000\n",
       "25%        22.000000\n",
       "50%        25.000000\n",
       "75%        28.000000\n",
       "max        43.000000\n",
       "Name: age, dtype: float64"
      ]
     },
     "execution_count": 27,
     "metadata": {},
     "output_type": "execute_result"
    }
   ],
   "source": [
    "users['age'].describe()"
   ]
  },
  {
   "cell_type": "code",
   "execution_count": 28,
   "id": "308072ac",
   "metadata": {},
   "outputs": [
    {
     "data": {
      "image/png": "[encoded data removed]",
      "text/plain": [
       "<Figure size 432x288 with 1 Axes>"
      ]
     },
     "metadata": {
      "needs_background": "light"
     },
     "output_type": "display_data"
    }
   ],
   "source": [
    "users['age'].hist(bins = 30)\n",
    "plt.title('Распределение возрастов пользователей') \n",
    "plt.xlabel('Возраст')           \n",
    "plt.ylabel('Количество')           \n",
    "plt.show()"
   ]
  },
  {
   "cell_type": "markdown",
   "id": "449b05f6",
   "metadata": {},
   "source": [
    "### Расстояние за одну поездку"
   ]
  },
  {
   "cell_type": "code",
   "execution_count": 29,
   "id": "5ec92ef8",
   "metadata": {},
   "outputs": [
    {
     "data": {
      "text/plain": [
       "count    17973.000000\n",
       "mean      3059.863833\n",
       "std       1108.814612\n",
       "min          0.855683\n",
       "25%       2538.839628\n",
       "50%       3129.029255\n",
       "75%       3762.636244\n",
       "max       7066.003772\n",
       "Name: distance, dtype: float64"
      ]
     },
     "execution_count": 29,
     "metadata": {},
     "output_type": "execute_result"
    }
   ],
   "source": [
    "rides['distance'].describe()"
   ]
  },
  {
   "cell_type": "code",
   "execution_count": 30,
   "id": "96fd61bf",
   "metadata": {},
   "outputs": [
    {
     "data": {
      "image/png": "[encoded data removed]",
      "text/plain": [
       "<Figure size 432x288 with 1 Axes>"
      ]
     },
     "metadata": {
      "needs_background": "light"
     },
     "output_type": "display_data"
    }
   ],
   "source": [
    "rides['distance'].hist(bins = 100)\n",
    "plt.title('Рсапределение дистанции поездок по пользователям') \n",
    "plt.xlabel('Дистанция')           \n",
    "plt.ylabel('Количество')           \n",
    "plt.show()"
   ]
  },
  {
   "cell_type": "markdown",
   "id": "13090fbc",
   "metadata": {},
   "source": [
    "### Продолжительность поездок"
   ]
  },
  {
   "cell_type": "code",
   "execution_count": 31,
   "id": "7970e83a",
   "metadata": {},
   "outputs": [
    {
     "data": {
      "text/plain": [
       "count    17973.000000\n",
       "mean        17.896480\n",
       "std          5.975424\n",
       "min          2.035632\n",
       "25%         13.670439\n",
       "50%         17.714122\n",
       "75%         21.747016\n",
       "max         40.823963\n",
       "Name: duration, dtype: float64"
      ]
     },
     "execution_count": 31,
     "metadata": {},
     "output_type": "execute_result"
    }
   ],
   "source": [
    "rides['duration'].describe()"
   ]
  },
  {
   "cell_type": "code",
   "execution_count": 32,
   "id": "0d4d881c",
   "metadata": {},
   "outputs": [
    {
     "data": {
      "image/png": "[encoded data removed]",
      "text/plain": [
       "<Figure size 432x288 with 1 Axes>"
      ]
     },
     "metadata": {
      "needs_background": "light"
     },
     "output_type": "display_data"
    }
   ],
   "source": [
    "rides['duration'].hist(bins = 60)\n",
    "plt.title('Рсапределение длительности поездок по пользователям') \n",
    "plt.xlabel('Длительность')           \n",
    "plt.ylabel('Количество')           \n",
    "plt.show()"
   ]
  },
  {
   "cell_type": "markdown",
   "id": "c709fffc",
   "metadata": {},
   "source": [
    "### Вывод"
   ]
  },
  {
   "cell_type": "markdown",
   "id": "9cb756f3",
   "metadata": {},
   "source": [
    "Проведя исследовательский анализ данных, мы пришли к следующим выводам:\n",
    "1. Самый популярный город - Пятигорск, в нем больше всего наших клиентов\n",
    "2. Соотношение пользователей с подпиской и без нее примерно равно 55% и 45% соответственно\n",
    "3. Основная возрастная группа пользователей - молодые люди от 22 до 28 лет\n",
    "4. Средняя длина поездки - 3000 метров, но также можно наблюдать локальный подъем в области 1000 метров\n",
    "5. Средняя длительность поездки - 17 минут"
   ]
  },
  {
   "cell_type": "markdown",
   "id": "e4566bf8",
   "metadata": {},
   "source": [
    "## Объединение данных"
   ]
  },
  {
   "cell_type": "markdown",
   "id": "557aec7f",
   "metadata": {},
   "source": [
    "### Объединение датафреймов"
   ]
  },
  {
   "cell_type": "code",
   "execution_count": 33,
   "id": "c085ffef",
   "metadata": {},
   "outputs": [],
   "source": [
    "merged_df = users.merge(rides, on = 'user_id', how='left')"
   ]
  },
  {
   "cell_type": "code",
   "execution_count": 34,
   "id": "ed7ea279",
   "metadata": {},
   "outputs": [],
   "source": [
    "merged_df = merged_df.merge(sub, on = 'subscription_type', how = \"left\")"
   ]
  },
  {
   "cell_type": "code",
   "execution_count": 35,
   "id": "96240340",
   "metadata": {},
   "outputs": [
    {
     "name": "stdout",
     "output_type": "stream",
     "text": [
      "<class 'pandas.core.frame.DataFrame'>\n",
      "Int64Index: 17973 entries, 0 to 17972\n",
      "Data columns (total 12 columns):\n",
      " #   Column             Non-Null Count  Dtype         \n",
      "---  ------             --------------  -----         \n",
      " 0   user_id            17973 non-null  int64         \n",
      " 1   name               17973 non-null  object        \n",
      " 2   age                17973 non-null  int64         \n",
      " 3   city               17973 non-null  object        \n",
      " 4   subscription_type  17973 non-null  object        \n",
      " 5   distance           17973 non-null  float64       \n",
      " 6   duration           17973 non-null  float64       \n",
      " 7   date               17973 non-null  datetime64[ns]\n",
      " 8   month              17973 non-null  int64         \n",
      " 9   minute_price       17973 non-null  int64         \n",
      " 10  start_ride_price   17973 non-null  int64         \n",
      " 11  subscription_fee   17973 non-null  int64         \n",
      "dtypes: datetime64[ns](1), float64(2), int64(6), object(3)\n",
      "memory usage: 1.8+ MB\n"
     ]
    }
   ],
   "source": [
    "merged_df.info()"
   ]
  },
  {
   "cell_type": "code",
   "execution_count": 36,
   "id": "bf5108da",
   "metadata": {},
   "outputs": [
    {
     "data": {
      "text/html": [
       "<div>\n",
       "<style scoped>\n",
       "    .dataframe tbody tr th:only-of-type {\n",
       "        vertical-align: middle;\n",
       "    }\n",
       "\n",
       "    .dataframe tbody tr th {\n",
       "        vertical-align: top;\n",
       "    }\n",
       "\n",
       "    .dataframe thead th {\n",
       "        text-align: right;\n",
       "    }\n",
       "</style>\n",
       "<table border=\"1\" class=\"dataframe\">\n",
       "  <thead>\n",
       "    <tr style=\"text-align: right;\">\n",
       "      <th></th>\n",
       "      <th>user_id</th>\n",
       "      <th>name</th>\n",
       "      <th>age</th>\n",
       "      <th>city</th>\n",
       "      <th>subscription_type</th>\n",
       "      <th>distance</th>\n",
       "      <th>duration</th>\n",
       "      <th>date</th>\n",
       "      <th>month</th>\n",
       "      <th>minute_price</th>\n",
       "      <th>start_ride_price</th>\n",
       "      <th>subscription_fee</th>\n",
       "    </tr>\n",
       "  </thead>\n",
       "  <tbody>\n",
       "    <tr>\n",
       "      <th>0</th>\n",
       "      <td>1</td>\n",
       "      <td>Кира</td>\n",
       "      <td>22</td>\n",
       "      <td>Тюмень</td>\n",
       "      <td>ultra</td>\n",
       "      <td>4409.919140</td>\n",
       "      <td>25.599769</td>\n",
       "      <td>2021-01-01</td>\n",
       "      <td>1</td>\n",
       "      <td>6</td>\n",
       "      <td>0</td>\n",
       "      <td>199</td>\n",
       "    </tr>\n",
       "    <tr>\n",
       "      <th>1</th>\n",
       "      <td>1</td>\n",
       "      <td>Кира</td>\n",
       "      <td>22</td>\n",
       "      <td>Тюмень</td>\n",
       "      <td>ultra</td>\n",
       "      <td>2617.592153</td>\n",
       "      <td>15.816871</td>\n",
       "      <td>2021-01-18</td>\n",
       "      <td>1</td>\n",
       "      <td>6</td>\n",
       "      <td>0</td>\n",
       "      <td>199</td>\n",
       "    </tr>\n",
       "    <tr>\n",
       "      <th>2</th>\n",
       "      <td>1</td>\n",
       "      <td>Кира</td>\n",
       "      <td>22</td>\n",
       "      <td>Тюмень</td>\n",
       "      <td>ultra</td>\n",
       "      <td>754.159807</td>\n",
       "      <td>6.232113</td>\n",
       "      <td>2021-04-20</td>\n",
       "      <td>4</td>\n",
       "      <td>6</td>\n",
       "      <td>0</td>\n",
       "      <td>199</td>\n",
       "    </tr>\n",
       "    <tr>\n",
       "      <th>3</th>\n",
       "      <td>1</td>\n",
       "      <td>Кира</td>\n",
       "      <td>22</td>\n",
       "      <td>Тюмень</td>\n",
       "      <td>ultra</td>\n",
       "      <td>2694.783254</td>\n",
       "      <td>18.511000</td>\n",
       "      <td>2021-08-11</td>\n",
       "      <td>8</td>\n",
       "      <td>6</td>\n",
       "      <td>0</td>\n",
       "      <td>199</td>\n",
       "    </tr>\n",
       "    <tr>\n",
       "      <th>4</th>\n",
       "      <td>1</td>\n",
       "      <td>Кира</td>\n",
       "      <td>22</td>\n",
       "      <td>Тюмень</td>\n",
       "      <td>ultra</td>\n",
       "      <td>4028.687306</td>\n",
       "      <td>26.265803</td>\n",
       "      <td>2021-08-28</td>\n",
       "      <td>8</td>\n",
       "      <td>6</td>\n",
       "      <td>0</td>\n",
       "      <td>199</td>\n",
       "    </tr>\n",
       "    <tr>\n",
       "      <th>5</th>\n",
       "      <td>1</td>\n",
       "      <td>Кира</td>\n",
       "      <td>22</td>\n",
       "      <td>Тюмень</td>\n",
       "      <td>ultra</td>\n",
       "      <td>2770.890808</td>\n",
       "      <td>16.650138</td>\n",
       "      <td>2021-10-09</td>\n",
       "      <td>10</td>\n",
       "      <td>6</td>\n",
       "      <td>0</td>\n",
       "      <td>199</td>\n",
       "    </tr>\n",
       "    <tr>\n",
       "      <th>6</th>\n",
       "      <td>1</td>\n",
       "      <td>Кира</td>\n",
       "      <td>22</td>\n",
       "      <td>Тюмень</td>\n",
       "      <td>ultra</td>\n",
       "      <td>3039.020292</td>\n",
       "      <td>14.927879</td>\n",
       "      <td>2021-10-19</td>\n",
       "      <td>10</td>\n",
       "      <td>6</td>\n",
       "      <td>0</td>\n",
       "      <td>199</td>\n",
       "    </tr>\n",
       "    <tr>\n",
       "      <th>7</th>\n",
       "      <td>1</td>\n",
       "      <td>Кира</td>\n",
       "      <td>22</td>\n",
       "      <td>Тюмень</td>\n",
       "      <td>ultra</td>\n",
       "      <td>2842.118050</td>\n",
       "      <td>23.117468</td>\n",
       "      <td>2021-11-06</td>\n",
       "      <td>11</td>\n",
       "      <td>6</td>\n",
       "      <td>0</td>\n",
       "      <td>199</td>\n",
       "    </tr>\n",
       "    <tr>\n",
       "      <th>8</th>\n",
       "      <td>1</td>\n",
       "      <td>Кира</td>\n",
       "      <td>22</td>\n",
       "      <td>Тюмень</td>\n",
       "      <td>ultra</td>\n",
       "      <td>3412.690668</td>\n",
       "      <td>15.238072</td>\n",
       "      <td>2021-11-14</td>\n",
       "      <td>11</td>\n",
       "      <td>6</td>\n",
       "      <td>0</td>\n",
       "      <td>199</td>\n",
       "    </tr>\n",
       "    <tr>\n",
       "      <th>9</th>\n",
       "      <td>1</td>\n",
       "      <td>Кира</td>\n",
       "      <td>22</td>\n",
       "      <td>Тюмень</td>\n",
       "      <td>ultra</td>\n",
       "      <td>748.690645</td>\n",
       "      <td>15.041884</td>\n",
       "      <td>2021-11-22</td>\n",
       "      <td>11</td>\n",
       "      <td>6</td>\n",
       "      <td>0</td>\n",
       "      <td>199</td>\n",
       "    </tr>\n",
       "  </tbody>\n",
       "</table>\n",
       "</div>"
      ],
      "text/plain": [
       "   user_id  name  age    city subscription_type     distance   duration  \\\n",
       "0        1  Кира   22  Тюмень             ultra  4409.919140  25.599769   \n",
       "1        1  Кира   22  Тюмень             ultra  2617.592153  15.816871   \n",
       "2        1  Кира   22  Тюмень             ultra   754.159807   6.232113   \n",
       "3        1  Кира   22  Тюмень             ultra  2694.783254  18.511000   \n",
       "4        1  Кира   22  Тюмень             ultra  4028.687306  26.265803   \n",
       "5        1  Кира   22  Тюмень             ultra  2770.890808  16.650138   \n",
       "6        1  Кира   22  Тюмень             ultra  3039.020292  14.927879   \n",
       "7        1  Кира   22  Тюмень             ultra  2842.118050  23.117468   \n",
       "8        1  Кира   22  Тюмень             ultra  3412.690668  15.238072   \n",
       "9        1  Кира   22  Тюмень             ultra   748.690645  15.041884   \n",
       "\n",
       "        date  month  minute_price  start_ride_price  subscription_fee  \n",
       "0 2021-01-01      1             6                 0               199  \n",
       "1 2021-01-18      1             6                 0               199  \n",
       "2 2021-04-20      4             6                 0               199  \n",
       "3 2021-08-11      8             6                 0               199  \n",
       "4 2021-08-28      8             6                 0               199  \n",
       "5 2021-10-09     10             6                 0               199  \n",
       "6 2021-10-19     10             6                 0               199  \n",
       "7 2021-11-06     11             6                 0               199  \n",
       "8 2021-11-14     11             6                 0               199  \n",
       "9 2021-11-22     11             6                 0               199  "
      ]
     },
     "execution_count": 36,
     "metadata": {},
     "output_type": "execute_result"
    }
   ],
   "source": [
    "merged_df.head(10)"
   ]
  },
  {
   "cell_type": "markdown",
   "id": "fa6ac9b9",
   "metadata": {},
   "source": [
    "### Создание двух дополнительных датафреймов"
   ]
  },
  {
   "cell_type": "markdown",
   "id": "37d893ec",
   "metadata": {},
   "source": [
    "#### Без подписки"
   ]
  },
  {
   "cell_type": "code",
   "execution_count": 37,
   "id": "4796f7bf",
   "metadata": {},
   "outputs": [
    {
     "name": "stdout",
     "output_type": "stream",
     "text": [
      "<class 'pandas.core.frame.DataFrame'>\n",
      "Int64Index: 11473 entries, 6500 to 17972\n",
      "Data columns (total 12 columns):\n",
      " #   Column             Non-Null Count  Dtype         \n",
      "---  ------             --------------  -----         \n",
      " 0   user_id            11473 non-null  int64         \n",
      " 1   name               11473 non-null  object        \n",
      " 2   age                11473 non-null  int64         \n",
      " 3   city               11473 non-null  object        \n",
      " 4   subscription_type  11473 non-null  object        \n",
      " 5   distance           11473 non-null  float64       \n",
      " 6   duration           11473 non-null  float64       \n",
      " 7   date               11473 non-null  datetime64[ns]\n",
      " 8   month              11473 non-null  int64         \n",
      " 9   minute_price       11473 non-null  int64         \n",
      " 10  start_ride_price   11473 non-null  int64         \n",
      " 11  subscription_fee   11473 non-null  int64         \n",
      "dtypes: datetime64[ns](1), float64(2), int64(6), object(3)\n",
      "memory usage: 1.1+ MB\n"
     ]
    }
   ],
   "source": [
    "full_free = merged_df.query('subscription_type == \"free\"')\n",
    "full_free.info()"
   ]
  },
  {
   "cell_type": "code",
   "execution_count": 38,
   "id": "4020390a",
   "metadata": {},
   "outputs": [
    {
     "data": {
      "text/html": [
       "<div>\n",
       "<style scoped>\n",
       "    .dataframe tbody tr th:only-of-type {\n",
       "        vertical-align: middle;\n",
       "    }\n",
       "\n",
       "    .dataframe tbody tr th {\n",
       "        vertical-align: top;\n",
       "    }\n",
       "\n",
       "    .dataframe thead th {\n",
       "        text-align: right;\n",
       "    }\n",
       "</style>\n",
       "<table border=\"1\" class=\"dataframe\">\n",
       "  <thead>\n",
       "    <tr style=\"text-align: right;\">\n",
       "      <th></th>\n",
       "      <th>user_id</th>\n",
       "      <th>name</th>\n",
       "      <th>age</th>\n",
       "      <th>city</th>\n",
       "      <th>subscription_type</th>\n",
       "      <th>distance</th>\n",
       "      <th>duration</th>\n",
       "      <th>date</th>\n",
       "      <th>month</th>\n",
       "      <th>minute_price</th>\n",
       "      <th>start_ride_price</th>\n",
       "      <th>subscription_fee</th>\n",
       "    </tr>\n",
       "  </thead>\n",
       "  <tbody>\n",
       "    <tr>\n",
       "      <th>6500</th>\n",
       "      <td>700</td>\n",
       "      <td>Айдар</td>\n",
       "      <td>22</td>\n",
       "      <td>Омск</td>\n",
       "      <td>free</td>\n",
       "      <td>2515.690719</td>\n",
       "      <td>14.944286</td>\n",
       "      <td>2021-01-02</td>\n",
       "      <td>1</td>\n",
       "      <td>8</td>\n",
       "      <td>50</td>\n",
       "      <td>0</td>\n",
       "    </tr>\n",
       "    <tr>\n",
       "      <th>6501</th>\n",
       "      <td>700</td>\n",
       "      <td>Айдар</td>\n",
       "      <td>22</td>\n",
       "      <td>Омск</td>\n",
       "      <td>free</td>\n",
       "      <td>846.932642</td>\n",
       "      <td>16.234663</td>\n",
       "      <td>2021-02-01</td>\n",
       "      <td>2</td>\n",
       "      <td>8</td>\n",
       "      <td>50</td>\n",
       "      <td>0</td>\n",
       "    </tr>\n",
       "    <tr>\n",
       "      <th>6502</th>\n",
       "      <td>700</td>\n",
       "      <td>Айдар</td>\n",
       "      <td>22</td>\n",
       "      <td>Омск</td>\n",
       "      <td>free</td>\n",
       "      <td>4004.434142</td>\n",
       "      <td>20.016628</td>\n",
       "      <td>2021-02-04</td>\n",
       "      <td>2</td>\n",
       "      <td>8</td>\n",
       "      <td>50</td>\n",
       "      <td>0</td>\n",
       "    </tr>\n",
       "    <tr>\n",
       "      <th>6503</th>\n",
       "      <td>700</td>\n",
       "      <td>Айдар</td>\n",
       "      <td>22</td>\n",
       "      <td>Омск</td>\n",
       "      <td>free</td>\n",
       "      <td>1205.911290</td>\n",
       "      <td>9.782872</td>\n",
       "      <td>2021-02-10</td>\n",
       "      <td>2</td>\n",
       "      <td>8</td>\n",
       "      <td>50</td>\n",
       "      <td>0</td>\n",
       "    </tr>\n",
       "    <tr>\n",
       "      <th>6504</th>\n",
       "      <td>700</td>\n",
       "      <td>Айдар</td>\n",
       "      <td>22</td>\n",
       "      <td>Омск</td>\n",
       "      <td>free</td>\n",
       "      <td>3047.379435</td>\n",
       "      <td>17.427673</td>\n",
       "      <td>2021-02-14</td>\n",
       "      <td>2</td>\n",
       "      <td>8</td>\n",
       "      <td>50</td>\n",
       "      <td>0</td>\n",
       "    </tr>\n",
       "    <tr>\n",
       "      <th>6505</th>\n",
       "      <td>700</td>\n",
       "      <td>Айдар</td>\n",
       "      <td>22</td>\n",
       "      <td>Омск</td>\n",
       "      <td>free</td>\n",
       "      <td>4342.002254</td>\n",
       "      <td>22.368009</td>\n",
       "      <td>2021-02-23</td>\n",
       "      <td>2</td>\n",
       "      <td>8</td>\n",
       "      <td>50</td>\n",
       "      <td>0</td>\n",
       "    </tr>\n",
       "    <tr>\n",
       "      <th>6506</th>\n",
       "      <td>700</td>\n",
       "      <td>Айдар</td>\n",
       "      <td>22</td>\n",
       "      <td>Омск</td>\n",
       "      <td>free</td>\n",
       "      <td>3798.334905</td>\n",
       "      <td>18.243756</td>\n",
       "      <td>2021-03-03</td>\n",
       "      <td>3</td>\n",
       "      <td>8</td>\n",
       "      <td>50</td>\n",
       "      <td>0</td>\n",
       "    </tr>\n",
       "    <tr>\n",
       "      <th>6507</th>\n",
       "      <td>700</td>\n",
       "      <td>Айдар</td>\n",
       "      <td>22</td>\n",
       "      <td>Омск</td>\n",
       "      <td>free</td>\n",
       "      <td>2984.551206</td>\n",
       "      <td>15.424899</td>\n",
       "      <td>2021-04-09</td>\n",
       "      <td>4</td>\n",
       "      <td>8</td>\n",
       "      <td>50</td>\n",
       "      <td>0</td>\n",
       "    </tr>\n",
       "    <tr>\n",
       "      <th>6508</th>\n",
       "      <td>700</td>\n",
       "      <td>Айдар</td>\n",
       "      <td>22</td>\n",
       "      <td>Омск</td>\n",
       "      <td>free</td>\n",
       "      <td>3360.107141</td>\n",
       "      <td>16.765497</td>\n",
       "      <td>2021-06-12</td>\n",
       "      <td>6</td>\n",
       "      <td>8</td>\n",
       "      <td>50</td>\n",
       "      <td>0</td>\n",
       "    </tr>\n",
       "    <tr>\n",
       "      <th>6509</th>\n",
       "      <td>700</td>\n",
       "      <td>Айдар</td>\n",
       "      <td>22</td>\n",
       "      <td>Омск</td>\n",
       "      <td>free</td>\n",
       "      <td>2567.543847</td>\n",
       "      <td>11.312160</td>\n",
       "      <td>2021-06-23</td>\n",
       "      <td>6</td>\n",
       "      <td>8</td>\n",
       "      <td>50</td>\n",
       "      <td>0</td>\n",
       "    </tr>\n",
       "  </tbody>\n",
       "</table>\n",
       "</div>"
      ],
      "text/plain": [
       "      user_id   name  age  city subscription_type     distance   duration  \\\n",
       "6500      700  Айдар   22  Омск              free  2515.690719  14.944286   \n",
       "6501      700  Айдар   22  Омск              free   846.932642  16.234663   \n",
       "6502      700  Айдар   22  Омск              free  4004.434142  20.016628   \n",
       "6503      700  Айдар   22  Омск              free  1205.911290   9.782872   \n",
       "6504      700  Айдар   22  Омск              free  3047.379435  17.427673   \n",
       "6505      700  Айдар   22  Омск              free  4342.002254  22.368009   \n",
       "6506      700  Айдар   22  Омск              free  3798.334905  18.243756   \n",
       "6507      700  Айдар   22  Омск              free  2984.551206  15.424899   \n",
       "6508      700  Айдар   22  Омск              free  3360.107141  16.765497   \n",
       "6509      700  Айдар   22  Омск              free  2567.543847  11.312160   \n",
       "\n",
       "           date  month  minute_price  start_ride_price  subscription_fee  \n",
       "6500 2021-01-02      1             8                50                 0  \n",
       "6501 2021-02-01      2             8                50                 0  \n",
       "6502 2021-02-04      2             8                50                 0  \n",
       "6503 2021-02-10      2             8                50                 0  \n",
       "6504 2021-02-14      2             8                50                 0  \n",
       "6505 2021-02-23      2             8                50                 0  \n",
       "6506 2021-03-03      3             8                50                 0  \n",
       "6507 2021-04-09      4             8                50                 0  \n",
       "6508 2021-06-12      6             8                50                 0  \n",
       "6509 2021-06-23      6             8                50                 0  "
      ]
     },
     "execution_count": 38,
     "metadata": {},
     "output_type": "execute_result"
    }
   ],
   "source": [
    "full_free.head(10)"
   ]
  },
  {
   "cell_type": "markdown",
   "id": "456badd1",
   "metadata": {},
   "source": [
    "#### С подпиской"
   ]
  },
  {
   "cell_type": "code",
   "execution_count": 39,
   "id": "8eda3d69",
   "metadata": {},
   "outputs": [
    {
     "name": "stdout",
     "output_type": "stream",
     "text": [
      "<class 'pandas.core.frame.DataFrame'>\n",
      "Int64Index: 6500 entries, 0 to 6499\n",
      "Data columns (total 12 columns):\n",
      " #   Column             Non-Null Count  Dtype         \n",
      "---  ------             --------------  -----         \n",
      " 0   user_id            6500 non-null   int64         \n",
      " 1   name               6500 non-null   object        \n",
      " 2   age                6500 non-null   int64         \n",
      " 3   city               6500 non-null   object        \n",
      " 4   subscription_type  6500 non-null   object        \n",
      " 5   distance           6500 non-null   float64       \n",
      " 6   duration           6500 non-null   float64       \n",
      " 7   date               6500 non-null   datetime64[ns]\n",
      " 8   month              6500 non-null   int64         \n",
      " 9   minute_price       6500 non-null   int64         \n",
      " 10  start_ride_price   6500 non-null   int64         \n",
      " 11  subscription_fee   6500 non-null   int64         \n",
      "dtypes: datetime64[ns](1), float64(2), int64(6), object(3)\n",
      "memory usage: 660.2+ KB\n"
     ]
    }
   ],
   "source": [
    "full_ultra = merged_df.query('subscription_type == \"ultra\"')\n",
    "full_ultra.info()"
   ]
  },
  {
   "cell_type": "code",
   "execution_count": 40,
   "id": "38b0c285",
   "metadata": {},
   "outputs": [
    {
     "data": {
      "text/html": [
       "<div>\n",
       "<style scoped>\n",
       "    .dataframe tbody tr th:only-of-type {\n",
       "        vertical-align: middle;\n",
       "    }\n",
       "\n",
       "    .dataframe tbody tr th {\n",
       "        vertical-align: top;\n",
       "    }\n",
       "\n",
       "    .dataframe thead th {\n",
       "        text-align: right;\n",
       "    }\n",
       "</style>\n",
       "<table border=\"1\" class=\"dataframe\">\n",
       "  <thead>\n",
       "    <tr style=\"text-align: right;\">\n",
       "      <th></th>\n",
       "      <th>user_id</th>\n",
       "      <th>name</th>\n",
       "      <th>age</th>\n",
       "      <th>city</th>\n",
       "      <th>subscription_type</th>\n",
       "      <th>distance</th>\n",
       "      <th>duration</th>\n",
       "      <th>date</th>\n",
       "      <th>month</th>\n",
       "      <th>minute_price</th>\n",
       "      <th>start_ride_price</th>\n",
       "      <th>subscription_fee</th>\n",
       "    </tr>\n",
       "  </thead>\n",
       "  <tbody>\n",
       "    <tr>\n",
       "      <th>0</th>\n",
       "      <td>1</td>\n",
       "      <td>Кира</td>\n",
       "      <td>22</td>\n",
       "      <td>Тюмень</td>\n",
       "      <td>ultra</td>\n",
       "      <td>4409.919140</td>\n",
       "      <td>25.599769</td>\n",
       "      <td>2021-01-01</td>\n",
       "      <td>1</td>\n",
       "      <td>6</td>\n",
       "      <td>0</td>\n",
       "      <td>199</td>\n",
       "    </tr>\n",
       "    <tr>\n",
       "      <th>1</th>\n",
       "      <td>1</td>\n",
       "      <td>Кира</td>\n",
       "      <td>22</td>\n",
       "      <td>Тюмень</td>\n",
       "      <td>ultra</td>\n",
       "      <td>2617.592153</td>\n",
       "      <td>15.816871</td>\n",
       "      <td>2021-01-18</td>\n",
       "      <td>1</td>\n",
       "      <td>6</td>\n",
       "      <td>0</td>\n",
       "      <td>199</td>\n",
       "    </tr>\n",
       "    <tr>\n",
       "      <th>2</th>\n",
       "      <td>1</td>\n",
       "      <td>Кира</td>\n",
       "      <td>22</td>\n",
       "      <td>Тюмень</td>\n",
       "      <td>ultra</td>\n",
       "      <td>754.159807</td>\n",
       "      <td>6.232113</td>\n",
       "      <td>2021-04-20</td>\n",
       "      <td>4</td>\n",
       "      <td>6</td>\n",
       "      <td>0</td>\n",
       "      <td>199</td>\n",
       "    </tr>\n",
       "    <tr>\n",
       "      <th>3</th>\n",
       "      <td>1</td>\n",
       "      <td>Кира</td>\n",
       "      <td>22</td>\n",
       "      <td>Тюмень</td>\n",
       "      <td>ultra</td>\n",
       "      <td>2694.783254</td>\n",
       "      <td>18.511000</td>\n",
       "      <td>2021-08-11</td>\n",
       "      <td>8</td>\n",
       "      <td>6</td>\n",
       "      <td>0</td>\n",
       "      <td>199</td>\n",
       "    </tr>\n",
       "    <tr>\n",
       "      <th>4</th>\n",
       "      <td>1</td>\n",
       "      <td>Кира</td>\n",
       "      <td>22</td>\n",
       "      <td>Тюмень</td>\n",
       "      <td>ultra</td>\n",
       "      <td>4028.687306</td>\n",
       "      <td>26.265803</td>\n",
       "      <td>2021-08-28</td>\n",
       "      <td>8</td>\n",
       "      <td>6</td>\n",
       "      <td>0</td>\n",
       "      <td>199</td>\n",
       "    </tr>\n",
       "    <tr>\n",
       "      <th>5</th>\n",
       "      <td>1</td>\n",
       "      <td>Кира</td>\n",
       "      <td>22</td>\n",
       "      <td>Тюмень</td>\n",
       "      <td>ultra</td>\n",
       "      <td>2770.890808</td>\n",
       "      <td>16.650138</td>\n",
       "      <td>2021-10-09</td>\n",
       "      <td>10</td>\n",
       "      <td>6</td>\n",
       "      <td>0</td>\n",
       "      <td>199</td>\n",
       "    </tr>\n",
       "    <tr>\n",
       "      <th>6</th>\n",
       "      <td>1</td>\n",
       "      <td>Кира</td>\n",
       "      <td>22</td>\n",
       "      <td>Тюмень</td>\n",
       "      <td>ultra</td>\n",
       "      <td>3039.020292</td>\n",
       "      <td>14.927879</td>\n",
       "      <td>2021-10-19</td>\n",
       "      <td>10</td>\n",
       "      <td>6</td>\n",
       "      <td>0</td>\n",
       "      <td>199</td>\n",
       "    </tr>\n",
       "    <tr>\n",
       "      <th>7</th>\n",
       "      <td>1</td>\n",
       "      <td>Кира</td>\n",
       "      <td>22</td>\n",
       "      <td>Тюмень</td>\n",
       "      <td>ultra</td>\n",
       "      <td>2842.118050</td>\n",
       "      <td>23.117468</td>\n",
       "      <td>2021-11-06</td>\n",
       "      <td>11</td>\n",
       "      <td>6</td>\n",
       "      <td>0</td>\n",
       "      <td>199</td>\n",
       "    </tr>\n",
       "    <tr>\n",
       "      <th>8</th>\n",
       "      <td>1</td>\n",
       "      <td>Кира</td>\n",
       "      <td>22</td>\n",
       "      <td>Тюмень</td>\n",
       "      <td>ultra</td>\n",
       "      <td>3412.690668</td>\n",
       "      <td>15.238072</td>\n",
       "      <td>2021-11-14</td>\n",
       "      <td>11</td>\n",
       "      <td>6</td>\n",
       "      <td>0</td>\n",
       "      <td>199</td>\n",
       "    </tr>\n",
       "    <tr>\n",
       "      <th>9</th>\n",
       "      <td>1</td>\n",
       "      <td>Кира</td>\n",
       "      <td>22</td>\n",
       "      <td>Тюмень</td>\n",
       "      <td>ultra</td>\n",
       "      <td>748.690645</td>\n",
       "      <td>15.041884</td>\n",
       "      <td>2021-11-22</td>\n",
       "      <td>11</td>\n",
       "      <td>6</td>\n",
       "      <td>0</td>\n",
       "      <td>199</td>\n",
       "    </tr>\n",
       "  </tbody>\n",
       "</table>\n",
       "</div>"
      ],
      "text/plain": [
       "   user_id  name  age    city subscription_type     distance   duration  \\\n",
       "0        1  Кира   22  Тюмень             ultra  4409.919140  25.599769   \n",
       "1        1  Кира   22  Тюмень             ultra  2617.592153  15.816871   \n",
       "2        1  Кира   22  Тюмень             ultra   754.159807   6.232113   \n",
       "3        1  Кира   22  Тюмень             ultra  2694.783254  18.511000   \n",
       "4        1  Кира   22  Тюмень             ultra  4028.687306  26.265803   \n",
       "5        1  Кира   22  Тюмень             ultra  2770.890808  16.650138   \n",
       "6        1  Кира   22  Тюмень             ultra  3039.020292  14.927879   \n",
       "7        1  Кира   22  Тюмень             ultra  2842.118050  23.117468   \n",
       "8        1  Кира   22  Тюмень             ultra  3412.690668  15.238072   \n",
       "9        1  Кира   22  Тюмень             ultra   748.690645  15.041884   \n",
       "\n",
       "        date  month  minute_price  start_ride_price  subscription_fee  \n",
       "0 2021-01-01      1             6                 0               199  \n",
       "1 2021-01-18      1             6                 0               199  \n",
       "2 2021-04-20      4             6                 0               199  \n",
       "3 2021-08-11      8             6                 0               199  \n",
       "4 2021-08-28      8             6                 0               199  \n",
       "5 2021-10-09     10             6                 0               199  \n",
       "6 2021-10-19     10             6                 0               199  \n",
       "7 2021-11-06     11             6                 0               199  \n",
       "8 2021-11-14     11             6                 0               199  \n",
       "9 2021-11-22     11             6                 0               199  "
      ]
     },
     "execution_count": 40,
     "metadata": {},
     "output_type": "execute_result"
    }
   ],
   "source": [
    "full_ultra.head(10)"
   ]
  },
  {
   "cell_type": "markdown",
   "id": "0ffd2f6c",
   "metadata": {},
   "source": [
    "### Визуализация данных о поездках в среднем по пользователю"
   ]
  },
  {
   "cell_type": "markdown",
   "id": "80f15ef4",
   "metadata": {},
   "source": [
    "#### С подпиской"
   ]
  },
  {
   "cell_type": "code",
   "execution_count": 41,
   "id": "43204340",
   "metadata": {},
   "outputs": [
    {
     "data": {
      "image/png": "[encoded data removed]",
      "text/plain": [
       "<Figure size 864x432 with 2 Axes>"
      ]
     },
     "metadata": {
      "needs_background": "light"
     },
     "output_type": "display_data"
    }
   ],
   "source": [
    "full_ultra.groupby('user_id').agg({'distance': 'mean','duration': 'mean'}).hist(bins=40, figsize=(12, 6))\n",
    "plt.suptitle('Распределение дистанции и длительности поездок по пользователям с подпиской')            \n",
    "plt.show()"
   ]
  },
  {
   "cell_type": "code",
   "execution_count": 42,
   "id": "17303e8a",
   "metadata": {},
   "outputs": [
    {
     "data": {
      "text/html": [
       "<div>\n",
       "<style scoped>\n",
       "    .dataframe tbody tr th:only-of-type {\n",
       "        vertical-align: middle;\n",
       "    }\n",
       "\n",
       "    .dataframe tbody tr th {\n",
       "        vertical-align: top;\n",
       "    }\n",
       "\n",
       "    .dataframe thead th {\n",
       "        text-align: right;\n",
       "    }\n",
       "</style>\n",
       "<table border=\"1\" class=\"dataframe\">\n",
       "  <thead>\n",
       "    <tr style=\"text-align: right;\">\n",
       "      <th></th>\n",
       "      <th>distance</th>\n",
       "      <th>duration</th>\n",
       "    </tr>\n",
       "  </thead>\n",
       "  <tbody>\n",
       "    <tr>\n",
       "      <th>count</th>\n",
       "      <td>699.000000</td>\n",
       "      <td>699.000000</td>\n",
       "    </tr>\n",
       "    <tr>\n",
       "      <th>mean</th>\n",
       "      <td>3113.459926</td>\n",
       "      <td>18.574380</td>\n",
       "    </tr>\n",
       "    <tr>\n",
       "      <th>std</th>\n",
       "      <td>299.706136</td>\n",
       "      <td>2.015094</td>\n",
       "    </tr>\n",
       "    <tr>\n",
       "      <th>min</th>\n",
       "      <td>2098.297845</td>\n",
       "      <td>11.385922</td>\n",
       "    </tr>\n",
       "    <tr>\n",
       "      <th>25%</th>\n",
       "      <td>2925.005435</td>\n",
       "      <td>17.278630</td>\n",
       "    </tr>\n",
       "    <tr>\n",
       "      <th>50%</th>\n",
       "      <td>3134.349186</td>\n",
       "      <td>18.585189</td>\n",
       "    </tr>\n",
       "    <tr>\n",
       "      <th>75%</th>\n",
       "      <td>3312.191643</td>\n",
       "      <td>19.789236</td>\n",
       "    </tr>\n",
       "    <tr>\n",
       "      <th>max</th>\n",
       "      <td>3939.773328</td>\n",
       "      <td>26.136000</td>\n",
       "    </tr>\n",
       "  </tbody>\n",
       "</table>\n",
       "</div>"
      ],
      "text/plain": [
       "          distance    duration\n",
       "count   699.000000  699.000000\n",
       "mean   3113.459926   18.574380\n",
       "std     299.706136    2.015094\n",
       "min    2098.297845   11.385922\n",
       "25%    2925.005435   17.278630\n",
       "50%    3134.349186   18.585189\n",
       "75%    3312.191643   19.789236\n",
       "max    3939.773328   26.136000"
      ]
     },
     "execution_count": 42,
     "metadata": {},
     "output_type": "execute_result"
    }
   ],
   "source": [
    "full_ultra.groupby('user_id').agg({'distance': 'mean','duration': 'mean'}).describe()"
   ]
  },
  {
   "cell_type": "markdown",
   "id": "c418f749",
   "metadata": {},
   "source": [
    "#### Время поездки"
   ]
  },
  {
   "cell_type": "code",
   "execution_count": 43,
   "id": "69eb6a09",
   "metadata": {},
   "outputs": [
    {
     "data": {
      "image/png": "[encoded data removed]",
      "text/plain": [
       "<Figure size 864x432 with 2 Axes>"
      ]
     },
     "metadata": {
      "needs_background": "light"
     },
     "output_type": "display_data"
    }
   ],
   "source": [
    "full_free.groupby('user_id').agg({'distance': 'mean','duration': 'mean'}).hist(bins=40, figsize=(12, 6))\n",
    "plt.suptitle('Распределение дистанции и длительности поездок по пользователям без подписки')\n",
    "plt.show()"
   ]
  },
  {
   "cell_type": "code",
   "execution_count": 44,
   "id": "5d324972",
   "metadata": {},
   "outputs": [
    {
     "data": {
      "text/html": [
       "<div>\n",
       "<style scoped>\n",
       "    .dataframe tbody tr th:only-of-type {\n",
       "        vertical-align: middle;\n",
       "    }\n",
       "\n",
       "    .dataframe tbody tr th {\n",
       "        vertical-align: top;\n",
       "    }\n",
       "\n",
       "    .dataframe thead th {\n",
       "        text-align: right;\n",
       "    }\n",
       "</style>\n",
       "<table border=\"1\" class=\"dataframe\">\n",
       "  <thead>\n",
       "    <tr style=\"text-align: right;\">\n",
       "      <th></th>\n",
       "      <th>distance</th>\n",
       "      <th>duration</th>\n",
       "    </tr>\n",
       "  </thead>\n",
       "  <tbody>\n",
       "    <tr>\n",
       "      <th>count</th>\n",
       "      <td>835.000000</td>\n",
       "      <td>835.000000</td>\n",
       "    </tr>\n",
       "    <tr>\n",
       "      <th>mean</th>\n",
       "      <td>3029.490437</td>\n",
       "      <td>17.526180</td>\n",
       "    </tr>\n",
       "    <tr>\n",
       "      <th>std</th>\n",
       "      <td>346.157301</td>\n",
       "      <td>1.712301</td>\n",
       "    </tr>\n",
       "    <tr>\n",
       "      <th>min</th>\n",
       "      <td>1630.788427</td>\n",
       "      <td>11.163431</td>\n",
       "    </tr>\n",
       "    <tr>\n",
       "      <th>25%</th>\n",
       "      <td>2798.050497</td>\n",
       "      <td>16.386659</td>\n",
       "    </tr>\n",
       "    <tr>\n",
       "      <th>50%</th>\n",
       "      <td>3043.898267</td>\n",
       "      <td>17.553691</td>\n",
       "    </tr>\n",
       "    <tr>\n",
       "      <th>75%</th>\n",
       "      <td>3263.868485</td>\n",
       "      <td>18.681857</td>\n",
       "    </tr>\n",
       "    <tr>\n",
       "      <th>max</th>\n",
       "      <td>4287.519387</td>\n",
       "      <td>23.069943</td>\n",
       "    </tr>\n",
       "  </tbody>\n",
       "</table>\n",
       "</div>"
      ],
      "text/plain": [
       "          distance    duration\n",
       "count   835.000000  835.000000\n",
       "mean   3029.490437   17.526180\n",
       "std     346.157301    1.712301\n",
       "min    1630.788427   11.163431\n",
       "25%    2798.050497   16.386659\n",
       "50%    3043.898267   17.553691\n",
       "75%    3263.868485   18.681857\n",
       "max    4287.519387   23.069943"
      ]
     },
     "execution_count": 44,
     "metadata": {},
     "output_type": "execute_result"
    }
   ],
   "source": [
    "full_free.groupby('user_id').agg({'distance': 'mean','duration': 'mean'}).describe()"
   ]
  },
  {
   "cell_type": "markdown",
   "id": "6a5fc6c6",
   "metadata": {},
   "source": [
    "#### Сравнение"
   ]
  },
  {
   "cell_type": "code",
   "execution_count": 45,
   "id": "8f951083",
   "metadata": {},
   "outputs": [
    {
     "data": {
      "image/png": "[encoded data removed]",
      "text/plain": [
       "<Figure size 864x432 with 1 Axes>"
      ]
     },
     "metadata": {
      "needs_background": "light"
     },
     "output_type": "display_data"
    },
    {
     "data": {
      "image/png": "[encoded data removed]",
      "text/plain": [
       "<Figure size 864x432 with 1 Axes>"
      ]
     },
     "metadata": {
      "needs_background": "light"
     },
     "output_type": "display_data"
    }
   ],
   "source": [
    "ultra_means = full_ultra.groupby('user_id').agg({'distance': 'mean', 'duration': 'mean'}).assign(subscription='ultra')\n",
    "free_means = full_free.groupby('user_id').agg({'distance': 'mean', 'duration': 'mean'}).assign(subscription='free')\n",
    "combined = ultra_means.append(free_means)\n",
    "\n",
    "plt.figure(figsize=(12, 6))\n",
    "sns.boxplot(x='subscription', y='distance', data=combined, palette={'ultra': 'orange', 'free': 'blue'})\n",
    "plt.title('Сравнение средней дистанции поездки')\n",
    "plt.xlabel('Подписка')\n",
    "plt.ylabel('Дистанция')\n",
    "plt.grid(True)\n",
    "plt.show()\n",
    "\n",
    "plt.figure(figsize=(12, 6))\n",
    "sns.boxplot(x='subscription', y='duration', data=combined, palette={'ultra': 'orange', 'free': 'blue'})\n",
    "plt.title('Сравнение средней длительности поездки')\n",
    "plt.xlabel('Подписка')\n",
    "plt.ylabel('Длительность')\n",
    "plt.grid(True)\n",
    "plt.show()"
   ]
  },
  {
   "cell_type": "code",
   "execution_count": 46,
   "id": "387faf31",
   "metadata": {},
   "outputs": [
    {
     "data": {
      "image/png": "[encoded data removed]",
      "text/plain": [
       "<Figure size 720x360 with 1 Axes>"
      ]
     },
     "metadata": {
      "needs_background": "light"
     },
     "output_type": "display_data"
    },
    {
     "data": {
      "image/png": "[encoded data removed]",
      "text/plain": [
       "<Figure size 720x360 with 1 Axes>"
      ]
     },
     "metadata": {
      "needs_background": "light"
     },
     "output_type": "display_data"
    }
   ],
   "source": [
    "plt.figure(figsize=(10, 5))\n",
    "sns.histplot(data=combined, x='distance', hue='subscription', \n",
    "              palette=['orange', 'blue'])\n",
    "plt.title('Сравнение дистанций поездок')\n",
    "plt.xlabel('Дистанция')\n",
    "plt.ylabel('Количество ')\n",
    "plt.show()\n",
    "\n",
    "plt.figure(figsize=(10, 5))\n",
    "sns.histplot(data=combined, x='duration', hue='subscription', \n",
    "             multiple='dodge', binwidth=0.6,palette=['orange', 'blue'])\n",
    "plt.title('Сравнение длительности поездок')\n",
    "plt.xlabel('Длительность')\n",
    "plt.ylabel('Количество')\n",
    "plt.show()"
   ]
  },
  {
   "cell_type": "markdown",
   "id": "8cf2e8f1",
   "metadata": {},
   "source": [
    "#### Выводы"
   ]
  },
  {
   "cell_type": "markdown",
   "id": "cd94ab34",
   "metadata": {},
   "source": [
    "**Дистанция поездки:**\n",
    "\n",
    "* Пользователи с подпиской (ultra):\n",
    "\n",
    " * Средняя дистанция: 3115 м (близко к оптимальным 3130 м)\n",
    "\n",
    " * Менее изменчивы (σ = 300 м)\n",
    "\n",
    " * Медиана: 3134 м\n",
    "\n",
    " * 75% пользователей ездят ≤ 3560 м\n",
    " \n",
    " * Больше пользователей, которые катаются близко\n",
    "\n",
    "* Пользователи без подписки (free):\n",
    "\n",
    " * Средняя дистанция: 3029 м (на 86 м меньше)\n",
    "\n",
    " * Более широкий разброс (σ = 346 м)\n",
    "\n",
    " * Медиана: 3043 м\n",
    "\n",
    " * 25% пользователей ездят ≤ 2798 м\n",
    "\n",
    "**Длительность поездки:**\n",
    "\n",
    "* ultra-пользователи:\n",
    "\n",
    " * Среднее время: 18.57 мин\n",
    "\n",
    " * Более стабильное поведение (σ = 2.02 мин)\n",
    "\n",
    " * 75% поездок ≤ 19.79 мин\n",
    " \n",
    " * Больше пользователей с малой длительностью поездки\n",
    "\n",
    "* free-пользователи:\n",
    "\n",
    " * Среднее время: 17.53 мин (на 1 мин меньше)\n",
    "\n",
    " * Больше выбросов (σ = 1.71 мин)\n",
    "\n",
    " * 25% поездок ≤ 16.39 мин\n",
    " \n",
    " * Больше пользователей, которые катаются долго\n",
    " \n",
    "**Общий вывод**\n",
    "\n",
    "Когда у пользователя есть подписка, ему легче начать движение, поэтому они чаще берут самокаты на малое время и расстояние. Пользователи без подписки относятся к этому ответственнее и берут самокаты на более долгие поездки"
   ]
  },
  {
   "cell_type": "markdown",
   "id": "402d620f",
   "metadata": {},
   "source": [
    "## Подсчёт выручки"
   ]
  },
  {
   "cell_type": "markdown",
   "id": "58e81431",
   "metadata": {},
   "source": [
    "### Данные о пользователях за каждый месяц"
   ]
  },
  {
   "cell_type": "code",
   "execution_count": 47,
   "id": "fbff8d25",
   "metadata": {},
   "outputs": [
    {
     "data": {
      "text/html": [
       "<div>\n",
       "<style scoped>\n",
       "    .dataframe tbody tr th:only-of-type {\n",
       "        vertical-align: middle;\n",
       "    }\n",
       "\n",
       "    .dataframe tbody tr th {\n",
       "        vertical-align: top;\n",
       "    }\n",
       "\n",
       "    .dataframe thead th {\n",
       "        text-align: right;\n",
       "    }\n",
       "</style>\n",
       "<table border=\"1\" class=\"dataframe\">\n",
       "  <thead>\n",
       "    <tr style=\"text-align: right;\">\n",
       "      <th></th>\n",
       "      <th>user_id</th>\n",
       "      <th>month</th>\n",
       "      <th>subscription_type</th>\n",
       "      <th>subscription_fee</th>\n",
       "      <th>distance</th>\n",
       "      <th>duration</th>\n",
       "      <th>income</th>\n",
       "    </tr>\n",
       "  </thead>\n",
       "  <tbody>\n",
       "    <tr>\n",
       "      <th>0</th>\n",
       "      <td>1</td>\n",
       "      <td>1</td>\n",
       "      <td>ultra</td>\n",
       "      <td>199</td>\n",
       "      <td>7027.511294</td>\n",
       "      <td>42.0</td>\n",
       "      <td>252.0</td>\n",
       "    </tr>\n",
       "    <tr>\n",
       "      <th>1</th>\n",
       "      <td>1</td>\n",
       "      <td>4</td>\n",
       "      <td>ultra</td>\n",
       "      <td>199</td>\n",
       "      <td>754.159807</td>\n",
       "      <td>7.0</td>\n",
       "      <td>42.0</td>\n",
       "    </tr>\n",
       "    <tr>\n",
       "      <th>2</th>\n",
       "      <td>1</td>\n",
       "      <td>8</td>\n",
       "      <td>ultra</td>\n",
       "      <td>199</td>\n",
       "      <td>6723.470560</td>\n",
       "      <td>46.0</td>\n",
       "      <td>276.0</td>\n",
       "    </tr>\n",
       "    <tr>\n",
       "      <th>3</th>\n",
       "      <td>1</td>\n",
       "      <td>10</td>\n",
       "      <td>ultra</td>\n",
       "      <td>199</td>\n",
       "      <td>5809.911100</td>\n",
       "      <td>32.0</td>\n",
       "      <td>192.0</td>\n",
       "    </tr>\n",
       "    <tr>\n",
       "      <th>4</th>\n",
       "      <td>1</td>\n",
       "      <td>11</td>\n",
       "      <td>ultra</td>\n",
       "      <td>199</td>\n",
       "      <td>7003.499363</td>\n",
       "      <td>56.0</td>\n",
       "      <td>336.0</td>\n",
       "    </tr>\n",
       "    <tr>\n",
       "      <th>...</th>\n",
       "      <td>...</td>\n",
       "      <td>...</td>\n",
       "      <td>...</td>\n",
       "      <td>...</td>\n",
       "      <td>...</td>\n",
       "      <td>...</td>\n",
       "      <td>...</td>\n",
       "    </tr>\n",
       "    <tr>\n",
       "      <th>11295</th>\n",
       "      <td>1534</td>\n",
       "      <td>6</td>\n",
       "      <td>free</td>\n",
       "      <td>0</td>\n",
       "      <td>3409.468534</td>\n",
       "      <td>26.0</td>\n",
       "      <td>308.0</td>\n",
       "    </tr>\n",
       "    <tr>\n",
       "      <th>11296</th>\n",
       "      <td>1534</td>\n",
       "      <td>8</td>\n",
       "      <td>free</td>\n",
       "      <td>0</td>\n",
       "      <td>7622.453034</td>\n",
       "      <td>48.0</td>\n",
       "      <td>484.0</td>\n",
       "    </tr>\n",
       "    <tr>\n",
       "      <th>11297</th>\n",
       "      <td>1534</td>\n",
       "      <td>9</td>\n",
       "      <td>free</td>\n",
       "      <td>0</td>\n",
       "      <td>4928.173852</td>\n",
       "      <td>23.0</td>\n",
       "      <td>234.0</td>\n",
       "    </tr>\n",
       "    <tr>\n",
       "      <th>11298</th>\n",
       "      <td>1534</td>\n",
       "      <td>11</td>\n",
       "      <td>free</td>\n",
       "      <td>0</td>\n",
       "      <td>13350.015305</td>\n",
       "      <td>78.0</td>\n",
       "      <td>824.0</td>\n",
       "    </tr>\n",
       "    <tr>\n",
       "      <th>11299</th>\n",
       "      <td>1534</td>\n",
       "      <td>12</td>\n",
       "      <td>free</td>\n",
       "      <td>0</td>\n",
       "      <td>2371.711192</td>\n",
       "      <td>16.0</td>\n",
       "      <td>178.0</td>\n",
       "    </tr>\n",
       "  </tbody>\n",
       "</table>\n",
       "<p>11300 rows × 7 columns</p>\n",
       "</div>"
      ],
      "text/plain": [
       "       user_id  month subscription_type  subscription_fee      distance  \\\n",
       "0            1      1             ultra               199   7027.511294   \n",
       "1            1      4             ultra               199    754.159807   \n",
       "2            1      8             ultra               199   6723.470560   \n",
       "3            1     10             ultra               199   5809.911100   \n",
       "4            1     11             ultra               199   7003.499363   \n",
       "...        ...    ...               ...               ...           ...   \n",
       "11295     1534      6              free                 0   3409.468534   \n",
       "11296     1534      8              free                 0   7622.453034   \n",
       "11297     1534      9              free                 0   4928.173852   \n",
       "11298     1534     11              free                 0  13350.015305   \n",
       "11299     1534     12              free                 0   2371.711192   \n",
       "\n",
       "       duration  income  \n",
       "0          42.0   252.0  \n",
       "1           7.0    42.0  \n",
       "2          46.0   276.0  \n",
       "3          32.0   192.0  \n",
       "4          56.0   336.0  \n",
       "...         ...     ...  \n",
       "11295      26.0   308.0  \n",
       "11296      48.0   484.0  \n",
       "11297      23.0   234.0  \n",
       "11298      78.0   824.0  \n",
       "11299      16.0   178.0  \n",
       "\n",
       "[11300 rows x 7 columns]"
      ]
     },
     "execution_count": 47,
     "metadata": {},
     "output_type": "execute_result"
    }
   ],
   "source": [
    "merged_df['duration'] = np.ceil(merged_df['duration'])\n",
    "merged_df['income'] = merged_df['start_ride_price'] + merged_df['duration']*merged_df['minute_price']\n",
    "agregate_df = merged_df.groupby(['user_id','month','subscription_type','subscription_fee']).agg({'distance': 'sum','duration': 'sum', 'income':'sum'}).reset_index()\n",
    "agregate_df"
   ]
  },
  {
   "cell_type": "markdown",
   "id": "e95e3b74",
   "metadata": {},
   "source": [
    "### Помесячная выручка"
   ]
  },
  {
   "cell_type": "code",
   "execution_count": 48,
   "id": "7c1ede52",
   "metadata": {},
   "outputs": [],
   "source": [
    "agregate_df['income'] = agregate_df['income'] + agregate_df['subscription_fee']"
   ]
  },
  {
   "cell_type": "code",
   "execution_count": 49,
   "id": "b0002562",
   "metadata": {
    "scrolled": true
   },
   "outputs": [
    {
     "data": {
      "text/html": [
       "<div>\n",
       "<style scoped>\n",
       "    .dataframe tbody tr th:only-of-type {\n",
       "        vertical-align: middle;\n",
       "    }\n",
       "\n",
       "    .dataframe tbody tr th {\n",
       "        vertical-align: top;\n",
       "    }\n",
       "\n",
       "    .dataframe thead th {\n",
       "        text-align: right;\n",
       "    }\n",
       "</style>\n",
       "<table border=\"1\" class=\"dataframe\">\n",
       "  <thead>\n",
       "    <tr style=\"text-align: right;\">\n",
       "      <th></th>\n",
       "      <th>user_id</th>\n",
       "      <th>month</th>\n",
       "      <th>subscription_type</th>\n",
       "      <th>subscription_fee</th>\n",
       "      <th>distance</th>\n",
       "      <th>duration</th>\n",
       "      <th>income</th>\n",
       "    </tr>\n",
       "  </thead>\n",
       "  <tbody>\n",
       "    <tr>\n",
       "      <th>0</th>\n",
       "      <td>1</td>\n",
       "      <td>1</td>\n",
       "      <td>ultra</td>\n",
       "      <td>199</td>\n",
       "      <td>7027.511294</td>\n",
       "      <td>42.0</td>\n",
       "      <td>451.0</td>\n",
       "    </tr>\n",
       "    <tr>\n",
       "      <th>1</th>\n",
       "      <td>1</td>\n",
       "      <td>4</td>\n",
       "      <td>ultra</td>\n",
       "      <td>199</td>\n",
       "      <td>754.159807</td>\n",
       "      <td>7.0</td>\n",
       "      <td>241.0</td>\n",
       "    </tr>\n",
       "    <tr>\n",
       "      <th>2</th>\n",
       "      <td>1</td>\n",
       "      <td>8</td>\n",
       "      <td>ultra</td>\n",
       "      <td>199</td>\n",
       "      <td>6723.470560</td>\n",
       "      <td>46.0</td>\n",
       "      <td>475.0</td>\n",
       "    </tr>\n",
       "    <tr>\n",
       "      <th>3</th>\n",
       "      <td>1</td>\n",
       "      <td>10</td>\n",
       "      <td>ultra</td>\n",
       "      <td>199</td>\n",
       "      <td>5809.911100</td>\n",
       "      <td>32.0</td>\n",
       "      <td>391.0</td>\n",
       "    </tr>\n",
       "    <tr>\n",
       "      <th>4</th>\n",
       "      <td>1</td>\n",
       "      <td>11</td>\n",
       "      <td>ultra</td>\n",
       "      <td>199</td>\n",
       "      <td>7003.499363</td>\n",
       "      <td>56.0</td>\n",
       "      <td>535.0</td>\n",
       "    </tr>\n",
       "    <tr>\n",
       "      <th>5</th>\n",
       "      <td>1</td>\n",
       "      <td>12</td>\n",
       "      <td>ultra</td>\n",
       "      <td>199</td>\n",
       "      <td>6751.629942</td>\n",
       "      <td>28.0</td>\n",
       "      <td>367.0</td>\n",
       "    </tr>\n",
       "    <tr>\n",
       "      <th>6</th>\n",
       "      <td>2</td>\n",
       "      <td>3</td>\n",
       "      <td>ultra</td>\n",
       "      <td>199</td>\n",
       "      <td>10187.723006</td>\n",
       "      <td>63.0</td>\n",
       "      <td>577.0</td>\n",
       "    </tr>\n",
       "    <tr>\n",
       "      <th>7</th>\n",
       "      <td>2</td>\n",
       "      <td>4</td>\n",
       "      <td>ultra</td>\n",
       "      <td>199</td>\n",
       "      <td>6164.381824</td>\n",
       "      <td>40.0</td>\n",
       "      <td>439.0</td>\n",
       "    </tr>\n",
       "    <tr>\n",
       "      <th>8</th>\n",
       "      <td>2</td>\n",
       "      <td>6</td>\n",
       "      <td>ultra</td>\n",
       "      <td>199</td>\n",
       "      <td>3255.338202</td>\n",
       "      <td>14.0</td>\n",
       "      <td>283.0</td>\n",
       "    </tr>\n",
       "    <tr>\n",
       "      <th>9</th>\n",
       "      <td>2</td>\n",
       "      <td>7</td>\n",
       "      <td>ultra</td>\n",
       "      <td>199</td>\n",
       "      <td>6780.722964</td>\n",
       "      <td>48.0</td>\n",
       "      <td>487.0</td>\n",
       "    </tr>\n",
       "  </tbody>\n",
       "</table>\n",
       "</div>"
      ],
      "text/plain": [
       "   user_id  month subscription_type  subscription_fee      distance  duration  \\\n",
       "0        1      1             ultra               199   7027.511294      42.0   \n",
       "1        1      4             ultra               199    754.159807       7.0   \n",
       "2        1      8             ultra               199   6723.470560      46.0   \n",
       "3        1     10             ultra               199   5809.911100      32.0   \n",
       "4        1     11             ultra               199   7003.499363      56.0   \n",
       "5        1     12             ultra               199   6751.629942      28.0   \n",
       "6        2      3             ultra               199  10187.723006      63.0   \n",
       "7        2      4             ultra               199   6164.381824      40.0   \n",
       "8        2      6             ultra               199   3255.338202      14.0   \n",
       "9        2      7             ultra               199   6780.722964      48.0   \n",
       "\n",
       "   income  \n",
       "0   451.0  \n",
       "1   241.0  \n",
       "2   475.0  \n",
       "3   391.0  \n",
       "4   535.0  \n",
       "5   367.0  \n",
       "6   577.0  \n",
       "7   439.0  \n",
       "8   283.0  \n",
       "9   487.0  "
      ]
     },
     "execution_count": 49,
     "metadata": {},
     "output_type": "execute_result"
    }
   ],
   "source": [
    "agregate_df.head(10)"
   ]
  },
  {
   "cell_type": "markdown",
   "id": "41545ac0",
   "metadata": {},
   "source": [
    "## Проверка гипотез"
   ]
  },
  {
   "cell_type": "markdown",
   "id": "466c0d6e",
   "metadata": {},
   "source": [
    "### Пользователи с подпиской катаются дольше?"
   ]
  },
  {
   "cell_type": "code",
   "execution_count": 50,
   "id": "0cc5b363",
   "metadata": {},
   "outputs": [
    {
     "data": {
      "text/plain": [
       "count    6500.000000\n",
       "mean       18.541985\n",
       "std         5.572048\n",
       "min         3.760353\n",
       "25%        14.524654\n",
       "50%        18.178153\n",
       "75%        21.884129\n",
       "max        40.823963\n",
       "Name: duration, dtype: float64"
      ]
     },
     "execution_count": 50,
     "metadata": {},
     "output_type": "execute_result"
    }
   ],
   "source": [
    "full_ultra['duration'].describe()"
   ]
  },
  {
   "cell_type": "code",
   "execution_count": 51,
   "id": "95cc1090",
   "metadata": {},
   "outputs": [
    {
     "data": {
      "text/plain": [
       "count    11473.000000\n",
       "mean        17.530771\n",
       "std          6.162609\n",
       "min          2.035632\n",
       "25%         13.085688\n",
       "50%         17.383807\n",
       "75%         21.638038\n",
       "max         34.948498\n",
       "Name: duration, dtype: float64"
      ]
     },
     "execution_count": 51,
     "metadata": {},
     "output_type": "execute_result"
    }
   ],
   "source": [
    "full_free['duration'].describe()"
   ]
  },
  {
   "cell_type": "markdown",
   "id": "4d92ff4b",
   "metadata": {},
   "source": [
    "Необходимо вытянуть из каждого датафрейма выборки по времени\n",
    "\n",
    "Составим двустороннюю гипотезу: Н0 - средние значения времени поездки должны быть равны для двух независимых выборок, иначе Н1 - средние значения у пользователей без подписки ниже"
   ]
  },
  {
   "cell_type": "code",
   "execution_count": 52,
   "id": "c923d84d",
   "metadata": {},
   "outputs": [
    {
     "name": "stdout",
     "output_type": "stream",
     "text": [
      "Отвергаем нулевую гипотезу\n"
     ]
    }
   ],
   "source": [
    "alpha = 0.01\n",
    "\n",
    "full_free_time = full_free['duration']\n",
    "full_ultra_time = full_ultra['duration']\n",
    "\n",
    "results = st.ttest_ind(full_free_time, full_ultra_time, alternative = \"less\")\n",
    "p_value = results.pvalue\n",
    "\n",
    "if p_value < alpha:\n",
    "    print('Отвергаем нулевую гипотезу')\n",
    "else:\n",
    "    print(\"Нет основания для отказа от гипотезы\")"
   ]
  },
  {
   "cell_type": "markdown",
   "id": "9569cfcc",
   "metadata": {},
   "source": [
    "Используя тест, мы выявили, что Нулевая гипотеза, то есть равенство между пользователями с подпиской и без, не подтвердилось, поэтому мы получаем, что пользователи без подписки катаются на самокатах меньше по времени"
   ]
  },
  {
   "cell_type": "markdown",
   "id": "9b4253fd",
   "metadata": {},
   "source": [
    "### Среднее расстояние не превышает оптимальное для износа?"
   ]
  },
  {
   "cell_type": "code",
   "execution_count": 53,
   "id": "4156d2c4",
   "metadata": {},
   "outputs": [
    {
     "data": {
      "text/plain": [
       "count    6500.000000\n",
       "mean     3115.445388\n",
       "std       836.895330\n",
       "min       244.210438\n",
       "25%      2785.444017\n",
       "50%      3148.637229\n",
       "75%      3560.574425\n",
       "max      5699.769662\n",
       "Name: distance, dtype: float64"
      ]
     },
     "execution_count": 53,
     "metadata": {},
     "output_type": "execute_result"
    }
   ],
   "source": [
    "full_ultra['distance'].describe()"
   ]
  },
  {
   "cell_type": "markdown",
   "id": "4a62ba28",
   "metadata": {},
   "source": [
    "Проверим гипотезу\n",
    "\n",
    "Н0: Среднее расстояние поездки у пользователей с подпиской равно 3130 м, aльтернативная гипотеза: Среднее расстояние поездки у пользователей с подпиской больше 3130 м"
   ]
  },
  {
   "cell_type": "code",
   "execution_count": 54,
   "id": "2f11c22f",
   "metadata": {},
   "outputs": [
    {
     "name": "stdout",
     "output_type": "stream",
     "text": [
      "Нет основания для отказа от гипотезы\n"
     ]
    }
   ],
   "source": [
    "alpha = 0.01\n",
    "\n",
    "optimum = 3130\n",
    "trail = full_ultra['distance']\n",
    "\n",
    "results = st.ttest_1samp(trail, optimum, alternative = 'greater')\n",
    "p_value = results.pvalue\n",
    "\n",
    "if p_value < alpha:\n",
    "    print('Отвергаем нулевую гипотезу')\n",
    "else:\n",
    "    print(\"Нет основания для отказа от гипотезы\")"
   ]
  },
  {
   "cell_type": "markdown",
   "id": "f6407291",
   "metadata": {},
   "source": [
    "Так как по итогу теста мы не нашли оснований для отказа от нулевой гипотезы, мы получаем, что пользователи с подпиской катаются на самокатах в рамках оптимальных технических ограничений. Также этот результат подтвердился средним расстоянием в 3115 метров"
   ]
  },
  {
   "cell_type": "markdown",
   "id": "0ff2dab2",
   "metadata": {},
   "source": [
    "### Пользователи с подпиской помесячно выгоднее, чем без нее?"
   ]
  },
  {
   "cell_type": "code",
   "execution_count": 55,
   "id": "19f26863",
   "metadata": {},
   "outputs": [
    {
     "data": {
      "text/html": [
       "<div>\n",
       "<style scoped>\n",
       "    .dataframe tbody tr th:only-of-type {\n",
       "        vertical-align: middle;\n",
       "    }\n",
       "\n",
       "    .dataframe tbody tr th {\n",
       "        vertical-align: top;\n",
       "    }\n",
       "\n",
       "    .dataframe thead th {\n",
       "        text-align: right;\n",
       "    }\n",
       "</style>\n",
       "<table border=\"1\" class=\"dataframe\">\n",
       "  <thead>\n",
       "    <tr style=\"text-align: right;\">\n",
       "      <th></th>\n",
       "      <th></th>\n",
       "      <th>income</th>\n",
       "    </tr>\n",
       "    <tr>\n",
       "      <th>month</th>\n",
       "      <th>subscription_type</th>\n",
       "      <th></th>\n",
       "    </tr>\n",
       "  </thead>\n",
       "  <tbody>\n",
       "    <tr>\n",
       "      <th rowspan=\"2\" valign=\"top\">1</th>\n",
       "      <th>free</th>\n",
       "      <td>193328.0</td>\n",
       "    </tr>\n",
       "    <tr>\n",
       "      <th>ultra</th>\n",
       "      <td>144108.0</td>\n",
       "    </tr>\n",
       "    <tr>\n",
       "      <th rowspan=\"2\" valign=\"top\">2</th>\n",
       "      <th>free</th>\n",
       "      <td>165392.0</td>\n",
       "    </tr>\n",
       "    <tr>\n",
       "      <th>ultra</th>\n",
       "      <td>124572.0</td>\n",
       "    </tr>\n",
       "    <tr>\n",
       "      <th rowspan=\"2\" valign=\"top\">3</th>\n",
       "      <th>free</th>\n",
       "      <td>186576.0</td>\n",
       "    </tr>\n",
       "    <tr>\n",
       "      <th>ultra</th>\n",
       "      <td>142608.0</td>\n",
       "    </tr>\n",
       "    <tr>\n",
       "      <th rowspan=\"2\" valign=\"top\">4</th>\n",
       "      <th>free</th>\n",
       "      <td>185192.0</td>\n",
       "    </tr>\n",
       "    <tr>\n",
       "      <th>ultra</th>\n",
       "      <td>137318.0</td>\n",
       "    </tr>\n",
       "    <tr>\n",
       "      <th rowspan=\"2\" valign=\"top\">5</th>\n",
       "      <th>free</th>\n",
       "      <td>187566.0</td>\n",
       "    </tr>\n",
       "    <tr>\n",
       "      <th>ultra</th>\n",
       "      <td>149235.0</td>\n",
       "    </tr>\n",
       "    <tr>\n",
       "      <th rowspan=\"2\" valign=\"top\">6</th>\n",
       "      <th>free</th>\n",
       "      <td>191854.0</td>\n",
       "    </tr>\n",
       "    <tr>\n",
       "      <th>ultra</th>\n",
       "      <td>143834.0</td>\n",
       "    </tr>\n",
       "    <tr>\n",
       "      <th rowspan=\"2\" valign=\"top\">7</th>\n",
       "      <th>free</th>\n",
       "      <td>184632.0</td>\n",
       "    </tr>\n",
       "    <tr>\n",
       "      <th>ultra</th>\n",
       "      <td>143466.0</td>\n",
       "    </tr>\n",
       "    <tr>\n",
       "      <th rowspan=\"2\" valign=\"top\">8</th>\n",
       "      <th>free</th>\n",
       "      <td>186652.0</td>\n",
       "    </tr>\n",
       "    <tr>\n",
       "      <th>ultra</th>\n",
       "      <td>138534.0</td>\n",
       "    </tr>\n",
       "    <tr>\n",
       "      <th rowspan=\"2\" valign=\"top\">9</th>\n",
       "      <th>free</th>\n",
       "      <td>193352.0</td>\n",
       "    </tr>\n",
       "    <tr>\n",
       "      <th>ultra</th>\n",
       "      <td>129337.0</td>\n",
       "    </tr>\n",
       "    <tr>\n",
       "      <th rowspan=\"2\" valign=\"top\">10</th>\n",
       "      <th>free</th>\n",
       "      <td>181196.0</td>\n",
       "    </tr>\n",
       "    <tr>\n",
       "      <th>ultra</th>\n",
       "      <td>133932.0</td>\n",
       "    </tr>\n",
       "    <tr>\n",
       "      <th rowspan=\"2\" valign=\"top\">11</th>\n",
       "      <th>free</th>\n",
       "      <td>178438.0</td>\n",
       "    </tr>\n",
       "    <tr>\n",
       "      <th>ultra</th>\n",
       "      <td>126546.0</td>\n",
       "    </tr>\n",
       "    <tr>\n",
       "      <th rowspan=\"2\" valign=\"top\">12</th>\n",
       "      <th>free</th>\n",
       "      <td>194416.0</td>\n",
       "    </tr>\n",
       "    <tr>\n",
       "      <th>ultra</th>\n",
       "      <td>131047.0</td>\n",
       "    </tr>\n",
       "  </tbody>\n",
       "</table>\n",
       "</div>"
      ],
      "text/plain": [
       "                           income\n",
       "month subscription_type          \n",
       "1     free               193328.0\n",
       "      ultra              144108.0\n",
       "2     free               165392.0\n",
       "      ultra              124572.0\n",
       "3     free               186576.0\n",
       "      ultra              142608.0\n",
       "4     free               185192.0\n",
       "      ultra              137318.0\n",
       "5     free               187566.0\n",
       "      ultra              149235.0\n",
       "6     free               191854.0\n",
       "      ultra              143834.0\n",
       "7     free               184632.0\n",
       "      ultra              143466.0\n",
       "8     free               186652.0\n",
       "      ultra              138534.0\n",
       "9     free               193352.0\n",
       "      ultra              129337.0\n",
       "10    free               181196.0\n",
       "      ultra              133932.0\n",
       "11    free               178438.0\n",
       "      ultra              126546.0\n",
       "12    free               194416.0\n",
       "      ultra              131047.0"
      ]
     },
     "execution_count": 55,
     "metadata": {},
     "output_type": "execute_result"
    }
   ],
   "source": [
    "agregate_df.groupby(['month', 'subscription_type']).agg({'income':'sum'})"
   ]
  },
  {
   "cell_type": "markdown",
   "id": "272d3a47",
   "metadata": {},
   "source": [
    "Необходимо подготовить две выборки с помесячными доходностями для пользователей с подписками или без них.\n",
    "\n",
    "Далее гипотеза:\n",
    "\n",
    "Средняя помесячная выручка от пользователей с подпиской и без - равны, альтернативная гипотеза: Средняя помесячная выручка пользователей с подпиской больше"
   ]
  },
  {
   "cell_type": "code",
   "execution_count": 56,
   "id": "72c96ea0",
   "metadata": {},
   "outputs": [
    {
     "name": "stdout",
     "output_type": "stream",
     "text": [
      "Отвергаем нулевую гипотезу\n"
     ]
    }
   ],
   "source": [
    "free_monthly_income = agregate_df.query('subscription_type == \"free\"')['income']\n",
    "ultra_monthly_income = agregate_df.query('subscription_type == \"ultra\"')['income']\n",
    "\n",
    "alpha = 0.01\n",
    "\n",
    "results = st.ttest_ind(ultra_monthly_income, free_monthly_income, alternative = 'greater', equal_var = False)\n",
    "p_value = results.pvalue\n",
    "\n",
    "if p_value < alpha:\n",
    "    print('Отвергаем нулевую гипотезу')\n",
    "else:\n",
    "    print(\"Нет основания для отказа от гипотезы\")"
   ]
  },
  {
   "cell_type": "markdown",
   "id": "df9d22b7",
   "metadata": {},
   "source": [
    "По итогам теста мы отвергаем нулевую гипотезу, поэтому мы можем сделать вывод, что пользователи с подпиской тратят больше денег"
   ]
  },
  {
   "cell_type": "markdown",
   "id": "45ff79c1",
   "metadata": {},
   "source": [
    "### Сравнение обращений в поддержку до и после обновления"
   ]
  },
  {
   "cell_type": "markdown",
   "id": "4a547732",
   "metadata": {},
   "source": [
    "В данном случае понадобится тест для двух зависимых выборок, который выглядит как scipy.stats.ttest_rel(выборка1, выборка2, alternative = 'less')\n",
    "\n",
    "Нулевая гипотеза - среднее количество обращений не изменилось, то есть после обновления среднее число равно среднему числу до обновления, альтернативная гипотеза - обращений стало меньше"
   ]
  },
  {
   "cell_type": "markdown",
   "id": "61213c5e",
   "metadata": {},
   "source": [
    "## Распределения"
   ]
  },
  {
   "cell_type": "markdown",
   "id": "0c240ac5",
   "metadata": {},
   "source": [
    "### Акция с промокодами"
   ]
  },
  {
   "cell_type": "code",
   "execution_count": 57,
   "id": "6402658e",
   "metadata": {},
   "outputs": [
    {
     "data": {
      "text/plain": [
       "1161"
      ]
     },
     "execution_count": 57,
     "metadata": {},
     "output_type": "execute_result"
    }
   ],
   "source": [
    "def min_N(target=100, p=0.1, max_fail=0.05):\n",
    "    for N in range (1000, 2000):\n",
    "        distr = binom(N, p)\n",
    "        fail = distr.cdf(target-1)\n",
    "        if fail <= max_fail:\n",
    "            return N\n",
    "\n",
    "N = min_N()\n",
    "N"
   ]
  },
  {
   "cell_type": "markdown",
   "id": "c7cebf54",
   "metadata": {},
   "source": [
    "Для того чтобы выполнить план с вероятностью 5% что будет менее 100 продлений подписок - необходимо отправить 1161 промокод"
   ]
  },
  {
   "cell_type": "markdown",
   "id": "5c87ea1c",
   "metadata": {},
   "source": [
    "### Push-уведомления"
   ]
  },
  {
   "cell_type": "code",
   "execution_count": 58,
   "id": "f9d3d646",
   "metadata": {},
   "outputs": [
    {
     "data": {
      "text/plain": [
       "0.15371708296369768"
      ]
     },
     "execution_count": 58,
     "metadata": {},
     "output_type": "execute_result"
    }
   ],
   "source": [
    "n = 1000000\n",
    "p=0.4\n",
    "\n",
    "mu = n*p\n",
    "sigma = (n*p*(1-p))**0.5\n",
    "\n",
    "distr = st.norm(mu, sigma)\n",
    "distr.cdf(399500)"
   ]
  },
  {
   "cell_type": "markdown",
   "id": "b96aa943",
   "metadata": {},
   "source": [
    "Вероятность того, что ссылку откроют не более 399500 пользователей равна 15,37%"
   ]
  },
  {
   "cell_type": "markdown",
   "id": "14c28699",
   "metadata": {},
   "source": [
    "## Выводы"
   ]
  },
  {
   "cell_type": "markdown",
   "id": "cbbbe2bb",
   "metadata": {},
   "source": [
    "**Пользовательская база:**\n",
    "\n",
    "* Основная аудитория — молодые люди 22-28 лет.\n",
    "\n",
    "* Наибольшее количество пользователей в Пятигорске, наименьшее — в Москве.\n",
    "\n",
    "* Соотношение подписок: 55% без подписки (free), 45% с подпиской (ultra).\n",
    "\n",
    "**Поездки:**\n",
    "\n",
    "* С подпиской ultra:\n",
    "\n",
    " * Пользователи с подпиской за счет бесплатного старта охотнее берут самокаты на повседневную основу - короткие и быстрые поездки\n",
    " \n",
    " * Пользователи с подпиской ездят в среднем дольше на 6% и дальше на 3%\n",
    "\n",
    "* Без подписки (free):\n",
    "\n",
    " * Пользователи без подписки чаще берут самокаты на длительное время расстояние\n",
    " \n",
    " * В среднем пользователи без подписки катаются меньше, это может быть связано с платой за старт\n",
    "\n",
    "**Финансовая эффективность:**\n",
    "\n",
    "* Пользователи с подпиской приносят больше дохода (гипотеза подтверждена, p-value < 0.01), несмотря на меньшую стоимость минуты (6 руб. vs 8 руб. у free).\n",
    "\n",
    "* Основной доход для ultra формируется за счёт абонентской платы (199 руб./мес.) и более частых поездок.\n",
    "\n",
    "**Технические аспекты:**\n",
    "\n",
    "* Дистанция поездок у ultra-пользователей не превышает оптимальные значения для износа самокатов (p-value > 0.01).\n",
    "\n",
    "**Маркетинговые задачи:**\n",
    "\n",
    "* Для акции с промокодами необходимо разослать 1161 промокод, чтобы достичь 100 продлений с риском ≤ 5%.\n",
    "\n",
    "* Вероятность, что push-уведомление откроют ≤ 399.5 тыс. пользователей из 1 млн — 15.4%."
   ]
  }
 ],
 "metadata": {
  "ExecuteTimeLog": [
   {
    "duration": 1353,
    "start_time": "2025-04-20T09:42:21.240Z"
   },
   {
    "duration": 162,
    "start_time": "2025-04-20T09:43:26.815Z"
   },
   {
    "duration": 1168,
    "start_time": "2025-04-20T09:43:54.429Z"
   },
   {
    "duration": 138,
    "start_time": "2025-04-20T09:43:55.599Z"
   },
   {
    "duration": 45,
    "start_time": "2025-04-20T09:44:58.942Z"
   },
   {
    "duration": 3,
    "start_time": "2025-04-20T09:46:54.939Z"
   },
   {
    "duration": 87,
    "start_time": "2025-04-20T09:46:58.248Z"
   },
   {
    "duration": 48,
    "start_time": "2025-04-20T09:47:11.868Z"
   },
   {
    "duration": 18,
    "start_time": "2025-04-20T09:47:27.400Z"
   },
   {
    "duration": 56,
    "start_time": "2025-04-20T09:47:40.407Z"
   },
   {
    "duration": 18,
    "start_time": "2025-04-20T09:47:55.044Z"
   },
   {
    "duration": 16,
    "start_time": "2025-04-20T09:48:05.244Z"
   },
   {
    "duration": 17,
    "start_time": "2025-04-20T09:48:17.360Z"
   },
   {
    "duration": 10,
    "start_time": "2025-04-20T09:48:33.503Z"
   },
   {
    "duration": 11,
    "start_time": "2025-04-20T09:48:39.868Z"
   },
   {
    "duration": 55,
    "start_time": "2025-04-20T09:48:56.700Z"
   },
   {
    "duration": 7,
    "start_time": "2025-04-20T09:49:05.644Z"
   },
   {
    "duration": 10,
    "start_time": "2025-04-20T09:49:21.684Z"
   },
   {
    "duration": 1169,
    "start_time": "2025-04-20T09:50:19.197Z"
   },
   {
    "duration": 59,
    "start_time": "2025-04-20T09:50:20.368Z"
   },
   {
    "duration": 13,
    "start_time": "2025-04-20T09:50:20.431Z"
   },
   {
    "duration": 11,
    "start_time": "2025-04-20T09:50:20.446Z"
   },
   {
    "duration": 11,
    "start_time": "2025-04-20T09:50:20.459Z"
   },
   {
    "duration": 19,
    "start_time": "2025-04-20T09:50:20.472Z"
   },
   {
    "duration": 20,
    "start_time": "2025-04-20T09:50:20.492Z"
   },
   {
    "duration": 21,
    "start_time": "2025-04-20T09:50:20.514Z"
   },
   {
    "duration": 1435,
    "start_time": "2025-04-20T11:17:06.415Z"
   },
   {
    "duration": 74,
    "start_time": "2025-04-20T11:17:07.852Z"
   },
   {
    "duration": 14,
    "start_time": "2025-04-20T11:17:07.928Z"
   },
   {
    "duration": 44,
    "start_time": "2025-04-20T11:17:07.944Z"
   },
   {
    "duration": 40,
    "start_time": "2025-04-20T11:17:07.989Z"
   },
   {
    "duration": 108,
    "start_time": "2025-04-20T11:17:08.031Z"
   },
   {
    "duration": 50,
    "start_time": "2025-04-20T11:17:08.141Z"
   },
   {
    "duration": 28,
    "start_time": "2025-04-20T11:17:08.193Z"
   },
   {
    "duration": 964,
    "start_time": "2025-04-20T11:18:22.147Z"
   },
   {
    "duration": 16,
    "start_time": "2025-04-20T11:19:24.055Z"
   },
   {
    "duration": 18,
    "start_time": "2025-04-20T11:19:30.444Z"
   },
   {
    "duration": 17,
    "start_time": "2025-04-20T11:19:34.455Z"
   },
   {
    "duration": 12,
    "start_time": "2025-04-20T11:19:44.947Z"
   },
   {
    "duration": 13,
    "start_time": "2025-04-20T11:20:26.444Z"
   },
   {
    "duration": 10,
    "start_time": "2025-04-20T11:20:44.184Z"
   },
   {
    "duration": 11,
    "start_time": "2025-04-20T11:21:11.887Z"
   },
   {
    "duration": 11,
    "start_time": "2025-04-20T11:21:21.527Z"
   },
   {
    "duration": 13,
    "start_time": "2025-04-20T11:21:30.035Z"
   },
   {
    "duration": 7,
    "start_time": "2025-04-20T11:22:37.615Z"
   },
   {
    "duration": 15,
    "start_time": "2025-04-20T11:22:57.727Z"
   },
   {
    "duration": 13,
    "start_time": "2025-04-20T11:23:05.583Z"
   },
   {
    "duration": 15,
    "start_time": "2025-04-20T11:23:13.779Z"
   },
   {
    "duration": 14,
    "start_time": "2025-04-20T11:23:20.127Z"
   },
   {
    "duration": 309,
    "start_time": "2025-04-20T11:23:53.619Z"
   },
   {
    "duration": 20,
    "start_time": "2025-04-20T11:24:01.679Z"
   },
   {
    "duration": 6,
    "start_time": "2025-04-20T11:25:29.187Z"
   },
   {
    "duration": 81,
    "start_time": "2025-04-20T11:26:03.231Z"
   },
   {
    "duration": 6,
    "start_time": "2025-04-20T11:26:07.755Z"
   },
   {
    "duration": 9,
    "start_time": "2025-04-20T11:28:02.951Z"
   },
   {
    "duration": 10,
    "start_time": "2025-04-20T11:28:10.165Z"
   },
   {
    "duration": 12,
    "start_time": "2025-04-20T11:28:26.398Z"
   },
   {
    "duration": 99,
    "start_time": "2025-04-20T11:30:53.578Z"
   },
   {
    "duration": 9,
    "start_time": "2025-04-20T11:33:33.034Z"
   },
   {
    "duration": 15,
    "start_time": "2025-04-20T11:33:57.814Z"
   },
   {
    "duration": 11,
    "start_time": "2025-04-20T11:34:13.566Z"
   },
   {
    "duration": 1186,
    "start_time": "2025-04-20T11:34:26.545Z"
   },
   {
    "duration": 14,
    "start_time": "2025-04-20T11:34:32.298Z"
   },
   {
    "duration": 11,
    "start_time": "2025-04-20T11:34:53.126Z"
   },
   {
    "duration": 9,
    "start_time": "2025-04-20T11:35:41.370Z"
   },
   {
    "duration": 6,
    "start_time": "2025-04-20T11:35:54.325Z"
   },
   {
    "duration": 14,
    "start_time": "2025-04-20T11:37:17.945Z"
   },
   {
    "duration": 13,
    "start_time": "2025-04-20T11:37:28.598Z"
   },
   {
    "duration": 93,
    "start_time": "2025-04-20T11:38:16.573Z"
   },
   {
    "duration": 109,
    "start_time": "2025-04-20T11:38:58.369Z"
   },
   {
    "duration": 106,
    "start_time": "2025-04-20T11:39:26.229Z"
   },
   {
    "duration": 66,
    "start_time": "2025-04-20T11:40:04.365Z"
   },
   {
    "duration": 10,
    "start_time": "2025-04-20T11:40:51.305Z"
   },
   {
    "duration": 13,
    "start_time": "2025-04-20T11:40:56.089Z"
   },
   {
    "duration": 143,
    "start_time": "2025-04-20T11:41:34.681Z"
   },
   {
    "duration": 154,
    "start_time": "2025-04-20T11:41:51.265Z"
   },
   {
    "duration": 224,
    "start_time": "2025-04-20T11:41:56.901Z"
   },
   {
    "duration": 144,
    "start_time": "2025-04-20T11:42:05.385Z"
   },
   {
    "duration": 167,
    "start_time": "2025-04-20T11:42:34.925Z"
   },
   {
    "duration": 199,
    "start_time": "2025-04-20T11:42:38.504Z"
   },
   {
    "duration": 145,
    "start_time": "2025-04-20T11:42:41.563Z"
   },
   {
    "duration": 135,
    "start_time": "2025-04-20T11:42:52.597Z"
   },
   {
    "duration": 142,
    "start_time": "2025-04-20T11:42:56.301Z"
   },
   {
    "duration": 9,
    "start_time": "2025-04-20T11:43:03.553Z"
   },
   {
    "duration": 137,
    "start_time": "2025-04-20T11:43:12.137Z"
   },
   {
    "duration": 494,
    "start_time": "2025-04-20T11:44:00.319Z"
   },
   {
    "duration": 137,
    "start_time": "2025-04-20T11:44:09.684Z"
   },
   {
    "duration": 9,
    "start_time": "2025-04-20T11:44:16.968Z"
   },
   {
    "duration": 11,
    "start_time": "2025-04-20T11:45:28.580Z"
   },
   {
    "duration": 10,
    "start_time": "2025-04-20T11:45:32.545Z"
   },
   {
    "duration": 145,
    "start_time": "2025-04-20T11:45:43.736Z"
   },
   {
    "duration": 137,
    "start_time": "2025-04-20T11:45:54.501Z"
   },
   {
    "duration": 113,
    "start_time": "2025-04-20T11:46:24.085Z"
   },
   {
    "duration": 1163,
    "start_time": "2025-04-20T11:46:54.816Z"
   },
   {
    "duration": 129,
    "start_time": "2025-04-20T11:47:04.617Z"
   },
   {
    "duration": 139,
    "start_time": "2025-04-20T11:47:08.848Z"
   },
   {
    "duration": 8,
    "start_time": "2025-04-20T11:47:24.456Z"
   },
   {
    "duration": 510,
    "start_time": "2025-04-20T11:48:43.811Z"
   },
   {
    "duration": 5,
    "start_time": "2025-04-20T11:49:01.324Z"
   },
   {
    "duration": 5,
    "start_time": "2025-04-20T11:49:09.832Z"
   },
   {
    "duration": 9,
    "start_time": "2025-04-20T11:49:32.938Z"
   },
   {
    "duration": 240,
    "start_time": "2025-04-20T11:49:43.084Z"
   },
   {
    "duration": 130,
    "start_time": "2025-04-20T11:50:00.600Z"
   },
   {
    "duration": 142,
    "start_time": "2025-04-20T11:50:05.772Z"
   },
   {
    "duration": 141,
    "start_time": "2025-04-20T11:50:11.961Z"
   },
   {
    "duration": 7,
    "start_time": "2025-04-20T11:50:54.876Z"
   },
   {
    "duration": 158,
    "start_time": "2025-04-20T11:51:06.528Z"
   },
   {
    "duration": 393,
    "start_time": "2025-04-20T11:52:40.868Z"
   },
   {
    "duration": 266,
    "start_time": "2025-04-20T11:52:47.551Z"
   },
   {
    "duration": 178,
    "start_time": "2025-04-20T11:53:26.883Z"
   },
   {
    "duration": 192,
    "start_time": "2025-04-20T11:53:32.952Z"
   },
   {
    "duration": 237,
    "start_time": "2025-04-20T11:53:37.099Z"
   },
   {
    "duration": 212,
    "start_time": "2025-04-20T11:53:42.775Z"
   },
   {
    "duration": 13,
    "start_time": "2025-04-20T11:57:02.488Z"
   },
   {
    "duration": 260,
    "start_time": "2025-04-20T11:57:23.400Z"
   },
   {
    "duration": 219,
    "start_time": "2025-04-20T11:57:45.648Z"
   },
   {
    "duration": 10,
    "start_time": "2025-04-20T11:59:35.378Z"
   },
   {
    "duration": 12,
    "start_time": "2025-04-20T11:59:42.807Z"
   },
   {
    "duration": 14,
    "start_time": "2025-04-20T12:00:02.351Z"
   },
   {
    "duration": 9,
    "start_time": "2025-04-20T12:02:34.676Z"
   },
   {
    "duration": 9,
    "start_time": "2025-04-20T12:03:07.971Z"
   },
   {
    "duration": 9,
    "start_time": "2025-04-20T12:04:14.074Z"
   },
   {
    "duration": 125,
    "start_time": "2025-04-20T12:06:11.646Z"
   },
   {
    "duration": 5,
    "start_time": "2025-04-20T12:08:38.226Z"
   },
   {
    "duration": 13,
    "start_time": "2025-04-20T12:08:47.022Z"
   },
   {
    "duration": 13,
    "start_time": "2025-04-20T12:09:05.778Z"
   },
   {
    "duration": 1258,
    "start_time": "2025-04-20T12:09:27.645Z"
   },
   {
    "duration": 72,
    "start_time": "2025-04-20T12:09:28.905Z"
   },
   {
    "duration": 12,
    "start_time": "2025-04-20T12:09:28.979Z"
   },
   {
    "duration": 43,
    "start_time": "2025-04-20T12:09:28.993Z"
   },
   {
    "duration": 13,
    "start_time": "2025-04-20T12:09:29.038Z"
   },
   {
    "duration": 23,
    "start_time": "2025-04-20T12:09:29.052Z"
   },
   {
    "duration": 13,
    "start_time": "2025-04-20T12:09:29.077Z"
   },
   {
    "duration": 12,
    "start_time": "2025-04-20T12:09:29.092Z"
   },
   {
    "duration": 27,
    "start_time": "2025-04-20T12:09:29.105Z"
   },
   {
    "duration": 10,
    "start_time": "2025-04-20T12:09:29.135Z"
   },
   {
    "duration": 11,
    "start_time": "2025-04-20T12:09:29.146Z"
   },
   {
    "duration": 275,
    "start_time": "2025-04-20T12:09:29.161Z"
   },
   {
    "duration": 235,
    "start_time": "2025-04-20T12:09:29.438Z"
   },
   {
    "duration": 139,
    "start_time": "2025-04-20T12:09:29.675Z"
   },
   {
    "duration": 14,
    "start_time": "2025-04-20T12:09:29.816Z"
   },
   {
    "duration": 30,
    "start_time": "2025-04-20T12:09:29.832Z"
   },
   {
    "duration": 6,
    "start_time": "2025-04-20T12:09:29.864Z"
   },
   {
    "duration": 24,
    "start_time": "2025-04-20T12:09:29.872Z"
   },
   {
    "duration": 19,
    "start_time": "2025-04-20T12:09:29.898Z"
   },
   {
    "duration": 53,
    "start_time": "2025-04-20T12:09:29.919Z"
   },
   {
    "duration": 69,
    "start_time": "2025-04-20T12:09:29.974Z"
   },
   {
    "duration": 83,
    "start_time": "2025-04-20T12:09:30.044Z"
   },
   {
    "duration": 152,
    "start_time": "2025-04-20T12:09:30.128Z"
   },
   {
    "duration": 16,
    "start_time": "2025-04-20T12:09:30.281Z"
   },
   {
    "duration": 137,
    "start_time": "2025-04-20T12:09:30.299Z"
   },
   {
    "duration": 20,
    "start_time": "2025-04-20T12:09:30.438Z"
   },
   {
    "duration": 34,
    "start_time": "2025-04-20T12:09:30.460Z"
   },
   {
    "duration": 221,
    "start_time": "2025-04-20T12:09:30.499Z"
   },
   {
    "duration": 10,
    "start_time": "2025-04-20T12:09:30.723Z"
   },
   {
    "duration": 353,
    "start_time": "2025-04-20T12:09:30.735Z"
   },
   {
    "duration": 10,
    "start_time": "2025-04-20T12:09:31.091Z"
   },
   {
    "duration": 367,
    "start_time": "2025-04-20T12:09:31.103Z"
   },
   {
    "duration": 88,
    "start_time": "2025-04-20T12:33:25.537Z"
   },
   {
    "duration": 12,
    "start_time": "2025-04-20T12:33:39.607Z"
   },
   {
    "duration": 11,
    "start_time": "2025-04-20T12:34:23.642Z"
   },
   {
    "duration": 17,
    "start_time": "2025-04-20T12:34:35.758Z"
   },
   {
    "duration": 113,
    "start_time": "2025-04-20T12:34:51.310Z"
   },
   {
    "duration": 16,
    "start_time": "2025-04-20T12:34:55.921Z"
   },
   {
    "duration": 34,
    "start_time": "2025-04-20T12:35:48.713Z"
   },
   {
    "duration": 18,
    "start_time": "2025-04-20T12:35:59.161Z"
   },
   {
    "duration": 20,
    "start_time": "2025-04-20T12:36:11.869Z"
   },
   {
    "duration": 21,
    "start_time": "2025-04-20T12:36:29.721Z"
   },
   {
    "duration": 14,
    "start_time": "2025-04-20T12:36:50.606Z"
   },
   {
    "duration": 17,
    "start_time": "2025-04-20T12:37:42.665Z"
   },
   {
    "duration": 14,
    "start_time": "2025-04-20T12:37:59.341Z"
   },
   {
    "duration": 196,
    "start_time": "2025-04-20T12:40:53.113Z"
   },
   {
    "duration": 170,
    "start_time": "2025-04-20T12:41:00.600Z"
   },
   {
    "duration": 182,
    "start_time": "2025-04-20T12:41:46.693Z"
   },
   {
    "duration": 179,
    "start_time": "2025-04-20T12:41:59.429Z"
   },
   {
    "duration": 176,
    "start_time": "2025-04-20T12:42:07.781Z"
   },
   {
    "duration": 1254,
    "start_time": "2025-04-20T12:44:37.189Z"
   },
   {
    "duration": 1425,
    "start_time": "2025-04-20T12:45:05.040Z"
   },
   {
    "duration": 169,
    "start_time": "2025-04-20T12:45:29.928Z"
   },
   {
    "duration": 236,
    "start_time": "2025-04-20T12:47:54.624Z"
   },
   {
    "duration": 238,
    "start_time": "2025-04-20T12:48:15.060Z"
   },
   {
    "duration": 219,
    "start_time": "2025-04-20T12:48:21.428Z"
   },
   {
    "duration": 348,
    "start_time": "2025-04-20T12:48:23.788Z"
   },
   {
    "duration": 418,
    "start_time": "2025-04-20T12:48:28.352Z"
   },
   {
    "duration": 326,
    "start_time": "2025-04-20T12:48:36.904Z"
   },
   {
    "duration": 346,
    "start_time": "2025-04-20T12:48:46.120Z"
   },
   {
    "duration": 393,
    "start_time": "2025-04-20T12:48:49.404Z"
   },
   {
    "duration": 562,
    "start_time": "2025-04-20T12:48:56.136Z"
   },
   {
    "duration": 386,
    "start_time": "2025-04-20T12:49:03.704Z"
   },
   {
    "duration": 355,
    "start_time": "2025-04-20T12:49:08.712Z"
   },
   {
    "duration": 357,
    "start_time": "2025-04-20T12:49:52.759Z"
   },
   {
    "duration": 537,
    "start_time": "2025-04-20T12:50:03.071Z"
   },
   {
    "duration": 357,
    "start_time": "2025-04-20T12:50:13.547Z"
   },
   {
    "duration": 301,
    "start_time": "2025-04-20T12:50:30.188Z"
   },
   {
    "duration": 361,
    "start_time": "2025-04-20T12:50:39.520Z"
   },
   {
    "duration": 544,
    "start_time": "2025-04-20T12:51:17.051Z"
   },
   {
    "duration": 478,
    "start_time": "2025-04-20T12:51:27.159Z"
   },
   {
    "duration": 423,
    "start_time": "2025-04-20T12:52:10.603Z"
   },
   {
    "duration": 399,
    "start_time": "2025-04-20T12:52:33.279Z"
   },
   {
    "duration": 543,
    "start_time": "2025-04-20T12:52:41.111Z"
   },
   {
    "duration": 376,
    "start_time": "2025-04-20T12:52:51.520Z"
   },
   {
    "duration": 363,
    "start_time": "2025-04-20T12:52:56.027Z"
   },
   {
    "duration": 343,
    "start_time": "2025-04-20T12:53:18.596Z"
   },
   {
    "duration": 18,
    "start_time": "2025-04-20T12:54:13.663Z"
   },
   {
    "duration": 18,
    "start_time": "2025-04-20T12:54:23.139Z"
   },
   {
    "duration": 18,
    "start_time": "2025-04-20T12:54:32.195Z"
   },
   {
    "duration": 3,
    "start_time": "2025-04-20T12:58:22.783Z"
   },
   {
    "duration": 4,
    "start_time": "2025-04-20T13:00:38.079Z"
   },
   {
    "duration": 13,
    "start_time": "2025-04-20T13:04:09.882Z"
   },
   {
    "duration": 11,
    "start_time": "2025-04-20T13:04:34.734Z"
   },
   {
    "duration": 16,
    "start_time": "2025-04-20T13:05:01.707Z"
   },
   {
    "duration": 4,
    "start_time": "2025-04-20T13:06:20.775Z"
   },
   {
    "duration": 28,
    "start_time": "2025-04-20T13:06:34.198Z"
   },
   {
    "duration": 22,
    "start_time": "2025-04-20T13:06:49.424Z"
   },
   {
    "duration": 23,
    "start_time": "2025-04-20T13:09:19.396Z"
   },
   {
    "duration": 27,
    "start_time": "2025-04-20T13:09:54.663Z"
   },
   {
    "duration": 1274,
    "start_time": "2025-04-20T14:10:47.138Z"
   },
   {
    "duration": 72,
    "start_time": "2025-04-20T14:10:48.414Z"
   },
   {
    "duration": 14,
    "start_time": "2025-04-20T14:10:48.487Z"
   },
   {
    "duration": 27,
    "start_time": "2025-04-20T14:10:48.503Z"
   },
   {
    "duration": 36,
    "start_time": "2025-04-20T14:10:48.532Z"
   },
   {
    "duration": 24,
    "start_time": "2025-04-20T14:10:48.569Z"
   },
   {
    "duration": 15,
    "start_time": "2025-04-20T14:10:48.595Z"
   },
   {
    "duration": 27,
    "start_time": "2025-04-20T14:10:48.611Z"
   },
   {
    "duration": 17,
    "start_time": "2025-04-20T14:10:48.641Z"
   },
   {
    "duration": 11,
    "start_time": "2025-04-20T14:10:48.661Z"
   },
   {
    "duration": 22,
    "start_time": "2025-04-20T14:10:48.674Z"
   },
   {
    "duration": 296,
    "start_time": "2025-04-20T14:10:48.698Z"
   },
   {
    "duration": 236,
    "start_time": "2025-04-20T14:10:48.996Z"
   },
   {
    "duration": 143,
    "start_time": "2025-04-20T14:10:49.234Z"
   },
   {
    "duration": 14,
    "start_time": "2025-04-20T14:10:49.378Z"
   },
   {
    "duration": 36,
    "start_time": "2025-04-20T14:10:49.394Z"
   },
   {
    "duration": 13,
    "start_time": "2025-04-20T14:10:49.432Z"
   },
   {
    "duration": 12,
    "start_time": "2025-04-20T14:10:49.446Z"
   },
   {
    "duration": 11,
    "start_time": "2025-04-20T14:10:49.461Z"
   },
   {
    "duration": 12,
    "start_time": "2025-04-20T14:10:49.474Z"
   },
   {
    "duration": 11,
    "start_time": "2025-04-20T14:10:49.488Z"
   },
   {
    "duration": 33,
    "start_time": "2025-04-20T14:10:49.500Z"
   },
   {
    "duration": 109,
    "start_time": "2025-04-20T14:10:49.534Z"
   },
   {
    "duration": 22,
    "start_time": "2025-04-20T14:10:49.645Z"
   },
   {
    "duration": 67,
    "start_time": "2025-04-20T14:10:49.669Z"
   },
   {
    "duration": 23,
    "start_time": "2025-04-20T14:10:49.738Z"
   },
   {
    "duration": 100,
    "start_time": "2025-04-20T14:10:49.763Z"
   },
   {
    "duration": 216,
    "start_time": "2025-04-20T14:10:49.866Z"
   },
   {
    "duration": 10,
    "start_time": "2025-04-20T14:10:50.083Z"
   },
   {
    "duration": 354,
    "start_time": "2025-04-20T14:10:50.095Z"
   },
   {
    "duration": 14,
    "start_time": "2025-04-20T14:10:50.451Z"
   },
   {
    "duration": 232,
    "start_time": "2025-04-20T14:10:50.467Z"
   },
   {
    "duration": 11,
    "start_time": "2025-04-20T14:10:50.700Z"
   },
   {
    "duration": 27,
    "start_time": "2025-04-20T14:10:50.713Z"
   },
   {
    "duration": 40,
    "start_time": "2025-04-20T14:10:50.742Z"
   },
   {
    "duration": 47,
    "start_time": "2025-04-20T14:10:50.785Z"
   },
   {
    "duration": 35,
    "start_time": "2025-04-20T14:10:50.833Z"
   },
   {
    "duration": 16,
    "start_time": "2025-04-20T14:10:50.870Z"
   },
   {
    "duration": 47,
    "start_time": "2025-04-20T14:10:50.888Z"
   },
   {
    "duration": 22,
    "start_time": "2025-04-20T14:10:50.937Z"
   },
   {
    "duration": 420,
    "start_time": "2025-04-20T14:10:50.961Z"
   },
   {
    "duration": 18,
    "start_time": "2025-04-20T14:10:51.383Z"
   },
   {
    "duration": 381,
    "start_time": "2025-04-20T14:10:51.402Z"
   },
   {
    "duration": 18,
    "start_time": "2025-04-20T14:10:51.785Z"
   },
   {
    "duration": 85,
    "start_time": "2025-04-20T14:10:51.805Z"
   },
   {
    "duration": 29,
    "start_time": "2025-04-20T14:13:15.522Z"
   },
   {
    "duration": 34,
    "start_time": "2025-04-20T14:13:24.434Z"
   },
   {
    "duration": 46,
    "start_time": "2025-04-20T14:14:24.531Z"
   },
   {
    "duration": 43,
    "start_time": "2025-04-20T14:14:49.454Z"
   },
   {
    "duration": 5,
    "start_time": "2025-04-20T14:15:01.966Z"
   },
   {
    "duration": 1308,
    "start_time": "2025-04-20T14:16:05.518Z"
   },
   {
    "duration": 1600,
    "start_time": "2025-04-20T14:16:45.686Z"
   },
   {
    "duration": 32,
    "start_time": "2025-04-20T14:17:39.490Z"
   },
   {
    "duration": 5,
    "start_time": "2025-04-20T14:17:43.645Z"
   },
   {
    "duration": 12,
    "start_time": "2025-04-20T14:18:07.138Z"
   },
   {
    "duration": 79,
    "start_time": "2025-04-20T14:19:36.078Z"
   },
   {
    "duration": 95,
    "start_time": "2025-04-20T14:19:45.669Z"
   },
   {
    "duration": 20,
    "start_time": "2025-04-20T14:19:55.625Z"
   },
   {
    "duration": 21,
    "start_time": "2025-04-20T14:20:16.341Z"
   },
   {
    "duration": 18,
    "start_time": "2025-04-20T14:20:36.205Z"
   },
   {
    "duration": 10,
    "start_time": "2025-04-20T14:20:44.849Z"
   },
   {
    "duration": 141,
    "start_time": "2025-04-20T14:21:32.041Z"
   },
   {
    "duration": 4,
    "start_time": "2025-04-20T14:22:06.337Z"
   },
   {
    "duration": 5,
    "start_time": "2025-04-20T14:24:34.076Z"
   },
   {
    "duration": 11,
    "start_time": "2025-04-20T14:25:42.764Z"
   },
   {
    "duration": 14,
    "start_time": "2025-04-20T14:25:50.177Z"
   },
   {
    "duration": 145,
    "start_time": "2025-04-20T14:26:01.065Z"
   },
   {
    "duration": 14,
    "start_time": "2025-04-20T14:26:07.229Z"
   },
   {
    "duration": 14,
    "start_time": "2025-04-20T14:26:26.668Z"
   },
   {
    "duration": 80,
    "start_time": "2025-04-20T14:27:51.009Z"
   },
   {
    "duration": 15,
    "start_time": "2025-04-20T14:27:54.313Z"
   },
   {
    "duration": 22,
    "start_time": "2025-04-20T14:29:40.484Z"
   },
   {
    "duration": 239,
    "start_time": "2025-04-20T14:29:59.633Z"
   },
   {
    "duration": 21,
    "start_time": "2025-04-20T14:30:16.593Z"
   },
   {
    "duration": 23,
    "start_time": "2025-04-20T14:30:24.040Z"
   },
   {
    "duration": 21,
    "start_time": "2025-04-20T14:30:33.528Z"
   },
   {
    "duration": 20,
    "start_time": "2025-04-20T14:30:42.128Z"
   },
   {
    "duration": 141,
    "start_time": "2025-04-20T14:30:58.720Z"
   },
   {
    "duration": 24,
    "start_time": "2025-04-20T14:31:04.992Z"
   },
   {
    "duration": 353,
    "start_time": "2025-04-20T14:31:55.032Z"
   },
   {
    "duration": 377,
    "start_time": "2025-04-20T14:32:06.833Z"
   },
   {
    "duration": 1220,
    "start_time": "2025-04-20T14:32:52.404Z"
   },
   {
    "duration": 61,
    "start_time": "2025-04-20T14:32:53.626Z"
   },
   {
    "duration": 169,
    "start_time": "2025-04-20T14:32:53.689Z"
   },
   {
    "duration": 117,
    "start_time": "2025-04-20T14:32:53.860Z"
   },
   {
    "duration": 71,
    "start_time": "2025-04-20T14:32:53.979Z"
   },
   {
    "duration": 94,
    "start_time": "2025-04-20T14:32:54.052Z"
   },
   {
    "duration": 23,
    "start_time": "2025-04-20T14:32:54.147Z"
   },
   {
    "duration": 39,
    "start_time": "2025-04-20T14:32:54.171Z"
   },
   {
    "duration": 110,
    "start_time": "2025-04-20T14:32:54.212Z"
   },
   {
    "duration": 37,
    "start_time": "2025-04-20T14:32:54.325Z"
   },
   {
    "duration": 16,
    "start_time": "2025-04-20T14:32:54.364Z"
   },
   {
    "duration": 290,
    "start_time": "2025-04-20T14:32:54.382Z"
   },
   {
    "duration": 232,
    "start_time": "2025-04-20T14:32:54.674Z"
   },
   {
    "duration": 143,
    "start_time": "2025-04-20T14:32:54.908Z"
   },
   {
    "duration": 14,
    "start_time": "2025-04-20T14:32:55.061Z"
   },
   {
    "duration": 165,
    "start_time": "2025-04-20T14:32:55.077Z"
   },
   {
    "duration": 68,
    "start_time": "2025-04-20T14:32:55.244Z"
   },
   {
    "duration": 8,
    "start_time": "2025-04-20T14:32:55.314Z"
   },
   {
    "duration": 11,
    "start_time": "2025-04-20T14:32:55.324Z"
   },
   {
    "duration": 9,
    "start_time": "2025-04-20T14:32:55.336Z"
   },
   {
    "duration": 5,
    "start_time": "2025-04-20T14:32:55.347Z"
   },
   {
    "duration": 14,
    "start_time": "2025-04-20T14:32:55.354Z"
   },
   {
    "duration": 111,
    "start_time": "2025-04-20T14:32:55.370Z"
   },
   {
    "duration": 12,
    "start_time": "2025-04-20T14:32:55.483Z"
   },
   {
    "duration": 75,
    "start_time": "2025-04-20T14:32:55.497Z"
   },
   {
    "duration": 7,
    "start_time": "2025-04-20T14:32:55.573Z"
   },
   {
    "duration": 19,
    "start_time": "2025-04-20T14:32:55.581Z"
   },
   {
    "duration": 171,
    "start_time": "2025-04-20T14:32:55.604Z"
   },
   {
    "duration": 8,
    "start_time": "2025-04-20T14:32:55.777Z"
   },
   {
    "duration": 346,
    "start_time": "2025-04-20T14:32:55.787Z"
   },
   {
    "duration": 9,
    "start_time": "2025-04-20T14:32:56.135Z"
   },
   {
    "duration": 441,
    "start_time": "2025-04-20T14:32:56.145Z"
   },
   {
    "duration": 11,
    "start_time": "2025-04-20T14:32:56.588Z"
   },
   {
    "duration": 64,
    "start_time": "2025-04-20T14:32:56.601Z"
   },
   {
    "duration": 35,
    "start_time": "2025-04-20T14:32:56.667Z"
   },
   {
    "duration": 66,
    "start_time": "2025-04-20T14:32:56.704Z"
   },
   {
    "duration": 33,
    "start_time": "2025-04-20T14:32:56.772Z"
   },
   {
    "duration": 59,
    "start_time": "2025-04-20T14:32:56.807Z"
   },
   {
    "duration": 29,
    "start_time": "2025-04-20T14:32:56.867Z"
   },
   {
    "duration": 64,
    "start_time": "2025-04-20T14:32:56.898Z"
   },
   {
    "duration": 803,
    "start_time": "2025-04-20T14:32:56.964Z"
   },
   {
    "duration": 18,
    "start_time": "2025-04-20T14:32:57.769Z"
   },
   {
    "duration": 364,
    "start_time": "2025-04-20T14:32:57.789Z"
   },
   {
    "duration": 17,
    "start_time": "2025-04-20T14:32:58.155Z"
   },
   {
    "duration": 33,
    "start_time": "2025-04-20T14:32:58.174Z"
   },
   {
    "duration": 4,
    "start_time": "2025-04-20T14:32:58.208Z"
   },
   {
    "duration": 112,
    "start_time": "2025-04-20T14:32:58.213Z"
   },
   {
    "duration": 11,
    "start_time": "2025-04-20T14:33:23.208Z"
   },
   {
    "duration": 9,
    "start_time": "2025-04-20T14:33:41.325Z"
   },
   {
    "duration": 5,
    "start_time": "2025-04-20T14:39:53.482Z"
   },
   {
    "duration": 6,
    "start_time": "2025-04-20T14:40:27.667Z"
   },
   {
    "duration": 6,
    "start_time": "2025-04-20T14:40:54.216Z"
   },
   {
    "duration": 6,
    "start_time": "2025-04-20T14:49:32.810Z"
   },
   {
    "duration": 6,
    "start_time": "2025-04-20T14:51:02.259Z"
   },
   {
    "duration": 31,
    "start_time": "2025-04-20T14:51:45.891Z"
   },
   {
    "duration": 9,
    "start_time": "2025-04-20T14:51:56.822Z"
   },
   {
    "duration": 16,
    "start_time": "2025-04-20T14:54:40.154Z"
   },
   {
    "duration": 15,
    "start_time": "2025-04-20T14:56:41.843Z"
   },
   {
    "duration": 8,
    "start_time": "2025-04-20T15:00:04.006Z"
   },
   {
    "duration": 9,
    "start_time": "2025-04-20T15:00:53.333Z"
   },
   {
    "duration": 13,
    "start_time": "2025-04-20T15:02:18.414Z"
   },
   {
    "duration": 12,
    "start_time": "2025-04-20T15:02:30.629Z"
   },
   {
    "duration": 12,
    "start_time": "2025-04-20T15:02:35.050Z"
   },
   {
    "duration": 11,
    "start_time": "2025-04-20T15:02:46.981Z"
   },
   {
    "duration": 16,
    "start_time": "2025-04-20T15:02:49.710Z"
   },
   {
    "duration": 13,
    "start_time": "2025-04-20T15:02:51.125Z"
   },
   {
    "duration": 12,
    "start_time": "2025-04-20T15:03:18.141Z"
   },
   {
    "duration": 10,
    "start_time": "2025-04-20T15:03:35.378Z"
   },
   {
    "duration": 15,
    "start_time": "2025-04-20T15:04:12.997Z"
   },
   {
    "duration": 335,
    "start_time": "2025-04-20T15:04:51.753Z"
   },
   {
    "duration": 11,
    "start_time": "2025-04-20T15:09:11.277Z"
   },
   {
    "duration": 29,
    "start_time": "2025-04-20T15:23:44.524Z"
   },
   {
    "duration": 31,
    "start_time": "2025-04-20T15:25:46.352Z"
   },
   {
    "duration": 29,
    "start_time": "2025-04-20T15:26:14.865Z"
   },
   {
    "duration": 86,
    "start_time": "2025-04-20T15:26:23.436Z"
   },
   {
    "duration": 30,
    "start_time": "2025-04-20T15:26:26.673Z"
   },
   {
    "duration": 86,
    "start_time": "2025-04-20T15:27:30.233Z"
   },
   {
    "duration": 137,
    "start_time": "2025-04-20T15:27:34.845Z"
   },
   {
    "duration": 28,
    "start_time": "2025-04-20T15:27:46.009Z"
   },
   {
    "duration": 27,
    "start_time": "2025-04-20T15:28:22.945Z"
   },
   {
    "duration": 34,
    "start_time": "2025-04-20T15:29:49.880Z"
   },
   {
    "duration": 37,
    "start_time": "2025-04-20T15:29:57.748Z"
   },
   {
    "duration": 28,
    "start_time": "2025-04-20T15:30:01.768Z"
   },
   {
    "duration": 28,
    "start_time": "2025-04-20T15:30:34.952Z"
   },
   {
    "duration": 27,
    "start_time": "2025-04-20T15:30:38.644Z"
   },
   {
    "duration": 7,
    "start_time": "2025-04-20T15:32:48.360Z"
   },
   {
    "duration": 159,
    "start_time": "2025-04-20T15:36:53.128Z"
   },
   {
    "duration": 262,
    "start_time": "2025-04-20T15:36:57.056Z"
   },
   {
    "duration": 6,
    "start_time": "2025-04-20T15:37:32.008Z"
   },
   {
    "duration": 47,
    "start_time": "2025-04-20T17:07:06.673Z"
   },
   {
    "duration": 1376,
    "start_time": "2025-04-20T17:07:14.820Z"
   },
   {
    "duration": 75,
    "start_time": "2025-04-20T17:07:16.198Z"
   },
   {
    "duration": 13,
    "start_time": "2025-04-20T17:07:16.274Z"
   },
   {
    "duration": 59,
    "start_time": "2025-04-20T17:07:16.289Z"
   },
   {
    "duration": 19,
    "start_time": "2025-04-20T17:07:16.350Z"
   },
   {
    "duration": 11,
    "start_time": "2025-04-20T17:07:16.370Z"
   },
   {
    "duration": 7,
    "start_time": "2025-04-20T17:07:16.383Z"
   },
   {
    "duration": 9,
    "start_time": "2025-04-20T17:07:16.391Z"
   },
   {
    "duration": 9,
    "start_time": "2025-04-20T17:07:16.402Z"
   },
   {
    "duration": 13,
    "start_time": "2025-04-20T17:07:16.414Z"
   },
   {
    "duration": 37,
    "start_time": "2025-04-20T17:07:16.428Z"
   },
   {
    "duration": 260,
    "start_time": "2025-04-20T17:07:16.467Z"
   },
   {
    "duration": 216,
    "start_time": "2025-04-20T17:07:16.729Z"
   },
   {
    "duration": 130,
    "start_time": "2025-04-20T17:07:16.946Z"
   },
   {
    "duration": 13,
    "start_time": "2025-04-20T17:07:17.078Z"
   },
   {
    "duration": 13,
    "start_time": "2025-04-20T17:07:17.093Z"
   },
   {
    "duration": 5,
    "start_time": "2025-04-20T17:07:17.108Z"
   },
   {
    "duration": 61,
    "start_time": "2025-04-20T17:07:17.115Z"
   },
   {
    "duration": 11,
    "start_time": "2025-04-20T17:07:17.178Z"
   },
   {
    "duration": 9,
    "start_time": "2025-04-20T17:07:17.191Z"
   },
   {
    "duration": 5,
    "start_time": "2025-04-20T17:07:17.202Z"
   },
   {
    "duration": 11,
    "start_time": "2025-04-20T17:07:17.208Z"
   },
   {
    "duration": 115,
    "start_time": "2025-04-20T17:07:17.221Z"
   },
   {
    "duration": 0,
    "start_time": "2025-04-20T17:07:17.339Z"
   },
   {
    "duration": 0,
    "start_time": "2025-04-20T17:07:17.340Z"
   },
   {
    "duration": 0,
    "start_time": "2025-04-20T17:07:17.341Z"
   },
   {
    "duration": 0,
    "start_time": "2025-04-20T17:07:17.342Z"
   },
   {
    "duration": 0,
    "start_time": "2025-04-20T17:07:17.343Z"
   },
   {
    "duration": 0,
    "start_time": "2025-04-20T17:07:17.344Z"
   },
   {
    "duration": 0,
    "start_time": "2025-04-20T17:07:17.361Z"
   },
   {
    "duration": 0,
    "start_time": "2025-04-20T17:07:17.362Z"
   },
   {
    "duration": 0,
    "start_time": "2025-04-20T17:07:17.363Z"
   },
   {
    "duration": 0,
    "start_time": "2025-04-20T17:07:17.364Z"
   },
   {
    "duration": 0,
    "start_time": "2025-04-20T17:07:17.365Z"
   },
   {
    "duration": 0,
    "start_time": "2025-04-20T17:07:17.366Z"
   },
   {
    "duration": 0,
    "start_time": "2025-04-20T17:07:17.367Z"
   },
   {
    "duration": 0,
    "start_time": "2025-04-20T17:07:17.368Z"
   },
   {
    "duration": 0,
    "start_time": "2025-04-20T17:07:17.369Z"
   },
   {
    "duration": 0,
    "start_time": "2025-04-20T17:07:17.370Z"
   },
   {
    "duration": 0,
    "start_time": "2025-04-20T17:07:17.372Z"
   },
   {
    "duration": 0,
    "start_time": "2025-04-20T17:07:17.372Z"
   },
   {
    "duration": 0,
    "start_time": "2025-04-20T17:07:17.374Z"
   },
   {
    "duration": 0,
    "start_time": "2025-04-20T17:07:17.375Z"
   },
   {
    "duration": 0,
    "start_time": "2025-04-20T17:07:17.376Z"
   },
   {
    "duration": 0,
    "start_time": "2025-04-20T17:07:17.377Z"
   },
   {
    "duration": 0,
    "start_time": "2025-04-20T17:07:17.378Z"
   },
   {
    "duration": 0,
    "start_time": "2025-04-20T17:07:17.379Z"
   },
   {
    "duration": 0,
    "start_time": "2025-04-20T17:07:17.381Z"
   },
   {
    "duration": 0,
    "start_time": "2025-04-20T17:07:17.382Z"
   },
   {
    "duration": 0,
    "start_time": "2025-04-20T17:07:17.383Z"
   },
   {
    "duration": 0,
    "start_time": "2025-04-20T17:07:17.384Z"
   },
   {
    "duration": 0,
    "start_time": "2025-04-20T17:07:17.386Z"
   },
   {
    "duration": 0,
    "start_time": "2025-04-20T17:07:17.386Z"
   },
   {
    "duration": 0,
    "start_time": "2025-04-20T17:07:17.388Z"
   },
   {
    "duration": 0,
    "start_time": "2025-04-20T17:07:17.389Z"
   },
   {
    "duration": 0,
    "start_time": "2025-04-20T17:07:17.390Z"
   },
   {
    "duration": 99,
    "start_time": "2025-04-20T17:07:35.892Z"
   },
   {
    "duration": 1151,
    "start_time": "2025-04-20T17:08:28.730Z"
   },
   {
    "duration": 60,
    "start_time": "2025-04-20T17:08:29.883Z"
   },
   {
    "duration": 13,
    "start_time": "2025-04-20T17:08:29.945Z"
   },
   {
    "duration": 29,
    "start_time": "2025-04-20T17:08:29.960Z"
   },
   {
    "duration": 9,
    "start_time": "2025-04-20T17:08:29.991Z"
   },
   {
    "duration": 13,
    "start_time": "2025-04-20T17:08:30.001Z"
   },
   {
    "duration": 40,
    "start_time": "2025-04-20T17:08:30.016Z"
   },
   {
    "duration": 17,
    "start_time": "2025-04-20T17:08:30.057Z"
   },
   {
    "duration": 16,
    "start_time": "2025-04-20T17:08:30.076Z"
   },
   {
    "duration": 10,
    "start_time": "2025-04-20T17:08:30.095Z"
   },
   {
    "duration": 18,
    "start_time": "2025-04-20T17:08:30.107Z"
   },
   {
    "duration": 271,
    "start_time": "2025-04-20T17:08:30.127Z"
   },
   {
    "duration": 209,
    "start_time": "2025-04-20T17:08:30.400Z"
   },
   {
    "duration": 132,
    "start_time": "2025-04-20T17:08:30.611Z"
   },
   {
    "duration": 22,
    "start_time": "2025-04-20T17:08:30.744Z"
   },
   {
    "duration": 13,
    "start_time": "2025-04-20T17:08:30.767Z"
   },
   {
    "duration": 5,
    "start_time": "2025-04-20T17:08:30.782Z"
   },
   {
    "duration": 9,
    "start_time": "2025-04-20T17:08:30.788Z"
   },
   {
    "duration": 10,
    "start_time": "2025-04-20T17:08:30.798Z"
   },
   {
    "duration": 16,
    "start_time": "2025-04-20T17:08:30.810Z"
   },
   {
    "duration": 34,
    "start_time": "2025-04-20T17:08:30.828Z"
   },
   {
    "duration": 94,
    "start_time": "2025-04-20T17:08:30.864Z"
   },
   {
    "duration": 107,
    "start_time": "2025-04-20T17:08:30.959Z"
   },
   {
    "duration": 11,
    "start_time": "2025-04-20T17:08:31.068Z"
   },
   {
    "duration": 59,
    "start_time": "2025-04-20T17:08:31.080Z"
   },
   {
    "duration": 25,
    "start_time": "2025-04-20T17:08:31.140Z"
   },
   {
    "duration": 17,
    "start_time": "2025-04-20T17:08:31.166Z"
   },
   {
    "duration": 163,
    "start_time": "2025-04-20T17:08:31.186Z"
   },
   {
    "duration": 16,
    "start_time": "2025-04-20T17:08:31.351Z"
   },
   {
    "duration": 340,
    "start_time": "2025-04-20T17:08:31.368Z"
   },
   {
    "duration": 8,
    "start_time": "2025-04-20T17:08:31.710Z"
   },
   {
    "duration": 205,
    "start_time": "2025-04-20T17:08:31.720Z"
   },
   {
    "duration": 11,
    "start_time": "2025-04-20T17:08:31.926Z"
   },
   {
    "duration": 72,
    "start_time": "2025-04-20T17:08:31.938Z"
   },
   {
    "duration": 19,
    "start_time": "2025-04-20T17:08:32.012Z"
   },
   {
    "duration": 14,
    "start_time": "2025-04-20T17:08:32.032Z"
   },
   {
    "duration": 37,
    "start_time": "2025-04-20T17:08:32.047Z"
   },
   {
    "duration": 12,
    "start_time": "2025-04-20T17:08:32.085Z"
   },
   {
    "duration": 23,
    "start_time": "2025-04-20T17:08:32.099Z"
   },
   {
    "duration": 12,
    "start_time": "2025-04-20T17:08:32.124Z"
   },
   {
    "duration": 332,
    "start_time": "2025-04-20T17:08:32.137Z"
   },
   {
    "duration": 16,
    "start_time": "2025-04-20T17:08:32.470Z"
   },
   {
    "duration": 325,
    "start_time": "2025-04-20T17:08:32.487Z"
   },
   {
    "duration": 17,
    "start_time": "2025-04-20T17:08:32.814Z"
   },
   {
    "duration": 48,
    "start_time": "2025-04-20T17:08:32.832Z"
   },
   {
    "duration": 3,
    "start_time": "2025-04-20T17:08:32.881Z"
   },
   {
    "duration": 59,
    "start_time": "2025-04-20T17:08:32.886Z"
   },
   {
    "duration": 8,
    "start_time": "2025-04-20T17:08:32.947Z"
   },
   {
    "duration": 11,
    "start_time": "2025-04-20T17:08:32.956Z"
   },
   {
    "duration": 5,
    "start_time": "2025-04-20T17:08:32.969Z"
   },
   {
    "duration": 7,
    "start_time": "2025-04-20T17:08:32.976Z"
   },
   {
    "duration": 5,
    "start_time": "2025-04-20T17:08:32.985Z"
   },
   {
    "duration": 13,
    "start_time": "2025-04-20T17:08:32.991Z"
   },
   {
    "duration": 9,
    "start_time": "2025-04-20T17:08:33.006Z"
   },
   {
    "duration": 165,
    "start_time": "2025-04-20T17:08:33.017Z"
   },
   {
    "duration": 20,
    "start_time": "2025-04-20T17:08:33.183Z"
   },
   {
    "duration": 248,
    "start_time": "2025-04-20T17:13:36.479Z"
   },
   {
    "duration": 298,
    "start_time": "2025-04-20T17:13:57.567Z"
   },
   {
    "duration": 130,
    "start_time": "2025-04-20T17:14:11.575Z"
   },
   {
    "duration": 100,
    "start_time": "2025-04-20T17:17:49.537Z"
   },
   {
    "duration": 1195,
    "start_time": "2025-04-20T17:19:02.329Z"
   },
   {
    "duration": 111,
    "start_time": "2025-04-20T17:19:13.432Z"
   },
   {
    "duration": 92,
    "start_time": "2025-04-20T17:19:29.168Z"
   },
   {
    "duration": 115,
    "start_time": "2025-04-20T17:19:36.984Z"
   },
   {
    "duration": 251,
    "start_time": "2025-04-20T17:22:42.367Z"
   },
   {
    "duration": 249,
    "start_time": "2025-04-20T17:23:41.867Z"
   },
   {
    "duration": 143,
    "start_time": "2025-04-20T17:23:57.099Z"
   },
   {
    "duration": 69,
    "start_time": "2025-04-20T17:24:49.366Z"
   },
   {
    "duration": 157,
    "start_time": "2025-04-20T17:25:21.393Z"
   },
   {
    "duration": 153,
    "start_time": "2025-04-20T17:25:25.162Z"
   },
   {
    "duration": 342,
    "start_time": "2025-04-20T17:25:50.534Z"
   },
   {
    "duration": 236,
    "start_time": "2025-04-20T17:25:57.186Z"
   },
   {
    "duration": 201,
    "start_time": "2025-04-20T17:26:09.437Z"
   },
   {
    "duration": 317,
    "start_time": "2025-04-20T17:26:56.205Z"
   },
   {
    "duration": 335,
    "start_time": "2025-04-20T17:27:02.862Z"
   },
   {
    "duration": 445,
    "start_time": "2025-04-20T17:27:24.953Z"
   },
   {
    "duration": 268,
    "start_time": "2025-04-20T17:35:20.606Z"
   },
   {
    "duration": 190,
    "start_time": "2025-04-20T17:35:57.807Z"
   },
   {
    "duration": 283,
    "start_time": "2025-04-20T17:39:28.751Z"
   },
   {
    "duration": 273,
    "start_time": "2025-04-20T17:39:56.287Z"
   },
   {
    "duration": 137,
    "start_time": "2025-04-20T17:40:48.020Z"
   },
   {
    "duration": 194,
    "start_time": "2025-04-20T17:40:51.851Z"
   },
   {
    "duration": 185,
    "start_time": "2025-04-20T17:40:56.163Z"
   },
   {
    "duration": 186,
    "start_time": "2025-04-20T17:41:25.107Z"
   },
   {
    "duration": 403,
    "start_time": "2025-04-20T17:42:55.179Z"
   },
   {
    "duration": 260,
    "start_time": "2025-04-20T17:43:11.176Z"
   },
   {
    "duration": 279,
    "start_time": "2025-04-20T17:43:19.463Z"
   },
   {
    "duration": 200,
    "start_time": "2025-04-20T17:44:52.835Z"
   },
   {
    "duration": 213,
    "start_time": "2025-04-20T17:45:01.652Z"
   },
   {
    "duration": 268,
    "start_time": "2025-04-20T17:45:05.496Z"
   },
   {
    "duration": 287,
    "start_time": "2025-04-20T17:45:24.932Z"
   },
   {
    "duration": 395,
    "start_time": "2025-04-20T17:45:30.792Z"
   },
   {
    "duration": 14,
    "start_time": "2025-04-20T17:46:35.304Z"
   },
   {
    "duration": 22,
    "start_time": "2025-04-20T17:47:08.420Z"
   },
   {
    "duration": 292,
    "start_time": "2025-04-20T17:47:23.220Z"
   },
   {
    "duration": 264,
    "start_time": "2025-04-20T17:48:53.759Z"
   },
   {
    "duration": 272,
    "start_time": "2025-04-20T17:48:56.464Z"
   },
   {
    "duration": 266,
    "start_time": "2025-04-20T17:48:58.032Z"
   },
   {
    "duration": 272,
    "start_time": "2025-04-20T17:50:06.496Z"
   },
   {
    "duration": 376,
    "start_time": "2025-04-20T17:50:07.792Z"
   },
   {
    "duration": 263,
    "start_time": "2025-04-20T17:50:13.935Z"
   },
   {
    "duration": 261,
    "start_time": "2025-04-20T17:50:18.471Z"
   },
   {
    "duration": 521,
    "start_time": "2025-04-20T17:51:12.116Z"
   },
   {
    "duration": 1080,
    "start_time": "2025-04-20T17:53:07.907Z"
   },
   {
    "duration": 73,
    "start_time": "2025-04-20T17:53:08.989Z"
   },
   {
    "duration": 12,
    "start_time": "2025-04-20T17:53:09.064Z"
   },
   {
    "duration": 11,
    "start_time": "2025-04-20T17:53:09.078Z"
   },
   {
    "duration": 13,
    "start_time": "2025-04-20T17:53:09.090Z"
   },
   {
    "duration": 16,
    "start_time": "2025-04-20T17:53:09.104Z"
   },
   {
    "duration": 6,
    "start_time": "2025-04-20T17:53:09.122Z"
   },
   {
    "duration": 33,
    "start_time": "2025-04-20T17:53:09.130Z"
   },
   {
    "duration": 9,
    "start_time": "2025-04-20T17:53:09.165Z"
   },
   {
    "duration": 9,
    "start_time": "2025-04-20T17:53:09.177Z"
   },
   {
    "duration": 9,
    "start_time": "2025-04-20T17:53:09.188Z"
   },
   {
    "duration": 285,
    "start_time": "2025-04-20T17:53:09.199Z"
   },
   {
    "duration": 213,
    "start_time": "2025-04-20T17:53:09.485Z"
   },
   {
    "duration": 133,
    "start_time": "2025-04-20T17:53:09.700Z"
   },
   {
    "duration": 12,
    "start_time": "2025-04-20T17:53:09.835Z"
   },
   {
    "duration": 13,
    "start_time": "2025-04-20T17:53:09.860Z"
   },
   {
    "duration": 6,
    "start_time": "2025-04-20T17:53:09.874Z"
   },
   {
    "duration": 7,
    "start_time": "2025-04-20T17:53:09.881Z"
   },
   {
    "duration": 10,
    "start_time": "2025-04-20T17:53:09.889Z"
   },
   {
    "duration": 81,
    "start_time": "2025-04-20T17:53:09.900Z"
   },
   {
    "duration": 5,
    "start_time": "2025-04-20T17:53:09.983Z"
   },
   {
    "duration": 12,
    "start_time": "2025-04-20T17:53:09.989Z"
   },
   {
    "duration": 276,
    "start_time": "2025-04-20T17:53:10.003Z"
   },
   {
    "duration": 12,
    "start_time": "2025-04-20T17:53:10.280Z"
   },
   {
    "duration": 86,
    "start_time": "2025-04-20T17:53:10.293Z"
   },
   {
    "duration": 6,
    "start_time": "2025-04-20T17:53:10.380Z"
   },
   {
    "duration": 81,
    "start_time": "2025-04-20T17:53:10.387Z"
   },
   {
    "duration": 164,
    "start_time": "2025-04-20T17:53:10.472Z"
   },
   {
    "duration": 9,
    "start_time": "2025-04-20T17:53:10.638Z"
   },
   {
    "duration": 317,
    "start_time": "2025-04-20T17:53:10.649Z"
   },
   {
    "duration": 9,
    "start_time": "2025-04-20T17:53:10.968Z"
   },
   {
    "duration": 249,
    "start_time": "2025-04-20T17:53:10.979Z"
   },
   {
    "duration": 9,
    "start_time": "2025-04-20T17:53:11.230Z"
   },
   {
    "duration": 31,
    "start_time": "2025-04-20T17:53:11.241Z"
   },
   {
    "duration": 13,
    "start_time": "2025-04-20T17:53:11.274Z"
   },
   {
    "duration": 12,
    "start_time": "2025-04-20T17:53:11.288Z"
   },
   {
    "duration": 22,
    "start_time": "2025-04-20T17:53:11.302Z"
   },
   {
    "duration": 12,
    "start_time": "2025-04-20T17:53:11.325Z"
   },
   {
    "duration": 31,
    "start_time": "2025-04-20T17:53:11.338Z"
   },
   {
    "duration": 11,
    "start_time": "2025-04-20T17:53:11.371Z"
   },
   {
    "duration": 334,
    "start_time": "2025-04-20T17:53:11.383Z"
   },
   {
    "duration": 15,
    "start_time": "2025-04-20T17:53:11.719Z"
   },
   {
    "duration": 333,
    "start_time": "2025-04-20T17:53:11.735Z"
   },
   {
    "duration": 15,
    "start_time": "2025-04-20T17:53:12.070Z"
   },
   {
    "duration": 328,
    "start_time": "2025-04-20T17:53:12.086Z"
   },
   {
    "duration": 646,
    "start_time": "2025-04-20T17:53:12.416Z"
   },
   {
    "duration": 29,
    "start_time": "2025-04-20T17:53:13.063Z"
   },
   {
    "duration": 3,
    "start_time": "2025-04-20T17:53:13.094Z"
   },
   {
    "duration": 10,
    "start_time": "2025-04-20T17:53:13.099Z"
   },
   {
    "duration": 7,
    "start_time": "2025-04-20T17:53:13.111Z"
   },
   {
    "duration": 7,
    "start_time": "2025-04-20T17:53:13.120Z"
   },
   {
    "duration": 35,
    "start_time": "2025-04-20T17:53:13.128Z"
   },
   {
    "duration": 9,
    "start_time": "2025-04-20T17:53:13.165Z"
   },
   {
    "duration": 4,
    "start_time": "2025-04-20T17:53:13.175Z"
   },
   {
    "duration": 15,
    "start_time": "2025-04-20T17:53:13.180Z"
   },
   {
    "duration": 10,
    "start_time": "2025-04-20T17:53:13.196Z"
   },
   {
    "duration": 210,
    "start_time": "2025-04-20T17:53:13.207Z"
   },
   {
    "duration": 5,
    "start_time": "2025-04-20T17:53:13.418Z"
   },
   {
    "duration": 15853,
    "start_time": "2025-04-20T17:54:36.047Z"
   },
   {
    "duration": 2047,
    "start_time": "2025-04-20T17:54:58.515Z"
   },
   {
    "duration": 2140,
    "start_time": "2025-04-20T17:55:04.659Z"
   },
   {
    "duration": 549,
    "start_time": "2025-04-20T17:55:11.987Z"
   },
   {
    "duration": 542,
    "start_time": "2025-04-20T17:55:18.795Z"
   },
   {
    "duration": 636,
    "start_time": "2025-04-20T17:55:25.859Z"
   },
   {
    "duration": 509,
    "start_time": "2025-04-20T17:56:17.556Z"
   },
   {
    "duration": 1467,
    "start_time": "2025-04-20T19:49:01.206Z"
   },
   {
    "duration": 73,
    "start_time": "2025-04-20T19:49:02.676Z"
   },
   {
    "duration": 15,
    "start_time": "2025-04-20T19:49:02.751Z"
   },
   {
    "duration": 48,
    "start_time": "2025-04-20T19:49:02.768Z"
   },
   {
    "duration": 29,
    "start_time": "2025-04-20T19:49:02.818Z"
   },
   {
    "duration": 154,
    "start_time": "2025-04-20T19:49:02.849Z"
   },
   {
    "duration": 135,
    "start_time": "2025-04-20T19:49:03.005Z"
   },
   {
    "duration": 92,
    "start_time": "2025-04-20T19:49:03.142Z"
   },
   {
    "duration": 88,
    "start_time": "2025-04-20T19:49:03.236Z"
   },
   {
    "duration": 209,
    "start_time": "2025-04-20T19:49:03.327Z"
   },
   {
    "duration": 137,
    "start_time": "2025-04-20T19:49:03.538Z"
   },
   {
    "duration": 331,
    "start_time": "2025-04-20T19:49:03.677Z"
   },
   {
    "duration": 253,
    "start_time": "2025-04-20T19:49:04.010Z"
   },
   {
    "duration": 161,
    "start_time": "2025-04-20T19:49:04.265Z"
   },
   {
    "duration": 13,
    "start_time": "2025-04-20T19:49:04.428Z"
   },
   {
    "duration": 41,
    "start_time": "2025-04-20T19:49:04.443Z"
   },
   {
    "duration": 24,
    "start_time": "2025-04-20T19:49:04.486Z"
   },
   {
    "duration": 18,
    "start_time": "2025-04-20T19:49:04.512Z"
   },
   {
    "duration": 24,
    "start_time": "2025-04-20T19:49:04.531Z"
   },
   {
    "duration": 41,
    "start_time": "2025-04-20T19:49:04.556Z"
   },
   {
    "duration": 10,
    "start_time": "2025-04-20T19:49:04.598Z"
   },
   {
    "duration": 35,
    "start_time": "2025-04-20T19:49:04.610Z"
   },
   {
    "duration": 379,
    "start_time": "2025-04-20T19:49:04.647Z"
   },
   {
    "duration": 13,
    "start_time": "2025-04-20T19:49:05.028Z"
   },
   {
    "duration": 88,
    "start_time": "2025-04-20T19:49:05.043Z"
   },
   {
    "duration": 8,
    "start_time": "2025-04-20T19:49:05.132Z"
   },
   {
    "duration": 43,
    "start_time": "2025-04-20T19:49:05.141Z"
   },
   {
    "duration": 207,
    "start_time": "2025-04-20T19:49:05.188Z"
   },
   {
    "duration": 12,
    "start_time": "2025-04-20T19:49:05.397Z"
   },
   {
    "duration": 459,
    "start_time": "2025-04-20T19:49:05.411Z"
   },
   {
    "duration": 9,
    "start_time": "2025-04-20T19:49:05.871Z"
   },
   {
    "duration": 283,
    "start_time": "2025-04-20T19:49:05.881Z"
   },
   {
    "duration": 9,
    "start_time": "2025-04-20T19:49:06.166Z"
   },
   {
    "duration": 57,
    "start_time": "2025-04-20T19:49:06.177Z"
   },
   {
    "duration": 46,
    "start_time": "2025-04-20T19:49:06.236Z"
   },
   {
    "duration": 35,
    "start_time": "2025-04-20T19:49:06.284Z"
   },
   {
    "duration": 133,
    "start_time": "2025-04-20T19:49:06.321Z"
   },
   {
    "duration": 46,
    "start_time": "2025-04-20T19:49:06.455Z"
   },
   {
    "duration": 43,
    "start_time": "2025-04-20T19:49:06.503Z"
   },
   {
    "duration": 64,
    "start_time": "2025-04-20T19:49:06.548Z"
   },
   {
    "duration": 377,
    "start_time": "2025-04-20T19:49:06.614Z"
   },
   {
    "duration": 26,
    "start_time": "2025-04-20T19:49:06.993Z"
   },
   {
    "duration": 391,
    "start_time": "2025-04-20T19:49:07.021Z"
   },
   {
    "duration": 19,
    "start_time": "2025-04-20T19:49:07.413Z"
   },
   {
    "duration": 394,
    "start_time": "2025-04-20T19:49:07.434Z"
   },
   {
    "duration": 688,
    "start_time": "2025-04-20T19:49:07.829Z"
   },
   {
    "duration": 32,
    "start_time": "2025-04-20T19:49:08.519Z"
   },
   {
    "duration": 4,
    "start_time": "2025-04-20T19:49:08.552Z"
   },
   {
    "duration": 12,
    "start_time": "2025-04-20T19:49:08.557Z"
   },
   {
    "duration": 35,
    "start_time": "2025-04-20T19:49:08.571Z"
   },
   {
    "duration": 8,
    "start_time": "2025-04-20T19:49:08.608Z"
   },
   {
    "duration": 6,
    "start_time": "2025-04-20T19:49:08.617Z"
   },
   {
    "duration": 20,
    "start_time": "2025-04-20T19:49:08.624Z"
   },
   {
    "duration": 14,
    "start_time": "2025-04-20T19:49:08.645Z"
   },
   {
    "duration": 16,
    "start_time": "2025-04-20T19:49:08.660Z"
   },
   {
    "duration": 28,
    "start_time": "2025-04-20T19:49:08.678Z"
   },
   {
    "duration": 161,
    "start_time": "2025-04-20T19:49:08.708Z"
   },
   {
    "duration": 7,
    "start_time": "2025-04-20T19:49:08.870Z"
   }
  ],
  "kernelspec": {
   "display_name": "Python 3 (ipykernel)",
   "language": "python",
   "name": "python3"
  },
  "language_info": {
   "codemirror_mode": {
    "name": "ipython",
    "version": 3
   },
   "file_extension": ".py",
   "mimetype": "text/x-python",
   "name": "python",
   "nbconvert_exporter": "python",
   "pygments_lexer": "ipython3",
   "version": "3.9.5"
  },
  "toc": {
   "base_numbering": 1,
   "nav_menu": {},
   "number_sections": true,
   "sideBar": true,
   "skip_h1_title": true,
   "title_cell": "Table of Contents",
   "title_sidebar": "Contents",
   "toc_cell": false,
   "toc_position": {},
   "toc_section_display": true,
   "toc_window_display": false
  }
 },
 "nbformat": 4,
 "nbformat_minor": 5
}
