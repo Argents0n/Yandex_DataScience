{
 "cells": [
  {
   "cell_type": "markdown",
   "metadata": {},
   "source": [
    "# Выбор локации для скважины"
   ]
  },
  {
   "cell_type": "markdown",
   "metadata": {},
   "source": [
    "Допустим, вы работаете в добывающей компании «ГлавРосГосНефть». Нужно решить, где бурить новую скважину.\n",
    "\n",
    "Вам предоставлены пробы нефти в трёх регионах: в каждом 100 000 месторождений, где измерили качество нефти и объём её запасов. Постройте модель машинного обучения, которая поможет определить регион, где добыча принесёт наибольшую прибыль. Проанализируйте возможную прибыль и риски техникой *Bootstrap.*\n",
    "\n",
    "Шаги для выбора локации:\n",
    "\n",
    "- В избранном регионе ищут месторождения, для каждого определяют значения признаков;\n",
    "- Строят модель и оценивают объём запасов;\n",
    "- Выбирают месторождения с самым высокими оценками значений. Количество месторождений зависит от бюджета компании и стоимости разработки одной скважины;\n",
    "- Прибыль равна суммарной прибыли отобранных месторождений."
   ]
  },
  {
   "cell_type": "markdown",
   "metadata": {},
   "source": [
    "# Описание данных"
   ]
  },
  {
   "cell_type": "markdown",
   "metadata": {},
   "source": [
    "Данные геологоразведки трёх регионов находятся в файлах:\n",
    "\n",
    "1. /datasets/geo_data_0.csv.\n",
    "2. /datasets/geo_data_1.csv.\n",
    "3. /datasets/geo_data_2.csv.\n",
    "\n",
    "\n",
    "* id — уникальный идентификатор скважины;\n",
    "* f0, f1, f2 — три признака точек (неважно, что они означают, но сами признаки значимы);\n",
    "* product — объём запасов в скважине (тыс. баррелей)."
   ]
  },
  {
   "cell_type": "markdown",
   "metadata": {},
   "source": [
    "# Загрузка библиотек"
   ]
  },
  {
   "cell_type": "code",
   "execution_count": 1,
   "metadata": {},
   "outputs": [],
   "source": [
    "!pip install phik -q\n",
    "!pip install --upgrade scikit-learn -q"
   ]
  },
  {
   "cell_type": "code",
   "execution_count": 2,
   "metadata": {},
   "outputs": [],
   "source": [
    "# Базовые библиотеки\n",
    "import pandas as pd\n",
    "import numpy as np\n",
    "from scipy import stats as st\n",
    "import math\n",
    "\n",
    "# Визуализация\n",
    "import matplotlib.pyplot as plt\n",
    "import seaborn as sns\n",
    "\n",
    "# Scikit-learn: модели и инструменты\n",
    "from sklearn.model_selection import train_test_split, GridSearchCV\n",
    "from sklearn.metrics import root_mean_squared_error as RMSE\n",
    "from sklearn.impute import SimpleImputer\n",
    "from sklearn.pipeline import Pipeline\n",
    "from sklearn.compose import ColumnTransformer\n",
    "\n",
    "# Преобразование признаков\n",
    "from sklearn.preprocessing import (\n",
    "    StandardScaler, MinMaxScaler, OneHotEncoder,\n",
    "    OrdinalEncoder, LabelEncoder\n",
    ")\n",
    "from sklearn.preprocessing import FunctionTransformer\n",
    "\n",
    "# Модели\n",
    "from sklearn.linear_model import LinearRegression\n",
    "\n",
    "# PHIK корреляция\n",
    "from phik import phik_matrix\n",
    "import phik\n",
    "\n",
    "#Константы\n",
    "RANDOM_STATE = 42\n",
    "TEST_SIZE = 0.25"
   ]
  },
  {
   "cell_type": "markdown",
   "metadata": {},
   "source": [
    "## Загрузка и подготовка данных"
   ]
  },
  {
   "cell_type": "markdown",
   "metadata": {},
   "source": [
    "### Загрузка данных и просмотр первичной информации по ним"
   ]
  },
  {
   "cell_type": "code",
   "execution_count": 3,
   "metadata": {},
   "outputs": [],
   "source": [
    "geo_1 = pd.read_csv('/datasets/geo_data_0.csv')\n",
    "geo_2 = pd.read_csv('/datasets/geo_data_1.csv')\n",
    "geo_3 = pd.read_csv('/datasets/geo_data_2.csv')"
   ]
  },
  {
   "cell_type": "code",
   "execution_count": 4,
   "metadata": {},
   "outputs": [
    {
     "name": "stdout",
     "output_type": "stream",
     "text": [
      "<class 'pandas.core.frame.DataFrame'>\n",
      "RangeIndex: 100000 entries, 0 to 99999\n",
      "Data columns (total 5 columns):\n",
      " #   Column   Non-Null Count   Dtype  \n",
      "---  ------   --------------   -----  \n",
      " 0   id       100000 non-null  object \n",
      " 1   f0       100000 non-null  float64\n",
      " 2   f1       100000 non-null  float64\n",
      " 3   f2       100000 non-null  float64\n",
      " 4   product  100000 non-null  float64\n",
      "dtypes: float64(4), object(1)\n",
      "memory usage: 3.8+ MB\n"
     ]
    },
    {
     "data": {
      "text/html": [
       "<div>\n",
       "<style scoped>\n",
       "    .dataframe tbody tr th:only-of-type {\n",
       "        vertical-align: middle;\n",
       "    }\n",
       "\n",
       "    .dataframe tbody tr th {\n",
       "        vertical-align: top;\n",
       "    }\n",
       "\n",
       "    .dataframe thead th {\n",
       "        text-align: right;\n",
       "    }\n",
       "</style>\n",
       "<table border=\"1\" class=\"dataframe\">\n",
       "  <thead>\n",
       "    <tr style=\"text-align: right;\">\n",
       "      <th></th>\n",
       "      <th>id</th>\n",
       "      <th>f0</th>\n",
       "      <th>f1</th>\n",
       "      <th>f2</th>\n",
       "      <th>product</th>\n",
       "    </tr>\n",
       "  </thead>\n",
       "  <tbody>\n",
       "    <tr>\n",
       "      <th>0</th>\n",
       "      <td>txEyH</td>\n",
       "      <td>0.705745</td>\n",
       "      <td>-0.497823</td>\n",
       "      <td>1.221170</td>\n",
       "      <td>105.280062</td>\n",
       "    </tr>\n",
       "    <tr>\n",
       "      <th>1</th>\n",
       "      <td>2acmU</td>\n",
       "      <td>1.334711</td>\n",
       "      <td>-0.340164</td>\n",
       "      <td>4.365080</td>\n",
       "      <td>73.037750</td>\n",
       "    </tr>\n",
       "    <tr>\n",
       "      <th>2</th>\n",
       "      <td>409Wp</td>\n",
       "      <td>1.022732</td>\n",
       "      <td>0.151990</td>\n",
       "      <td>1.419926</td>\n",
       "      <td>85.265647</td>\n",
       "    </tr>\n",
       "    <tr>\n",
       "      <th>3</th>\n",
       "      <td>iJLyR</td>\n",
       "      <td>-0.032172</td>\n",
       "      <td>0.139033</td>\n",
       "      <td>2.978566</td>\n",
       "      <td>168.620776</td>\n",
       "    </tr>\n",
       "    <tr>\n",
       "      <th>4</th>\n",
       "      <td>Xdl7t</td>\n",
       "      <td>1.988431</td>\n",
       "      <td>0.155413</td>\n",
       "      <td>4.751769</td>\n",
       "      <td>154.036647</td>\n",
       "    </tr>\n",
       "  </tbody>\n",
       "</table>\n",
       "</div>"
      ],
      "text/plain": [
       "      id        f0        f1        f2     product\n",
       "0  txEyH  0.705745 -0.497823  1.221170  105.280062\n",
       "1  2acmU  1.334711 -0.340164  4.365080   73.037750\n",
       "2  409Wp  1.022732  0.151990  1.419926   85.265647\n",
       "3  iJLyR -0.032172  0.139033  2.978566  168.620776\n",
       "4  Xdl7t  1.988431  0.155413  4.751769  154.036647"
      ]
     },
     "metadata": {},
     "output_type": "display_data"
    }
   ],
   "source": [
    "geo_1.info()\n",
    "display(geo_1.head())"
   ]
  },
  {
   "cell_type": "code",
   "execution_count": 5,
   "metadata": {},
   "outputs": [
    {
     "name": "stdout",
     "output_type": "stream",
     "text": [
      "<class 'pandas.core.frame.DataFrame'>\n",
      "RangeIndex: 100000 entries, 0 to 99999\n",
      "Data columns (total 5 columns):\n",
      " #   Column   Non-Null Count   Dtype  \n",
      "---  ------   --------------   -----  \n",
      " 0   id       100000 non-null  object \n",
      " 1   f0       100000 non-null  float64\n",
      " 2   f1       100000 non-null  float64\n",
      " 3   f2       100000 non-null  float64\n",
      " 4   product  100000 non-null  float64\n",
      "dtypes: float64(4), object(1)\n",
      "memory usage: 3.8+ MB\n"
     ]
    },
    {
     "data": {
      "text/html": [
       "<div>\n",
       "<style scoped>\n",
       "    .dataframe tbody tr th:only-of-type {\n",
       "        vertical-align: middle;\n",
       "    }\n",
       "\n",
       "    .dataframe tbody tr th {\n",
       "        vertical-align: top;\n",
       "    }\n",
       "\n",
       "    .dataframe thead th {\n",
       "        text-align: right;\n",
       "    }\n",
       "</style>\n",
       "<table border=\"1\" class=\"dataframe\">\n",
       "  <thead>\n",
       "    <tr style=\"text-align: right;\">\n",
       "      <th></th>\n",
       "      <th>id</th>\n",
       "      <th>f0</th>\n",
       "      <th>f1</th>\n",
       "      <th>f2</th>\n",
       "      <th>product</th>\n",
       "    </tr>\n",
       "  </thead>\n",
       "  <tbody>\n",
       "    <tr>\n",
       "      <th>0</th>\n",
       "      <td>kBEdx</td>\n",
       "      <td>-15.001348</td>\n",
       "      <td>-8.276000</td>\n",
       "      <td>-0.005876</td>\n",
       "      <td>3.179103</td>\n",
       "    </tr>\n",
       "    <tr>\n",
       "      <th>1</th>\n",
       "      <td>62mP7</td>\n",
       "      <td>14.272088</td>\n",
       "      <td>-3.475083</td>\n",
       "      <td>0.999183</td>\n",
       "      <td>26.953261</td>\n",
       "    </tr>\n",
       "    <tr>\n",
       "      <th>2</th>\n",
       "      <td>vyE1P</td>\n",
       "      <td>6.263187</td>\n",
       "      <td>-5.948386</td>\n",
       "      <td>5.001160</td>\n",
       "      <td>134.766305</td>\n",
       "    </tr>\n",
       "    <tr>\n",
       "      <th>3</th>\n",
       "      <td>KcrkZ</td>\n",
       "      <td>-13.081196</td>\n",
       "      <td>-11.506057</td>\n",
       "      <td>4.999415</td>\n",
       "      <td>137.945408</td>\n",
       "    </tr>\n",
       "    <tr>\n",
       "      <th>4</th>\n",
       "      <td>AHL4O</td>\n",
       "      <td>12.702195</td>\n",
       "      <td>-8.147433</td>\n",
       "      <td>5.004363</td>\n",
       "      <td>134.766305</td>\n",
       "    </tr>\n",
       "  </tbody>\n",
       "</table>\n",
       "</div>"
      ],
      "text/plain": [
       "      id         f0         f1        f2     product\n",
       "0  kBEdx -15.001348  -8.276000 -0.005876    3.179103\n",
       "1  62mP7  14.272088  -3.475083  0.999183   26.953261\n",
       "2  vyE1P   6.263187  -5.948386  5.001160  134.766305\n",
       "3  KcrkZ -13.081196 -11.506057  4.999415  137.945408\n",
       "4  AHL4O  12.702195  -8.147433  5.004363  134.766305"
      ]
     },
     "metadata": {},
     "output_type": "display_data"
    }
   ],
   "source": [
    "geo_2.info()\n",
    "display(geo_2.head())"
   ]
  },
  {
   "cell_type": "code",
   "execution_count": 6,
   "metadata": {},
   "outputs": [
    {
     "name": "stdout",
     "output_type": "stream",
     "text": [
      "<class 'pandas.core.frame.DataFrame'>\n",
      "RangeIndex: 100000 entries, 0 to 99999\n",
      "Data columns (total 5 columns):\n",
      " #   Column   Non-Null Count   Dtype  \n",
      "---  ------   --------------   -----  \n",
      " 0   id       100000 non-null  object \n",
      " 1   f0       100000 non-null  float64\n",
      " 2   f1       100000 non-null  float64\n",
      " 3   f2       100000 non-null  float64\n",
      " 4   product  100000 non-null  float64\n",
      "dtypes: float64(4), object(1)\n",
      "memory usage: 3.8+ MB\n"
     ]
    },
    {
     "data": {
      "text/html": [
       "<div>\n",
       "<style scoped>\n",
       "    .dataframe tbody tr th:only-of-type {\n",
       "        vertical-align: middle;\n",
       "    }\n",
       "\n",
       "    .dataframe tbody tr th {\n",
       "        vertical-align: top;\n",
       "    }\n",
       "\n",
       "    .dataframe thead th {\n",
       "        text-align: right;\n",
       "    }\n",
       "</style>\n",
       "<table border=\"1\" class=\"dataframe\">\n",
       "  <thead>\n",
       "    <tr style=\"text-align: right;\">\n",
       "      <th></th>\n",
       "      <th>id</th>\n",
       "      <th>f0</th>\n",
       "      <th>f1</th>\n",
       "      <th>f2</th>\n",
       "      <th>product</th>\n",
       "    </tr>\n",
       "  </thead>\n",
       "  <tbody>\n",
       "    <tr>\n",
       "      <th>0</th>\n",
       "      <td>fwXo0</td>\n",
       "      <td>-1.146987</td>\n",
       "      <td>0.963328</td>\n",
       "      <td>-0.828965</td>\n",
       "      <td>27.758673</td>\n",
       "    </tr>\n",
       "    <tr>\n",
       "      <th>1</th>\n",
       "      <td>WJtFt</td>\n",
       "      <td>0.262778</td>\n",
       "      <td>0.269839</td>\n",
       "      <td>-2.530187</td>\n",
       "      <td>56.069697</td>\n",
       "    </tr>\n",
       "    <tr>\n",
       "      <th>2</th>\n",
       "      <td>ovLUW</td>\n",
       "      <td>0.194587</td>\n",
       "      <td>0.289035</td>\n",
       "      <td>-5.586433</td>\n",
       "      <td>62.871910</td>\n",
       "    </tr>\n",
       "    <tr>\n",
       "      <th>3</th>\n",
       "      <td>q6cA6</td>\n",
       "      <td>2.236060</td>\n",
       "      <td>-0.553760</td>\n",
       "      <td>0.930038</td>\n",
       "      <td>114.572842</td>\n",
       "    </tr>\n",
       "    <tr>\n",
       "      <th>4</th>\n",
       "      <td>WPMUX</td>\n",
       "      <td>-0.515993</td>\n",
       "      <td>1.716266</td>\n",
       "      <td>5.899011</td>\n",
       "      <td>149.600746</td>\n",
       "    </tr>\n",
       "  </tbody>\n",
       "</table>\n",
       "</div>"
      ],
      "text/plain": [
       "      id        f0        f1        f2     product\n",
       "0  fwXo0 -1.146987  0.963328 -0.828965   27.758673\n",
       "1  WJtFt  0.262778  0.269839 -2.530187   56.069697\n",
       "2  ovLUW  0.194587  0.289035 -5.586433   62.871910\n",
       "3  q6cA6  2.236060 -0.553760  0.930038  114.572842\n",
       "4  WPMUX -0.515993  1.716266  5.899011  149.600746"
      ]
     },
     "metadata": {},
     "output_type": "display_data"
    }
   ],
   "source": [
    "geo_3.info()\n",
    "display(geo_3.head())"
   ]
  },
  {
   "cell_type": "markdown",
   "metadata": {},
   "source": [
    "### Предобработка данных"
   ]
  },
  {
   "cell_type": "markdown",
   "metadata": {},
   "source": [
    "Из первичного описания данных (df.info()), мы выяснили, что имена столбцов и типы данных полностью соответствуют, также можно пронаблюдать отсутсвие пустых значений. Это значит, что на текущем этапе нужно проверить дубликаты и аномалии"
   ]
  },
  {
   "cell_type": "markdown",
   "metadata": {},
   "source": [
    "#### Проверка дубликатов"
   ]
  },
  {
   "cell_type": "markdown",
   "metadata": {},
   "source": [
    "В рамках данного пункта проверим полные дубликаты, то есть точки с одинаковым айди"
   ]
  },
  {
   "cell_type": "code",
   "execution_count": 7,
   "metadata": {},
   "outputs": [
    {
     "name": "stdout",
     "output_type": "stream",
     "text": [
      "10\n",
      "4\n",
      "4\n"
     ]
    }
   ],
   "source": [
    "print(geo_1['id'].duplicated().sum())\n",
    "print(geo_2['id'].duplicated().sum())\n",
    "print(geo_3['id'].duplicated().sum())"
   ]
  },
  {
   "cell_type": "markdown",
   "metadata": {},
   "source": [
    "Так как в каждом регионе у нас есть информация по 100000 точек, из которых нужно отобрать количество значительно меньшее (исследуется 500, выбираются 200 лучших), мы можем удалить дубликаты из датафреймов"
   ]
  },
  {
   "cell_type": "code",
   "execution_count": 8,
   "metadata": {},
   "outputs": [],
   "source": [
    "geo_1 = geo_1.drop_duplicates(subset=['id'], keep='first')\n",
    "geo_2 = geo_2.drop_duplicates(subset=['id'], keep='first')\n",
    "geo_3 = geo_3.drop_duplicates(subset=['id'], keep='first')"
   ]
  },
  {
   "cell_type": "code",
   "execution_count": 9,
   "metadata": {},
   "outputs": [
    {
     "name": "stdout",
     "output_type": "stream",
     "text": [
      "0\n",
      "0\n",
      "0\n"
     ]
    }
   ],
   "source": [
    "print(geo_1['id'].duplicated().sum())\n",
    "print(geo_2['id'].duplicated().sum())\n",
    "print(geo_3['id'].duplicated().sum())"
   ]
  },
  {
   "cell_type": "markdown",
   "metadata": {},
   "source": [
    "#### Проверка аномалий"
   ]
  },
  {
   "cell_type": "markdown",
   "metadata": {},
   "source": [
    "В данном пункте рассмотрим распределение значений и проверим выбросы"
   ]
  },
  {
   "cell_type": "code",
   "execution_count": 10,
   "metadata": {},
   "outputs": [
    {
     "data": {
      "image/png": "[encoded data removed]",
      "text/plain": [
       "<Figure size 720x720 with 4 Axes>"
      ]
     },
     "metadata": {
      "needs_background": "light"
     },
     "output_type": "display_data"
    }
   ],
   "source": [
    "geo_1.hist(figsize = (10, 10))\n",
    "plt.show()"
   ]
  },
  {
   "cell_type": "code",
   "execution_count": 11,
   "metadata": {},
   "outputs": [
    {
     "data": {
      "image/png": "[encoded data removed]",
      "text/plain": [
       "<Figure size 720x720 with 4 Axes>"
      ]
     },
     "metadata": {
      "needs_background": "light"
     },
     "output_type": "display_data"
    }
   ],
   "source": [
    "geo_2.hist(figsize = (10, 10))\n",
    "plt.show()"
   ]
  },
  {
   "cell_type": "code",
   "execution_count": 12,
   "metadata": {},
   "outputs": [
    {
     "data": {
      "image/png": "[encoded data removed]",
      "text/plain": [
       "<Figure size 720x720 with 4 Axes>"
      ]
     },
     "metadata": {
      "needs_background": "light"
     },
     "output_type": "display_data"
    }
   ],
   "source": [
    "geo_3.hist(figsize = (10, 10))\n",
    "plt.show()"
   ]
  },
  {
   "cell_type": "markdown",
   "metadata": {},
   "source": [
    "На данном этапе выбросов или явных аномалий в данных не выявлено. При дальнейшем рассмотрении в пункте анализ данных будут сделаны выводы о распределениях"
   ]
  },
  {
   "cell_type": "markdown",
   "metadata": {},
   "source": [
    "### Анализ данных"
   ]
  },
  {
   "cell_type": "code",
   "execution_count": 13,
   "metadata": {},
   "outputs": [],
   "source": [
    "def hist_and_boxplot(df, col_name):\n",
    "    fig, axes = plt.subplots(1, 2, figsize=(10, 4))\n",
    "\n",
    "    # Гистограмма\n",
    "    sns.histplot(df[col_name], ax=axes[0], bins = 10)\n",
    "    axes[0].set_title(f'Гистограмма: {col_name}')\n",
    "    axes[0].set_xlabel(f'Значения \"{col_name}\"')\n",
    "    axes[0].set_ylabel('Частота')\n",
    "\n",
    "    # Диаграмма размаха\n",
    "    sns.boxplot(x=df[col_name], ax=axes[1])\n",
    "    axes[1].set_title(f'Диаграмма размаха: {col_name}')\n",
    "    axes[1].set_xlabel(f'Значения \"{col_name}\"')\n",
    "\n",
    "    plt.tight_layout()\n",
    "    plt.show()"
   ]
  },
  {
   "cell_type": "markdown",
   "metadata": {},
   "source": [
    "#### Исследовательский анализ"
   ]
  },
  {
   "cell_type": "markdown",
   "metadata": {},
   "source": [
    "Так как в данном проекте заказчиком были предоставлены данные по признакам f0, f1, f2, которые явялются технически специфическими (мы не знаем, что им свойственно и как корректнее с ними работать), в данном пункте мы рассмотрим лишь признак product"
   ]
  },
  {
   "cell_type": "code",
   "execution_count": 14,
   "metadata": {},
   "outputs": [
    {
     "data": {
      "image/png": "[encoded data removed]",
      "text/plain": [
       "<Figure size 720x288 with 2 Axes>"
      ]
     },
     "metadata": {
      "needs_background": "light"
     },
     "output_type": "display_data"
    }
   ],
   "source": [
    "hist_and_boxplot(geo_1, 'product')"
   ]
  },
  {
   "cell_type": "markdown",
   "metadata": {},
   "source": [
    "* Тип распределения: Близкое к нормальному с легкой правосторонней асимметрией\n",
    "* Диапазон значений: 0-175\n",
    "* Пик распределения: Около 100\n",
    "\n",
    "**Характеристики:**\n",
    "\n",
    "1. Относительно симметричное распределение\n",
    "2. Умеренная вариативность\n",
    "3. Небольшое количество выбросов"
   ]
  },
  {
   "cell_type": "code",
   "execution_count": 15,
   "metadata": {},
   "outputs": [
    {
     "data": {
      "image/png": "[encoded data removed]",
      "text/plain": [
       "<Figure size 720x288 with 2 Axes>"
      ]
     },
     "metadata": {
      "needs_background": "light"
     },
     "output_type": "display_data"
    }
   ],
   "source": [
    "hist_and_boxplot(geo_2, 'product')"
   ]
  },
  {
   "cell_type": "markdown",
   "metadata": {},
   "source": [
    "* Тип распределения: Бимодальное U-образное распределение\n",
    "* Диапазон значений: 0-140\n",
    "\n",
    "\n",
    "**Особенности:**\n",
    "\n",
    "1. Два явных пика: один в районе 0-20, другой в районе 120-140\n",
    "2. Провал в середине: очень мало наблюдений в диапазоне 40-100\n",
    "3. Боксплот показывает широкий межквартильный размах"
   ]
  },
  {
   "cell_type": "code",
   "execution_count": 16,
   "metadata": {},
   "outputs": [
    {
     "data": {
      "image/png": "[encoded data removed]",
      "text/plain": [
       "<Figure size 720x288 with 2 Axes>"
      ]
     },
     "metadata": {
      "needs_background": "light"
     },
     "output_type": "display_data"
    }
   ],
   "source": [
    "hist_and_boxplot(geo_3, 'product')"
   ]
  },
  {
   "cell_type": "markdown",
   "metadata": {},
   "source": [
    "* Тип распределения: Нормальное с легкой левосторонней асимметрией\n",
    "* Диапазон значений: 0-175\n",
    "* Пик распределения: Около 100-110\n",
    "\n",
    "\n",
    "**Характеристики:**\n",
    "\n",
    "* Очень похоже на geo_1, но с небольшим смещением влево\n",
    "1. Симметричное распределение\n",
    "2. Умеренная вариативность"
   ]
  },
  {
   "cell_type": "markdown",
   "metadata": {},
   "source": [
    "Добавим также график, который будет содержать все значения всех регионов для явного сопоставления"
   ]
  },
  {
   "cell_type": "code",
   "execution_count": 17,
   "metadata": {},
   "outputs": [
    {
     "data": {
      "image/png": "[encoded data removed]",
      "text/plain": [
       "<Figure size 864x504 with 1 Axes>"
      ]
     },
     "metadata": {
      "needs_background": "light"
     },
     "output_type": "display_data"
    }
   ],
   "source": [
    "plt.figure(figsize=(12, 7))\n",
    "ax = geo_1['product'].plot(kind='hist', grid=True, alpha=0.5, histtype='step', linewidth=3, label='1 регион')\n",
    "geo_2['product'].plot(kind='hist', grid=True, alpha=0.5, histtype='step', linewidth=3, label='2 регион', ax=ax)\n",
    "geo_3['product'].plot(kind='hist', grid=True, alpha=0.5, histtype='step', linewidth=3, label='3 регион', ax=ax)\n",
    "plt.title('Распределение сырья по регионам', pad=15)\n",
    "plt.xlabel('Запасы, тыс. баррелей')\n",
    "plt.ylabel('Частота')\n",
    "plt.legend()\n",
    "plt.tight_layout()\n",
    "plt.show()"
   ]
  },
  {
   "cell_type": "markdown",
   "metadata": {},
   "source": [
    "#### Корреляционный анализ"
   ]
  },
  {
   "cell_type": "code",
   "execution_count": 18,
   "metadata": {},
   "outputs": [
    {
     "data": {
      "image/png": "[encoded data removed]",
      "text/plain": [
       "<Figure size 720x720 with 2 Axes>"
      ]
     },
     "metadata": {
      "needs_background": "light"
     },
     "output_type": "display_data"
    }
   ],
   "source": [
    "interval_cols = ['f0', 'f1', 'f2', 'product']\n",
    "\n",
    "corr_matrix = geo_1.drop('id', axis=1).phik_matrix(interval_cols=interval_cols)\n",
    "plt.figure(figsize=(10, 10))\n",
    "sns.heatmap(corr_matrix, annot=True, cmap='coolwarm')\n",
    "plt.title('Матрица корреляции для первого региона')\n",
    "plt.show()"
   ]
  },
  {
   "cell_type": "code",
   "execution_count": 19,
   "metadata": {},
   "outputs": [
    {
     "data": {
      "image/png": "[encoded data removed]",
      "text/plain": [
       "<Figure size 720x720 with 2 Axes>"
      ]
     },
     "metadata": {
      "needs_background": "light"
     },
     "output_type": "display_data"
    }
   ],
   "source": [
    "interval_cols = ['f0', 'f1', 'f2', 'product']\n",
    "\n",
    "corr_matrix = geo_2.drop('id', axis=1).phik_matrix(interval_cols=interval_cols)\n",
    "plt.figure(figsize=(10, 10))\n",
    "sns.heatmap(corr_matrix, annot=True, cmap='coolwarm')\n",
    "plt.title('Матрица корреляции для второго региона')\n",
    "plt.show()"
   ]
  },
  {
   "cell_type": "code",
   "execution_count": 20,
   "metadata": {},
   "outputs": [
    {
     "data": {
      "image/png": "[encoded data removed]",
      "text/plain": [
       "<Figure size 720x720 with 2 Axes>"
      ]
     },
     "metadata": {
      "needs_background": "light"
     },
     "output_type": "display_data"
    }
   ],
   "source": [
    "interval_cols = ['f0', 'f1', 'f2', 'product']\n",
    "\n",
    "corr_matrix = geo_3.drop('id', axis=1).phik_matrix(interval_cols=interval_cols)\n",
    "plt.figure(figsize=(10, 10))\n",
    "sns.heatmap(corr_matrix, annot=True, cmap='coolwarm')\n",
    "plt.title('Матрица корреляции для третьего региона')\n",
    "plt.show()"
   ]
  },
  {
   "cell_type": "markdown",
   "metadata": {},
   "source": [
    "**Первый регион (geo_1)**\n",
    "\n",
    "1. Сильная корреляция между f0 и f1 (0.76) - эти переменные тесно связаны\n",
    "2. Слабые корреляции с product: f0 (0.22), f1 (0.25), f2 (0.48)\n",
    "3. Наиболее предсказуемая переменная для product: f2\n",
    "\n",
    "**Второй регион (geo_2)**\n",
    "\n",
    "1. Сильная корреляция f2 с product (0.98) - почти функциональная зависимость\n",
    "2. Умеренная корреляция f0 с product (0.63)\n",
    "3. Слабая корреляция f1 с product (0.19)\n",
    "\n",
    "**Третий регион (geo_3)**\n",
    "\n",
    "1. Умеренные корреляции с product: f0 (0.2), f1 (0.22), f2 (0.44)\n",
    "2. Наиболее сбалансированные, но слабые взаимосвязи"
   ]
  },
  {
   "cell_type": "markdown",
   "metadata": {},
   "source": [
    "### Подготовка данных"
   ]
  },
  {
   "cell_type": "markdown",
   "metadata": {},
   "source": [
    "Подготовку данных и обучение моделей будем выполнять с помощью функции"
   ]
  },
  {
   "cell_type": "code",
   "execution_count": 21,
   "metadata": {},
   "outputs": [],
   "source": [
    "def process_and_evaluate(df, columns_to_scale, target_col = 'product', test_size=0.25, random_state =RANDOM_STATE):\n",
    "    if 'id' in df.columns:\n",
    "        df = df.drop('id', axis=1)\n",
    "    \n",
    "    features = df.drop([target_col], axis=1)\n",
    "    target = df[target_col]\n",
    "    X_train, X_valid, y_train, y_valid = train_test_split(\n",
    "        features, target, test_size=test_size, random_state=random_state\n",
    "    )\n",
    "    scaler = StandardScaler()\n",
    "    X_train[columns_to_scale] = scaler.fit_transform(X_train[columns_to_scale])\n",
    "    X_valid[columns_to_scale] = scaler.transform(X_valid[columns_to_scale])\n",
    "    \n",
    "\n",
    "    model = LinearRegression()\n",
    "    model.fit(X_train, y_train)\n",
    "    predictions = model.predict(X_valid)\n",
    "    rmse = RMSE(y_valid, predictions)\n",
    "    \n",
    "    return y_valid, predictions, rmse"
   ]
  },
  {
   "cell_type": "code",
   "execution_count": 22,
   "metadata": {},
   "outputs": [],
   "source": [
    "#def scale_columns_inplace(df: pd.DataFrame, columns: list) -> pd.DataFrame:\n",
    "    #scaler = StandardScaler()\n",
    "    #df[columns] = scaler.fit_transform(df[columns])\n",
    "    #return df\n",
    "\n",
    "#geo_1 = geo_1.drop('id', axis = 1)\n",
    "#geo_2 = geo_2.drop('id', axis = 1)\n",
    "#geo_3 = geo_3.drop('id', axis = 1)"
   ]
  },
  {
   "cell_type": "markdown",
   "metadata": {},
   "source": [
    "Теперь разобьем наши данные на тренировочную и валидационную выборки"
   ]
  },
  {
   "cell_type": "code",
   "execution_count": 23,
   "metadata": {},
   "outputs": [],
   "source": [
    "#target_1=geo_1['product']\n",
    "#features_1=geo_1.drop(['product'], axis=1)\n",
    "\n",
    "#target_2=geo_2['product']\n",
    "#features_2=geo_2.drop(['product'], axis=1)\n",
    "\n",
    "#target_3=geo_3['product']\n",
    "#features_3=geo_3.drop(['product'], axis=1)"
   ]
  },
  {
   "cell_type": "code",
   "execution_count": 24,
   "metadata": {},
   "outputs": [],
   "source": [
    "#X_train_1, X_valid_1, y_train_1, y_valid_1 = train_test_split(features_1, target_1, test_size=0.25, random_state=42)\n",
    "#X_train_2, X_valid_2, y_train_2, y_valid_2 = train_test_split(features_2, target_2, test_size=0.25, random_state=42)\n",
    "#X_train_3, X_valid_3, y_train_3, y_valid_3 = train_test_split(features_3, target_3, test_size=0.25, random_state=42)\n",
    "\n",
    "#features_list = [X_train_1, X_train_2, X_train_3, \n",
    "                #X_valid_1, X_valid_2, X_valid_3]\n",
    "\n",
    "#for features in features_list:\n",
    " #   scale_columns_inplace(features, ['f0', 'f1', 'f2'])"
   ]
  },
  {
   "cell_type": "markdown",
   "metadata": {},
   "source": [
    "## Обучение и проверка модели"
   ]
  },
  {
   "cell_type": "markdown",
   "metadata": {},
   "source": [
    "### Обучение модели для регионов"
   ]
  },
  {
   "cell_type": "code",
   "execution_count": 25,
   "metadata": {},
   "outputs": [
    {
     "name": "stdout",
     "output_type": "stream",
     "text": [
      "Среднеквадратичная ошибка RMSE для датасета 1: 37.69\n",
      "Среднеквадратичная ошибка RMSE для датасета 2: 0.89\n",
      "Среднеквадратичная ошибка RMSE для датасета 3: 40.08\n"
     ]
    }
   ],
   "source": [
    "datasets = [geo_1, geo_2, geo_3]\n",
    "columns_to_scale = ['f0', 'f1', 'f2']\n",
    "\n",
    "results = []\n",
    "for i, df in enumerate(datasets, 1):\n",
    "    y_valid, predictions, rmse = process_and_evaluate(df, columns_to_scale)\n",
    "    results.append({\n",
    "        'dataset': f'geo_{i}',\n",
    "        'y_valid': y_valid,\n",
    "        'predictions': predictions,\n",
    "        'rmse': rmse\n",
    "    })\n",
    "    print(f'Среднеквадратичная ошибка RMSE для датасета {i}: {rmse:.2f}')\n",
    "\n",
    "y_valid_1, predict_1, rmse_1 = results[0]['y_valid'], results[0]['predictions'], results[0]['rmse']\n",
    "y_valid_2, predict_2, rmse_2 = results[1]['y_valid'], results[1]['predictions'], results[1]['rmse']\n",
    "y_valid_3, predict_3, rmse_3 = results[2]['y_valid'], results[2]['predictions'], results[1]['rmse']"
   ]
  },
  {
   "cell_type": "code",
   "execution_count": 26,
   "metadata": {},
   "outputs": [],
   "source": [
    "#model_1=LinearRegression()\n",
    "#model_1.fit(X_train_1,y_train_1)\n",
    "#predict_1=model_1.predict(X_valid_1)\n",
    "#rmse_1 = rmse(y_valid_1, predict_1)\n",
    "#print('Среднеквадратичная ошибка RMSE: %.2f'% rmse_1)"
   ]
  },
  {
   "cell_type": "code",
   "execution_count": 27,
   "metadata": {},
   "outputs": [],
   "source": [
    "#model_2=LinearRegression()\n",
    "#model_2.fit(X_train_2,y_train_2)\n",
    "#predict_2=model_2.predict(X_valid_2)\n",
    "#rmse_2 = rmse(y_valid_2, predict_2)\n",
    "#print('Среднеквадратичная ошибка RMSE: %.2f'% rmse_2)"
   ]
  },
  {
   "cell_type": "code",
   "execution_count": 28,
   "metadata": {},
   "outputs": [],
   "source": [
    "#model_3=LinearRegression()\n",
    "#model_3.fit(X_train_3,y_train_3)\n",
    "#predict_3=model_3.predict(X_valid_3)\n",
    "#rmse_3 = rmse(y_valid_3, predict_3)\n",
    "#print('Среднеквадратичная ошибка RMSE: %.2f'% rmse_3)"
   ]
  },
  {
   "cell_type": "markdown",
   "metadata": {},
   "source": [
    "Предсказания и правильные ответы сохранены в переменных predict_1\\y_valid_1 для первого региона и для остальных в аналогичных перемнных с отличающейся цифрой"
   ]
  },
  {
   "cell_type": "markdown",
   "metadata": {},
   "source": [
    "### Оценка модели"
   ]
  },
  {
   "cell_type": "code",
   "execution_count": 29,
   "metadata": {},
   "outputs": [
    {
     "data": {
      "text/html": [
       "<div>\n",
       "<style scoped>\n",
       "    .dataframe tbody tr th:only-of-type {\n",
       "        vertical-align: middle;\n",
       "    }\n",
       "\n",
       "    .dataframe tbody tr th {\n",
       "        vertical-align: top;\n",
       "    }\n",
       "\n",
       "    .dataframe thead th {\n",
       "        text-align: right;\n",
       "    }\n",
       "</style>\n",
       "<table border=\"1\" class=\"dataframe\">\n",
       "  <thead>\n",
       "    <tr style=\"text-align: right;\">\n",
       "      <th></th>\n",
       "      <th>1 регион</th>\n",
       "      <th>2 регион</th>\n",
       "      <th>3 регион</th>\n",
       "    </tr>\n",
       "  </thead>\n",
       "  <tbody>\n",
       "    <tr>\n",
       "      <th>среднее предсказанное сырье</th>\n",
       "      <td>92.609840</td>\n",
       "      <td>68.577035</td>\n",
       "      <td>94.934787</td>\n",
       "    </tr>\n",
       "    <tr>\n",
       "      <th>средние целевые значения</th>\n",
       "      <td>92.499684</td>\n",
       "      <td>68.823916</td>\n",
       "      <td>94.998342</td>\n",
       "    </tr>\n",
       "    <tr>\n",
       "      <th>RMSE модели</th>\n",
       "      <td>37.685089</td>\n",
       "      <td>0.892827</td>\n",
       "      <td>0.892827</td>\n",
       "    </tr>\n",
       "  </tbody>\n",
       "</table>\n",
       "</div>"
      ],
      "text/plain": [
       "                              1 регион   2 регион   3 регион\n",
       "среднее предсказанное сырье  92.609840  68.577035  94.934787\n",
       "средние целевые значения     92.499684  68.823916  94.998342\n",
       "RMSE модели                  37.685089   0.892827   0.892827"
      ]
     },
     "execution_count": 29,
     "metadata": {},
     "output_type": "execute_result"
    }
   ],
   "source": [
    "table = pd.DataFrame(index=['среднее предсказанное сырье','средние целевые значения','RMSE модели'], \n",
    "                     columns=['1 регион','2 регион','3 регион'])\n",
    "\n",
    "table['1 регион'] = [predict_1.mean(), geo_1['product'].mean(), rmse_1]\n",
    "table['2 регион'] = [predict_2.mean(), geo_2['product'].mean(), rmse_2]\n",
    "table['3 регион'] = [predict_3.mean(), geo_3['product'].mean(), rmse_3]\n",
    "table"
   ]
  },
  {
   "cell_type": "markdown",
   "metadata": {},
   "source": [
    "### Выводы по разделу"
   ]
  },
  {
   "cell_type": "markdown",
   "metadata": {},
   "source": [
    "Модели обучены и проверены на качество предсказания метрикой RMSE, которая определяет величину среднеквадратичной ошибки в предсказании модели. Исходя из полученных данный в нашей сводной таблицы, можно заметить, что величина RMSE во втором регионе сильно отличается от двух других, это связано с тем, что модель обучилась на практически равных по величине данных."
   ]
  },
  {
   "cell_type": "markdown",
   "metadata": {},
   "source": [
    "## Подготовка к расчёту прибыли"
   ]
  },
  {
   "cell_type": "markdown",
   "metadata": {},
   "source": [
    " ### Оценка скважин"
   ]
  },
  {
   "cell_type": "markdown",
   "metadata": {},
   "source": [
    "Перед началом данного пункта важно вспомнить условия задачи:\n",
    "\n",
    "* При разведке региона исследуют 500 точек, из которых с помощью машинного обучения выбирают 200 лучших для разработки.\n",
    "* Бюджет на разработку скважин в регионе — 10 млрд рублей.\n",
    "* При нынешних ценах один баррель сырья приносит 450 рублей дохода. Доход с каждой единицы продукта составляет 450 тыс. рублей, поскольку объём указан в тысячах баррелей.\n",
    "* После оценки рисков нужно оставить лишь те регионы, в которых вероятность убытков меньше 2.5%. Среди них выбирают регион с наибольшей средней прибылью.\n",
    "\n",
    "Все ключевые значения будут записаны в единой размености - в тысячах рублей"
   ]
  },
  {
   "cell_type": "code",
   "execution_count": 30,
   "metadata": {},
   "outputs": [
    {
     "name": "stdout",
     "output_type": "stream",
     "text": [
      "Бюджет на разработку одной скважины 50000 тысяч рублей\n",
      "Необходимое количество сырья для безубыточной добычи - 111 тысяч баррелей\n"
     ]
    }
   ],
   "source": [
    "develop_budget = 10**7\n",
    "profit_per_product = 450\n",
    "losses_prob = 0.025\n",
    "\n",
    "mean_geo_1=geo_1['product'].mean()\n",
    "mean_geo_2=geo_2['product'].mean()\n",
    "mean_geo_3=geo_3['product'].mean()\n",
    "\n",
    "mean_geo_1_pred=predict_1.mean()\n",
    "mean_geo_2_pred=predict_2.mean()\n",
    "mean_geo_3_pred=predict_3.mean()\n",
    "\n",
    "budget_for_one = develop_budget //200\n",
    "prod_for_profit=budget_for_one//450\n",
    "print(f'Бюджет на разработку одной скважины {budget_for_one} тысяч рублей')\n",
    "print(f'Необходимое количество сырья для безубыточной добычи - {prod_for_profit} тысяч баррелей')"
   ]
  },
  {
   "cell_type": "markdown",
   "metadata": {},
   "source": [
    "Мы получили, сколько стоит разработка одной точки, а это значит, что для безубыточной добычи нефти нужно выбрать точки, принощие больше, чем данное значение. \n",
    "\n",
    "**Чтобы точка была безубыточна, нужно, чтобы она приносила больше чем 50 миллионов рублей \\ чтобы с нее добывалось более 111 тысяч баррелей**"
   ]
  },
  {
   "cell_type": "code",
   "execution_count": 31,
   "metadata": {},
   "outputs": [
    {
     "data": {
      "text/html": [
       "<div>\n",
       "<style scoped>\n",
       "    .dataframe tbody tr th:only-of-type {\n",
       "        vertical-align: middle;\n",
       "    }\n",
       "\n",
       "    .dataframe tbody tr th {\n",
       "        vertical-align: top;\n",
       "    }\n",
       "\n",
       "    .dataframe thead th {\n",
       "        text-align: right;\n",
       "    }\n",
       "</style>\n",
       "<table border=\"1\" class=\"dataframe\">\n",
       "  <thead>\n",
       "    <tr style=\"text-align: right;\">\n",
       "      <th></th>\n",
       "      <th>1 регион</th>\n",
       "      <th>2 регион</th>\n",
       "      <th>3 регион</th>\n",
       "    </tr>\n",
       "  </thead>\n",
       "  <tbody>\n",
       "    <tr>\n",
       "      <th>Средняя доходность по предсказанию в тыс.</th>\n",
       "      <td>41674.428124</td>\n",
       "      <td>30859.665544</td>\n",
       "      <td>42720.654250</td>\n",
       "    </tr>\n",
       "    <tr>\n",
       "      <th>Средняя доходность по фактическим данным в тыс.</th>\n",
       "      <td>41624.857898</td>\n",
       "      <td>30970.762163</td>\n",
       "      <td>42749.253954</td>\n",
       "    </tr>\n",
       "    <tr>\n",
       "      <th>ROI % предсказанного</th>\n",
       "      <td>-16.651144</td>\n",
       "      <td>-38.280669</td>\n",
       "      <td>-14.558691</td>\n",
       "    </tr>\n",
       "    <tr>\n",
       "      <th>ROI % фактического</th>\n",
       "      <td>-16.750284</td>\n",
       "      <td>-38.058476</td>\n",
       "      <td>-14.501492</td>\n",
       "    </tr>\n",
       "  </tbody>\n",
       "</table>\n",
       "</div>"
      ],
      "text/plain": [
       "                                                     1 регион      2 регион  \\\n",
       "Средняя доходность по предсказанию в тыс.        41674.428124  30859.665544   \n",
       "Средняя доходность по фактическим данным в тыс.  41624.857898  30970.762163   \n",
       "ROI % предсказанного                               -16.651144    -38.280669   \n",
       "ROI % фактического                                 -16.750284    -38.058476   \n",
       "\n",
       "                                                     3 регион  \n",
       "Средняя доходность по предсказанию в тыс.        42720.654250  \n",
       "Средняя доходность по фактическим данным в тыс.  42749.253954  \n",
       "ROI % предсказанного                               -14.558691  \n",
       "ROI % фактического                                 -14.501492  "
      ]
     },
     "execution_count": 31,
     "metadata": {},
     "output_type": "execute_result"
    }
   ],
   "source": [
    "#Сразу вопрос к ревьюверу. Сравнивать надо с предсказанным или с фактическим количеством сырья? В коде сделаю оба\n",
    "\n",
    "table_profit = pd.DataFrame(index=['Средняя доходность по предсказанию в тыс.','Средняя доходность по фактическим данным в тыс.',\n",
    "                                   'ROI % предсказанного', 'ROI % фактического'], \n",
    "                            columns=['1 регион','2 регион','3 регион'])\n",
    "\n",
    "table_profit['1 регион'] = [predict_1.mean()*profit_per_product, \n",
    "                            mean_geo_1*profit_per_product,\n",
    "                           (predict_1.mean()*profit_per_product-budget_for_one)/budget_for_one*100,\n",
    "                           (mean_geo_1*profit_per_product-budget_for_one)/budget_for_one*100]\n",
    "table_profit['2 регион'] = [predict_2.mean()*profit_per_product, \n",
    "                            mean_geo_2*profit_per_product,\n",
    "                           (predict_2.mean()*profit_per_product-budget_for_one)/budget_for_one*100,\n",
    "                           (mean_geo_2*profit_per_product-budget_for_one)/budget_for_one*100]\n",
    "table_profit['3 регион'] = [predict_3.mean()*profit_per_product, \n",
    "                            mean_geo_3*profit_per_product,\n",
    "                           (predict_3.mean()*profit_per_product-budget_for_one)/budget_for_one*100,\n",
    "                           (mean_geo_3*profit_per_product-budget_for_one)/budget_for_one*100]\n",
    "table_profit"
   ]
  },
  {
   "cell_type": "markdown",
   "metadata": {},
   "source": [
    "*Еще одно примечание для ревьювера. Я сделал разбор с позиции денег, а не баррелей. Так можно? Ниже сделаю для продукта*"
   ]
  },
  {
   "cell_type": "code",
   "execution_count": 32,
   "metadata": {},
   "outputs": [
    {
     "data": {
      "text/html": [
       "<div>\n",
       "<style scoped>\n",
       "    .dataframe tbody tr th:only-of-type {\n",
       "        vertical-align: middle;\n",
       "    }\n",
       "\n",
       "    .dataframe tbody tr th {\n",
       "        vertical-align: top;\n",
       "    }\n",
       "\n",
       "    .dataframe thead th {\n",
       "        text-align: right;\n",
       "    }\n",
       "</style>\n",
       "<table border=\"1\" class=\"dataframe\">\n",
       "  <thead>\n",
       "    <tr style=\"text-align: right;\">\n",
       "      <th></th>\n",
       "      <th>1 регион</th>\n",
       "      <th>2 регион</th>\n",
       "      <th>3 регион</th>\n",
       "    </tr>\n",
       "  </thead>\n",
       "  <tbody>\n",
       "    <tr>\n",
       "      <th>Средняя доходность по предсказанию в тыс.</th>\n",
       "      <td>92.609840</td>\n",
       "      <td>68.577035</td>\n",
       "      <td>94.934787</td>\n",
       "    </tr>\n",
       "    <tr>\n",
       "      <th>Средняя доходность по фактическим данным в тыс.</th>\n",
       "      <td>92.499684</td>\n",
       "      <td>68.823916</td>\n",
       "      <td>94.998342</td>\n",
       "    </tr>\n",
       "    <tr>\n",
       "      <th>ROI % предсказанного</th>\n",
       "      <td>-16.567711</td>\n",
       "      <td>-38.218888</td>\n",
       "      <td>-14.473165</td>\n",
       "    </tr>\n",
       "    <tr>\n",
       "      <th>ROI % фактического</th>\n",
       "      <td>-16.666951</td>\n",
       "      <td>-37.996472</td>\n",
       "      <td>-14.415908</td>\n",
       "    </tr>\n",
       "  </tbody>\n",
       "</table>\n",
       "</div>"
      ],
      "text/plain": [
       "                                                  1 регион   2 регион  \\\n",
       "Средняя доходность по предсказанию в тыс.        92.609840  68.577035   \n",
       "Средняя доходность по фактическим данным в тыс.  92.499684  68.823916   \n",
       "ROI % предсказанного                            -16.567711 -38.218888   \n",
       "ROI % фактического                              -16.666951 -37.996472   \n",
       "\n",
       "                                                  3 регион  \n",
       "Средняя доходность по предсказанию в тыс.        94.934787  \n",
       "Средняя доходность по фактическим данным в тыс.  94.998342  \n",
       "ROI % предсказанного                            -14.473165  \n",
       "ROI % фактического                              -14.415908  "
      ]
     },
     "execution_count": 32,
     "metadata": {},
     "output_type": "execute_result"
    }
   ],
   "source": [
    "table_profit_prod = pd.DataFrame(index=['Средняя доходность по предсказанию в тыс.','Средняя доходность по фактическим данным в тыс.',\n",
    "                                   'ROI % предсказанного', 'ROI % фактического'], \n",
    "                            columns=['1 регион','2 регион','3 регион'])\n",
    "\n",
    "table_profit_prod['1 регион'] = [predict_1.mean(), \n",
    "                            mean_geo_1,\n",
    "                           (predict_1.mean()-prod_for_profit)/prod_for_profit*100,\n",
    "                           (mean_geo_1-prod_for_profit)/prod_for_profit*100]\n",
    "table_profit_prod['2 регион'] = [predict_2.mean(), \n",
    "                            mean_geo_2,\n",
    "                           (predict_2.mean()-prod_for_profit)/prod_for_profit*100,\n",
    "                           (mean_geo_2-prod_for_profit)/prod_for_profit*100]\n",
    "table_profit_prod['3 регион'] = [predict_3.mean(), \n",
    "                            mean_geo_3,\n",
    "                           (predict_3.mean()-prod_for_profit)/prod_for_profit*100,\n",
    "                           (mean_geo_3-prod_for_profit)/prod_for_profit*100]\n",
    "table_profit_prod"
   ]
  },
  {
   "cell_type": "markdown",
   "metadata": {},
   "source": [
    "### Выводы"
   ]
  },
  {
   "cell_type": "markdown",
   "metadata": {},
   "source": [
    "Исходя из полученных данных очевидно, что среднее количество запасов сырья по регионам недостаточно даже для окупаемости разработки, требуется выбрать скважины с максимальными запасами"
   ]
  },
  {
   "cell_type": "markdown",
   "metadata": {},
   "source": [
    "## Функция для рассчета прибыли"
   ]
  },
  {
   "cell_type": "markdown",
   "metadata": {},
   "source": [
    "Выберем 200 скважин в каждом регионе с наибольшей производительностью и посчитаем доходность для них. Так как у нас задача выбирать точки, добавим к предсказаниям айди каждой скважины"
   ]
  },
  {
   "cell_type": "code",
   "execution_count": 33,
   "metadata": {},
   "outputs": [],
   "source": [
    "def profitability(predict,target,count):\n",
    "    probs_sorted = pd.Series(predict, index=target.index).sort_values(ascending=False)\n",
    "    selected_max = probs_sorted[:count].sum()\n",
    "    profit_pred=(selected_max*profit_per_product)-develop_budget\n",
    "    print(f'Суммарный запас сырья в {count} лучших скважинах составит: {selected_max} тыс.баррелей')\n",
    "    print('Прибыль для полученного объёма сырья составит %.2f млн.рублей'%(profit_pred/1000))"
   ]
  },
  {
   "cell_type": "code",
   "execution_count": 34,
   "metadata": {},
   "outputs": [
    {
     "name": "stdout",
     "output_type": "stream",
     "text": [
      "Для первого региона: \n",
      "\n",
      "Суммарный запас сырья в 200 лучших скважинах составит: 31007.790875603365 тыс.баррелей\n",
      "Прибыль для полученного объёма сырья составит 3953.51 млн.рублей\n"
     ]
    }
   ],
   "source": [
    "print('Для первого региона: \\n')\n",
    "profitability(predict_1, y_valid_1, 200)"
   ]
  },
  {
   "cell_type": "code",
   "execution_count": 35,
   "metadata": {},
   "outputs": [
    {
     "name": "stdout",
     "output_type": "stream",
     "text": [
      "Для первого региона: \n",
      "\n",
      "Суммарный запас сырья в 200 лучших скважинах составит: 27740.13406331368 тыс.баррелей\n",
      "Прибыль для полученного объёма сырья составит 2483.06 млн.рублей\n"
     ]
    }
   ],
   "source": [
    "print('Для первого региона: \\n')\n",
    "profitability(predict_2, y_valid_2, 200)"
   ]
  },
  {
   "cell_type": "code",
   "execution_count": 36,
   "metadata": {},
   "outputs": [
    {
     "name": "stdout",
     "output_type": "stream",
     "text": [
      "Для первого региона: \n",
      "\n",
      "Суммарный запас сырья в 200 лучших скважинах составит: 29607.797309825037 тыс.баррелей\n",
      "Прибыль для полученного объёма сырья составит 3323.51 млн.рублей\n"
     ]
    }
   ],
   "source": [
    "print('Для первого региона: \\n')\n",
    "profitability(predict_3, y_valid_3, 200)"
   ]
  },
  {
   "cell_type": "code",
   "execution_count": 37,
   "metadata": {},
   "outputs": [],
   "source": [
    "#Переделка функции под дальнейшее использование\n",
    "\n",
    "def profitability(predict,target,count):\n",
    "    probs_sorted = pd.Series(predict).sort_values(ascending=False)\n",
    "    selected_points = target[probs_sorted.index][:count]\n",
    "    product = selected_points.sum()\n",
    "    revenue = product * profit_per_product\n",
    "    return revenue - develop_budget"
   ]
  },
  {
   "cell_type": "markdown",
   "metadata": {},
   "source": [
    "**Вывод**"
   ]
  },
  {
   "cell_type": "markdown",
   "metadata": {},
   "source": [
    "Все три региона потенциально прибыльные, для определения наиболее выгодного с точки зрения окупаемости вложений и рисков убытка проведём расчёт вероятности"
   ]
  },
  {
   "cell_type": "markdown",
   "metadata": {},
   "source": [
    "## Расчёт прибыли и рисков "
   ]
  },
  {
   "cell_type": "code",
   "execution_count": 38,
   "metadata": {},
   "outputs": [],
   "source": [
    "def bootstrap_1000(target,predict, reg):\n",
    "    values = []\n",
    "    count=0\n",
    "    state = np.random.RandomState(12345)\n",
    "    predict_e = pd.Series(predict, index=target.index)\n",
    "    \n",
    "    for i in range(1000):\n",
    "        target_subsample = target.sample(n=500,replace=True, random_state=state)\n",
    "        probs_subsample = predict_e[target_subsample.index]\n",
    "        values.append(profitability(probs_subsample,target_subsample, 200)) \n",
    "        if values[-1] < 0:\n",
    "            count +=1\n",
    "            \n",
    "    values = pd.Series(values)\n",
    "    confidence_interval = st.t.interval(0.95, len(values)-1, values.mean(), values.sem())\n",
    "    \n",
    "    plt.title(f'Распределение прибыли в {reg}')\n",
    "    values.plot(kind=\"hist\", grid=True, figsize=(10,10))\n",
    "    plt.xlabel('Прибыль, тыс.руб')\n",
    "    plt.ylabel('Количество')\n",
    "    plt.show()\n",
    "    \n",
    "    print(f\"Средняя прибыль: {values.mean()/1000} млн.руб\")\n",
    "    print(f\"95%-ый доверительный интервал: от {(confidence_interval[0]/1000)} млн.руб до {(confidence_interval[1]/1000)} млн.руб\")\n",
    "    print(f'Процент вероятности убытка в данном регионе составит {count/10}%')"
   ]
  },
  {
   "cell_type": "code",
   "execution_count": 39,
   "metadata": {},
   "outputs": [
    {
     "data": {
      "image/png": "[encoded data removed]",
      "text/plain": [
       "<Figure size 720x720 with 1 Axes>"
      ]
     },
     "metadata": {
      "needs_background": "light"
     },
     "output_type": "display_data"
    },
    {
     "name": "stdout",
     "output_type": "stream",
     "text": [
      "Средняя прибыль: 447.530184813157 млн.руб\n",
      "95%-ый доверительный интервал: от 430.17770524017544 млн.руб до 464.88266438613863 млн.руб\n",
      "Процент вероятности убытка в данном регионе составит 5.3%\n"
     ]
    }
   ],
   "source": [
    "bootstrap_1000(y_valid_1, predict_1, '1 регион')"
   ]
  },
  {
   "cell_type": "code",
   "execution_count": 40,
   "metadata": {},
   "outputs": [
    {
     "data": {
      "image/png": "[encoded data removed]",
      "text/plain": [
       "<Figure size 720x720 with 1 Axes>"
      ]
     },
     "metadata": {
      "needs_background": "light"
     },
     "output_type": "display_data"
    },
    {
     "name": "stdout",
     "output_type": "stream",
     "text": [
      "Средняя прибыль: 491.06852563676466 млн.руб\n",
      "95%-ый доверительный интервал: от 477.2512491531045 млн.руб до 504.8858021204248 млн.руб\n",
      "Процент вероятности убытка в данном регионе составит 0.7%\n"
     ]
    }
   ],
   "source": [
    "bootstrap_1000(y_valid_2, predict_2, '2 регион')"
   ]
  },
  {
   "cell_type": "code",
   "execution_count": 41,
   "metadata": {},
   "outputs": [
    {
     "data": {
      "image/png": "[encoded data removed]",
      "text/plain": [
       "<Figure size 720x720 with 1 Axes>"
      ]
     },
     "metadata": {
      "needs_background": "light"
     },
     "output_type": "display_data"
    },
    {
     "name": "stdout",
     "output_type": "stream",
     "text": [
      "Средняя прибыль: 383.78604012672315 млн.руб\n",
      "95%-ый доверительный интервал: от 366.41936194792885 млн.руб до 401.1527183055175 млн.руб\n",
      "Процент вероятности убытка в данном регионе составит 7.8%\n"
     ]
    }
   ],
   "source": [
    "bootstrap_1000(y_valid_3, predict_3, '3 регион')"
   ]
  },
  {
   "cell_type": "markdown",
   "metadata": {},
   "source": [
    "## Выводы"
   ]
  },
  {
   "cell_type": "markdown",
   "metadata": {},
   "source": [
    "Мы получили информацию о рисках и прибыли для каждого из регионов. Так получилось, что условию (вероятность убытков должна быть меньше 2.5%) удовлетворяет **только второй регион**, несмотря на свои сравнительно малые запасы.\n",
    "\n",
    "В контексте бизнес задачи можно дать две рекоммендации:\n",
    "1. Для крупного и стабильного бизнеса, как у заказчика, рациональнее выбрать скважины втрого региона, так как они сулят наиболее стабильную доходность\n",
    "2. В другом контексте можно было бы порекомендовать первый регион, так как по соотношению риски\\максимальная доходность, он выше. Для реализации эффективной добычи в нем может потребоваться дополнительное исследование"
   ]
  }
 ],
 "metadata": {
  "ExecuteTimeLog": [
   {
    "duration": 12,
    "start_time": "2025-03-28T16:34:30.916Z"
   },
   {
    "duration": 10391,
    "start_time": "2025-07-05T07:20:19.415Z"
   },
   {
    "duration": 1562,
    "start_time": "2025-07-05T07:22:01.153Z"
   },
   {
    "duration": 163,
    "start_time": "2025-07-05T07:22:42.462Z"
   },
   {
    "duration": 265,
    "start_time": "2025-07-05T07:22:55.278Z"
   },
   {
    "duration": 161,
    "start_time": "2025-07-05T07:23:03.719Z"
   },
   {
    "duration": 378,
    "start_time": "2025-07-05T07:23:57.474Z"
   },
   {
    "duration": 21,
    "start_time": "2025-07-05T07:24:19.242Z"
   },
   {
    "duration": 19,
    "start_time": "2025-07-05T07:24:33.537Z"
   },
   {
    "duration": 27,
    "start_time": "2025-07-05T07:24:44.210Z"
   },
   {
    "duration": 6587,
    "start_time": "2025-07-05T08:30:01.677Z"
   },
   {
    "duration": 6,
    "start_time": "2025-07-05T08:30:08.267Z"
   },
   {
    "duration": 548,
    "start_time": "2025-07-05T08:30:08.274Z"
   },
   {
    "duration": 27,
    "start_time": "2025-07-05T08:30:08.827Z"
   },
   {
    "duration": 19,
    "start_time": "2025-07-05T08:30:08.855Z"
   },
   {
    "duration": 53,
    "start_time": "2025-07-05T08:30:08.876Z"
   },
   {
    "duration": 20,
    "start_time": "2025-07-05T08:31:08.657Z"
   },
   {
    "duration": 29,
    "start_time": "2025-07-05T08:31:21.211Z"
   },
   {
    "duration": 15,
    "start_time": "2025-07-05T08:31:41.875Z"
   },
   {
    "duration": 21,
    "start_time": "2025-07-05T08:31:49.119Z"
   },
   {
    "duration": 16,
    "start_time": "2025-07-05T08:32:21.329Z"
   },
   {
    "duration": 14,
    "start_time": "2025-07-05T08:32:28.148Z"
   },
   {
    "duration": 36,
    "start_time": "2025-07-05T08:32:51.153Z"
   },
   {
    "duration": 64,
    "start_time": "2025-07-05T08:34:55.518Z"
   },
   {
    "duration": 39,
    "start_time": "2025-07-05T08:35:03.256Z"
   },
   {
    "duration": 62,
    "start_time": "2025-07-05T08:40:34.047Z"
   },
   {
    "duration": 36,
    "start_time": "2025-07-05T08:40:41.887Z"
   },
   {
    "duration": 316,
    "start_time": "2025-07-05T08:41:49.134Z"
   },
   {
    "duration": 319,
    "start_time": "2025-07-05T08:41:55.954Z"
   },
   {
    "duration": 534,
    "start_time": "2025-07-05T08:42:07.251Z"
   },
   {
    "duration": 468,
    "start_time": "2025-07-05T08:43:42.494Z"
   },
   {
    "duration": 451,
    "start_time": "2025-07-05T08:43:56.378Z"
   },
   {
    "duration": 5,
    "start_time": "2025-07-05T08:46:41.458Z"
   },
   {
    "duration": 2073,
    "start_time": "2025-07-05T08:48:37.054Z"
   },
   {
    "duration": 2055,
    "start_time": "2025-07-05T08:54:03.909Z"
   },
   {
    "duration": 455,
    "start_time": "2025-07-05T08:58:47.633Z"
   },
   {
    "duration": 436,
    "start_time": "2025-07-05T08:59:08.324Z"
   },
   {
    "duration": 6,
    "start_time": "2025-07-05T09:00:27.633Z"
   },
   {
    "duration": 398,
    "start_time": "2025-07-05T09:00:28.619Z"
   },
   {
    "duration": 6,
    "start_time": "2025-07-05T09:00:32.716Z"
   },
   {
    "duration": 410,
    "start_time": "2025-07-05T09:00:34.522Z"
   },
   {
    "duration": 4,
    "start_time": "2025-07-05T09:01:01.340Z"
   },
   {
    "duration": 502,
    "start_time": "2025-07-05T09:01:01.942Z"
   },
   {
    "duration": 412,
    "start_time": "2025-07-05T09:01:25.520Z"
   },
   {
    "duration": 4,
    "start_time": "2025-07-05T09:02:11.260Z"
   },
   {
    "duration": 406,
    "start_time": "2025-07-05T09:02:11.992Z"
   },
   {
    "duration": 379,
    "start_time": "2025-07-05T09:02:17.328Z"
   },
   {
    "duration": 5,
    "start_time": "2025-07-05T09:02:22.824Z"
   },
   {
    "duration": 400,
    "start_time": "2025-07-05T09:02:23.528Z"
   },
   {
    "duration": 414,
    "start_time": "2025-07-05T09:02:24.872Z"
   },
   {
    "duration": 5,
    "start_time": "2025-07-05T09:02:29.296Z"
   },
   {
    "duration": 410,
    "start_time": "2025-07-05T09:02:29.795Z"
   },
   {
    "duration": 517,
    "start_time": "2025-07-05T09:02:31.284Z"
   },
   {
    "duration": 5,
    "start_time": "2025-07-05T09:02:35.756Z"
   },
   {
    "duration": 383,
    "start_time": "2025-07-05T09:02:36.236Z"
   },
   {
    "duration": 417,
    "start_time": "2025-07-05T09:02:37.096Z"
   },
   {
    "duration": 399,
    "start_time": "2025-07-05T09:03:26.471Z"
   },
   {
    "duration": 411,
    "start_time": "2025-07-05T09:11:14.959Z"
   },
   {
    "duration": 412,
    "start_time": "2025-07-05T09:11:47.104Z"
   },
   {
    "duration": 412,
    "start_time": "2025-07-05T09:12:03.219Z"
   },
   {
    "duration": 442,
    "start_time": "2025-07-05T09:12:20.687Z"
   },
   {
    "duration": 38932,
    "start_time": "2025-07-05T09:20:25.723Z"
   },
   {
    "duration": 590,
    "start_time": "2025-07-05T09:21:31.939Z"
   },
   {
    "duration": 659,
    "start_time": "2025-07-05T09:21:59.995Z"
   },
   {
    "duration": 656,
    "start_time": "2025-07-05T09:22:09.338Z"
   },
   {
    "duration": 672,
    "start_time": "2025-07-05T09:23:03.851Z"
   },
   {
    "duration": 651,
    "start_time": "2025-07-05T09:23:09.608Z"
   },
   {
    "duration": 13,
    "start_time": "2025-07-05T09:37:13.141Z"
   },
   {
    "duration": 4,
    "start_time": "2025-07-05T09:39:17.873Z"
   },
   {
    "duration": 4,
    "start_time": "2025-07-05T09:39:42.481Z"
   },
   {
    "duration": 11,
    "start_time": "2025-07-05T09:41:32.820Z"
   },
   {
    "duration": 48,
    "start_time": "2025-07-05T09:43:38.637Z"
   },
   {
    "duration": 9,
    "start_time": "2025-07-05T09:45:03.548Z"
   },
   {
    "duration": 3,
    "start_time": "2025-07-05T09:45:14.324Z"
   },
   {
    "duration": 33,
    "start_time": "2025-07-05T09:48:02.200Z"
   },
   {
    "duration": 1369,
    "start_time": "2025-07-05T09:55:06.991Z"
   },
   {
    "duration": 4,
    "start_time": "2025-07-05T09:55:30.238Z"
   },
   {
    "duration": 13,
    "start_time": "2025-07-05T09:55:30.890Z"
   },
   {
    "duration": 2187,
    "start_time": "2025-07-05T09:55:31.823Z"
   },
   {
    "duration": 30,
    "start_time": "2025-07-05T09:55:45.214Z"
   },
   {
    "duration": 22,
    "start_time": "2025-07-05T09:56:19.166Z"
   },
   {
    "duration": 5,
    "start_time": "2025-07-05T09:56:40.550Z"
   },
   {
    "duration": 12,
    "start_time": "2025-07-05T09:56:41.162Z"
   },
   {
    "duration": 2130,
    "start_time": "2025-07-05T09:56:41.546Z"
   },
   {
    "duration": 23,
    "start_time": "2025-07-05T09:56:45.582Z"
   },
   {
    "duration": 3,
    "start_time": "2025-07-05T09:57:38.962Z"
   },
   {
    "duration": 13,
    "start_time": "2025-07-05T09:57:39.513Z"
   },
   {
    "duration": 75,
    "start_time": "2025-07-05T09:57:39.898Z"
   },
   {
    "duration": 4,
    "start_time": "2025-07-05T09:58:18.921Z"
   },
   {
    "duration": 13,
    "start_time": "2025-07-05T09:58:19.578Z"
   },
   {
    "duration": 545,
    "start_time": "2025-07-05T09:58:19.970Z"
   },
   {
    "duration": 4,
    "start_time": "2025-07-05T10:01:43.626Z"
   },
   {
    "duration": 12,
    "start_time": "2025-07-05T10:01:44.338Z"
   },
   {
    "duration": 2107,
    "start_time": "2025-07-05T10:01:44.930Z"
   },
   {
    "duration": 9,
    "start_time": "2025-07-05T10:02:05.726Z"
   },
   {
    "duration": 9,
    "start_time": "2025-07-05T10:02:18.105Z"
   },
   {
    "duration": 5504,
    "start_time": "2025-07-05T10:06:17.877Z"
   },
   {
    "duration": 1358,
    "start_time": "2025-07-05T10:06:23.383Z"
   },
   {
    "duration": 402,
    "start_time": "2025-07-05T10:06:24.744Z"
   },
   {
    "duration": 26,
    "start_time": "2025-07-05T10:06:25.149Z"
   },
   {
    "duration": 33,
    "start_time": "2025-07-05T10:06:25.176Z"
   },
   {
    "duration": 18,
    "start_time": "2025-07-05T10:06:25.211Z"
   },
   {
    "duration": 40,
    "start_time": "2025-07-05T10:06:25.230Z"
   },
   {
    "duration": 106,
    "start_time": "2025-07-05T10:06:25.271Z"
   },
   {
    "duration": 32,
    "start_time": "2025-07-05T10:06:25.379Z"
   },
   {
    "duration": 447,
    "start_time": "2025-07-05T10:06:25.414Z"
   },
   {
    "duration": 537,
    "start_time": "2025-07-05T10:06:25.862Z"
   },
   {
    "duration": 450,
    "start_time": "2025-07-05T10:06:26.401Z"
   },
   {
    "duration": 5,
    "start_time": "2025-07-05T10:06:26.852Z"
   },
   {
    "duration": 431,
    "start_time": "2025-07-05T10:06:26.858Z"
   },
   {
    "duration": 543,
    "start_time": "2025-07-05T10:06:27.291Z"
   },
   {
    "duration": 701,
    "start_time": "2025-07-05T10:06:27.835Z"
   },
   {
    "duration": 609,
    "start_time": "2025-07-05T10:06:28.538Z"
   },
   {
    "duration": 609,
    "start_time": "2025-07-05T10:06:29.149Z"
   },
   {
    "duration": 739,
    "start_time": "2025-07-05T10:06:29.759Z"
   },
   {
    "duration": 601,
    "start_time": "2025-07-05T10:06:30.500Z"
   },
   {
    "duration": 4,
    "start_time": "2025-07-05T10:06:31.102Z"
   },
   {
    "duration": 43,
    "start_time": "2025-07-05T10:06:31.108Z"
   },
   {
    "duration": 2131,
    "start_time": "2025-07-05T10:06:31.153Z"
   },
   {
    "duration": 120,
    "start_time": "2025-07-05T10:06:33.286Z"
   },
   {
    "duration": 0,
    "start_time": "2025-07-05T10:06:33.408Z"
   },
   {
    "duration": 4,
    "start_time": "2025-07-05T10:07:09.861Z"
   },
   {
    "duration": 2161,
    "start_time": "2025-07-05T10:09:34.633Z"
   },
   {
    "duration": 13,
    "start_time": "2025-07-05T10:09:38.641Z"
   },
   {
    "duration": 8,
    "start_time": "2025-07-05T10:09:47.101Z"
   },
   {
    "duration": 5,
    "start_time": "2025-07-05T10:12:14.860Z"
   },
   {
    "duration": 5,
    "start_time": "2025-07-05T10:12:25.748Z"
   },
   {
    "duration": 13,
    "start_time": "2025-07-05T10:12:26.661Z"
   },
   {
    "duration": 2289,
    "start_time": "2025-07-05T10:12:27.241Z"
   },
   {
    "duration": 10,
    "start_time": "2025-07-05T10:12:29.532Z"
   },
   {
    "duration": 5,
    "start_time": "2025-07-05T10:12:45.724Z"
   },
   {
    "duration": 14,
    "start_time": "2025-07-05T10:12:46.488Z"
   },
   {
    "duration": 2159,
    "start_time": "2025-07-05T10:12:46.860Z"
   },
   {
    "duration": 9,
    "start_time": "2025-07-05T10:12:49.021Z"
   },
   {
    "duration": 6,
    "start_time": "2025-07-05T10:13:00.184Z"
   },
   {
    "duration": 13,
    "start_time": "2025-07-05T10:13:00.796Z"
   },
   {
    "duration": 2117,
    "start_time": "2025-07-05T10:13:01.036Z"
   },
   {
    "duration": 9,
    "start_time": "2025-07-05T10:13:03.154Z"
   },
   {
    "duration": 9,
    "start_time": "2025-07-05T10:13:10.892Z"
   },
   {
    "duration": 4,
    "start_time": "2025-07-05T10:14:06.528Z"
   },
   {
    "duration": 12,
    "start_time": "2025-07-05T10:14:07.120Z"
   },
   {
    "duration": 2159,
    "start_time": "2025-07-05T10:14:07.328Z"
   },
   {
    "duration": 16,
    "start_time": "2025-07-05T10:14:09.489Z"
   },
   {
    "duration": 2143,
    "start_time": "2025-07-05T10:15:00.420Z"
   },
   {
    "duration": 36,
    "start_time": "2025-07-05T10:15:02.565Z"
   },
   {
    "duration": 5,
    "start_time": "2025-07-05T10:15:26.175Z"
   },
   {
    "duration": 13,
    "start_time": "2025-07-05T10:15:26.496Z"
   },
   {
    "duration": 159,
    "start_time": "2025-07-05T10:15:26.652Z"
   },
   {
    "duration": 25,
    "start_time": "2025-07-05T10:15:27.748Z"
   },
   {
    "duration": 2,
    "start_time": "2025-07-05T10:17:00.552Z"
   },
   {
    "duration": 2,
    "start_time": "2025-07-05T10:17:36.008Z"
   },
   {
    "duration": 3,
    "start_time": "2025-07-05T10:17:39.776Z"
   },
   {
    "duration": 5420,
    "start_time": "2025-07-05T10:17:47.312Z"
   },
   {
    "duration": 1264,
    "start_time": "2025-07-05T10:17:52.734Z"
   },
   {
    "duration": 418,
    "start_time": "2025-07-05T10:17:54.000Z"
   },
   {
    "duration": 27,
    "start_time": "2025-07-05T10:17:54.420Z"
   },
   {
    "duration": 22,
    "start_time": "2025-07-05T10:17:54.448Z"
   },
   {
    "duration": 47,
    "start_time": "2025-07-05T10:17:54.471Z"
   },
   {
    "duration": 49,
    "start_time": "2025-07-05T10:17:54.520Z"
   },
   {
    "duration": 93,
    "start_time": "2025-07-05T10:17:54.571Z"
   },
   {
    "duration": 84,
    "start_time": "2025-07-05T10:17:54.666Z"
   },
   {
    "duration": 484,
    "start_time": "2025-07-05T10:17:54.753Z"
   },
   {
    "duration": 559,
    "start_time": "2025-07-05T10:17:55.238Z"
   },
   {
    "duration": 501,
    "start_time": "2025-07-05T10:17:55.799Z"
   },
   {
    "duration": 4,
    "start_time": "2025-07-05T10:17:56.302Z"
   },
   {
    "duration": 486,
    "start_time": "2025-07-05T10:17:56.308Z"
   },
   {
    "duration": 412,
    "start_time": "2025-07-05T10:17:56.796Z"
   },
   {
    "duration": 396,
    "start_time": "2025-07-05T10:17:57.209Z"
   },
   {
    "duration": 394,
    "start_time": "2025-07-05T10:17:57.607Z"
   },
   {
    "duration": 612,
    "start_time": "2025-07-05T10:17:58.003Z"
   },
   {
    "duration": 693,
    "start_time": "2025-07-05T10:17:58.617Z"
   },
   {
    "duration": 582,
    "start_time": "2025-07-05T10:17:59.311Z"
   },
   {
    "duration": 2,
    "start_time": "2025-07-05T10:17:59.898Z"
   },
   {
    "duration": 18,
    "start_time": "2025-07-05T10:17:59.901Z"
   },
   {
    "duration": 51,
    "start_time": "2025-07-05T10:17:59.921Z"
   },
   {
    "duration": 720,
    "start_time": "2025-07-05T10:22:21.196Z"
   },
   {
    "duration": 1715,
    "start_time": "2025-07-05T10:22:27.392Z"
   },
   {
    "duration": 217,
    "start_time": "2025-07-05T10:23:09.776Z"
   },
   {
    "duration": 21,
    "start_time": "2025-07-05T10:23:10.084Z"
   },
   {
    "duration": 34,
    "start_time": "2025-07-05T10:23:10.252Z"
   },
   {
    "duration": 205,
    "start_time": "2025-07-05T10:24:20.598Z"
   },
   {
    "duration": 189,
    "start_time": "2025-07-05T10:24:32.671Z"
   },
   {
    "duration": 211,
    "start_time": "2025-07-05T10:24:54.488Z"
   },
   {
    "duration": 216,
    "start_time": "2025-07-05T10:25:02.312Z"
   },
   {
    "duration": 196,
    "start_time": "2025-07-05T10:25:13.840Z"
   },
   {
    "duration": 208,
    "start_time": "2025-07-05T10:25:27.640Z"
   },
   {
    "duration": 200,
    "start_time": "2025-07-05T10:25:39.604Z"
   },
   {
    "duration": 194,
    "start_time": "2025-07-05T10:26:41.984Z"
   },
   {
    "duration": 5372,
    "start_time": "2025-07-05T10:26:57.736Z"
   },
   {
    "duration": 1338,
    "start_time": "2025-07-05T10:27:03.111Z"
   },
   {
    "duration": 462,
    "start_time": "2025-07-05T10:27:04.450Z"
   },
   {
    "duration": 26,
    "start_time": "2025-07-05T10:27:04.914Z"
   },
   {
    "duration": 20,
    "start_time": "2025-07-05T10:27:04.941Z"
   },
   {
    "duration": 60,
    "start_time": "2025-07-05T10:27:04.963Z"
   },
   {
    "duration": 46,
    "start_time": "2025-07-05T10:27:05.025Z"
   },
   {
    "duration": 87,
    "start_time": "2025-07-05T10:27:05.073Z"
   },
   {
    "duration": 67,
    "start_time": "2025-07-05T10:27:05.162Z"
   },
   {
    "duration": 459,
    "start_time": "2025-07-05T10:27:05.231Z"
   },
   {
    "duration": 580,
    "start_time": "2025-07-05T10:27:05.691Z"
   },
   {
    "duration": 463,
    "start_time": "2025-07-05T10:27:06.273Z"
   },
   {
    "duration": 4,
    "start_time": "2025-07-05T10:27:06.738Z"
   },
   {
    "duration": 457,
    "start_time": "2025-07-05T10:27:06.743Z"
   },
   {
    "duration": 398,
    "start_time": "2025-07-05T10:27:07.201Z"
   },
   {
    "duration": 397,
    "start_time": "2025-07-05T10:27:07.601Z"
   },
   {
    "duration": 376,
    "start_time": "2025-07-05T10:27:08.000Z"
   },
   {
    "duration": 587,
    "start_time": "2025-07-05T10:27:08.378Z"
   },
   {
    "duration": 688,
    "start_time": "2025-07-05T10:27:08.967Z"
   },
   {
    "duration": 575,
    "start_time": "2025-07-05T10:27:09.657Z"
   },
   {
    "duration": 591,
    "start_time": "2025-07-05T10:27:10.233Z"
   },
   {
    "duration": 12,
    "start_time": "2025-07-05T10:27:10.826Z"
   },
   {
    "duration": 87,
    "start_time": "2025-07-05T10:27:10.839Z"
   },
   {
    "duration": 634,
    "start_time": "2025-07-05T10:28:11.601Z"
   },
   {
    "duration": 318,
    "start_time": "2025-07-05T10:29:15.597Z"
   },
   {
    "duration": 5399,
    "start_time": "2025-07-05T10:29:24.694Z"
   },
   {
    "duration": 1302,
    "start_time": "2025-07-05T10:29:30.095Z"
   },
   {
    "duration": 415,
    "start_time": "2025-07-05T10:29:31.399Z"
   },
   {
    "duration": 26,
    "start_time": "2025-07-05T10:29:31.816Z"
   },
   {
    "duration": 20,
    "start_time": "2025-07-05T10:29:31.844Z"
   },
   {
    "duration": 47,
    "start_time": "2025-07-05T10:29:31.866Z"
   },
   {
    "duration": 40,
    "start_time": "2025-07-05T10:29:31.915Z"
   },
   {
    "duration": 89,
    "start_time": "2025-07-05T10:29:31.957Z"
   },
   {
    "duration": 33,
    "start_time": "2025-07-05T10:29:32.048Z"
   },
   {
    "duration": 471,
    "start_time": "2025-07-05T10:29:32.099Z"
   },
   {
    "duration": 550,
    "start_time": "2025-07-05T10:29:32.573Z"
   },
   {
    "duration": 466,
    "start_time": "2025-07-05T10:29:33.125Z"
   },
   {
    "duration": 9,
    "start_time": "2025-07-05T10:29:33.593Z"
   },
   {
    "duration": 530,
    "start_time": "2025-07-05T10:29:33.604Z"
   },
   {
    "duration": 407,
    "start_time": "2025-07-05T10:29:34.135Z"
   },
   {
    "duration": 411,
    "start_time": "2025-07-05T10:29:34.543Z"
   },
   {
    "duration": 558,
    "start_time": "2025-07-05T10:29:34.955Z"
   },
   {
    "duration": 1035,
    "start_time": "2025-07-05T10:29:35.514Z"
   },
   {
    "duration": 743,
    "start_time": "2025-07-05T10:29:36.551Z"
   },
   {
    "duration": 616,
    "start_time": "2025-07-05T10:29:37.298Z"
   },
   {
    "duration": 1945,
    "start_time": "2025-07-05T10:29:37.916Z"
   },
   {
    "duration": 27,
    "start_time": "2025-07-05T10:29:39.863Z"
   },
   {
    "duration": 30,
    "start_time": "2025-07-05T10:29:39.899Z"
   },
   {
    "duration": 180,
    "start_time": "2025-07-05T10:31:37.322Z"
   },
   {
    "duration": 78,
    "start_time": "2025-07-05T10:34:02.632Z"
   },
   {
    "duration": 5513,
    "start_time": "2025-07-05T10:34:09.147Z"
   },
   {
    "duration": 1336,
    "start_time": "2025-07-05T10:34:14.662Z"
   },
   {
    "duration": 400,
    "start_time": "2025-07-05T10:34:16.000Z"
   },
   {
    "duration": 24,
    "start_time": "2025-07-05T10:34:16.402Z"
   },
   {
    "duration": 19,
    "start_time": "2025-07-05T10:34:16.428Z"
   },
   {
    "duration": 19,
    "start_time": "2025-07-05T10:34:16.449Z"
   },
   {
    "duration": 155,
    "start_time": "2025-07-05T10:34:16.470Z"
   },
   {
    "duration": 76,
    "start_time": "2025-07-05T10:34:16.627Z"
   },
   {
    "duration": 34,
    "start_time": "2025-07-05T10:34:16.705Z"
   },
   {
    "duration": 483,
    "start_time": "2025-07-05T10:34:16.742Z"
   },
   {
    "duration": 538,
    "start_time": "2025-07-05T10:34:17.227Z"
   },
   {
    "duration": 467,
    "start_time": "2025-07-05T10:34:17.766Z"
   },
   {
    "duration": 5,
    "start_time": "2025-07-05T10:34:18.234Z"
   },
   {
    "duration": 461,
    "start_time": "2025-07-05T10:34:18.240Z"
   },
   {
    "duration": 424,
    "start_time": "2025-07-05T10:34:18.703Z"
   },
   {
    "duration": 386,
    "start_time": "2025-07-05T10:34:19.129Z"
   },
   {
    "duration": 385,
    "start_time": "2025-07-05T10:34:19.517Z"
   },
   {
    "duration": 621,
    "start_time": "2025-07-05T10:34:19.903Z"
   },
   {
    "duration": 693,
    "start_time": "2025-07-05T10:34:20.525Z"
   },
   {
    "duration": 605,
    "start_time": "2025-07-05T10:34:21.219Z"
   },
   {
    "duration": 1550,
    "start_time": "2025-07-05T10:34:21.825Z"
   },
   {
    "duration": 10,
    "start_time": "2025-07-05T10:34:23.377Z"
   },
   {
    "duration": 42,
    "start_time": "2025-07-05T10:34:23.388Z"
   },
   {
    "duration": 21,
    "start_time": "2025-07-05T10:36:03.176Z"
   },
   {
    "duration": 17,
    "start_time": "2025-07-05T10:36:43.343Z"
   },
   {
    "duration": 17,
    "start_time": "2025-07-05T10:36:48.067Z"
   },
   {
    "duration": 17,
    "start_time": "2025-07-05T10:37:22.427Z"
   },
   {
    "duration": 9,
    "start_time": "2025-07-05T10:47:02.779Z"
   },
   {
    "duration": 6,
    "start_time": "2025-07-05T10:47:30.810Z"
   },
   {
    "duration": 11,
    "start_time": "2025-07-05T10:47:37.206Z"
   },
   {
    "duration": 12,
    "start_time": "2025-07-05T10:48:28.070Z"
   },
   {
    "duration": 5573,
    "start_time": "2025-07-05T11:48:04.556Z"
   },
   {
    "duration": 1319,
    "start_time": "2025-07-05T11:48:10.131Z"
   },
   {
    "duration": 412,
    "start_time": "2025-07-05T11:48:11.452Z"
   },
   {
    "duration": 26,
    "start_time": "2025-07-05T11:48:11.866Z"
   },
   {
    "duration": 24,
    "start_time": "2025-07-05T11:48:11.894Z"
   },
   {
    "duration": 20,
    "start_time": "2025-07-05T11:48:11.919Z"
   },
   {
    "duration": 68,
    "start_time": "2025-07-05T11:48:11.941Z"
   },
   {
    "duration": 113,
    "start_time": "2025-07-05T11:48:12.011Z"
   },
   {
    "duration": 35,
    "start_time": "2025-07-05T11:48:12.126Z"
   },
   {
    "duration": 480,
    "start_time": "2025-07-05T11:48:12.162Z"
   },
   {
    "duration": 557,
    "start_time": "2025-07-05T11:48:12.643Z"
   },
   {
    "duration": 447,
    "start_time": "2025-07-05T11:48:13.201Z"
   },
   {
    "duration": 4,
    "start_time": "2025-07-05T11:48:13.650Z"
   },
   {
    "duration": 434,
    "start_time": "2025-07-05T11:48:13.657Z"
   },
   {
    "duration": 393,
    "start_time": "2025-07-05T11:48:14.098Z"
   },
   {
    "duration": 437,
    "start_time": "2025-07-05T11:48:14.497Z"
   },
   {
    "duration": 368,
    "start_time": "2025-07-05T11:48:14.936Z"
   },
   {
    "duration": 622,
    "start_time": "2025-07-05T11:48:15.306Z"
   },
   {
    "duration": 711,
    "start_time": "2025-07-05T11:48:15.930Z"
   },
   {
    "duration": 584,
    "start_time": "2025-07-05T11:48:16.643Z"
   },
   {
    "duration": 1498,
    "start_time": "2025-07-05T11:48:17.229Z"
   },
   {
    "duration": 9,
    "start_time": "2025-07-05T11:48:18.728Z"
   },
   {
    "duration": 44,
    "start_time": "2025-07-05T11:48:18.738Z"
   },
   {
    "duration": 36,
    "start_time": "2025-07-05T11:48:18.783Z"
   },
   {
    "duration": 193,
    "start_time": "2025-07-05T11:48:18.821Z"
   },
   {
    "duration": 188,
    "start_time": "2025-07-05T11:48:19.016Z"
   },
   {
    "duration": 101,
    "start_time": "2025-07-05T11:48:19.206Z"
   },
   {
    "duration": 4,
    "start_time": "2025-07-05T11:56:34.535Z"
   },
   {
    "duration": 4,
    "start_time": "2025-07-05T11:56:44.002Z"
   },
   {
    "duration": 3,
    "start_time": "2025-07-05T11:56:48.599Z"
   },
   {
    "duration": 3,
    "start_time": "2025-07-05T11:58:40.035Z"
   },
   {
    "duration": 4,
    "start_time": "2025-07-05T11:59:24.555Z"
   },
   {
    "duration": 8,
    "start_time": "2025-07-05T12:06:34.782Z"
   },
   {
    "duration": 3,
    "start_time": "2025-07-05T12:06:36.401Z"
   },
   {
    "duration": 12,
    "start_time": "2025-07-05T12:09:35.821Z"
   },
   {
    "duration": 13,
    "start_time": "2025-07-05T12:10:30.946Z"
   },
   {
    "duration": 7,
    "start_time": "2025-07-05T12:14:41.864Z"
   },
   {
    "duration": 7,
    "start_time": "2025-07-05T12:17:05.208Z"
   },
   {
    "duration": 9,
    "start_time": "2025-07-05T12:18:13.624Z"
   },
   {
    "duration": 10,
    "start_time": "2025-07-05T12:18:24.833Z"
   },
   {
    "duration": 7,
    "start_time": "2025-07-05T12:18:52.996Z"
   },
   {
    "duration": 117,
    "start_time": "2025-07-05T12:19:25.348Z"
   },
   {
    "duration": 13,
    "start_time": "2025-07-05T12:19:35.885Z"
   },
   {
    "duration": 17,
    "start_time": "2025-07-05T12:23:36.584Z"
   },
   {
    "duration": 16,
    "start_time": "2025-07-05T12:24:02.763Z"
   },
   {
    "duration": 14,
    "start_time": "2025-07-05T12:24:35.471Z"
   },
   {
    "duration": 14,
    "start_time": "2025-07-05T12:26:06.999Z"
   },
   {
    "duration": 13,
    "start_time": "2025-07-05T12:26:14.281Z"
   },
   {
    "duration": 7,
    "start_time": "2025-07-05T12:26:46.811Z"
   },
   {
    "duration": 7,
    "start_time": "2025-07-05T12:26:57.699Z"
   },
   {
    "duration": 13,
    "start_time": "2025-07-05T12:27:14.027Z"
   },
   {
    "duration": 19,
    "start_time": "2025-07-05T12:27:34.752Z"
   },
   {
    "duration": 3,
    "start_time": "2025-07-05T12:38:55.338Z"
   },
   {
    "duration": 3,
    "start_time": "2025-07-05T12:39:06.850Z"
   },
   {
    "duration": 3,
    "start_time": "2025-07-05T12:39:23.150Z"
   },
   {
    "duration": 4,
    "start_time": "2025-07-05T12:40:02.850Z"
   },
   {
    "duration": 6,
    "start_time": "2025-07-05T12:40:28.586Z"
   },
   {
    "duration": 4,
    "start_time": "2025-07-05T12:40:54.017Z"
   },
   {
    "duration": 4,
    "start_time": "2025-07-05T12:41:15.141Z"
   },
   {
    "duration": 4,
    "start_time": "2025-07-05T12:41:23.521Z"
   },
   {
    "duration": 7,
    "start_time": "2025-07-05T12:41:23.885Z"
   },
   {
    "duration": 6,
    "start_time": "2025-07-05T12:42:44.010Z"
   },
   {
    "duration": 13,
    "start_time": "2025-07-05T12:42:44.349Z"
   },
   {
    "duration": 15,
    "start_time": "2025-07-05T12:42:44.629Z"
   },
   {
    "duration": 4,
    "start_time": "2025-07-05T12:42:46.278Z"
   },
   {
    "duration": 7,
    "start_time": "2025-07-05T12:43:03.217Z"
   },
   {
    "duration": 14,
    "start_time": "2025-07-05T12:43:03.521Z"
   },
   {
    "duration": 14,
    "start_time": "2025-07-05T12:43:03.816Z"
   },
   {
    "duration": 4,
    "start_time": "2025-07-05T12:43:07.021Z"
   },
   {
    "duration": 32,
    "start_time": "2025-07-05T12:43:07.173Z"
   },
   {
    "duration": 7,
    "start_time": "2025-07-05T12:43:41.714Z"
   },
   {
    "duration": 7,
    "start_time": "2025-07-05T12:43:58.777Z"
   },
   {
    "duration": 7,
    "start_time": "2025-07-05T12:43:58.882Z"
   },
   {
    "duration": 4,
    "start_time": "2025-07-05T12:49:50.045Z"
   },
   {
    "duration": 7,
    "start_time": "2025-07-05T13:01:23.841Z"
   },
   {
    "duration": 6,
    "start_time": "2025-07-05T13:01:47.520Z"
   },
   {
    "duration": 7,
    "start_time": "2025-07-05T13:02:27.567Z"
   },
   {
    "duration": 896,
    "start_time": "2025-07-05T13:03:02.339Z"
   },
   {
    "duration": 861,
    "start_time": "2025-07-05T13:04:27.112Z"
   },
   {
    "duration": 841,
    "start_time": "2025-07-05T13:04:47.257Z"
   },
   {
    "duration": 4,
    "start_time": "2025-07-05T13:06:45.933Z"
   },
   {
    "duration": 6,
    "start_time": "2025-07-05T13:06:46.637Z"
   },
   {
    "duration": 1537,
    "start_time": "2025-07-05T13:06:47.161Z"
   },
   {
    "duration": 1524,
    "start_time": "2025-07-05T13:06:48.700Z"
   },
   {
    "duration": 1555,
    "start_time": "2025-07-05T13:06:50.226Z"
   },
   {
    "duration": 7,
    "start_time": "2025-07-05T13:08:27.517Z"
   },
   {
    "duration": 1460,
    "start_time": "2025-07-05T13:08:27.663Z"
   },
   {
    "duration": 1559,
    "start_time": "2025-07-05T13:08:43.833Z"
   },
   {
    "duration": 1677,
    "start_time": "2025-07-05T13:08:53.815Z"
   },
   {
    "duration": 7,
    "start_time": "2025-07-05T13:09:20.099Z"
   },
   {
    "duration": 1448,
    "start_time": "2025-07-05T13:09:20.515Z"
   },
   {
    "duration": 1477,
    "start_time": "2025-07-05T13:09:21.964Z"
   },
   {
    "duration": 1527,
    "start_time": "2025-07-05T13:09:23.443Z"
   },
   {
    "duration": 7,
    "start_time": "2025-07-05T13:09:42.948Z"
   },
   {
    "duration": 1501,
    "start_time": "2025-07-05T13:09:43.060Z"
   },
   {
    "duration": 1599,
    "start_time": "2025-07-05T13:09:44.563Z"
   },
   {
    "duration": 1500,
    "start_time": "2025-07-05T13:09:46.163Z"
   },
   {
    "duration": 6,
    "start_time": "2025-07-05T13:10:39.472Z"
   },
   {
    "duration": 14,
    "start_time": "2025-07-05T13:10:39.601Z"
   },
   {
    "duration": 14,
    "start_time": "2025-07-05T13:10:39.740Z"
   },
   {
    "duration": 14,
    "start_time": "2025-07-05T13:10:39.892Z"
   },
   {
    "duration": 6,
    "start_time": "2025-07-05T13:10:55.504Z"
   },
   {
    "duration": 1545,
    "start_time": "2025-07-05T13:10:55.675Z"
   },
   {
    "duration": 1451,
    "start_time": "2025-07-05T13:10:57.222Z"
   },
   {
    "duration": 1467,
    "start_time": "2025-07-05T13:10:58.674Z"
   },
   {
    "duration": 137,
    "start_time": "2025-07-05T13:15:43.043Z"
   },
   {
    "duration": 84,
    "start_time": "2025-07-05T13:15:52.779Z"
   },
   {
    "duration": 103,
    "start_time": "2025-07-05T13:16:39.665Z"
   },
   {
    "duration": 6,
    "start_time": "2025-07-05T13:17:23.600Z"
   },
   {
    "duration": 1490,
    "start_time": "2025-07-05T13:17:24.302Z"
   },
   {
    "duration": 0,
    "start_time": "2025-07-05T13:17:25.794Z"
   },
   {
    "duration": 0,
    "start_time": "2025-07-05T13:17:25.798Z"
   },
   {
    "duration": 6,
    "start_time": "2025-07-05T13:17:42.511Z"
   },
   {
    "duration": 1652,
    "start_time": "2025-07-05T13:17:44.549Z"
   },
   {
    "duration": 1498,
    "start_time": "2025-07-05T13:17:46.203Z"
   },
   {
    "duration": 1470,
    "start_time": "2025-07-05T13:17:47.703Z"
   },
   {
    "duration": 6,
    "start_time": "2025-07-05T13:18:35.855Z"
   },
   {
    "duration": 1512,
    "start_time": "2025-07-05T13:18:35.998Z"
   },
   {
    "duration": 1427,
    "start_time": "2025-07-05T13:18:37.511Z"
   },
   {
    "duration": 1506,
    "start_time": "2025-07-05T13:18:38.939Z"
   },
   {
    "duration": 5,
    "start_time": "2025-07-05T13:18:46.675Z"
   },
   {
    "duration": 1466,
    "start_time": "2025-07-05T13:18:46.824Z"
   },
   {
    "duration": 1528,
    "start_time": "2025-07-05T13:18:48.298Z"
   },
   {
    "duration": 1500,
    "start_time": "2025-07-05T13:18:49.828Z"
   },
   {
    "duration": 5268,
    "start_time": "2025-07-05T13:19:19.341Z"
   },
   {
    "duration": 1258,
    "start_time": "2025-07-05T13:19:24.612Z"
   },
   {
    "duration": 410,
    "start_time": "2025-07-05T13:19:25.872Z"
   },
   {
    "duration": 30,
    "start_time": "2025-07-05T13:19:26.284Z"
   },
   {
    "duration": 27,
    "start_time": "2025-07-05T13:19:26.315Z"
   },
   {
    "duration": 19,
    "start_time": "2025-07-05T13:19:26.343Z"
   },
   {
    "duration": 55,
    "start_time": "2025-07-05T13:19:26.363Z"
   },
   {
    "duration": 125,
    "start_time": "2025-07-05T13:19:26.420Z"
   },
   {
    "duration": 32,
    "start_time": "2025-07-05T13:19:26.547Z"
   },
   {
    "duration": 472,
    "start_time": "2025-07-05T13:19:26.581Z"
   },
   {
    "duration": 532,
    "start_time": "2025-07-05T13:19:27.054Z"
   },
   {
    "duration": 456,
    "start_time": "2025-07-05T13:19:27.588Z"
   },
   {
    "duration": 4,
    "start_time": "2025-07-05T13:19:28.046Z"
   },
   {
    "duration": 411,
    "start_time": "2025-07-05T13:19:28.051Z"
   },
   {
    "duration": 425,
    "start_time": "2025-07-05T13:19:28.463Z"
   },
   {
    "duration": 401,
    "start_time": "2025-07-05T13:19:28.890Z"
   },
   {
    "duration": 397,
    "start_time": "2025-07-05T13:19:29.293Z"
   },
   {
    "duration": 595,
    "start_time": "2025-07-05T13:19:29.692Z"
   },
   {
    "duration": 680,
    "start_time": "2025-07-05T13:19:30.289Z"
   },
   {
    "duration": 584,
    "start_time": "2025-07-05T13:19:30.971Z"
   },
   {
    "duration": 1513,
    "start_time": "2025-07-05T13:19:31.557Z"
   },
   {
    "duration": 9,
    "start_time": "2025-07-05T13:19:33.072Z"
   },
   {
    "duration": 49,
    "start_time": "2025-07-05T13:19:33.083Z"
   },
   {
    "duration": 16,
    "start_time": "2025-07-05T13:19:33.134Z"
   },
   {
    "duration": 221,
    "start_time": "2025-07-05T13:19:33.152Z"
   },
   {
    "duration": 133,
    "start_time": "2025-07-05T13:19:33.374Z"
   },
   {
    "duration": 190,
    "start_time": "2025-07-05T13:19:33.510Z"
   },
   {
    "duration": 51,
    "start_time": "2025-07-05T13:19:33.703Z"
   },
   {
    "duration": 21,
    "start_time": "2025-07-05T13:19:33.756Z"
   },
   {
    "duration": 13,
    "start_time": "2025-07-05T13:19:33.779Z"
   },
   {
    "duration": 5,
    "start_time": "2025-07-05T13:19:33.793Z"
   },
   {
    "duration": 8,
    "start_time": "2025-07-05T13:19:33.800Z"
   },
   {
    "duration": 9,
    "start_time": "2025-07-05T13:19:33.809Z"
   },
   {
    "duration": 18,
    "start_time": "2025-07-05T13:19:33.819Z"
   },
   {
    "duration": 13,
    "start_time": "2025-07-05T13:19:33.838Z"
   },
   {
    "duration": 7,
    "start_time": "2025-07-05T13:19:33.853Z"
   },
   {
    "duration": 1524,
    "start_time": "2025-07-05T13:19:33.861Z"
   },
   {
    "duration": 1498,
    "start_time": "2025-07-05T13:19:35.386Z"
   },
   {
    "duration": 1494,
    "start_time": "2025-07-05T13:19:36.885Z"
   },
   {
    "duration": 52,
    "start_time": "2025-07-05T19:51:19.795Z"
   },
   {
    "duration": 9973,
    "start_time": "2025-07-05T19:54:40.414Z"
   },
   {
    "duration": 1503,
    "start_time": "2025-07-05T19:54:50.390Z"
   },
   {
    "duration": 661,
    "start_time": "2025-07-05T19:54:51.895Z"
   },
   {
    "duration": 28,
    "start_time": "2025-07-05T19:54:52.558Z"
   },
   {
    "duration": 24,
    "start_time": "2025-07-05T19:54:52.588Z"
   },
   {
    "duration": 29,
    "start_time": "2025-07-05T19:54:52.614Z"
   },
   {
    "duration": 52,
    "start_time": "2025-07-05T19:54:52.645Z"
   },
   {
    "duration": 93,
    "start_time": "2025-07-05T19:54:52.699Z"
   },
   {
    "duration": 51,
    "start_time": "2025-07-05T19:54:52.793Z"
   },
   {
    "duration": 562,
    "start_time": "2025-07-05T19:54:52.848Z"
   },
   {
    "duration": 600,
    "start_time": "2025-07-05T19:54:53.412Z"
   },
   {
    "duration": 479,
    "start_time": "2025-07-05T19:54:54.014Z"
   },
   {
    "duration": 5,
    "start_time": "2025-07-05T19:54:54.495Z"
   },
   {
    "duration": 490,
    "start_time": "2025-07-05T19:54:54.502Z"
   },
   {
    "duration": 432,
    "start_time": "2025-07-05T19:54:54.994Z"
   },
   {
    "duration": 417,
    "start_time": "2025-07-05T19:54:55.428Z"
   },
   {
    "duration": 401,
    "start_time": "2025-07-05T19:54:55.847Z"
   },
   {
    "duration": 617,
    "start_time": "2025-07-05T19:54:56.250Z"
   },
   {
    "duration": 721,
    "start_time": "2025-07-05T19:54:56.869Z"
   },
   {
    "duration": 619,
    "start_time": "2025-07-05T19:54:57.592Z"
   },
   {
    "duration": 17,
    "start_time": "2025-07-05T19:54:58.213Z"
   },
   {
    "duration": 17,
    "start_time": "2025-07-05T19:54:58.240Z"
   },
   {
    "duration": 84,
    "start_time": "2025-07-05T19:54:58.259Z"
   },
   {
    "duration": 96,
    "start_time": "2025-07-05T19:54:58.344Z"
   },
   {
    "duration": 111,
    "start_time": "2025-07-05T19:54:58.442Z"
   },
   {
    "duration": 191,
    "start_time": "2025-07-05T19:54:58.556Z"
   },
   {
    "duration": 189,
    "start_time": "2025-07-05T19:54:58.753Z"
   },
   {
    "duration": 35,
    "start_time": "2025-07-05T19:54:58.945Z"
   },
   {
    "duration": 16,
    "start_time": "2025-07-05T19:54:58.982Z"
   },
   {
    "duration": 35,
    "start_time": "2025-07-05T19:54:59.000Z"
   },
   {
    "duration": 133,
    "start_time": "2025-07-05T19:54:59.036Z"
   },
   {
    "duration": 9,
    "start_time": "2025-07-05T19:54:59.171Z"
   },
   {
    "duration": 13,
    "start_time": "2025-07-05T19:54:59.181Z"
   },
   {
    "duration": 8,
    "start_time": "2025-07-05T19:54:59.196Z"
   },
   {
    "duration": 3,
    "start_time": "2025-07-05T19:54:59.206Z"
   },
   {
    "duration": 6,
    "start_time": "2025-07-05T19:54:59.211Z"
   },
   {
    "duration": 1546,
    "start_time": "2025-07-05T19:54:59.219Z"
   },
   {
    "duration": 1590,
    "start_time": "2025-07-05T19:55:00.767Z"
   },
   {
    "duration": 1811,
    "start_time": "2025-07-05T19:55:02.359Z"
   },
   {
    "duration": 14,
    "start_time": "2025-07-05T20:05:19.936Z"
   },
   {
    "duration": 16,
    "start_time": "2025-07-05T20:08:40.052Z"
   },
   {
    "duration": 5545,
    "start_time": "2025-07-05T20:11:17.569Z"
   },
   {
    "duration": 1352,
    "start_time": "2025-07-05T20:11:23.117Z"
   },
   {
    "duration": 420,
    "start_time": "2025-07-05T20:11:24.471Z"
   },
   {
    "duration": 26,
    "start_time": "2025-07-05T20:11:24.893Z"
   },
   {
    "duration": 138,
    "start_time": "2025-07-05T20:11:24.920Z"
   },
   {
    "duration": 22,
    "start_time": "2025-07-05T20:11:25.059Z"
   },
   {
    "duration": 68,
    "start_time": "2025-07-05T20:11:25.083Z"
   },
   {
    "duration": 156,
    "start_time": "2025-07-05T20:11:25.153Z"
   },
   {
    "duration": 50,
    "start_time": "2025-07-05T20:11:25.311Z"
   },
   {
    "duration": 494,
    "start_time": "2025-07-05T20:11:25.364Z"
   },
   {
    "duration": 580,
    "start_time": "2025-07-05T20:11:25.860Z"
   },
   {
    "duration": 480,
    "start_time": "2025-07-05T20:11:26.442Z"
   },
   {
    "duration": 5,
    "start_time": "2025-07-05T20:11:26.923Z"
   },
   {
    "duration": 527,
    "start_time": "2025-07-05T20:11:26.930Z"
   },
   {
    "duration": 460,
    "start_time": "2025-07-05T20:11:27.460Z"
   },
   {
    "duration": 428,
    "start_time": "2025-07-05T20:11:27.923Z"
   },
   {
    "duration": 389,
    "start_time": "2025-07-05T20:11:28.353Z"
   },
   {
    "duration": 618,
    "start_time": "2025-07-05T20:11:28.743Z"
   },
   {
    "duration": 706,
    "start_time": "2025-07-05T20:11:29.363Z"
   },
   {
    "duration": 594,
    "start_time": "2025-07-05T20:11:30.071Z"
   },
   {
    "duration": 18,
    "start_time": "2025-07-05T20:11:30.667Z"
   },
   {
    "duration": 37,
    "start_time": "2025-07-05T20:11:30.687Z"
   },
   {
    "duration": 75,
    "start_time": "2025-07-05T20:11:30.726Z"
   },
   {
    "duration": 45,
    "start_time": "2025-07-05T20:11:30.803Z"
   },
   {
    "duration": 188,
    "start_time": "2025-07-05T20:11:30.851Z"
   },
   {
    "duration": 267,
    "start_time": "2025-07-05T20:11:31.041Z"
   },
   {
    "duration": 145,
    "start_time": "2025-07-05T20:11:31.310Z"
   },
   {
    "duration": 7,
    "start_time": "2025-07-05T20:11:31.459Z"
   },
   {
    "duration": 43,
    "start_time": "2025-07-05T20:11:31.468Z"
   },
   {
    "duration": 60,
    "start_time": "2025-07-05T20:11:31.513Z"
   },
   {
    "duration": 19,
    "start_time": "2025-07-05T20:11:31.580Z"
   },
   {
    "duration": 58,
    "start_time": "2025-07-05T20:11:31.601Z"
   },
   {
    "duration": 32,
    "start_time": "2025-07-05T20:11:31.662Z"
   },
   {
    "duration": 36,
    "start_time": "2025-07-05T20:11:31.697Z"
   },
   {
    "duration": 22,
    "start_time": "2025-07-05T20:11:31.735Z"
   },
   {
    "duration": 56,
    "start_time": "2025-07-05T20:11:31.759Z"
   },
   {
    "duration": 1611,
    "start_time": "2025-07-05T20:11:31.817Z"
   },
   {
    "duration": 1544,
    "start_time": "2025-07-05T20:11:33.429Z"
   },
   {
    "duration": 1546,
    "start_time": "2025-07-05T20:11:34.975Z"
   },
   {
    "duration": 108,
    "start_time": "2025-07-07T07:34:30.442Z"
   },
   {
    "duration": 47,
    "start_time": "2025-07-07T07:34:47.171Z"
   },
   {
    "duration": 9850,
    "start_time": "2025-07-07T07:36:20.703Z"
   },
   {
    "duration": 1558,
    "start_time": "2025-07-07T07:36:30.556Z"
   },
   {
    "duration": 399,
    "start_time": "2025-07-07T07:36:32.115Z"
   },
   {
    "duration": 29,
    "start_time": "2025-07-07T07:36:32.516Z"
   },
   {
    "duration": 40,
    "start_time": "2025-07-07T07:36:32.546Z"
   },
   {
    "duration": 22,
    "start_time": "2025-07-07T07:36:32.587Z"
   },
   {
    "duration": 67,
    "start_time": "2025-07-07T07:36:32.610Z"
   },
   {
    "duration": 199,
    "start_time": "2025-07-07T07:36:32.679Z"
   },
   {
    "duration": 34,
    "start_time": "2025-07-07T07:36:32.880Z"
   },
   {
    "duration": 492,
    "start_time": "2025-07-07T07:36:32.916Z"
   },
   {
    "duration": 557,
    "start_time": "2025-07-07T07:36:33.409Z"
   },
   {
    "duration": 483,
    "start_time": "2025-07-07T07:36:33.975Z"
   },
   {
    "duration": 4,
    "start_time": "2025-07-07T07:36:34.460Z"
   },
   {
    "duration": 563,
    "start_time": "2025-07-07T07:36:34.466Z"
   },
   {
    "duration": 404,
    "start_time": "2025-07-07T07:36:35.031Z"
   },
   {
    "duration": 424,
    "start_time": "2025-07-07T07:36:35.437Z"
   },
   {
    "duration": 408,
    "start_time": "2025-07-07T07:36:35.862Z"
   },
   {
    "duration": 625,
    "start_time": "2025-07-07T07:36:36.272Z"
   },
   {
    "duration": 703,
    "start_time": "2025-07-07T07:36:36.898Z"
   },
   {
    "duration": 591,
    "start_time": "2025-07-07T07:36:37.603Z"
   },
   {
    "duration": 5,
    "start_time": "2025-07-07T07:36:38.196Z"
   },
   {
    "duration": 14,
    "start_time": "2025-07-07T07:36:38.202Z"
   },
   {
    "duration": 19,
    "start_time": "2025-07-07T07:36:38.218Z"
   },
   {
    "duration": 33,
    "start_time": "2025-07-07T07:36:38.238Z"
   },
   {
    "duration": 320,
    "start_time": "2025-07-07T07:36:38.273Z"
   },
   {
    "duration": 0,
    "start_time": "2025-07-07T07:36:38.595Z"
   },
   {
    "duration": 0,
    "start_time": "2025-07-07T07:36:38.596Z"
   },
   {
    "duration": 0,
    "start_time": "2025-07-07T07:36:38.598Z"
   },
   {
    "duration": 0,
    "start_time": "2025-07-07T07:36:38.599Z"
   },
   {
    "duration": 0,
    "start_time": "2025-07-07T07:36:38.600Z"
   },
   {
    "duration": 0,
    "start_time": "2025-07-07T07:36:38.601Z"
   },
   {
    "duration": 0,
    "start_time": "2025-07-07T07:36:38.603Z"
   },
   {
    "duration": 0,
    "start_time": "2025-07-07T07:36:38.604Z"
   },
   {
    "duration": 0,
    "start_time": "2025-07-07T07:36:38.606Z"
   },
   {
    "duration": 1,
    "start_time": "2025-07-07T07:36:38.606Z"
   },
   {
    "duration": 0,
    "start_time": "2025-07-07T07:36:38.608Z"
   },
   {
    "duration": 0,
    "start_time": "2025-07-07T07:36:38.609Z"
   },
   {
    "duration": 0,
    "start_time": "2025-07-07T07:36:38.610Z"
   },
   {
    "duration": 0,
    "start_time": "2025-07-07T07:36:38.611Z"
   },
   {
    "duration": 0,
    "start_time": "2025-07-07T07:36:38.613Z"
   },
   {
    "duration": 0,
    "start_time": "2025-07-07T07:36:38.614Z"
   },
   {
    "duration": 5630,
    "start_time": "2025-07-07T07:37:15.343Z"
   },
   {
    "duration": 1409,
    "start_time": "2025-07-07T07:37:20.976Z"
   },
   {
    "duration": 406,
    "start_time": "2025-07-07T07:37:22.386Z"
   },
   {
    "duration": 26,
    "start_time": "2025-07-07T07:37:22.794Z"
   },
   {
    "duration": 77,
    "start_time": "2025-07-07T07:37:22.821Z"
   },
   {
    "duration": 22,
    "start_time": "2025-07-07T07:37:22.900Z"
   },
   {
    "duration": 65,
    "start_time": "2025-07-07T07:37:22.924Z"
   },
   {
    "duration": 89,
    "start_time": "2025-07-07T07:37:22.991Z"
   },
   {
    "duration": 38,
    "start_time": "2025-07-07T07:37:23.082Z"
   },
   {
    "duration": 489,
    "start_time": "2025-07-07T07:37:23.124Z"
   },
   {
    "duration": 591,
    "start_time": "2025-07-07T07:37:23.615Z"
   },
   {
    "duration": 477,
    "start_time": "2025-07-07T07:37:24.208Z"
   },
   {
    "duration": 4,
    "start_time": "2025-07-07T07:37:24.688Z"
   },
   {
    "duration": 587,
    "start_time": "2025-07-07T07:37:24.694Z"
   },
   {
    "duration": 405,
    "start_time": "2025-07-07T07:37:25.283Z"
   },
   {
    "duration": 418,
    "start_time": "2025-07-07T07:37:25.689Z"
   },
   {
    "duration": 380,
    "start_time": "2025-07-07T07:37:26.109Z"
   },
   {
    "duration": 616,
    "start_time": "2025-07-07T07:37:26.491Z"
   },
   {
    "duration": 695,
    "start_time": "2025-07-07T07:37:27.109Z"
   },
   {
    "duration": 609,
    "start_time": "2025-07-07T07:37:27.805Z"
   },
   {
    "duration": 5,
    "start_time": "2025-07-07T07:37:28.416Z"
   },
   {
    "duration": 147,
    "start_time": "2025-07-07T07:37:28.422Z"
   },
   {
    "duration": 3,
    "start_time": "2025-07-07T07:37:28.571Z"
   },
   {
    "duration": 8,
    "start_time": "2025-07-07T07:37:28.576Z"
   },
   {
    "duration": 298,
    "start_time": "2025-07-07T07:37:28.585Z"
   },
   {
    "duration": 0,
    "start_time": "2025-07-07T07:37:28.885Z"
   },
   {
    "duration": 0,
    "start_time": "2025-07-07T07:37:28.886Z"
   },
   {
    "duration": 0,
    "start_time": "2025-07-07T07:37:28.888Z"
   },
   {
    "duration": 0,
    "start_time": "2025-07-07T07:37:28.889Z"
   },
   {
    "duration": 0,
    "start_time": "2025-07-07T07:37:28.890Z"
   },
   {
    "duration": 0,
    "start_time": "2025-07-07T07:37:28.891Z"
   },
   {
    "duration": 0,
    "start_time": "2025-07-07T07:37:28.892Z"
   },
   {
    "duration": 0,
    "start_time": "2025-07-07T07:37:28.894Z"
   },
   {
    "duration": 0,
    "start_time": "2025-07-07T07:37:28.895Z"
   },
   {
    "duration": 0,
    "start_time": "2025-07-07T07:37:28.896Z"
   },
   {
    "duration": 0,
    "start_time": "2025-07-07T07:37:28.897Z"
   },
   {
    "duration": 0,
    "start_time": "2025-07-07T07:37:28.898Z"
   },
   {
    "duration": 0,
    "start_time": "2025-07-07T07:37:28.899Z"
   },
   {
    "duration": 0,
    "start_time": "2025-07-07T07:37:28.901Z"
   },
   {
    "duration": 0,
    "start_time": "2025-07-07T07:37:28.902Z"
   },
   {
    "duration": 0,
    "start_time": "2025-07-07T07:37:28.903Z"
   },
   {
    "duration": 5572,
    "start_time": "2025-07-07T07:38:37.742Z"
   },
   {
    "duration": 1260,
    "start_time": "2025-07-07T07:38:43.317Z"
   },
   {
    "duration": 390,
    "start_time": "2025-07-07T07:38:44.578Z"
   },
   {
    "duration": 30,
    "start_time": "2025-07-07T07:38:44.970Z"
   },
   {
    "duration": 22,
    "start_time": "2025-07-07T07:38:45.001Z"
   },
   {
    "duration": 63,
    "start_time": "2025-07-07T07:38:45.024Z"
   },
   {
    "duration": 50,
    "start_time": "2025-07-07T07:38:45.089Z"
   },
   {
    "duration": 88,
    "start_time": "2025-07-07T07:38:45.141Z"
   },
   {
    "duration": 48,
    "start_time": "2025-07-07T07:38:45.230Z"
   },
   {
    "duration": 524,
    "start_time": "2025-07-07T07:38:45.281Z"
   },
   {
    "duration": 604,
    "start_time": "2025-07-07T07:38:45.806Z"
   },
   {
    "duration": 477,
    "start_time": "2025-07-07T07:38:46.411Z"
   },
   {
    "duration": 5,
    "start_time": "2025-07-07T07:38:46.890Z"
   },
   {
    "duration": 400,
    "start_time": "2025-07-07T07:38:46.897Z"
   },
   {
    "duration": 396,
    "start_time": "2025-07-07T07:38:47.299Z"
   },
   {
    "duration": 391,
    "start_time": "2025-07-07T07:38:47.697Z"
   },
   {
    "duration": 392,
    "start_time": "2025-07-07T07:38:48.090Z"
   },
   {
    "duration": 613,
    "start_time": "2025-07-07T07:38:48.484Z"
   },
   {
    "duration": 716,
    "start_time": "2025-07-07T07:38:49.099Z"
   },
   {
    "duration": 604,
    "start_time": "2025-07-07T07:38:49.817Z"
   },
   {
    "duration": 5,
    "start_time": "2025-07-07T07:38:50.423Z"
   },
   {
    "duration": 102,
    "start_time": "2025-07-07T07:38:50.430Z"
   },
   {
    "duration": 27,
    "start_time": "2025-07-07T07:38:50.534Z"
   },
   {
    "duration": 8,
    "start_time": "2025-07-07T07:38:50.563Z"
   },
   {
    "duration": 431,
    "start_time": "2025-07-07T07:38:50.573Z"
   },
   {
    "duration": 72,
    "start_time": "2025-07-07T07:38:51.006Z"
   },
   {
    "duration": 7,
    "start_time": "2025-07-07T07:38:51.081Z"
   },
   {
    "duration": 61,
    "start_time": "2025-07-07T07:38:51.178Z"
   },
   {
    "duration": 212,
    "start_time": "2025-07-07T07:38:51.241Z"
   },
   {
    "duration": 0,
    "start_time": "2025-07-07T07:38:51.454Z"
   },
   {
    "duration": 0,
    "start_time": "2025-07-07T07:38:51.456Z"
   },
   {
    "duration": 0,
    "start_time": "2025-07-07T07:38:51.457Z"
   },
   {
    "duration": 0,
    "start_time": "2025-07-07T07:38:51.459Z"
   },
   {
    "duration": 0,
    "start_time": "2025-07-07T07:38:51.460Z"
   },
   {
    "duration": 0,
    "start_time": "2025-07-07T07:38:51.461Z"
   },
   {
    "duration": 0,
    "start_time": "2025-07-07T07:38:51.476Z"
   },
   {
    "duration": 0,
    "start_time": "2025-07-07T07:38:51.477Z"
   },
   {
    "duration": 0,
    "start_time": "2025-07-07T07:38:51.479Z"
   },
   {
    "duration": 0,
    "start_time": "2025-07-07T07:38:51.480Z"
   },
   {
    "duration": 0,
    "start_time": "2025-07-07T07:38:51.482Z"
   },
   {
    "duration": 0,
    "start_time": "2025-07-07T07:38:51.483Z"
   },
   {
    "duration": 5706,
    "start_time": "2025-07-07T07:39:16.409Z"
   },
   {
    "duration": 1288,
    "start_time": "2025-07-07T07:39:22.118Z"
   },
   {
    "duration": 383,
    "start_time": "2025-07-07T07:39:23.408Z"
   },
   {
    "duration": 25,
    "start_time": "2025-07-07T07:39:23.793Z"
   },
   {
    "duration": 21,
    "start_time": "2025-07-07T07:39:23.820Z"
   },
   {
    "duration": 41,
    "start_time": "2025-07-07T07:39:23.842Z"
   },
   {
    "duration": 43,
    "start_time": "2025-07-07T07:39:23.884Z"
   },
   {
    "duration": 85,
    "start_time": "2025-07-07T07:39:23.929Z"
   },
   {
    "duration": 34,
    "start_time": "2025-07-07T07:39:24.015Z"
   },
   {
    "duration": 460,
    "start_time": "2025-07-07T07:39:24.052Z"
   },
   {
    "duration": 546,
    "start_time": "2025-07-07T07:39:24.514Z"
   },
   {
    "duration": 451,
    "start_time": "2025-07-07T07:39:25.062Z"
   },
   {
    "duration": 4,
    "start_time": "2025-07-07T07:39:25.515Z"
   },
   {
    "duration": 431,
    "start_time": "2025-07-07T07:39:25.521Z"
   },
   {
    "duration": 452,
    "start_time": "2025-07-07T07:39:25.954Z"
   },
   {
    "duration": 409,
    "start_time": "2025-07-07T07:39:26.408Z"
   },
   {
    "duration": 370,
    "start_time": "2025-07-07T07:39:26.819Z"
   },
   {
    "duration": 619,
    "start_time": "2025-07-07T07:39:27.191Z"
   },
   {
    "duration": 688,
    "start_time": "2025-07-07T07:39:27.811Z"
   },
   {
    "duration": 609,
    "start_time": "2025-07-07T07:39:28.500Z"
   },
   {
    "duration": 5,
    "start_time": "2025-07-07T07:39:29.111Z"
   },
   {
    "duration": 4,
    "start_time": "2025-07-07T07:39:29.118Z"
   },
   {
    "duration": 18,
    "start_time": "2025-07-07T07:39:29.123Z"
   },
   {
    "duration": 4,
    "start_time": "2025-07-07T07:39:29.143Z"
   },
   {
    "duration": 546,
    "start_time": "2025-07-07T07:39:29.149Z"
   },
   {
    "duration": 4,
    "start_time": "2025-07-07T07:39:29.697Z"
   },
   {
    "duration": 100,
    "start_time": "2025-07-07T07:39:29.778Z"
   },
   {
    "duration": 3,
    "start_time": "2025-07-07T07:39:29.882Z"
   },
   {
    "duration": 20,
    "start_time": "2025-07-07T07:39:29.886Z"
   },
   {
    "duration": 6,
    "start_time": "2025-07-07T07:39:29.908Z"
   },
   {
    "duration": 26,
    "start_time": "2025-07-07T07:39:29.916Z"
   },
   {
    "duration": 34,
    "start_time": "2025-07-07T07:39:29.944Z"
   },
   {
    "duration": 4,
    "start_time": "2025-07-07T07:39:29.979Z"
   },
   {
    "duration": 18,
    "start_time": "2025-07-07T07:39:29.984Z"
   },
   {
    "duration": 74,
    "start_time": "2025-07-07T07:39:30.004Z"
   },
   {
    "duration": 39,
    "start_time": "2025-07-07T07:39:30.080Z"
   },
   {
    "duration": 53,
    "start_time": "2025-07-07T07:39:30.121Z"
   },
   {
    "duration": 43,
    "start_time": "2025-07-07T07:39:30.176Z"
   },
   {
    "duration": 1635,
    "start_time": "2025-07-07T07:39:30.220Z"
   },
   {
    "duration": 1529,
    "start_time": "2025-07-07T07:39:31.857Z"
   },
   {
    "duration": 1499,
    "start_time": "2025-07-07T07:39:33.388Z"
   },
   {
    "duration": 123,
    "start_time": "2025-07-07T07:41:48.326Z"
   },
   {
    "duration": 8,
    "start_time": "2025-07-07T07:41:55.045Z"
   },
   {
    "duration": 5763,
    "start_time": "2025-07-07T07:42:01.378Z"
   },
   {
    "duration": 1334,
    "start_time": "2025-07-07T07:42:07.144Z"
   },
   {
    "duration": 389,
    "start_time": "2025-07-07T07:42:08.480Z"
   },
   {
    "duration": 28,
    "start_time": "2025-07-07T07:42:08.871Z"
   },
   {
    "duration": 23,
    "start_time": "2025-07-07T07:42:08.900Z"
   },
   {
    "duration": 48,
    "start_time": "2025-07-07T07:42:08.924Z"
   },
   {
    "duration": 58,
    "start_time": "2025-07-07T07:42:08.974Z"
   },
   {
    "duration": 71,
    "start_time": "2025-07-07T07:42:09.033Z"
   },
   {
    "duration": 35,
    "start_time": "2025-07-07T07:42:09.106Z"
   },
   {
    "duration": 555,
    "start_time": "2025-07-07T07:42:09.144Z"
   },
   {
    "duration": 558,
    "start_time": "2025-07-07T07:42:09.701Z"
   },
   {
    "duration": 479,
    "start_time": "2025-07-07T07:42:10.261Z"
   },
   {
    "duration": 5,
    "start_time": "2025-07-07T07:42:10.742Z"
   },
   {
    "duration": 540,
    "start_time": "2025-07-07T07:42:10.748Z"
   },
   {
    "duration": 408,
    "start_time": "2025-07-07T07:42:11.290Z"
   },
   {
    "duration": 427,
    "start_time": "2025-07-07T07:42:11.701Z"
   },
   {
    "duration": 377,
    "start_time": "2025-07-07T07:42:12.130Z"
   },
   {
    "duration": 609,
    "start_time": "2025-07-07T07:42:12.509Z"
   },
   {
    "duration": 741,
    "start_time": "2025-07-07T07:42:13.121Z"
   },
   {
    "duration": 614,
    "start_time": "2025-07-07T07:42:13.865Z"
   },
   {
    "duration": 5,
    "start_time": "2025-07-07T07:42:14.481Z"
   },
   {
    "duration": 99,
    "start_time": "2025-07-07T07:42:14.488Z"
   },
   {
    "duration": 7,
    "start_time": "2025-07-07T07:42:14.589Z"
   },
   {
    "duration": 14,
    "start_time": "2025-07-07T07:42:14.598Z"
   },
   {
    "duration": 136,
    "start_time": "2025-07-07T07:42:14.614Z"
   },
   {
    "duration": 0,
    "start_time": "2025-07-07T07:42:14.752Z"
   },
   {
    "duration": 0,
    "start_time": "2025-07-07T07:42:14.753Z"
   },
   {
    "duration": 0,
    "start_time": "2025-07-07T07:42:14.754Z"
   },
   {
    "duration": 0,
    "start_time": "2025-07-07T07:42:14.755Z"
   },
   {
    "duration": 0,
    "start_time": "2025-07-07T07:42:14.756Z"
   },
   {
    "duration": 0,
    "start_time": "2025-07-07T07:42:14.758Z"
   },
   {
    "duration": 0,
    "start_time": "2025-07-07T07:42:14.759Z"
   },
   {
    "duration": 0,
    "start_time": "2025-07-07T07:42:14.760Z"
   },
   {
    "duration": 0,
    "start_time": "2025-07-07T07:42:14.761Z"
   },
   {
    "duration": 0,
    "start_time": "2025-07-07T07:42:14.762Z"
   },
   {
    "duration": 1,
    "start_time": "2025-07-07T07:42:14.763Z"
   },
   {
    "duration": 0,
    "start_time": "2025-07-07T07:42:14.777Z"
   },
   {
    "duration": 0,
    "start_time": "2025-07-07T07:42:14.778Z"
   },
   {
    "duration": 0,
    "start_time": "2025-07-07T07:42:14.779Z"
   },
   {
    "duration": 0,
    "start_time": "2025-07-07T07:42:14.781Z"
   },
   {
    "duration": 0,
    "start_time": "2025-07-07T07:42:14.782Z"
   },
   {
    "duration": 7,
    "start_time": "2025-07-07T07:42:31.230Z"
   },
   {
    "duration": 3,
    "start_time": "2025-07-07T07:42:31.607Z"
   },
   {
    "duration": 3,
    "start_time": "2025-07-07T07:42:32.862Z"
   },
   {
    "duration": 3,
    "start_time": "2025-07-07T07:42:33.290Z"
   },
   {
    "duration": 393,
    "start_time": "2025-07-07T07:42:34.313Z"
   },
   {
    "duration": 5467,
    "start_time": "2025-07-07T07:42:40.291Z"
   },
   {
    "duration": 1366,
    "start_time": "2025-07-07T07:42:45.761Z"
   },
   {
    "duration": 403,
    "start_time": "2025-07-07T07:42:47.129Z"
   },
   {
    "duration": 26,
    "start_time": "2025-07-07T07:42:47.535Z"
   },
   {
    "duration": 31,
    "start_time": "2025-07-07T07:42:47.563Z"
   },
   {
    "duration": 22,
    "start_time": "2025-07-07T07:42:47.596Z"
   },
   {
    "duration": 75,
    "start_time": "2025-07-07T07:42:47.620Z"
   },
   {
    "duration": 82,
    "start_time": "2025-07-07T07:42:47.697Z"
   },
   {
    "duration": 37,
    "start_time": "2025-07-07T07:42:47.781Z"
   },
   {
    "duration": 501,
    "start_time": "2025-07-07T07:42:47.821Z"
   },
   {
    "duration": 593,
    "start_time": "2025-07-07T07:42:48.324Z"
   },
   {
    "duration": 474,
    "start_time": "2025-07-07T07:42:48.919Z"
   },
   {
    "duration": 5,
    "start_time": "2025-07-07T07:42:49.395Z"
   },
   {
    "duration": 408,
    "start_time": "2025-07-07T07:42:49.401Z"
   },
   {
    "duration": 412,
    "start_time": "2025-07-07T07:42:49.810Z"
   },
   {
    "duration": 403,
    "start_time": "2025-07-07T07:42:50.224Z"
   },
   {
    "duration": 393,
    "start_time": "2025-07-07T07:42:50.629Z"
   },
   {
    "duration": 581,
    "start_time": "2025-07-07T07:42:51.024Z"
   },
   {
    "duration": 703,
    "start_time": "2025-07-07T07:42:51.606Z"
   },
   {
    "duration": 579,
    "start_time": "2025-07-07T07:42:52.311Z"
   },
   {
    "duration": 5,
    "start_time": "2025-07-07T07:42:52.891Z"
   },
   {
    "duration": 4,
    "start_time": "2025-07-07T07:42:52.897Z"
   },
   {
    "duration": 13,
    "start_time": "2025-07-07T07:42:52.903Z"
   },
   {
    "duration": 11,
    "start_time": "2025-07-07T07:42:52.917Z"
   },
   {
    "duration": 549,
    "start_time": "2025-07-07T07:42:52.929Z"
   },
   {
    "duration": 4,
    "start_time": "2025-07-07T07:42:53.480Z"
   },
   {
    "duration": 102,
    "start_time": "2025-07-07T07:42:53.486Z"
   },
   {
    "duration": 14,
    "start_time": "2025-07-07T07:42:53.591Z"
   },
   {
    "duration": 34,
    "start_time": "2025-07-07T07:42:53.607Z"
   },
   {
    "duration": 18,
    "start_time": "2025-07-07T07:42:53.642Z"
   },
   {
    "duration": 19,
    "start_time": "2025-07-07T07:42:53.661Z"
   },
   {
    "duration": 12,
    "start_time": "2025-07-07T07:42:53.682Z"
   },
   {
    "duration": 3,
    "start_time": "2025-07-07T07:42:53.696Z"
   },
   {
    "duration": 12,
    "start_time": "2025-07-07T07:42:53.701Z"
   },
   {
    "duration": 6,
    "start_time": "2025-07-07T07:42:53.715Z"
   },
   {
    "duration": 12,
    "start_time": "2025-07-07T07:42:53.722Z"
   },
   {
    "duration": 4,
    "start_time": "2025-07-07T07:42:53.735Z"
   },
   {
    "duration": 36,
    "start_time": "2025-07-07T07:42:53.741Z"
   },
   {
    "duration": 1541,
    "start_time": "2025-07-07T07:42:53.779Z"
   },
   {
    "duration": 1611,
    "start_time": "2025-07-07T07:42:55.322Z"
   },
   {
    "duration": 1507,
    "start_time": "2025-07-07T07:42:56.935Z"
   },
   {
    "duration": 405,
    "start_time": "2025-07-07T07:43:15.199Z"
   },
   {
    "duration": 5592,
    "start_time": "2025-07-07T07:44:53.301Z"
   },
   {
    "duration": 1336,
    "start_time": "2025-07-07T07:44:58.896Z"
   },
   {
    "duration": 405,
    "start_time": "2025-07-07T07:45:00.234Z"
   },
   {
    "duration": 38,
    "start_time": "2025-07-07T07:45:00.641Z"
   },
   {
    "duration": 84,
    "start_time": "2025-07-07T07:45:00.681Z"
   },
   {
    "duration": 30,
    "start_time": "2025-07-07T07:45:00.766Z"
   },
   {
    "duration": 134,
    "start_time": "2025-07-07T07:45:00.798Z"
   },
   {
    "duration": 142,
    "start_time": "2025-07-07T07:45:00.934Z"
   },
   {
    "duration": 52,
    "start_time": "2025-07-07T07:45:01.078Z"
   },
   {
    "duration": 503,
    "start_time": "2025-07-07T07:45:01.134Z"
   },
   {
    "duration": 619,
    "start_time": "2025-07-07T07:45:01.640Z"
   },
   {
    "duration": 478,
    "start_time": "2025-07-07T07:45:02.261Z"
   },
   {
    "duration": 6,
    "start_time": "2025-07-07T07:45:02.741Z"
   },
   {
    "duration": 440,
    "start_time": "2025-07-07T07:45:02.748Z"
   },
   {
    "duration": 408,
    "start_time": "2025-07-07T07:45:03.189Z"
   },
   {
    "duration": 403,
    "start_time": "2025-07-07T07:45:03.599Z"
   },
   {
    "duration": 393,
    "start_time": "2025-07-07T07:45:04.004Z"
   },
   {
    "duration": 627,
    "start_time": "2025-07-07T07:45:04.399Z"
   },
   {
    "duration": 736,
    "start_time": "2025-07-07T07:45:05.027Z"
   },
   {
    "duration": 641,
    "start_time": "2025-07-07T07:45:05.765Z"
   },
   {
    "duration": 5,
    "start_time": "2025-07-07T07:45:06.408Z"
   },
   {
    "duration": 56,
    "start_time": "2025-07-07T07:45:06.414Z"
   },
   {
    "duration": 135,
    "start_time": "2025-07-07T07:45:06.472Z"
   },
   {
    "duration": 18,
    "start_time": "2025-07-07T07:45:06.609Z"
   },
   {
    "duration": 479,
    "start_time": "2025-07-07T07:45:06.629Z"
   },
   {
    "duration": 4,
    "start_time": "2025-07-07T07:45:07.180Z"
   },
   {
    "duration": 15,
    "start_time": "2025-07-07T07:45:07.275Z"
   },
   {
    "duration": 182,
    "start_time": "2025-07-07T07:45:07.295Z"
   },
   {
    "duration": 39,
    "start_time": "2025-07-07T07:45:07.479Z"
   },
   {
    "duration": 7,
    "start_time": "2025-07-07T07:45:07.520Z"
   },
   {
    "duration": 59,
    "start_time": "2025-07-07T07:45:07.528Z"
   },
   {
    "duration": 45,
    "start_time": "2025-07-07T07:45:07.589Z"
   },
   {
    "duration": 49,
    "start_time": "2025-07-07T07:45:07.636Z"
   },
   {
    "duration": 8,
    "start_time": "2025-07-07T07:45:07.687Z"
   },
   {
    "duration": 7,
    "start_time": "2025-07-07T07:45:07.696Z"
   },
   {
    "duration": 7,
    "start_time": "2025-07-07T07:45:07.704Z"
   },
   {
    "duration": 14,
    "start_time": "2025-07-07T07:45:07.712Z"
   },
   {
    "duration": 71,
    "start_time": "2025-07-07T07:45:07.727Z"
   },
   {
    "duration": 1527,
    "start_time": "2025-07-07T07:45:07.800Z"
   },
   {
    "duration": 1549,
    "start_time": "2025-07-07T07:45:09.329Z"
   },
   {
    "duration": 1567,
    "start_time": "2025-07-07T07:45:10.880Z"
   },
   {
    "duration": 12469,
    "start_time": "2025-07-08T05:33:57.452Z"
   },
   {
    "duration": 5547,
    "start_time": "2025-07-08T05:34:09.923Z"
   },
   {
    "duration": 496,
    "start_time": "2025-07-08T05:34:15.472Z"
   },
   {
    "duration": 28,
    "start_time": "2025-07-08T05:34:15.970Z"
   },
   {
    "duration": 61,
    "start_time": "2025-07-08T05:34:16.001Z"
   },
   {
    "duration": 22,
    "start_time": "2025-07-08T05:34:16.064Z"
   },
   {
    "duration": 85,
    "start_time": "2025-07-08T05:34:16.088Z"
   },
   {
    "duration": 102,
    "start_time": "2025-07-08T05:34:16.175Z"
   },
   {
    "duration": 42,
    "start_time": "2025-07-08T05:34:16.279Z"
   },
   {
    "duration": 587,
    "start_time": "2025-07-08T05:34:16.322Z"
   },
   {
    "duration": 677,
    "start_time": "2025-07-08T05:34:16.911Z"
   },
   {
    "duration": 546,
    "start_time": "2025-07-08T05:34:17.590Z"
   },
   {
    "duration": 8,
    "start_time": "2025-07-08T05:34:18.138Z"
   },
   {
    "duration": 582,
    "start_time": "2025-07-08T05:34:18.153Z"
   },
   {
    "duration": 450,
    "start_time": "2025-07-08T05:34:18.738Z"
   },
   {
    "duration": 480,
    "start_time": "2025-07-08T05:34:19.191Z"
   },
   {
    "duration": 450,
    "start_time": "2025-07-08T05:34:19.673Z"
   },
   {
    "duration": 693,
    "start_time": "2025-07-08T05:34:20.125Z"
   },
   {
    "duration": 884,
    "start_time": "2025-07-08T05:34:20.820Z"
   },
   {
    "duration": 699,
    "start_time": "2025-07-08T05:34:21.706Z"
   },
   {
    "duration": 4,
    "start_time": "2025-07-08T05:34:22.407Z"
   },
   {
    "duration": 4,
    "start_time": "2025-07-08T05:34:22.413Z"
   },
   {
    "duration": 18,
    "start_time": "2025-07-08T05:34:22.418Z"
   },
   {
    "duration": 7,
    "start_time": "2025-07-08T05:34:22.439Z"
   },
   {
    "duration": 528,
    "start_time": "2025-07-08T05:34:22.448Z"
   },
   {
    "duration": 3,
    "start_time": "2025-07-08T05:34:23.036Z"
   },
   {
    "duration": 88,
    "start_time": "2025-07-08T05:34:23.053Z"
   },
   {
    "duration": 4,
    "start_time": "2025-07-08T05:34:23.143Z"
   },
   {
    "duration": 19,
    "start_time": "2025-07-08T05:34:23.149Z"
   },
   {
    "duration": 7,
    "start_time": "2025-07-08T05:34:23.170Z"
   },
   {
    "duration": 16,
    "start_time": "2025-07-08T05:34:23.180Z"
   },
   {
    "duration": 24,
    "start_time": "2025-07-08T05:34:23.236Z"
   },
   {
    "duration": 4,
    "start_time": "2025-07-08T05:34:23.262Z"
   },
   {
    "duration": 8,
    "start_time": "2025-07-08T05:34:23.268Z"
   },
   {
    "duration": 26,
    "start_time": "2025-07-08T05:34:23.277Z"
   },
   {
    "duration": 57,
    "start_time": "2025-07-08T05:34:23.305Z"
   },
   {
    "duration": 4,
    "start_time": "2025-07-08T05:34:23.364Z"
   },
   {
    "duration": 176,
    "start_time": "2025-07-08T05:34:23.370Z"
   },
   {
    "duration": 1735,
    "start_time": "2025-07-08T05:34:23.551Z"
   },
   {
    "duration": 1697,
    "start_time": "2025-07-08T05:34:25.288Z"
   },
   {
    "duration": 1790,
    "start_time": "2025-07-08T05:34:26.989Z"
   },
   {
    "duration": 15031,
    "start_time": "2025-08-15T18:17:02.927Z"
   },
   {
    "duration": 1449,
    "start_time": "2025-08-15T18:17:17.960Z"
   },
   {
    "duration": 389,
    "start_time": "2025-08-15T18:17:19.411Z"
   },
   {
    "duration": 26,
    "start_time": "2025-08-15T18:17:19.802Z"
   },
   {
    "duration": 31,
    "start_time": "2025-08-15T18:17:19.834Z"
   },
   {
    "duration": 20,
    "start_time": "2025-08-15T18:17:19.867Z"
   },
   {
    "duration": 60,
    "start_time": "2025-08-15T18:17:19.888Z"
   },
   {
    "duration": 70,
    "start_time": "2025-08-15T18:17:19.949Z"
   },
   {
    "duration": 39,
    "start_time": "2025-08-15T18:17:20.021Z"
   },
   {
    "duration": 455,
    "start_time": "2025-08-15T18:17:20.062Z"
   },
   {
    "duration": 536,
    "start_time": "2025-08-15T18:17:20.519Z"
   },
   {
    "duration": 459,
    "start_time": "2025-08-15T18:17:21.056Z"
   },
   {
    "duration": 5,
    "start_time": "2025-08-15T18:17:21.517Z"
   },
   {
    "duration": 461,
    "start_time": "2025-08-15T18:17:21.523Z"
   },
   {
    "duration": 443,
    "start_time": "2025-08-15T18:17:21.985Z"
   },
   {
    "duration": 406,
    "start_time": "2025-08-15T18:17:22.435Z"
   },
   {
    "duration": 385,
    "start_time": "2025-08-15T18:17:22.842Z"
   },
   {
    "duration": 604,
    "start_time": "2025-08-15T18:17:23.234Z"
   },
   {
    "duration": 676,
    "start_time": "2025-08-15T18:17:23.840Z"
   },
   {
    "duration": 540,
    "start_time": "2025-08-15T18:17:24.517Z"
   },
   {
    "duration": 5,
    "start_time": "2025-08-15T18:17:25.058Z"
   },
   {
    "duration": 16,
    "start_time": "2025-08-15T18:17:25.064Z"
   },
   {
    "duration": 4,
    "start_time": "2025-08-15T18:17:25.081Z"
   },
   {
    "duration": 3,
    "start_time": "2025-08-15T18:17:25.086Z"
   },
   {
    "duration": 466,
    "start_time": "2025-08-15T18:17:25.090Z"
   },
   {
    "duration": 84,
    "start_time": "2025-08-15T18:17:25.557Z"
   },
   {
    "duration": 13,
    "start_time": "2025-08-15T18:17:25.734Z"
   },
   {
    "duration": 3,
    "start_time": "2025-08-15T18:17:25.750Z"
   },
   {
    "duration": 14,
    "start_time": "2025-08-15T18:17:25.754Z"
   },
   {
    "duration": 13,
    "start_time": "2025-08-15T18:17:25.770Z"
   },
   {
    "duration": 13,
    "start_time": "2025-08-15T18:17:25.785Z"
   },
   {
    "duration": 32,
    "start_time": "2025-08-15T18:17:25.800Z"
   },
   {
    "duration": 4,
    "start_time": "2025-08-15T18:17:25.833Z"
   },
   {
    "duration": 14,
    "start_time": "2025-08-15T18:17:25.838Z"
   },
   {
    "duration": 7,
    "start_time": "2025-08-15T18:17:25.853Z"
   },
   {
    "duration": 6,
    "start_time": "2025-08-15T18:17:25.861Z"
   },
   {
    "duration": 3,
    "start_time": "2025-08-15T18:17:25.869Z"
   },
   {
    "duration": 20,
    "start_time": "2025-08-15T18:17:25.874Z"
   },
   {
    "duration": 1481,
    "start_time": "2025-08-15T18:17:25.896Z"
   },
   {
    "duration": 1450,
    "start_time": "2025-08-15T18:17:27.378Z"
   },
   {
    "duration": 1438,
    "start_time": "2025-08-15T18:17:28.833Z"
   }
  ],
  "kernelspec": {
   "display_name": "Python 3 (ipykernel)",
   "language": "python",
   "name": "python3"
  },
  "language_info": {
   "codemirror_mode": {
    "name": "ipython",
    "version": 3
   },
   "file_extension": ".py",
   "mimetype": "text/x-python",
   "name": "python",
   "nbconvert_exporter": "python",
   "pygments_lexer": "ipython3",
   "version": "3.9.5"
  },
  "toc": {
   "base_numbering": 1,
   "nav_menu": {},
   "number_sections": true,
   "sideBar": true,
   "skip_h1_title": true,
   "title_cell": "Table of Contents",
   "title_sidebar": "Contents",
   "toc_cell": false,
   "toc_position": {},
   "toc_section_display": true,
   "toc_window_display": true
  }
 },
 "nbformat": 4,
 "nbformat_minor": 2
}
