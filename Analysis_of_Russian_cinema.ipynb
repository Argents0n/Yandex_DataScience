{
 "cells": [
  {
   "cell_type": "markdown",
   "metadata": {},
   "source": [
    "<div style=\"border:solid Chocolate 2px; padding: 40px\">\n",
    "\n",
    "**Привет!👋**\n",
    "\n",
    "Меня зовут Огурлиев Анзор, я буду ревьюером твоего проекта. Сразу хочу предложить тебе общаться на \"ты\", если тебе это неудобно, скажи мне об этом. Нам предстоит пройти с тобой через тернистый и от того интересный путь анализа данных! Можешь не переживать, я всегда помогу тебе, если у тебя возникнут вопросы)\n",
    "\n",
    "По ходу твоей работы я буду оставлять свои комментарии, по выполненным тобой шагам. Попрошу тебя не удалять их, так мне будет проще отслеживать твой прогресс в случае повторной проверки.\n",
    "\n",
    "Очень важно вести диалог и обсуждать те пункты, которые у тебя могли не получиться, поэтому, ты можешь оставлять свои комментарии, и мы обязательно во всем разберемся! Самое главное - выделяй свои комментарии удобным для тебя способом (цвет, рамка), но так, чтобы они отчетлитво отличались от моих комментариев. Так мы ни в чем не запутаемся)\n",
    "\n",
    "Свои комментарии я буду выделять так: <font color='green'>зеленый</font>, <font color='gold'>желтый</font> и <font color='red'>красный</font> цвет, например:\n",
    "\n",
    "<br/>\n",
    "\n",
    "<div class=\"alert alert-success\">\n",
    "<h2> Комментарий ревьюера V1<a class=\"tocSkip\"> </h2>\n",
    "\n",
    "<b>Все отлично!👍:</b> Этот комментарий я буду оставлять, если твое решение оптимально для данного шага.\n",
    "</div>\n",
    "\n",
    "<br/>\n",
    "\n",
    "<div class=\"alert alert-warning\">\n",
    "    <h2> Комментарий ревьюера V1<a class=\"tocSkip\"> </h2>\n",
    "\n",
    "<b>Некоторые замечания и рекомендации💡:</b> Это не означает, что ты совершил ошибку. Такими комментариями я буду отмечать места, где ты справился с задачей, но её можно решить ещё лучше. Также в таких комментариях я буду оставлять для тебя другие советы.\n",
    "</div>\n",
    "\n",
    "\n",
    "<br/>\n",
    "<div class=\"alert alert-block alert-danger\">\n",
    "<h2> Комментарий ревьюера V1<a class=\"tocSkip\"></h2>\n",
    "\n",
    "\n",
    "<b>На доработку🤔:</b>\n",
    "Если решение, которое ты применил на определенном шаге, требует значительных изменений, то я буду оставлять такой комментарий. Тебе нужно будет подумать еще раз как правильным образом решить данный этап. Если ревью содержит такие комментарии, то я не смогу принять проект с первого раза.\n",
    "</div>\n",
    "\n",
    "P.S. В оглавлении комментария ты увидишь `V1` (`V1`, `V2`, `V3`) - это версия моего комментария, которая понадобится нам с тобой, чтобы не запутаться, если потребуется оставить тебе комментарии после первой проверки."
   ]
  },
  {
   "cell_type": "markdown",
   "metadata": {
    "id": "sIfNaMOxgFyK"
   },
   "source": [
    "# Исследование данных о российском кинопрокате\n",
    "\n"
   ]
  },
  {
   "cell_type": "markdown",
   "metadata": {},
   "source": [
    "## Описание данных, используемых в работе"
   ]
  },
  {
   "cell_type": "markdown",
   "metadata": {},
   "source": [
    "**Таблица mkrf_movies содержит информацию из реестра прокатных удостоверений. У одного фильма может быть несколько прокатных удостоверений.**\n",
    "\n",
    "1. title — название фильма;\n",
    "2. puNumber — номер прокатного удостоверения;\n",
    "3. show_start_date — дата премьеры фильма;\n",
    "4. type — тип фильма;\n",
    "5. film_studio — студия-производитель;\n",
    "6. production_country — страна-производитель;\n",
    "7. director — режиссёр;\n",
    "8. producer — продюсер;\n",
    "9. age_restriction — возрастная категория;\n",
    "10. refundable_support — объём возвратных средств государственной поддержки;\n",
    "11. nonrefundable_support — объём невозвратных средств государственной поддержки;\n",
    "12. financing_source — источник государственного финансирования;\n",
    "13. budget — общий бюджет фильма;\n",
    "14. ratings — рейтинг фильма на КиноПоиске;\n",
    "15. genres — жанр фильма.\n",
    "\n",
    "Важно обратить внимание, что столбец budget уже включает в себя полный объём государственной поддержки. Данные в этом столбце указаны только для тех фильмов, которые получили государственную поддержку.\n",
    "\n",
    "**Таблица mkrf_shows содержит сведения о показах фильмов в российских кинотеатрах.**\n",
    "\n",
    "1. puNumber — номер прокатного удостоверения;\n",
    "2. box_office — сборы в рублях.\n"
   ]
  },
  {
   "cell_type": "markdown",
   "metadata": {},
   "source": [
    "<div class=\"alert alert-success\">\n",
    "<h2> Комментарий ревьюера V1<a class=\"tocSkip\"> </h2>\n",
    "\n",
    "<b>Все отлично!👍:</b> Молодец, что начинаешь проект с описания!"
   ]
  },
  {
   "cell_type": "markdown",
   "metadata": {
    "id": "3bSlkCsbgFyL"
   },
   "source": [
    "## Начало работы с датафреймом"
   ]
  },
  {
   "cell_type": "markdown",
   "metadata": {
    "id": "dw87FlzMgFyM"
   },
   "source": [
    "### Подключение необходимых библиотек"
   ]
  },
  {
   "cell_type": "code",
   "execution_count": 1,
   "metadata": {},
   "outputs": [],
   "source": [
    "import pandas as pd\n",
    "import seaborn as sb\n",
    "import matplotlib.pyplot as plt"
   ]
  },
  {
   "cell_type": "markdown",
   "metadata": {
    "id": "dw87FlzMgFyM"
   },
   "source": [
    "### Открытие и проверка датафреймов"
   ]
  },
  {
   "cell_type": "code",
   "execution_count": 2,
   "metadata": {},
   "outputs": [],
   "source": [
    "data_cinema = pd.read_csv('/datasets/mkrf_movies.csv')\n",
    "data_shows = pd.read_csv('/datasets/mkrf_shows.csv')"
   ]
  },
  {
   "cell_type": "code",
   "execution_count": 3,
   "metadata": {},
   "outputs": [
    {
     "data": {
      "text/html": [
       "<div>\n",
       "<style scoped>\n",
       "    .dataframe tbody tr th:only-of-type {\n",
       "        vertical-align: middle;\n",
       "    }\n",
       "\n",
       "    .dataframe tbody tr th {\n",
       "        vertical-align: top;\n",
       "    }\n",
       "\n",
       "    .dataframe thead th {\n",
       "        text-align: right;\n",
       "    }\n",
       "</style>\n",
       "<table border=\"1\" class=\"dataframe\">\n",
       "  <thead>\n",
       "    <tr style=\"text-align: right;\">\n",
       "      <th></th>\n",
       "      <th>title</th>\n",
       "      <th>puNumber</th>\n",
       "      <th>show_start_date</th>\n",
       "      <th>type</th>\n",
       "      <th>film_studio</th>\n",
       "      <th>production_country</th>\n",
       "      <th>director</th>\n",
       "      <th>producer</th>\n",
       "      <th>age_restriction</th>\n",
       "      <th>refundable_support</th>\n",
       "      <th>nonrefundable_support</th>\n",
       "      <th>budget</th>\n",
       "      <th>financing_source</th>\n",
       "      <th>ratings</th>\n",
       "      <th>genres</th>\n",
       "    </tr>\n",
       "  </thead>\n",
       "  <tbody>\n",
       "    <tr>\n",
       "      <th>0</th>\n",
       "      <td>Открытый простор</td>\n",
       "      <td>221048915</td>\n",
       "      <td>2015-11-27T12:00:00.000Z</td>\n",
       "      <td>Художественный</td>\n",
       "      <td>Тачстоун Пикчерз, Кобальт Пикчерз, Бикон Пикче...</td>\n",
       "      <td>США</td>\n",
       "      <td>Кевин Костнер</td>\n",
       "      <td>Дэвид Валдес, Кевин Костнер, Джейк Эбертс</td>\n",
       "      <td>«18+» - запрещено для детей</td>\n",
       "      <td>NaN</td>\n",
       "      <td>NaN</td>\n",
       "      <td>NaN</td>\n",
       "      <td>NaN</td>\n",
       "      <td>7.2</td>\n",
       "      <td>боевик,драма,мелодрама</td>\n",
       "    </tr>\n",
       "    <tr>\n",
       "      <th>1</th>\n",
       "      <td>Особо важное задание</td>\n",
       "      <td>111013716</td>\n",
       "      <td>2016-09-13T12:00:00.000Z</td>\n",
       "      <td>Художественный</td>\n",
       "      <td>Киностудия \"Мосфильм\"</td>\n",
       "      <td>СССР</td>\n",
       "      <td>Е.Матвеев</td>\n",
       "      <td>NaN</td>\n",
       "      <td>«6+» - для детей старше 6 лет</td>\n",
       "      <td>NaN</td>\n",
       "      <td>NaN</td>\n",
       "      <td>NaN</td>\n",
       "      <td>NaN</td>\n",
       "      <td>6.6</td>\n",
       "      <td>драма,военный</td>\n",
       "    </tr>\n",
       "    <tr>\n",
       "      <th>2</th>\n",
       "      <td>Особо опасен</td>\n",
       "      <td>221038416</td>\n",
       "      <td>2016-10-10T12:00:00.000Z</td>\n",
       "      <td>Художественный</td>\n",
       "      <td>Юниверсал Пикчерз, Кикстарт Продакшнз, Марк Пл...</td>\n",
       "      <td>США</td>\n",
       "      <td>Тимур Бекмамбетов</td>\n",
       "      <td>Джим Лемли, Джейсон Нетер, Марк Е.Платт, Яйн Смит</td>\n",
       "      <td>«18+» - запрещено для детей</td>\n",
       "      <td>NaN</td>\n",
       "      <td>NaN</td>\n",
       "      <td>NaN</td>\n",
       "      <td>NaN</td>\n",
       "      <td>6.8</td>\n",
       "      <td>фантастика,боевик,триллер</td>\n",
       "    </tr>\n",
       "    <tr>\n",
       "      <th>3</th>\n",
       "      <td>Особо опасен</td>\n",
       "      <td>221026916</td>\n",
       "      <td>2016-06-10T12:00:00.000Z</td>\n",
       "      <td>Художественный</td>\n",
       "      <td>Юниверсал Пикчерз, Кикстарт Продакшнз, Марк Пл...</td>\n",
       "      <td>США</td>\n",
       "      <td>Тимур Бекмамбетов</td>\n",
       "      <td>Джим Лемли, Джейсон Нетер, Марк Е.Платт, Яйн Смит</td>\n",
       "      <td>«18+» - запрещено для детей</td>\n",
       "      <td>NaN</td>\n",
       "      <td>NaN</td>\n",
       "      <td>NaN</td>\n",
       "      <td>NaN</td>\n",
       "      <td>6.8</td>\n",
       "      <td>фантастика,боевик,триллер</td>\n",
       "    </tr>\n",
       "    <tr>\n",
       "      <th>4</th>\n",
       "      <td>Особо опасен</td>\n",
       "      <td>221030815</td>\n",
       "      <td>2015-07-29T12:00:00.000Z</td>\n",
       "      <td>Художественный</td>\n",
       "      <td>Юниверсал Пикчерз, Кикстарт Продакшнз, Марк Пл...</td>\n",
       "      <td>США</td>\n",
       "      <td>Тимур Бекмамбетов</td>\n",
       "      <td>Джим Лемли, Джейсон Нетер, Марк Е.Платт, Яйн Смит</td>\n",
       "      <td>«18+» - запрещено для детей</td>\n",
       "      <td>NaN</td>\n",
       "      <td>NaN</td>\n",
       "      <td>NaN</td>\n",
       "      <td>NaN</td>\n",
       "      <td>6.8</td>\n",
       "      <td>фантастика,боевик,триллер</td>\n",
       "    </tr>\n",
       "  </tbody>\n",
       "</table>\n",
       "</div>"
      ],
      "text/plain": [
       "                  title   puNumber           show_start_date            type  \\\n",
       "0      Открытый простор  221048915  2015-11-27T12:00:00.000Z  Художественный   \n",
       "1  Особо важное задание  111013716  2016-09-13T12:00:00.000Z  Художественный   \n",
       "2          Особо опасен  221038416  2016-10-10T12:00:00.000Z  Художественный   \n",
       "3          Особо опасен  221026916  2016-06-10T12:00:00.000Z  Художественный   \n",
       "4          Особо опасен  221030815  2015-07-29T12:00:00.000Z  Художественный   \n",
       "\n",
       "                                         film_studio production_country  \\\n",
       "0  Тачстоун Пикчерз, Кобальт Пикчерз, Бикон Пикче...                США   \n",
       "1                              Киностудия \"Мосфильм\"               СССР   \n",
       "2  Юниверсал Пикчерз, Кикстарт Продакшнз, Марк Пл...                США   \n",
       "3  Юниверсал Пикчерз, Кикстарт Продакшнз, Марк Пл...                США   \n",
       "4  Юниверсал Пикчерз, Кикстарт Продакшнз, Марк Пл...                США   \n",
       "\n",
       "            director                                           producer  \\\n",
       "0      Кевин Костнер          Дэвид Валдес, Кевин Костнер, Джейк Эбертс   \n",
       "1          Е.Матвеев                                                NaN   \n",
       "2  Тимур Бекмамбетов  Джим Лемли, Джейсон Нетер, Марк Е.Платт, Яйн Смит   \n",
       "3  Тимур Бекмамбетов  Джим Лемли, Джейсон Нетер, Марк Е.Платт, Яйн Смит   \n",
       "4  Тимур Бекмамбетов  Джим Лемли, Джейсон Нетер, Марк Е.Платт, Яйн Смит   \n",
       "\n",
       "                 age_restriction  refundable_support  nonrefundable_support  \\\n",
       "0    «18+» - запрещено для детей                 NaN                    NaN   \n",
       "1  «6+» - для детей старше 6 лет                 NaN                    NaN   \n",
       "2    «18+» - запрещено для детей                 NaN                    NaN   \n",
       "3    «18+» - запрещено для детей                 NaN                    NaN   \n",
       "4    «18+» - запрещено для детей                 NaN                    NaN   \n",
       "\n",
       "   budget financing_source ratings                     genres  \n",
       "0     NaN              NaN     7.2     боевик,драма,мелодрама  \n",
       "1     NaN              NaN     6.6              драма,военный  \n",
       "2     NaN              NaN     6.8  фантастика,боевик,триллер  \n",
       "3     NaN              NaN     6.8  фантастика,боевик,триллер  \n",
       "4     NaN              NaN     6.8  фантастика,боевик,триллер  "
      ]
     },
     "execution_count": 3,
     "metadata": {},
     "output_type": "execute_result"
    }
   ],
   "source": [
    "data_cinema.head(5)"
   ]
  },
  {
   "cell_type": "code",
   "execution_count": 4,
   "metadata": {},
   "outputs": [
    {
     "name": "stdout",
     "output_type": "stream",
     "text": [
      "<class 'pandas.core.frame.DataFrame'>\n",
      "RangeIndex: 7486 entries, 0 to 7485\n",
      "Data columns (total 15 columns):\n",
      " #   Column                 Non-Null Count  Dtype  \n",
      "---  ------                 --------------  -----  \n",
      " 0   title                  7486 non-null   object \n",
      " 1   puNumber               7486 non-null   object \n",
      " 2   show_start_date        7486 non-null   object \n",
      " 3   type                   7486 non-null   object \n",
      " 4   film_studio            7468 non-null   object \n",
      " 5   production_country     7484 non-null   object \n",
      " 6   director               7477 non-null   object \n",
      " 7   producer               6918 non-null   object \n",
      " 8   age_restriction        7486 non-null   object \n",
      " 9   refundable_support     332 non-null    float64\n",
      " 10  nonrefundable_support  332 non-null    float64\n",
      " 11  budget                 332 non-null    float64\n",
      " 12  financing_source       332 non-null    object \n",
      " 13  ratings                6519 non-null   object \n",
      " 14  genres                 6510 non-null   object \n",
      "dtypes: float64(3), object(12)\n",
      "memory usage: 877.4+ KB\n"
     ]
    }
   ],
   "source": [
    "data_cinema.info()"
   ]
  },
  {
   "cell_type": "code",
   "execution_count": 5,
   "metadata": {},
   "outputs": [
    {
     "data": {
      "text/html": [
       "<div>\n",
       "<style scoped>\n",
       "    .dataframe tbody tr th:only-of-type {\n",
       "        vertical-align: middle;\n",
       "    }\n",
       "\n",
       "    .dataframe tbody tr th {\n",
       "        vertical-align: top;\n",
       "    }\n",
       "\n",
       "    .dataframe thead th {\n",
       "        text-align: right;\n",
       "    }\n",
       "</style>\n",
       "<table border=\"1\" class=\"dataframe\">\n",
       "  <thead>\n",
       "    <tr style=\"text-align: right;\">\n",
       "      <th></th>\n",
       "      <th>puNumber</th>\n",
       "      <th>box_office</th>\n",
       "    </tr>\n",
       "  </thead>\n",
       "  <tbody>\n",
       "    <tr>\n",
       "      <th>0</th>\n",
       "      <td>111000113</td>\n",
       "      <td>2.450000e+03</td>\n",
       "    </tr>\n",
       "    <tr>\n",
       "      <th>1</th>\n",
       "      <td>111000115</td>\n",
       "      <td>6.104000e+04</td>\n",
       "    </tr>\n",
       "    <tr>\n",
       "      <th>2</th>\n",
       "      <td>111000116</td>\n",
       "      <td>1.530300e+08</td>\n",
       "    </tr>\n",
       "    <tr>\n",
       "      <th>3</th>\n",
       "      <td>111000117</td>\n",
       "      <td>1.226096e+07</td>\n",
       "    </tr>\n",
       "    <tr>\n",
       "      <th>4</th>\n",
       "      <td>111000118</td>\n",
       "      <td>1.636841e+08</td>\n",
       "    </tr>\n",
       "  </tbody>\n",
       "</table>\n",
       "</div>"
      ],
      "text/plain": [
       "    puNumber    box_office\n",
       "0  111000113  2.450000e+03\n",
       "1  111000115  6.104000e+04\n",
       "2  111000116  1.530300e+08\n",
       "3  111000117  1.226096e+07\n",
       "4  111000118  1.636841e+08"
      ]
     },
     "execution_count": 5,
     "metadata": {},
     "output_type": "execute_result"
    }
   ],
   "source": [
    "data_shows.head(5)"
   ]
  },
  {
   "cell_type": "code",
   "execution_count": 6,
   "metadata": {},
   "outputs": [
    {
     "name": "stdout",
     "output_type": "stream",
     "text": [
      "<class 'pandas.core.frame.DataFrame'>\n",
      "RangeIndex: 3158 entries, 0 to 3157\n",
      "Data columns (total 2 columns):\n",
      " #   Column      Non-Null Count  Dtype  \n",
      "---  ------      --------------  -----  \n",
      " 0   puNumber    3158 non-null   int64  \n",
      " 1   box_office  3158 non-null   float64\n",
      "dtypes: float64(1), int64(1)\n",
      "memory usage: 49.5 KB\n"
     ]
    }
   ],
   "source": [
    "data_shows.info()"
   ]
  },
  {
   "cell_type": "markdown",
   "metadata": {},
   "source": [
    "На данном этапе мы обнаружили, что столбец puNumber должен содержать целочисленные значения (по таблице cinema_shows), однако содержит тип object. Это может быть связанно с неправильно перенесенными пунктами. Перед объединением датафреймов исправим эту ошибку"
   ]
  },
  {
   "cell_type": "code",
   "execution_count": 7,
   "metadata": {},
   "outputs": [
    {
     "data": {
      "text/html": [
       "<div>\n",
       "<style scoped>\n",
       "    .dataframe tbody tr th:only-of-type {\n",
       "        vertical-align: middle;\n",
       "    }\n",
       "\n",
       "    .dataframe tbody tr th {\n",
       "        vertical-align: top;\n",
       "    }\n",
       "\n",
       "    .dataframe thead th {\n",
       "        text-align: right;\n",
       "    }\n",
       "</style>\n",
       "<table border=\"1\" class=\"dataframe\">\n",
       "  <thead>\n",
       "    <tr style=\"text-align: right;\">\n",
       "      <th></th>\n",
       "      <th>title</th>\n",
       "      <th>puNumber</th>\n",
       "      <th>show_start_date</th>\n",
       "      <th>type</th>\n",
       "      <th>film_studio</th>\n",
       "      <th>production_country</th>\n",
       "      <th>director</th>\n",
       "      <th>producer</th>\n",
       "      <th>age_restriction</th>\n",
       "      <th>refundable_support</th>\n",
       "      <th>nonrefundable_support</th>\n",
       "      <th>budget</th>\n",
       "      <th>financing_source</th>\n",
       "      <th>ratings</th>\n",
       "      <th>genres</th>\n",
       "      <th>check_type_puNum</th>\n",
       "    </tr>\n",
       "  </thead>\n",
       "  <tbody>\n",
       "    <tr>\n",
       "      <th>1797</th>\n",
       "      <td>Курбан-роман. (История с жертвой)</td>\n",
       "      <td>нет</td>\n",
       "      <td>2014-05-15T12:00:00.000Z</td>\n",
       "      <td>Художественный</td>\n",
       "      <td>ФОНД \"ИННОВАЦИЯ\"</td>\n",
       "      <td>Россия</td>\n",
       "      <td>С.Юзеев</td>\n",
       "      <td>М.Галицкая</td>\n",
       "      <td>«12+» - для детей старше 12 лет</td>\n",
       "      <td>NaN</td>\n",
       "      <td>NaN</td>\n",
       "      <td>NaN</td>\n",
       "      <td>NaN</td>\n",
       "      <td>NaN</td>\n",
       "      <td>NaN</td>\n",
       "      <td>True</td>\n",
       "    </tr>\n",
       "  </tbody>\n",
       "</table>\n",
       "</div>"
      ],
      "text/plain": [
       "                                  title puNumber           show_start_date  \\\n",
       "1797  Курбан-роман. (История с жертвой)      нет  2014-05-15T12:00:00.000Z   \n",
       "\n",
       "                type       film_studio production_country director  \\\n",
       "1797  Художественный  ФОНД \"ИННОВАЦИЯ\"             Россия  С.Юзеев   \n",
       "\n",
       "        producer                  age_restriction  refundable_support  \\\n",
       "1797  М.Галицкая  «12+» - для детей старше 12 лет                 NaN   \n",
       "\n",
       "      nonrefundable_support  budget financing_source ratings genres  \\\n",
       "1797                    NaN     NaN              NaN     NaN    NaN   \n",
       "\n",
       "      check_type_puNum  \n",
       "1797              True  "
      ]
     },
     "execution_count": 7,
     "metadata": {},
     "output_type": "execute_result"
    }
   ],
   "source": [
    "def check_object(value):\n",
    "    try:\n",
    "        int(value)\n",
    "        return False\n",
    "    except:\n",
    "        return True\n",
    "    \n",
    "data_cinema['check_type_puNum'] = data_cinema['puNumber'].apply(check_object)\n",
    "data_cinema.query('check_type_puNum == True')"
   ]
  },
  {
   "cell_type": "markdown",
   "metadata": {},
   "source": [
    "Мы нашли одну строку без прокатного удостоверения. Раз уж у фильма нет удостоверения, нам нельзя рассматривать его в нашем исследовании, поэтому мы просто удалим эту строку"
   ]
  },
  {
   "cell_type": "code",
   "execution_count": 8,
   "metadata": {},
   "outputs": [
    {
     "name": "stdout",
     "output_type": "stream",
     "text": [
      "<class 'pandas.core.frame.DataFrame'>\n",
      "Int64Index: 7485 entries, 0 to 7485\n",
      "Data columns (total 16 columns):\n",
      " #   Column                 Non-Null Count  Dtype  \n",
      "---  ------                 --------------  -----  \n",
      " 0   title                  7485 non-null   object \n",
      " 1   puNumber               7485 non-null   int64  \n",
      " 2   show_start_date        7485 non-null   object \n",
      " 3   type                   7485 non-null   object \n",
      " 4   film_studio            7467 non-null   object \n",
      " 5   production_country     7483 non-null   object \n",
      " 6   director               7476 non-null   object \n",
      " 7   producer               6917 non-null   object \n",
      " 8   age_restriction        7485 non-null   object \n",
      " 9   refundable_support     332 non-null    float64\n",
      " 10  nonrefundable_support  332 non-null    float64\n",
      " 11  budget                 332 non-null    float64\n",
      " 12  financing_source       332 non-null    object \n",
      " 13  ratings                6519 non-null   object \n",
      " 14  genres                 6510 non-null   object \n",
      " 15  check_type_puNum       7485 non-null   bool   \n",
      "dtypes: bool(1), float64(3), int64(1), object(11)\n",
      "memory usage: 942.9+ KB\n"
     ]
    }
   ],
   "source": [
    "data_cinema = data_cinema.query('check_type_puNum == False')\n",
    "data_cinema['puNumber'] = data_cinema['puNumber'].astype('int')\n",
    "data_cinema.info()"
   ]
  },
  {
   "cell_type": "markdown",
   "metadata": {
    "id": "dw87FlzMgFyM"
   },
   "source": [
    "### Объединение датафреймов\n",
    "\n",
    "Объедините данные таким образом, чтобы все объекты из датасета `mkrf_movies` обязательно вошли в получившийся датафрейм. \n",
    "\n",
    "<div id=\"accordion\">\n",
    "    <div class=\"card\">\n",
    "        <div class=\"card-header\" id=\"headingThree\">\n",
    "            <button class=\"btn btn-link collapsed\" data-toggle=\"collapse\" data-target=\"#collapseHint_0\" aria-expanded=\"false\" aria-controls=\"collapseHint_0\">Подсказка</button>\n",
    "        </div>\n",
    "        <div id=\"collapseHint_0\" class=\"collapse\" aria-labelledby=\"headingThree\" data-parent=\"#accordion\">\n",
    "            <div class=\"card-body\">\n",
    "Обратите внимание на тип данных столбца, по которому будете соединять датафреймы. Тип данных этих столбцов должен быть одинаковым в обоих датафреймах.\n",
    "            </div>\n",
    "        </div>\n",
    "    </div>\n",
    "</div>"
   ]
  },
  {
   "cell_type": "markdown",
   "metadata": {},
   "source": [
    "Мы обработали ошибку в данных, которая могла бы помешать слиянию датафреймов, в предыдущем пункте, поэтому теперь можем спокойно объединить данные по общему столбцу puNumber"
   ]
  },
  {
   "cell_type": "code",
   "execution_count": 9,
   "metadata": {},
   "outputs": [
    {
     "name": "stdout",
     "output_type": "stream",
     "text": [
      "<class 'pandas.core.frame.DataFrame'>\n",
      "Int64Index: 7485 entries, 0 to 7484\n",
      "Data columns (total 17 columns):\n",
      " #   Column                 Non-Null Count  Dtype  \n",
      "---  ------                 --------------  -----  \n",
      " 0   title                  7485 non-null   object \n",
      " 1   puNumber               7485 non-null   int64  \n",
      " 2   show_start_date        7485 non-null   object \n",
      " 3   type                   7485 non-null   object \n",
      " 4   film_studio            7467 non-null   object \n",
      " 5   production_country     7483 non-null   object \n",
      " 6   director               7476 non-null   object \n",
      " 7   producer               6917 non-null   object \n",
      " 8   age_restriction        7485 non-null   object \n",
      " 9   refundable_support     332 non-null    float64\n",
      " 10  nonrefundable_support  332 non-null    float64\n",
      " 11  budget                 332 non-null    float64\n",
      " 12  financing_source       332 non-null    object \n",
      " 13  ratings                6519 non-null   object \n",
      " 14  genres                 6510 non-null   object \n",
      " 15  check_type_puNum       7485 non-null   bool   \n",
      " 16  box_office             3158 non-null   float64\n",
      "dtypes: bool(1), float64(4), int64(1), object(11)\n",
      "memory usage: 1001.4+ KB\n"
     ]
    }
   ],
   "source": [
    "data = data_cinema.merge(data_shows, on ='puNumber', how = 'left')\n",
    "data.info()"
   ]
  },
  {
   "cell_type": "markdown",
   "metadata": {},
   "source": [
    "Удалим технический столбец check_type_puNum для оптимизации памяти и переименуем столбец puNumber в корректный формат"
   ]
  },
  {
   "cell_type": "code",
   "execution_count": 10,
   "metadata": {},
   "outputs": [
    {
     "name": "stdout",
     "output_type": "stream",
     "text": [
      "<class 'pandas.core.frame.DataFrame'>\n",
      "Int64Index: 7485 entries, 0 to 7484\n",
      "Data columns (total 16 columns):\n",
      " #   Column                 Non-Null Count  Dtype  \n",
      "---  ------                 --------------  -----  \n",
      " 0   title                  7485 non-null   object \n",
      " 1   puNumber               7485 non-null   int64  \n",
      " 2   show_start_date        7485 non-null   object \n",
      " 3   type                   7485 non-null   object \n",
      " 4   film_studio            7467 non-null   object \n",
      " 5   production_country     7483 non-null   object \n",
      " 6   director               7476 non-null   object \n",
      " 7   producer               6917 non-null   object \n",
      " 8   age_restriction        7485 non-null   object \n",
      " 9   refundable_support     332 non-null    float64\n",
      " 10  nonrefundable_support  332 non-null    float64\n",
      " 11  budget                 332 non-null    float64\n",
      " 12  financing_source       332 non-null    object \n",
      " 13  ratings                6519 non-null   object \n",
      " 14  genres                 6510 non-null   object \n",
      " 15  box_office             3158 non-null   float64\n",
      "dtypes: float64(4), int64(1), object(11)\n",
      "memory usage: 994.1+ KB\n"
     ]
    }
   ],
   "source": [
    "data = data.drop('check_type_puNum', axis=1)\n",
    "data.info()"
   ]
  },
  {
   "cell_type": "code",
   "execution_count": 11,
   "metadata": {},
   "outputs": [
    {
     "name": "stdout",
     "output_type": "stream",
     "text": [
      "<class 'pandas.core.frame.DataFrame'>\n",
      "Int64Index: 7485 entries, 0 to 7484\n",
      "Data columns (total 16 columns):\n",
      " #   Column                 Non-Null Count  Dtype  \n",
      "---  ------                 --------------  -----  \n",
      " 0   title                  7485 non-null   object \n",
      " 1   pu_number              7485 non-null   int64  \n",
      " 2   show_start_date        7485 non-null   object \n",
      " 3   type                   7485 non-null   object \n",
      " 4   film_studio            7467 non-null   object \n",
      " 5   production_country     7483 non-null   object \n",
      " 6   director               7476 non-null   object \n",
      " 7   producer               6917 non-null   object \n",
      " 8   age_restriction        7485 non-null   object \n",
      " 9   refundable_support     332 non-null    float64\n",
      " 10  nonrefundable_support  332 non-null    float64\n",
      " 11  budget                 332 non-null    float64\n",
      " 12  financing_source       332 non-null    object \n",
      " 13  ratings                6519 non-null   object \n",
      " 14  genres                 6510 non-null   object \n",
      " 15  box_office             3158 non-null   float64\n",
      "dtypes: float64(4), int64(1), object(11)\n",
      "memory usage: 994.1+ KB\n"
     ]
    }
   ],
   "source": [
    "data.rename(columns = {'puNumber':'pu_number'}, inplace=True)\n",
    "data.info()"
   ]
  },
  {
   "cell_type": "markdown",
   "metadata": {},
   "source": [
    "<div class=\"alert alert-success\">\n",
    "<h2> Комментарий ревьюера V1<a class=\"tocSkip\"> </h2>\n",
    "\n",
    "<b>Все отлично!👍:</b> Правильно рассмотрел и объединил данные, с которыми предстоит работать"
   ]
  },
  {
   "cell_type": "markdown",
   "metadata": {
    "id": "KLDGpPG0gFyM"
   },
   "source": [
    "## Предобработка данных"
   ]
  },
  {
   "cell_type": "markdown",
   "metadata": {
    "id": "ssWwKXsxgFyO"
   },
   "source": [
    "### Проверьте типы данных\n",
    "\n",
    "- Проверьте типы данных в датафрейме и преобразуйте их там, где это необходимо."
   ]
  },
  {
   "cell_type": "code",
   "execution_count": 12,
   "metadata": {
    "id": "kVGSplJOgFyO"
   },
   "outputs": [
    {
     "name": "stdout",
     "output_type": "stream",
     "text": [
      "<class 'pandas.core.frame.DataFrame'>\n",
      "Int64Index: 7485 entries, 0 to 7484\n",
      "Data columns (total 16 columns):\n",
      " #   Column                 Non-Null Count  Dtype  \n",
      "---  ------                 --------------  -----  \n",
      " 0   title                  7485 non-null   object \n",
      " 1   pu_number              7485 non-null   int64  \n",
      " 2   show_start_date        7485 non-null   object \n",
      " 3   type                   7485 non-null   object \n",
      " 4   film_studio            7467 non-null   object \n",
      " 5   production_country     7483 non-null   object \n",
      " 6   director               7476 non-null   object \n",
      " 7   producer               6917 non-null   object \n",
      " 8   age_restriction        7485 non-null   object \n",
      " 9   refundable_support     332 non-null    float64\n",
      " 10  nonrefundable_support  332 non-null    float64\n",
      " 11  budget                 332 non-null    float64\n",
      " 12  financing_source       332 non-null    object \n",
      " 13  ratings                6519 non-null   object \n",
      " 14  genres                 6510 non-null   object \n",
      " 15  box_office             3158 non-null   float64\n",
      "dtypes: float64(4), int64(1), object(11)\n",
      "memory usage: 994.1+ KB\n"
     ]
    }
   ],
   "source": [
    "data.info()"
   ]
  },
  {
   "cell_type": "code",
   "execution_count": 13,
   "metadata": {},
   "outputs": [
    {
     "data": {
      "text/html": [
       "<div>\n",
       "<style scoped>\n",
       "    .dataframe tbody tr th:only-of-type {\n",
       "        vertical-align: middle;\n",
       "    }\n",
       "\n",
       "    .dataframe tbody tr th {\n",
       "        vertical-align: top;\n",
       "    }\n",
       "\n",
       "    .dataframe thead th {\n",
       "        text-align: right;\n",
       "    }\n",
       "</style>\n",
       "<table border=\"1\" class=\"dataframe\">\n",
       "  <thead>\n",
       "    <tr style=\"text-align: right;\">\n",
       "      <th></th>\n",
       "      <th>title</th>\n",
       "      <th>pu_number</th>\n",
       "      <th>show_start_date</th>\n",
       "      <th>type</th>\n",
       "      <th>film_studio</th>\n",
       "      <th>production_country</th>\n",
       "      <th>director</th>\n",
       "      <th>producer</th>\n",
       "      <th>age_restriction</th>\n",
       "      <th>refundable_support</th>\n",
       "      <th>nonrefundable_support</th>\n",
       "      <th>budget</th>\n",
       "      <th>financing_source</th>\n",
       "      <th>ratings</th>\n",
       "      <th>genres</th>\n",
       "      <th>box_office</th>\n",
       "    </tr>\n",
       "  </thead>\n",
       "  <tbody>\n",
       "    <tr>\n",
       "      <th>0</th>\n",
       "      <td>Открытый простор</td>\n",
       "      <td>221048915</td>\n",
       "      <td>2015-11-27T12:00:00.000Z</td>\n",
       "      <td>Художественный</td>\n",
       "      <td>Тачстоун Пикчерз, Кобальт Пикчерз, Бикон Пикче...</td>\n",
       "      <td>США</td>\n",
       "      <td>Кевин Костнер</td>\n",
       "      <td>Дэвид Валдес, Кевин Костнер, Джейк Эбертс</td>\n",
       "      <td>«18+» - запрещено для детей</td>\n",
       "      <td>NaN</td>\n",
       "      <td>NaN</td>\n",
       "      <td>NaN</td>\n",
       "      <td>NaN</td>\n",
       "      <td>7.2</td>\n",
       "      <td>боевик,драма,мелодрама</td>\n",
       "      <td>NaN</td>\n",
       "    </tr>\n",
       "    <tr>\n",
       "      <th>1</th>\n",
       "      <td>Особо важное задание</td>\n",
       "      <td>111013716</td>\n",
       "      <td>2016-09-13T12:00:00.000Z</td>\n",
       "      <td>Художественный</td>\n",
       "      <td>Киностудия \"Мосфильм\"</td>\n",
       "      <td>СССР</td>\n",
       "      <td>Е.Матвеев</td>\n",
       "      <td>NaN</td>\n",
       "      <td>«6+» - для детей старше 6 лет</td>\n",
       "      <td>NaN</td>\n",
       "      <td>NaN</td>\n",
       "      <td>NaN</td>\n",
       "      <td>NaN</td>\n",
       "      <td>6.6</td>\n",
       "      <td>драма,военный</td>\n",
       "      <td>NaN</td>\n",
       "    </tr>\n",
       "    <tr>\n",
       "      <th>2</th>\n",
       "      <td>Особо опасен</td>\n",
       "      <td>221038416</td>\n",
       "      <td>2016-10-10T12:00:00.000Z</td>\n",
       "      <td>Художественный</td>\n",
       "      <td>Юниверсал Пикчерз, Кикстарт Продакшнз, Марк Пл...</td>\n",
       "      <td>США</td>\n",
       "      <td>Тимур Бекмамбетов</td>\n",
       "      <td>Джим Лемли, Джейсон Нетер, Марк Е.Платт, Яйн Смит</td>\n",
       "      <td>«18+» - запрещено для детей</td>\n",
       "      <td>NaN</td>\n",
       "      <td>NaN</td>\n",
       "      <td>NaN</td>\n",
       "      <td>NaN</td>\n",
       "      <td>6.8</td>\n",
       "      <td>фантастика,боевик,триллер</td>\n",
       "      <td>NaN</td>\n",
       "    </tr>\n",
       "    <tr>\n",
       "      <th>3</th>\n",
       "      <td>Особо опасен</td>\n",
       "      <td>221026916</td>\n",
       "      <td>2016-06-10T12:00:00.000Z</td>\n",
       "      <td>Художественный</td>\n",
       "      <td>Юниверсал Пикчерз, Кикстарт Продакшнз, Марк Пл...</td>\n",
       "      <td>США</td>\n",
       "      <td>Тимур Бекмамбетов</td>\n",
       "      <td>Джим Лемли, Джейсон Нетер, Марк Е.Платт, Яйн Смит</td>\n",
       "      <td>«18+» - запрещено для детей</td>\n",
       "      <td>NaN</td>\n",
       "      <td>NaN</td>\n",
       "      <td>NaN</td>\n",
       "      <td>NaN</td>\n",
       "      <td>6.8</td>\n",
       "      <td>фантастика,боевик,триллер</td>\n",
       "      <td>NaN</td>\n",
       "    </tr>\n",
       "    <tr>\n",
       "      <th>4</th>\n",
       "      <td>Особо опасен</td>\n",
       "      <td>221030815</td>\n",
       "      <td>2015-07-29T12:00:00.000Z</td>\n",
       "      <td>Художественный</td>\n",
       "      <td>Юниверсал Пикчерз, Кикстарт Продакшнз, Марк Пл...</td>\n",
       "      <td>США</td>\n",
       "      <td>Тимур Бекмамбетов</td>\n",
       "      <td>Джим Лемли, Джейсон Нетер, Марк Е.Платт, Яйн Смит</td>\n",
       "      <td>«18+» - запрещено для детей</td>\n",
       "      <td>NaN</td>\n",
       "      <td>NaN</td>\n",
       "      <td>NaN</td>\n",
       "      <td>NaN</td>\n",
       "      <td>6.8</td>\n",
       "      <td>фантастика,боевик,триллер</td>\n",
       "      <td>NaN</td>\n",
       "    </tr>\n",
       "  </tbody>\n",
       "</table>\n",
       "</div>"
      ],
      "text/plain": [
       "                  title  pu_number           show_start_date            type  \\\n",
       "0      Открытый простор  221048915  2015-11-27T12:00:00.000Z  Художественный   \n",
       "1  Особо важное задание  111013716  2016-09-13T12:00:00.000Z  Художественный   \n",
       "2          Особо опасен  221038416  2016-10-10T12:00:00.000Z  Художественный   \n",
       "3          Особо опасен  221026916  2016-06-10T12:00:00.000Z  Художественный   \n",
       "4          Особо опасен  221030815  2015-07-29T12:00:00.000Z  Художественный   \n",
       "\n",
       "                                         film_studio production_country  \\\n",
       "0  Тачстоун Пикчерз, Кобальт Пикчерз, Бикон Пикче...                США   \n",
       "1                              Киностудия \"Мосфильм\"               СССР   \n",
       "2  Юниверсал Пикчерз, Кикстарт Продакшнз, Марк Пл...                США   \n",
       "3  Юниверсал Пикчерз, Кикстарт Продакшнз, Марк Пл...                США   \n",
       "4  Юниверсал Пикчерз, Кикстарт Продакшнз, Марк Пл...                США   \n",
       "\n",
       "            director                                           producer  \\\n",
       "0      Кевин Костнер          Дэвид Валдес, Кевин Костнер, Джейк Эбертс   \n",
       "1          Е.Матвеев                                                NaN   \n",
       "2  Тимур Бекмамбетов  Джим Лемли, Джейсон Нетер, Марк Е.Платт, Яйн Смит   \n",
       "3  Тимур Бекмамбетов  Джим Лемли, Джейсон Нетер, Марк Е.Платт, Яйн Смит   \n",
       "4  Тимур Бекмамбетов  Джим Лемли, Джейсон Нетер, Марк Е.Платт, Яйн Смит   \n",
       "\n",
       "                 age_restriction  refundable_support  nonrefundable_support  \\\n",
       "0    «18+» - запрещено для детей                 NaN                    NaN   \n",
       "1  «6+» - для детей старше 6 лет                 NaN                    NaN   \n",
       "2    «18+» - запрещено для детей                 NaN                    NaN   \n",
       "3    «18+» - запрещено для детей                 NaN                    NaN   \n",
       "4    «18+» - запрещено для детей                 NaN                    NaN   \n",
       "\n",
       "   budget financing_source ratings                     genres  box_office  \n",
       "0     NaN              NaN     7.2     боевик,драма,мелодрама         NaN  \n",
       "1     NaN              NaN     6.6              драма,военный         NaN  \n",
       "2     NaN              NaN     6.8  фантастика,боевик,триллер         NaN  \n",
       "3     NaN              NaN     6.8  фантастика,боевик,триллер         NaN  \n",
       "4     NaN              NaN     6.8  фантастика,боевик,триллер         NaN  "
      ]
     },
     "execution_count": 13,
     "metadata": {},
     "output_type": "execute_result"
    }
   ],
   "source": [
    "data.head(5)"
   ]
  },
  {
   "cell_type": "markdown",
   "metadata": {},
   "source": [
    "#### show_start_date\n",
    "\n",
    "Данный столбец нужно преобразовать в формат datetime"
   ]
  },
  {
   "cell_type": "code",
   "execution_count": 14,
   "metadata": {},
   "outputs": [
    {
     "name": "stdout",
     "output_type": "stream",
     "text": [
      "<class 'pandas.core.frame.DataFrame'>\n",
      "Int64Index: 7485 entries, 0 to 7484\n",
      "Data columns (total 16 columns):\n",
      " #   Column                 Non-Null Count  Dtype              \n",
      "---  ------                 --------------  -----              \n",
      " 0   title                  7485 non-null   object             \n",
      " 1   pu_number              7485 non-null   int64              \n",
      " 2   show_start_date        7485 non-null   datetime64[ns, UTC]\n",
      " 3   type                   7485 non-null   object             \n",
      " 4   film_studio            7467 non-null   object             \n",
      " 5   production_country     7483 non-null   object             \n",
      " 6   director               7476 non-null   object             \n",
      " 7   producer               6917 non-null   object             \n",
      " 8   age_restriction        7485 non-null   object             \n",
      " 9   refundable_support     332 non-null    float64            \n",
      " 10  nonrefundable_support  332 non-null    float64            \n",
      " 11  budget                 332 non-null    float64            \n",
      " 12  financing_source       332 non-null    object             \n",
      " 13  ratings                6519 non-null   object             \n",
      " 14  genres                 6510 non-null   object             \n",
      " 15  box_office             3158 non-null   float64            \n",
      "dtypes: datetime64[ns, UTC](1), float64(4), int64(1), object(10)\n",
      "memory usage: 994.1+ KB\n"
     ]
    }
   ],
   "source": [
    "data['show_start_date']=pd.to_datetime(data['show_start_date'], format ='%Y-%m-%dT%H:%M:%S')\n",
    "data.info()"
   ]
  },
  {
   "cell_type": "markdown",
   "metadata": {},
   "source": [
    "#### ratings\n",
    "\n",
    "Данный столбец нужно перевсти в тип float (или int, но с умножением на 10 - стобальный рейтинг)"
   ]
  },
  {
   "cell_type": "code",
   "execution_count": 15,
   "metadata": {},
   "outputs": [
    {
     "name": "stdout",
     "output_type": "stream",
     "text": [
      "<class 'pandas.core.frame.DataFrame'>\n",
      "Int64Index: 7485 entries, 0 to 7484\n",
      "Data columns (total 16 columns):\n",
      " #   Column                 Non-Null Count  Dtype              \n",
      "---  ------                 --------------  -----              \n",
      " 0   title                  7485 non-null   object             \n",
      " 1   pu_number              7485 non-null   int64              \n",
      " 2   show_start_date        7485 non-null   datetime64[ns, UTC]\n",
      " 3   type                   7485 non-null   object             \n",
      " 4   film_studio            7467 non-null   object             \n",
      " 5   production_country     7483 non-null   object             \n",
      " 6   director               7476 non-null   object             \n",
      " 7   producer               6917 non-null   object             \n",
      " 8   age_restriction        7485 non-null   object             \n",
      " 9   refundable_support     332 non-null    float64            \n",
      " 10  nonrefundable_support  332 non-null    float64            \n",
      " 11  budget                 332 non-null    float64            \n",
      " 12  financing_source       332 non-null    object             \n",
      " 13  ratings                6490 non-null   float64            \n",
      " 14  genres                 6510 non-null   object             \n",
      " 15  box_office             3158 non-null   float64            \n",
      "dtypes: datetime64[ns, UTC](1), float64(5), int64(1), object(9)\n",
      "memory usage: 994.1+ KB\n"
     ]
    }
   ],
   "source": [
    "data['ratings'] = pd.to_numeric(data['ratings'], errors = 'coerce')\n",
    "data.info()"
   ]
  },
  {
   "cell_type": "markdown",
   "metadata": {},
   "source": [
    "<div class=\"alert alert-success\">\n",
    "<h2> Комментарий ревьюера V1<a class=\"tocSkip\"> </h2>\n",
    "\n",
    "<b>Все отлично!👍:</b> Предобработка правильная. "
   ]
  },
  {
   "cell_type": "markdown",
   "metadata": {},
   "source": [
    "<div class=\"alert alert-warning\">\n",
    "<h2> Комментарий ревьюера V1<a class=\"tocSkip\"> </h2>\n",
    "\n",
    "<b>Некоторые замечания и рекомендации💡:</b> Лучше всегда смотреть почему тип данных не соответствует предполагаемому. Рейтинги в данном случае содержат разные шкалы, можно было попробовать обработать"
   ]
  },
  {
   "cell_type": "markdown",
   "metadata": {
    "id": "i0MOLbF-gFyP"
   },
   "source": [
    "### Изучите пропуски в датафрейме\n",
    "\n",
    "- Объясните, почему заполнили пропуски определённым образом или почему не стали этого делать."
   ]
  },
  {
   "cell_type": "code",
   "execution_count": 16,
   "metadata": {
    "id": "8MJD_lkngFyP"
   },
   "outputs": [
    {
     "data": {
      "text/plain": [
       "title                       0\n",
       "pu_number                   0\n",
       "show_start_date             0\n",
       "type                        0\n",
       "film_studio                18\n",
       "production_country          2\n",
       "director                    9\n",
       "producer                  568\n",
       "age_restriction             0\n",
       "refundable_support       7153\n",
       "nonrefundable_support    7153\n",
       "budget                   7153\n",
       "financing_source         7153\n",
       "ratings                   995\n",
       "genres                    975\n",
       "box_office               4327\n",
       "dtype: int64"
      ]
     },
     "execution_count": 16,
     "metadata": {},
     "output_type": "execute_result"
    }
   ],
   "source": [
    "data.isna().sum()"
   ]
  },
  {
   "cell_type": "markdown",
   "metadata": {},
   "source": [
    "#### film_studio\\ production_country\\ director\\ producer \\ genres\n",
    "\n",
    "Так как в данных параметрах у нас данных, на основе котрых мы могли бы восстановить пустые значения, мы заменим все пропуски на неизвестно"
   ]
  },
  {
   "cell_type": "code",
   "execution_count": 17,
   "metadata": {},
   "outputs": [
    {
     "name": "stdout",
     "output_type": "stream",
     "text": [
      "<class 'pandas.core.frame.DataFrame'>\n",
      "Int64Index: 7485 entries, 0 to 7484\n",
      "Data columns (total 16 columns):\n",
      " #   Column                 Non-Null Count  Dtype              \n",
      "---  ------                 --------------  -----              \n",
      " 0   title                  7485 non-null   object             \n",
      " 1   pu_number              7485 non-null   int64              \n",
      " 2   show_start_date        7485 non-null   datetime64[ns, UTC]\n",
      " 3   type                   7485 non-null   object             \n",
      " 4   film_studio            7485 non-null   object             \n",
      " 5   production_country     7485 non-null   object             \n",
      " 6   director               7485 non-null   object             \n",
      " 7   producer               7485 non-null   object             \n",
      " 8   age_restriction        7485 non-null   object             \n",
      " 9   refundable_support     332 non-null    float64            \n",
      " 10  nonrefundable_support  332 non-null    float64            \n",
      " 11  budget                 332 non-null    float64            \n",
      " 12  financing_source       332 non-null    object             \n",
      " 13  ratings                6490 non-null   float64            \n",
      " 14  genres                 7485 non-null   object             \n",
      " 15  box_office             3158 non-null   float64            \n",
      "dtypes: datetime64[ns, UTC](1), float64(5), int64(1), object(9)\n",
      "memory usage: 994.1+ KB\n"
     ]
    }
   ],
   "source": [
    "data['film_studio'] = data['film_studio'].fillna('неизвестно')\n",
    "data['production_country'] = data['production_country'].fillna('неизвестно')\n",
    "data['director'] = data['director'].fillna('неизвестно')\n",
    "data['producer'] = data['producer'].fillna('неизвестно')\n",
    "data['genres'] = data['genres'].fillna('неизвестно')\n",
    "\n",
    "data.info()"
   ]
  },
  {
   "cell_type": "markdown",
   "metadata": {},
   "source": [
    "#### support\\ budget\\ financial_source\n",
    "\n",
    "В данном пункте стоит вспомнить, что столбцы refundable_support, nonrefundable_support, budget, financing_source мы не будем заполнять никакими значениями, так как в описании указано, что эти параметры заполнены лишь у тех фильмов, что получают господдержку, а значит оставшиеся фильмы нам просто нечем заполнить"
   ]
  },
  {
   "cell_type": "markdown",
   "metadata": {},
   "source": [
    "#### ratings\\box_office\n",
    "\n",
    "В данном пункте важно отметить, что мы не можем ни заполнить пропуски, так как это сильно повлияет на статистику и неоткуда брать значения, ни удалить строки, так как это значительно сократит датафрейм. В связи с этим, мы оставляем пропуски в их изначальном состоянии"
   ]
  },
  {
   "cell_type": "markdown",
   "metadata": {},
   "source": [
    "<div class=\"alert alert-success\">\n",
    "<h2> Комментарий ревьюера V1<a class=\"tocSkip\"> </h2>\n",
    "\n",
    "<b>Все отлично!👍:</b> Все верно по пропускам описал и заполнил, так держать!"
   ]
  },
  {
   "cell_type": "markdown",
   "metadata": {
    "id": "4c6k1t9ygFyQ"
   },
   "source": [
    "### Изучите дубликаты в датафрейме\n",
    "- Проверьте, есть ли в данных дубликаты. Опишите причины, которые могли повлиять на появление дублей."
   ]
  },
  {
   "cell_type": "markdown",
   "metadata": {},
   "source": [
    "#### Проверка на явные дубликаты"
   ]
  },
  {
   "cell_type": "code",
   "execution_count": 18,
   "metadata": {
    "id": "aKck8RIdgFyQ"
   },
   "outputs": [
    {
     "data": {
      "text/plain": [
       "0"
      ]
     },
     "execution_count": 18,
     "metadata": {},
     "output_type": "execute_result"
    }
   ],
   "source": [
    "data.duplicated().sum()"
   ]
  },
  {
   "cell_type": "markdown",
   "metadata": {},
   "source": [
    "В датафрейме явных дубликатов нет"
   ]
  },
  {
   "cell_type": "markdown",
   "metadata": {},
   "source": [
    "#### Проверка на неявные дубликаты"
   ]
  },
  {
   "cell_type": "code",
   "execution_count": 19,
   "metadata": {},
   "outputs": [
    {
     "data": {
      "text/plain": [
       "714"
      ]
     },
     "execution_count": 19,
     "metadata": {},
     "output_type": "execute_result"
    }
   ],
   "source": [
    "data['title'].duplicated().sum()"
   ]
  },
  {
   "cell_type": "code",
   "execution_count": 20,
   "metadata": {},
   "outputs": [
    {
     "data": {
      "text/html": [
       "<div>\n",
       "<style scoped>\n",
       "    .dataframe tbody tr th:only-of-type {\n",
       "        vertical-align: middle;\n",
       "    }\n",
       "\n",
       "    .dataframe tbody tr th {\n",
       "        vertical-align: top;\n",
       "    }\n",
       "\n",
       "    .dataframe thead th {\n",
       "        text-align: right;\n",
       "    }\n",
       "</style>\n",
       "<table border=\"1\" class=\"dataframe\">\n",
       "  <thead>\n",
       "    <tr style=\"text-align: right;\">\n",
       "      <th></th>\n",
       "      <th>title</th>\n",
       "      <th>pu_number</th>\n",
       "      <th>show_start_date</th>\n",
       "      <th>type</th>\n",
       "      <th>film_studio</th>\n",
       "      <th>production_country</th>\n",
       "      <th>director</th>\n",
       "      <th>producer</th>\n",
       "      <th>age_restriction</th>\n",
       "      <th>refundable_support</th>\n",
       "      <th>nonrefundable_support</th>\n",
       "      <th>budget</th>\n",
       "      <th>financing_source</th>\n",
       "      <th>ratings</th>\n",
       "      <th>genres</th>\n",
       "      <th>box_office</th>\n",
       "    </tr>\n",
       "  </thead>\n",
       "  <tbody>\n",
       "    <tr>\n",
       "      <th>2</th>\n",
       "      <td>Особо опасен</td>\n",
       "      <td>221038416</td>\n",
       "      <td>2016-10-10 12:00:00+00:00</td>\n",
       "      <td>Художественный</td>\n",
       "      <td>Юниверсал Пикчерз, Кикстарт Продакшнз, Марк Пл...</td>\n",
       "      <td>США</td>\n",
       "      <td>Тимур Бекмамбетов</td>\n",
       "      <td>Джим Лемли, Джейсон Нетер, Марк Е.Платт, Яйн Смит</td>\n",
       "      <td>«18+» - запрещено для детей</td>\n",
       "      <td>NaN</td>\n",
       "      <td>NaN</td>\n",
       "      <td>NaN</td>\n",
       "      <td>NaN</td>\n",
       "      <td>6.8</td>\n",
       "      <td>фантастика,боевик,триллер</td>\n",
       "      <td>NaN</td>\n",
       "    </tr>\n",
       "    <tr>\n",
       "      <th>3</th>\n",
       "      <td>Особо опасен</td>\n",
       "      <td>221026916</td>\n",
       "      <td>2016-06-10 12:00:00+00:00</td>\n",
       "      <td>Художественный</td>\n",
       "      <td>Юниверсал Пикчерз, Кикстарт Продакшнз, Марк Пл...</td>\n",
       "      <td>США</td>\n",
       "      <td>Тимур Бекмамбетов</td>\n",
       "      <td>Джим Лемли, Джейсон Нетер, Марк Е.Платт, Яйн Смит</td>\n",
       "      <td>«18+» - запрещено для детей</td>\n",
       "      <td>NaN</td>\n",
       "      <td>NaN</td>\n",
       "      <td>NaN</td>\n",
       "      <td>NaN</td>\n",
       "      <td>6.8</td>\n",
       "      <td>фантастика,боевик,триллер</td>\n",
       "      <td>NaN</td>\n",
       "    </tr>\n",
       "    <tr>\n",
       "      <th>4</th>\n",
       "      <td>Особо опасен</td>\n",
       "      <td>221030815</td>\n",
       "      <td>2015-07-29 12:00:00+00:00</td>\n",
       "      <td>Художественный</td>\n",
       "      <td>Юниверсал Пикчерз, Кикстарт Продакшнз, Марк Пл...</td>\n",
       "      <td>США</td>\n",
       "      <td>Тимур Бекмамбетов</td>\n",
       "      <td>Джим Лемли, Джейсон Нетер, Марк Е.Платт, Яйн Смит</td>\n",
       "      <td>«18+» - запрещено для детей</td>\n",
       "      <td>NaN</td>\n",
       "      <td>NaN</td>\n",
       "      <td>NaN</td>\n",
       "      <td>NaN</td>\n",
       "      <td>6.8</td>\n",
       "      <td>фантастика,боевик,триллер</td>\n",
       "      <td>NaN</td>\n",
       "    </tr>\n",
       "    <tr>\n",
       "      <th>12</th>\n",
       "      <td>Малышка на миллион /По мотивам рассказов Ф.Х.Т...</td>\n",
       "      <td>221011415</td>\n",
       "      <td>2015-04-03 12:00:00+00:00</td>\n",
       "      <td>Художественный</td>\n",
       "      <td>Уорнер Бразерс, Лейкшор Интертейнмент, Малпасо...</td>\n",
       "      <td>США</td>\n",
       "      <td>Клинт Иствуд</td>\n",
       "      <td>Клинт Иствуд, Том Розенберг, Альберт С.Рудди, ...</td>\n",
       "      <td>«16+» - для детей старше 16 лет</td>\n",
       "      <td>NaN</td>\n",
       "      <td>NaN</td>\n",
       "      <td>NaN</td>\n",
       "      <td>NaN</td>\n",
       "      <td>8.1</td>\n",
       "      <td>драма,спорт</td>\n",
       "      <td>NaN</td>\n",
       "    </tr>\n",
       "    <tr>\n",
       "      <th>26</th>\n",
       "      <td>Оружейный барон</td>\n",
       "      <td>221012515</td>\n",
       "      <td>2015-04-03 12:00:00+00:00</td>\n",
       "      <td>Художественный</td>\n",
       "      <td>Вэ И Пэ Медиенфондс 3, Асендант Пикчерз, Сатур...</td>\n",
       "      <td>США - Франция - Турция</td>\n",
       "      <td>Эндрю Никкол</td>\n",
       "      <td>Норман Голуайтли, Энди Грош, Николас Кейдж, Эн...</td>\n",
       "      <td>«18+» - запрещено для детей</td>\n",
       "      <td>NaN</td>\n",
       "      <td>NaN</td>\n",
       "      <td>NaN</td>\n",
       "      <td>NaN</td>\n",
       "      <td>7.7</td>\n",
       "      <td>боевик,драма,криминал</td>\n",
       "      <td>NaN</td>\n",
       "    </tr>\n",
       "    <tr>\n",
       "      <th>...</th>\n",
       "      <td>...</td>\n",
       "      <td>...</td>\n",
       "      <td>...</td>\n",
       "      <td>...</td>\n",
       "      <td>...</td>\n",
       "      <td>...</td>\n",
       "      <td>...</td>\n",
       "      <td>...</td>\n",
       "      <td>...</td>\n",
       "      <td>...</td>\n",
       "      <td>...</td>\n",
       "      <td>...</td>\n",
       "      <td>...</td>\n",
       "      <td>...</td>\n",
       "      <td>...</td>\n",
       "      <td>...</td>\n",
       "    </tr>\n",
       "    <tr>\n",
       "      <th>7368</th>\n",
       "      <td>Невиновен</td>\n",
       "      <td>111019319</td>\n",
       "      <td>2019-11-07 12:00:00+00:00</td>\n",
       "      <td>Художественный</td>\n",
       "      <td>ООО \"Кавказфильм\"</td>\n",
       "      <td>Россия</td>\n",
       "      <td>А.Емкужев</td>\n",
       "      <td>А.Емкужев, А.Хуажева, ООО \"Корпорация Русская ...</td>\n",
       "      <td>«16+» - для детей старше 16 лет</td>\n",
       "      <td>NaN</td>\n",
       "      <td>NaN</td>\n",
       "      <td>NaN</td>\n",
       "      <td>NaN</td>\n",
       "      <td>7.5</td>\n",
       "      <td>триллер,детектив,криминал</td>\n",
       "      <td>NaN</td>\n",
       "    </tr>\n",
       "    <tr>\n",
       "      <th>7415</th>\n",
       "      <td>Отель \"Гранд Будапешт\"</td>\n",
       "      <td>121035119</td>\n",
       "      <td>2019-12-13 12:00:00+00:00</td>\n",
       "      <td>Художественный</td>\n",
       "      <td>Американ Эмпирикал, Индиан Пэинтбраш, Скотт Ру...</td>\n",
       "      <td>Германия, США</td>\n",
       "      <td>Уэс Андерсен</td>\n",
       "      <td>Уэс Андерсон, Джереми Доусон, Стивен Рейлс</td>\n",
       "      <td>«16+» - для детей старше 16 лет</td>\n",
       "      <td>NaN</td>\n",
       "      <td>NaN</td>\n",
       "      <td>NaN</td>\n",
       "      <td>NaN</td>\n",
       "      <td>7.9</td>\n",
       "      <td>комедия,приключения,детектив</td>\n",
       "      <td>NaN</td>\n",
       "    </tr>\n",
       "    <tr>\n",
       "      <th>7437</th>\n",
       "      <td>Зверь</td>\n",
       "      <td>121035919</td>\n",
       "      <td>2019-12-05 12:00:00+00:00</td>\n",
       "      <td>Художественный</td>\n",
       "      <td>Студио энд Нью</td>\n",
       "      <td>Южная Корея</td>\n",
       "      <td>Ли Джон-хо</td>\n",
       "      <td>Чан Гён-ик, Чон Джи-хун, Пэк Кён сук</td>\n",
       "      <td>«18+» - запрещено для детей</td>\n",
       "      <td>NaN</td>\n",
       "      <td>NaN</td>\n",
       "      <td>NaN</td>\n",
       "      <td>NaN</td>\n",
       "      <td>6.5</td>\n",
       "      <td>триллер,драма</td>\n",
       "      <td>175003.51</td>\n",
       "    </tr>\n",
       "    <tr>\n",
       "      <th>7449</th>\n",
       "      <td>В тихом омуте</td>\n",
       "      <td>121036919</td>\n",
       "      <td>2019-12-09 12:00:00+00:00</td>\n",
       "      <td>Художественный</td>\n",
       "      <td>Хэд Гир Филмз, Крео Филмз, Локал Хироу, Метрол...</td>\n",
       "      <td>США</td>\n",
       "      <td>Адам Рэндолл</td>\n",
       "      <td>Мэтт Уолдек</td>\n",
       "      <td>«18+» - запрещено для детей</td>\n",
       "      <td>NaN</td>\n",
       "      <td>NaN</td>\n",
       "      <td>NaN</td>\n",
       "      <td>NaN</td>\n",
       "      <td>6.8</td>\n",
       "      <td>триллер,криминал,детектив</td>\n",
       "      <td>NaN</td>\n",
       "    </tr>\n",
       "    <tr>\n",
       "      <th>7473</th>\n",
       "      <td>Вторжение</td>\n",
       "      <td>111022519</td>\n",
       "      <td>2019-12-23 12:00:00+00:00</td>\n",
       "      <td>Художественный</td>\n",
       "      <td>ООО \"Арт Пикчерс Студия\", ООО \"Водород 2011\"</td>\n",
       "      <td>Россия</td>\n",
       "      <td>Ф.Бондарчук</td>\n",
       "      <td>Ф.Бондарчук, М.Врубель, А.Андрющенко, Д.Рудовский</td>\n",
       "      <td>«12+» - для детей старше 12 лет</td>\n",
       "      <td>100000000.0</td>\n",
       "      <td>400000000.0</td>\n",
       "      <td>944000000.0</td>\n",
       "      <td>Фонд кино</td>\n",
       "      <td>5.7</td>\n",
       "      <td>фантастика,боевик</td>\n",
       "      <td>NaN</td>\n",
       "    </tr>\n",
       "  </tbody>\n",
       "</table>\n",
       "<p>1272 rows × 16 columns</p>\n",
       "</div>"
      ],
      "text/plain": [
       "                                                  title  pu_number  \\\n",
       "2                                          Особо опасен  221038416   \n",
       "3                                          Особо опасен  221026916   \n",
       "4                                          Особо опасен  221030815   \n",
       "12    Малышка на миллион /По мотивам рассказов Ф.Х.Т...  221011415   \n",
       "26                                      Оружейный барон  221012515   \n",
       "...                                                 ...        ...   \n",
       "7368                                          Невиновен  111019319   \n",
       "7415                             Отель \"Гранд Будапешт\"  121035119   \n",
       "7437                                              Зверь  121035919   \n",
       "7449                                      В тихом омуте  121036919   \n",
       "7473                                          Вторжение  111022519   \n",
       "\n",
       "               show_start_date             type  \\\n",
       "2    2016-10-10 12:00:00+00:00   Художественный   \n",
       "3    2016-06-10 12:00:00+00:00   Художественный   \n",
       "4    2015-07-29 12:00:00+00:00   Художественный   \n",
       "12   2015-04-03 12:00:00+00:00   Художественный   \n",
       "26   2015-04-03 12:00:00+00:00   Художественный   \n",
       "...                        ...              ...   \n",
       "7368 2019-11-07 12:00:00+00:00   Художественный   \n",
       "7415 2019-12-13 12:00:00+00:00   Художественный   \n",
       "7437 2019-12-05 12:00:00+00:00   Художественный   \n",
       "7449 2019-12-09 12:00:00+00:00   Художественный   \n",
       "7473 2019-12-23 12:00:00+00:00   Художественный   \n",
       "\n",
       "                                            film_studio  \\\n",
       "2     Юниверсал Пикчерз, Кикстарт Продакшнз, Марк Пл...   \n",
       "3     Юниверсал Пикчерз, Кикстарт Продакшнз, Марк Пл...   \n",
       "4     Юниверсал Пикчерз, Кикстарт Продакшнз, Марк Пл...   \n",
       "12    Уорнер Бразерс, Лейкшор Интертейнмент, Малпасо...   \n",
       "26    Вэ И Пэ Медиенфондс 3, Асендант Пикчерз, Сатур...   \n",
       "...                                                 ...   \n",
       "7368                                  ООО \"Кавказфильм\"   \n",
       "7415  Американ Эмпирикал, Индиан Пэинтбраш, Скотт Ру...   \n",
       "7437                                     Студио энд Нью   \n",
       "7449  Хэд Гир Филмз, Крео Филмз, Локал Хироу, Метрол...   \n",
       "7473       ООО \"Арт Пикчерс Студия\", ООО \"Водород 2011\"   \n",
       "\n",
       "          production_country           director  \\\n",
       "2                        США  Тимур Бекмамбетов   \n",
       "3                        США  Тимур Бекмамбетов   \n",
       "4                        США  Тимур Бекмамбетов   \n",
       "12                       США       Клинт Иствуд   \n",
       "26    США - Франция - Турция       Эндрю Никкол   \n",
       "...                      ...                ...   \n",
       "7368                  Россия          А.Емкужев   \n",
       "7415           Германия, США       Уэс Андерсен   \n",
       "7437             Южная Корея         Ли Джон-хо   \n",
       "7449                     США       Адам Рэндолл   \n",
       "7473                  Россия        Ф.Бондарчук   \n",
       "\n",
       "                                               producer  \\\n",
       "2     Джим Лемли, Джейсон Нетер, Марк Е.Платт, Яйн Смит   \n",
       "3     Джим Лемли, Джейсон Нетер, Марк Е.Платт, Яйн Смит   \n",
       "4     Джим Лемли, Джейсон Нетер, Марк Е.Платт, Яйн Смит   \n",
       "12    Клинт Иствуд, Том Розенберг, Альберт С.Рудди, ...   \n",
       "26    Норман Голуайтли, Энди Грош, Николас Кейдж, Эн...   \n",
       "...                                                 ...   \n",
       "7368  А.Емкужев, А.Хуажева, ООО \"Корпорация Русская ...   \n",
       "7415         Уэс Андерсон, Джереми Доусон, Стивен Рейлс   \n",
       "7437               Чан Гён-ик, Чон Джи-хун, Пэк Кён сук   \n",
       "7449                                        Мэтт Уолдек   \n",
       "7473  Ф.Бондарчук, М.Врубель, А.Андрющенко, Д.Рудовский   \n",
       "\n",
       "                      age_restriction  refundable_support  \\\n",
       "2         «18+» - запрещено для детей                 NaN   \n",
       "3         «18+» - запрещено для детей                 NaN   \n",
       "4         «18+» - запрещено для детей                 NaN   \n",
       "12    «16+» - для детей старше 16 лет                 NaN   \n",
       "26        «18+» - запрещено для детей                 NaN   \n",
       "...                               ...                 ...   \n",
       "7368  «16+» - для детей старше 16 лет                 NaN   \n",
       "7415  «16+» - для детей старше 16 лет                 NaN   \n",
       "7437      «18+» - запрещено для детей                 NaN   \n",
       "7449      «18+» - запрещено для детей                 NaN   \n",
       "7473  «12+» - для детей старше 12 лет         100000000.0   \n",
       "\n",
       "      nonrefundable_support       budget financing_source  ratings  \\\n",
       "2                       NaN          NaN              NaN      6.8   \n",
       "3                       NaN          NaN              NaN      6.8   \n",
       "4                       NaN          NaN              NaN      6.8   \n",
       "12                      NaN          NaN              NaN      8.1   \n",
       "26                      NaN          NaN              NaN      7.7   \n",
       "...                     ...          ...              ...      ...   \n",
       "7368                    NaN          NaN              NaN      7.5   \n",
       "7415                    NaN          NaN              NaN      7.9   \n",
       "7437                    NaN          NaN              NaN      6.5   \n",
       "7449                    NaN          NaN              NaN      6.8   \n",
       "7473            400000000.0  944000000.0        Фонд кино      5.7   \n",
       "\n",
       "                            genres  box_office  \n",
       "2        фантастика,боевик,триллер         NaN  \n",
       "3        фантастика,боевик,триллер         NaN  \n",
       "4        фантастика,боевик,триллер         NaN  \n",
       "12                     драма,спорт         NaN  \n",
       "26           боевик,драма,криминал         NaN  \n",
       "...                            ...         ...  \n",
       "7368     триллер,детектив,криминал         NaN  \n",
       "7415  комедия,приключения,детектив         NaN  \n",
       "7437                 триллер,драма   175003.51  \n",
       "7449     триллер,криминал,детектив         NaN  \n",
       "7473             фантастика,боевик         NaN  \n",
       "\n",
       "[1272 rows x 16 columns]"
      ]
     },
     "execution_count": 20,
     "metadata": {},
     "output_type": "execute_result"
    }
   ],
   "source": [
    "data[data.duplicated(subset=['title'], keep = False)]"
   ]
  },
  {
   "cell_type": "markdown",
   "metadata": {},
   "source": [
    "Так как данные дубликаты имеют разные прокатные удостоверения, они прокатываются в разных местах\\форматах, значит за дубликаты мы их не считаем"
   ]
  },
  {
   "cell_type": "code",
   "execution_count": 21,
   "metadata": {},
   "outputs": [
    {
     "data": {
      "text/plain": [
       "2"
      ]
     },
     "execution_count": 21,
     "metadata": {},
     "output_type": "execute_result"
    }
   ],
   "source": [
    "data['pu_number'].duplicated().sum()"
   ]
  },
  {
   "cell_type": "code",
   "execution_count": 22,
   "metadata": {},
   "outputs": [
    {
     "data": {
      "text/html": [
       "<div>\n",
       "<style scoped>\n",
       "    .dataframe tbody tr th:only-of-type {\n",
       "        vertical-align: middle;\n",
       "    }\n",
       "\n",
       "    .dataframe tbody tr th {\n",
       "        vertical-align: top;\n",
       "    }\n",
       "\n",
       "    .dataframe thead th {\n",
       "        text-align: right;\n",
       "    }\n",
       "</style>\n",
       "<table border=\"1\" class=\"dataframe\">\n",
       "  <thead>\n",
       "    <tr style=\"text-align: right;\">\n",
       "      <th></th>\n",
       "      <th>title</th>\n",
       "      <th>pu_number</th>\n",
       "      <th>show_start_date</th>\n",
       "      <th>type</th>\n",
       "      <th>film_studio</th>\n",
       "      <th>production_country</th>\n",
       "      <th>director</th>\n",
       "      <th>producer</th>\n",
       "      <th>age_restriction</th>\n",
       "      <th>refundable_support</th>\n",
       "      <th>nonrefundable_support</th>\n",
       "      <th>budget</th>\n",
       "      <th>financing_source</th>\n",
       "      <th>ratings</th>\n",
       "      <th>genres</th>\n",
       "      <th>box_office</th>\n",
       "    </tr>\n",
       "  </thead>\n",
       "  <tbody>\n",
       "    <tr>\n",
       "      <th>4637</th>\n",
       "      <td>Как жениться и остаться холостым</td>\n",
       "      <td>221154310</td>\n",
       "      <td>2010-12-17 12:00:00+00:00</td>\n",
       "      <td>Художественный</td>\n",
       "      <td>Ше Вам, Скрипт Ассосье, Тэ Фэ 1 Фильм Продюксь...</td>\n",
       "      <td>Франция</td>\n",
       "      <td>Эрик Лартиго</td>\n",
       "      <td>Амандин Било, Алан Шаба</td>\n",
       "      <td>«16+» - для детей старше 16 лет</td>\n",
       "      <td>NaN</td>\n",
       "      <td>NaN</td>\n",
       "      <td>NaN</td>\n",
       "      <td>NaN</td>\n",
       "      <td>7.0</td>\n",
       "      <td>мелодрама,комедия</td>\n",
       "      <td>NaN</td>\n",
       "    </tr>\n",
       "    <tr>\n",
       "      <th>4638</th>\n",
       "      <td>Иоанна - женщина на папском престоле /По роман...</td>\n",
       "      <td>221154310</td>\n",
       "      <td>2010-12-17 12:00:00+00:00</td>\n",
       "      <td>Художественный</td>\n",
       "      <td>Константин Фильм, А Эр Ди Дегето Фильм, Дюне ...</td>\n",
       "      <td>Германия - Великобритания - Италия - Испания</td>\n",
       "      <td>Зенке Вортманн</td>\n",
       "      <td>Оливер Бербен, Дорис Д.Хайнце, Фарук Элтан</td>\n",
       "      <td>«16+» - для детей старше 16 лет</td>\n",
       "      <td>NaN</td>\n",
       "      <td>NaN</td>\n",
       "      <td>NaN</td>\n",
       "      <td>NaN</td>\n",
       "      <td>7.6</td>\n",
       "      <td>драма,мелодрама,история</td>\n",
       "      <td>NaN</td>\n",
       "    </tr>\n",
       "    <tr>\n",
       "      <th>5066</th>\n",
       "      <td>Анализируй это!</td>\n",
       "      <td>221054410</td>\n",
       "      <td>2010-05-25 12:00:00+00:00</td>\n",
       "      <td>Художественный</td>\n",
       "      <td>Уорнер Бразерс, Вилладж Роудшоу Филмз ЛТД</td>\n",
       "      <td>США-Австралия</td>\n",
       "      <td>ХЭрольд Рэмис</td>\n",
       "      <td>Джейн Розенталь, Пола Уейнстейн</td>\n",
       "      <td>«16+» - для детей старше 16 лет</td>\n",
       "      <td>NaN</td>\n",
       "      <td>NaN</td>\n",
       "      <td>NaN</td>\n",
       "      <td>NaN</td>\n",
       "      <td>7.4</td>\n",
       "      <td>комедия,криминал</td>\n",
       "      <td>NaN</td>\n",
       "    </tr>\n",
       "    <tr>\n",
       "      <th>5067</th>\n",
       "      <td>Анализируй то!</td>\n",
       "      <td>221054410</td>\n",
       "      <td>2010-05-25 12:00:00+00:00</td>\n",
       "      <td>Художественный</td>\n",
       "      <td>Уорнер Бразерс, Виллидж Роадшоу Пикчерз, Эн-Пи...</td>\n",
       "      <td>США</td>\n",
       "      <td>Гарольд Реймис</td>\n",
       "      <td>Джейн Розенталь, Паул Уэйнстейн</td>\n",
       "      <td>«12+» - для детей старше 12 лет</td>\n",
       "      <td>NaN</td>\n",
       "      <td>NaN</td>\n",
       "      <td>NaN</td>\n",
       "      <td>NaN</td>\n",
       "      <td>6.8</td>\n",
       "      <td>комедия,криминал</td>\n",
       "      <td>NaN</td>\n",
       "    </tr>\n",
       "  </tbody>\n",
       "</table>\n",
       "</div>"
      ],
      "text/plain": [
       "                                                  title  pu_number  \\\n",
       "4637                   Как жениться и остаться холостым  221154310   \n",
       "4638  Иоанна - женщина на папском престоле /По роман...  221154310   \n",
       "5066                                    Анализируй это!  221054410   \n",
       "5067                                     Анализируй то!  221054410   \n",
       "\n",
       "               show_start_date            type  \\\n",
       "4637 2010-12-17 12:00:00+00:00  Художественный   \n",
       "4638 2010-12-17 12:00:00+00:00  Художественный   \n",
       "5066 2010-05-25 12:00:00+00:00  Художественный   \n",
       "5067 2010-05-25 12:00:00+00:00  Художественный   \n",
       "\n",
       "                                            film_studio  \\\n",
       "4637  Ше Вам, Скрипт Ассосье, Тэ Фэ 1 Фильм Продюксь...   \n",
       "4638   Константин Фильм, А Эр Ди Дегето Фильм, Дюне ...   \n",
       "5066          Уорнер Бразерс, Вилладж Роудшоу Филмз ЛТД   \n",
       "5067  Уорнер Бразерс, Виллидж Роадшоу Пикчерз, Эн-Пи...   \n",
       "\n",
       "                                production_country        director  \\\n",
       "4637                                       Франция    Эрик Лартиго   \n",
       "4638  Германия - Великобритания - Италия - Испания  Зенке Вортманн   \n",
       "5066                                 США-Австралия   ХЭрольд Рэмис   \n",
       "5067                                           США  Гарольд Реймис   \n",
       "\n",
       "                                        producer  \\\n",
       "4637                     Амандин Било, Алан Шаба   \n",
       "4638  Оливер Бербен, Дорис Д.Хайнце, Фарук Элтан   \n",
       "5066             Джейн Розенталь, Пола Уейнстейн   \n",
       "5067             Джейн Розенталь, Паул Уэйнстейн   \n",
       "\n",
       "                      age_restriction  refundable_support  \\\n",
       "4637  «16+» - для детей старше 16 лет                 NaN   \n",
       "4638  «16+» - для детей старше 16 лет                 NaN   \n",
       "5066  «16+» - для детей старше 16 лет                 NaN   \n",
       "5067  «12+» - для детей старше 12 лет                 NaN   \n",
       "\n",
       "      nonrefundable_support  budget financing_source  ratings  \\\n",
       "4637                    NaN     NaN              NaN      7.0   \n",
       "4638                    NaN     NaN              NaN      7.6   \n",
       "5066                    NaN     NaN              NaN      7.4   \n",
       "5067                    NaN     NaN              NaN      6.8   \n",
       "\n",
       "                       genres  box_office  \n",
       "4637        мелодрама,комедия         NaN  \n",
       "4638  драма,мелодрама,история         NaN  \n",
       "5066         комедия,криминал         NaN  \n",
       "5067         комедия,криминал         NaN  "
      ]
     },
     "execution_count": 22,
     "metadata": {},
     "output_type": "execute_result"
    }
   ],
   "source": [
    "data[data.duplicated(subset=['pu_number'], keep = False)]"
   ]
  },
  {
   "cell_type": "markdown",
   "metadata": {},
   "source": [
    "В данном случае мы не можем рассматривать эти фильмы как дубликаты друг друга, потому что они имеют разные названия и рейтинги, а значит это разные фильмы. Возможно, эти дубликаты возникли из-за техничсекой ошибки при присвоении прокатного номера. Заменим их на уникальные значения"
   ]
  },
  {
   "cell_type": "code",
   "execution_count": 23,
   "metadata": {},
   "outputs": [
    {
     "data": {
      "text/plain": [
       "1811096"
      ]
     },
     "execution_count": 23,
     "metadata": {},
     "output_type": "execute_result"
    }
   ],
   "source": [
    "min(data['pu_number'])"
   ]
  },
  {
   "cell_type": "code",
   "execution_count": 24,
   "metadata": {},
   "outputs": [
    {
     "data": {
      "text/html": [
       "<div>\n",
       "<style scoped>\n",
       "    .dataframe tbody tr th:only-of-type {\n",
       "        vertical-align: middle;\n",
       "    }\n",
       "\n",
       "    .dataframe tbody tr th {\n",
       "        vertical-align: top;\n",
       "    }\n",
       "\n",
       "    .dataframe thead th {\n",
       "        text-align: right;\n",
       "    }\n",
       "</style>\n",
       "<table border=\"1\" class=\"dataframe\">\n",
       "  <thead>\n",
       "    <tr style=\"text-align: right;\">\n",
       "      <th></th>\n",
       "      <th>title</th>\n",
       "      <th>pu_number</th>\n",
       "      <th>show_start_date</th>\n",
       "      <th>type</th>\n",
       "      <th>film_studio</th>\n",
       "      <th>production_country</th>\n",
       "      <th>director</th>\n",
       "      <th>producer</th>\n",
       "      <th>age_restriction</th>\n",
       "      <th>refundable_support</th>\n",
       "      <th>nonrefundable_support</th>\n",
       "      <th>budget</th>\n",
       "      <th>financing_source</th>\n",
       "      <th>ratings</th>\n",
       "      <th>genres</th>\n",
       "      <th>box_office</th>\n",
       "    </tr>\n",
       "  </thead>\n",
       "  <tbody>\n",
       "  </tbody>\n",
       "</table>\n",
       "</div>"
      ],
      "text/plain": [
       "Empty DataFrame\n",
       "Columns: [title, pu_number, show_start_date, type, film_studio, production_country, director, producer, age_restriction, refundable_support, nonrefundable_support, budget, financing_source, ratings, genres, box_office]\n",
       "Index: []"
      ]
     },
     "execution_count": 24,
     "metadata": {},
     "output_type": "execute_result"
    }
   ],
   "source": [
    "#Для присвоения уникальных значений, выдадим номера ниже имеющихся - 1_000_000 и 1_000_001\n",
    "data.loc[((data['pu_number'] == 221154310)&(data['title'] == 'Как жениться и остаться холостым')),'pu_number'] = 1000000\n",
    "data.loc[((data['pu_number'] == 221054410)&(data['title'] == 'Анализируй то!')),'pu_number'] = 1000001\n",
    "\n",
    "data[data.duplicated(subset=['pu_number'], keep = False)]"
   ]
  },
  {
   "cell_type": "markdown",
   "metadata": {},
   "source": [
    "На данном этапе все базовые неявные дубликаты обработаны. Дальнейшая их обработка будет производиться в разделе категориальных значений"
   ]
  },
  {
   "cell_type": "markdown",
   "metadata": {},
   "source": [
    "<div class=\"alert alert-success\">\n",
    "<h2> Комментарий ревьюера V1<a class=\"tocSkip\"> </h2>\n",
    "\n",
    "<b>Все отлично!👍:</b> Супер, здесь все правильно также указал, фильмы обладают разными прокатными удостоверениями, а два фильма с одинаковым удостоверением получены, вероятно, из-за сбоя. Дубликатов нет"
   ]
  },
  {
   "cell_type": "markdown",
   "metadata": {
    "id": "52fOPrEBgFyQ"
   },
   "source": [
    "### Изучите категориальные значения\n",
    "\n",
    "- Посмотрите, какая общая проблема встречается почти во всех категориальных столбцах;\n",
    "- Исправьте проблемные значения в поле `type`.\n",
    "\n",
    "<div id=\"accordion\">\n",
    "    <div class=\"card\">\n",
    "        <div class=\"card-header\" id=\"headingThree\">\n",
    "            <button class=\"btn btn-link collapsed\" data-toggle=\"collapse\" data-target=\"#collapseHint_1\" aria-expanded=\"false\" aria-controls=\"collapseHint_1\">Подсказка</button>\n",
    "        </div>\n",
    "        <div id=\"collapseHint_1\" class=\"collapse\" aria-labelledby=\"headingThree\" data-parent=\"#accordion\">\n",
    "            <div class=\"card-body\">\n",
    "В поле <code>type</code> есть несколько значений, у которых появился пробел в начале строки. Самый простой способ их «починить» -- использовать метод <a href=\"https://pandas.pydata.org/docs/reference/api/pandas.Series.str.strip.html#pandas.Series.str.strip\">.str.strip</a>. Этот метод удаляет все пробелы, которые встречаются в начале и в конце строки. Применяют его таким образом:<br>\n",
    "<code>df['type'].str.strip()</code>\n",
    "            </div>\n",
    "        </div>\n",
    "    </div>\n",
    "</div>"
   ]
  },
  {
   "cell_type": "code",
   "execution_count": 25,
   "metadata": {
    "id": "PnXKIVdFgFyR"
   },
   "outputs": [
    {
     "data": {
      "text/html": [
       "<div>\n",
       "<style scoped>\n",
       "    .dataframe tbody tr th:only-of-type {\n",
       "        vertical-align: middle;\n",
       "    }\n",
       "\n",
       "    .dataframe tbody tr th {\n",
       "        vertical-align: top;\n",
       "    }\n",
       "\n",
       "    .dataframe thead th {\n",
       "        text-align: right;\n",
       "    }\n",
       "</style>\n",
       "<table border=\"1\" class=\"dataframe\">\n",
       "  <thead>\n",
       "    <tr style=\"text-align: right;\">\n",
       "      <th></th>\n",
       "      <th>title</th>\n",
       "      <th>pu_number</th>\n",
       "      <th>show_start_date</th>\n",
       "      <th>type</th>\n",
       "      <th>film_studio</th>\n",
       "      <th>production_country</th>\n",
       "      <th>director</th>\n",
       "      <th>producer</th>\n",
       "      <th>age_restriction</th>\n",
       "      <th>refundable_support</th>\n",
       "      <th>nonrefundable_support</th>\n",
       "      <th>budget</th>\n",
       "      <th>financing_source</th>\n",
       "      <th>ratings</th>\n",
       "      <th>genres</th>\n",
       "      <th>box_office</th>\n",
       "    </tr>\n",
       "  </thead>\n",
       "  <tbody>\n",
       "    <tr>\n",
       "      <th>0</th>\n",
       "      <td>Открытый простор</td>\n",
       "      <td>221048915</td>\n",
       "      <td>2015-11-27 12:00:00+00:00</td>\n",
       "      <td>Художественный</td>\n",
       "      <td>Тачстоун Пикчерз, Кобальт Пикчерз, Бикон Пикче...</td>\n",
       "      <td>США</td>\n",
       "      <td>Кевин Костнер</td>\n",
       "      <td>Дэвид Валдес, Кевин Костнер, Джейк Эбертс</td>\n",
       "      <td>«18+» - запрещено для детей</td>\n",
       "      <td>NaN</td>\n",
       "      <td>NaN</td>\n",
       "      <td>NaN</td>\n",
       "      <td>NaN</td>\n",
       "      <td>7.2</td>\n",
       "      <td>боевик,драма,мелодрама</td>\n",
       "      <td>NaN</td>\n",
       "    </tr>\n",
       "    <tr>\n",
       "      <th>1</th>\n",
       "      <td>Особо важное задание</td>\n",
       "      <td>111013716</td>\n",
       "      <td>2016-09-13 12:00:00+00:00</td>\n",
       "      <td>Художественный</td>\n",
       "      <td>Киностудия \"Мосфильм\"</td>\n",
       "      <td>СССР</td>\n",
       "      <td>Е.Матвеев</td>\n",
       "      <td>неизвестно</td>\n",
       "      <td>«6+» - для детей старше 6 лет</td>\n",
       "      <td>NaN</td>\n",
       "      <td>NaN</td>\n",
       "      <td>NaN</td>\n",
       "      <td>NaN</td>\n",
       "      <td>6.6</td>\n",
       "      <td>драма,военный</td>\n",
       "      <td>NaN</td>\n",
       "    </tr>\n",
       "    <tr>\n",
       "      <th>2</th>\n",
       "      <td>Особо опасен</td>\n",
       "      <td>221038416</td>\n",
       "      <td>2016-10-10 12:00:00+00:00</td>\n",
       "      <td>Художественный</td>\n",
       "      <td>Юниверсал Пикчерз, Кикстарт Продакшнз, Марк Пл...</td>\n",
       "      <td>США</td>\n",
       "      <td>Тимур Бекмамбетов</td>\n",
       "      <td>Джим Лемли, Джейсон Нетер, Марк Е.Платт, Яйн Смит</td>\n",
       "      <td>«18+» - запрещено для детей</td>\n",
       "      <td>NaN</td>\n",
       "      <td>NaN</td>\n",
       "      <td>NaN</td>\n",
       "      <td>NaN</td>\n",
       "      <td>6.8</td>\n",
       "      <td>фантастика,боевик,триллер</td>\n",
       "      <td>NaN</td>\n",
       "    </tr>\n",
       "    <tr>\n",
       "      <th>3</th>\n",
       "      <td>Особо опасен</td>\n",
       "      <td>221026916</td>\n",
       "      <td>2016-06-10 12:00:00+00:00</td>\n",
       "      <td>Художественный</td>\n",
       "      <td>Юниверсал Пикчерз, Кикстарт Продакшнз, Марк Пл...</td>\n",
       "      <td>США</td>\n",
       "      <td>Тимур Бекмамбетов</td>\n",
       "      <td>Джим Лемли, Джейсон Нетер, Марк Е.Платт, Яйн Смит</td>\n",
       "      <td>«18+» - запрещено для детей</td>\n",
       "      <td>NaN</td>\n",
       "      <td>NaN</td>\n",
       "      <td>NaN</td>\n",
       "      <td>NaN</td>\n",
       "      <td>6.8</td>\n",
       "      <td>фантастика,боевик,триллер</td>\n",
       "      <td>NaN</td>\n",
       "    </tr>\n",
       "    <tr>\n",
       "      <th>4</th>\n",
       "      <td>Особо опасен</td>\n",
       "      <td>221030815</td>\n",
       "      <td>2015-07-29 12:00:00+00:00</td>\n",
       "      <td>Художественный</td>\n",
       "      <td>Юниверсал Пикчерз, Кикстарт Продакшнз, Марк Пл...</td>\n",
       "      <td>США</td>\n",
       "      <td>Тимур Бекмамбетов</td>\n",
       "      <td>Джим Лемли, Джейсон Нетер, Марк Е.Платт, Яйн Смит</td>\n",
       "      <td>«18+» - запрещено для детей</td>\n",
       "      <td>NaN</td>\n",
       "      <td>NaN</td>\n",
       "      <td>NaN</td>\n",
       "      <td>NaN</td>\n",
       "      <td>6.8</td>\n",
       "      <td>фантастика,боевик,триллер</td>\n",
       "      <td>NaN</td>\n",
       "    </tr>\n",
       "  </tbody>\n",
       "</table>\n",
       "</div>"
      ],
      "text/plain": [
       "                  title  pu_number           show_start_date            type  \\\n",
       "0      Открытый простор  221048915 2015-11-27 12:00:00+00:00  Художественный   \n",
       "1  Особо важное задание  111013716 2016-09-13 12:00:00+00:00  Художественный   \n",
       "2          Особо опасен  221038416 2016-10-10 12:00:00+00:00  Художественный   \n",
       "3          Особо опасен  221026916 2016-06-10 12:00:00+00:00  Художественный   \n",
       "4          Особо опасен  221030815 2015-07-29 12:00:00+00:00  Художественный   \n",
       "\n",
       "                                         film_studio production_country  \\\n",
       "0  Тачстоун Пикчерз, Кобальт Пикчерз, Бикон Пикче...                США   \n",
       "1                              Киностудия \"Мосфильм\"               СССР   \n",
       "2  Юниверсал Пикчерз, Кикстарт Продакшнз, Марк Пл...                США   \n",
       "3  Юниверсал Пикчерз, Кикстарт Продакшнз, Марк Пл...                США   \n",
       "4  Юниверсал Пикчерз, Кикстарт Продакшнз, Марк Пл...                США   \n",
       "\n",
       "            director                                           producer  \\\n",
       "0      Кевин Костнер          Дэвид Валдес, Кевин Костнер, Джейк Эбертс   \n",
       "1          Е.Матвеев                                         неизвестно   \n",
       "2  Тимур Бекмамбетов  Джим Лемли, Джейсон Нетер, Марк Е.Платт, Яйн Смит   \n",
       "3  Тимур Бекмамбетов  Джим Лемли, Джейсон Нетер, Марк Е.Платт, Яйн Смит   \n",
       "4  Тимур Бекмамбетов  Джим Лемли, Джейсон Нетер, Марк Е.Платт, Яйн Смит   \n",
       "\n",
       "                 age_restriction  refundable_support  nonrefundable_support  \\\n",
       "0    «18+» - запрещено для детей                 NaN                    NaN   \n",
       "1  «6+» - для детей старше 6 лет                 NaN                    NaN   \n",
       "2    «18+» - запрещено для детей                 NaN                    NaN   \n",
       "3    «18+» - запрещено для детей                 NaN                    NaN   \n",
       "4    «18+» - запрещено для детей                 NaN                    NaN   \n",
       "\n",
       "   budget financing_source  ratings                     genres  box_office  \n",
       "0     NaN              NaN      7.2     боевик,драма,мелодрама         NaN  \n",
       "1     NaN              NaN      6.6              драма,военный         NaN  \n",
       "2     NaN              NaN      6.8  фантастика,боевик,триллер         NaN  \n",
       "3     NaN              NaN      6.8  фантастика,боевик,триллер         NaN  \n",
       "4     NaN              NaN      6.8  фантастика,боевик,триллер         NaN  "
      ]
     },
     "execution_count": 25,
     "metadata": {},
     "output_type": "execute_result"
    }
   ],
   "source": [
    "data.head(5)"
   ]
  },
  {
   "cell_type": "code",
   "execution_count": 26,
   "metadata": {},
   "outputs": [
    {
     "name": "stdout",
     "output_type": "stream",
     "text": [
      "<class 'pandas.core.frame.DataFrame'>\n",
      "Int64Index: 7485 entries, 0 to 7484\n",
      "Data columns (total 16 columns):\n",
      " #   Column                 Non-Null Count  Dtype              \n",
      "---  ------                 --------------  -----              \n",
      " 0   title                  7485 non-null   object             \n",
      " 1   pu_number              7485 non-null   int64              \n",
      " 2   show_start_date        7485 non-null   datetime64[ns, UTC]\n",
      " 3   type                   7485 non-null   object             \n",
      " 4   film_studio            7485 non-null   object             \n",
      " 5   production_country     7485 non-null   object             \n",
      " 6   director               7485 non-null   object             \n",
      " 7   producer               7485 non-null   object             \n",
      " 8   age_restriction        7485 non-null   object             \n",
      " 9   refundable_support     332 non-null    float64            \n",
      " 10  nonrefundable_support  332 non-null    float64            \n",
      " 11  budget                 332 non-null    float64            \n",
      " 12  financing_source       332 non-null    object             \n",
      " 13  ratings                6490 non-null   float64            \n",
      " 14  genres                 7485 non-null   object             \n",
      " 15  box_office             3158 non-null   float64            \n",
      "dtypes: datetime64[ns, UTC](1), float64(5), int64(1), object(9)\n",
      "memory usage: 994.1+ KB\n"
     ]
    }
   ],
   "source": [
    "data.info()"
   ]
  },
  {
   "cell_type": "markdown",
   "metadata": {},
   "source": [
    "#### type"
   ]
  },
  {
   "cell_type": "code",
   "execution_count": 27,
   "metadata": {},
   "outputs": [
    {
     "data": {
      "text/plain": [
       "array(['Художественный', 'Анимационный', 'Прочие', 'Документальный',\n",
       "       'Научно-популярный', ' Художественный', ' Анимационный',\n",
       "       'Музыкально-развлекательный'], dtype=object)"
      ]
     },
     "execution_count": 27,
     "metadata": {},
     "output_type": "execute_result"
    }
   ],
   "source": [
    "data['type'].unique()"
   ]
  },
  {
   "cell_type": "markdown",
   "metadata": {},
   "source": [
    "Мы можем обратить внимание, что одинаковые значения являются уникальными в данном датафрейме. Это связано с наличием лишних пробелов, которые и создают отличие строк. Уберем их и проверим результат"
   ]
  },
  {
   "cell_type": "code",
   "execution_count": 28,
   "metadata": {},
   "outputs": [
    {
     "data": {
      "text/plain": [
       "array(['Художественный', 'Анимационный', 'Прочие', 'Документальный',\n",
       "       'Научно-популярный', 'Музыкально-развлекательный'], dtype=object)"
      ]
     },
     "execution_count": 28,
     "metadata": {},
     "output_type": "execute_result"
    }
   ],
   "source": [
    "data['type'] = data['type'].str.strip()\n",
    "data['type'].unique()"
   ]
  },
  {
   "cell_type": "markdown",
   "metadata": {},
   "source": [
    "#### production_country"
   ]
  },
  {
   "cell_type": "code",
   "execution_count": 29,
   "metadata": {},
   "outputs": [
    {
     "data": {
      "text/plain": [
       "array(['США', 'СССР', 'Франция', 'СССР, Венгрия',\n",
       "       'Германия-Великобритания', 'Великобритания - Италия',\n",
       "       'Чехословакия', 'США - Франция - Турция', 'Новая Зеландия',\n",
       "       'Канада - Франция - Испания', 'США-Германия',\n",
       "       'США - Великобритания', 'Великобритания', 'США - Германия',\n",
       "       'Франция - Мексика - США', 'Россия, Казахстан, США',\n",
       "       'СССР, Швеция', 'СССР, Франция, Англия, Куба, ГДР', 'Германия',\n",
       "       'Великобритания-США-Германия-КНР',\n",
       "       'СССР, ЧССР, Западный Берлин, ПНР', 'СССР, Италия', 'Гонконг, КНР',\n",
       "       'США - Франция', 'США - Япония - Франция - Великобритания',\n",
       "       'Гонконг - Сингапур - Таиланд - Великобритания', 'США-Канада',\n",
       "       'Франция - Италия - Великобритания - США', 'Франция - США',\n",
       "       'Ирландия-Великобритания-Германия', 'Чехия', 'США-Австралия',\n",
       "       'СССР, Финляндия', 'США-Франция-Великобритания-Австрия',\n",
       "       'США - Бельгия', 'США - Ирландия - Великобритания',\n",
       "       'Великобритания - США',\n",
       "       'Люксембург - Нидерланды - Испания - Великобритания - США - Италия',\n",
       "       'Великобритания - Франция - США', 'Новая Зеландия - США',\n",
       "       'США - Великобритания - Чехия',\n",
       "       'Канада - Франция - Великобритания', 'Ирландия',\n",
       "       'Великобритания - Германия - США',\n",
       "       'США - Франция - Великобритания', 'Япония', 'СССР, Польша',\n",
       "       'Франция - Испания', 'Канада-Франция', 'Германия - Италия - США',\n",
       "       'Аргентина - Бразилия', 'Дания - Швейцария - Бельгия - Франция',\n",
       "       'США - Испания', 'Германия - США',\n",
       "       'Франция - Австрия - Германия - Италия - США', 'Австрия',\n",
       "       'США - Канада - Германия', 'США - Канада',\n",
       "       'СССР - Швейцария - Франция', 'Россия - Казахстан', 'Гонконг',\n",
       "       'Италия', 'США - ОАЭ', 'Россия',\n",
       "       'США - Франция - Испания - Великобритания',\n",
       "       'Великобритания - Франция', 'США-Италия-Испания-Аргентина',\n",
       "       'Франция-Великобритания', 'КНР - Гонконг',\n",
       "       'Франция - Италия - Швейцария', 'США - Новая Зеландия',\n",
       "       'Франция - Бельгия', 'КНР', 'Германия - Великобритания - Австрия',\n",
       "       'Великобритания - Израиль - Франция - Япония - США', 'Швеция',\n",
       "       'Испания', 'Дания', 'Франция - Бельгия - Люксембург',\n",
       "       'США - Индия - ОАЭ',\n",
       "       'Германия-Канада-Великобритания-Швейцария-Франция',\n",
       "       'Мексика - Чили', 'Аргентина', 'Бразилия', 'Чили', 'Австралия',\n",
       "       'Португалия - Франция', 'США - ЮАР', 'Исландия-Ирландия-Германия',\n",
       "       'США-Индонезия', 'Южная Корея', 'Мексика - Испания - Дания - США',\n",
       "       'Великобритания-США', 'Франция - Италия', 'США-Франция',\n",
       "       'США - Венгрия - Великобритания', 'Бельгия-Франция-Италия',\n",
       "       'Чехия - Германия', 'Германия - Франция', 'США-Нидерланды',\n",
       "       'Украина', 'Великобритания - Германия', 'Франция-Бельгия',\n",
       "       'США-Франция-Испания', 'Италия - Франция', 'Канада',\n",
       "       'Швеция-Франция-Дания', 'Германия-Франция-Польша',\n",
       "       'Франция-Великобритания - Германия',\n",
       "       'США - Бразилия - Франция - Австралия - Великобритания - Германия',\n",
       "       'Германия-Австрия', 'Германия-Италия- Шри-Ланка',\n",
       "       'Великобритания - Испания',\n",
       "       'США - Великобритания - Канада - Швеция',\n",
       "       'Босния и Герцеговина - Франция - Великобритания - Германия - Словения - Бельгия - Сербия',\n",
       "       'Великобритания - Франция - Италия - США', 'США-ОАЭ',\n",
       "       'Испания - Франция', 'США-Великобритания', 'США-ЮАР',\n",
       "       'Великобритания-Австралия - США',\n",
       "       'Норвегия - Швеция - Дания - Германия', 'Норвегия', 'Швейцария',\n",
       "       'Греция - Германия - Франция', 'Норвения', 'Южная Корея - США',\n",
       "       'Чили - Франция - США', 'Австрия - Германия - Франция',\n",
       "       'Швеция - Дания', 'Великобритания - Франция - Бельгия - Италия',\n",
       "       'Франция - Германия', 'Грузия - Франция - Люксембург',\n",
       "       'США - Франция - Великобритания - Бразилия ', 'США - КНР',\n",
       "       'Мексика - Франция', 'США - Германия - Гонконг - Сингапур',\n",
       "       'Финляндия - Австрия - Россия', 'Испания - Куба',\n",
       "       'Великобритания - ЮАР', 'Великобритания - Ирландия', 'Израиль',\n",
       "       'Бразилия - Германия - Порртугалия - Франция ',\n",
       "       'Франция - Канада - Бельгия', 'Франция-Испания',\n",
       "       'Испания - Канада - Япония', 'Иран', 'Швеция-Куба',\n",
       "       'США-Великобритания-Ирландия', 'Гонконг - КНР', 'Нидерланды',\n",
       "       'Испания - Канада', 'Япония-Великобритания',\n",
       "       'Великобритания - Норвегия - Дания - Германия',\n",
       "       'Финляндия - Франция - Германия',\n",
       "       'Мексика - Франция - Нидерланды - Германия', 'США - Индия',\n",
       "       'США-Великобритания-Индия', 'США-Канада-Бельгия',\n",
       "       'Республика Узбекистан', 'Италия ', 'Турция',\n",
       "       'Сербия - Словения - Хорватия - Черногория - Македония',\n",
       "       'Киргизия', 'Германия - Нидерланды - Беларусь - Россия - Латвия',\n",
       "       'Индия', 'Нидерланды - Россия - Германия',\n",
       "       'Великобритания - Нидерланды - Франция - Хорватия',\n",
       "       'Канада - Южная Корея',\n",
       "       'Великобритания - Польша - КНР - Индия - Норвегия',\n",
       "       'Япония - Франция - США - Южная Корея - Турция',\n",
       "       'Мексика - Аргентина - Великобритания', 'Израиль - Франция',\n",
       "       'Польша - Португалия - Франция - Великобритания',\n",
       "       'Австралия - США', 'США - Великобритания ',\n",
       "       'Франция - Люксембург - Бельгия', 'Армения',\n",
       "       'Бельгия - Люксембург - Франция - Швейцария',\n",
       "       'США - Великобритания - Канада', 'Норвегия - Швеция',\n",
       "       'Канада - Франция', 'КНР - Гонконг - США',\n",
       "       'США - Сингапур - Малайзия - Индонезия', 'Германия - Россия',\n",
       "       'Япония - Канада', 'Финляндия - Дания - Германия - Ирландия',\n",
       "       'Франция - Люксембург - Германия - Бельгия - Швейцария - Великобритания ',\n",
       "       'Канада - США', 'США-Италия-Испания', 'США-Испания',\n",
       "       'США - Швейцария - Франция', 'Испания - США - Колумбия',\n",
       "       'Канада-ЮАР', 'Франция - Россия',\n",
       "       'Германия - Финляндия - Австралия', 'Дания - Швеция', 'Бельгия',\n",
       "       'Германия - Франция - Австрия', 'Франция-Индия', 'ЮАР',\n",
       "       'Франция-Перу', 'Франция - Канада', 'Республика Беларусь',\n",
       "       'Великобритания - Австрия - Франция - США',\n",
       "       'Австрия-Германия-Франция', 'США-Россия', 'Германия-США',\n",
       "       'США - Южная Корея', 'Канада - КНР',\n",
       "       'Дания - Швеция - Италия - Франция - Германия',\n",
       "       'Франция-Италия-Испания-Венгрия', 'Франция - Германия - Бельгия',\n",
       "       'Франция-Великобритания-Чехия', 'Румыния - Франция - Бельгия',\n",
       "       'Болгария - Франция - Изриль',\n",
       "       'Израиль - Германия - Польша - Бельгия - Франция - Люксембург',\n",
       "       'Россия, Германия, Франция, Бельгия', 'Индонезия',\n",
       "       'Франция - Португалия', 'Великобритания - Пуэрто-Рико',\n",
       "       'СССР, ФРГ, Западный Берлин', 'Россия, Республика Беларусь',\n",
       "       'США, Великобритания', 'Франция - Австрия', 'Бельгия-Нидерланды',\n",
       "       'Великобритания - США - Индия', 'США - Великобритания - Австралия',\n",
       "       'Канада - Франция - США - ОАЭ - Великобритания',\n",
       "       'США - Австралия - Франция',\n",
       "       'Дания-Франция-Бельгия-Германия-Великобритания',\n",
       "       'Испания - Аргентина', 'Исландия - Финляндия',\n",
       "       'Россия-Польша-Голландия-Словакия', 'Дания - Германия - Швеция',\n",
       "       'Южная Корея - США - Канада', 'Таиланд', 'США-Мальта',\n",
       "       'США -Германия',\n",
       "       'Великобритания - Германия - Франция - Кипр - США', 'Мексика',\n",
       "       'США - Великобритания - Ирландия', 'США - Украина',\n",
       "       'США - Финляндия - Испания - Великобритания - Франция',\n",
       "       'Австралия-Великобритания',\n",
       "       'США - Канада - Афганистан - Бельгия - Франция',\n",
       "       'США - Великобритания - Германия - Новая Зеландия - Бельгия - Франция',\n",
       "       'Франция-Канада',\n",
       "       'Ирландия - Финляндия - Бельгия - Великобритания - США - Швейцария',\n",
       "       'Малайзия - США', 'Германия - Италия',\n",
       "       'США - Франция - Бельгия - Италия', 'Франция - Ирландия - Швеция',\n",
       "       'Азербайджан-Россия', 'Великобритания - Италия - Швейцария',\n",
       "       'США - Германия - Великобритания',\n",
       "       'Германия - Бельгия - США -Франция', 'США-Китай', 'Чили - Испания',\n",
       "       'Франция - Швейцария', 'Канада - Испания',\n",
       "       'США - Румыния - Великобритания', 'США - Япония',\n",
       "       'США - Россия - Франция', 'Франция-США', 'Парагвай',\n",
       "       'Германия - Канада', 'США - Канада - Великобритания',\n",
       "       'Финляндия - Канада', 'Уругвай-Мексика-Германия ', 'США - Чили',\n",
       "       'Германия - Аргентина - Нидерланды - Чили',\n",
       "       'США - Канада - Индонезия', 'Армения - Казахстан', 'Финляндия',\n",
       "       'Испания - Италия - Франция',\n",
       "       'Бельгия - Испания - Канада - Нидерланды',\n",
       "       'Великобритания - Франция - Швеция - Бельгия',\n",
       "       'Мексика - Эквадор - Канада - США - Франция - Малайзия - Италия - Аргентина - Германия - Индия  ',\n",
       "       'Франция - Бенльгия', 'Индия - Великобритания',\n",
       "       'Япония - Великобритания - Франция',\n",
       "       'Испания - Уругвай - Аргентина',\n",
       "       'Франция - Италия - Бельгия - Люксембург',\n",
       "       'Франция - Украина - Грузия - Армения',\n",
       "       'Сербия - Германия - Венгрия', 'Франция-Польша', 'Франция ',\n",
       "       'Румыния-США', 'Россия-Азербайджан',\n",
       "       'США - Нидерланды - Бельгия - Венгрия - Греция - Канада',\n",
       "       'Германия - Франция - Люксембург', 'США - Россия',\n",
       "       'Великобритания - США - Франция', 'США - Австралия - Дания',\n",
       "       'Бельгия-Франция', 'США-Мексика',\n",
       "       'Норвегия - Азербайджан - Россия - Колумбия - Великобритания - Венгрия - Румыния - Франция - Грузия',\n",
       "       'СЩА', 'Бразилия - Испания', 'Россия, Франция, Латвия',\n",
       "       'Нидерланды - США - Германия - Канада - Франция - Ирландия - Великобритания',\n",
       "       'Уругвай - Колумбия', 'США - Испания - Болгария',\n",
       "       'Армения - Германия', 'США - Великобритания- Франция - Швеция',\n",
       "       'США - Мексика', 'Австралия-Турция-США', 'Швеция - Германия',\n",
       "       'Польша - Италия - Россия', 'Франция - Бразилия',\n",
       "       'США - Канада - КНР', 'СССР, Венгрия, ЧССР, ГДР',\n",
       "       'Бельгия - Германия - Люксембург', 'СССР  ', 'СССР ', ' СССР ',\n",
       "       'США - Австралия', 'Бразилия - США',\n",
       "       'США - Великобритания - Канада - КНР', 'Франция - Чили',\n",
       "       'Франция - США - Великобритания - Колумбия - Бельгия - Россия',\n",
       "       'Дания - Великобритания - ЮАР', 'СССР   ',\n",
       "       'Россия-США-Канада-Люксембург', 'Россия - Республика Кипр',\n",
       "       'Германия - США - Швеция - Франция',\n",
       "       'Великобритания-Германия-Канада-ЮАР', ' СССР   ', 'СССР     ',\n",
       "       'Ирландия, Канада',\n",
       "       'Япония - Великобритания - Швейцария - Ирландия - Дания - Франция - Польша - Австралия - Канада  ',\n",
       "       'Великобритания, Канада', 'Бельгия - США',\n",
       "       'Великобритания - США - Россия', 'Россия-Украина',\n",
       "       'Германия - США - Великобритания - Израиль', 'Канада - Германия',\n",
       "       'США- Ю.Корея', 'Индия - Мексика',\n",
       "       'Великобритания - Франция - Республика Кипр - Швейцария - США - Сербия',\n",
       "       'Испания - Аргентина - Индия - США',\n",
       "       'Норвегия - Исландия - США - Великобритания ',\n",
       "       'Турция - Германя - Франция', 'Германия - Великобритания',\n",
       "       'Австралия - Германия', 'Мексика - Испания',\n",
       "       'Великобритания - США - Германия - Бельгия',\n",
       "       'США - Чехия - Франция', 'Россия - Италия', 'Франция-Россия',\n",
       "       'Норвегия - Дания - Швеция', 'Франция - Швейцария - Германия',\n",
       "       'Грузия - Украина', 'Россия - Эстония - Финляндия - Беларусь',\n",
       "       'США - Франция - ЮАР', 'Великобритания - США - Швейцария',\n",
       "       'Канада-США', 'Мексика - Нидерланды - Германия - Франция',\n",
       "       'США - Испания - Франция', 'США - Великобритания - КНР',\n",
       "       'США-Франция-Канада',\n",
       "       'Япония, Великобритания, Австрия, Германия, Ю.Корея',\n",
       "       'Великобритания - Ирландия - США', 'Бельгия - Италия - Франция ',\n",
       "       'Швейцария-Германия-ЮАР', 'Великобритания - США - Германия',\n",
       "       'Германия - Исландия', 'Испания - США', 'СССР    ', 'Хорватия',\n",
       "       'Финляндия - Исландия - Швеция',\n",
       "       'Канада - США - Германия - Франция',\n",
       "       'США - Великобритания - Испания', 'Ирландия-Великобритания',\n",
       "       'Аргентина - Испания', 'Австрия - Германия', ' СССР',\n",
       "       'Германия - Швейцария - Франция - Южная Корея - США',\n",
       "       'Украина - Нидерланды', 'Венгрия - Германия - Швеция',\n",
       "       'Германия - Франция -  Польша - Турция - Канада - Италия - Россия ',\n",
       "       'СССР, Афганистан', 'СССР, Монголия', 'Россия-Кипр',\n",
       "       'Россия, Грузия, Испания',\n",
       "       'Великобритания - Нидерланды - Германия - Франция - Бельгия - Австрия ',\n",
       "       'Испания - Великобритания - Франция',\n",
       "       'Дания - Норвегия - Великобритания',\n",
       "       'Бельгия - Франция - Люксембург',\n",
       "       'Италия - Франция - Швейцария - Великобритания',\n",
       "       'Франция - Бельгия - Великобритания - Испания - Германия - США',\n",
       "       'Швейцария - Израиль - Франция - Великобритания',\n",
       "       'Великобритания - США - Канада - Нидерланды - Франция',\n",
       "       'Россия, Италия', 'СССР, Албания',\n",
       "       'Россия, Украина, Республика Беларусь, Литва',\n",
       "       'Финляндия - Великобритания - Германия', 'Россия, Украина, Польша',\n",
       "       'Франция - Италия - Бельгия - КНР',\n",
       "       'Германия - Бельгия - Люксембург - Ирландия', 'КНР - Сингапур',\n",
       "       'Франция - Бельгия - Великобритания - США - Нидерланды - Канада',\n",
       "       'США - Россия - Польша - Германия - Пуэрто Рико',\n",
       "       'Франция - Бельгия - Канада', 'США ', 'Мексика - США',\n",
       "       'США - Гонконг - КНР ', 'Греция - Россия',\n",
       "       'Ирландия - Дания - Бельгия - Люксембург - Франция',\n",
       "       'Эстония - Россия',\n",
       "       'Великобритания - Исландия - Испания - Швейцария - США',\n",
       "       'Австралия - Великобритания - Бельгия - Индия',\n",
       "       'Швеция - Германия - Франция - Норвегия',\n",
       "       'Нидерланды - Бельгия - Германия - Ирландия',\n",
       "       'Нидерланды - Великобритания - Бельгия',\n",
       "       'США - Колумбия - Испания', 'Франция-Испания-Бельгия-Панама',\n",
       "       'США-Великобритания-Чехия-Румыния',\n",
       "       'Аргентина - Уругвай - Россия - Германия - Франция - Нидерланды',\n",
       "       'Швеция - Франция - Норвегия - Дания',\n",
       "       'Италия-Франция-Великобритания', 'Великобритания, Франция',\n",
       "       'Австралия, США', 'Венесуэла',\n",
       "       'Великобритания - США - Австралия - Ирландия - Германия - Куба - Канада',\n",
       "       'Южная Корея - КНР',\n",
       "       'Аргентина - Мексика - Бразилия - Франция - США', 'Швеция - США',\n",
       "       'Франция - Германия - Турция - Катар', 'Франция-Китай',\n",
       "       'Россия, Германия, Великобритания',\n",
       "       'Великобритания - Италия - Испания', 'Италия - Россия',\n",
       "       'Япония - КНР - Южная Корея', 'Россия, Германия',\n",
       "       'Россия-Ирландия', 'Македония - Франция - Великобритания',\n",
       "       'Франция - Бразилия - Италия', 'Россия-США', 'Армения-Россия',\n",
       "       'Россия, Румыния', 'Франция -  Бельгия', 'Грузия-Франция',\n",
       "       'ЮАР - США', 'Великобритания-США-Франция',\n",
       "       'Великобритания - США - Германия - Канада - Австралия',\n",
       "       'США-Ирландия', 'Россия, Республика Кипр',\n",
       "       'Германия - Люксембург - Франция', 'Россия-Франция',\n",
       "       'США - Нидерланды - Финляндия - Великобритания - Италия',\n",
       "       'Республика Кипр', 'Венгрия', 'Франция - США - Норвегия - Дания',\n",
       "       'Германия - Австрия - Ирландия', 'США - Финляндия',\n",
       "       'Италия-Великобритания', 'Россия, Испания',\n",
       "       'США - Великобритания - Болгария', 'Великобритания - Люксембург',\n",
       "       'Индия - США', 'США - Канада - Россия - Франция - Чили - Ирландия',\n",
       "       'Грузия-Россия',\n",
       "       'Дания - Австрия - Ирландия - Финляндия - Норвегия - Швеция - Нидерланды',\n",
       "       'США-КНР', 'Грузия', 'Австралия - Ирландия',\n",
       "       'Великобритания - Канада', 'Италия - Аргентина - Словения ',\n",
       "       'Испания - Франция - Нидерланды - Германия - Бельгия - Великобритания - Канада',\n",
       "       'Франция - Чехия - Бельгия',\n",
       "       'Великобритания - Франция - Германия - США',\n",
       "       'Ирландия - Великобритания - Франция - США - Германия - Нидерланды',\n",
       "       'США - Канада - Япония - КНР', 'Италия-Франция',\n",
       "       'США - Великобритания - Исландия', 'Великобритания-Франция',\n",
       "       'Франция - Германия - Нидерланды', 'Иран ',\n",
       "       'Франция - Германия - Швеция - США - Чехия - Словакия - Великобритания - Нидерланды',\n",
       "       'Франция - Канада - Н.Зеландия - США - Нидерланды - Германия - Швеция - Россия',\n",
       "       'Турция - США',\n",
       "       'Великобритания - США - Канада - Бельгия - Нидерланды - Австрия - Германия',\n",
       "       'Израиль - Франция - Германия - Палестина - США - Австрия - Великобритания',\n",
       "       'Аргентина - Франция - Испания', 'СССР, Россия',\n",
       "       'Великобритания - Франция - Италия - Индия - Дания - КНР - Бангладеш - Камбоджа - Гаити - Уганда',\n",
       "       'Италия - Франция - Швейцария',\n",
       "       'Ирландия - Великобритания - Канада', 'Перу', 'США - Норвегия',\n",
       "       'Испания-Канада', 'Китай-Гонконг', 'США - Германия - КНР',\n",
       "       'Великобритания - Новая Зеландия',\n",
       "       'Франция - Дания - Швеция - КНР',\n",
       "       'США - Великобритания - Германия - Бельгия - Дания',\n",
       "       'США - Франция - Канада - Германия - Австралия - Индия',\n",
       "       'неизвестно', 'СССР, Румыния, Франция', 'СССР, ГДР',\n",
       "       'Австралия-Ирландия', 'США - Китай',\n",
       "       'Великобритания - Франция - Австрия - Швеция',\n",
       "       'Россия, Таджикистан', 'Нидерланды - Бельгия - Болгария',\n",
       "       'Великобритания - Канада - США', 'Франция - Бельгия - Испания',\n",
       "       'Китай-Гонконг-США', 'Франция - Великобритания', 'США - Вьетнам',\n",
       "       'США - Германия - Франция', 'Германия - Франция - Бельгия',\n",
       "       'США - Италия',\n",
       "       'Германия - Дания - Испания - Швеция - Канада - Эстония - Франция',\n",
       "       'Княжество Андорра - Украина', 'Германия - Люксембург - Бельгия',\n",
       "       'Великобритания - Россия - Украина - США',\n",
       "       'Германия - Бельгия - Люксембург - Норвегия',\n",
       "       'США - Австралия - Новая Зеландия - Великобритания',\n",
       "       'США - Франция - Канада - Великобритания', 'Испания-Колумбия',\n",
       "       'Великобритания - Чехия - Франция', 'Россия, Украина', 'Исландия',\n",
       "       'Великобритания - Франция - Венгрия',\n",
       "       'Россия, Франция, Германия, Бельгия', 'Франция - Македония',\n",
       "       'Нидерланды - Франция - Германия - Бельгия - Швеция - Великобритания',\n",
       "       'Испания - США - Великобритания - Канада', 'Германия - Австрия',\n",
       "       'Республика Казахстан',\n",
       "       'Франция - Испания - Дания - Венгрия - Швейцария', 'Франция-КНР',\n",
       "       'США - Пуэрто-Рико - Франция ', 'Мексика - Тайвань - США',\n",
       "       'Великобритания - Испания - Непал - Индия - Венгрия - Гонконг - Германия - Дания - Бахрейн',\n",
       "       'Великобритания - Аргентина - США - Франция - Россия - Испания',\n",
       "       'КНР - США', 'Италия - США', 'Финляндия - Швеция - Германия',\n",
       "       'Канада- Испания', 'Франция - Бельгия - Чехия',\n",
       "       'Франция-Бельгия-Канада', 'Франция - Германия - США',\n",
       "       'США - Дания', 'Индия - КНР', 'Чехия-Великобритания-США',\n",
       "       'США-ФРГ-Россия', 'Ирландия-Нидерланды-Франция-США-Великобритания',\n",
       "       'Россия, Грузия, Хорватия, Испания',\n",
       "       'Финляндия - Швеция - Норвегия', 'Сербия - Великобритания - США',\n",
       "       'США - Великобритания - Франция - Гонконг', 'Швейцария - Франция',\n",
       "       'Швейцария - Великобритания', 'ОАЭ - США',\n",
       "       'США - Франция - Германия - Канада - Австралия ',\n",
       "       'Германия - Австралия', 'Иран, Франция',\n",
       "       'США - Великобритания - Новая Зеландия', 'США-Колумбия',\n",
       "       'США-Франция-Ирландия', 'Великобритания - Франция - Бельгия',\n",
       "       'США - Великобритания - Япония', 'США - Франция - Германия',\n",
       "       'Польша - Ирландия', 'Ирландия - Великобритания - Франция - США',\n",
       "       'США - Бельгия - Великобритания', 'СССР, ВНР',\n",
       "       'Испания - Франция - США - Великобритания - Бельгия',\n",
       "       'Франция - Дания - США', 'США - Гонконг', 'Бразилия - К;анада',\n",
       "       'Франция-Германия', 'США - Колумбия',\n",
       "       'США - Ирландия - Великобритания - Франция',\n",
       "       'Великобритания - США - Канада', 'Польша - Франция',\n",
       "       'Канада - США - Нидерланды - Великобритания - Аргентина',\n",
       "       'Великобритания - Дания', 'Франция - Бельгия - Япония',\n",
       "       'Россия,  Испания', 'Франция -Бельгия',\n",
       "       'США - Канада - Германия - Франция', 'США-Канада-Франция',\n",
       "       'Россия - Германия', 'Россия-Италия', 'Китай - Гонконг',\n",
       "       'Германия-Австрия-Франция-Италия', 'США-Япония',\n",
       "       'США - Германия - Канада', 'Испания-Мексика',\n",
       "       'США - Япония - Канада - Великобритания - Германия - Франция',\n",
       "       'США -Великобритания - Австралия', 'Россия-Украина-Германия',\n",
       "       'Израиль - Франция - Великобритания - Германия', 'Корея',\n",
       "       'Россия - Болгария', 'США-Индия',\n",
       "       'Германия-Канада-Франция-Бельгия', 'Германия-Кения',\n",
       "       'Франция - Монако', 'Франция-Испания-Швейцария',\n",
       "       'Австрия-Франция-Германия', 'Румыния',\n",
       "       'США-Великобритания-Франция', 'Канада-Великобритания',\n",
       "       'Канада-Бразилия-Япония', 'Германия - Дания - Норвегия',\n",
       "       'Дания - Германия', 'СССР - Италия',\n",
       "       'СССР - ГДР - Польша - Италия',\n",
       "       'США - Испания - Франция - Великобритания', 'Китай',\n",
       "       'Мексика-Аргентина',\n",
       "       'Германия - Великобритания - Италия - Испания',\n",
       "       'Франция-Германия-Великобритания', 'Россия - Германия - Швейцария',\n",
       "       'Франция-Австралия', 'Голландия', 'Швейцария-Франция',\n",
       "       'Россия-Белоруссия', 'Франция - Испания - Тайвань',\n",
       "       'США-Южная Корея-Новая Зеландия', 'Великобритания-Венгрия',\n",
       "       'Россия-Германия', 'Великобритания-Франция-Германия',\n",
       "       'Франция-Германия-Италия', 'Швеция-Финляндия-Франция-Норвегия',\n",
       "       'Франция-Италия', 'Германия-Израиль',\n",
       "       'Швеция - Германия - Дания - Норвегия', 'США-Бельгия',\n",
       "       'Франция-Гонконг-Ирландия', 'Эстония', 'Литва-Россия-Украина',\n",
       "       'Германия - Италия - Франция',\n",
       "       'Великобритания - Австрия - Германия', 'Бельгия - Франция',\n",
       "       'Россия-Казахстан', 'Испания - Мальта',\n",
       "       'Франция-Россия-Румыния-Италия-Бельгия', 'Россия - Польша',\n",
       "       'Испания - Мексика', 'США-Аргентина', 'Великобритания ',\n",
       "       'Израиль-США-Франция', 'США - Новая Зеландия - Япония',\n",
       "       'Франция - Чехия - Великобритания', 'Россия-Польша',\n",
       "       'Германия-Франция-Великобритания', 'США-Германия-Канада',\n",
       "       'США-Гонконг-Китай', 'США - Великобритания - Германия',\n",
       "       'США-Канада-Австралия', 'Япония-США-Франция',\n",
       "       'Франция-Испания-Германия', 'США - Хорватия - Босния-Герцеговина',\n",
       "       'Великобритания - Чехия - Франция - Италия',\n",
       "       'США - Германия - Нидерланды', 'Германия - Франция - Канада',\n",
       "       'Франция-Грузия-Германия-Россия-Украина-Бельгия',\n",
       "       'Великобритания - Франция - Италия', 'Россия - США',\n",
       "       'Франция - Италия - Иран', 'Россия - Азербайджан', 'Греция',\n",
       "       'Дания - США', 'США-Великобритания-Новая Зеландия',\n",
       "       'США-Германия-Австралия', 'США-Канада-Италия',\n",
       "       'США - Япония - Германия', 'Австралия-США',\n",
       "       'Франция - Великобритания - Багамские острова - США',\n",
       "       'Швейцария - Люксембург', 'Швейцария - Австрия',\n",
       "       'Германия - Швейцария', 'Дания-Швеция-Франция-Германия', 'Польша',\n",
       "       'Швейцария-Австрия', 'Бразилия - Канада - США',\n",
       "       'Нидерланды - Россия', 'Португалия', 'Франция-Аргентина',\n",
       "       'Швеция-Франция', 'Франция-Украина', 'Германия-Украина-Нидерланды',\n",
       "       'Италия-Швейцария', 'США-Германия-Великобритания',\n",
       "       'Латвия - Россия', 'Германия-Франция-Великобритания-США',\n",
       "       'Канада - Италия', 'США - Объединенные Арабские Эмираты',\n",
       "       'США-Венгрия', 'Малайзия', 'Россия - Германия - Украина',\n",
       "       'США - Австралия - Мексика', 'Литва - Венгрия', 'Германия - Китай',\n",
       "       'Казахстан', 'Республика Корея',\n",
       "       'США - Германия - Франция - Великобритания - Канада ',\n",
       "       'Бельгия - Германия - Люксембург - Франция', 'Франция - Греция',\n",
       "       'Италия - Канада', 'США - Великобритания - Франция',\n",
       "       'США-Италия-Греция', 'Германия - США - Великобритания - Ирландия',\n",
       "       'Великобритания - Франция - Германия',\n",
       "       'Германия - Нидерланды - ЮАР',\n",
       "       'США-Япония-Германия-Великобритания-Нидерланды',\n",
       "       'США-Япония-Германия-Великобритания',\n",
       "       'Германия - Франция - Польша',\n",
       "       'Таиланд-Великобритания-Франция-Германия-Испания-Нидерланды',\n",
       "       'Германия-Италия-Швейцария',\n",
       "       'Дания - Швеция - Великобритания - Франция - Германия - Нидерланды - Норвегия - Финляндия',\n",
       "       'Франция - Великобритания - Нидерланды - Люксембург',\n",
       "       'Нидерланды-Великобритания-Франция-Италия-Япония',\n",
       "       'Финляндия-Дания-Германия-Ирландия', 'Испания-Аргентина',\n",
       "       'Великобритания - Нидерланды - Франция - США', 'Канада - Мексика',\n",
       "       'США, Франция', 'Канада-Южная Корея-США',\n",
       "       'Великобритания - Франция - Бельгия - США', 'КНР - Канада - США',\n",
       "       'Италия - Франция - Германия',\n",
       "       'Швеция - Германия - Франция - Дания', 'Франция - США - Бельгия',\n",
       "       'Украина - Германия - Латвия - Эстония', 'Австрия - Люксембург',\n",
       "       'Великобритания - КНР', 'Монголия', 'Франция - Дания',\n",
       "       'Швеция - Дания - Финляндия',\n",
       "       'Сингапур - Великобритания - Индонезия - Канада - США',\n",
       "       'США - Германия - Япония', 'Таиланд - США', 'Франция - Нидерланды',\n",
       "       'Великобритания - Румыния', 'США - Мальта',\n",
       "       'Великобритания - Германия - Нидерланды - Дания',\n",
       "       'Франция - Германия - Литва - Нидерланды - Россия',\n",
       "       'США - ЮАР - Гонконг', 'Австралия - Колумбия',\n",
       "       'Великобритания - Польша', 'США - Великобритания - Швеция',\n",
       "       'Франция - Швеция - Дания - Норвегия', 'Болгария - США',\n",
       "       'СССР, ФРГ', 'Бельгия - Нидерланды - Франция',\n",
       "       'Финляндия - Германия', 'Болгария',\n",
       "       'Грузия - Россия - Украина - Хорватия - Германия',\n",
       "       'Франция - Люксембург', 'Франция - Германия - Австрия',\n",
       "       'Норвегия - США', 'Германия-Швеция', 'Франция - Германия - Италия',\n",
       "       'Франция-Германия-Австрия', 'КНР-США',\n",
       "       'Великобритания - Ирландия - США ',\n",
       "       'Дания - Латвия - Россия - США', 'Финляндия - Польша',\n",
       "       'Германия - Бельгия', 'Германия - США - Франция - Испания',\n",
       "       'Бельгия-Германия-Канада-Франция-США-Великобритания',\n",
       "       'Нидерланды - Бельгия - Люксембург', 'Канада-Германия',\n",
       "       'Люксембург - Бельгия - Франция', 'США-Великобритания-Австралия',\n",
       "       'Великобритания, Новая Зеландия', 'Бельгия, Великобритания, США',\n",
       "       'Великобритания, Австралия', 'Исландия, Бельгия',\n",
       "       'Испания - Швейцария - Великобритания - Германия - Новая Зеландия - Нидерланды - Канада',\n",
       "       'Франция, Бельгия', 'Великобритания, США', 'Киргизия-Россия',\n",
       "       'Германия, США', 'Великобритания, США, Испания',\n",
       "       'Италия - Швейцария - Германия', 'Россия, Армения',\n",
       "       'Франция, Германия', 'Китай, Канада, США', 'Германия, Австралия',\n",
       "       'КНР, США', 'США, Великобритания, Люксембург',\n",
       "       'Испания, Ирландия, Бельгия, Франция',\n",
       "       'Великобритания - Гонконг - Венгрия - США - Ирландия',\n",
       "       'США - Пуэрто Рико', 'Аргентина - Испания - Уругвай',\n",
       "       'Израиль - Германия - Франция - Швейцария',\n",
       "       'Великобритания - Мексика - США', 'Испания - Болгария - США',\n",
       "       'Россия-Словакия-Чехия',\n",
       "       'Швейцария - КНР - США - Россия - Республика Корея - Великобритания',\n",
       "       'Россия, Нидерланды, Финляндия',\n",
       "       'Испания - Бельгия - Франция - Португалия - Великобритания',\n",
       "       'Бразилия - Португалия - Франция', 'Швеция - Норвегия',\n",
       "       'Франция - Польша - Бельгия', 'CША', 'Китай, США',\n",
       "       'Италия, Франция, Германия', 'Германия - Австрия - Франция',\n",
       "       'Чехия - Словакия - Хорватия', 'Россия, Польша, Финляндия',\n",
       "       'Россия, Латвия, Чешская Республика',\n",
       "       'Франция - Великобритания - Камбоджа - США - КНР',\n",
       "       'Чехия - Испания - США', 'Германия - Люксембург - Дания',\n",
       "       'Великобритания - Испания - Германия', 'Дания - Исландия',\n",
       "       'Германия, Франция, Великобритания',\n",
       "       'Великобритания - Испания - Италия - Латвия - Франция - Эстония',\n",
       "       'Дания, Швеция, Великобритания, Франция, Германия, Норвегия, Финляндия, Нидерланды, Италия',\n",
       "       'Польша - Франция - Великобритания',\n",
       "       'Дания, Норвегия, Венгрия, Чехия',\n",
       "       'Дания - Франция - Германия - Швеция',\n",
       "       'Великобритания, Швеция, США',\n",
       "       'Канада, Франция, Италия, Швейцария, США', 'США, Индия',\n",
       "       'США - Великобритания - Германия - - Швеция - Канада',\n",
       "       'Италия, Франция', 'Республика Беларусь, Германия, США, Россия',\n",
       "       'Италия-Швейцария-Франция-Германия ',\n",
       "       'Россия - Франция - Великобритания - Латвия', 'Россия-Беларусь',\n",
       "       'Франция - Испания - Румыния - США - Бельгия', 'Италия-США',\n",
       "       'Россия, Австрия', 'Ирландия - Великобритания - США',\n",
       "       'Швейцария, Великобритания, Франция, США, Ирландия',\n",
       "       'Мексика, Франция, Германия, Дания, Швеция', 'Нидерланды, Бельгия',\n",
       "       'Швеция, Норвегия, Финляндия, Франция', 'Испания, Франция, Италия',\n",
       "       'Испания-Франция-Греция-Индия-США-Россия-Великобритания',\n",
       "       'Великобритания - Япония - США',\n",
       "       'Дания, Канада, Норвегия, Австралия, США', 'Аргентина, Испания',\n",
       "       'Россия, Германия, Казахстан, Польша, Китай',\n",
       "       'Португалия, Франция, Польша, США', 'США - Канада - Аргентина',\n",
       "       'Ливан-США', 'Япония - США', 'США, Гонконг ',\n",
       "       'Франция - Россия - Швейцария - Румыния - Венгрия',\n",
       "       'Аргентина-Испания', 'Россия, Сербия', 'США - Болгария - Мексика',\n",
       "       'США - Великобритания - Швейцария - Франция',\n",
       "       'Таиланд - КНР - США',\n",
       "       'Великобритания, Нидерланды, Польша, Швейцария, Франция',\n",
       "       'Ирландия - США',\n",
       "       'Германия - Франция - Великобритания - Польша - США',\n",
       "       'Великобритания-Франция-Италия', 'США - Австралия - Индия',\n",
       "       'Франция - КНР', 'Великобритания - Израиль',\n",
       "       'Великобритания - Норвегия - Кения - Хорватия',\n",
       "       'США - Бразилия - Великобритания - Канада', 'Германия, Бельгия',\n",
       "       'Австралия, Канада', 'США, Великобритания, Франция',\n",
       "       'Кения, Германия', 'Нидерланды, Бельгия, Люксембург', 'Колумбия',\n",
       "       'Латвия - Франция', 'Ирландия, Великобритания',\n",
       "       'Франция - Израиль - Германия', 'Швеция, Франция, Великобритания',\n",
       "       'Бельгия - Люксембург', 'Германия - Бельгия - Великобритания',\n",
       "       'Испания, Франция, Великобритания, Дания, Бельгия, Германия',\n",
       "       'Румыния, ЮАР, Иран, Франция, Канада, Великобритания',\n",
       "       'Германия, Франция', 'США, Япония',\n",
       "       'США, Великобритания, Ирландия, Люксембург', 'Республика Армения',\n",
       "       'США, Франция, Япония', 'Япония, США', 'Канада, США',\n",
       "       'Республика Кипр - Россия',\n",
       "       'Дания - Франция - Италия - Бельгия - Нидерланды',\n",
       "       'Россия - Грузия', 'Италия, Германия', 'Норвегия, Швеция, Дания',\n",
       "       'Республика Кипр, Россия', 'КНР, Индия, Гонконг, США',\n",
       "       'Израиль, Украина', 'США, Россия', 'США - КНР - Индия - Ю.Корея',\n",
       "       'США - Швеция', 'Франция, Канада', 'Россия-Китай',\n",
       "       'Канада, Великобритания', 'США, Германия',\n",
       "       'Канада, США, Каймановы острова',\n",
       "       'Бразилия, Уругвай, Дания, Норвегия, Чили, Швеция',\n",
       "       'Пуэрто-Рико, Великобритания, США',\n",
       "       'Уругвай - Аргентина - Испания',\n",
       "       'США - Великобритания - Италия - Израиль - Сербия - Индия',\n",
       "       'США - Канада - Франция - Индия', 'Великобритания - Россия - КНР',\n",
       "       'Франция, Новая Зеландия', 'Франция, Люксембург, Бельгия',\n",
       "       'Канада, США, Норвегия', 'Италия, Испания',\n",
       "       'Испания - Германия - Нидерланды', 'Бразилия - США - КНР ',\n",
       "       'Великобритания, Германия, Дания, США', '2019',\n",
       "       'Италия - Фрация - Бразилия - Германия',\n",
       "       'Норвегия - Швеция - Россия', 'Великобритания, Япония, США',\n",
       "       'Сша, Канада', 'Бельгия, Канада',\n",
       "       'Великобритания - Австралия - США', 'США, Канада', 'КНР - США ',\n",
       "       'Франция - Финляндия', 'Колумбия - США',\n",
       "       'Великобритания, Франция, Бельгия', 'Норвегия - Нидерланды',\n",
       "       'Великобритания, Канада, США', 'Япония, Великобритания',\n",
       "       'Италия - Бельгия - Франция', 'Россия, Бельгия, Финляндия',\n",
       "       'США, Украина', 'Франция, Норвегия',\n",
       "       'Великобритания, Южная Корея, Канада, США, Индия, Китай, Япония',\n",
       "       'Канада - Норвегия', 'Республика Кипр-Россия', 'Германия, Россия',\n",
       "       'Польша - Франция - Испания - Бразилия - Швеция',\n",
       "       'Австрия, Великобритания, Германия', 'Франция - Сенегал - Бельгия',\n",
       "       'Франция, Бельгия, Люксембург', 'Финляндия, Латвия', 'Пакистан',\n",
       "       'Германия, Франция, США', 'Германия - Великобритания - США',\n",
       "       'КНР - Франция', 'Дания, Норвегия, Швеция, Исландия',\n",
       "       'Республика Кипр, США, Россия', 'Новая Зеландия - КНР',\n",
       "       'Дания - Канада - Швеция - Франция - Германия - Великобритания - США'],\n",
       "      dtype=object)"
      ]
     },
     "execution_count": 29,
     "metadata": {},
     "output_type": "execute_result"
    }
   ],
   "source": [
    "data['production_country'].unique()"
   ]
  },
  {
   "cell_type": "markdown",
   "metadata": {},
   "source": [
    "Здесь мы можем обнаружить неодинаковые знаки разделения (-) и (,). Нужно привести их к одному, а также избавиться от лишних пробелов в строках"
   ]
  },
  {
   "cell_type": "code",
   "execution_count": 30,
   "metadata": {
    "scrolled": true
   },
   "outputs": [
    {
     "data": {
      "text/plain": [
       "array(['США', 'СССР', 'Франция', 'СССР,Венгрия',\n",
       "       'Германия,Великобритания', 'Великобритания,Италия', 'Чехословакия',\n",
       "       'США,Франция,Турция', 'НоваяЗеландия', 'Канада,Франция,Испания',\n",
       "       'США,Германия', 'США,Великобритания', 'Великобритания',\n",
       "       'Франция,Мексика,США', 'Россия,Казахстан,США', 'СССР,Швеция',\n",
       "       'СССР,Франция,Англия,Куба,ГДР', 'Германия',\n",
       "       'Великобритания,США,Германия,КНР', 'СССР,ЧССР,ЗападныйБерлин,ПНР',\n",
       "       'СССР,Италия', 'Гонконг,КНР', 'США,Франция',\n",
       "       'США,Япония,Франция,Великобритания',\n",
       "       'Гонконг,Сингапур,Таиланд,Великобритания', 'США,Канада',\n",
       "       'Франция,Италия,Великобритания,США', 'Франция,США',\n",
       "       'Ирландия,Великобритания,Германия', 'Чехия', 'США,Австралия',\n",
       "       'СССР,Финляндия', 'США,Франция,Великобритания,Австрия',\n",
       "       'США,Бельгия', 'США,Ирландия,Великобритания', 'Великобритания,США',\n",
       "       'Люксембург,Нидерланды,Испания,Великобритания,США,Италия',\n",
       "       'Великобритания,Франция,США', 'НоваяЗеландия,США',\n",
       "       'США,Великобритания,Чехия', 'Канада,Франция,Великобритания',\n",
       "       'Ирландия', 'Великобритания,Германия,США',\n",
       "       'США,Франция,Великобритания', 'Япония', 'СССР,Польша',\n",
       "       'Франция,Испания', 'Канада,Франция', 'Германия,Италия,США',\n",
       "       'Аргентина,Бразилия', 'Дания,Швейцария,Бельгия,Франция',\n",
       "       'США,Испания', 'Германия,США',\n",
       "       'Франция,Австрия,Германия,Италия,США', 'Австрия',\n",
       "       'США,Канада,Германия', 'СССР,Швейцария,Франция',\n",
       "       'Россия,Казахстан', 'Гонконг', 'Италия', 'США,ОАЭ', 'Россия',\n",
       "       'США,Франция,Испания,Великобритания', 'Великобритания,Франция',\n",
       "       'США,Италия,Испания,Аргентина', 'Франция,Великобритания',\n",
       "       'КНР,Гонконг', 'Франция,Италия,Швейцария', 'США,НоваяЗеландия',\n",
       "       'Франция,Бельгия', 'КНР', 'Германия,Великобритания,Австрия',\n",
       "       'Великобритания,Израиль,Франция,Япония,США', 'Швеция', 'Испания',\n",
       "       'Дания', 'Франция,Бельгия,Люксембург', 'США,Индия,ОАЭ',\n",
       "       'Германия,Канада,Великобритания,Швейцария,Франция', 'Мексика,Чили',\n",
       "       'Аргентина', 'Бразилия', 'Чили', 'Австралия', 'Португалия,Франция',\n",
       "       'США,ЮАР', 'Исландия,Ирландия,Германия', 'США,Индонезия',\n",
       "       'ЮжнаяКорея', 'Мексика,Испания,Дания,США', 'Франция,Италия',\n",
       "       'США,Венгрия,Великобритания', 'Бельгия,Франция,Италия',\n",
       "       'Чехия,Германия', 'Германия,Франция', 'США,Нидерланды', 'Украина',\n",
       "       'Великобритания,Германия', 'США,Франция,Испания', 'Италия,Франция',\n",
       "       'Канада', 'Швеция,Франция,Дания', 'Германия,Франция,Польша',\n",
       "       'Франция,Великобритания,Германия',\n",
       "       'США,Бразилия,Франция,Австралия,Великобритания,Германия',\n",
       "       'Германия,Австрия', 'Германия,Италия,Шри,Ланка',\n",
       "       'Великобритания,Испания', 'США,Великобритания,Канада,Швеция',\n",
       "       'БоснияиГерцеговина,Франция,Великобритания,Германия,Словения,Бельгия,Сербия',\n",
       "       'Великобритания,Франция,Италия,США', 'Испания,Франция',\n",
       "       'Великобритания,Австралия,США', 'Норвегия,Швеция,Дания,Германия',\n",
       "       'Норвегия', 'Швейцария', 'Греция,Германия,Франция', 'Норвения',\n",
       "       'ЮжнаяКорея,США', 'Чили,Франция,США', 'Австрия,Германия,Франция',\n",
       "       'Швеция,Дания', 'Великобритания,Франция,Бельгия,Италия',\n",
       "       'Франция,Германия', 'Грузия,Франция,Люксембург',\n",
       "       'США,Франция,Великобритания,Бразилия', 'США,КНР',\n",
       "       'Мексика,Франция', 'США,Германия,Гонконг,Сингапур',\n",
       "       'Финляндия,Австрия,Россия', 'Испания,Куба', 'Великобритания,ЮАР',\n",
       "       'Великобритания,Ирландия', 'Израиль',\n",
       "       'Бразилия,Германия,Порртугалия,Франция', 'Франция,Канада,Бельгия',\n",
       "       'Испания,Канада,Япония', 'Иран', 'Швеция,Куба',\n",
       "       'США,Великобритания,Ирландия', 'Нидерланды', 'Испания,Канада',\n",
       "       'Япония,Великобритания', 'Великобритания,Норвегия,Дания,Германия',\n",
       "       'Финляндия,Франция,Германия',\n",
       "       'Мексика,Франция,Нидерланды,Германия', 'США,Индия',\n",
       "       'США,Великобритания,Индия', 'США,Канада,Бельгия',\n",
       "       'РеспубликаУзбекистан', 'Турция',\n",
       "       'Сербия,Словения,Хорватия,Черногория,Македония', 'Киргизия',\n",
       "       'Германия,Нидерланды,Беларусь,Россия,Латвия', 'Индия',\n",
       "       'Нидерланды,Россия,Германия',\n",
       "       'Великобритания,Нидерланды,Франция,Хорватия', 'Канада,ЮжнаяКорея',\n",
       "       'Великобритания,Польша,КНР,Индия,Норвегия',\n",
       "       'Япония,Франция,США,ЮжнаяКорея,Турция',\n",
       "       'Мексика,Аргентина,Великобритания', 'Израиль,Франция',\n",
       "       'Польша,Португалия,Франция,Великобритания', 'Австралия,США',\n",
       "       'Франция,Люксембург,Бельгия', 'Армения',\n",
       "       'Бельгия,Люксембург,Франция,Швейцария',\n",
       "       'США,Великобритания,Канада', 'Норвегия,Швеция', 'КНР,Гонконг,США',\n",
       "       'США,Сингапур,Малайзия,Индонезия', 'Германия,Россия',\n",
       "       'Япония,Канада', 'Финляндия,Дания,Германия,Ирландия',\n",
       "       'Франция,Люксембург,Германия,Бельгия,Швейцария,Великобритания',\n",
       "       'Канада,США', 'США,Италия,Испания', 'США,Швейцария,Франция',\n",
       "       'Испания,США,Колумбия', 'Канада,ЮАР', 'Франция,Россия',\n",
       "       'Германия,Финляндия,Австралия', 'Дания,Швеция', 'Бельгия',\n",
       "       'Германия,Франция,Австрия', 'Франция,Индия', 'ЮАР', 'Франция,Перу',\n",
       "       'Франция,Канада', 'РеспубликаБеларусь',\n",
       "       'Великобритания,Австрия,Франция,США', 'США,Россия',\n",
       "       'США,ЮжнаяКорея', 'Канада,КНР',\n",
       "       'Дания,Швеция,Италия,Франция,Германия',\n",
       "       'Франция,Италия,Испания,Венгрия', 'Франция,Германия,Бельгия',\n",
       "       'Франция,Великобритания,Чехия', 'Румыния,Франция,Бельгия',\n",
       "       'Болгария,Франция,Изриль',\n",
       "       'Израиль,Германия,Польша,Бельгия,Франция,Люксембург',\n",
       "       'Россия,Германия,Франция,Бельгия', 'Индонезия',\n",
       "       'Франция,Португалия', 'Великобритания,Пуэрто,Рико',\n",
       "       'СССР,ФРГ,ЗападныйБерлин', 'Россия,РеспубликаБеларусь',\n",
       "       'Франция,Австрия', 'Бельгия,Нидерланды',\n",
       "       'Великобритания,США,Индия', 'США,Великобритания,Австралия',\n",
       "       'Канада,Франция,США,ОАЭ,Великобритания', 'США,Австралия,Франция',\n",
       "       'Дания,Франция,Бельгия,Германия,Великобритания',\n",
       "       'Испания,Аргентина', 'Исландия,Финляндия',\n",
       "       'Россия,Польша,Голландия,Словакия', 'Дания,Германия,Швеция',\n",
       "       'ЮжнаяКорея,США,Канада', 'Таиланд', 'США,Мальта',\n",
       "       'Великобритания,Германия,Франция,Кипр,США', 'Мексика',\n",
       "       'США,Украина', 'США,Финляндия,Испания,Великобритания,Франция',\n",
       "       'Австралия,Великобритания',\n",
       "       'США,Канада,Афганистан,Бельгия,Франция',\n",
       "       'США,Великобритания,Германия,НоваяЗеландия,Бельгия,Франция',\n",
       "       'Ирландия,Финляндия,Бельгия,Великобритания,США,Швейцария',\n",
       "       'Малайзия,США', 'Германия,Италия', 'США,Франция,Бельгия,Италия',\n",
       "       'Франция,Ирландия,Швеция', 'Азербайджан,Россия',\n",
       "       'Великобритания,Италия,Швейцария', 'США,Германия,Великобритания',\n",
       "       'Германия,Бельгия,США,Франция', 'США,Китай', 'Чили,Испания',\n",
       "       'Франция,Швейцария', 'Канада,Испания',\n",
       "       'США,Румыния,Великобритания', 'США,Япония', 'США,Россия,Франция',\n",
       "       'Парагвай', 'Германия,Канада', 'США,Канада,Великобритания',\n",
       "       'Финляндия,Канада', 'Уругвай,Мексика,Германия', 'США,Чили',\n",
       "       'Германия,Аргентина,Нидерланды,Чили', 'США,Канада,Индонезия',\n",
       "       'Армения,Казахстан', 'Финляндия', 'Испания,Италия,Франция',\n",
       "       'Бельгия,Испания,Канада,Нидерланды',\n",
       "       'Великобритания,Франция,Швеция,Бельгия',\n",
       "       'Мексика,Эквадор,Канада,США,Франция,Малайзия,Италия,Аргентина,Германия,Индия',\n",
       "       'Франция,Бенльгия', 'Индия,Великобритания',\n",
       "       'Япония,Великобритания,Франция', 'Испания,Уругвай,Аргентина',\n",
       "       'Франция,Италия,Бельгия,Люксембург',\n",
       "       'Франция,Украина,Грузия,Армения', 'Сербия,Германия,Венгрия',\n",
       "       'Франция,Польша', 'Румыния,США', 'Россия,Азербайджан',\n",
       "       'США,Нидерланды,Бельгия,Венгрия,Греция,Канада',\n",
       "       'Германия,Франция,Люксембург', 'Великобритания,США,Франция',\n",
       "       'США,Австралия,Дания', 'Бельгия,Франция', 'США,Мексика',\n",
       "       'Норвегия,Азербайджан,Россия,Колумбия,Великобритания,Венгрия,Румыния,Франция,Грузия',\n",
       "       'СЩА', 'Бразилия,Испания', 'Россия,Франция,Латвия',\n",
       "       'Нидерланды,США,Германия,Канада,Франция,Ирландия,Великобритания',\n",
       "       'Уругвай,Колумбия', 'США,Испания,Болгария', 'Армения,Германия',\n",
       "       'США,Великобритания,Франция,Швеция', 'Австралия,Турция,США',\n",
       "       'Швеция,Германия', 'Польша,Италия,Россия', 'Франция,Бразилия',\n",
       "       'США,Канада,КНР', 'СССР,Венгрия,ЧССР,ГДР',\n",
       "       'Бельгия,Германия,Люксембург', 'Бразилия,США',\n",
       "       'США,Великобритания,Канада,КНР', 'Франция,Чили',\n",
       "       'Франция,США,Великобритания,Колумбия,Бельгия,Россия',\n",
       "       'Дания,Великобритания,ЮАР', 'Россия,США,Канада,Люксембург',\n",
       "       'Россия,РеспубликаКипр', 'Германия,США,Швеция,Франция',\n",
       "       'Великобритания,Германия,Канада,ЮАР', 'Ирландия,Канада',\n",
       "       'Япония,Великобритания,Швейцария,Ирландия,Дания,Франция,Польша,Австралия,Канада',\n",
       "       'Великобритания,Канада', 'Бельгия,США',\n",
       "       'Великобритания,США,Россия', 'Россия,Украина',\n",
       "       'Германия,США,Великобритания,Израиль', 'Канада,Германия',\n",
       "       'США,Ю.Корея', 'Индия,Мексика',\n",
       "       'Великобритания,Франция,РеспубликаКипр,Швейцария,США,Сербия',\n",
       "       'Испания,Аргентина,Индия,США',\n",
       "       'Норвегия,Исландия,США,Великобритания', 'Турция,Германя,Франция',\n",
       "       'Австралия,Германия', 'Мексика,Испания',\n",
       "       'Великобритания,США,Германия,Бельгия', 'США,Чехия,Франция',\n",
       "       'Россия,Италия', 'Норвегия,Дания,Швеция',\n",
       "       'Франция,Швейцария,Германия', 'Грузия,Украина',\n",
       "       'Россия,Эстония,Финляндия,Беларусь', 'США,Франция,ЮАР',\n",
       "       'Великобритания,США,Швейцария',\n",
       "       'Мексика,Нидерланды,Германия,Франция', 'США,Испания,Франция',\n",
       "       'США,Великобритания,КНР', 'США,Франция,Канада',\n",
       "       'Япония,Великобритания,Австрия,Германия,Ю.Корея',\n",
       "       'Великобритания,Ирландия,США', 'Бельгия,Италия,Франция',\n",
       "       'Швейцария,Германия,ЮАР', 'Великобритания,США,Германия',\n",
       "       'Германия,Исландия', 'Испания,США', 'Хорватия',\n",
       "       'Финляндия,Исландия,Швеция', 'Канада,США,Германия,Франция',\n",
       "       'США,Великобритания,Испания', 'Ирландия,Великобритания',\n",
       "       'Аргентина,Испания', 'Австрия,Германия',\n",
       "       'Германия,Швейцария,Франция,ЮжнаяКорея,США', 'Украина,Нидерланды',\n",
       "       'Венгрия,Германия,Швеция',\n",
       "       'Германия,Франция,Польша,Турция,Канада,Италия,Россия',\n",
       "       'СССР,Афганистан', 'СССР,Монголия', 'Россия,Кипр',\n",
       "       'Россия,Грузия,Испания',\n",
       "       'Великобритания,Нидерланды,Германия,Франция,Бельгия,Австрия',\n",
       "       'Испания,Великобритания,Франция', 'Дания,Норвегия,Великобритания',\n",
       "       'Бельгия,Франция,Люксембург',\n",
       "       'Италия,Франция,Швейцария,Великобритания',\n",
       "       'Франция,Бельгия,Великобритания,Испания,Германия,США',\n",
       "       'Швейцария,Израиль,Франция,Великобритания',\n",
       "       'Великобритания,США,Канада,Нидерланды,Франция', 'СССР,Албания',\n",
       "       'Россия,Украина,РеспубликаБеларусь,Литва',\n",
       "       'Финляндия,Великобритания,Германия', 'Россия,Украина,Польша',\n",
       "       'Франция,Италия,Бельгия,КНР',\n",
       "       'Германия,Бельгия,Люксембург,Ирландия', 'КНР,Сингапур',\n",
       "       'Франция,Бельгия,Великобритания,США,Нидерланды,Канада',\n",
       "       'США,Россия,Польша,Германия,ПуэртоРико', 'Франция,Бельгия,Канада',\n",
       "       'Мексика,США', 'США,Гонконг,КНР', 'Греция,Россия',\n",
       "       'Ирландия,Дания,Бельгия,Люксембург,Франция', 'Эстония,Россия',\n",
       "       'Великобритания,Исландия,Испания,Швейцария,США',\n",
       "       'Австралия,Великобритания,Бельгия,Индия',\n",
       "       'Швеция,Германия,Франция,Норвегия',\n",
       "       'Нидерланды,Бельгия,Германия,Ирландия',\n",
       "       'Нидерланды,Великобритания,Бельгия', 'США,Колумбия,Испания',\n",
       "       'Франция,Испания,Бельгия,Панама',\n",
       "       'США,Великобритания,Чехия,Румыния',\n",
       "       'Аргентина,Уругвай,Россия,Германия,Франция,Нидерланды',\n",
       "       'Швеция,Франция,Норвегия,Дания', 'Италия,Франция,Великобритания',\n",
       "       'Венесуэла',\n",
       "       'Великобритания,США,Австралия,Ирландия,Германия,Куба,Канада',\n",
       "       'ЮжнаяКорея,КНР', 'Аргентина,Мексика,Бразилия,Франция,США',\n",
       "       'Швеция,США', 'Франция,Германия,Турция,Катар', 'Франция,Китай',\n",
       "       'Россия,Германия,Великобритания', 'Великобритания,Италия,Испания',\n",
       "       'Италия,Россия', 'Япония,КНР,ЮжнаяКорея', 'Россия,Германия',\n",
       "       'Россия,Ирландия', 'Македония,Франция,Великобритания',\n",
       "       'Франция,Бразилия,Италия', 'Россия,США', 'Армения,Россия',\n",
       "       'Россия,Румыния', 'Грузия,Франция', 'ЮАР,США',\n",
       "       'Великобритания,США,Германия,Канада,Австралия', 'США,Ирландия',\n",
       "       'Германия,Люксембург,Франция', 'Россия,Франция',\n",
       "       'США,Нидерланды,Финляндия,Великобритания,Италия', 'РеспубликаКипр',\n",
       "       'Венгрия', 'Франция,США,Норвегия,Дания',\n",
       "       'Германия,Австрия,Ирландия', 'США,Финляндия',\n",
       "       'Италия,Великобритания', 'Россия,Испания',\n",
       "       'США,Великобритания,Болгария', 'Великобритания,Люксембург',\n",
       "       'Индия,США', 'США,Канада,Россия,Франция,Чили,Ирландия',\n",
       "       'Грузия,Россия',\n",
       "       'Дания,Австрия,Ирландия,Финляндия,Норвегия,Швеция,Нидерланды',\n",
       "       'Грузия', 'Австралия,Ирландия', 'Италия,Аргентина,Словения',\n",
       "       'Испания,Франция,Нидерланды,Германия,Бельгия,Великобритания,Канада',\n",
       "       'Франция,Чехия,Бельгия', 'Великобритания,Франция,Германия,США',\n",
       "       'Ирландия,Великобритания,Франция,США,Германия,Нидерланды',\n",
       "       'США,Канада,Япония,КНР', 'США,Великобритания,Исландия',\n",
       "       'Франция,Германия,Нидерланды',\n",
       "       'Франция,Германия,Швеция,США,Чехия,Словакия,Великобритания,Нидерланды',\n",
       "       'Франция,Канада,Н.Зеландия,США,Нидерланды,Германия,Швеция,Россия',\n",
       "       'Турция,США',\n",
       "       'Великобритания,США,Канада,Бельгия,Нидерланды,Австрия,Германия',\n",
       "       'Израиль,Франция,Германия,Палестина,США,Австрия,Великобритания',\n",
       "       'Аргентина,Франция,Испания', 'СССР,Россия',\n",
       "       'Великобритания,Франция,Италия,Индия,Дания,КНР,Бангладеш,Камбоджа,Гаити,Уганда',\n",
       "       'Италия,Франция,Швейцария', 'Ирландия,Великобритания,Канада',\n",
       "       'Перу', 'США,Норвегия', 'Китай,Гонконг', 'США,Германия,КНР',\n",
       "       'Великобритания,НоваяЗеландия', 'Франция,Дания,Швеция,КНР',\n",
       "       'США,Великобритания,Германия,Бельгия,Дания',\n",
       "       'США,Франция,Канада,Германия,Австралия,Индия', 'неизвестно',\n",
       "       'СССР,Румыния,Франция', 'СССР,ГДР',\n",
       "       'Великобритания,Франция,Австрия,Швеция', 'Россия,Таджикистан',\n",
       "       'Нидерланды,Бельгия,Болгария', 'Великобритания,Канада,США',\n",
       "       'Франция,Бельгия,Испания', 'Китай,Гонконг,США', 'США,Вьетнам',\n",
       "       'США,Германия,Франция', 'Германия,Франция,Бельгия', 'США,Италия',\n",
       "       'Германия,Дания,Испания,Швеция,Канада,Эстония,Франция',\n",
       "       'КняжествоАндорра,Украина', 'Германия,Люксембург,Бельгия',\n",
       "       'Великобритания,Россия,Украина,США',\n",
       "       'Германия,Бельгия,Люксембург,Норвегия',\n",
       "       'США,Австралия,НоваяЗеландия,Великобритания',\n",
       "       'США,Франция,Канада,Великобритания', 'Испания,Колумбия',\n",
       "       'Великобритания,Чехия,Франция', 'Исландия',\n",
       "       'Великобритания,Франция,Венгрия',\n",
       "       'Россия,Франция,Германия,Бельгия', 'Франция,Македония',\n",
       "       'Нидерланды,Франция,Германия,Бельгия,Швеция,Великобритания',\n",
       "       'Испания,США,Великобритания,Канада', 'РеспубликаКазахстан',\n",
       "       'Франция,Испания,Дания,Венгрия,Швейцария', 'Франция,КНР',\n",
       "       'США,Пуэрто,Рико,Франция', 'Мексика,Тайвань,США',\n",
       "       'Великобритания,Испания,Непал,Индия,Венгрия,Гонконг,Германия,Дания,Бахрейн',\n",
       "       'Великобритания,Аргентина,США,Франция,Россия,Испания', 'КНР,США',\n",
       "       'Италия,США', 'Финляндия,Швеция,Германия', 'Франция,Бельгия,Чехия',\n",
       "       'Франция,Германия,США', 'США,Дания', 'Индия,КНР',\n",
       "       'Чехия,Великобритания,США', 'США,ФРГ,Россия',\n",
       "       'Ирландия,Нидерланды,Франция,США,Великобритания',\n",
       "       'Россия,Грузия,Хорватия,Испания', 'Финляндия,Швеция,Норвегия',\n",
       "       'Сербия,Великобритания,США', 'США,Великобритания,Франция,Гонконг',\n",
       "       'Швейцария,Франция', 'Швейцария,Великобритания', 'ОАЭ,США',\n",
       "       'США,Франция,Германия,Канада,Австралия', 'Германия,Австралия',\n",
       "       'Иран,Франция', 'США,Великобритания,НоваяЗеландия', 'США,Колумбия',\n",
       "       'США,Франция,Ирландия', 'Великобритания,Франция,Бельгия',\n",
       "       'США,Великобритания,Япония', 'США,Франция,Германия',\n",
       "       'Польша,Ирландия', 'Ирландия,Великобритания,Франция,США',\n",
       "       'США,Бельгия,Великобритания', 'СССР,ВНР',\n",
       "       'Испания,Франция,США,Великобритания,Бельгия', 'Франция,Дания,США',\n",
       "       'США,Гонконг', 'Бразилия,К;анада',\n",
       "       'США,Ирландия,Великобритания,Франция', 'Великобритания,США,Канада',\n",
       "       'Польша,Франция', 'Канада,США,Нидерланды,Великобритания,Аргентина',\n",
       "       'Великобритания,Дания', 'Франция,Бельгия,Япония',\n",
       "       'США,Канада,Германия,Франция', 'США,Канада,Франция',\n",
       "       'Германия,Австрия,Франция,Италия', 'США,Германия,Канада',\n",
       "       'Испания,Мексика',\n",
       "       'США,Япония,Канада,Великобритания,Германия,Франция',\n",
       "       'Россия,Украина,Германия',\n",
       "       'Израиль,Франция,Великобритания,Германия', 'Корея',\n",
       "       'Россия,Болгария', 'Германия,Канада,Франция,Бельгия',\n",
       "       'Германия,Кения', 'Франция,Монако', 'Франция,Испания,Швейцария',\n",
       "       'Австрия,Франция,Германия', 'Румыния',\n",
       "       'США,Великобритания,Франция', 'Канада,Великобритания',\n",
       "       'Канада,Бразилия,Япония', 'Германия,Дания,Норвегия',\n",
       "       'Дания,Германия', 'СССР,ГДР,Польша,Италия',\n",
       "       'США,Испания,Франция,Великобритания', 'Китай', 'Мексика,Аргентина',\n",
       "       'Германия,Великобритания,Италия,Испания',\n",
       "       'Франция,Германия,Великобритания', 'Россия,Германия,Швейцария',\n",
       "       'Франция,Австралия', 'Голландия', 'Россия,Белоруссия',\n",
       "       'Франция,Испания,Тайвань', 'США,ЮжнаяКорея,НоваяЗеландия',\n",
       "       'Великобритания,Венгрия', 'Великобритания,Франция,Германия',\n",
       "       'Франция,Германия,Италия', 'Швеция,Финляндия,Франция,Норвегия',\n",
       "       'Германия,Израиль', 'Швеция,Германия,Дания,Норвегия',\n",
       "       'Франция,Гонконг,Ирландия', 'Эстония', 'Литва,Россия,Украина',\n",
       "       'Германия,Италия,Франция', 'Великобритания,Австрия,Германия',\n",
       "       'Испания,Мальта', 'Франция,Россия,Румыния,Италия,Бельгия',\n",
       "       'Россия,Польша', 'США,Аргентина', 'Израиль,США,Франция',\n",
       "       'США,НоваяЗеландия,Япония', 'Франция,Чехия,Великобритания',\n",
       "       'Германия,Франция,Великобритания', 'США,Гонконг,Китай',\n",
       "       'США,Великобритания,Германия', 'США,Канада,Австралия',\n",
       "       'Япония,США,Франция', 'Франция,Испания,Германия',\n",
       "       'США,Хорватия,Босния,Герцеговина',\n",
       "       'Великобритания,Чехия,Франция,Италия', 'США,Германия,Нидерланды',\n",
       "       'Германия,Франция,Канада',\n",
       "       'Франция,Грузия,Германия,Россия,Украина,Бельгия',\n",
       "       'Великобритания,Франция,Италия', 'Франция,Италия,Иран', 'Греция',\n",
       "       'Дания,США', 'США,Германия,Австралия', 'США,Канада,Италия',\n",
       "       'США,Япония,Германия',\n",
       "       'Франция,Великобритания,Багамскиеострова,США',\n",
       "       'Швейцария,Люксембург', 'Швейцария,Австрия', 'Германия,Швейцария',\n",
       "       'Дания,Швеция,Франция,Германия', 'Польша', 'Бразилия,Канада,США',\n",
       "       'Нидерланды,Россия', 'Португалия', 'Франция,Аргентина',\n",
       "       'Швеция,Франция', 'Франция,Украина', 'Германия,Украина,Нидерланды',\n",
       "       'Италия,Швейцария', 'Латвия,Россия',\n",
       "       'Германия,Франция,Великобритания,США', 'Канада,Италия',\n",
       "       'США,ОбъединенныеАрабскиеЭмираты', 'США,Венгрия', 'Малайзия',\n",
       "       'Россия,Германия,Украина', 'США,Австралия,Мексика',\n",
       "       'Литва,Венгрия', 'Германия,Китай', 'Казахстан', 'РеспубликаКорея',\n",
       "       'США,Германия,Франция,Великобритания,Канада',\n",
       "       'Бельгия,Германия,Люксембург,Франция', 'Франция,Греция',\n",
       "       'Италия,Канада', 'США,Италия,Греция',\n",
       "       'Германия,США,Великобритания,Ирландия', 'Германия,Нидерланды,ЮАР',\n",
       "       'США,Япония,Германия,Великобритания,Нидерланды',\n",
       "       'США,Япония,Германия,Великобритания',\n",
       "       'Таиланд,Великобритания,Франция,Германия,Испания,Нидерланды',\n",
       "       'Германия,Италия,Швейцария',\n",
       "       'Дания,Швеция,Великобритания,Франция,Германия,Нидерланды,Норвегия,Финляндия',\n",
       "       'Франция,Великобритания,Нидерланды,Люксембург',\n",
       "       'Нидерланды,Великобритания,Франция,Италия,Япония',\n",
       "       'Великобритания,Нидерланды,Франция,США', 'Канада,Мексика',\n",
       "       'Канада,ЮжнаяКорея,США', 'Великобритания,Франция,Бельгия,США',\n",
       "       'КНР,Канада,США', 'Италия,Франция,Германия',\n",
       "       'Швеция,Германия,Франция,Дания', 'Франция,США,Бельгия',\n",
       "       'Украина,Германия,Латвия,Эстония', 'Австрия,Люксембург',\n",
       "       'Великобритания,КНР', 'Монголия', 'Франция,Дания',\n",
       "       'Швеция,Дания,Финляндия',\n",
       "       'Сингапур,Великобритания,Индонезия,Канада,США',\n",
       "       'США,Германия,Япония', 'Таиланд,США', 'Франция,Нидерланды',\n",
       "       'Великобритания,Румыния',\n",
       "       'Великобритания,Германия,Нидерланды,Дания',\n",
       "       'Франция,Германия,Литва,Нидерланды,Россия', 'США,ЮАР,Гонконг',\n",
       "       'Австралия,Колумбия', 'Великобритания,Польша',\n",
       "       'США,Великобритания,Швеция', 'Франция,Швеция,Дания,Норвегия',\n",
       "       'Болгария,США', 'СССР,ФРГ', 'Бельгия,Нидерланды,Франция',\n",
       "       'Финляндия,Германия', 'Болгария',\n",
       "       'Грузия,Россия,Украина,Хорватия,Германия', 'Франция,Люксембург',\n",
       "       'Франция,Германия,Австрия', 'Норвегия,США', 'Германия,Швеция',\n",
       "       'Дания,Латвия,Россия,США', 'Финляндия,Польша', 'Германия,Бельгия',\n",
       "       'Германия,США,Франция,Испания',\n",
       "       'Бельгия,Германия,Канада,Франция,США,Великобритания',\n",
       "       'Нидерланды,Бельгия,Люксембург', 'Люксембург,Бельгия,Франция',\n",
       "       'Бельгия,Великобритания,США', 'Великобритания,Австралия',\n",
       "       'Исландия,Бельгия',\n",
       "       'Испания,Швейцария,Великобритания,Германия,НоваяЗеландия,Нидерланды,Канада',\n",
       "       'Киргизия,Россия', 'Великобритания,США,Испания',\n",
       "       'Италия,Швейцария,Германия', 'Россия,Армения', 'Китай,Канада,США',\n",
       "       'США,Великобритания,Люксембург',\n",
       "       'Испания,Ирландия,Бельгия,Франция',\n",
       "       'Великобритания,Гонконг,Венгрия,США,Ирландия', 'США,ПуэртоРико',\n",
       "       'Аргентина,Испания,Уругвай', 'Израиль,Германия,Франция,Швейцария',\n",
       "       'Великобритания,Мексика,США', 'Испания,Болгария,США',\n",
       "       'Россия,Словакия,Чехия',\n",
       "       'Швейцария,КНР,США,Россия,РеспубликаКорея,Великобритания',\n",
       "       'Россия,Нидерланды,Финляндия',\n",
       "       'Испания,Бельгия,Франция,Португалия,Великобритания',\n",
       "       'Бразилия,Португалия,Франция', 'Швеция,Норвегия',\n",
       "       'Франция,Польша,Бельгия', 'CША', 'Китай,США',\n",
       "       'Германия,Австрия,Франция', 'Чехия,Словакия,Хорватия',\n",
       "       'Россия,Польша,Финляндия', 'Россия,Латвия,ЧешскаяРеспублика',\n",
       "       'Франция,Великобритания,Камбоджа,США,КНР', 'Чехия,Испания,США',\n",
       "       'Германия,Люксембург,Дания', 'Великобритания,Испания,Германия',\n",
       "       'Дания,Исландия',\n",
       "       'Великобритания,Испания,Италия,Латвия,Франция,Эстония',\n",
       "       'Дания,Швеция,Великобритания,Франция,Германия,Норвегия,Финляндия,Нидерланды,Италия',\n",
       "       'Польша,Франция,Великобритания', 'Дания,Норвегия,Венгрия,Чехия',\n",
       "       'Дания,Франция,Германия,Швеция', 'Великобритания,Швеция,США',\n",
       "       'Канада,Франция,Италия,Швейцария,США',\n",
       "       'США,Великобритания,Германия,,Швеция,Канада',\n",
       "       'РеспубликаБеларусь,Германия,США,Россия',\n",
       "       'Италия,Швейцария,Франция,Германия',\n",
       "       'Россия,Франция,Великобритания,Латвия', 'Россия,Беларусь',\n",
       "       'Франция,Испания,Румыния,США,Бельгия', 'Россия,Австрия',\n",
       "       'Ирландия,Великобритания,США',\n",
       "       'Швейцария,Великобритания,Франция,США,Ирландия',\n",
       "       'Мексика,Франция,Германия,Дания,Швеция', 'Нидерланды,Бельгия',\n",
       "       'Швеция,Норвегия,Финляндия,Франция', 'Испания,Франция,Италия',\n",
       "       'Испания,Франция,Греция,Индия,США,Россия,Великобритания',\n",
       "       'Великобритания,Япония,США', 'Дания,Канада,Норвегия,Австралия,США',\n",
       "       'Россия,Германия,Казахстан,Польша,Китай',\n",
       "       'Португалия,Франция,Польша,США', 'США,Канада,Аргентина',\n",
       "       'Ливан,США', 'Япония,США',\n",
       "       'Франция,Россия,Швейцария,Румыния,Венгрия', 'Россия,Сербия',\n",
       "       'США,Болгария,Мексика', 'США,Великобритания,Швейцария,Франция',\n",
       "       'Таиланд,КНР,США',\n",
       "       'Великобритания,Нидерланды,Польша,Швейцария,Франция',\n",
       "       'Ирландия,США', 'Германия,Франция,Великобритания,Польша,США',\n",
       "       'США,Австралия,Индия', 'Великобритания,Израиль',\n",
       "       'Великобритания,Норвегия,Кения,Хорватия',\n",
       "       'США,Бразилия,Великобритания,Канада', 'Австралия,Канада',\n",
       "       'Кения,Германия', 'Колумбия', 'Латвия,Франция',\n",
       "       'Франция,Израиль,Германия', 'Швеция,Франция,Великобритания',\n",
       "       'Бельгия,Люксембург', 'Германия,Бельгия,Великобритания',\n",
       "       'Испания,Франция,Великобритания,Дания,Бельгия,Германия',\n",
       "       'Румыния,ЮАР,Иран,Франция,Канада,Великобритания',\n",
       "       'США,Великобритания,Ирландия,Люксембург', 'РеспубликаАрмения',\n",
       "       'США,Франция,Япония', 'РеспубликаКипр,Россия',\n",
       "       'Дания,Франция,Италия,Бельгия,Нидерланды', 'Россия,Грузия',\n",
       "       'Италия,Германия', 'Норвегия,Швеция,Дания',\n",
       "       'КНР,Индия,Гонконг,США', 'Израиль,Украина',\n",
       "       'США,КНР,Индия,Ю.Корея', 'США,Швеция', 'Россия,Китай',\n",
       "       'Канада,США,Каймановыострова',\n",
       "       'Бразилия,Уругвай,Дания,Норвегия,Чили,Швеция',\n",
       "       'Пуэрто,Рико,Великобритания,США', 'Уругвай,Аргентина,Испания',\n",
       "       'США,Великобритания,Италия,Израиль,Сербия,Индия',\n",
       "       'США,Канада,Франция,Индия', 'Великобритания,Россия,КНР',\n",
       "       'Франция,НоваяЗеландия', 'Канада,США,Норвегия', 'Италия,Испания',\n",
       "       'Испания,Германия,Нидерланды', 'Бразилия,США,КНР',\n",
       "       'Великобритания,Германия,Дания,США', '2019',\n",
       "       'Италия,Фрация,Бразилия,Германия', 'Норвегия,Швеция,Россия',\n",
       "       'Сша,Канада', 'Бельгия,Канада', 'Франция,Финляндия',\n",
       "       'Колумбия,США', 'Норвегия,Нидерланды', 'Италия,Бельгия,Франция',\n",
       "       'Россия,Бельгия,Финляндия', 'Франция,Норвегия',\n",
       "       'Великобритания,ЮжнаяКорея,Канада,США,Индия,Китай,Япония',\n",
       "       'Канада,Норвегия', 'Польша,Франция,Испания,Бразилия,Швеция',\n",
       "       'Австрия,Великобритания,Германия', 'Франция,Сенегал,Бельгия',\n",
       "       'Финляндия,Латвия', 'Пакистан', 'Германия,Франция,США',\n",
       "       'Германия,Великобритания,США', 'КНР,Франция',\n",
       "       'Дания,Норвегия,Швеция,Исландия', 'РеспубликаКипр,США,Россия',\n",
       "       'НоваяЗеландия,КНР',\n",
       "       'Дания,Канада,Швеция,Франция,Германия,Великобритания,США'],\n",
       "      dtype=object)"
      ]
     },
     "execution_count": 30,
     "metadata": {},
     "output_type": "execute_result"
    }
   ],
   "source": [
    "data['production_country']= data['production_country'].replace(' ', '', regex = True).replace('-', ',', regex=True)\n",
    "data['production_country'].unique()"
   ]
  },
  {
   "cell_type": "markdown",
   "metadata": {
    "id": "XFSN5lrEgFyR"
   },
   "source": [
    "### Проверьте количественные значения\n",
    "\n",
    "- Проверьте, обнаружились ли в таких столбцах подозрительные данные. Как с такими данными лучше поступить?\n",
    "\n",
    "<div id=\"accordion\">\n",
    "    <div class=\"card\">\n",
    "        <div class=\"card-header\" id=\"headingThree\">\n",
    "            <button class=\"btn btn-link collapsed\" data-toggle=\"collapse\" data-target=\"#collapseHint_budget\" aria-expanded=\"false\" aria-controls=\"collapseHint_budget\">Подсказка</button>\n",
    "        </div>\n",
    "        <div id=\"collapseHint_budget\" class=\"collapse\" aria-labelledby=\"headingThree\" data-parent=\"#accordion\">\n",
    "            <div class=\"card-body\">\n",
    "Обратите внимание на описание столбца <code>budget</code>. Как этот столбец соотносится с двумя другими: <code>refundable_support</code> и <code>nonrefundable_support</code>?\n",
    "            </div>\n",
    "        </div>\n",
    "    </div>\n",
    "</div>"
   ]
  },
  {
   "cell_type": "code",
   "execution_count": 31,
   "metadata": {
    "id": "YbzClBxagFyS"
   },
   "outputs": [
    {
     "data": {
      "text/html": [
       "<div>\n",
       "<style scoped>\n",
       "    .dataframe tbody tr th:only-of-type {\n",
       "        vertical-align: middle;\n",
       "    }\n",
       "\n",
       "    .dataframe tbody tr th {\n",
       "        vertical-align: top;\n",
       "    }\n",
       "\n",
       "    .dataframe thead th {\n",
       "        text-align: right;\n",
       "    }\n",
       "</style>\n",
       "<table border=\"1\" class=\"dataframe\">\n",
       "  <thead>\n",
       "    <tr style=\"text-align: right;\">\n",
       "      <th></th>\n",
       "      <th>pu_number</th>\n",
       "      <th>refundable_support</th>\n",
       "      <th>nonrefundable_support</th>\n",
       "      <th>budget</th>\n",
       "      <th>ratings</th>\n",
       "      <th>box_office</th>\n",
       "    </tr>\n",
       "  </thead>\n",
       "  <tbody>\n",
       "    <tr>\n",
       "      <th>count</th>\n",
       "      <td>7.485000e+03</td>\n",
       "      <td>3.320000e+02</td>\n",
       "      <td>3.320000e+02</td>\n",
       "      <td>3.320000e+02</td>\n",
       "      <td>6490.000000</td>\n",
       "      <td>3.158000e+03</td>\n",
       "    </tr>\n",
       "    <tr>\n",
       "      <th>mean</th>\n",
       "      <td>1.351378e+08</td>\n",
       "      <td>1.186446e+07</td>\n",
       "      <td>4.898099e+07</td>\n",
       "      <td>1.272297e+08</td>\n",
       "      <td>6.479245</td>\n",
       "      <td>7.647870e+07</td>\n",
       "    </tr>\n",
       "    <tr>\n",
       "      <th>std</th>\n",
       "      <td>3.838989e+07</td>\n",
       "      <td>2.491656e+07</td>\n",
       "      <td>5.998012e+07</td>\n",
       "      <td>1.885883e+08</td>\n",
       "      <td>1.101665</td>\n",
       "      <td>2.403531e+08</td>\n",
       "    </tr>\n",
       "    <tr>\n",
       "      <th>min</th>\n",
       "      <td>1.000000e+06</td>\n",
       "      <td>0.000000e+00</td>\n",
       "      <td>0.000000e+00</td>\n",
       "      <td>0.000000e+00</td>\n",
       "      <td>1.000000</td>\n",
       "      <td>0.000000e+00</td>\n",
       "    </tr>\n",
       "    <tr>\n",
       "      <th>25%</th>\n",
       "      <td>1.120249e+08</td>\n",
       "      <td>0.000000e+00</td>\n",
       "      <td>2.500000e+07</td>\n",
       "      <td>4.200000e+07</td>\n",
       "      <td>5.900000</td>\n",
       "      <td>8.623900e+04</td>\n",
       "    </tr>\n",
       "    <tr>\n",
       "      <th>50%</th>\n",
       "      <td>1.210154e+08</td>\n",
       "      <td>0.000000e+00</td>\n",
       "      <td>3.000000e+07</td>\n",
       "      <td>6.864992e+07</td>\n",
       "      <td>6.600000</td>\n",
       "      <td>2.327988e+06</td>\n",
       "    </tr>\n",
       "    <tr>\n",
       "      <th>75%</th>\n",
       "      <td>1.240033e+08</td>\n",
       "      <td>1.500000e+07</td>\n",
       "      <td>4.037500e+07</td>\n",
       "      <td>1.419853e+08</td>\n",
       "      <td>7.200000</td>\n",
       "      <td>2.397967e+07</td>\n",
       "    </tr>\n",
       "    <tr>\n",
       "      <th>max</th>\n",
       "      <td>2.310011e+08</td>\n",
       "      <td>1.800000e+08</td>\n",
       "      <td>4.000000e+08</td>\n",
       "      <td>2.305074e+09</td>\n",
       "      <td>9.200000</td>\n",
       "      <td>3.073569e+09</td>\n",
       "    </tr>\n",
       "  </tbody>\n",
       "</table>\n",
       "</div>"
      ],
      "text/plain": [
       "          pu_number  refundable_support  nonrefundable_support        budget  \\\n",
       "count  7.485000e+03        3.320000e+02           3.320000e+02  3.320000e+02   \n",
       "mean   1.351378e+08        1.186446e+07           4.898099e+07  1.272297e+08   \n",
       "std    3.838989e+07        2.491656e+07           5.998012e+07  1.885883e+08   \n",
       "min    1.000000e+06        0.000000e+00           0.000000e+00  0.000000e+00   \n",
       "25%    1.120249e+08        0.000000e+00           2.500000e+07  4.200000e+07   \n",
       "50%    1.210154e+08        0.000000e+00           3.000000e+07  6.864992e+07   \n",
       "75%    1.240033e+08        1.500000e+07           4.037500e+07  1.419853e+08   \n",
       "max    2.310011e+08        1.800000e+08           4.000000e+08  2.305074e+09   \n",
       "\n",
       "           ratings    box_office  \n",
       "count  6490.000000  3.158000e+03  \n",
       "mean      6.479245  7.647870e+07  \n",
       "std       1.101665  2.403531e+08  \n",
       "min       1.000000  0.000000e+00  \n",
       "25%       5.900000  8.623900e+04  \n",
       "50%       6.600000  2.327988e+06  \n",
       "75%       7.200000  2.397967e+07  \n",
       "max       9.200000  3.073569e+09  "
      ]
     },
     "execution_count": 31,
     "metadata": {},
     "output_type": "execute_result"
    }
   ],
   "source": [
    "data.describe()"
   ]
  },
  {
   "cell_type": "markdown",
   "metadata": {},
   "source": [
    "Проверим данные на аномалии"
   ]
  },
  {
   "cell_type": "markdown",
   "metadata": {},
   "source": [
    "#### Господдержка есть, а бюджета нет"
   ]
  },
  {
   "cell_type": "code",
   "execution_count": 32,
   "metadata": {},
   "outputs": [
    {
     "data": {
      "text/html": [
       "<div>\n",
       "<style scoped>\n",
       "    .dataframe tbody tr th:only-of-type {\n",
       "        vertical-align: middle;\n",
       "    }\n",
       "\n",
       "    .dataframe tbody tr th {\n",
       "        vertical-align: top;\n",
       "    }\n",
       "\n",
       "    .dataframe thead th {\n",
       "        text-align: right;\n",
       "    }\n",
       "</style>\n",
       "<table border=\"1\" class=\"dataframe\">\n",
       "  <thead>\n",
       "    <tr style=\"text-align: right;\">\n",
       "      <th></th>\n",
       "      <th>title</th>\n",
       "      <th>pu_number</th>\n",
       "      <th>show_start_date</th>\n",
       "      <th>type</th>\n",
       "      <th>film_studio</th>\n",
       "      <th>production_country</th>\n",
       "      <th>director</th>\n",
       "      <th>producer</th>\n",
       "      <th>age_restriction</th>\n",
       "      <th>refundable_support</th>\n",
       "      <th>nonrefundable_support</th>\n",
       "      <th>budget</th>\n",
       "      <th>financing_source</th>\n",
       "      <th>ratings</th>\n",
       "      <th>genres</th>\n",
       "      <th>box_office</th>\n",
       "    </tr>\n",
       "  </thead>\n",
       "  <tbody>\n",
       "    <tr>\n",
       "      <th>2052</th>\n",
       "      <td>14+</td>\n",
       "      <td>111023614</td>\n",
       "      <td>2014-12-19 12:00:00+00:00</td>\n",
       "      <td>Художественный</td>\n",
       "      <td>ООО Киностудия  \"Сентябрь\"</td>\n",
       "      <td>Россия</td>\n",
       "      <td>А.Зайцев</td>\n",
       "      <td>О.Гранина, А.Зайцев</td>\n",
       "      <td>«16+» - для детей старше 16 лет</td>\n",
       "      <td>0.0</td>\n",
       "      <td>23000000.0</td>\n",
       "      <td>0.0</td>\n",
       "      <td>Министерство культуры, Фонд кино</td>\n",
       "      <td>6.6</td>\n",
       "      <td>мелодрама</td>\n",
       "      <td>1.023402e+07</td>\n",
       "    </tr>\n",
       "    <tr>\n",
       "      <th>2057</th>\n",
       "      <td>Дуxless 2</td>\n",
       "      <td>111000415</td>\n",
       "      <td>2015-01-26 12:00:00+00:00</td>\n",
       "      <td>Художественный</td>\n",
       "      <td>ООО \"Киностудия \"Слово\", ООО \"Арт Пикчерс Студия\"</td>\n",
       "      <td>Россия</td>\n",
       "      <td>Р.Прыгунов</td>\n",
       "      <td>П.Ануров, Ф.Бондарчук, Д.Рудовский</td>\n",
       "      <td>«16+» - для детей старше 16 лет</td>\n",
       "      <td>0.0</td>\n",
       "      <td>75000000.0</td>\n",
       "      <td>0.0</td>\n",
       "      <td>Фонд кино</td>\n",
       "      <td>6.6</td>\n",
       "      <td>драма</td>\n",
       "      <td>4.461635e+08</td>\n",
       "    </tr>\n",
       "    <tr>\n",
       "      <th>2471</th>\n",
       "      <td>Воин (2015)</td>\n",
       "      <td>111017315</td>\n",
       "      <td>2015-09-28 12:00:00+00:00</td>\n",
       "      <td>Художественный</td>\n",
       "      <td>ООО \"Форпост Продакшн\", ООО \"Арт Пикчерс Студия\"</td>\n",
       "      <td>Россия</td>\n",
       "      <td>А.Андрианов</td>\n",
       "      <td>ООО \"Арт Пикчерс Студия\"</td>\n",
       "      <td>«12+» - для детей старше 12 лет</td>\n",
       "      <td>10000000.0</td>\n",
       "      <td>70000000.0</td>\n",
       "      <td>0.0</td>\n",
       "      <td>Фонд кино</td>\n",
       "      <td>7.8</td>\n",
       "      <td>боевик,драма,криминал</td>\n",
       "      <td>1.965724e+08</td>\n",
       "    </tr>\n",
       "    <tr>\n",
       "      <th>2531</th>\n",
       "      <td>Бармен.</td>\n",
       "      <td>111009615</td>\n",
       "      <td>2015-05-26 12:00:00+00:00</td>\n",
       "      <td>Художественный</td>\n",
       "      <td>АО \"ВайТ Медиа\", ООО \"Арт Пикчерс Студия\"</td>\n",
       "      <td>Россия</td>\n",
       "      <td>Д.Штурманова</td>\n",
       "      <td>Т.Вайнштейн</td>\n",
       "      <td>«16+» - для детей старше 16 лет</td>\n",
       "      <td>20000000.0</td>\n",
       "      <td>0.0</td>\n",
       "      <td>0.0</td>\n",
       "      <td>Фонд кино</td>\n",
       "      <td>6.2</td>\n",
       "      <td>комедия,фэнтези</td>\n",
       "      <td>6.741897e+07</td>\n",
       "    </tr>\n",
       "    <tr>\n",
       "      <th>2614</th>\n",
       "      <td>Савва. Сердце воина</td>\n",
       "      <td>114001715</td>\n",
       "      <td>2015-07-21 12:00:00+00:00</td>\n",
       "      <td>Анимационный</td>\n",
       "      <td>ООО \"Глюкоза Продакшн\", ООО \"Арт Пикчерс Студия\"</td>\n",
       "      <td>Россия</td>\n",
       "      <td>М.Фадеев</td>\n",
       "      <td>А.Чистяков</td>\n",
       "      <td>«6+» - для детей старше 6 лет</td>\n",
       "      <td>60000000.0</td>\n",
       "      <td>100000000.0</td>\n",
       "      <td>0.0</td>\n",
       "      <td>Фонд кино</td>\n",
       "      <td>4.6</td>\n",
       "      <td>мультфильм,приключения,фэнтези</td>\n",
       "      <td>1.844876e+08</td>\n",
       "    </tr>\n",
       "    <tr>\n",
       "      <th>2683</th>\n",
       "      <td>Тряпичный союз</td>\n",
       "      <td>111010215</td>\n",
       "      <td>2015-06-08 12:00:00+00:00</td>\n",
       "      <td>Художественный</td>\n",
       "      <td>ООО \"Кинокомпания \"КОКТЕБЕЛЬ\"</td>\n",
       "      <td>Россия</td>\n",
       "      <td>М.Местецкий</td>\n",
       "      <td>Р.Борисевич, А.Кушаев</td>\n",
       "      <td>«18+» - запрещено для детей</td>\n",
       "      <td>0.0</td>\n",
       "      <td>59000000.0</td>\n",
       "      <td>0.0</td>\n",
       "      <td>Фонд кино</td>\n",
       "      <td>6.3</td>\n",
       "      <td>комедия,драма</td>\n",
       "      <td>1.957739e+06</td>\n",
       "    </tr>\n",
       "    <tr>\n",
       "      <th>2787</th>\n",
       "      <td>Срочно выйду замуж</td>\n",
       "      <td>111017115</td>\n",
       "      <td>2015-09-30 12:00:00+00:00</td>\n",
       "      <td>Художественный</td>\n",
       "      <td>АО \"ВайТ Медиа\", ООО \"Арт Пикчерс Студия\"</td>\n",
       "      <td>Россия</td>\n",
       "      <td>С Чекалов</td>\n",
       "      <td>Ф.Бондарчук, Т.Вайнштейн, Д.Рудовский</td>\n",
       "      <td>«16+» - для детей старше 16 лет</td>\n",
       "      <td>0.0</td>\n",
       "      <td>35000000.0</td>\n",
       "      <td>0.0</td>\n",
       "      <td>Фонд кино</td>\n",
       "      <td>5.1</td>\n",
       "      <td>комедия,мелодрама</td>\n",
       "      <td>7.293778e+07</td>\n",
       "    </tr>\n",
       "    <tr>\n",
       "      <th>2873</th>\n",
       "      <td>Помню - не помню!</td>\n",
       "      <td>111004916</td>\n",
       "      <td>2016-03-01 12:00:00+00:00</td>\n",
       "      <td>Художественный</td>\n",
       "      <td>ООО \"КиноФирма\"</td>\n",
       "      <td>Россия</td>\n",
       "      <td>В.Ровенский</td>\n",
       "      <td>ООО \"КиноФирма\"</td>\n",
       "      <td>«12+» - для детей старше 12 лет</td>\n",
       "      <td>0.0</td>\n",
       "      <td>6000000.0</td>\n",
       "      <td>0.0</td>\n",
       "      <td>Министерство культуры</td>\n",
       "      <td>4.3</td>\n",
       "      <td>комедия</td>\n",
       "      <td>1.536293e+07</td>\n",
       "    </tr>\n",
       "    <tr>\n",
       "      <th>3046</th>\n",
       "      <td>Любовь с ограничениями</td>\n",
       "      <td>111008216</td>\n",
       "      <td>2016-04-29 12:00:00+00:00</td>\n",
       "      <td>Художественный</td>\n",
       "      <td>АО \"ВайТ Медиа\", ООО \"Арт Пикчерс Студия\"</td>\n",
       "      <td>Россия</td>\n",
       "      <td>Д.Тюрин</td>\n",
       "      <td>Ф.Бондарчук, Т.Вайнштейн, Д.Рудовский</td>\n",
       "      <td>«16+» - для детей старше 16 лет</td>\n",
       "      <td>19000000.0</td>\n",
       "      <td>51000000.0</td>\n",
       "      <td>0.0</td>\n",
       "      <td>Фонд кино</td>\n",
       "      <td>6.3</td>\n",
       "      <td>комедия,мелодрама</td>\n",
       "      <td>7.029905e+07</td>\n",
       "    </tr>\n",
       "    <tr>\n",
       "      <th>3564</th>\n",
       "      <td>Притяжение (2016)</td>\n",
       "      <td>111018116</td>\n",
       "      <td>2016-12-16 12:00:00+00:00</td>\n",
       "      <td>Художественный</td>\n",
       "      <td>ООО \"Водород 2011\",  ООО \"Арт Пикчерс Студия\"</td>\n",
       "      <td>Россия</td>\n",
       "      <td>Ф.Бондарчук</td>\n",
       "      <td>ООО \"Арт Пикчерс Студия\"</td>\n",
       "      <td>«12+» - для детей старше 12 лет</td>\n",
       "      <td>0.0</td>\n",
       "      <td>250000000.0</td>\n",
       "      <td>0.0</td>\n",
       "      <td>Фонд кино</td>\n",
       "      <td>5.6</td>\n",
       "      <td>фантастика</td>\n",
       "      <td>1.038321e+09</td>\n",
       "    </tr>\n",
       "    <tr>\n",
       "      <th>3674</th>\n",
       "      <td>Чудо-юдо</td>\n",
       "      <td>114001817</td>\n",
       "      <td>2017-06-27 12:00:00+00:00</td>\n",
       "      <td>Анимационный</td>\n",
       "      <td>ООО \"КиноФирма\"</td>\n",
       "      <td>Россия</td>\n",
       "      <td>А.Лукичев</td>\n",
       "      <td>ООО \"КиноФирма\"</td>\n",
       "      <td>«6+» - для детей старше 6 лет</td>\n",
       "      <td>20000000.0</td>\n",
       "      <td>20000000.0</td>\n",
       "      <td>0.0</td>\n",
       "      <td>Фонд кино</td>\n",
       "      <td>5.2</td>\n",
       "      <td>мультфильм,фэнтези,семейный</td>\n",
       "      <td>5.510801e+07</td>\n",
       "    </tr>\n",
       "    <tr>\n",
       "      <th>3738</th>\n",
       "      <td>Мифы</td>\n",
       "      <td>111004317</td>\n",
       "      <td>2017-06-07 12:00:00+00:00</td>\n",
       "      <td>Художественный</td>\n",
       "      <td>ООО \"ХАЙПФИЛМ\", ООО \"Арт Пикчерс Студия\"</td>\n",
       "      <td>Россия</td>\n",
       "      <td>А.Молочников</td>\n",
       "      <td>Ф.Бондарчук, Д.Рудовский, И.Стюарт, М.Османн, ...</td>\n",
       "      <td>«16+» - для детей старше 16 лет</td>\n",
       "      <td>25000000.0</td>\n",
       "      <td>20000000.0</td>\n",
       "      <td>0.0</td>\n",
       "      <td>Фонд кино</td>\n",
       "      <td>4.8</td>\n",
       "      <td>комедия</td>\n",
       "      <td>5.045195e+07</td>\n",
       "    </tr>\n",
       "    <tr>\n",
       "      <th>5672</th>\n",
       "      <td>Селфи</td>\n",
       "      <td>111012117</td>\n",
       "      <td>2018-02-01 12:00:00+00:00</td>\n",
       "      <td>Художественный</td>\n",
       "      <td>ООО \"Киностудия \"Слово\", ООО \"Арт Пикчерс Студия\"</td>\n",
       "      <td>Россия</td>\n",
       "      <td>Н.Хомерики</td>\n",
       "      <td>П.Ануров, Ф.Бондарчук, Д.Рудовский</td>\n",
       "      <td>«16+» - для детей старше 16 лет</td>\n",
       "      <td>20000000.0</td>\n",
       "      <td>40000000.0</td>\n",
       "      <td>0.0</td>\n",
       "      <td>Фонд кино</td>\n",
       "      <td>5.8</td>\n",
       "      <td>триллер,драма</td>\n",
       "      <td>2.251964e+08</td>\n",
       "    </tr>\n",
       "    <tr>\n",
       "      <th>5805</th>\n",
       "      <td>Два хвоста</td>\n",
       "      <td>114001018</td>\n",
       "      <td>2018-05-31 12:00:00+00:00</td>\n",
       "      <td>Анимационный</td>\n",
       "      <td>ООО \"ЛИЦЕНЗИОННЫЕ БРЕНДЫ\"</td>\n",
       "      <td>Россия</td>\n",
       "      <td>В.Ровенский, Н.Лопато, В.Азеев</td>\n",
       "      <td>ООО \"ЛИЦЕНЗИОННЫЕ БРЕНДЫ\"</td>\n",
       "      <td>«6+» - для детей старше 6 лет</td>\n",
       "      <td>10000000.0</td>\n",
       "      <td>60000000.0</td>\n",
       "      <td>0.0</td>\n",
       "      <td>Фонд кино</td>\n",
       "      <td>5.0</td>\n",
       "      <td>мультфильм,детский</td>\n",
       "      <td>1.065143e+08</td>\n",
       "    </tr>\n",
       "    <tr>\n",
       "      <th>6007</th>\n",
       "      <td>Принцесса и дракон</td>\n",
       "      <td>114003018</td>\n",
       "      <td>2018-08-23 12:00:00+00:00</td>\n",
       "      <td>Анимационный</td>\n",
       "      <td>ООО \"ЛИЦЕНЗИОННЫЕ БРЕНДЫ\"</td>\n",
       "      <td>Россия</td>\n",
       "      <td>М.Нефедова</td>\n",
       "      <td>ООО \"ЛИЦЕНЗИОННЫЕ БРЕНДЫ\"</td>\n",
       "      <td>«6+» - для детей старше 6 лет</td>\n",
       "      <td>40000000.0</td>\n",
       "      <td>40000000.0</td>\n",
       "      <td>0.0</td>\n",
       "      <td>Фонд кино</td>\n",
       "      <td>5.2</td>\n",
       "      <td>мультфильм,фэнтези,детский</td>\n",
       "      <td>8.336633e+07</td>\n",
       "    </tr>\n",
       "    <tr>\n",
       "      <th>6322</th>\n",
       "      <td>Баба Яга</td>\n",
       "      <td>114006518</td>\n",
       "      <td>2018-11-08 12:00:00+00:00</td>\n",
       "      <td>Анимационный</td>\n",
       "      <td>ООО \"Арт Пикчерс Студия\"</td>\n",
       "      <td>Россия</td>\n",
       "      <td>В.Саков</td>\n",
       "      <td>ООО \"Арт Пикчерс Студия\", ООО \"КРИЭЙТИВ АНИМЭЙ...</td>\n",
       "      <td>«6+» - для детей старше 6 лет</td>\n",
       "      <td>0.0</td>\n",
       "      <td>138969465.0</td>\n",
       "      <td>0.0</td>\n",
       "      <td>Фонд кино</td>\n",
       "      <td>NaN</td>\n",
       "      <td>неизвестно</td>\n",
       "      <td>1.334699e+06</td>\n",
       "    </tr>\n",
       "    <tr>\n",
       "      <th>6822</th>\n",
       "      <td>Большое путешествие</td>\n",
       "      <td>114002419</td>\n",
       "      <td>2019-04-20 12:00:00+00:00</td>\n",
       "      <td>Анимационный</td>\n",
       "      <td>ООО \"ЛИЦЕНЗИОННЫЕ БРЕНДЫ\"</td>\n",
       "      <td>Россия</td>\n",
       "      <td>Н.Лопато, В.Ровенский</td>\n",
       "      <td>ООО \"ЛИЦЕНЗИОННЫЕ БРЕНДЫ\"</td>\n",
       "      <td>«6+» - для детей старше 6 лет</td>\n",
       "      <td>60000000.0</td>\n",
       "      <td>120000000.0</td>\n",
       "      <td>0.0</td>\n",
       "      <td>Фонд кино</td>\n",
       "      <td>6.2</td>\n",
       "      <td>мультфильм,комедия,приключения</td>\n",
       "      <td>1.476068e+08</td>\n",
       "    </tr>\n",
       "  </tbody>\n",
       "</table>\n",
       "</div>"
      ],
      "text/plain": [
       "                       title  pu_number           show_start_date  \\\n",
       "2052                     14+  111023614 2014-12-19 12:00:00+00:00   \n",
       "2057               Дуxless 2  111000415 2015-01-26 12:00:00+00:00   \n",
       "2471             Воин (2015)  111017315 2015-09-28 12:00:00+00:00   \n",
       "2531                 Бармен.  111009615 2015-05-26 12:00:00+00:00   \n",
       "2614     Савва. Сердце воина  114001715 2015-07-21 12:00:00+00:00   \n",
       "2683          Тряпичный союз  111010215 2015-06-08 12:00:00+00:00   \n",
       "2787      Срочно выйду замуж  111017115 2015-09-30 12:00:00+00:00   \n",
       "2873       Помню - не помню!  111004916 2016-03-01 12:00:00+00:00   \n",
       "3046  Любовь с ограничениями  111008216 2016-04-29 12:00:00+00:00   \n",
       "3564       Притяжение (2016)  111018116 2016-12-16 12:00:00+00:00   \n",
       "3674                Чудо-юдо  114001817 2017-06-27 12:00:00+00:00   \n",
       "3738                    Мифы  111004317 2017-06-07 12:00:00+00:00   \n",
       "5672                   Селфи  111012117 2018-02-01 12:00:00+00:00   \n",
       "5805              Два хвоста  114001018 2018-05-31 12:00:00+00:00   \n",
       "6007      Принцесса и дракон  114003018 2018-08-23 12:00:00+00:00   \n",
       "6322                Баба Яга  114006518 2018-11-08 12:00:00+00:00   \n",
       "6822     Большое путешествие  114002419 2019-04-20 12:00:00+00:00   \n",
       "\n",
       "                type                                        film_studio  \\\n",
       "2052  Художественный                         ООО Киностудия  \"Сентябрь\"   \n",
       "2057  Художественный  ООО \"Киностудия \"Слово\", ООО \"Арт Пикчерс Студия\"   \n",
       "2471  Художественный   ООО \"Форпост Продакшн\", ООО \"Арт Пикчерс Студия\"   \n",
       "2531  Художественный          АО \"ВайТ Медиа\", ООО \"Арт Пикчерс Студия\"   \n",
       "2614    Анимационный   ООО \"Глюкоза Продакшн\", ООО \"Арт Пикчерс Студия\"   \n",
       "2683  Художественный                      ООО \"Кинокомпания \"КОКТЕБЕЛЬ\"   \n",
       "2787  Художественный          АО \"ВайТ Медиа\", ООО \"Арт Пикчерс Студия\"   \n",
       "2873  Художественный                                    ООО \"КиноФирма\"   \n",
       "3046  Художественный          АО \"ВайТ Медиа\", ООО \"Арт Пикчерс Студия\"   \n",
       "3564  Художественный      ООО \"Водород 2011\",  ООО \"Арт Пикчерс Студия\"   \n",
       "3674    Анимационный                                    ООО \"КиноФирма\"   \n",
       "3738  Художественный           ООО \"ХАЙПФИЛМ\", ООО \"Арт Пикчерс Студия\"   \n",
       "5672  Художественный  ООО \"Киностудия \"Слово\", ООО \"Арт Пикчерс Студия\"   \n",
       "5805    Анимационный                          ООО \"ЛИЦЕНЗИОННЫЕ БРЕНДЫ\"   \n",
       "6007    Анимационный                          ООО \"ЛИЦЕНЗИОННЫЕ БРЕНДЫ\"   \n",
       "6322    Анимационный                           ООО \"Арт Пикчерс Студия\"   \n",
       "6822    Анимационный                          ООО \"ЛИЦЕНЗИОННЫЕ БРЕНДЫ\"   \n",
       "\n",
       "     production_country                        director  \\\n",
       "2052             Россия                        А.Зайцев   \n",
       "2057             Россия                      Р.Прыгунов   \n",
       "2471             Россия                     А.Андрианов   \n",
       "2531             Россия                    Д.Штурманова   \n",
       "2614             Россия                        М.Фадеев   \n",
       "2683             Россия                     М.Местецкий   \n",
       "2787             Россия                       С Чекалов   \n",
       "2873             Россия                     В.Ровенский   \n",
       "3046             Россия                         Д.Тюрин   \n",
       "3564             Россия                     Ф.Бондарчук   \n",
       "3674             Россия                       А.Лукичев   \n",
       "3738             Россия                    А.Молочников   \n",
       "5672             Россия                      Н.Хомерики   \n",
       "5805             Россия  В.Ровенский, Н.Лопато, В.Азеев   \n",
       "6007             Россия                      М.Нефедова   \n",
       "6322             Россия                         В.Саков   \n",
       "6822             Россия           Н.Лопато, В.Ровенский   \n",
       "\n",
       "                                               producer  \\\n",
       "2052                                О.Гранина, А.Зайцев   \n",
       "2057                 П.Ануров, Ф.Бондарчук, Д.Рудовский   \n",
       "2471                           ООО \"Арт Пикчерс Студия\"   \n",
       "2531                                        Т.Вайнштейн   \n",
       "2614                                         А.Чистяков   \n",
       "2683                              Р.Борисевич, А.Кушаев   \n",
       "2787              Ф.Бондарчук, Т.Вайнштейн, Д.Рудовский   \n",
       "2873                                    ООО \"КиноФирма\"   \n",
       "3046              Ф.Бондарчук, Т.Вайнштейн, Д.Рудовский   \n",
       "3564                           ООО \"Арт Пикчерс Студия\"   \n",
       "3674                                    ООО \"КиноФирма\"   \n",
       "3738  Ф.Бондарчук, Д.Рудовский, И.Стюарт, М.Османн, ...   \n",
       "5672                 П.Ануров, Ф.Бондарчук, Д.Рудовский   \n",
       "5805                          ООО \"ЛИЦЕНЗИОННЫЕ БРЕНДЫ\"   \n",
       "6007                          ООО \"ЛИЦЕНЗИОННЫЕ БРЕНДЫ\"   \n",
       "6322  ООО \"Арт Пикчерс Студия\", ООО \"КРИЭЙТИВ АНИМЭЙ...   \n",
       "6822                          ООО \"ЛИЦЕНЗИОННЫЕ БРЕНДЫ\"   \n",
       "\n",
       "                      age_restriction  refundable_support  \\\n",
       "2052  «16+» - для детей старше 16 лет                 0.0   \n",
       "2057  «16+» - для детей старше 16 лет                 0.0   \n",
       "2471  «12+» - для детей старше 12 лет          10000000.0   \n",
       "2531  «16+» - для детей старше 16 лет          20000000.0   \n",
       "2614    «6+» - для детей старше 6 лет          60000000.0   \n",
       "2683      «18+» - запрещено для детей                 0.0   \n",
       "2787  «16+» - для детей старше 16 лет                 0.0   \n",
       "2873  «12+» - для детей старше 12 лет                 0.0   \n",
       "3046  «16+» - для детей старше 16 лет          19000000.0   \n",
       "3564  «12+» - для детей старше 12 лет                 0.0   \n",
       "3674    «6+» - для детей старше 6 лет          20000000.0   \n",
       "3738  «16+» - для детей старше 16 лет          25000000.0   \n",
       "5672  «16+» - для детей старше 16 лет          20000000.0   \n",
       "5805    «6+» - для детей старше 6 лет          10000000.0   \n",
       "6007    «6+» - для детей старше 6 лет          40000000.0   \n",
       "6322    «6+» - для детей старше 6 лет                 0.0   \n",
       "6822    «6+» - для детей старше 6 лет          60000000.0   \n",
       "\n",
       "      nonrefundable_support  budget                  financing_source  \\\n",
       "2052             23000000.0     0.0  Министерство культуры, Фонд кино   \n",
       "2057             75000000.0     0.0                         Фонд кино   \n",
       "2471             70000000.0     0.0                         Фонд кино   \n",
       "2531                    0.0     0.0                         Фонд кино   \n",
       "2614            100000000.0     0.0                         Фонд кино   \n",
       "2683             59000000.0     0.0                         Фонд кино   \n",
       "2787             35000000.0     0.0                         Фонд кино   \n",
       "2873              6000000.0     0.0             Министерство культуры   \n",
       "3046             51000000.0     0.0                         Фонд кино   \n",
       "3564            250000000.0     0.0                         Фонд кино   \n",
       "3674             20000000.0     0.0                         Фонд кино   \n",
       "3738             20000000.0     0.0                         Фонд кино   \n",
       "5672             40000000.0     0.0                         Фонд кино   \n",
       "5805             60000000.0     0.0                         Фонд кино   \n",
       "6007             40000000.0     0.0                         Фонд кино   \n",
       "6322            138969465.0     0.0                         Фонд кино   \n",
       "6822            120000000.0     0.0                         Фонд кино   \n",
       "\n",
       "      ratings                          genres    box_office  \n",
       "2052      6.6                       мелодрама  1.023402e+07  \n",
       "2057      6.6                           драма  4.461635e+08  \n",
       "2471      7.8           боевик,драма,криминал  1.965724e+08  \n",
       "2531      6.2                 комедия,фэнтези  6.741897e+07  \n",
       "2614      4.6  мультфильм,приключения,фэнтези  1.844876e+08  \n",
       "2683      6.3                   комедия,драма  1.957739e+06  \n",
       "2787      5.1               комедия,мелодрама  7.293778e+07  \n",
       "2873      4.3                         комедия  1.536293e+07  \n",
       "3046      6.3               комедия,мелодрама  7.029905e+07  \n",
       "3564      5.6                      фантастика  1.038321e+09  \n",
       "3674      5.2     мультфильм,фэнтези,семейный  5.510801e+07  \n",
       "3738      4.8                         комедия  5.045195e+07  \n",
       "5672      5.8                   триллер,драма  2.251964e+08  \n",
       "5805      5.0              мультфильм,детский  1.065143e+08  \n",
       "6007      5.2      мультфильм,фэнтези,детский  8.336633e+07  \n",
       "6322      NaN                      неизвестно  1.334699e+06  \n",
       "6822      6.2  мультфильм,комедия,приключения  1.476068e+08  "
      ]
     },
     "execution_count": 32,
     "metadata": {},
     "output_type": "execute_result"
    }
   ],
   "source": [
    "data.query('budget==0 and refundable_support + nonrefundable_support !=0')"
   ]
  },
  {
   "cell_type": "markdown",
   "metadata": {},
   "source": [
    "Были обнаружены 16 фильмов, у которых не указан общий бюджет, но указаны меры господдержки. Предлагаю занести сумму всей господдержки в общий бюджет, чтобы избежать нулевых значений (к тому же, господдержка зачастую состовляет бОльшую часть бюджета, поэтому мы можем использовать это значение)"
   ]
  },
  {
   "cell_type": "code",
   "execution_count": 33,
   "metadata": {},
   "outputs": [
    {
     "data": {
      "text/html": [
       "<div>\n",
       "<style scoped>\n",
       "    .dataframe tbody tr th:only-of-type {\n",
       "        vertical-align: middle;\n",
       "    }\n",
       "\n",
       "    .dataframe tbody tr th {\n",
       "        vertical-align: top;\n",
       "    }\n",
       "\n",
       "    .dataframe thead th {\n",
       "        text-align: right;\n",
       "    }\n",
       "</style>\n",
       "<table border=\"1\" class=\"dataframe\">\n",
       "  <thead>\n",
       "    <tr style=\"text-align: right;\">\n",
       "      <th></th>\n",
       "      <th>title</th>\n",
       "      <th>pu_number</th>\n",
       "      <th>show_start_date</th>\n",
       "      <th>type</th>\n",
       "      <th>film_studio</th>\n",
       "      <th>production_country</th>\n",
       "      <th>director</th>\n",
       "      <th>producer</th>\n",
       "      <th>age_restriction</th>\n",
       "      <th>refundable_support</th>\n",
       "      <th>nonrefundable_support</th>\n",
       "      <th>budget</th>\n",
       "      <th>financing_source</th>\n",
       "      <th>ratings</th>\n",
       "      <th>genres</th>\n",
       "      <th>box_office</th>\n",
       "    </tr>\n",
       "  </thead>\n",
       "  <tbody>\n",
       "  </tbody>\n",
       "</table>\n",
       "</div>"
      ],
      "text/plain": [
       "Empty DataFrame\n",
       "Columns: [title, pu_number, show_start_date, type, film_studio, production_country, director, producer, age_restriction, refundable_support, nonrefundable_support, budget, financing_source, ratings, genres, box_office]\n",
       "Index: []"
      ]
     },
     "execution_count": 33,
     "metadata": {},
     "output_type": "execute_result"
    }
   ],
   "source": [
    "def fill_budget(row):\n",
    "    return row['refundable_support']+row['nonrefundable_support']\n",
    "\n",
    "data.loc[(data['budget'] == 0) & (data['refundable_support'] + data['nonrefundable_support'] >= 0), 'budget'] = data.loc[(data['budget'] == 0) & (data['refundable_support'] + data['nonrefundable_support'] >= 0)].apply(fill_budget, axis=1)\n",
    "data.query('budget==0 and refundable_support + nonrefundable_support !=0')"
   ]
  },
  {
   "cell_type": "markdown",
   "metadata": {},
   "source": [
    "Мы избавились от данных значений, не удаляя их"
   ]
  },
  {
   "cell_type": "markdown",
   "metadata": {},
   "source": [
    "#### Жадное государство\n",
    "\n",
    "В рамках этого пункта мы будем проверять, есть ли фильмы, у которых объем невозвратной поддержки равен 0"
   ]
  },
  {
   "cell_type": "code",
   "execution_count": 34,
   "metadata": {
    "scrolled": false
   },
   "outputs": [
    {
     "data": {
      "text/html": [
       "<div>\n",
       "<style scoped>\n",
       "    .dataframe tbody tr th:only-of-type {\n",
       "        vertical-align: middle;\n",
       "    }\n",
       "\n",
       "    .dataframe tbody tr th {\n",
       "        vertical-align: top;\n",
       "    }\n",
       "\n",
       "    .dataframe thead th {\n",
       "        text-align: right;\n",
       "    }\n",
       "</style>\n",
       "<table border=\"1\" class=\"dataframe\">\n",
       "  <thead>\n",
       "    <tr style=\"text-align: right;\">\n",
       "      <th></th>\n",
       "      <th>title</th>\n",
       "      <th>pu_number</th>\n",
       "      <th>show_start_date</th>\n",
       "      <th>type</th>\n",
       "      <th>film_studio</th>\n",
       "      <th>production_country</th>\n",
       "      <th>director</th>\n",
       "      <th>producer</th>\n",
       "      <th>age_restriction</th>\n",
       "      <th>refundable_support</th>\n",
       "      <th>nonrefundable_support</th>\n",
       "      <th>budget</th>\n",
       "      <th>financing_source</th>\n",
       "      <th>ratings</th>\n",
       "      <th>genres</th>\n",
       "      <th>box_office</th>\n",
       "    </tr>\n",
       "  </thead>\n",
       "  <tbody>\n",
       "    <tr>\n",
       "      <th>2531</th>\n",
       "      <td>Бармен.</td>\n",
       "      <td>111009615</td>\n",
       "      <td>2015-05-26 12:00:00+00:00</td>\n",
       "      <td>Художественный</td>\n",
       "      <td>АО \"ВайТ Медиа\", ООО \"Арт Пикчерс Студия\"</td>\n",
       "      <td>Россия</td>\n",
       "      <td>Д.Штурманова</td>\n",
       "      <td>Т.Вайнштейн</td>\n",
       "      <td>«16+» - для детей старше 16 лет</td>\n",
       "      <td>20000000.0</td>\n",
       "      <td>0.0</td>\n",
       "      <td>20000000.0</td>\n",
       "      <td>Фонд кино</td>\n",
       "      <td>6.2</td>\n",
       "      <td>комедия,фэнтези</td>\n",
       "      <td>6.741897e+07</td>\n",
       "    </tr>\n",
       "    <tr>\n",
       "      <th>2682</th>\n",
       "      <td>Дабл трабл</td>\n",
       "      <td>111009215</td>\n",
       "      <td>2015-05-18 12:00:00+00:00</td>\n",
       "      <td>Художественный</td>\n",
       "      <td>ООО \"ТаББаК\", ООО \"Весёлая Компания\"</td>\n",
       "      <td>Россия</td>\n",
       "      <td>Э.Оганесян</td>\n",
       "      <td>Т.Бекмамбетов, М.Затуловская</td>\n",
       "      <td>«12+» - для детей старше 12 лет</td>\n",
       "      <td>44000000.0</td>\n",
       "      <td>0.0</td>\n",
       "      <td>64030080.0</td>\n",
       "      <td>Фонд кино</td>\n",
       "      <td>4.3</td>\n",
       "      <td>комедия,мелодрама</td>\n",
       "      <td>1.965453e+07</td>\n",
       "    </tr>\n",
       "    <tr>\n",
       "      <th>2732</th>\n",
       "      <td>Неуловимые: последний герой</td>\n",
       "      <td>111017415</td>\n",
       "      <td>2015-09-30 12:00:00+00:00</td>\n",
       "      <td>Художественный</td>\n",
       "      <td>ООО \"Энджой мувиз\", ООО \"Ультра стори\"</td>\n",
       "      <td>Россия</td>\n",
       "      <td>А.Аксененко</td>\n",
       "      <td>Г.Малков, В.Поляков, И.Капитонов, В.Муругов</td>\n",
       "      <td>«16+» - для детей старше 16 лет</td>\n",
       "      <td>25000000.0</td>\n",
       "      <td>0.0</td>\n",
       "      <td>73379554.0</td>\n",
       "      <td>Фонд кино</td>\n",
       "      <td>3.3</td>\n",
       "      <td>мелодрама,криминал</td>\n",
       "      <td>1.103443e+07</td>\n",
       "    </tr>\n",
       "    <tr>\n",
       "      <th>3041</th>\n",
       "      <td>Крякнутые каникулы</td>\n",
       "      <td>114003615</td>\n",
       "      <td>2015-12-22 12:00:00+00:00</td>\n",
       "      <td>Анимационный</td>\n",
       "      <td>ООО \"Анимационная студия РИМ\"</td>\n",
       "      <td>Россия</td>\n",
       "      <td>В.Лакисов</td>\n",
       "      <td>Р.Атоян, В.Зорин, О.Бровченко</td>\n",
       "      <td>«6+» - для детей старше 6 лет</td>\n",
       "      <td>40000000.0</td>\n",
       "      <td>0.0</td>\n",
       "      <td>399075326.0</td>\n",
       "      <td>Фонд кино</td>\n",
       "      <td>5.4</td>\n",
       "      <td>мультфильм,комедия,приключения</td>\n",
       "      <td>6.969375e+07</td>\n",
       "    </tr>\n",
       "    <tr>\n",
       "      <th>3223</th>\n",
       "      <td>Кухня. Последняя битва</td>\n",
       "      <td>111001517</td>\n",
       "      <td>2017-03-22 12:00:00+00:00</td>\n",
       "      <td>Художественный</td>\n",
       "      <td>ООО Кинокомпания \"Аврора продакшнс\" по заказу ...</td>\n",
       "      <td>Россия</td>\n",
       "      <td>А.Федотов</td>\n",
       "      <td>Э.Илоян, В.Шляппо, Д.Жалинский, А.Троцюк, А.Ку...</td>\n",
       "      <td>«12+» - для детей старше 12 лет</td>\n",
       "      <td>50000000.0</td>\n",
       "      <td>0.0</td>\n",
       "      <td>162630398.0</td>\n",
       "      <td>Фонд кино</td>\n",
       "      <td>6.0</td>\n",
       "      <td>комедия</td>\n",
       "      <td>3.340074e+08</td>\n",
       "    </tr>\n",
       "    <tr>\n",
       "      <th>5658</th>\n",
       "      <td>Три богатыря и принцесса Египта</td>\n",
       "      <td>114003317</td>\n",
       "      <td>2017-12-21 12:00:00+00:00</td>\n",
       "      <td>Анимационный</td>\n",
       "      <td>ООО \"Студия анимационного кино \"Мельница\"</td>\n",
       "      <td>Россия</td>\n",
       "      <td>К.Феоктистов</td>\n",
       "      <td>С.Сельянов, А.Боярский</td>\n",
       "      <td>«6+» - для детей старше 6 лет</td>\n",
       "      <td>50000000.0</td>\n",
       "      <td>0.0</td>\n",
       "      <td>174464395.0</td>\n",
       "      <td>Фонд кино</td>\n",
       "      <td>5.5</td>\n",
       "      <td>мультфильм,приключения,семейный</td>\n",
       "      <td>7.592268e+08</td>\n",
       "    </tr>\n",
       "    <tr>\n",
       "      <th>6471</th>\n",
       "      <td>Три богатыря и наследница престола</td>\n",
       "      <td>114008818</td>\n",
       "      <td>2018-12-15 12:00:00+00:00</td>\n",
       "      <td>Анимационный</td>\n",
       "      <td>ООО \"Студия анимационного кино \"Мельница\"</td>\n",
       "      <td>Россия</td>\n",
       "      <td>К.Бронзит</td>\n",
       "      <td>С.Сельянов, А.Боярский</td>\n",
       "      <td>«6+» - для детей старше 6 лет</td>\n",
       "      <td>115000000.0</td>\n",
       "      <td>0.0</td>\n",
       "      <td>185500705.0</td>\n",
       "      <td>Фонд кино</td>\n",
       "      <td>6.5</td>\n",
       "      <td>мультфильм,приключения,семейный</td>\n",
       "      <td>5.773689e+08</td>\n",
       "    </tr>\n",
       "    <tr>\n",
       "      <th>6626</th>\n",
       "      <td>Рассвет</td>\n",
       "      <td>111000419</td>\n",
       "      <td>2019-01-31 12:00:00+00:00</td>\n",
       "      <td>Художественный</td>\n",
       "      <td>ООО \"Форс Медиа\"</td>\n",
       "      <td>Россия</td>\n",
       "      <td>П.Сидоров</td>\n",
       "      <td>В.Северцев, Д.Литвинов</td>\n",
       "      <td>«16+» - для детей старше 16 лет</td>\n",
       "      <td>35000000.0</td>\n",
       "      <td>0.0</td>\n",
       "      <td>56693559.0</td>\n",
       "      <td>Фонд кино</td>\n",
       "      <td>7.3</td>\n",
       "      <td>ужасы,боевик</td>\n",
       "      <td>5.344971e+07</td>\n",
       "    </tr>\n",
       "    <tr>\n",
       "      <th>7465</th>\n",
       "      <td>Иван Царевич и Серый Волк 4</td>\n",
       "      <td>114005019</td>\n",
       "      <td>2019-12-20 12:00:00+00:00</td>\n",
       "      <td>Анимационный</td>\n",
       "      <td>ООО \"Студия анимационного кино \"Мельница\"</td>\n",
       "      <td>Россия</td>\n",
       "      <td>Д.Шмидт, К.Феоктистов</td>\n",
       "      <td>С.Сельянов, А.Боярский</td>\n",
       "      <td>«6+» - для детей старше 6 лет</td>\n",
       "      <td>100000000.0</td>\n",
       "      <td>0.0</td>\n",
       "      <td>190000000.0</td>\n",
       "      <td>Фонд кино</td>\n",
       "      <td>6.7</td>\n",
       "      <td>мультфильм,приключения,семейный</td>\n",
       "      <td>5.010692e+08</td>\n",
       "    </tr>\n",
       "  </tbody>\n",
       "</table>\n",
       "</div>"
      ],
      "text/plain": [
       "                                   title  pu_number           show_start_date  \\\n",
       "2531                             Бармен.  111009615 2015-05-26 12:00:00+00:00   \n",
       "2682                          Дабл трабл  111009215 2015-05-18 12:00:00+00:00   \n",
       "2732         Неуловимые: последний герой  111017415 2015-09-30 12:00:00+00:00   \n",
       "3041                  Крякнутые каникулы  114003615 2015-12-22 12:00:00+00:00   \n",
       "3223              Кухня. Последняя битва  111001517 2017-03-22 12:00:00+00:00   \n",
       "5658     Три богатыря и принцесса Египта  114003317 2017-12-21 12:00:00+00:00   \n",
       "6471  Три богатыря и наследница престола  114008818 2018-12-15 12:00:00+00:00   \n",
       "6626                             Рассвет  111000419 2019-01-31 12:00:00+00:00   \n",
       "7465         Иван Царевич и Серый Волк 4  114005019 2019-12-20 12:00:00+00:00   \n",
       "\n",
       "                type                                        film_studio  \\\n",
       "2531  Художественный          АО \"ВайТ Медиа\", ООО \"Арт Пикчерс Студия\"   \n",
       "2682  Художественный               ООО \"ТаББаК\", ООО \"Весёлая Компания\"   \n",
       "2732  Художественный             ООО \"Энджой мувиз\", ООО \"Ультра стори\"   \n",
       "3041    Анимационный                      ООО \"Анимационная студия РИМ\"   \n",
       "3223  Художественный  ООО Кинокомпания \"Аврора продакшнс\" по заказу ...   \n",
       "5658    Анимационный          ООО \"Студия анимационного кино \"Мельница\"   \n",
       "6471    Анимационный          ООО \"Студия анимационного кино \"Мельница\"   \n",
       "6626  Художественный                                   ООО \"Форс Медиа\"   \n",
       "7465    Анимационный          ООО \"Студия анимационного кино \"Мельница\"   \n",
       "\n",
       "     production_country               director  \\\n",
       "2531             Россия           Д.Штурманова   \n",
       "2682             Россия             Э.Оганесян   \n",
       "2732             Россия            А.Аксененко   \n",
       "3041             Россия              В.Лакисов   \n",
       "3223             Россия              А.Федотов   \n",
       "5658             Россия           К.Феоктистов   \n",
       "6471             Россия              К.Бронзит   \n",
       "6626             Россия              П.Сидоров   \n",
       "7465             Россия  Д.Шмидт, К.Феоктистов   \n",
       "\n",
       "                                               producer  \\\n",
       "2531                                        Т.Вайнштейн   \n",
       "2682                       Т.Бекмамбетов, М.Затуловская   \n",
       "2732        Г.Малков, В.Поляков, И.Капитонов, В.Муругов   \n",
       "3041                      Р.Атоян, В.Зорин, О.Бровченко   \n",
       "3223  Э.Илоян, В.Шляппо, Д.Жалинский, А.Троцюк, А.Ку...   \n",
       "5658                             С.Сельянов, А.Боярский   \n",
       "6471                             С.Сельянов, А.Боярский   \n",
       "6626                             В.Северцев, Д.Литвинов   \n",
       "7465                             С.Сельянов, А.Боярский   \n",
       "\n",
       "                      age_restriction  refundable_support  \\\n",
       "2531  «16+» - для детей старше 16 лет          20000000.0   \n",
       "2682  «12+» - для детей старше 12 лет          44000000.0   \n",
       "2732  «16+» - для детей старше 16 лет          25000000.0   \n",
       "3041    «6+» - для детей старше 6 лет          40000000.0   \n",
       "3223  «12+» - для детей старше 12 лет          50000000.0   \n",
       "5658    «6+» - для детей старше 6 лет          50000000.0   \n",
       "6471    «6+» - для детей старше 6 лет         115000000.0   \n",
       "6626  «16+» - для детей старше 16 лет          35000000.0   \n",
       "7465    «6+» - для детей старше 6 лет         100000000.0   \n",
       "\n",
       "      nonrefundable_support       budget financing_source  ratings  \\\n",
       "2531                    0.0   20000000.0        Фонд кино      6.2   \n",
       "2682                    0.0   64030080.0        Фонд кино      4.3   \n",
       "2732                    0.0   73379554.0        Фонд кино      3.3   \n",
       "3041                    0.0  399075326.0        Фонд кино      5.4   \n",
       "3223                    0.0  162630398.0        Фонд кино      6.0   \n",
       "5658                    0.0  174464395.0        Фонд кино      5.5   \n",
       "6471                    0.0  185500705.0        Фонд кино      6.5   \n",
       "6626                    0.0   56693559.0        Фонд кино      7.3   \n",
       "7465                    0.0  190000000.0        Фонд кино      6.7   \n",
       "\n",
       "                               genres    box_office  \n",
       "2531                  комедия,фэнтези  6.741897e+07  \n",
       "2682                комедия,мелодрама  1.965453e+07  \n",
       "2732               мелодрама,криминал  1.103443e+07  \n",
       "3041   мультфильм,комедия,приключения  6.969375e+07  \n",
       "3223                          комедия  3.340074e+08  \n",
       "5658  мультфильм,приключения,семейный  7.592268e+08  \n",
       "6471  мультфильм,приключения,семейный  5.773689e+08  \n",
       "6626                     ужасы,боевик  5.344971e+07  \n",
       "7465  мультфильм,приключения,семейный  5.010692e+08  "
      ]
     },
     "execution_count": 34,
     "metadata": {},
     "output_type": "execute_result"
    }
   ],
   "source": [
    "data.query('nonrefundable_support == 0')"
   ]
  },
  {
   "cell_type": "markdown",
   "metadata": {},
   "source": [
    "Мы обнаружили 9 фильмов с невозвратной поддержкой, что не естественно. Возможно проблема оказалась в том, что ее не указали или данные были поломаны при получении"
   ]
  },
  {
   "cell_type": "markdown",
   "metadata": {},
   "source": [
    "#### Удивительно провальные фильмы\n",
    "\n",
    "В этой категории будут рассматриваться фильмы с аномально низкими сборами - до 1000 рублей. Проверяем мы эти данные, так как могут присутствовать фильмы, у которых сборы указывались в тысячах или миллионах, но при получении данных мы получили их сокращенную версию"
   ]
  },
  {
   "cell_type": "code",
   "execution_count": 35,
   "metadata": {
    "scrolled": false
   },
   "outputs": [
    {
     "data": {
      "text/plain": [
       "231"
      ]
     },
     "execution_count": 35,
     "metadata": {},
     "output_type": "execute_result"
    }
   ],
   "source": [
    "len(data.query('box_office < 1000'))"
   ]
  },
  {
   "cell_type": "markdown",
   "metadata": {},
   "source": [
    "Мы нашли данные аномалии и рассмотрели причины их появления"
   ]
  },
  {
   "cell_type": "markdown",
   "metadata": {},
   "source": [
    "<div class=\"alert alert-success\">\n",
    "<h2> Комментарий ревьюера V1<a class=\"tocSkip\"> </h2>\n",
    "\n",
    "<b>Все отлично!👍:</b> Категориальные и количественные параметры проверил и обработал корректно, замечаний нет"
   ]
  },
  {
   "cell_type": "markdown",
   "metadata": {
    "id": "Eu6oWp2CgFyS"
   },
   "source": [
    "### Добавьте новые столбцы\n",
    "\n",
    "\n",
    "\n"
   ]
  },
  {
   "cell_type": "markdown",
   "metadata": {
    "id": "7GgW-UpAgFyS"
   },
   "source": [
    "- Создайте столбец с информацией о годе проката. Выделите год из даты премьеры фильма."
   ]
  },
  {
   "cell_type": "code",
   "execution_count": 36,
   "metadata": {
    "id": "I-yd1DkWgFyT"
   },
   "outputs": [
    {
     "data": {
      "text/plain": [
       "0    2015\n",
       "1    2016\n",
       "2    2016\n",
       "3    2016\n",
       "4    2015\n",
       "Name: year_of_show, dtype: int64"
      ]
     },
     "execution_count": 36,
     "metadata": {},
     "output_type": "execute_result"
    }
   ],
   "source": [
    "data['year_of_show'] = pd.DatetimeIndex(data['show_start_date']).year\n",
    "data['year_of_show'].head()"
   ]
  },
  {
   "cell_type": "markdown",
   "metadata": {},
   "source": [
    "<div class=\"alert alert-warning\">\n",
    "<h2> Комментарий ревьюера V1<a class=\"tocSkip\"> </h2>\n",
    "\n",
    "<b>Некоторые замечания и рекомендации💡:</b> Можно было вот так сделать: `data['col_date'].dt.year`"
   ]
  },
  {
   "cell_type": "markdown",
   "metadata": {
    "id": "nFTDLDYOgFyT"
   },
   "source": [
    "- Создайте два столбца: с именем и фамилией главного режиссёра и основным жанром фильма. В столбцы войдут первые значения из списка режиссёров и жанров соответственно.\n",
    "\n",
    "<div id=\"accordion\">\n",
    "    <div class=\"card\">\n",
    "        <div class=\"card-header\" id=\"headingThree\">\n",
    "            <button class=\"btn btn-link collapsed\" data-toggle=\"collapse\" data-target=\"#collapseHint_2\" aria-expanded=\"false\" aria-controls=\"collapseHint_2\">Подсказка</button>\n",
    "        </div>\n",
    "        <div id=\"collapseHint_2\" class=\"collapse\" aria-labelledby=\"headingThree\" data-parent=\"#accordion\">\n",
    "            <div class=\"card-body\">\n",
    "Чтобы создать такие столбцы, лучше всего использовать собственную функцию. Эту функцию можно применить к двум столбцам сразу. \n",
    "            </div>\n",
    "        </div>\n",
    "    </div>\n",
    "</div>"
   ]
  },
  {
   "cell_type": "code",
   "execution_count": 37,
   "metadata": {
    "id": "LSbRZKbMgFyU"
   },
   "outputs": [
    {
     "name": "stdout",
     "output_type": "stream",
     "text": [
      "0        Кевин Костнер\n",
      "1            Е.Матвеев\n",
      "2    Тимур Бекмамбетов\n",
      "3    Тимур Бекмамбетов\n",
      "4    Тимур Бекмамбетов\n",
      "Name: main_director, dtype: object\n"
     ]
    },
    {
     "data": {
      "text/plain": [
       "0        боевик\n",
       "1         драма\n",
       "2    фантастика\n",
       "3    фантастика\n",
       "4    фантастика\n",
       "Name: main_genre, dtype: object"
      ]
     },
     "execution_count": 37,
     "metadata": {},
     "output_type": "execute_result"
    }
   ],
   "source": [
    "data['main_director'] = data['director'].str.split(',', expand =True)[0]\n",
    "print(data['main_director'].head())\n",
    "\n",
    "data['main_genre'] = data['genres'].str.split(',', expand =True)[0]\n",
    "data['main_genre'].head()"
   ]
  },
  {
   "cell_type": "markdown",
   "metadata": {
    "id": "1FsCXHwdgFyU"
   },
   "source": [
    "- Посчитайте, какую долю от общего бюджета фильма составляет государственная поддержка."
   ]
  },
  {
   "cell_type": "code",
   "execution_count": 38,
   "metadata": {
    "id": "LV6qFuZLgFyV"
   },
   "outputs": [
    {
     "data": {
      "text/plain": [
       "count    332.000000\n",
       "mean       0.542098\n",
       "std        0.196925\n",
       "min        0.044043\n",
       "25%        0.384615\n",
       "50%        0.614038\n",
       "75%        0.661412\n",
       "max        1.000000\n",
       "Name: participation_of_gov, dtype: float64"
      ]
     },
     "execution_count": 38,
     "metadata": {},
     "output_type": "execute_result"
    }
   ],
   "source": [
    "data['participation_of_gov'] = ((data['refundable_support'] + data['nonrefundable_support']) / data['budget'])\n",
    "data['participation_of_gov'].describe()"
   ]
  },
  {
   "cell_type": "code",
   "execution_count": 39,
   "metadata": {},
   "outputs": [
    {
     "data": {
      "text/html": [
       "<div>\n",
       "<style scoped>\n",
       "    .dataframe tbody tr th:only-of-type {\n",
       "        vertical-align: middle;\n",
       "    }\n",
       "\n",
       "    .dataframe tbody tr th {\n",
       "        vertical-align: top;\n",
       "    }\n",
       "\n",
       "    .dataframe thead th {\n",
       "        text-align: right;\n",
       "    }\n",
       "</style>\n",
       "<table border=\"1\" class=\"dataframe\">\n",
       "  <thead>\n",
       "    <tr style=\"text-align: right;\">\n",
       "      <th></th>\n",
       "      <th>pu_number</th>\n",
       "      <th>refundable_support</th>\n",
       "      <th>nonrefundable_support</th>\n",
       "      <th>budget</th>\n",
       "      <th>ratings</th>\n",
       "      <th>box_office</th>\n",
       "      <th>year_of_show</th>\n",
       "      <th>participation_of_gov</th>\n",
       "    </tr>\n",
       "  </thead>\n",
       "  <tbody>\n",
       "    <tr>\n",
       "      <th>count</th>\n",
       "      <td>7.485000e+03</td>\n",
       "      <td>3.320000e+02</td>\n",
       "      <td>3.320000e+02</td>\n",
       "      <td>3.320000e+02</td>\n",
       "      <td>6490.000000</td>\n",
       "      <td>3.158000e+03</td>\n",
       "      <td>7485.000000</td>\n",
       "      <td>332.000000</td>\n",
       "    </tr>\n",
       "    <tr>\n",
       "      <th>mean</th>\n",
       "      <td>1.351378e+08</td>\n",
       "      <td>1.186446e+07</td>\n",
       "      <td>4.898099e+07</td>\n",
       "      <td>1.314224e+08</td>\n",
       "      <td>6.479245</td>\n",
       "      <td>7.647870e+07</td>\n",
       "      <td>2014.594255</td>\n",
       "      <td>0.542098</td>\n",
       "    </tr>\n",
       "    <tr>\n",
       "      <th>std</th>\n",
       "      <td>3.838989e+07</td>\n",
       "      <td>2.491656e+07</td>\n",
       "      <td>5.998012e+07</td>\n",
       "      <td>1.871482e+08</td>\n",
       "      <td>1.101665</td>\n",
       "      <td>2.403531e+08</td>\n",
       "      <td>3.008645</td>\n",
       "      <td>0.196925</td>\n",
       "    </tr>\n",
       "    <tr>\n",
       "      <th>min</th>\n",
       "      <td>1.000000e+06</td>\n",
       "      <td>0.000000e+00</td>\n",
       "      <td>0.000000e+00</td>\n",
       "      <td>6.000000e+06</td>\n",
       "      <td>1.000000</td>\n",
       "      <td>0.000000e+00</td>\n",
       "      <td>2010.000000</td>\n",
       "      <td>0.044043</td>\n",
       "    </tr>\n",
       "    <tr>\n",
       "      <th>25%</th>\n",
       "      <td>1.120249e+08</td>\n",
       "      <td>0.000000e+00</td>\n",
       "      <td>2.500000e+07</td>\n",
       "      <td>4.552480e+07</td>\n",
       "      <td>5.900000</td>\n",
       "      <td>8.623900e+04</td>\n",
       "      <td>2012.000000</td>\n",
       "      <td>0.384615</td>\n",
       "    </tr>\n",
       "    <tr>\n",
       "      <th>50%</th>\n",
       "      <td>1.210154e+08</td>\n",
       "      <td>0.000000e+00</td>\n",
       "      <td>3.000000e+07</td>\n",
       "      <td>7.119690e+07</td>\n",
       "      <td>6.600000</td>\n",
       "      <td>2.327988e+06</td>\n",
       "      <td>2015.000000</td>\n",
       "      <td>0.614038</td>\n",
       "    </tr>\n",
       "    <tr>\n",
       "      <th>75%</th>\n",
       "      <td>1.240033e+08</td>\n",
       "      <td>1.500000e+07</td>\n",
       "      <td>4.037500e+07</td>\n",
       "      <td>1.500000e+08</td>\n",
       "      <td>7.200000</td>\n",
       "      <td>2.397967e+07</td>\n",
       "      <td>2017.000000</td>\n",
       "      <td>0.661412</td>\n",
       "    </tr>\n",
       "    <tr>\n",
       "      <th>max</th>\n",
       "      <td>2.310011e+08</td>\n",
       "      <td>1.800000e+08</td>\n",
       "      <td>4.000000e+08</td>\n",
       "      <td>2.305074e+09</td>\n",
       "      <td>9.200000</td>\n",
       "      <td>3.073569e+09</td>\n",
       "      <td>2019.000000</td>\n",
       "      <td>1.000000</td>\n",
       "    </tr>\n",
       "  </tbody>\n",
       "</table>\n",
       "</div>"
      ],
      "text/plain": [
       "          pu_number  refundable_support  nonrefundable_support        budget  \\\n",
       "count  7.485000e+03        3.320000e+02           3.320000e+02  3.320000e+02   \n",
       "mean   1.351378e+08        1.186446e+07           4.898099e+07  1.314224e+08   \n",
       "std    3.838989e+07        2.491656e+07           5.998012e+07  1.871482e+08   \n",
       "min    1.000000e+06        0.000000e+00           0.000000e+00  6.000000e+06   \n",
       "25%    1.120249e+08        0.000000e+00           2.500000e+07  4.552480e+07   \n",
       "50%    1.210154e+08        0.000000e+00           3.000000e+07  7.119690e+07   \n",
       "75%    1.240033e+08        1.500000e+07           4.037500e+07  1.500000e+08   \n",
       "max    2.310011e+08        1.800000e+08           4.000000e+08  2.305074e+09   \n",
       "\n",
       "           ratings    box_office  year_of_show  participation_of_gov  \n",
       "count  6490.000000  3.158000e+03   7485.000000            332.000000  \n",
       "mean      6.479245  7.647870e+07   2014.594255              0.542098  \n",
       "std       1.101665  2.403531e+08      3.008645              0.196925  \n",
       "min       1.000000  0.000000e+00   2010.000000              0.044043  \n",
       "25%       5.900000  8.623900e+04   2012.000000              0.384615  \n",
       "50%       6.600000  2.327988e+06   2015.000000              0.614038  \n",
       "75%       7.200000  2.397967e+07   2017.000000              0.661412  \n",
       "max       9.200000  3.073569e+09   2019.000000              1.000000  "
      ]
     },
     "execution_count": 39,
     "metadata": {},
     "output_type": "execute_result"
    }
   ],
   "source": [
    "data.describe()"
   ]
  },
  {
   "cell_type": "markdown",
   "metadata": {},
   "source": [
    "Мы выявили, что в среднем 61% бюджета - государственная поддержка. Также есть фильмы, целиком держащиеся на ней"
   ]
  },
  {
   "cell_type": "markdown",
   "metadata": {},
   "source": [
    "<div class=\"alert alert-success\">\n",
    "<h2> Комментарий ревьюера V1<a class=\"tocSkip\"> </h2>\n",
    "\n",
    "<b>Все отлично!👍:</b> Новые столбцы создал правильно, подходящие методы использовал"
   ]
  },
  {
   "cell_type": "markdown",
   "metadata": {
    "id": "6t4EukPLgFyV"
   },
   "source": [
    "## Проведите исследовательский анализ данных\n"
   ]
  },
  {
   "cell_type": "markdown",
   "metadata": {
    "id": "vAH8WCzugFyV"
   },
   "source": [
    "- Посмотрите, сколько фильмов выходило в прокат каждый год. Обратите внимание, что данные о прокате в кинотеатрах известны не для всех фильмов. Посчитайте, какую долю составляют фильмы с указанной информацией о прокате в кинотеатрах. Проанализируйте, как эта доля менялась по годам. Сделайте вывод о том, какой период полнее всего представлен в данных."
   ]
  },
  {
   "cell_type": "markdown",
   "metadata": {},
   "source": [
    "Для начала посчитаем фильмы, которые были в кинотеатрах. Для этого используем подсчет по параметру сборов"
   ]
  },
  {
   "cell_type": "code",
   "execution_count": 40,
   "metadata": {
    "id": "ABeV47y7gFyW"
   },
   "outputs": [
    {
     "data": {
      "text/html": [
       "<div>\n",
       "<style scoped>\n",
       "    .dataframe tbody tr th:only-of-type {\n",
       "        vertical-align: middle;\n",
       "    }\n",
       "\n",
       "    .dataframe tbody tr th {\n",
       "        vertical-align: top;\n",
       "    }\n",
       "\n",
       "    .dataframe thead th {\n",
       "        text-align: right;\n",
       "    }\n",
       "</style>\n",
       "<table border=\"1\" class=\"dataframe\">\n",
       "  <thead>\n",
       "    <tr style=\"text-align: right;\">\n",
       "      <th></th>\n",
       "      <th>box_office</th>\n",
       "    </tr>\n",
       "    <tr>\n",
       "      <th>year_of_show</th>\n",
       "      <th></th>\n",
       "    </tr>\n",
       "  </thead>\n",
       "  <tbody>\n",
       "    <tr>\n",
       "      <th>2010</th>\n",
       "      <td>105</td>\n",
       "    </tr>\n",
       "    <tr>\n",
       "      <th>2011</th>\n",
       "      <td>109</td>\n",
       "    </tr>\n",
       "    <tr>\n",
       "      <th>2012</th>\n",
       "      <td>128</td>\n",
       "    </tr>\n",
       "    <tr>\n",
       "      <th>2013</th>\n",
       "      <td>184</td>\n",
       "    </tr>\n",
       "    <tr>\n",
       "      <th>2014</th>\n",
       "      <td>279</td>\n",
       "    </tr>\n",
       "    <tr>\n",
       "      <th>2015</th>\n",
       "      <td>465</td>\n",
       "    </tr>\n",
       "    <tr>\n",
       "      <th>2016</th>\n",
       "      <td>526</td>\n",
       "    </tr>\n",
       "    <tr>\n",
       "      <th>2017</th>\n",
       "      <td>357</td>\n",
       "    </tr>\n",
       "    <tr>\n",
       "      <th>2018</th>\n",
       "      <td>475</td>\n",
       "    </tr>\n",
       "    <tr>\n",
       "      <th>2019</th>\n",
       "      <td>530</td>\n",
       "    </tr>\n",
       "  </tbody>\n",
       "</table>\n",
       "</div>"
      ],
      "text/plain": [
       "              box_office\n",
       "year_of_show            \n",
       "2010                 105\n",
       "2011                 109\n",
       "2012                 128\n",
       "2013                 184\n",
       "2014                 279\n",
       "2015                 465\n",
       "2016                 526\n",
       "2017                 357\n",
       "2018                 475\n",
       "2019                 530"
      ]
     },
     "execution_count": 40,
     "metadata": {},
     "output_type": "execute_result"
    }
   ],
   "source": [
    "data_for_analys = data.query('box_office.isna() == False')\n",
    "data_cinema = data_for_analys.pivot_table(index = 'year_of_show', values = 'box_office', aggfunc = 'count')\n",
    "data_cinema"
   ]
  },
  {
   "cell_type": "markdown",
   "metadata": {},
   "source": [
    "Теперь посчитаем все фильмы, выходившие по годам"
   ]
  },
  {
   "cell_type": "code",
   "execution_count": 41,
   "metadata": {},
   "outputs": [
    {
     "data": {
      "text/html": [
       "<div>\n",
       "<style scoped>\n",
       "    .dataframe tbody tr th:only-of-type {\n",
       "        vertical-align: middle;\n",
       "    }\n",
       "\n",
       "    .dataframe tbody tr th {\n",
       "        vertical-align: top;\n",
       "    }\n",
       "\n",
       "    .dataframe thead th {\n",
       "        text-align: right;\n",
       "    }\n",
       "</style>\n",
       "<table border=\"1\" class=\"dataframe\">\n",
       "  <thead>\n",
       "    <tr style=\"text-align: right;\">\n",
       "      <th></th>\n",
       "      <th>title</th>\n",
       "    </tr>\n",
       "    <tr>\n",
       "      <th>year_of_show</th>\n",
       "      <th></th>\n",
       "    </tr>\n",
       "  </thead>\n",
       "  <tbody>\n",
       "    <tr>\n",
       "      <th>2010</th>\n",
       "      <td>985</td>\n",
       "    </tr>\n",
       "    <tr>\n",
       "      <th>2011</th>\n",
       "      <td>622</td>\n",
       "    </tr>\n",
       "    <tr>\n",
       "      <th>2012</th>\n",
       "      <td>593</td>\n",
       "    </tr>\n",
       "    <tr>\n",
       "      <th>2013</th>\n",
       "      <td>630</td>\n",
       "    </tr>\n",
       "    <tr>\n",
       "      <th>2014</th>\n",
       "      <td>806</td>\n",
       "    </tr>\n",
       "    <tr>\n",
       "      <th>2015</th>\n",
       "      <td>705</td>\n",
       "    </tr>\n",
       "    <tr>\n",
       "      <th>2016</th>\n",
       "      <td>818</td>\n",
       "    </tr>\n",
       "    <tr>\n",
       "      <th>2017</th>\n",
       "      <td>505</td>\n",
       "    </tr>\n",
       "    <tr>\n",
       "      <th>2018</th>\n",
       "      <td>891</td>\n",
       "    </tr>\n",
       "    <tr>\n",
       "      <th>2019</th>\n",
       "      <td>930</td>\n",
       "    </tr>\n",
       "  </tbody>\n",
       "</table>\n",
       "</div>"
      ],
      "text/plain": [
       "              title\n",
       "year_of_show       \n",
       "2010            985\n",
       "2011            622\n",
       "2012            593\n",
       "2013            630\n",
       "2014            806\n",
       "2015            705\n",
       "2016            818\n",
       "2017            505\n",
       "2018            891\n",
       "2019            930"
      ]
     },
     "execution_count": 41,
     "metadata": {},
     "output_type": "execute_result"
    }
   ],
   "source": [
    "data_films = data.pivot_table(index = 'year_of_show', values = 'title', aggfunc = 'count')\n",
    "data_films"
   ]
  },
  {
   "cell_type": "code",
   "execution_count": 42,
   "metadata": {},
   "outputs": [
    {
     "data": {
      "text/html": [
       "<div>\n",
       "<style scoped>\n",
       "    .dataframe tbody tr th:only-of-type {\n",
       "        vertical-align: middle;\n",
       "    }\n",
       "\n",
       "    .dataframe tbody tr th {\n",
       "        vertical-align: top;\n",
       "    }\n",
       "\n",
       "    .dataframe thead th {\n",
       "        text-align: right;\n",
       "    }\n",
       "</style>\n",
       "<table border=\"1\" class=\"dataframe\">\n",
       "  <thead>\n",
       "    <tr style=\"text-align: right;\">\n",
       "      <th></th>\n",
       "      <th>year</th>\n",
       "      <th>in_cinema_year</th>\n",
       "      <th>released_year</th>\n",
       "      <th>part_in_cinema</th>\n",
       "    </tr>\n",
       "  </thead>\n",
       "  <tbody>\n",
       "    <tr>\n",
       "      <th>0</th>\n",
       "      <td>2010</td>\n",
       "      <td>105</td>\n",
       "      <td>985</td>\n",
       "      <td>0.106599</td>\n",
       "    </tr>\n",
       "    <tr>\n",
       "      <th>1</th>\n",
       "      <td>2011</td>\n",
       "      <td>109</td>\n",
       "      <td>622</td>\n",
       "      <td>0.175241</td>\n",
       "    </tr>\n",
       "    <tr>\n",
       "      <th>2</th>\n",
       "      <td>2012</td>\n",
       "      <td>128</td>\n",
       "      <td>593</td>\n",
       "      <td>0.215852</td>\n",
       "    </tr>\n",
       "    <tr>\n",
       "      <th>3</th>\n",
       "      <td>2013</td>\n",
       "      <td>184</td>\n",
       "      <td>630</td>\n",
       "      <td>0.292063</td>\n",
       "    </tr>\n",
       "    <tr>\n",
       "      <th>4</th>\n",
       "      <td>2014</td>\n",
       "      <td>279</td>\n",
       "      <td>806</td>\n",
       "      <td>0.346154</td>\n",
       "    </tr>\n",
       "    <tr>\n",
       "      <th>5</th>\n",
       "      <td>2015</td>\n",
       "      <td>465</td>\n",
       "      <td>705</td>\n",
       "      <td>0.659574</td>\n",
       "    </tr>\n",
       "    <tr>\n",
       "      <th>6</th>\n",
       "      <td>2016</td>\n",
       "      <td>526</td>\n",
       "      <td>818</td>\n",
       "      <td>0.643032</td>\n",
       "    </tr>\n",
       "    <tr>\n",
       "      <th>7</th>\n",
       "      <td>2017</td>\n",
       "      <td>357</td>\n",
       "      <td>505</td>\n",
       "      <td>0.706931</td>\n",
       "    </tr>\n",
       "    <tr>\n",
       "      <th>8</th>\n",
       "      <td>2018</td>\n",
       "      <td>475</td>\n",
       "      <td>891</td>\n",
       "      <td>0.533109</td>\n",
       "    </tr>\n",
       "    <tr>\n",
       "      <th>9</th>\n",
       "      <td>2019</td>\n",
       "      <td>530</td>\n",
       "      <td>930</td>\n",
       "      <td>0.569892</td>\n",
       "    </tr>\n",
       "  </tbody>\n",
       "</table>\n",
       "</div>"
      ],
      "text/plain": [
       "   year  in_cinema_year  released_year  part_in_cinema\n",
       "0  2010             105            985        0.106599\n",
       "1  2011             109            622        0.175241\n",
       "2  2012             128            593        0.215852\n",
       "3  2013             184            630        0.292063\n",
       "4  2014             279            806        0.346154\n",
       "5  2015             465            705        0.659574\n",
       "6  2016             526            818        0.643032\n",
       "7  2017             357            505        0.706931\n",
       "8  2018             475            891        0.533109\n",
       "9  2019             530            930        0.569892"
      ]
     },
     "execution_count": 42,
     "metadata": {},
     "output_type": "execute_result"
    }
   ],
   "source": [
    "data_per_year = data_cinema.merge(data_films, on =data_films.index,how = 'left')\n",
    "data_per_year.columns = ['year', 'in_cinema_year', 'released_year']\n",
    "data_per_year['part_in_cinema'] = data_per_year['in_cinema_year']/data_per_year['released_year'] \n",
    "data_per_year"
   ]
  },
  {
   "cell_type": "markdown",
   "metadata": {},
   "source": [
    "Мы получили таблицу, описывающую долю фильмов, попавших каждый год в кинотеатры относительно всех вышедших фильмов года. Теперь представим ее визуально"
   ]
  },
  {
   "cell_type": "code",
   "execution_count": 43,
   "metadata": {},
   "outputs": [
    {
     "data": {
      "text/plain": [
       "<AxesSubplot:title={'center':'Количество фильмов по годам'}, xlabel='year'>"
      ]
     },
     "execution_count": 43,
     "metadata": {},
     "output_type": "execute_result"
    },
    {
     "data": {
      "image/png": "[encoded data removed]",
      "text/plain": [
       "<Figure size 1440x1080 with 1 Axes>"
      ]
     },
     "metadata": {
      "needs_background": "light"
     },
     "output_type": "display_data"
    }
   ],
   "source": [
    "data_per_year.plot(x = 'year', kind='bar', figsize = (20, 15), grid = True, title='Количество фильмов по годам')"
   ]
  },
  {
   "cell_type": "code",
   "execution_count": 44,
   "metadata": {
    "scrolled": false
   },
   "outputs": [
    {
     "data": {
      "text/plain": [
       "<AxesSubplot:title={'center':'Доля фильмов с информацией о прокате в кинотеатрах'}, xlabel='year'>"
      ]
     },
     "execution_count": 44,
     "metadata": {},
     "output_type": "execute_result"
    },
    {
     "data": {
      "image/png": "[encoded data removed]",
      "text/plain": [
       "<Figure size 1440x1080 with 1 Axes>"
      ]
     },
     "metadata": {
      "needs_background": "light"
     },
     "output_type": "display_data"
    }
   ],
   "source": [
    "data_per_year.plot(x='year', y='part_in_cinema', figsize = (20, 15), grid = True, title='Доля фильмов с информацией о прокате в кинотеатрах')"
   ]
  },
  {
   "cell_type": "code",
   "execution_count": 45,
   "metadata": {},
   "outputs": [
    {
     "data": {
      "text/html": [
       "<div>\n",
       "<style scoped>\n",
       "    .dataframe tbody tr th:only-of-type {\n",
       "        vertical-align: middle;\n",
       "    }\n",
       "\n",
       "    .dataframe tbody tr th {\n",
       "        vertical-align: top;\n",
       "    }\n",
       "\n",
       "    .dataframe thead th {\n",
       "        text-align: right;\n",
       "    }\n",
       "</style>\n",
       "<table border=\"1\" class=\"dataframe\">\n",
       "  <thead>\n",
       "    <tr style=\"text-align: right;\">\n",
       "      <th></th>\n",
       "      <th>year</th>\n",
       "      <th>in_cinema_year</th>\n",
       "      <th>released_year</th>\n",
       "      <th>part_in_cinema</th>\n",
       "    </tr>\n",
       "  </thead>\n",
       "  <tbody>\n",
       "    <tr>\n",
       "      <th>count</th>\n",
       "      <td>10.00000</td>\n",
       "      <td>10.000000</td>\n",
       "      <td>10.000000</td>\n",
       "      <td>10.000000</td>\n",
       "    </tr>\n",
       "    <tr>\n",
       "      <th>mean</th>\n",
       "      <td>2014.50000</td>\n",
       "      <td>315.800000</td>\n",
       "      <td>748.500000</td>\n",
       "      <td>0.424845</td>\n",
       "    </tr>\n",
       "    <tr>\n",
       "      <th>std</th>\n",
       "      <td>3.02765</td>\n",
       "      <td>176.561478</td>\n",
       "      <td>160.805783</td>\n",
       "      <td>0.222641</td>\n",
       "    </tr>\n",
       "    <tr>\n",
       "      <th>min</th>\n",
       "      <td>2010.00000</td>\n",
       "      <td>105.000000</td>\n",
       "      <td>505.000000</td>\n",
       "      <td>0.106599</td>\n",
       "    </tr>\n",
       "    <tr>\n",
       "      <th>25%</th>\n",
       "      <td>2012.25000</td>\n",
       "      <td>142.000000</td>\n",
       "      <td>624.000000</td>\n",
       "      <td>0.234905</td>\n",
       "    </tr>\n",
       "    <tr>\n",
       "      <th>50%</th>\n",
       "      <td>2014.50000</td>\n",
       "      <td>318.000000</td>\n",
       "      <td>755.500000</td>\n",
       "      <td>0.439631</td>\n",
       "    </tr>\n",
       "    <tr>\n",
       "      <th>75%</th>\n",
       "      <td>2016.75000</td>\n",
       "      <td>472.500000</td>\n",
       "      <td>872.750000</td>\n",
       "      <td>0.624747</td>\n",
       "    </tr>\n",
       "    <tr>\n",
       "      <th>max</th>\n",
       "      <td>2019.00000</td>\n",
       "      <td>530.000000</td>\n",
       "      <td>985.000000</td>\n",
       "      <td>0.706931</td>\n",
       "    </tr>\n",
       "  </tbody>\n",
       "</table>\n",
       "</div>"
      ],
      "text/plain": [
       "             year  in_cinema_year  released_year  part_in_cinema\n",
       "count    10.00000       10.000000      10.000000       10.000000\n",
       "mean   2014.50000      315.800000     748.500000        0.424845\n",
       "std       3.02765      176.561478     160.805783        0.222641\n",
       "min    2010.00000      105.000000     505.000000        0.106599\n",
       "25%    2012.25000      142.000000     624.000000        0.234905\n",
       "50%    2014.50000      318.000000     755.500000        0.439631\n",
       "75%    2016.75000      472.500000     872.750000        0.624747\n",
       "max    2019.00000      530.000000     985.000000        0.706931"
      ]
     },
     "execution_count": 45,
     "metadata": {},
     "output_type": "execute_result"
    }
   ],
   "source": [
    "data_per_year.describe()"
   ]
  },
  {
   "cell_type": "markdown",
   "metadata": {},
   "source": [
    "Данные о прокате в кинотеатрах известны не для всех фильмов, возможно по той причине, что фильм не получил одобрения от министрества культуры или прокатывался не в кинотеатрах.  \n",
    "\n",
    "В среднем, в прокат в целом выходило около 750 фильмов в год, а в прокат в кинотеатры попадало в 2.5 раза меньше - 300 фильмов в год.\n",
    "\n",
    "Количество фильмов, выходивших в прокат в кино стабильно растет, начиная с 2010 года до 2017, после чего произошло небольшое снижение. Рост прокатываемых в кино фильмов можно объяснить:\n",
    "1. Увеличение покупательской способности населения. Просто появились деньги на кино\n",
    "2. Возможное снижение цен на прокатные удостоверения\n",
    "3. Увеличение качества кинематографа с развитием технологий + бум 3D фильмов\n",
    "\n",
    "Возможные причины снижения проката в кино в 2017 году:\n",
    "1. Развитие рынков онлайн-кинотеатров\n",
    "2. С развитием интернета стало развиваться пиратство\n",
    "3. Потеря интреса аудитории"
   ]
  },
  {
   "cell_type": "markdown",
   "metadata": {},
   "source": [
    "<div class=\"alert alert-success\">\n",
    "<h2> Комментарий ревьюера V1<a class=\"tocSkip\"> </h2>\n",
    "\n",
    "<b>Все отлично!👍:</b> Абсолютно верно провел расчеты и все проанализировал, молодец!"
   ]
  },
  {
   "cell_type": "markdown",
   "metadata": {
    "id": "BEOdcIrIgFyW"
   },
   "source": [
    "- Изучите, как менялась динамика проката по годам. В каком году сумма сборов была минимальной? А максимальной?"
   ]
  },
  {
   "cell_type": "code",
   "execution_count": 46,
   "metadata": {
    "id": "tfEhofYvgFyX"
   },
   "outputs": [
    {
     "data": {
      "text/html": [
       "<div>\n",
       "<style scoped>\n",
       "    .dataframe tbody tr th:only-of-type {\n",
       "        vertical-align: middle;\n",
       "    }\n",
       "\n",
       "    .dataframe tbody tr th {\n",
       "        vertical-align: top;\n",
       "    }\n",
       "\n",
       "    .dataframe thead tr th {\n",
       "        text-align: left;\n",
       "    }\n",
       "\n",
       "    .dataframe thead tr:last-of-type th {\n",
       "        text-align: right;\n",
       "    }\n",
       "</style>\n",
       "<table border=\"1\" class=\"dataframe\">\n",
       "  <thead>\n",
       "    <tr>\n",
       "      <th></th>\n",
       "      <th>count</th>\n",
       "      <th>sum</th>\n",
       "      <th>mean</th>\n",
       "    </tr>\n",
       "    <tr>\n",
       "      <th></th>\n",
       "      <th>box_office</th>\n",
       "      <th>box_office</th>\n",
       "      <th>box_office</th>\n",
       "    </tr>\n",
       "    <tr>\n",
       "      <th>year_of_show</th>\n",
       "      <th></th>\n",
       "      <th></th>\n",
       "      <th></th>\n",
       "    </tr>\n",
       "  </thead>\n",
       "  <tbody>\n",
       "    <tr>\n",
       "      <th>2010</th>\n",
       "      <td>105</td>\n",
       "      <td>2.428654e+06</td>\n",
       "      <td>2.313004e+04</td>\n",
       "    </tr>\n",
       "    <tr>\n",
       "      <th>2011</th>\n",
       "      <td>109</td>\n",
       "      <td>1.410276e+07</td>\n",
       "      <td>1.293832e+05</td>\n",
       "    </tr>\n",
       "    <tr>\n",
       "      <th>2012</th>\n",
       "      <td>128</td>\n",
       "      <td>6.955423e+06</td>\n",
       "      <td>5.433924e+04</td>\n",
       "    </tr>\n",
       "    <tr>\n",
       "      <th>2013</th>\n",
       "      <td>184</td>\n",
       "      <td>2.979971e+07</td>\n",
       "      <td>1.619549e+05</td>\n",
       "    </tr>\n",
       "    <tr>\n",
       "      <th>2014</th>\n",
       "      <td>279</td>\n",
       "      <td>7.444952e+09</td>\n",
       "      <td>2.668442e+07</td>\n",
       "    </tr>\n",
       "    <tr>\n",
       "      <th>2015</th>\n",
       "      <td>465</td>\n",
       "      <td>3.949737e+10</td>\n",
       "      <td>8.494057e+07</td>\n",
       "    </tr>\n",
       "    <tr>\n",
       "      <th>2016</th>\n",
       "      <td>526</td>\n",
       "      <td>4.786630e+10</td>\n",
       "      <td>9.100057e+07</td>\n",
       "    </tr>\n",
       "    <tr>\n",
       "      <th>2017</th>\n",
       "      <td>357</td>\n",
       "      <td>4.856371e+10</td>\n",
       "      <td>1.360328e+08</td>\n",
       "    </tr>\n",
       "    <tr>\n",
       "      <th>2018</th>\n",
       "      <td>475</td>\n",
       "      <td>4.966840e+10</td>\n",
       "      <td>1.045651e+08</td>\n",
       "    </tr>\n",
       "    <tr>\n",
       "      <th>2019</th>\n",
       "      <td>530</td>\n",
       "      <td>4.842571e+10</td>\n",
       "      <td>9.136926e+07</td>\n",
       "    </tr>\n",
       "  </tbody>\n",
       "</table>\n",
       "</div>"
      ],
      "text/plain": [
       "                  count           sum          mean\n",
       "             box_office    box_office    box_office\n",
       "year_of_show                                       \n",
       "2010                105  2.428654e+06  2.313004e+04\n",
       "2011                109  1.410276e+07  1.293832e+05\n",
       "2012                128  6.955423e+06  5.433924e+04\n",
       "2013                184  2.979971e+07  1.619549e+05\n",
       "2014                279  7.444952e+09  2.668442e+07\n",
       "2015                465  3.949737e+10  8.494057e+07\n",
       "2016                526  4.786630e+10  9.100057e+07\n",
       "2017                357  4.856371e+10  1.360328e+08\n",
       "2018                475  4.966840e+10  1.045651e+08\n",
       "2019                530  4.842571e+10  9.136926e+07"
      ]
     },
     "execution_count": 46,
     "metadata": {},
     "output_type": "execute_result"
    }
   ],
   "source": [
    "data_finance_year = data.pivot_table(index = 'year_of_show', values = 'box_office', aggfunc = ['count', 'sum', 'mean'])\n",
    "data_finance_year"
   ]
  },
  {
   "cell_type": "markdown",
   "metadata": {},
   "source": [
    "Проиллюстрируем, как менялись сборы и средние сборы по годам"
   ]
  },
  {
   "cell_type": "markdown",
   "metadata": {},
   "source": [
    "Общие сборы"
   ]
  },
  {
   "cell_type": "code",
   "execution_count": 47,
   "metadata": {},
   "outputs": [
    {
     "data": {
      "text/plain": [
       "Text(0, 0.5, 'Сборы в десятках миллиардах рублей')"
      ]
     },
     "execution_count": 47,
     "metadata": {},
     "output_type": "execute_result"
    },
    {
     "data": {
      "image/png": "[encoded data removed]",
      "text/plain": [
       "<Figure size 1440x1080 with 1 Axes>"
      ]
     },
     "metadata": {
      "needs_background": "light"
     },
     "output_type": "display_data"
    }
   ],
   "source": [
    "data_finance_year['sum'].plot(figsize = (20, 15), kind ='bar')\n",
    "plt.xlabel('Годы')\n",
    "plt.ylabel('Сборы в десятках миллиардах рублей')"
   ]
  },
  {
   "cell_type": "markdown",
   "metadata": {},
   "source": [
    "С каждым годом наблюдается рост объема кассовых сборов. Минимальная общая сумма кассовых сборов составила 2,4 млн руб - в 2010 году, а максимальная сумма составила 50 млрд. руб. -  в 2018 году.\n",
    "\n",
    "В 2018 сведений о кассовых сборах по фильмам было в 4,5 раза больше, чем в 2010, но рост в объеме кассовых сборов несопоставим с ростом количества фильмов. Это означает, что растёт средняя величина кассовых сборов, однако в период с 2010 по 2013 средние значения не превышали миллиона рублей, что маловероятно.\n",
    "\n",
    "Давайте детальнее рассмотрим 5 самых кассовых фильмов тех лет:"
   ]
  },
  {
   "cell_type": "code",
   "execution_count": 48,
   "metadata": {},
   "outputs": [
    {
     "data": {
      "text/html": [
       "<div>\n",
       "<style scoped>\n",
       "    .dataframe tbody tr th:only-of-type {\n",
       "        vertical-align: middle;\n",
       "    }\n",
       "\n",
       "    .dataframe tbody tr th {\n",
       "        vertical-align: top;\n",
       "    }\n",
       "\n",
       "    .dataframe thead th {\n",
       "        text-align: right;\n",
       "    }\n",
       "</style>\n",
       "<table border=\"1\" class=\"dataframe\">\n",
       "  <thead>\n",
       "    <tr style=\"text-align: right;\">\n",
       "      <th></th>\n",
       "      <th>title</th>\n",
       "      <th>pu_number</th>\n",
       "      <th>show_start_date</th>\n",
       "      <th>type</th>\n",
       "      <th>film_studio</th>\n",
       "      <th>production_country</th>\n",
       "      <th>director</th>\n",
       "      <th>producer</th>\n",
       "      <th>age_restriction</th>\n",
       "      <th>refundable_support</th>\n",
       "      <th>nonrefundable_support</th>\n",
       "      <th>budget</th>\n",
       "      <th>financing_source</th>\n",
       "      <th>ratings</th>\n",
       "      <th>genres</th>\n",
       "      <th>box_office</th>\n",
       "      <th>year_of_show</th>\n",
       "      <th>main_director</th>\n",
       "      <th>main_genre</th>\n",
       "      <th>participation_of_gov</th>\n",
       "    </tr>\n",
       "  </thead>\n",
       "  <tbody>\n",
       "    <tr>\n",
       "      <th>4317</th>\n",
       "      <td>Морские динозавры 3D: Путешествие в доисториче...</td>\n",
       "      <td>123000210</td>\n",
       "      <td>2010-09-16 12:00:00+00:00</td>\n",
       "      <td>Научно-популярный</td>\n",
       "      <td>Мантелло Бразерс, Эн 3 Ди Лэнд Продакшнз</td>\n",
       "      <td>Франция,Великобритания</td>\n",
       "      <td>Паскаль Вонг, Ронан Чапалэйн</td>\n",
       "      <td>Кэтрин Вонг, Паскаль Вонг, Франсуа Мантелло</td>\n",
       "      <td>«0+» - для любой зрительской аудитории</td>\n",
       "      <td>NaN</td>\n",
       "      <td>NaN</td>\n",
       "      <td>NaN</td>\n",
       "      <td>NaN</td>\n",
       "      <td>6.9</td>\n",
       "      <td>документальный,короткометражка</td>\n",
       "      <td>1446400.0</td>\n",
       "      <td>2010</td>\n",
       "      <td>Паскаль Вонг</td>\n",
       "      <td>документальный</td>\n",
       "      <td>NaN</td>\n",
       "    </tr>\n",
       "    <tr>\n",
       "      <th>4300</th>\n",
       "      <td>Хаббл 3D</td>\n",
       "      <td>122000610</td>\n",
       "      <td>2010-09-23 12:00:00+00:00</td>\n",
       "      <td>Документальный</td>\n",
       "      <td>Аймакс Спейс, Уорнер Бразерс</td>\n",
       "      <td>США</td>\n",
       "      <td>Тони Майерс</td>\n",
       "      <td>Тони Майерс</td>\n",
       "      <td>«0+» - для любой зрительской аудитории</td>\n",
       "      <td>NaN</td>\n",
       "      <td>NaN</td>\n",
       "      <td>NaN</td>\n",
       "      <td>NaN</td>\n",
       "      <td>7.6</td>\n",
       "      <td>документальный</td>\n",
       "      <td>245630.0</td>\n",
       "      <td>2010</td>\n",
       "      <td>Тони Майерс</td>\n",
       "      <td>документальный</td>\n",
       "      <td>NaN</td>\n",
       "    </tr>\n",
       "    <tr>\n",
       "      <th>4210</th>\n",
       "      <td>Братья      .</td>\n",
       "      <td>121013710</td>\n",
       "      <td>2010-07-21 12:00:00+00:00</td>\n",
       "      <td>Художественный</td>\n",
       "      <td>Лайонсгейт, Релативити Медиа, Сайуотссон Филмз...</td>\n",
       "      <td>США</td>\n",
       "      <td>Джим Шеридан</td>\n",
       "      <td>Майкл Де Люка, Райан Кавана</td>\n",
       "      <td>«16+» - для детей старше 16 лет</td>\n",
       "      <td>NaN</td>\n",
       "      <td>NaN</td>\n",
       "      <td>NaN</td>\n",
       "      <td>NaN</td>\n",
       "      <td>7.5</td>\n",
       "      <td>боевик,триллер,драма</td>\n",
       "      <td>168411.0</td>\n",
       "      <td>2010</td>\n",
       "      <td>Джим Шеридан</td>\n",
       "      <td>боевик</td>\n",
       "      <td>NaN</td>\n",
       "    </tr>\n",
       "    <tr>\n",
       "      <th>4310</th>\n",
       "      <td>Стоун</td>\n",
       "      <td>121018410</td>\n",
       "      <td>2010-10-07 12:00:00+00:00</td>\n",
       "      <td>Художественный</td>\n",
       "      <td>Мимран Шур Пикчерз, Холли Виерсма Продакшнз, М...</td>\n",
       "      <td>США</td>\n",
       "      <td>Джон Кёрран</td>\n",
       "      <td>Рене Бессон, Дэнни Димборт, Уилл Френч</td>\n",
       "      <td>«16+» - для детей старше 16 лет</td>\n",
       "      <td>NaN</td>\n",
       "      <td>NaN</td>\n",
       "      <td>NaN</td>\n",
       "      <td>NaN</td>\n",
       "      <td>8.1</td>\n",
       "      <td>аниме,мультфильм,боевик</td>\n",
       "      <td>54060.0</td>\n",
       "      <td>2010</td>\n",
       "      <td>Джон Кёрран</td>\n",
       "      <td>аниме</td>\n",
       "      <td>NaN</td>\n",
       "    </tr>\n",
       "    <tr>\n",
       "      <th>4661</th>\n",
       "      <td>Три богатыря и Шамаханская царица</td>\n",
       "      <td>114001310</td>\n",
       "      <td>2010-12-15 12:00:00+00:00</td>\n",
       "      <td>Анимационный</td>\n",
       "      <td>ООО \"Студия анимационного кино \"Мельница\"</td>\n",
       "      <td>Россия</td>\n",
       "      <td>С.Глезин</td>\n",
       "      <td>С.Сельянов, А.Боярский</td>\n",
       "      <td>«12+» - для детей старше 12 лет</td>\n",
       "      <td>NaN</td>\n",
       "      <td>NaN</td>\n",
       "      <td>NaN</td>\n",
       "      <td>NaN</td>\n",
       "      <td>6.9</td>\n",
       "      <td>мультфильм,фэнтези,комедия</td>\n",
       "      <td>45225.0</td>\n",
       "      <td>2010</td>\n",
       "      <td>С.Глезин</td>\n",
       "      <td>мультфильм</td>\n",
       "      <td>NaN</td>\n",
       "    </tr>\n",
       "  </tbody>\n",
       "</table>\n",
       "</div>"
      ],
      "text/plain": [
       "                                                  title  pu_number  \\\n",
       "4317  Морские динозавры 3D: Путешествие в доисториче...  123000210   \n",
       "4300                                           Хаббл 3D  122000610   \n",
       "4210                                      Братья      .  121013710   \n",
       "4310                                              Стоун  121018410   \n",
       "4661                  Три богатыря и Шамаханская царица  114001310   \n",
       "\n",
       "               show_start_date               type  \\\n",
       "4317 2010-09-16 12:00:00+00:00  Научно-популярный   \n",
       "4300 2010-09-23 12:00:00+00:00     Документальный   \n",
       "4210 2010-07-21 12:00:00+00:00     Художественный   \n",
       "4310 2010-10-07 12:00:00+00:00     Художественный   \n",
       "4661 2010-12-15 12:00:00+00:00       Анимационный   \n",
       "\n",
       "                                            film_studio  \\\n",
       "4317           Мантелло Бразерс, Эн 3 Ди Лэнд Продакшнз   \n",
       "4300                       Аймакс Спейс, Уорнер Бразерс   \n",
       "4210  Лайонсгейт, Релативити Медиа, Сайуотссон Филмз...   \n",
       "4310  Мимран Шур Пикчерз, Холли Виерсма Продакшнз, М...   \n",
       "4661          ООО \"Студия анимационного кино \"Мельница\"   \n",
       "\n",
       "          production_country                      director  \\\n",
       "4317  Франция,Великобритания  Паскаль Вонг, Ронан Чапалэйн   \n",
       "4300                     США                   Тони Майерс   \n",
       "4210                     США                  Джим Шеридан   \n",
       "4310                     США                   Джон Кёрран   \n",
       "4661                  Россия                      С.Глезин   \n",
       "\n",
       "                                         producer  \\\n",
       "4317  Кэтрин Вонг, Паскаль Вонг, Франсуа Мантелло   \n",
       "4300                                  Тони Майерс   \n",
       "4210                  Майкл Де Люка, Райан Кавана   \n",
       "4310       Рене Бессон, Дэнни Димборт, Уилл Френч   \n",
       "4661                       С.Сельянов, А.Боярский   \n",
       "\n",
       "                             age_restriction  refundable_support  \\\n",
       "4317  «0+» - для любой зрительской аудитории                 NaN   \n",
       "4300  «0+» - для любой зрительской аудитории                 NaN   \n",
       "4210         «16+» - для детей старше 16 лет                 NaN   \n",
       "4310         «16+» - для детей старше 16 лет                 NaN   \n",
       "4661         «12+» - для детей старше 12 лет                 NaN   \n",
       "\n",
       "      nonrefundable_support  budget financing_source  ratings  \\\n",
       "4317                    NaN     NaN              NaN      6.9   \n",
       "4300                    NaN     NaN              NaN      7.6   \n",
       "4210                    NaN     NaN              NaN      7.5   \n",
       "4310                    NaN     NaN              NaN      8.1   \n",
       "4661                    NaN     NaN              NaN      6.9   \n",
       "\n",
       "                              genres  box_office  year_of_show main_director  \\\n",
       "4317  документальный,короткометражка   1446400.0          2010  Паскаль Вонг   \n",
       "4300                  документальный    245630.0          2010   Тони Майерс   \n",
       "4210            боевик,триллер,драма    168411.0          2010  Джим Шеридан   \n",
       "4310         аниме,мультфильм,боевик     54060.0          2010   Джон Кёрран   \n",
       "4661      мультфильм,фэнтези,комедия     45225.0          2010      С.Глезин   \n",
       "\n",
       "          main_genre  participation_of_gov  \n",
       "4317  документальный                   NaN  \n",
       "4300  документальный                   NaN  \n",
       "4210          боевик                   NaN  \n",
       "4310           аниме                   NaN  \n",
       "4661      мультфильм                   NaN  "
      ]
     },
     "execution_count": 48,
     "metadata": {},
     "output_type": "execute_result"
    }
   ],
   "source": [
    "data.loc[data['year_of_show'] ==2010].sort_values('box_office', ascending=False).head(5)"
   ]
  },
  {
   "cell_type": "markdown",
   "metadata": {},
   "source": [
    "В 2010 максимальные сборы не превышали 2 миллионов рублей, несмотря на выход проектов, которые были в то время популярны у публики. Это обозначает неоьъективность данных или техническую ошибку с переносом разрядов числа  или валюты"
   ]
  },
  {
   "cell_type": "code",
   "execution_count": 49,
   "metadata": {},
   "outputs": [
    {
     "data": {
      "text/html": [
       "<div>\n",
       "<style scoped>\n",
       "    .dataframe tbody tr th:only-of-type {\n",
       "        vertical-align: middle;\n",
       "    }\n",
       "\n",
       "    .dataframe tbody tr th {\n",
       "        vertical-align: top;\n",
       "    }\n",
       "\n",
       "    .dataframe thead th {\n",
       "        text-align: right;\n",
       "    }\n",
       "</style>\n",
       "<table border=\"1\" class=\"dataframe\">\n",
       "  <thead>\n",
       "    <tr style=\"text-align: right;\">\n",
       "      <th></th>\n",
       "      <th>title</th>\n",
       "      <th>pu_number</th>\n",
       "      <th>show_start_date</th>\n",
       "      <th>type</th>\n",
       "      <th>film_studio</th>\n",
       "      <th>production_country</th>\n",
       "      <th>director</th>\n",
       "      <th>producer</th>\n",
       "      <th>age_restriction</th>\n",
       "      <th>refundable_support</th>\n",
       "      <th>nonrefundable_support</th>\n",
       "      <th>budget</th>\n",
       "      <th>financing_source</th>\n",
       "      <th>ratings</th>\n",
       "      <th>genres</th>\n",
       "      <th>box_office</th>\n",
       "      <th>year_of_show</th>\n",
       "      <th>main_director</th>\n",
       "      <th>main_genre</th>\n",
       "      <th>participation_of_gov</th>\n",
       "    </tr>\n",
       "  </thead>\n",
       "  <tbody>\n",
       "    <tr>\n",
       "      <th>5091</th>\n",
       "      <td>Черные дыры: Обратная сторона Вселенной</td>\n",
       "      <td>122000611</td>\n",
       "      <td>2011-05-25 12:00:00+00:00</td>\n",
       "      <td>Документальный</td>\n",
       "      <td>Денверский музей естествознания</td>\n",
       "      <td>США</td>\n",
       "      <td>Томас Лукас</td>\n",
       "      <td>Йослин Скомер</td>\n",
       "      <td>«0+» - для любой зрительской аудитории</td>\n",
       "      <td>NaN</td>\n",
       "      <td>NaN</td>\n",
       "      <td>NaN</td>\n",
       "      <td>NaN</td>\n",
       "      <td>NaN</td>\n",
       "      <td>неизвестно</td>\n",
       "      <td>11618085.0</td>\n",
       "      <td>2011</td>\n",
       "      <td>Томас Лукас</td>\n",
       "      <td>неизвестно</td>\n",
       "      <td>NaN</td>\n",
       "    </tr>\n",
       "    <tr>\n",
       "      <th>5087</th>\n",
       "      <td>Естественный отбор /По книгам Чарльза Дарвина ...</td>\n",
       "      <td>122000311</td>\n",
       "      <td>2011-05-25 12:00:00+00:00</td>\n",
       "      <td>Документальный</td>\n",
       "      <td>Мираж 3D</td>\n",
       "      <td>Нидерланды</td>\n",
       "      <td>Робин Сип</td>\n",
       "      <td>Робин Сип</td>\n",
       "      <td>«0+» - для любой зрительской аудитории</td>\n",
       "      <td>NaN</td>\n",
       "      <td>NaN</td>\n",
       "      <td>NaN</td>\n",
       "      <td>NaN</td>\n",
       "      <td>8.4</td>\n",
       "      <td>комедия</td>\n",
       "      <td>860810.0</td>\n",
       "      <td>2011</td>\n",
       "      <td>Робин Сип</td>\n",
       "      <td>комедия</td>\n",
       "      <td>NaN</td>\n",
       "    </tr>\n",
       "    <tr>\n",
       "      <th>5090</th>\n",
       "      <td>Райд \"Сатурн\" из серии \"Космический парк 360\"</td>\n",
       "      <td>126001811</td>\n",
       "      <td>2011-05-25 12:00:00+00:00</td>\n",
       "      <td>Прочие</td>\n",
       "      <td>Дом 3D</td>\n",
       "      <td>США</td>\n",
       "      <td>Мэтью Маскери, Майкл Нарлок, Джейсон Хитон</td>\n",
       "      <td>Мэтью Маскери, Майкл Нарлок, Джейсон Хитон</td>\n",
       "      <td>«0+» - для любой зрительской аудитории</td>\n",
       "      <td>NaN</td>\n",
       "      <td>NaN</td>\n",
       "      <td>NaN</td>\n",
       "      <td>NaN</td>\n",
       "      <td>NaN</td>\n",
       "      <td>неизвестно</td>\n",
       "      <td>421940.0</td>\n",
       "      <td>2011</td>\n",
       "      <td>Мэтью Маскери</td>\n",
       "      <td>неизвестно</td>\n",
       "      <td>NaN</td>\n",
       "    </tr>\n",
       "    <tr>\n",
       "      <th>4954</th>\n",
       "      <td>Смурфики</td>\n",
       "      <td>121011911</td>\n",
       "      <td>2011-08-10 12:00:00+00:00</td>\n",
       "      <td>Художественный</td>\n",
       "      <td>Коламбиа Пикчерз, Кернер Интертейнмент Компани...</td>\n",
       "      <td>США,Бельгия</td>\n",
       "      <td>Раджа Госнелл</td>\n",
       "      <td>Джордан Кернер</td>\n",
       "      <td>«0+» - для любой зрительской аудитории</td>\n",
       "      <td>NaN</td>\n",
       "      <td>NaN</td>\n",
       "      <td>NaN</td>\n",
       "      <td>NaN</td>\n",
       "      <td>6.0</td>\n",
       "      <td>мультфильм,фэнтези,комедия</td>\n",
       "      <td>105700.0</td>\n",
       "      <td>2011</td>\n",
       "      <td>Раджа Госнелл</td>\n",
       "      <td>мультфильм</td>\n",
       "      <td>NaN</td>\n",
       "    </tr>\n",
       "    <tr>\n",
       "      <th>5224</th>\n",
       "      <td>Кунг-фу Панда 2</td>\n",
       "      <td>124000911</td>\n",
       "      <td>2011-04-28 12:00:00+00:00</td>\n",
       "      <td>Анимационный</td>\n",
       "      <td>ДримУоркс Анимэйшн</td>\n",
       "      <td>США</td>\n",
       "      <td>Дженнифер Ю</td>\n",
       "      <td>Мелисса Кобб</td>\n",
       "      <td>«0+» - для любой зрительской аудитории</td>\n",
       "      <td>NaN</td>\n",
       "      <td>NaN</td>\n",
       "      <td>NaN</td>\n",
       "      <td>NaN</td>\n",
       "      <td>7.4</td>\n",
       "      <td>мультфильм,фэнтези,боевик</td>\n",
       "      <td>94515.0</td>\n",
       "      <td>2011</td>\n",
       "      <td>Дженнифер Ю</td>\n",
       "      <td>мультфильм</td>\n",
       "      <td>NaN</td>\n",
       "    </tr>\n",
       "  </tbody>\n",
       "</table>\n",
       "</div>"
      ],
      "text/plain": [
       "                                                  title  pu_number  \\\n",
       "5091            Черные дыры: Обратная сторона Вселенной  122000611   \n",
       "5087  Естественный отбор /По книгам Чарльза Дарвина ...  122000311   \n",
       "5090      Райд \"Сатурн\" из серии \"Космический парк 360\"  126001811   \n",
       "4954                                           Смурфики  121011911   \n",
       "5224                                    Кунг-фу Панда 2  124000911   \n",
       "\n",
       "               show_start_date            type  \\\n",
       "5091 2011-05-25 12:00:00+00:00  Документальный   \n",
       "5087 2011-05-25 12:00:00+00:00  Документальный   \n",
       "5090 2011-05-25 12:00:00+00:00          Прочие   \n",
       "4954 2011-08-10 12:00:00+00:00  Художественный   \n",
       "5224 2011-04-28 12:00:00+00:00    Анимационный   \n",
       "\n",
       "                                            film_studio production_country  \\\n",
       "5091                    Денверский музей естествознания                США   \n",
       "5087                                           Мираж 3D         Нидерланды   \n",
       "5090                                             Дом 3D                США   \n",
       "4954  Коламбиа Пикчерз, Кернер Интертейнмент Компани...        США,Бельгия   \n",
       "5224                                 ДримУоркс Анимэйшн                США   \n",
       "\n",
       "                                        director  \\\n",
       "5091                                 Томас Лукас   \n",
       "5087                                   Робин Сип   \n",
       "5090  Мэтью Маскери, Майкл Нарлок, Джейсон Хитон   \n",
       "4954                               Раджа Госнелл   \n",
       "5224                                 Дженнифер Ю   \n",
       "\n",
       "                                        producer  \\\n",
       "5091                               Йослин Скомер   \n",
       "5087                                   Робин Сип   \n",
       "5090  Мэтью Маскери, Майкл Нарлок, Джейсон Хитон   \n",
       "4954                              Джордан Кернер   \n",
       "5224                                Мелисса Кобб   \n",
       "\n",
       "                             age_restriction  refundable_support  \\\n",
       "5091  «0+» - для любой зрительской аудитории                 NaN   \n",
       "5087  «0+» - для любой зрительской аудитории                 NaN   \n",
       "5090  «0+» - для любой зрительской аудитории                 NaN   \n",
       "4954  «0+» - для любой зрительской аудитории                 NaN   \n",
       "5224  «0+» - для любой зрительской аудитории                 NaN   \n",
       "\n",
       "      nonrefundable_support  budget financing_source  ratings  \\\n",
       "5091                    NaN     NaN              NaN      NaN   \n",
       "5087                    NaN     NaN              NaN      8.4   \n",
       "5090                    NaN     NaN              NaN      NaN   \n",
       "4954                    NaN     NaN              NaN      6.0   \n",
       "5224                    NaN     NaN              NaN      7.4   \n",
       "\n",
       "                          genres  box_office  year_of_show  main_director  \\\n",
       "5091                  неизвестно  11618085.0          2011    Томас Лукас   \n",
       "5087                     комедия    860810.0          2011      Робин Сип   \n",
       "5090                  неизвестно    421940.0          2011  Мэтью Маскери   \n",
       "4954  мультфильм,фэнтези,комедия    105700.0          2011  Раджа Госнелл   \n",
       "5224   мультфильм,фэнтези,боевик     94515.0          2011    Дженнифер Ю   \n",
       "\n",
       "      main_genre  participation_of_gov  \n",
       "5091  неизвестно                   NaN  \n",
       "5087     комедия                   NaN  \n",
       "5090  неизвестно                   NaN  \n",
       "4954  мультфильм                   NaN  \n",
       "5224  мультфильм                   NaN  "
      ]
     },
     "execution_count": 49,
     "metadata": {},
     "output_type": "execute_result"
    }
   ],
   "source": [
    "data.loc[data['year_of_show'] ==2011].sort_values('box_office', ascending=False).head(5)"
   ]
  },
  {
   "cell_type": "markdown",
   "metadata": {},
   "source": [
    "В 2011 мы видим схожую тенденцию, несмотря на адекватно перенесенный самый кассовый фильм, сборы менее 100 тысяч кажутся нереалистичными (особенно для кунг-фу панды - простите, мой любимый мультфильм)"
   ]
  },
  {
   "cell_type": "markdown",
   "metadata": {},
   "source": [
    "<div class=\"alert alert-success\">\n",
    "<h2> Комментарий ревьюера V1<a class=\"tocSkip\"> </h2>\n",
    "\n",
    "<b>Все отлично!👍:</b> Верно указал годы с минимальными и максимальными сборами, молодец что дополнительно фильмы проверил"
   ]
  },
  {
   "cell_type": "markdown",
   "metadata": {
    "id": "G-7qS-N-gFyY"
   },
   "source": [
    "- С помощью сводной таблицы посчитайте среднюю и медианную сумму сборов для каждого года."
   ]
  },
  {
   "cell_type": "markdown",
   "metadata": {},
   "source": [
    "Преобразуем таблицу, полученную в предыдущем пункте"
   ]
  },
  {
   "cell_type": "code",
   "execution_count": 50,
   "metadata": {
    "id": "jmp-rgg9gFyY"
   },
   "outputs": [
    {
     "data": {
      "text/html": [
       "<div>\n",
       "<style scoped>\n",
       "    .dataframe tbody tr th:only-of-type {\n",
       "        vertical-align: middle;\n",
       "    }\n",
       "\n",
       "    .dataframe tbody tr th {\n",
       "        vertical-align: top;\n",
       "    }\n",
       "\n",
       "    .dataframe thead tr th {\n",
       "        text-align: left;\n",
       "    }\n",
       "\n",
       "    .dataframe thead tr:last-of-type th {\n",
       "        text-align: right;\n",
       "    }\n",
       "</style>\n",
       "<table border=\"1\" class=\"dataframe\">\n",
       "  <thead>\n",
       "    <tr>\n",
       "      <th></th>\n",
       "      <th>mean</th>\n",
       "      <th>median</th>\n",
       "    </tr>\n",
       "    <tr>\n",
       "      <th></th>\n",
       "      <th>box_office</th>\n",
       "      <th>box_office</th>\n",
       "    </tr>\n",
       "    <tr>\n",
       "      <th>year_of_show</th>\n",
       "      <th></th>\n",
       "      <th></th>\n",
       "    </tr>\n",
       "  </thead>\n",
       "  <tbody>\n",
       "    <tr>\n",
       "      <th>2010</th>\n",
       "      <td>2.313004e+04</td>\n",
       "      <td>1700.000</td>\n",
       "    </tr>\n",
       "    <tr>\n",
       "      <th>2011</th>\n",
       "      <td>1.293832e+05</td>\n",
       "      <td>3000.000</td>\n",
       "    </tr>\n",
       "    <tr>\n",
       "      <th>2012</th>\n",
       "      <td>5.433924e+04</td>\n",
       "      <td>5660.000</td>\n",
       "    </tr>\n",
       "    <tr>\n",
       "      <th>2013</th>\n",
       "      <td>1.619549e+05</td>\n",
       "      <td>3522.500</td>\n",
       "    </tr>\n",
       "    <tr>\n",
       "      <th>2014</th>\n",
       "      <td>2.668442e+07</td>\n",
       "      <td>18160.000</td>\n",
       "    </tr>\n",
       "    <tr>\n",
       "      <th>2015</th>\n",
       "      <td>8.494057e+07</td>\n",
       "      <td>4920933.000</td>\n",
       "    </tr>\n",
       "    <tr>\n",
       "      <th>2016</th>\n",
       "      <td>9.100057e+07</td>\n",
       "      <td>3846679.410</td>\n",
       "    </tr>\n",
       "    <tr>\n",
       "      <th>2017</th>\n",
       "      <td>1.360328e+08</td>\n",
       "      <td>9968340.000</td>\n",
       "    </tr>\n",
       "    <tr>\n",
       "      <th>2018</th>\n",
       "      <td>1.045651e+08</td>\n",
       "      <td>8891102.210</td>\n",
       "    </tr>\n",
       "    <tr>\n",
       "      <th>2019</th>\n",
       "      <td>9.136926e+07</td>\n",
       "      <td>4627798.345</td>\n",
       "    </tr>\n",
       "  </tbody>\n",
       "</table>\n",
       "</div>"
      ],
      "text/plain": [
       "                      mean       median\n",
       "                box_office   box_office\n",
       "year_of_show                           \n",
       "2010          2.313004e+04     1700.000\n",
       "2011          1.293832e+05     3000.000\n",
       "2012          5.433924e+04     5660.000\n",
       "2013          1.619549e+05     3522.500\n",
       "2014          2.668442e+07    18160.000\n",
       "2015          8.494057e+07  4920933.000\n",
       "2016          9.100057e+07  3846679.410\n",
       "2017          1.360328e+08  9968340.000\n",
       "2018          1.045651e+08  8891102.210\n",
       "2019          9.136926e+07  4627798.345"
      ]
     },
     "execution_count": 50,
     "metadata": {},
     "output_type": "execute_result"
    }
   ],
   "source": [
    "data_finance_year = data.pivot_table(index = 'year_of_show', values = 'box_office', aggfunc = ['mean', 'median'])\n",
    "data_finance_year"
   ]
  },
  {
   "cell_type": "code",
   "execution_count": 51,
   "metadata": {},
   "outputs": [
    {
     "data": {
      "text/plain": [
       "Text(0, 0.5, 'Кассовые сборы в сотнях миллионов рублей')"
      ]
     },
     "execution_count": 51,
     "metadata": {},
     "output_type": "execute_result"
    },
    {
     "data": {
      "image/png": "[encoded data removed]",
      "text/plain": [
       "<Figure size 1440x1080 with 1 Axes>"
      ]
     },
     "metadata": {
      "needs_background": "light"
     },
     "output_type": "display_data"
    }
   ],
   "source": [
    "data_finance_year.plot(grid=True, figsize = (20, 15))\n",
    "plt.title('Кассовые сборы по годам')\n",
    "plt.xlabel('Годы')\n",
    "plt.ylabel('Кассовые сборы в сотнях миллионов рублей')"
   ]
  },
  {
   "cell_type": "markdown",
   "metadata": {},
   "source": [
    "При просмотре графиков можно сделать вывод, что медиана по кассовым сборам во много раз меньше средних сборов. \n",
    "\n",
    "Это свидетельствует о том, что есть некоторое количество фильмов с очень значительными сборами, что повлияло на среднююю величину, **однако** также нам обязательно надо учитывать аномалию отображения для фильмов 2010-2013 годов (Среднеие сбора менее 1 млн., а медиана менее 10 тыс. рублей)"
   ]
  },
  {
   "cell_type": "markdown",
   "metadata": {},
   "source": [
    "<div class=\"alert alert-success\">\n",
    "<h2> Комментарий ревьюера V1<a class=\"tocSkip\"> </h2>\n",
    "\n",
    "<b>Все отлично!👍:</b> Именно так, из-за фильмов бестселлеров наблюдается такая разница между статистиками"
   ]
  },
  {
   "cell_type": "markdown",
   "metadata": {
    "id": "Ok89WFwJgFyZ"
   },
   "source": [
    "- Определите, влияет ли возрастное ограничение аудитории («6+», «12+», «16+», «18+» и т. д.) на сборы фильма в прокате в период с 2015 по 2019 год? Фильмы с каким возрастным ограничением собрали больше всего денег в прокате? Меняется ли картина в зависимости от года? Если да, предположите, с чем это может быть связано."
   ]
  },
  {
   "cell_type": "code",
   "execution_count": 52,
   "metadata": {
    "id": "jsSbEqfjgFya"
   },
   "outputs": [
    {
     "name": "stdout",
     "output_type": "stream",
     "text": [
      "                                          box_office\n",
      "age_restriction                                     \n",
      "«0+» - для любой зрительской аудитории  8.090774e+08\n",
      "«12+» - для детей старше 12 лет         6.061945e+10\n",
      "«16+» - для детей старше 16 лет         7.603473e+10\n",
      "«18+» - запрещено для детей             4.075962e+10\n",
      "«6+» - для детей старше 6 лет           5.579861e+10\n"
     ]
    },
    {
     "data": {
      "text/plain": [
       "<AxesSubplot:xlabel='age_restriction'>"
      ]
     },
     "execution_count": 52,
     "metadata": {},
     "output_type": "execute_result"
    },
    {
     "data": {
      "image/png": "[encoded data removed]",
      "text/plain": [
       "<Figure size 1440x1080 with 1 Axes>"
      ]
     },
     "metadata": {
      "needs_background": "light"
     },
     "output_type": "display_data"
    }
   ],
   "source": [
    "age_restriction_data=data.query('year_of_show>2014').pivot_table(index = 'age_restriction', values = 'box_office', aggfunc = 'sum')\n",
    "print(age_restriction_data)\n",
    "age_restriction_data.plot(figsize=(20, 15), kind = 'bar')"
   ]
  },
  {
   "cell_type": "markdown",
   "metadata": {},
   "source": [
    "Далее посмотрим распределение по годам"
   ]
  },
  {
   "cell_type": "code",
   "execution_count": 53,
   "metadata": {},
   "outputs": [
    {
     "data": {
      "text/plain": [
       "Text(0, 0.5, 'Сборы в десятках миллиардах рублей')"
      ]
     },
     "execution_count": 53,
     "metadata": {},
     "output_type": "execute_result"
    },
    {
     "data": {
      "image/png": "[encoded data removed]",
      "text/plain": [
       "<Figure size 1440x1080 with 1 Axes>"
      ]
     },
     "metadata": {
      "needs_background": "light"
     },
     "output_type": "display_data"
    }
   ],
   "source": [
    "age_restriction_year_data = data.query('year_of_show > 2014').pivot_table(index=['year_of_show', 'age_restriction'], values='box_office', aggfunc='sum').unstack()\n",
    "age_restriction_year_data.plot(figsize=(20, 15), kind='bar', stacked=True)\n",
    "plt.title('Сборы по возрастным ограничениям по годам')\n",
    "plt.xlabel('Годы')\n",
    "plt.ylabel('Сборы в десятках миллиардах рублей')"
   ]
  },
  {
   "cell_type": "markdown",
   "metadata": {},
   "source": [
    "<div class=\"alert alert-warning\">\n",
    "<h2> Комментарий ревьюера V1<a class=\"tocSkip\"> </h2>\n",
    "\n",
    "<b>Некоторые замечания и рекомендации💡:</b> Здесь я бы использовал линейную диаграмму, чтобы было наглядно видно динамику по конкретному рейтингу и сравнить с другими рейтингами было бы проще"
   ]
  },
  {
   "cell_type": "markdown",
   "metadata": {},
   "source": [
    "За период с 2015-2019 больше всего кассовых сборов собрали фильмы категории 16+, далее идут фильмы категорий 12+ и 6+, затем идут фильмы категории 18+.\n",
    "\n",
    "Примечательно, что фильмы категории 0+ почти не имеют сборов, сравнимых с остальными возрастными группами, это может быть связано с недостатком данных о сборах или ошибках при введении значений (как в 2010-2013), поскольку фильмы 0+ - это зачастую анимационные продукты от Дисней и других компаний, собирающие огромные кассы по миру. \n",
    "\n",
    "Также фильмы категории 18+ всегда приносят меньше сборов, чем фильмы с остальными категориями. Это, вероятно, связано с тем, что их смотрят только совершеннолетние люди, а на фильмы категорий 6+/12+/16+ родители приходят вместе с детьми."
   ]
  },
  {
   "cell_type": "markdown",
   "metadata": {},
   "source": [
    "<div class=\"alert alert-success\">\n",
    "<h2> Комментарий ревьюера V1<a class=\"tocSkip\"> </h2>\n",
    "\n",
    "<b>Все отлично!👍:</b> По выводу в принципе все верно, продолжай в том же духе!"
   ]
  },
  {
   "cell_type": "markdown",
   "metadata": {
    "id": "l_Kg6Ku4gFya"
   },
   "source": [
    "## Исследуйте фильмы, которые получили государственную поддержку\n",
    "\n",
    "Посмотрим, сколько выделяют средств на поддержку кино. Проверим, окупаемость таких фильмов, их рейтинг и аудиторию"
   ]
  },
  {
   "cell_type": "code",
   "execution_count": 54,
   "metadata": {},
   "outputs": [
    {
     "name": "stdout",
     "output_type": "stream",
     "text": [
      "                    title  pu_number           show_start_date  \\\n",
      "1281        Пока еще жива  111005313 2013-10-11 12:00:00+00:00   \n",
      "1448  Бесславные придурки  111003314 2014-03-28 12:00:00+00:00   \n",
      "1498            Невидимки  111004213 2013-09-10 12:00:00+00:00   \n",
      "1524                БЕРЦЫ  111004314 2014-05-05 12:00:00+00:00   \n",
      "1792             Братья Ч  111004414 2014-04-23 12:00:00+00:00   \n",
      "\n",
      "                type                                        film_studio  \\\n",
      "1281  Художественный  АНО содействия развитию кинематографии \"Ангел-...   \n",
      "1448  Художественный                         ООО \"Компания \"АТК-Студио\"   \n",
      "1498  Художественный                        ООО \"Компания \"РЕАЛ-ДАКОТА\"   \n",
      "1524  Художественный                             ООО \"Студия \"Пассажир\"   \n",
      "1792  Художественный                             ООО \"Студия \"Пассажир\"   \n",
      "\n",
      "     production_country                              director  \\\n",
      "1281             Россия                            А.Атанесян   \n",
      "1448             Россия                             А.Якимчук   \n",
      "1498             Россия              Р.Давлетьяров, С.Комаров   \n",
      "1524             Россия  Е.Миндадзе (псевдоним Катя Шагалова)   \n",
      "1792             Россия                              М.Угаров   \n",
      "\n",
      "                                       producer  \\\n",
      "1281           А.Атанесян, М.Бабаханов, Р.Бутко   \n",
      "1448                                 А.Тютрюмов   \n",
      "1498  Р.Давлетьяров, А.Котелевский, А.Олейников   \n",
      "1524                                 Л.Антонова   \n",
      "1792                     А.Миндадзе, Л.Антонова   \n",
      "\n",
      "                      age_restriction  refundable_support  ...       budget  \\\n",
      "1281  «16+» - для детей старше 16 лет                 0.0  ...   79411900.0   \n",
      "1448  «12+» - для детей старше 12 лет                 0.0  ...   37142857.0   \n",
      "1498  «12+» - для детей старше 12 лет                 0.0  ...  176023490.0   \n",
      "1524  «16+» - для детей старше 16 лет                 0.0  ...   40574140.0   \n",
      "1792  «16+» - для детей старше 16 лет                 0.0  ...   40015122.0   \n",
      "\n",
      "           financing_source ratings              genres  box_office  \\\n",
      "1281  Министерство культуры     8.1     драма,мелодрама    365353.6   \n",
      "1448  Министерство культуры     NaN          неизвестно     28140.0   \n",
      "1498              Фонд кино     5.3  комедия,фантастика  19957031.5   \n",
      "1524  Министерство культуры     4.2               драма     55917.5   \n",
      "1792  Министерство культуры     6.4               драма    232100.0   \n",
      "\n",
      "      year_of_show                         main_director  main_genre  \\\n",
      "1281          2013                            А.Атанесян       драма   \n",
      "1448          2014                             А.Якимчук  неизвестно   \n",
      "1498          2013                         Р.Давлетьяров     комедия   \n",
      "1524          2014  Е.Миндадзе (псевдоним Катя Шагалова)       драма   \n",
      "1792          2014                              М.Угаров       драма   \n",
      "\n",
      "     participation_of_gov  total_support  \n",
      "1281             0.333703     26500000.0  \n",
      "1448             0.700000     26000000.0  \n",
      "1498             0.612691    107847945.0  \n",
      "1524             0.690095     28000000.0  \n",
      "1792             0.624764     25000000.0  \n",
      "\n",
      "[5 rows x 21 columns]\n"
     ]
    }
   ],
   "source": [
    "data['total_support']=data['refundable_support']+data['nonrefundable_support']\n",
    "\n",
    "#preparing dataframe\n",
    "data_supported_films = data.loc[(data['budget'].notna()) & ((data['total_support']) != 0)]\n",
    "data_supported_films = data_supported_films.copy()\n",
    "print(data_supported_films.head(5))"
   ]
  },
  {
   "cell_type": "markdown",
   "metadata": {},
   "source": [
    "### Исследование окупаемости"
   ]
  },
  {
   "cell_type": "markdown",
   "metadata": {},
   "source": [
    "Создадим столбец для параметра окупаемости\n"
   ]
  },
  {
   "cell_type": "code",
   "execution_count": 55,
   "metadata": {},
   "outputs": [],
   "source": [
    "data_supported_films['profit'] = (data_supported_films['box_office'] / data_supported_films['total_support'])-1"
   ]
  },
  {
   "cell_type": "markdown",
   "metadata": {},
   "source": [
    "Далее рассмотрим аналитические параметры, а также самые окупившиеся фильмы"
   ]
  },
  {
   "cell_type": "code",
   "execution_count": 56,
   "metadata": {},
   "outputs": [
    {
     "data": {
      "text/plain": [
       "count    318.000000\n",
       "mean       0.877601\n",
       "std        4.317110\n",
       "min       -0.999956\n",
       "25%       -0.959438\n",
       "50%       -0.560389\n",
       "75%        0.715664\n",
       "max       50.226145\n",
       "Name: profit, dtype: float64"
      ]
     },
     "execution_count": 56,
     "metadata": {},
     "output_type": "execute_result"
    }
   ],
   "source": [
    "data_supported_films['profit'].describe()"
   ]
  },
  {
   "cell_type": "code",
   "execution_count": 57,
   "metadata": {},
   "outputs": [
    {
     "data": {
      "text/html": [
       "<div>\n",
       "<style scoped>\n",
       "    .dataframe tbody tr th:only-of-type {\n",
       "        vertical-align: middle;\n",
       "    }\n",
       "\n",
       "    .dataframe tbody tr th {\n",
       "        vertical-align: top;\n",
       "    }\n",
       "\n",
       "    .dataframe thead th {\n",
       "        text-align: right;\n",
       "    }\n",
       "</style>\n",
       "<table border=\"1\" class=\"dataframe\">\n",
       "  <thead>\n",
       "    <tr style=\"text-align: right;\">\n",
       "      <th></th>\n",
       "      <th>title</th>\n",
       "      <th>pu_number</th>\n",
       "      <th>show_start_date</th>\n",
       "      <th>type</th>\n",
       "      <th>film_studio</th>\n",
       "      <th>production_country</th>\n",
       "      <th>director</th>\n",
       "      <th>producer</th>\n",
       "      <th>age_restriction</th>\n",
       "      <th>refundable_support</th>\n",
       "      <th>...</th>\n",
       "      <th>financing_source</th>\n",
       "      <th>ratings</th>\n",
       "      <th>genres</th>\n",
       "      <th>box_office</th>\n",
       "      <th>year_of_show</th>\n",
       "      <th>main_director</th>\n",
       "      <th>main_genre</th>\n",
       "      <th>participation_of_gov</th>\n",
       "      <th>total_support</th>\n",
       "      <th>profit</th>\n",
       "    </tr>\n",
       "  </thead>\n",
       "  <tbody>\n",
       "    <tr>\n",
       "      <th>3104</th>\n",
       "      <td>Иван Царевич и Серый Волк 3</td>\n",
       "      <td>114004115</td>\n",
       "      <td>2015-12-24 12:00:00+00:00</td>\n",
       "      <td>Анимационный</td>\n",
       "      <td>ООО \"Студия анимационного кино \"Мельница\"</td>\n",
       "      <td>Россия</td>\n",
       "      <td>Д.Шмидт</td>\n",
       "      <td>С.Сельянов, А.Боярский</td>\n",
       "      <td>«6+» - для детей старше 6 лет</td>\n",
       "      <td>0.0</td>\n",
       "      <td>...</td>\n",
       "      <td>Фонд кино</td>\n",
       "      <td>6.2</td>\n",
       "      <td>мультфильм,приключения,семейный</td>\n",
       "      <td>7.049282e+08</td>\n",
       "      <td>2015</td>\n",
       "      <td>Д.Шмидт</td>\n",
       "      <td>мультфильм</td>\n",
       "      <td>0.223142</td>\n",
       "      <td>40000000.0</td>\n",
       "      <td>16.623205</td>\n",
       "    </tr>\n",
       "    <tr>\n",
       "      <th>5504</th>\n",
       "      <td>Последний богатырь</td>\n",
       "      <td>111007017</td>\n",
       "      <td>2017-10-19 12:00:00+00:00</td>\n",
       "      <td>Художественный</td>\n",
       "      <td>ООО \"Киностудия \"Слово\" по заказу ООО \"Уолт Ди...</td>\n",
       "      <td>Россия</td>\n",
       "      <td>Д.Дьяченко</td>\n",
       "      <td>Э.Илоян, Д.Жалинский, М.Озкан, А.Троцюк, В.Шляппо</td>\n",
       "      <td>«12+» - для детей старше 12 лет</td>\n",
       "      <td>50000000.0</td>\n",
       "      <td>...</td>\n",
       "      <td>Фонд кино</td>\n",
       "      <td>6.8</td>\n",
       "      <td>комедия,фэнтези,приключения</td>\n",
       "      <td>1.655038e+09</td>\n",
       "      <td>2017</td>\n",
       "      <td>Д.Дьяченко</td>\n",
       "      <td>комедия</td>\n",
       "      <td>0.283706</td>\n",
       "      <td>100000000.0</td>\n",
       "      <td>15.550377</td>\n",
       "    </tr>\n",
       "    <tr>\n",
       "      <th>5599</th>\n",
       "      <td>За гранью реальности</td>\n",
       "      <td>111010817</td>\n",
       "      <td>2017-11-27 12:00:00+00:00</td>\n",
       "      <td>Художественный</td>\n",
       "      <td>ООО \"КИНОДАНЦ\"</td>\n",
       "      <td>Россия</td>\n",
       "      <td>А.Богуславский</td>\n",
       "      <td>В.Денисюк, Е.Мелентьев</td>\n",
       "      <td>«12+» - для детей старше 12 лет</td>\n",
       "      <td>0.0</td>\n",
       "      <td>...</td>\n",
       "      <td>Министерство культуры</td>\n",
       "      <td>5.2</td>\n",
       "      <td>приключения,фэнтези</td>\n",
       "      <td>1.267135e+08</td>\n",
       "      <td>2017</td>\n",
       "      <td>А.Богуславский</td>\n",
       "      <td>приключения</td>\n",
       "      <td>0.044043</td>\n",
       "      <td>6000000.0</td>\n",
       "      <td>20.118908</td>\n",
       "    </tr>\n",
       "    <tr>\n",
       "      <th>5707</th>\n",
       "      <td>Лёд</td>\n",
       "      <td>111000518</td>\n",
       "      <td>2018-02-01 12:00:00+00:00</td>\n",
       "      <td>Художественный</td>\n",
       "      <td>ООО \"Водород 2011\", ООО \"Арт Пикчерс Студия\", ...</td>\n",
       "      <td>Россия</td>\n",
       "      <td>О.Трофим</td>\n",
       "      <td>М.Врубель, А.Андрющенко, Ф.Бондарчук, Д.Рудовс...</td>\n",
       "      <td>«12+» - для детей старше 12 лет</td>\n",
       "      <td>25000000.0</td>\n",
       "      <td>...</td>\n",
       "      <td>Фонд кино</td>\n",
       "      <td>NaN</td>\n",
       "      <td>неизвестно</td>\n",
       "      <td>1.445732e+09</td>\n",
       "      <td>2018</td>\n",
       "      <td>О.Трофим</td>\n",
       "      <td>неизвестно</td>\n",
       "      <td>0.572062</td>\n",
       "      <td>85000000.0</td>\n",
       "      <td>16.008609</td>\n",
       "    </tr>\n",
       "    <tr>\n",
       "      <th>5748</th>\n",
       "      <td>Я худею</td>\n",
       "      <td>111001618</td>\n",
       "      <td>2018-03-07 12:00:00+00:00</td>\n",
       "      <td>Художественный</td>\n",
       "      <td>ООО \"Друг Друга\", ООО \"Ди Пи Джи\"</td>\n",
       "      <td>Россия</td>\n",
       "      <td>А.Черномазов (псевдоним Алексей Нужный)</td>\n",
       "      <td>С.Корнихин, Н.Куликов, А.Черномазов, А.Кремер,...</td>\n",
       "      <td>«16+» - для детей старше 16 лет</td>\n",
       "      <td>0.0</td>\n",
       "      <td>...</td>\n",
       "      <td>Министерство культуры</td>\n",
       "      <td>6.9</td>\n",
       "      <td>комедия</td>\n",
       "      <td>6.334623e+08</td>\n",
       "      <td>2018</td>\n",
       "      <td>А.Черномазов (псевдоним Алексей Нужный)</td>\n",
       "      <td>комедия</td>\n",
       "      <td>0.342274</td>\n",
       "      <td>30000000.0</td>\n",
       "      <td>20.115409</td>\n",
       "    </tr>\n",
       "    <tr>\n",
       "      <th>7455</th>\n",
       "      <td>Холоп</td>\n",
       "      <td>111021719</td>\n",
       "      <td>2019-12-19 12:00:00+00:00</td>\n",
       "      <td>Художественный</td>\n",
       "      <td>ООО \"МЕМ-МЕДИА\" по заказу АО \"ВБД Груп\"</td>\n",
       "      <td>Россия</td>\n",
       "      <td>К.Шипенко</td>\n",
       "      <td>Э.Илоян, Д.Жалинский, В.Дусмухаметов, Т.Бадзие...</td>\n",
       "      <td>«12+» - для детей старше 12 лет</td>\n",
       "      <td>25000000.0</td>\n",
       "      <td>...</td>\n",
       "      <td>Фонд кино</td>\n",
       "      <td>6.8</td>\n",
       "      <td>комедия</td>\n",
       "      <td>3.073569e+09</td>\n",
       "      <td>2019</td>\n",
       "      <td>К.Шипенко</td>\n",
       "      <td>комедия</td>\n",
       "      <td>0.375000</td>\n",
       "      <td>60000000.0</td>\n",
       "      <td>50.226145</td>\n",
       "    </tr>\n",
       "  </tbody>\n",
       "</table>\n",
       "<p>6 rows × 22 columns</p>\n",
       "</div>"
      ],
      "text/plain": [
       "                            title  pu_number           show_start_date  \\\n",
       "3104  Иван Царевич и Серый Волк 3  114004115 2015-12-24 12:00:00+00:00   \n",
       "5504           Последний богатырь  111007017 2017-10-19 12:00:00+00:00   \n",
       "5599         За гранью реальности  111010817 2017-11-27 12:00:00+00:00   \n",
       "5707                          Лёд  111000518 2018-02-01 12:00:00+00:00   \n",
       "5748                      Я худею  111001618 2018-03-07 12:00:00+00:00   \n",
       "7455                        Холоп  111021719 2019-12-19 12:00:00+00:00   \n",
       "\n",
       "                type                                        film_studio  \\\n",
       "3104    Анимационный          ООО \"Студия анимационного кино \"Мельница\"   \n",
       "5504  Художественный  ООО \"Киностудия \"Слово\" по заказу ООО \"Уолт Ди...   \n",
       "5599  Художественный                                     ООО \"КИНОДАНЦ\"   \n",
       "5707  Художественный  ООО \"Водород 2011\", ООО \"Арт Пикчерс Студия\", ...   \n",
       "5748  Художественный                  ООО \"Друг Друга\", ООО \"Ди Пи Джи\"   \n",
       "7455  Художественный            ООО \"МЕМ-МЕДИА\" по заказу АО \"ВБД Груп\"   \n",
       "\n",
       "     production_country                                 director  \\\n",
       "3104             Россия                                  Д.Шмидт   \n",
       "5504             Россия                               Д.Дьяченко   \n",
       "5599             Россия                           А.Богуславский   \n",
       "5707             Россия                                 О.Трофим   \n",
       "5748             Россия  А.Черномазов (псевдоним Алексей Нужный)   \n",
       "7455             Россия                                К.Шипенко   \n",
       "\n",
       "                                               producer  \\\n",
       "3104                             С.Сельянов, А.Боярский   \n",
       "5504  Э.Илоян, Д.Жалинский, М.Озкан, А.Троцюк, В.Шляппо   \n",
       "5599                             В.Денисюк, Е.Мелентьев   \n",
       "5707  М.Врубель, А.Андрющенко, Ф.Бондарчук, Д.Рудовс...   \n",
       "5748  С.Корнихин, Н.Куликов, А.Черномазов, А.Кремер,...   \n",
       "7455  Э.Илоян, Д.Жалинский, В.Дусмухаметов, Т.Бадзие...   \n",
       "\n",
       "                      age_restriction  refundable_support  ...  \\\n",
       "3104    «6+» - для детей старше 6 лет                 0.0  ...   \n",
       "5504  «12+» - для детей старше 12 лет          50000000.0  ...   \n",
       "5599  «12+» - для детей старше 12 лет                 0.0  ...   \n",
       "5707  «12+» - для детей старше 12 лет          25000000.0  ...   \n",
       "5748  «16+» - для детей старше 16 лет                 0.0  ...   \n",
       "7455  «12+» - для детей старше 12 лет          25000000.0  ...   \n",
       "\n",
       "           financing_source  ratings                           genres  \\\n",
       "3104              Фонд кино      6.2  мультфильм,приключения,семейный   \n",
       "5504              Фонд кино      6.8      комедия,фэнтези,приключения   \n",
       "5599  Министерство культуры      5.2              приключения,фэнтези   \n",
       "5707              Фонд кино      NaN                       неизвестно   \n",
       "5748  Министерство культуры      6.9                          комедия   \n",
       "7455              Фонд кино      6.8                          комедия   \n",
       "\n",
       "        box_office year_of_show                            main_director  \\\n",
       "3104  7.049282e+08         2015                                  Д.Шмидт   \n",
       "5504  1.655038e+09         2017                               Д.Дьяченко   \n",
       "5599  1.267135e+08         2017                           А.Богуславский   \n",
       "5707  1.445732e+09         2018                                 О.Трофим   \n",
       "5748  6.334623e+08         2018  А.Черномазов (псевдоним Алексей Нужный)   \n",
       "7455  3.073569e+09         2019                                К.Шипенко   \n",
       "\n",
       "       main_genre participation_of_gov total_support     profit  \n",
       "3104   мультфильм             0.223142    40000000.0  16.623205  \n",
       "5504      комедия             0.283706   100000000.0  15.550377  \n",
       "5599  приключения             0.044043     6000000.0  20.118908  \n",
       "5707   неизвестно             0.572062    85000000.0  16.008609  \n",
       "5748      комедия             0.342274    30000000.0  20.115409  \n",
       "7455      комедия             0.375000    60000000.0  50.226145  \n",
       "\n",
       "[6 rows x 22 columns]"
      ]
     },
     "execution_count": 57,
     "metadata": {},
     "output_type": "execute_result"
    }
   ],
   "source": [
    "data_supported_films.query('profit >15')"
   ]
  },
  {
   "cell_type": "markdown",
   "metadata": {},
   "source": [
    "По данной информации мы можем сделать вывод, что иногда государственная поддержка приносит невероятный финансовый успех, чем закономерность, поскольку в основном"
   ]
  },
  {
   "cell_type": "markdown",
   "metadata": {},
   "source": [
    "### Рассмотрим параметры, связанные с выделяемыми средствами: их объекм и количество фильмов"
   ]
  },
  {
   "cell_type": "code",
   "execution_count": 58,
   "metadata": {},
   "outputs": [
    {
     "data": {
      "text/plain": [
       "count    3.320000e+02\n",
       "mean     6.084545e+07\n",
       "std      7.275546e+07\n",
       "min      3.000000e+06\n",
       "25%      2.533375e+07\n",
       "50%      3.500000e+07\n",
       "75%      6.000000e+07\n",
       "max      5.000000e+08\n",
       "Name: total_support, dtype: float64"
      ]
     },
     "execution_count": 58,
     "metadata": {},
     "output_type": "execute_result"
    }
   ],
   "source": [
    "data_supported_films['total_support'].describe()"
   ]
  },
  {
   "cell_type": "markdown",
   "metadata": {},
   "source": [
    "Посмотрим распределение поддержки по годам"
   ]
  },
  {
   "cell_type": "code",
   "execution_count": 59,
   "metadata": {},
   "outputs": [
    {
     "data": {
      "text/html": [
       "<div>\n",
       "<style scoped>\n",
       "    .dataframe tbody tr th:only-of-type {\n",
       "        vertical-align: middle;\n",
       "    }\n",
       "\n",
       "    .dataframe tbody tr th {\n",
       "        vertical-align: top;\n",
       "    }\n",
       "\n",
       "    .dataframe thead th {\n",
       "        text-align: right;\n",
       "    }\n",
       "</style>\n",
       "<table border=\"1\" class=\"dataframe\">\n",
       "  <thead>\n",
       "    <tr style=\"text-align: right;\">\n",
       "      <th></th>\n",
       "      <th>sum</th>\n",
       "      <th>count</th>\n",
       "      <th>median</th>\n",
       "    </tr>\n",
       "    <tr>\n",
       "      <th>year_of_show</th>\n",
       "      <th></th>\n",
       "      <th></th>\n",
       "      <th></th>\n",
       "    </tr>\n",
       "  </thead>\n",
       "  <tbody>\n",
       "    <tr>\n",
       "      <th>2013</th>\n",
       "      <td>1.343479e+08</td>\n",
       "      <td>2</td>\n",
       "      <td>67173972.5</td>\n",
       "    </tr>\n",
       "    <tr>\n",
       "      <th>2014</th>\n",
       "      <td>5.720023e+08</td>\n",
       "      <td>16</td>\n",
       "      <td>27500000.0</td>\n",
       "    </tr>\n",
       "    <tr>\n",
       "      <th>2015</th>\n",
       "      <td>3.656241e+09</td>\n",
       "      <td>86</td>\n",
       "      <td>30000000.0</td>\n",
       "    </tr>\n",
       "    <tr>\n",
       "      <th>2016</th>\n",
       "      <td>4.303155e+09</td>\n",
       "      <td>61</td>\n",
       "      <td>35000000.0</td>\n",
       "    </tr>\n",
       "    <tr>\n",
       "      <th>2017</th>\n",
       "      <td>3.183972e+09</td>\n",
       "      <td>41</td>\n",
       "      <td>40000000.0</td>\n",
       "    </tr>\n",
       "    <tr>\n",
       "      <th>2018</th>\n",
       "      <td>3.446969e+09</td>\n",
       "      <td>56</td>\n",
       "      <td>45000000.0</td>\n",
       "    </tr>\n",
       "    <tr>\n",
       "      <th>2019</th>\n",
       "      <td>4.904000e+09</td>\n",
       "      <td>70</td>\n",
       "      <td>40000000.0</td>\n",
       "    </tr>\n",
       "  </tbody>\n",
       "</table>\n",
       "</div>"
      ],
      "text/plain": [
       "                       sum  count      median\n",
       "year_of_show                                 \n",
       "2013          1.343479e+08      2  67173972.5\n",
       "2014          5.720023e+08     16  27500000.0\n",
       "2015          3.656241e+09     86  30000000.0\n",
       "2016          4.303155e+09     61  35000000.0\n",
       "2017          3.183972e+09     41  40000000.0\n",
       "2018          3.446969e+09     56  45000000.0\n",
       "2019          4.904000e+09     70  40000000.0"
      ]
     },
     "execution_count": 59,
     "metadata": {},
     "output_type": "execute_result"
    }
   ],
   "source": [
    "data_supported_year = data_supported_films.groupby('year_of_show')['total_support'].agg(['sum','count', 'median'])\n",
    "data_supported_year"
   ]
  },
  {
   "cell_type": "code",
   "execution_count": 60,
   "metadata": {},
   "outputs": [
    {
     "data": {
      "text/plain": [
       "<AxesSubplot:xlabel='year_of_show'>"
      ]
     },
     "execution_count": 60,
     "metadata": {},
     "output_type": "execute_result"
    },
    {
     "data": {
      "image/png": "[encoded data removed]",
      "text/plain": [
       "<Figure size 1440x1080 with 1 Axes>"
      ]
     },
     "metadata": {
      "needs_background": "light"
     },
     "output_type": "display_data"
    }
   ],
   "source": [
    "data_supported_year.plot(y = 'sum', figsize=(20,15))"
   ]
  },
  {
   "cell_type": "code",
   "execution_count": 61,
   "metadata": {},
   "outputs": [
    {
     "data": {
      "text/plain": [
       "<AxesSubplot:ylabel='count'>"
      ]
     },
     "execution_count": 61,
     "metadata": {},
     "output_type": "execute_result"
    },
    {
     "data": {
      "image/png": "[encoded data removed]",
      "text/plain": [
       "<Figure size 1440x1080 with 1 Axes>"
      ]
     },
     "metadata": {},
     "output_type": "display_data"
    }
   ],
   "source": [
    "data_supported_year.plot(y = 'count', figsize=(20,15), kind='pie')"
   ]
  },
  {
   "cell_type": "markdown",
   "metadata": {},
   "source": [
    "Мы можем пронаблюдать, что с течением времени расходы на кино с государственной поддержкй растет. Примечательно, что в 2015 было снято максимальное количество фильмов, но денег больше всего было потрачено в 2016 году, это значит, что в 2016 снимались более высококачественные и высокобюджетные фильмы"
   ]
  },
  {
   "cell_type": "markdown",
   "metadata": {},
   "source": [
    "### Насколько эффективна господдержка\n",
    "\n",
    "В рамках этого пункта рассмотрим, как влияет господдержка на рейтинги"
   ]
  },
  {
   "cell_type": "code",
   "execution_count": 62,
   "metadata": {},
   "outputs": [
    {
     "data": {
      "text/plain": [
       "count    314.000000\n",
       "mean       6.000637\n",
       "std        1.123948\n",
       "min        1.000000\n",
       "25%        5.300000\n",
       "50%        6.200000\n",
       "75%        6.700000\n",
       "max        8.500000\n",
       "Name: ratings, dtype: float64"
      ]
     },
     "execution_count": 62,
     "metadata": {},
     "output_type": "execute_result"
    }
   ],
   "source": [
    "data_supported_films['ratings'].describe()"
   ]
  },
  {
   "cell_type": "code",
   "execution_count": 63,
   "metadata": {},
   "outputs": [
    {
     "data": {
      "text/plain": [
       "<AxesSubplot:xlabel='total_support', ylabel='ratings'>"
      ]
     },
     "execution_count": 63,
     "metadata": {},
     "output_type": "execute_result"
    },
    {
     "data": {
      "image/png": "[encoded data removed]",
      "text/plain": [
       "<Figure size 432x288 with 1 Axes>"
      ]
     },
     "metadata": {
      "needs_background": "light"
     },
     "output_type": "display_data"
    }
   ],
   "source": [
    "sb.scatterplot(data =data_supported_films,  x='total_support', y = 'ratings', alpha = 0.5)"
   ]
  },
  {
   "cell_type": "markdown",
   "metadata": {},
   "source": [
    "Как мы видим, государственная поддержка никак не влияет на рейтинги и есть много дорогих фильмов, которые обладают меньшими рейтингами, чем фильмы с незначительной поддержкой"
   ]
  },
  {
   "cell_type": "markdown",
   "metadata": {},
   "source": [
    "### Тенденции в выделении средств\n",
    "\n",
    "В этом пункте рассмотрим, на какие жанры и для какой аудитории выделяются деньги"
   ]
  },
  {
   "cell_type": "code",
   "execution_count": 64,
   "metadata": {},
   "outputs": [
    {
     "data": {
      "text/plain": [
       "<AxesSubplot:ylabel='main_genre'>"
      ]
     },
     "execution_count": 64,
     "metadata": {},
     "output_type": "execute_result"
    },
    {
     "data": {
      "image/png": "[encoded data removed]",
      "text/plain": [
       "<Figure size 1440x1440 with 1 Axes>"
      ]
     },
     "metadata": {},
     "output_type": "display_data"
    }
   ],
   "source": [
    "data_supported_films['main_genre'].value_counts().plot(y='count', kind='pie', figsize=(20, 20))"
   ]
  },
  {
   "cell_type": "code",
   "execution_count": 65,
   "metadata": {},
   "outputs": [
    {
     "data": {
      "text/plain": [
       "<AxesSubplot:ylabel='age_restriction'>"
      ]
     },
     "execution_count": 65,
     "metadata": {},
     "output_type": "execute_result"
    },
    {
     "data": {
      "image/png": "[encoded data removed]",
      "text/plain": [
       "<Figure size 1440x1440 with 1 Axes>"
      ]
     },
     "metadata": {},
     "output_type": "display_data"
    }
   ],
   "source": [
    "data_supported_films['age_restriction'].value_counts().plot(y='count', kind='pie', figsize=(20, 20))"
   ]
  },
  {
   "cell_type": "markdown",
   "metadata": {},
   "source": [
    "Основные жанровые направления, которые поддерживает государство - драма и комедия\n",
    "\n",
    "Основные возраста, на которые работает государство - 12+ и 16+\n",
    "\n",
    "Из этого можно сделать вывод, что основное напрвление, предпринимаемое на данный момент государством в рамках поддержки кинематографа - создание фильмов для формирования личности подрастающего поколения"
   ]
  },
  {
   "cell_type": "markdown",
   "metadata": {},
   "source": [
    "<div class=\"alert alert-success\">\n",
    "<h2> Комментарий ревьюера V1<a class=\"tocSkip\"> </h2>\n",
    "\n",
    "<b>Все отлично!👍:</b> Похвально, что постарался проанализировать как можно больше вопросов, со всеми справился хорошо, ошибок нет. Я бы еще для интереса рассмотрел режиссеров, кому чаще поддержки выделяют"
   ]
  },
  {
   "cell_type": "markdown",
   "metadata": {
    "id": "V2gYwMcPgFyd"
   },
   "source": [
    "## Напишите общий вывод"
   ]
  },
  {
   "cell_type": "markdown",
   "metadata": {
    "id": "AYRg3dzXgFye"
   },
   "source": [
    ". Описание данных и предобработка\n",
    "В работе использовались два датафрейма: mkrf_movies (информация о фильмах) и mkrf_shows (информация о прокате фильмов в кинотеатрах).\n",
    "\n",
    "В процессе предобработки данных были выявлены и исправлены ошибки, такие как некорректные типы данных (например, столбец puNumber был преобразован в целочисленный тип), а также удалены дубликаты и пропуски.\n",
    "\n",
    "Для категориальных данных (например, тип фильма, страна производства) были устранены несоответствия в формате (например, лишние пробелы и разные разделители).\n",
    "\n",
    "Были добавлены новые столбцы, такие как год проката, основной жанр и доля государственной поддержки в бюджете фильма.\n",
    "\n",
    "2. Анализ динамики проката фильмов\n",
    "Количество фильмов, выходивших в прокат в кинотеатрах, стабильно росло с 2010 по 2017 год, после чего наблюдалось небольшое снижение. Это может быть связано с развитием онлайн-кинотеатров и пиратства, а также с изменением интересов аудитории.\n",
    "\n",
    "Доля фильмов, для которых известны данные о прокате в кинотеатрах, увеличивалась с 2010 по 2017 год, что говорит о более полном представлении данных за этот период.\n",
    "\n",
    "Суммарные кассовые сборы фильмов также росли с 2010 по 2018 год, достигнув пика в 2018 году (около 50 млрд рублей). Однако в 2019 году наблюдалось небольшое снижение сборов.\n",
    "\n",
    "3. Влияние возрастных ограничений на сборы\n",
    "Фильмы с возрастным ограничением «16+» собрали наибольшие кассовые сборы за период с 2015 по 2019 год. За ними следуют фильмы с ограничениями «12+» и «6+».\n",
    "\n",
    "Фильмы с ограничением «18+» принесли меньше сборов, что может быть связано с меньшей аудиторией (только совершеннолетние зрители).\n",
    "\n",
    "Фильмы с ограничением «0+» (для любой аудитории) собрали наименьшие сборы, что может быть связано с недостатком данных или ошибками в их представлении.\n",
    "\n",
    "4. Анализ фильмов с государственной поддержкой\n",
    "Государственная поддержка фильмов значительно выросла с 2013 по 2019 год. Наибольший объем поддержки был выделен в 2016 и 2019 годах.\n",
    "\n",
    "Основные жанры, которые получают государственную поддержку, — это драма и комедия. Это может быть связано с тем, что такие фильмы чаще всего направлены на формирование культурных и социальных ценностей.\n",
    "\n",
    "Основная аудитория фильмов с государственной поддержкой — это зрители в возрасте 12+ и 16+, что указывает на ориентацию на подрастающее поколение.\n",
    "\n",
    "Государственная поддержка не оказывает значительного влияния на рейтинги фильмов. Многие дорогостоящие проекты с высокой поддержкой имеют низкие рейтинги, в то время как фильмы с меньшей поддержкой могут иметь высокие оценки.\n",
    "\n",
    "5. Окупаемость фильмов с государственной поддержкой\n",
    "Некоторые фильмы с государственной поддержкой демонстрируют высокую окупаемость (например, фильм с индексом 7455 имеет окупаемость более 5000%). Однако это скорее исключение, чем правило.\n",
    "\n",
    "В среднем, окупаемость фильмов с государственной поддержкой варьируется, но многие проекты не окупаются, что может указывать на неэффективность использования государственных средств в некоторых случаях.\n",
    "\n",
    "6. Общие тенденции\n",
    "Рост киноиндустрии: С 2010 по 2019 год наблюдался рост количества фильмов, выходящих в прокат, а также увеличение кассовых сборов. Это может быть связано с развитием технологий, увеличением покупательской способности населения и ростом интереса к кинематографу.\n",
    "\n",
    "Государственная поддержка: Государство активно финансирует кинематограф, особенно фильмы, направленные на молодежную аудиторию. Однако эффективность этой поддержки не всегда высока, так как многие фильмы не окупаются и имеют низкие рейтинги.\n",
    "\n",
    "Влияние возрастных ограничений: Фильмы с ограничением «16+» и «12+» являются наиболее кассовыми, что указывает на их популярность среди широкой аудитории. Фильмы с ограничением «0+» собирают значительно меньше, что может быть связано с ограниченной аудиторией или недостатком данных."
   ]
  },
  {
   "cell_type": "markdown",
   "metadata": {},
   "source": [
    "<div class=\"alert alert-success\">\n",
    "<h2> Комментарий ревьюера V1<a class=\"tocSkip\"> </h2>\n",
    "\n",
    "<b>Все отлично!👍:</b> Отличный вывод, все четко, понятно и структурировано. Вывод в полной мере отражает существующие зависимости, и по нему можно принимать дальнейшие решения.\n",
    "</div>"
   ]
  },
  {
   "cell_type": "markdown",
   "metadata": {},
   "source": [
    "<div style=\"border:solid Chocolate 2px; padding: 40px\">\n",
    "\n",
    "Ты отлично справился с данной работой! Видно, как ты успешно осваиваешь материал, применяешь полученные знания на практике. Мне было очень приятно проверять твою работу, надеюсь, мои комментарии и советы были для тебя полезными.\n",
    "\n",
    "**Желаю удачи в последующем обучении и исследованиях!**😉"
   ]
  },
  {
   "cell_type": "code",
   "execution_count": null,
   "metadata": {},
   "outputs": [],
   "source": []
  }
 ],
 "metadata": {
  "ExecuteTimeLog": [
   {
    "duration": 537,
    "start_time": "2021-07-07T10:12:08.634Z"
   },
   {
    "duration": 206,
    "start_time": "2021-07-07T10:12:30.191Z"
   },
   {
    "duration": 227,
    "start_time": "2021-07-07T10:12:33.078Z"
   },
   {
    "duration": 153,
    "start_time": "2021-07-07T10:13:42.146Z"
   },
   {
    "duration": 233,
    "start_time": "2021-07-07T10:30:09.252Z"
   },
   {
    "duration": 19,
    "start_time": "2021-07-07T10:30:15.577Z"
   },
   {
    "duration": 18,
    "start_time": "2021-07-07T10:30:57.348Z"
   },
   {
    "duration": 19,
    "start_time": "2021-07-07T10:31:17.452Z"
   },
   {
    "duration": 21,
    "start_time": "2021-07-07T10:31:32.227Z"
   },
   {
    "duration": 27,
    "start_time": "2021-07-07T10:32:06.588Z"
   },
   {
    "duration": 23,
    "start_time": "2021-07-07T10:32:43.645Z"
   },
   {
    "duration": 24,
    "start_time": "2021-07-07T10:33:06.948Z"
   },
   {
    "duration": 7,
    "start_time": "2021-07-07T10:33:28.558Z"
   },
   {
    "duration": 23,
    "start_time": "2021-07-07T10:33:43.761Z"
   },
   {
    "duration": 28,
    "start_time": "2021-07-07T10:34:13.466Z"
   },
   {
    "duration": 23,
    "start_time": "2021-07-07T10:35:56.187Z"
   },
   {
    "duration": 6,
    "start_time": "2021-07-07T10:36:48.182Z"
   },
   {
    "duration": 14,
    "start_time": "2021-07-07T10:37:49.641Z"
   },
   {
    "duration": 6,
    "start_time": "2021-07-07T10:38:06.694Z"
   },
   {
    "duration": 6,
    "start_time": "2021-07-07T10:38:13.493Z"
   },
   {
    "duration": 19,
    "start_time": "2021-07-07T10:38:44.056Z"
   },
   {
    "duration": 186,
    "start_time": "2021-07-07T10:48:35.618Z"
   },
   {
    "duration": 24,
    "start_time": "2021-07-07T10:48:51.498Z"
   },
   {
    "duration": 20,
    "start_time": "2021-07-07T10:48:59.415Z"
   },
   {
    "duration": 20,
    "start_time": "2021-07-07T10:53:02.195Z"
   },
   {
    "duration": 188,
    "start_time": "2021-07-07T10:54:40.486Z"
   },
   {
    "duration": 115,
    "start_time": "2021-07-07T10:54:52.552Z"
   },
   {
    "duration": 214,
    "start_time": "2021-07-07T10:54:56.354Z"
   },
   {
    "duration": 47,
    "start_time": "2021-07-07T10:54:58.282Z"
   },
   {
    "duration": 217,
    "start_time": "2021-07-07T10:59:16.075Z"
   },
   {
    "duration": 51,
    "start_time": "2021-07-07T10:59:16.243Z"
   },
   {
    "duration": 578,
    "start_time": "2021-07-07T10:59:18.774Z"
   },
   {
    "duration": 161,
    "start_time": "2021-07-07T10:59:21.238Z"
   },
   {
    "duration": 59,
    "start_time": "2021-07-07T10:59:21.453Z"
   },
   {
    "duration": 3,
    "start_time": "2021-07-07T11:02:10.786Z"
   },
   {
    "duration": 13,
    "start_time": "2021-07-07T11:07:07.722Z"
   },
   {
    "duration": 26,
    "start_time": "2021-07-07T11:07:17.958Z"
   },
   {
    "duration": 22,
    "start_time": "2021-07-07T11:08:17.939Z"
   },
   {
    "duration": 212,
    "start_time": "2021-07-07T11:08:19.665Z"
   },
   {
    "duration": 21,
    "start_time": "2021-07-07T11:08:29.945Z"
   },
   {
    "duration": 31,
    "start_time": "2021-07-07T11:08:38.899Z"
   },
   {
    "duration": 23,
    "start_time": "2021-07-07T11:08:54.527Z"
   },
   {
    "duration": 8,
    "start_time": "2021-07-07T11:18:55.974Z"
   },
   {
    "duration": 7,
    "start_time": "2021-07-07T11:19:03.639Z"
   },
   {
    "duration": 7,
    "start_time": "2021-07-07T11:19:06.444Z"
   },
   {
    "duration": 578,
    "start_time": "2021-07-07T12:09:59.576Z"
   },
   {
    "duration": 195,
    "start_time": "2021-07-07T12:10:00.156Z"
   },
   {
    "duration": 115,
    "start_time": "2021-07-07T12:10:00.353Z"
   },
   {
    "duration": 3,
    "start_time": "2021-07-07T12:10:00.470Z"
   },
   {
    "duration": 32,
    "start_time": "2021-07-07T12:10:00.474Z"
   },
   {
    "duration": 23,
    "start_time": "2021-07-07T12:10:00.508Z"
   },
   {
    "duration": 19,
    "start_time": "2021-07-07T12:10:00.533Z"
   },
   {
    "duration": 44,
    "start_time": "2021-07-07T12:10:00.553Z"
   },
   {
    "duration": 7,
    "start_time": "2021-07-07T12:10:00.600Z"
   },
   {
    "duration": 7,
    "start_time": "2021-07-07T12:19:45.761Z"
   },
   {
    "duration": 21,
    "start_time": "2021-07-07T12:21:35.482Z"
   },
   {
    "duration": 21,
    "start_time": "2021-07-07T12:29:23.569Z"
   },
   {
    "duration": 525,
    "start_time": "2021-07-07T12:29:44.542Z"
   },
   {
    "duration": 214,
    "start_time": "2021-07-07T12:29:45.069Z"
   },
   {
    "duration": 92,
    "start_time": "2021-07-07T12:29:45.285Z"
   },
   {
    "duration": 3,
    "start_time": "2021-07-07T12:29:45.379Z"
   },
   {
    "duration": 28,
    "start_time": "2021-07-07T12:29:45.384Z"
   },
   {
    "duration": 23,
    "start_time": "2021-07-07T12:29:45.413Z"
   },
   {
    "duration": 21,
    "start_time": "2021-07-07T12:29:45.437Z"
   },
   {
    "duration": 41,
    "start_time": "2021-07-07T12:29:45.460Z"
   },
   {
    "duration": 7,
    "start_time": "2021-07-07T12:29:45.502Z"
   },
   {
    "duration": 20,
    "start_time": "2021-07-07T12:29:45.511Z"
   },
   {
    "duration": 12,
    "start_time": "2021-07-07T12:34:02.800Z"
   },
   {
    "duration": 7,
    "start_time": "2021-07-07T12:35:10.479Z"
   },
   {
    "duration": 8,
    "start_time": "2021-07-07T12:35:22.440Z"
   },
   {
    "duration": 6,
    "start_time": "2021-07-07T12:35:35.649Z"
   },
   {
    "duration": 6,
    "start_time": "2021-07-07T12:35:43.107Z"
   },
   {
    "duration": 22,
    "start_time": "2021-07-07T12:38:03.029Z"
   },
   {
    "duration": 10,
    "start_time": "2021-07-07T12:38:06.592Z"
   },
   {
    "duration": 563,
    "start_time": "2021-07-07T12:38:46.493Z"
   },
   {
    "duration": 265,
    "start_time": "2021-07-07T12:38:47.058Z"
   },
   {
    "duration": 94,
    "start_time": "2021-07-07T12:38:47.325Z"
   },
   {
    "duration": 3,
    "start_time": "2021-07-07T12:38:47.422Z"
   },
   {
    "duration": 30,
    "start_time": "2021-07-07T12:38:47.427Z"
   },
   {
    "duration": 16,
    "start_time": "2021-07-07T12:38:53.305Z"
   },
   {
    "duration": 10,
    "start_time": "2021-07-07T12:38:53.499Z"
   },
   {
    "duration": 8,
    "start_time": "2021-07-07T12:39:48.161Z"
   },
   {
    "duration": 27,
    "start_time": "2021-07-07T12:41:17.629Z"
   },
   {
    "duration": 17,
    "start_time": "2021-07-07T12:41:17.867Z"
   },
   {
    "duration": 21,
    "start_time": "2021-07-07T12:41:19.310Z"
   },
   {
    "duration": 7,
    "start_time": "2021-07-07T12:41:19.544Z"
   },
   {
    "duration": 20,
    "start_time": "2021-07-07T12:41:20.504Z"
   },
   {
    "duration": 554,
    "start_time": "2021-07-07T12:56:23.696Z"
   },
   {
    "duration": 200,
    "start_time": "2021-07-07T12:56:25.234Z"
   },
   {
    "duration": 119,
    "start_time": "2021-07-07T12:56:25.480Z"
   },
   {
    "duration": 4,
    "start_time": "2021-07-07T12:56:25.762Z"
   },
   {
    "duration": 26,
    "start_time": "2021-07-07T12:56:27.172Z"
   },
   {
    "duration": 12,
    "start_time": "2021-07-07T12:56:29.051Z"
   },
   {
    "duration": 10,
    "start_time": "2021-07-07T12:56:29.291Z"
   },
   {
    "duration": 8,
    "start_time": "2021-07-07T12:56:29.623Z"
   },
   {
    "duration": 28,
    "start_time": "2021-07-07T12:56:32.137Z"
   },
   {
    "duration": 19,
    "start_time": "2021-07-07T12:56:39.785Z"
   },
   {
    "duration": 20,
    "start_time": "2021-07-07T12:56:44.297Z"
   },
   {
    "duration": 7,
    "start_time": "2021-07-07T12:56:45.392Z"
   },
   {
    "duration": 23,
    "start_time": "2021-07-07T12:56:46.615Z"
   },
   {
    "duration": 4,
    "start_time": "2021-07-07T12:57:06.625Z"
   },
   {
    "duration": 32,
    "start_time": "2021-07-07T12:57:36.690Z"
   },
   {
    "duration": 18,
    "start_time": "2021-07-07T12:58:00.149Z"
   },
   {
    "duration": 15,
    "start_time": "2021-07-07T12:59:16.793Z"
   },
   {
    "duration": 7,
    "start_time": "2021-07-07T13:19:22.624Z"
   },
   {
    "duration": 6,
    "start_time": "2021-07-07T14:17:33.527Z"
   },
   {
    "duration": 9,
    "start_time": "2021-07-07T14:17:48.409Z"
   },
   {
    "duration": 8,
    "start_time": "2021-07-07T14:20:13.060Z"
   },
   {
    "duration": 8,
    "start_time": "2021-07-07T14:20:37.957Z"
   },
   {
    "duration": 8,
    "start_time": "2021-07-07T14:20:47.470Z"
   },
   {
    "duration": 9,
    "start_time": "2021-07-07T14:20:54.503Z"
   },
   {
    "duration": 10,
    "start_time": "2021-07-07T14:28:57.763Z"
   },
   {
    "duration": 3,
    "start_time": "2021-07-07T14:30:23.377Z"
   },
   {
    "duration": 3,
    "start_time": "2021-07-07T14:30:36.489Z"
   },
   {
    "duration": 103,
    "start_time": "2021-07-07T14:30:52.351Z"
   },
   {
    "duration": 8,
    "start_time": "2021-07-07T14:30:54.763Z"
   },
   {
    "duration": 8,
    "start_time": "2021-07-07T14:31:29.301Z"
   },
   {
    "duration": 13,
    "start_time": "2021-07-07T14:31:44.516Z"
   },
   {
    "duration": 7,
    "start_time": "2021-07-07T14:33:10.972Z"
   },
   {
    "duration": 11,
    "start_time": "2021-07-07T14:33:27.780Z"
   },
   {
    "duration": 8,
    "start_time": "2021-07-07T14:34:44.588Z"
   },
   {
    "duration": 57,
    "start_time": "2021-07-07T14:35:59.042Z"
   },
   {
    "duration": 3,
    "start_time": "2021-07-07T14:36:28.168Z"
   },
   {
    "duration": 5,
    "start_time": "2021-07-07T14:36:46.254Z"
   },
   {
    "duration": 4,
    "start_time": "2021-07-07T14:36:52.714Z"
   },
   {
    "duration": 3,
    "start_time": "2021-07-07T14:36:56.612Z"
   },
   {
    "duration": 4,
    "start_time": "2021-07-07T14:36:57.049Z"
   },
   {
    "duration": 3,
    "start_time": "2021-07-07T14:39:21.214Z"
   },
   {
    "duration": 7,
    "start_time": "2021-07-07T14:39:52.406Z"
   },
   {
    "duration": 11,
    "start_time": "2021-07-07T14:39:58.576Z"
   },
   {
    "duration": 9,
    "start_time": "2021-07-07T14:40:26.301Z"
   },
   {
    "duration": 10,
    "start_time": "2021-07-07T14:40:31.704Z"
   },
   {
    "duration": 11,
    "start_time": "2021-07-07T14:40:36.249Z"
   },
   {
    "duration": 10,
    "start_time": "2021-07-07T14:40:39.783Z"
   },
   {
    "duration": 9,
    "start_time": "2021-07-07T14:40:48.558Z"
   },
   {
    "duration": 10,
    "start_time": "2021-07-07T14:40:57.143Z"
   },
   {
    "duration": 9,
    "start_time": "2021-07-07T14:41:06.074Z"
   },
   {
    "duration": 4324,
    "start_time": "2021-07-07T14:41:22.004Z"
   },
   {
    "duration": 11,
    "start_time": "2021-07-07T14:41:33.392Z"
   },
   {
    "duration": 9,
    "start_time": "2021-07-07T14:41:39.288Z"
   },
   {
    "duration": 569,
    "start_time": "2021-07-07T14:42:14.387Z"
   },
   {
    "duration": 197,
    "start_time": "2021-07-07T14:42:14.959Z"
   },
   {
    "duration": 84,
    "start_time": "2021-07-07T14:42:16.052Z"
   },
   {
    "duration": 4,
    "start_time": "2021-07-07T14:42:16.900Z"
   },
   {
    "duration": 27,
    "start_time": "2021-07-07T14:42:19.898Z"
   },
   {
    "duration": 12,
    "start_time": "2021-07-07T14:42:21.577Z"
   },
   {
    "duration": 9,
    "start_time": "2021-07-07T14:42:21.813Z"
   },
   {
    "duration": 9,
    "start_time": "2021-07-07T14:42:22.569Z"
   },
   {
    "duration": 29,
    "start_time": "2021-07-07T14:42:25.837Z"
   },
   {
    "duration": 20,
    "start_time": "2021-07-07T14:42:27.003Z"
   },
   {
    "duration": 21,
    "start_time": "2021-07-07T14:42:28.767Z"
   },
   {
    "duration": 7,
    "start_time": "2021-07-07T14:42:29.838Z"
   },
   {
    "duration": 4,
    "start_time": "2021-07-07T14:43:25.493Z"
   },
   {
    "duration": 7,
    "start_time": "2021-07-07T14:43:26.573Z"
   },
   {
    "duration": 10,
    "start_time": "2021-07-07T14:43:31.639Z"
   },
   {
    "duration": 9,
    "start_time": "2021-07-07T14:43:32.046Z"
   },
   {
    "duration": 10,
    "start_time": "2021-07-07T14:43:33.301Z"
   },
   {
    "duration": 12,
    "start_time": "2021-07-07T14:43:33.658Z"
   },
   {
    "duration": 8,
    "start_time": "2021-07-07T14:43:34.552Z"
   },
   {
    "duration": 9,
    "start_time": "2021-07-07T14:43:35.058Z"
   },
   {
    "duration": 12,
    "start_time": "2021-07-07T14:43:35.914Z"
   },
   {
    "duration": 17,
    "start_time": "2021-07-07T14:45:34.368Z"
   },
   {
    "duration": 512,
    "start_time": "2021-07-07T14:51:58.236Z"
   },
   {
    "duration": 223,
    "start_time": "2021-07-07T14:51:58.750Z"
   },
   {
    "duration": 93,
    "start_time": "2021-07-07T14:51:58.977Z"
   },
   {
    "duration": 4,
    "start_time": "2021-07-07T14:51:59.071Z"
   },
   {
    "duration": 37,
    "start_time": "2021-07-07T14:51:59.077Z"
   },
   {
    "duration": 18,
    "start_time": "2021-07-07T14:51:59.116Z"
   },
   {
    "duration": 10,
    "start_time": "2021-07-07T14:51:59.137Z"
   },
   {
    "duration": 8,
    "start_time": "2021-07-07T14:51:59.149Z"
   },
   {
    "duration": 54,
    "start_time": "2021-07-07T14:51:59.158Z"
   },
   {
    "duration": 18,
    "start_time": "2021-07-07T14:51:59.213Z"
   },
   {
    "duration": 22,
    "start_time": "2021-07-07T14:51:59.232Z"
   },
   {
    "duration": 36,
    "start_time": "2021-07-07T14:51:59.255Z"
   },
   {
    "duration": 7,
    "start_time": "2021-07-07T14:51:59.293Z"
   },
   {
    "duration": 10,
    "start_time": "2021-07-07T14:51:59.302Z"
   },
   {
    "duration": 9,
    "start_time": "2021-07-07T14:51:59.313Z"
   },
   {
    "duration": 11,
    "start_time": "2021-07-07T14:51:59.324Z"
   },
   {
    "duration": 8,
    "start_time": "2021-07-07T14:51:59.337Z"
   },
   {
    "duration": 46,
    "start_time": "2021-07-07T14:51:59.347Z"
   },
   {
    "duration": 22,
    "start_time": "2021-07-07T14:51:59.395Z"
   },
   {
    "duration": 24,
    "start_time": "2021-07-07T14:57:32.911Z"
   },
   {
    "duration": 7,
    "start_time": "2021-07-07T14:58:22.070Z"
   },
   {
    "duration": 4,
    "start_time": "2021-07-07T14:59:11.239Z"
   },
   {
    "duration": 25,
    "start_time": "2021-07-07T15:07:22.208Z"
   },
   {
    "duration": 16,
    "start_time": "2021-07-07T15:08:25.560Z"
   },
   {
    "duration": 15,
    "start_time": "2021-07-07T15:08:40.647Z"
   },
   {
    "duration": 14,
    "start_time": "2021-07-07T15:08:46.669Z"
   },
   {
    "duration": 533,
    "start_time": "2021-07-07T15:18:07.440Z"
   },
   {
    "duration": 173,
    "start_time": "2021-07-07T15:18:07.974Z"
   },
   {
    "duration": 84,
    "start_time": "2021-07-07T15:18:08.149Z"
   },
   {
    "duration": 3,
    "start_time": "2021-07-07T15:18:08.235Z"
   },
   {
    "duration": 30,
    "start_time": "2021-07-07T15:18:08.240Z"
   },
   {
    "duration": 22,
    "start_time": "2021-07-07T15:18:08.272Z"
   },
   {
    "duration": 11,
    "start_time": "2021-07-07T15:18:08.295Z"
   },
   {
    "duration": 11,
    "start_time": "2021-07-07T15:18:08.309Z"
   },
   {
    "duration": 40,
    "start_time": "2021-07-07T15:18:08.322Z"
   },
   {
    "duration": 42,
    "start_time": "2021-07-07T15:18:08.364Z"
   },
   {
    "duration": 22,
    "start_time": "2021-07-07T15:18:08.408Z"
   },
   {
    "duration": 5,
    "start_time": "2021-07-07T15:18:08.432Z"
   },
   {
    "duration": 13,
    "start_time": "2021-07-07T15:18:08.439Z"
   },
   {
    "duration": 9,
    "start_time": "2021-07-07T15:18:08.454Z"
   },
   {
    "duration": 32,
    "start_time": "2021-07-07T15:18:08.465Z"
   },
   {
    "duration": 10,
    "start_time": "2021-07-07T15:18:08.501Z"
   },
   {
    "duration": 7,
    "start_time": "2021-07-07T15:18:08.513Z"
   },
   {
    "duration": 11,
    "start_time": "2021-07-07T15:18:08.521Z"
   },
   {
    "duration": 17,
    "start_time": "2021-07-07T15:18:08.534Z"
   },
   {
    "duration": 44,
    "start_time": "2021-07-07T15:18:08.553Z"
   },
   {
    "duration": 22,
    "start_time": "2021-07-07T15:18:08.599Z"
   },
   {
    "duration": 61,
    "start_time": "2021-07-07T15:18:08.622Z"
   },
   {
    "duration": 7,
    "start_time": "2021-07-07T15:18:39.457Z"
   },
   {
    "duration": 5,
    "start_time": "2021-07-07T16:05:17.020Z"
   },
   {
    "duration": 5,
    "start_time": "2021-07-07T16:51:28.794Z"
   },
   {
    "duration": 546,
    "start_time": "2021-07-07T16:52:26.306Z"
   },
   {
    "duration": 203,
    "start_time": "2021-07-07T16:52:27.523Z"
   },
   {
    "duration": 85,
    "start_time": "2021-07-07T16:52:27.736Z"
   },
   {
    "duration": 4,
    "start_time": "2021-07-07T16:52:27.899Z"
   },
   {
    "duration": 25,
    "start_time": "2021-07-07T16:52:28.674Z"
   },
   {
    "duration": 8,
    "start_time": "2021-07-07T16:52:32.956Z"
   },
   {
    "duration": 18,
    "start_time": "2021-07-07T16:52:35.616Z"
   },
   {
    "duration": 6,
    "start_time": "2021-07-07T16:52:36.913Z"
   },
   {
    "duration": 11,
    "start_time": "2021-07-07T16:52:40.258Z"
   },
   {
    "duration": 10,
    "start_time": "2021-07-07T16:52:46.251Z"
   },
   {
    "duration": 8,
    "start_time": "2021-07-07T16:52:47.182Z"
   },
   {
    "duration": 27,
    "start_time": "2021-07-07T16:53:20.391Z"
   },
   {
    "duration": 20,
    "start_time": "2021-07-07T16:53:22.022Z"
   },
   {
    "duration": 23,
    "start_time": "2021-07-07T16:53:23.690Z"
   },
   {
    "duration": 8,
    "start_time": "2021-07-07T16:53:24.261Z"
   },
   {
    "duration": 4,
    "start_time": "2021-07-07T16:53:38.733Z"
   },
   {
    "duration": 7,
    "start_time": "2021-07-07T16:53:40.445Z"
   },
   {
    "duration": 11,
    "start_time": "2021-07-07T16:53:41.348Z"
   },
   {
    "duration": 13,
    "start_time": "2021-07-07T16:53:45.250Z"
   },
   {
    "duration": 12,
    "start_time": "2021-07-07T16:53:45.467Z"
   },
   {
    "duration": 4,
    "start_time": "2021-07-07T16:55:32.704Z"
   },
   {
    "duration": 12,
    "start_time": "2021-07-07T16:55:49.012Z"
   },
   {
    "duration": 18,
    "start_time": "2021-07-07T16:55:49.547Z"
   },
   {
    "duration": 611,
    "start_time": "2021-07-07T16:58:35.156Z"
   },
   {
    "duration": 200,
    "start_time": "2021-07-07T16:58:35.770Z"
   },
   {
    "duration": 86,
    "start_time": "2021-07-07T16:58:35.972Z"
   },
   {
    "duration": 3,
    "start_time": "2021-07-07T16:58:36.060Z"
   },
   {
    "duration": 27,
    "start_time": "2021-07-07T16:58:36.065Z"
   },
   {
    "duration": 8,
    "start_time": "2021-07-07T16:58:36.094Z"
   },
   {
    "duration": 17,
    "start_time": "2021-07-07T16:58:36.103Z"
   },
   {
    "duration": 5,
    "start_time": "2021-07-07T16:58:36.123Z"
   },
   {
    "duration": 11,
    "start_time": "2021-07-07T16:58:36.130Z"
   },
   {
    "duration": 7,
    "start_time": "2021-07-07T16:58:36.143Z"
   },
   {
    "duration": 37,
    "start_time": "2021-07-07T16:58:36.152Z"
   },
   {
    "duration": 27,
    "start_time": "2021-07-07T16:58:36.191Z"
   },
   {
    "duration": 19,
    "start_time": "2021-07-07T16:58:36.219Z"
   },
   {
    "duration": 49,
    "start_time": "2021-07-07T16:58:36.240Z"
   },
   {
    "duration": 6,
    "start_time": "2021-07-07T16:58:36.291Z"
   },
   {
    "duration": 3,
    "start_time": "2021-07-07T16:58:36.299Z"
   },
   {
    "duration": 13,
    "start_time": "2021-07-07T16:58:36.304Z"
   },
   {
    "duration": 10,
    "start_time": "2021-07-07T16:58:36.319Z"
   },
   {
    "duration": 10,
    "start_time": "2021-07-07T16:58:36.331Z"
   },
   {
    "duration": 44,
    "start_time": "2021-07-07T16:58:36.343Z"
   },
   {
    "duration": 4,
    "start_time": "2021-07-07T16:58:36.388Z"
   },
   {
    "duration": 13,
    "start_time": "2021-07-07T16:58:36.394Z"
   },
   {
    "duration": 16,
    "start_time": "2021-07-07T16:58:36.410Z"
   },
   {
    "duration": 8,
    "start_time": "2021-07-07T17:02:31.629Z"
   },
   {
    "duration": 8,
    "start_time": "2021-07-07T17:02:34.308Z"
   },
   {
    "duration": 6,
    "start_time": "2021-07-07T17:05:13.483Z"
   },
   {
    "duration": 17,
    "start_time": "2021-07-07T17:05:20.606Z"
   },
   {
    "duration": 7,
    "start_time": "2021-07-07T17:05:34.638Z"
   },
   {
    "duration": 3,
    "start_time": "2021-07-07T17:06:31.883Z"
   },
   {
    "duration": 570,
    "start_time": "2021-07-07T17:06:37.165Z"
   },
   {
    "duration": 174,
    "start_time": "2021-07-07T17:06:37.737Z"
   },
   {
    "duration": 47,
    "start_time": "2021-07-07T17:06:37.913Z"
   },
   {
    "duration": 3,
    "start_time": "2021-07-07T17:06:37.962Z"
   },
   {
    "duration": 27,
    "start_time": "2021-07-07T17:06:37.967Z"
   },
   {
    "duration": 7,
    "start_time": "2021-07-07T17:06:37.996Z"
   },
   {
    "duration": 16,
    "start_time": "2021-07-07T17:06:38.005Z"
   },
   {
    "duration": 6,
    "start_time": "2021-07-07T17:06:38.024Z"
   },
   {
    "duration": 12,
    "start_time": "2021-07-07T17:06:38.031Z"
   },
   {
    "duration": 41,
    "start_time": "2021-07-07T17:06:38.045Z"
   },
   {
    "duration": 8,
    "start_time": "2021-07-07T17:06:38.088Z"
   },
   {
    "duration": 26,
    "start_time": "2021-07-07T17:06:38.098Z"
   },
   {
    "duration": 17,
    "start_time": "2021-07-07T17:06:38.126Z"
   },
   {
    "duration": 43,
    "start_time": "2021-07-07T17:06:38.144Z"
   },
   {
    "duration": 6,
    "start_time": "2021-07-07T17:06:38.188Z"
   },
   {
    "duration": 5,
    "start_time": "2021-07-07T17:06:38.195Z"
   },
   {
    "duration": 9,
    "start_time": "2021-07-07T17:06:38.201Z"
   },
   {
    "duration": 12,
    "start_time": "2021-07-07T17:06:38.212Z"
   },
   {
    "duration": 11,
    "start_time": "2021-07-07T17:06:38.226Z"
   },
   {
    "duration": 47,
    "start_time": "2021-07-07T17:06:38.239Z"
   },
   {
    "duration": 4,
    "start_time": "2021-07-07T17:06:38.288Z"
   },
   {
    "duration": 13,
    "start_time": "2021-07-07T17:06:38.293Z"
   },
   {
    "duration": 5,
    "start_time": "2021-07-07T17:06:38.309Z"
   },
   {
    "duration": 18,
    "start_time": "2021-07-07T17:06:38.325Z"
   },
   {
    "duration": 20,
    "start_time": "2021-07-07T17:07:02.805Z"
   },
   {
    "duration": 19,
    "start_time": "2021-07-07T17:07:08.527Z"
   },
   {
    "duration": 19,
    "start_time": "2021-07-07T17:07:12.758Z"
   },
   {
    "duration": 22,
    "start_time": "2021-07-07T17:07:17.497Z"
   },
   {
    "duration": 19,
    "start_time": "2021-07-07T17:07:19.645Z"
   },
   {
    "duration": 10,
    "start_time": "2021-07-07T17:07:34.239Z"
   },
   {
    "duration": 17,
    "start_time": "2021-07-07T17:07:54.144Z"
   },
   {
    "duration": 14,
    "start_time": "2021-07-07T17:08:14.357Z"
   },
   {
    "duration": 616,
    "start_time": "2021-07-07T17:08:45.254Z"
   },
   {
    "duration": 178,
    "start_time": "2021-07-07T17:08:45.872Z"
   },
   {
    "duration": 60,
    "start_time": "2021-07-07T17:08:46.054Z"
   },
   {
    "duration": 3,
    "start_time": "2021-07-07T17:08:46.116Z"
   },
   {
    "duration": 26,
    "start_time": "2021-07-07T17:08:46.121Z"
   },
   {
    "duration": 7,
    "start_time": "2021-07-07T17:08:46.149Z"
   },
   {
    "duration": 17,
    "start_time": "2021-07-07T17:08:46.158Z"
   },
   {
    "duration": 14,
    "start_time": "2021-07-07T17:08:46.176Z"
   },
   {
    "duration": 17,
    "start_time": "2021-07-07T17:08:46.193Z"
   },
   {
    "duration": 9,
    "start_time": "2021-07-07T17:08:46.211Z"
   },
   {
    "duration": 21,
    "start_time": "2021-07-07T17:08:46.221Z"
   },
   {
    "duration": 49,
    "start_time": "2021-07-07T17:08:46.244Z"
   },
   {
    "duration": 24,
    "start_time": "2021-07-07T17:08:46.295Z"
   },
   {
    "duration": 22,
    "start_time": "2021-07-07T17:08:46.321Z"
   },
   {
    "duration": 6,
    "start_time": "2021-07-07T17:08:46.345Z"
   },
   {
    "duration": 5,
    "start_time": "2021-07-07T17:08:46.353Z"
   },
   {
    "duration": 13,
    "start_time": "2021-07-07T17:08:46.386Z"
   },
   {
    "duration": 12,
    "start_time": "2021-07-07T17:08:46.402Z"
   },
   {
    "duration": 10,
    "start_time": "2021-07-07T17:08:46.415Z"
   },
   {
    "duration": 7,
    "start_time": "2021-07-07T17:08:46.427Z"
   },
   {
    "duration": 8,
    "start_time": "2021-07-07T17:08:46.435Z"
   },
   {
    "duration": 68,
    "start_time": "2021-07-07T17:08:46.446Z"
   },
   {
    "duration": 13,
    "start_time": "2021-07-07T17:08:46.516Z"
   },
   {
    "duration": 78,
    "start_time": "2021-07-07T17:08:46.530Z"
   },
   {
    "duration": 40,
    "start_time": "2021-07-07T17:09:08.185Z"
   },
   {
    "duration": 16,
    "start_time": "2021-07-07T17:09:19.324Z"
   },
   {
    "duration": 21,
    "start_time": "2021-07-07T17:09:23.290Z"
   },
   {
    "duration": 13,
    "start_time": "2021-07-07T17:09:54.812Z"
   },
   {
    "duration": 13,
    "start_time": "2021-07-07T17:10:02.039Z"
   },
   {
    "duration": 10,
    "start_time": "2021-07-07T17:10:29.632Z"
   },
   {
    "duration": 13,
    "start_time": "2021-07-07T17:10:52.372Z"
   },
   {
    "duration": 13,
    "start_time": "2021-07-07T17:11:17.270Z"
   },
   {
    "duration": 13,
    "start_time": "2021-07-07T17:14:59.284Z"
   },
   {
    "duration": 547,
    "start_time": "2021-07-07T17:18:52.403Z"
   },
   {
    "duration": 163,
    "start_time": "2021-07-07T17:18:52.952Z"
   },
   {
    "duration": 44,
    "start_time": "2021-07-07T17:18:53.117Z"
   },
   {
    "duration": 3,
    "start_time": "2021-07-07T17:18:53.162Z"
   },
   {
    "duration": 26,
    "start_time": "2021-07-07T17:18:53.167Z"
   },
   {
    "duration": 6,
    "start_time": "2021-07-07T17:18:53.195Z"
   },
   {
    "duration": 15,
    "start_time": "2021-07-07T17:18:53.203Z"
   },
   {
    "duration": 5,
    "start_time": "2021-07-07T17:18:53.220Z"
   },
   {
    "duration": 11,
    "start_time": "2021-07-07T17:18:53.228Z"
   },
   {
    "duration": 9,
    "start_time": "2021-07-07T17:18:53.241Z"
   },
   {
    "duration": 41,
    "start_time": "2021-07-07T17:18:53.252Z"
   },
   {
    "duration": 33,
    "start_time": "2021-07-07T17:18:53.295Z"
   },
   {
    "duration": 19,
    "start_time": "2021-07-07T17:18:53.330Z"
   },
   {
    "duration": 49,
    "start_time": "2021-07-07T17:18:53.350Z"
   },
   {
    "duration": 5,
    "start_time": "2021-07-07T17:18:53.401Z"
   },
   {
    "duration": 5,
    "start_time": "2021-07-07T17:18:53.408Z"
   },
   {
    "duration": 11,
    "start_time": "2021-07-07T17:18:53.414Z"
   },
   {
    "duration": 9,
    "start_time": "2021-07-07T17:18:53.427Z"
   },
   {
    "duration": 10,
    "start_time": "2021-07-07T17:18:53.437Z"
   },
   {
    "duration": 39,
    "start_time": "2021-07-07T17:18:53.448Z"
   },
   {
    "duration": 26,
    "start_time": "2021-07-07T17:18:55.799Z"
   },
   {
    "duration": 598,
    "start_time": "2021-07-07T17:20:17.862Z"
   },
   {
    "duration": 161,
    "start_time": "2021-07-07T17:20:18.462Z"
   },
   {
    "duration": 45,
    "start_time": "2021-07-07T17:20:18.626Z"
   },
   {
    "duration": 4,
    "start_time": "2021-07-07T17:20:18.673Z"
   },
   {
    "duration": 38,
    "start_time": "2021-07-07T17:20:26.877Z"
   },
   {
    "duration": 7,
    "start_time": "2021-07-07T17:20:37.405Z"
   },
   {
    "duration": 19,
    "start_time": "2021-07-07T17:20:51.534Z"
   },
   {
    "duration": 5,
    "start_time": "2021-07-07T17:20:57.228Z"
   },
   {
    "duration": 7,
    "start_time": "2021-07-07T17:21:08.235Z"
   },
   {
    "duration": 19,
    "start_time": "2021-07-07T17:21:42.158Z"
   },
   {
    "duration": 14,
    "start_time": "2021-07-07T17:21:50.225Z"
   },
   {
    "duration": 22,
    "start_time": "2021-07-07T17:22:54.104Z"
   },
   {
    "duration": 5,
    "start_time": "2021-07-07T17:22:56.371Z"
   },
   {
    "duration": 14,
    "start_time": "2021-07-07T17:22:58.316Z"
   },
   {
    "duration": 5,
    "start_time": "2021-07-07T17:22:58.493Z"
   },
   {
    "duration": 35,
    "start_time": "2021-07-07T17:22:59.666Z"
   },
   {
    "duration": 6,
    "start_time": "2021-07-07T17:23:02.410Z"
   },
   {
    "duration": 611,
    "start_time": "2021-07-07T17:24:59.664Z"
   },
   {
    "duration": 178,
    "start_time": "2021-07-07T17:25:01.945Z"
   },
   {
    "duration": 47,
    "start_time": "2021-07-07T17:25:02.125Z"
   },
   {
    "duration": 2,
    "start_time": "2021-07-07T17:25:07.903Z"
   },
   {
    "duration": 254,
    "start_time": "2021-07-07T17:25:08.232Z"
   },
   {
    "duration": 182,
    "start_time": "2021-07-07T17:25:08.671Z"
   },
   {
    "duration": 6,
    "start_time": "2021-07-07T17:25:13.104Z"
   },
   {
    "duration": 36,
    "start_time": "2021-07-07T17:25:13.662Z"
   },
   {
    "duration": 7,
    "start_time": "2021-07-07T17:25:14.528Z"
   },
   {
    "duration": 24,
    "start_time": "2021-07-07T17:25:27.982Z"
   },
   {
    "duration": 3,
    "start_time": "2021-07-07T17:25:48.982Z"
   },
   {
    "duration": 165,
    "start_time": "2021-07-07T17:25:48.987Z"
   },
   {
    "duration": 50,
    "start_time": "2021-07-07T17:25:49.154Z"
   },
   {
    "duration": 4,
    "start_time": "2021-07-07T17:25:49.206Z"
   },
   {
    "duration": 26,
    "start_time": "2021-07-07T17:25:49.212Z"
   },
   {
    "duration": 7,
    "start_time": "2021-07-07T17:25:49.240Z"
   },
   {
    "duration": 16,
    "start_time": "2021-07-07T17:25:49.249Z"
   },
   {
    "duration": 22,
    "start_time": "2021-07-07T17:25:49.266Z"
   },
   {
    "duration": 16,
    "start_time": "2021-07-07T17:25:49.291Z"
   },
   {
    "duration": 9,
    "start_time": "2021-07-07T17:25:49.309Z"
   },
   {
    "duration": 7,
    "start_time": "2021-07-07T17:25:49.319Z"
   },
   {
    "duration": 28,
    "start_time": "2021-07-07T17:25:49.328Z"
   },
   {
    "duration": 44,
    "start_time": "2021-07-07T17:25:49.357Z"
   },
   {
    "duration": 22,
    "start_time": "2021-07-07T17:25:49.403Z"
   },
   {
    "duration": 7,
    "start_time": "2021-07-07T17:25:49.427Z"
   },
   {
    "duration": 3,
    "start_time": "2021-07-07T17:25:49.436Z"
   },
   {
    "duration": 44,
    "start_time": "2021-07-07T17:25:49.441Z"
   },
   {
    "duration": 12,
    "start_time": "2021-07-07T17:25:49.488Z"
   },
   {
    "duration": 13,
    "start_time": "2021-07-07T17:25:49.502Z"
   },
   {
    "duration": 10,
    "start_time": "2021-07-07T17:25:49.516Z"
   },
   {
    "duration": 62,
    "start_time": "2021-07-07T17:25:49.527Z"
   },
   {
    "duration": 26,
    "start_time": "2021-07-07T17:26:51.809Z"
   },
   {
    "duration": 26,
    "start_time": "2021-07-07T17:26:55.759Z"
   },
   {
    "duration": 26,
    "start_time": "2021-07-07T17:27:04.501Z"
   },
   {
    "duration": 25,
    "start_time": "2021-07-07T17:28:24.859Z"
   },
   {
    "duration": 21,
    "start_time": "2021-07-07T17:28:55.250Z"
   },
   {
    "duration": 21,
    "start_time": "2021-07-07T17:28:58.885Z"
   },
   {
    "duration": 7,
    "start_time": "2021-07-07T17:45:40.972Z"
   },
   {
    "duration": 13,
    "start_time": "2021-07-07T17:45:42.529Z"
   },
   {
    "duration": 27,
    "start_time": "2021-07-07T17:45:51.026Z"
   },
   {
    "duration": 518,
    "start_time": "2021-07-07T17:46:15.532Z"
   },
   {
    "duration": 235,
    "start_time": "2021-07-07T17:46:16.053Z"
   },
   {
    "duration": 80,
    "start_time": "2021-07-07T17:46:16.292Z"
   },
   {
    "duration": 5,
    "start_time": "2021-07-07T17:46:16.373Z"
   },
   {
    "duration": 26,
    "start_time": "2021-07-07T17:46:16.380Z"
   },
   {
    "duration": 7,
    "start_time": "2021-07-07T17:46:16.408Z"
   },
   {
    "duration": 16,
    "start_time": "2021-07-07T17:46:16.418Z"
   },
   {
    "duration": 5,
    "start_time": "2021-07-07T17:46:16.436Z"
   },
   {
    "duration": 13,
    "start_time": "2021-07-07T17:46:16.442Z"
   },
   {
    "duration": 35,
    "start_time": "2021-07-07T17:46:16.456Z"
   },
   {
    "duration": 8,
    "start_time": "2021-07-07T17:46:16.493Z"
   },
   {
    "duration": 28,
    "start_time": "2021-07-07T17:46:16.502Z"
   },
   {
    "duration": 17,
    "start_time": "2021-07-07T17:46:16.532Z"
   },
   {
    "duration": 44,
    "start_time": "2021-07-07T17:46:16.551Z"
   },
   {
    "duration": 6,
    "start_time": "2021-07-07T17:46:16.597Z"
   },
   {
    "duration": 4,
    "start_time": "2021-07-07T17:46:16.605Z"
   },
   {
    "duration": 9,
    "start_time": "2021-07-07T17:46:16.610Z"
   },
   {
    "duration": 9,
    "start_time": "2021-07-07T17:46:16.621Z"
   },
   {
    "duration": 10,
    "start_time": "2021-07-07T17:46:16.632Z"
   },
   {
    "duration": 43,
    "start_time": "2021-07-07T17:46:16.644Z"
   },
   {
    "duration": 26,
    "start_time": "2021-07-07T17:46:16.689Z"
   },
   {
    "duration": 19,
    "start_time": "2021-07-07T17:46:16.718Z"
   },
   {
    "duration": 8,
    "start_time": "2021-07-07T17:46:16.738Z"
   },
   {
    "duration": 43,
    "start_time": "2021-07-07T17:46:16.747Z"
   },
   {
    "duration": 19,
    "start_time": "2021-07-07T17:46:16.791Z"
   },
   {
    "duration": 9,
    "start_time": "2021-07-07T17:46:16.812Z"
   },
   {
    "duration": 60,
    "start_time": "2021-07-07T17:46:16.822Z"
   },
   {
    "duration": -8,
    "start_time": "2021-07-07T17:46:16.892Z"
   },
   {
    "duration": 12,
    "start_time": "2021-07-07T17:48:47.707Z"
   },
   {
    "duration": 553,
    "start_time": "2021-07-07T18:10:09.350Z"
   },
   {
    "duration": 230,
    "start_time": "2021-07-07T18:10:09.905Z"
   },
   {
    "duration": 97,
    "start_time": "2021-07-07T18:10:10.137Z"
   },
   {
    "duration": 5,
    "start_time": "2021-07-07T18:10:10.236Z"
   },
   {
    "duration": 29,
    "start_time": "2021-07-07T18:10:10.242Z"
   },
   {
    "duration": 7,
    "start_time": "2021-07-07T18:10:10.272Z"
   },
   {
    "duration": 15,
    "start_time": "2021-07-07T18:10:10.281Z"
   },
   {
    "duration": 4,
    "start_time": "2021-07-07T18:10:10.299Z"
   },
   {
    "duration": 14,
    "start_time": "2021-07-07T18:10:10.305Z"
   },
   {
    "duration": 8,
    "start_time": "2021-07-07T18:10:10.321Z"
   },
   {
    "duration": 8,
    "start_time": "2021-07-07T18:10:10.331Z"
   },
   {
    "duration": 56,
    "start_time": "2021-07-07T18:10:10.341Z"
   },
   {
    "duration": 19,
    "start_time": "2021-07-07T18:10:10.399Z"
   },
   {
    "duration": 23,
    "start_time": "2021-07-07T18:10:10.419Z"
   },
   {
    "duration": 6,
    "start_time": "2021-07-07T18:10:10.444Z"
   },
   {
    "duration": 9,
    "start_time": "2021-07-07T18:10:10.451Z"
   },
   {
    "duration": 30,
    "start_time": "2021-07-07T18:10:10.462Z"
   },
   {
    "duration": 9,
    "start_time": "2021-07-07T18:10:10.494Z"
   },
   {
    "duration": 14,
    "start_time": "2021-07-07T18:10:10.505Z"
   },
   {
    "duration": 7,
    "start_time": "2021-07-07T18:10:10.521Z"
   },
   {
    "duration": 26,
    "start_time": "2021-07-07T18:10:10.530Z"
   },
   {
    "duration": 44,
    "start_time": "2021-07-07T18:10:10.558Z"
   },
   {
    "duration": 7,
    "start_time": "2021-07-07T18:10:10.605Z"
   },
   {
    "duration": 11,
    "start_time": "2021-07-07T18:10:10.614Z"
   },
   {
    "duration": 19,
    "start_time": "2021-07-07T18:10:10.626Z"
   },
   {
    "duration": 44,
    "start_time": "2021-07-07T18:10:10.646Z"
   },
   {
    "duration": 516,
    "start_time": "2021-07-07T18:14:00.826Z"
   },
   {
    "duration": 230,
    "start_time": "2021-07-07T18:14:01.344Z"
   },
   {
    "duration": 105,
    "start_time": "2021-07-07T18:14:01.576Z"
   },
   {
    "duration": 5,
    "start_time": "2021-07-07T18:14:01.683Z"
   },
   {
    "duration": 46,
    "start_time": "2021-07-07T18:14:01.690Z"
   },
   {
    "duration": 7,
    "start_time": "2021-07-07T18:14:01.738Z"
   },
   {
    "duration": 20,
    "start_time": "2021-07-07T18:14:01.747Z"
   },
   {
    "duration": 16,
    "start_time": "2021-07-07T18:14:01.769Z"
   },
   {
    "duration": 14,
    "start_time": "2021-07-07T18:14:01.787Z"
   },
   {
    "duration": 15,
    "start_time": "2021-07-07T18:14:01.803Z"
   },
   {
    "duration": 12,
    "start_time": "2021-07-07T18:14:01.820Z"
   },
   {
    "duration": 35,
    "start_time": "2021-07-07T18:14:01.833Z"
   },
   {
    "duration": 31,
    "start_time": "2021-07-07T18:14:01.869Z"
   },
   {
    "duration": 37,
    "start_time": "2021-07-07T18:14:01.902Z"
   },
   {
    "duration": 8,
    "start_time": "2021-07-07T18:14:01.942Z"
   },
   {
    "duration": 16,
    "start_time": "2021-07-07T18:14:01.952Z"
   },
   {
    "duration": 13,
    "start_time": "2021-07-07T18:14:01.970Z"
   },
   {
    "duration": 32,
    "start_time": "2021-07-07T18:14:01.985Z"
   },
   {
    "duration": 11,
    "start_time": "2021-07-07T18:14:02.019Z"
   },
   {
    "duration": 22,
    "start_time": "2021-07-07T18:14:02.031Z"
   },
   {
    "duration": 27,
    "start_time": "2021-07-07T18:14:02.055Z"
   },
   {
    "duration": 18,
    "start_time": "2021-07-07T18:14:02.084Z"
   },
   {
    "duration": 18,
    "start_time": "2021-07-07T18:14:02.106Z"
   },
   {
    "duration": 11,
    "start_time": "2021-07-07T18:14:02.126Z"
   },
   {
    "duration": 21,
    "start_time": "2021-07-07T18:14:02.138Z"
   },
   {
    "duration": 32,
    "start_time": "2021-07-07T18:14:02.161Z"
   },
   {
    "duration": 28,
    "start_time": "2021-07-07T18:14:44.295Z"
   },
   {
    "duration": 6,
    "start_time": "2021-07-07T18:15:05.834Z"
   },
   {
    "duration": 511,
    "start_time": "2021-07-07T18:15:41.541Z"
   },
   {
    "duration": 183,
    "start_time": "2021-07-07T18:15:42.054Z"
   },
   {
    "duration": 50,
    "start_time": "2021-07-07T18:15:42.239Z"
   },
   {
    "duration": 5,
    "start_time": "2021-07-07T18:15:42.291Z"
   },
   {
    "duration": 48,
    "start_time": "2021-07-07T18:15:42.297Z"
   },
   {
    "duration": 8,
    "start_time": "2021-07-07T18:15:42.346Z"
   },
   {
    "duration": 17,
    "start_time": "2021-07-07T18:15:42.356Z"
   },
   {
    "duration": 15,
    "start_time": "2021-07-07T18:15:42.375Z"
   },
   {
    "duration": 12,
    "start_time": "2021-07-07T18:15:42.392Z"
   },
   {
    "duration": 7,
    "start_time": "2021-07-07T18:15:42.406Z"
   },
   {
    "duration": 7,
    "start_time": "2021-07-07T18:15:42.415Z"
   },
   {
    "duration": 29,
    "start_time": "2021-07-07T18:15:42.423Z"
   },
   {
    "duration": 43,
    "start_time": "2021-07-07T18:15:42.453Z"
   },
   {
    "duration": 18,
    "start_time": "2021-07-07T18:15:42.497Z"
   },
   {
    "duration": 6,
    "start_time": "2021-07-07T18:15:42.516Z"
   },
   {
    "duration": 3,
    "start_time": "2021-07-07T18:15:42.523Z"
   },
   {
    "duration": 18,
    "start_time": "2021-07-07T18:15:42.528Z"
   },
   {
    "duration": 10,
    "start_time": "2021-07-07T18:15:42.547Z"
   },
   {
    "duration": 36,
    "start_time": "2021-07-07T18:15:42.559Z"
   },
   {
    "duration": 8,
    "start_time": "2021-07-07T18:15:42.597Z"
   },
   {
    "duration": 28,
    "start_time": "2021-07-07T18:15:42.606Z"
   },
   {
    "duration": 52,
    "start_time": "2021-07-07T18:15:42.635Z"
   },
   {
    "duration": 7,
    "start_time": "2021-07-07T18:15:42.690Z"
   },
   {
    "duration": 10,
    "start_time": "2021-07-07T18:15:42.699Z"
   },
   {
    "duration": 19,
    "start_time": "2021-07-07T18:15:42.711Z"
   },
   {
    "duration": 9,
    "start_time": "2021-07-07T18:15:42.732Z"
   },
   {
    "duration": 5,
    "start_time": "2021-07-07T18:15:42.743Z"
   },
   {
    "duration": 1450,
    "start_time": "2021-07-07T18:15:51.984Z"
   },
   {
    "duration": 161,
    "start_time": "2021-07-07T18:15:53.435Z"
   },
   {
    "duration": 124,
    "start_time": "2021-07-07T18:15:53.598Z"
   },
   {
    "duration": 5,
    "start_time": "2021-07-07T18:15:53.724Z"
   },
   {
    "duration": 34,
    "start_time": "2021-07-07T18:15:53.730Z"
   },
   {
    "duration": 7,
    "start_time": "2021-07-07T18:15:53.765Z"
   },
   {
    "duration": 15,
    "start_time": "2021-07-07T18:15:53.773Z"
   },
   {
    "duration": 5,
    "start_time": "2021-07-07T18:15:53.791Z"
   },
   {
    "duration": 19,
    "start_time": "2021-07-07T18:15:53.798Z"
   },
   {
    "duration": 9,
    "start_time": "2021-07-07T18:15:53.818Z"
   },
   {
    "duration": 19,
    "start_time": "2021-07-07T18:15:53.828Z"
   },
   {
    "duration": 27,
    "start_time": "2021-07-07T18:15:53.848Z"
   },
   {
    "duration": 16,
    "start_time": "2021-07-07T18:15:53.884Z"
   },
   {
    "duration": 29,
    "start_time": "2021-07-07T18:15:53.901Z"
   },
   {
    "duration": 5,
    "start_time": "2021-07-07T18:15:53.932Z"
   },
   {
    "duration": 15,
    "start_time": "2021-07-07T18:15:53.939Z"
   },
   {
    "duration": 13,
    "start_time": "2021-07-07T18:15:53.956Z"
   },
   {
    "duration": 20,
    "start_time": "2021-07-07T18:15:53.971Z"
   },
   {
    "duration": 14,
    "start_time": "2021-07-07T18:15:53.992Z"
   },
   {
    "duration": 9,
    "start_time": "2021-07-07T18:15:54.009Z"
   },
   {
    "duration": 28,
    "start_time": "2021-07-07T18:15:54.020Z"
   },
   {
    "duration": 50,
    "start_time": "2021-07-07T18:15:54.051Z"
   },
   {
    "duration": 8,
    "start_time": "2021-07-07T18:15:54.105Z"
   },
   {
    "duration": 11,
    "start_time": "2021-07-07T18:15:54.115Z"
   },
   {
    "duration": 20,
    "start_time": "2021-07-07T18:15:54.128Z"
   },
   {
    "duration": 13,
    "start_time": "2021-07-07T18:15:54.184Z"
   },
   {
    "duration": 7,
    "start_time": "2021-07-07T18:15:54.199Z"
   },
   {
    "duration": 7,
    "start_time": "2021-07-07T18:17:08.042Z"
   },
   {
    "duration": 8,
    "start_time": "2021-07-07T18:17:21.008Z"
   },
   {
    "duration": 7,
    "start_time": "2021-07-07T18:17:29.003Z"
   },
   {
    "duration": 8,
    "start_time": "2021-07-07T18:17:32.492Z"
   },
   {
    "duration": 9,
    "start_time": "2021-07-07T18:17:41.758Z"
   },
   {
    "duration": 255,
    "start_time": "2021-07-07T18:20:20.897Z"
   },
   {
    "duration": 173,
    "start_time": "2021-07-07T18:20:26.636Z"
   },
   {
    "duration": 7,
    "start_time": "2021-07-07T18:21:47.164Z"
   },
   {
    "duration": 254,
    "start_time": "2021-07-07T18:23:08.703Z"
   },
   {
    "duration": 21,
    "start_time": "2021-07-07T18:23:22.506Z"
   },
   {
    "duration": 315,
    "start_time": "2021-07-07T18:25:54.801Z"
   },
   {
    "duration": 34,
    "start_time": "2021-07-07T18:26:51.817Z"
   },
   {
    "duration": 327,
    "start_time": "2021-07-07T18:26:56.147Z"
   },
   {
    "duration": 342,
    "start_time": "2021-07-07T18:27:15.887Z"
   },
   {
    "duration": 302,
    "start_time": "2021-07-07T18:28:18.569Z"
   },
   {
    "duration": 226,
    "start_time": "2021-07-07T18:29:20.879Z"
   },
   {
    "duration": 207,
    "start_time": "2021-07-07T18:29:58.114Z"
   },
   {
    "duration": 140,
    "start_time": "2021-07-07T18:32:04.372Z"
   },
   {
    "duration": 158,
    "start_time": "2021-07-07T18:32:32.508Z"
   },
   {
    "duration": 145,
    "start_time": "2021-07-07T18:32:41.365Z"
   },
   {
    "duration": 132,
    "start_time": "2021-07-07T18:32:45.199Z"
   },
   {
    "duration": 11,
    "start_time": "2021-07-07T18:35:24.679Z"
   },
   {
    "duration": 268,
    "start_time": "2021-07-07T18:36:16.145Z"
   },
   {
    "duration": 227,
    "start_time": "2021-07-07T18:37:04.918Z"
   },
   {
    "duration": 3,
    "start_time": "2021-07-07T18:37:33.012Z"
   },
   {
    "duration": 671,
    "start_time": "2021-07-07T18:37:38.295Z"
   },
   {
    "duration": 54,
    "start_time": "2021-07-07T18:37:53.406Z"
   },
   {
    "duration": 631,
    "start_time": "2021-07-07T18:37:56.463Z"
   },
   {
    "duration": 19,
    "start_time": "2021-07-07T18:39:40.535Z"
   },
   {
    "duration": 20,
    "start_time": "2021-07-07T18:40:12.236Z"
   },
   {
    "duration": 633,
    "start_time": "2021-07-07T18:42:00.398Z"
   },
   {
    "duration": 218,
    "start_time": "2021-07-07T18:42:01.033Z"
   },
   {
    "duration": 49,
    "start_time": "2021-07-07T18:42:01.253Z"
   },
   {
    "duration": 5,
    "start_time": "2021-07-07T18:42:01.303Z"
   },
   {
    "duration": 27,
    "start_time": "2021-07-07T18:42:01.310Z"
   },
   {
    "duration": 8,
    "start_time": "2021-07-07T18:42:01.339Z"
   },
   {
    "duration": 20,
    "start_time": "2021-07-07T18:42:01.348Z"
   },
   {
    "duration": 6,
    "start_time": "2021-07-07T18:42:01.386Z"
   },
   {
    "duration": 16,
    "start_time": "2021-07-07T18:42:01.394Z"
   },
   {
    "duration": 9,
    "start_time": "2021-07-07T18:42:01.411Z"
   },
   {
    "duration": 11,
    "start_time": "2021-07-07T18:42:01.421Z"
   },
   {
    "duration": 31,
    "start_time": "2021-07-07T18:42:01.434Z"
   },
   {
    "duration": 18,
    "start_time": "2021-07-07T18:42:01.485Z"
   },
   {
    "duration": 23,
    "start_time": "2021-07-07T18:42:01.505Z"
   },
   {
    "duration": 6,
    "start_time": "2021-07-07T18:42:01.530Z"
   },
   {
    "duration": 10,
    "start_time": "2021-07-07T18:42:01.538Z"
   },
   {
    "duration": 13,
    "start_time": "2021-07-07T18:42:01.550Z"
   },
   {
    "duration": 24,
    "start_time": "2021-07-07T18:42:01.564Z"
   },
   {
    "duration": 20,
    "start_time": "2021-07-07T18:42:01.590Z"
   },
   {
    "duration": 8,
    "start_time": "2021-07-07T18:42:01.611Z"
   },
   {
    "duration": 31,
    "start_time": "2021-07-07T18:42:01.620Z"
   },
   {
    "duration": 39,
    "start_time": "2021-07-07T18:42:01.653Z"
   },
   {
    "duration": 8,
    "start_time": "2021-07-07T18:42:01.696Z"
   },
   {
    "duration": 13,
    "start_time": "2021-07-07T18:42:01.705Z"
   },
   {
    "duration": 20,
    "start_time": "2021-07-07T18:42:01.720Z"
   },
   {
    "duration": 12,
    "start_time": "2021-07-07T18:42:01.741Z"
   },
   {
    "duration": 35,
    "start_time": "2021-07-07T18:42:01.755Z"
   },
   {
    "duration": 14,
    "start_time": "2021-07-07T18:42:01.792Z"
   },
   {
    "duration": 188,
    "start_time": "2021-07-07T18:42:01.808Z"
   },
   {
    "duration": 19,
    "start_time": "2021-07-07T18:42:01.998Z"
   },
   {
    "duration": 175,
    "start_time": "2021-07-07T18:42:02.019Z"
   },
   {
    "duration": 134,
    "start_time": "2021-07-07T18:42:02.196Z"
   },
   {
    "duration": 10,
    "start_time": "2021-07-07T18:42:02.331Z"
   },
   {
    "duration": 19,
    "start_time": "2021-07-07T18:42:02.343Z"
   },
   {
    "duration": 628,
    "start_time": "2021-07-07T18:46:30.701Z"
   },
   {
    "duration": 183,
    "start_time": "2021-07-07T18:46:31.331Z"
   },
   {
    "duration": 48,
    "start_time": "2021-07-07T18:46:31.516Z"
   },
   {
    "duration": 5,
    "start_time": "2021-07-07T18:46:31.566Z"
   },
   {
    "duration": 28,
    "start_time": "2021-07-07T18:46:31.572Z"
   },
   {
    "duration": 8,
    "start_time": "2021-07-07T18:46:31.602Z"
   },
   {
    "duration": 19,
    "start_time": "2021-07-07T18:46:31.611Z"
   },
   {
    "duration": 6,
    "start_time": "2021-07-07T18:46:31.633Z"
   },
   {
    "duration": 17,
    "start_time": "2021-07-07T18:46:31.642Z"
   },
   {
    "duration": 10,
    "start_time": "2021-07-07T18:46:31.684Z"
   },
   {
    "duration": 9,
    "start_time": "2021-07-07T18:46:31.695Z"
   },
   {
    "duration": 28,
    "start_time": "2021-07-07T18:46:31.705Z"
   },
   {
    "duration": 18,
    "start_time": "2021-07-07T18:46:31.735Z"
   },
   {
    "duration": 48,
    "start_time": "2021-07-07T18:46:31.755Z"
   },
   {
    "duration": 6,
    "start_time": "2021-07-07T18:46:31.804Z"
   },
   {
    "duration": 4,
    "start_time": "2021-07-07T18:46:31.812Z"
   },
   {
    "duration": 9,
    "start_time": "2021-07-07T18:46:31.817Z"
   },
   {
    "duration": 10,
    "start_time": "2021-07-07T18:46:31.827Z"
   },
   {
    "duration": 12,
    "start_time": "2021-07-07T18:46:31.838Z"
   },
   {
    "duration": 39,
    "start_time": "2021-07-07T18:46:31.851Z"
   },
   {
    "duration": 24,
    "start_time": "2021-07-07T18:46:31.892Z"
   },
   {
    "duration": 15,
    "start_time": "2021-07-07T18:46:31.918Z"
   },
   {
    "duration": 7,
    "start_time": "2021-07-07T18:46:31.936Z"
   },
   {
    "duration": 8,
    "start_time": "2021-07-07T18:46:31.944Z"
   },
   {
    "duration": 19,
    "start_time": "2021-07-07T18:46:31.984Z"
   },
   {
    "duration": 10,
    "start_time": "2021-07-07T18:46:32.004Z"
   },
   {
    "duration": 5,
    "start_time": "2021-07-07T18:46:32.016Z"
   },
   {
    "duration": 9,
    "start_time": "2021-07-07T18:46:32.023Z"
   },
   {
    "duration": 199,
    "start_time": "2021-07-07T18:46:32.033Z"
   },
   {
    "duration": 19,
    "start_time": "2021-07-07T18:46:32.234Z"
   },
   {
    "duration": 159,
    "start_time": "2021-07-07T18:46:32.255Z"
   },
   {
    "duration": 134,
    "start_time": "2021-07-07T18:46:32.416Z"
   },
   {
    "duration": 10,
    "start_time": "2021-07-07T18:46:32.552Z"
   },
   {
    "duration": 34,
    "start_time": "2021-07-07T18:46:32.563Z"
   },
   {
    "duration": 1039,
    "start_time": "2021-07-08T08:41:09.419Z"
   },
   {
    "duration": 333,
    "start_time": "2021-07-08T08:41:10.459Z"
   },
   {
    "duration": 173,
    "start_time": "2021-07-08T08:41:10.794Z"
   },
   {
    "duration": 5,
    "start_time": "2021-07-08T08:41:10.968Z"
   },
   {
    "duration": 25,
    "start_time": "2021-07-08T08:41:10.975Z"
   },
   {
    "duration": 9,
    "start_time": "2021-07-08T08:41:11.002Z"
   },
   {
    "duration": 18,
    "start_time": "2021-07-08T08:41:11.013Z"
   },
   {
    "duration": 6,
    "start_time": "2021-07-08T08:41:11.033Z"
   },
   {
    "duration": 44,
    "start_time": "2021-07-08T08:41:11.042Z"
   },
   {
    "duration": 10,
    "start_time": "2021-07-08T08:41:11.088Z"
   },
   {
    "duration": 9,
    "start_time": "2021-07-08T08:41:11.100Z"
   },
   {
    "duration": 27,
    "start_time": "2021-07-08T08:41:11.111Z"
   },
   {
    "duration": 46,
    "start_time": "2021-07-08T08:41:11.140Z"
   },
   {
    "duration": 17,
    "start_time": "2021-07-08T08:41:11.187Z"
   },
   {
    "duration": 6,
    "start_time": "2021-07-08T08:41:11.206Z"
   },
   {
    "duration": 5,
    "start_time": "2021-07-08T08:41:11.213Z"
   },
   {
    "duration": 10,
    "start_time": "2021-07-08T08:41:11.219Z"
   },
   {
    "duration": 9,
    "start_time": "2021-07-08T08:41:11.230Z"
   },
   {
    "duration": 45,
    "start_time": "2021-07-08T08:41:11.241Z"
   },
   {
    "duration": 7,
    "start_time": "2021-07-08T08:41:11.287Z"
   },
   {
    "duration": 24,
    "start_time": "2021-07-08T08:41:11.296Z"
   },
   {
    "duration": 16,
    "start_time": "2021-07-08T08:41:11.322Z"
   },
   {
    "duration": 7,
    "start_time": "2021-07-08T08:41:11.341Z"
   },
   {
    "duration": 41,
    "start_time": "2021-07-08T08:41:11.349Z"
   },
   {
    "duration": 17,
    "start_time": "2021-07-08T08:41:11.391Z"
   },
   {
    "duration": 9,
    "start_time": "2021-07-08T08:41:11.410Z"
   },
   {
    "duration": 5,
    "start_time": "2021-07-08T08:41:11.421Z"
   },
   {
    "duration": 6,
    "start_time": "2021-07-08T08:41:11.428Z"
   },
   {
    "duration": 198,
    "start_time": "2021-07-08T08:41:11.435Z"
   },
   {
    "duration": 18,
    "start_time": "2021-07-08T08:41:11.635Z"
   },
   {
    "duration": 155,
    "start_time": "2021-07-08T08:41:11.655Z"
   },
   {
    "duration": 138,
    "start_time": "2021-07-08T08:41:11.811Z"
   },
   {
    "duration": 10,
    "start_time": "2021-07-08T08:41:11.950Z"
   },
   {
    "duration": 29,
    "start_time": "2021-07-08T08:41:11.961Z"
   },
   {
    "duration": 171,
    "start_time": "2021-07-08T08:47:44.522Z"
   },
   {
    "duration": 124,
    "start_time": "2021-07-08T08:47:46.872Z"
   },
   {
    "duration": 191,
    "start_time": "2021-07-08T08:47:58.148Z"
   },
   {
    "duration": 191,
    "start_time": "2021-07-08T08:48:07.412Z"
   },
   {
    "duration": 261,
    "start_time": "2021-07-08T08:48:10.385Z"
   },
   {
    "duration": 255,
    "start_time": "2021-07-08T08:48:14.494Z"
   },
   {
    "duration": 219,
    "start_time": "2021-07-08T08:48:22.752Z"
   },
   {
    "duration": 173,
    "start_time": "2021-07-08T08:49:06.395Z"
   },
   {
    "duration": 180,
    "start_time": "2021-07-08T08:49:21.011Z"
   },
   {
    "duration": 6,
    "start_time": "2021-07-08T08:50:31.697Z"
   },
   {
    "duration": 10,
    "start_time": "2021-07-08T08:50:47.394Z"
   },
   {
    "duration": 11,
    "start_time": "2021-07-08T08:53:49.332Z"
   },
   {
    "duration": 171,
    "start_time": "2021-07-08T08:54:28.408Z"
   },
   {
    "duration": 636,
    "start_time": "2021-07-08T09:02:48.385Z"
   },
   {
    "duration": 227,
    "start_time": "2021-07-08T09:02:49.023Z"
   },
   {
    "duration": 104,
    "start_time": "2021-07-08T09:02:49.252Z"
   },
   {
    "duration": 5,
    "start_time": "2021-07-08T09:02:49.358Z"
   },
   {
    "duration": 27,
    "start_time": "2021-07-08T09:02:49.365Z"
   },
   {
    "duration": 8,
    "start_time": "2021-07-08T09:02:49.394Z"
   },
   {
    "duration": 18,
    "start_time": "2021-07-08T09:02:49.404Z"
   },
   {
    "duration": 6,
    "start_time": "2021-07-08T09:02:49.424Z"
   },
   {
    "duration": 11,
    "start_time": "2021-07-08T09:02:49.433Z"
   },
   {
    "duration": 13,
    "start_time": "2021-07-08T09:02:49.485Z"
   },
   {
    "duration": 9,
    "start_time": "2021-07-08T09:02:49.500Z"
   },
   {
    "duration": 38,
    "start_time": "2021-07-08T09:02:49.511Z"
   },
   {
    "duration": 42,
    "start_time": "2021-07-08T09:02:49.551Z"
   },
   {
    "duration": 21,
    "start_time": "2021-07-08T09:02:49.594Z"
   },
   {
    "duration": 6,
    "start_time": "2021-07-08T09:02:49.616Z"
   },
   {
    "duration": 3,
    "start_time": "2021-07-08T09:02:49.623Z"
   },
   {
    "duration": 9,
    "start_time": "2021-07-08T09:02:49.628Z"
   },
   {
    "duration": 52,
    "start_time": "2021-07-08T09:02:49.638Z"
   },
   {
    "duration": 11,
    "start_time": "2021-07-08T09:02:49.692Z"
   },
   {
    "duration": 8,
    "start_time": "2021-07-08T09:02:49.704Z"
   },
   {
    "duration": 27,
    "start_time": "2021-07-08T09:02:49.713Z"
   },
   {
    "duration": 59,
    "start_time": "2021-07-08T09:02:49.741Z"
   },
   {
    "duration": 8,
    "start_time": "2021-07-08T09:02:49.803Z"
   },
   {
    "duration": 14,
    "start_time": "2021-07-08T09:02:49.813Z"
   },
   {
    "duration": 20,
    "start_time": "2021-07-08T09:02:49.829Z"
   },
   {
    "duration": 44,
    "start_time": "2021-07-08T09:02:49.851Z"
   },
   {
    "duration": 14,
    "start_time": "2021-07-08T09:02:49.896Z"
   },
   {
    "duration": 221,
    "start_time": "2021-07-08T09:02:49.912Z"
   },
   {
    "duration": 6,
    "start_time": "2021-07-08T09:02:50.134Z"
   },
   {
    "duration": 206,
    "start_time": "2021-07-08T09:02:50.142Z"
   },
   {
    "duration": 19,
    "start_time": "2021-07-08T09:02:50.350Z"
   },
   {
    "duration": 21,
    "start_time": "2021-07-08T09:02:50.370Z"
   },
   {
    "duration": 20,
    "start_time": "2021-07-08T09:02:50.393Z"
   },
   {
    "duration": 5,
    "start_time": "2021-07-08T09:02:50.414Z"
   },
   {
    "duration": 5,
    "start_time": "2021-07-08T09:03:34.173Z"
   },
   {
    "duration": 6,
    "start_time": "2021-07-08T09:04:49.062Z"
   },
   {
    "duration": 9,
    "start_time": "2021-07-08T09:04:50.118Z"
   },
   {
    "duration": 14,
    "start_time": "2021-07-08T09:04:58.512Z"
   },
   {
    "duration": 9,
    "start_time": "2021-07-08T09:05:10.988Z"
   },
   {
    "duration": 11,
    "start_time": "2021-07-08T09:05:11.743Z"
   },
   {
    "duration": 7,
    "start_time": "2021-07-08T09:05:25.677Z"
   },
   {
    "duration": 13,
    "start_time": "2021-07-08T09:05:47.189Z"
   },
   {
    "duration": 13,
    "start_time": "2021-07-08T09:05:54.755Z"
   },
   {
    "duration": 4,
    "start_time": "2021-07-08T09:06:29.189Z"
   },
   {
    "duration": 244,
    "start_time": "2021-07-08T09:06:29.195Z"
   },
   {
    "duration": 91,
    "start_time": "2021-07-08T09:06:29.441Z"
   },
   {
    "duration": 4,
    "start_time": "2021-07-08T09:06:29.534Z"
   },
   {
    "duration": 28,
    "start_time": "2021-07-08T09:06:29.540Z"
   },
   {
    "duration": 6,
    "start_time": "2021-07-08T09:06:29.570Z"
   },
   {
    "duration": 18,
    "start_time": "2021-07-08T09:06:29.578Z"
   },
   {
    "duration": 5,
    "start_time": "2021-07-08T09:06:29.597Z"
   },
   {
    "duration": 13,
    "start_time": "2021-07-08T09:06:29.605Z"
   },
   {
    "duration": 8,
    "start_time": "2021-07-08T09:06:29.620Z"
   },
   {
    "duration": 7,
    "start_time": "2021-07-08T09:06:29.630Z"
   },
   {
    "duration": 63,
    "start_time": "2021-07-08T09:06:29.639Z"
   },
   {
    "duration": 17,
    "start_time": "2021-07-08T09:06:29.704Z"
   },
   {
    "duration": 20,
    "start_time": "2021-07-08T09:06:29.723Z"
   },
   {
    "duration": 6,
    "start_time": "2021-07-08T09:06:29.745Z"
   },
   {
    "duration": 3,
    "start_time": "2021-07-08T09:06:29.752Z"
   },
   {
    "duration": 7,
    "start_time": "2021-07-08T09:06:29.785Z"
   },
   {
    "duration": 11,
    "start_time": "2021-07-08T09:06:29.794Z"
   },
   {
    "duration": 15,
    "start_time": "2021-07-08T09:06:29.807Z"
   },
   {
    "duration": 8,
    "start_time": "2021-07-08T09:06:29.823Z"
   },
   {
    "duration": 70,
    "start_time": "2021-07-08T09:06:29.832Z"
   },
   {
    "duration": 17,
    "start_time": "2021-07-08T09:06:29.903Z"
   },
   {
    "duration": 9,
    "start_time": "2021-07-08T09:06:29.921Z"
   },
   {
    "duration": 9,
    "start_time": "2021-07-08T09:06:29.932Z"
   },
   {
    "duration": 57,
    "start_time": "2021-07-08T09:06:29.942Z"
   },
   {
    "duration": 11,
    "start_time": "2021-07-08T09:06:30.001Z"
   },
   {
    "duration": 19,
    "start_time": "2021-07-08T09:06:30.016Z"
   },
   {
    "duration": 217,
    "start_time": "2021-07-08T09:06:30.037Z"
   },
   {
    "duration": 6,
    "start_time": "2021-07-08T09:06:30.255Z"
   },
   {
    "duration": 205,
    "start_time": "2021-07-08T09:06:30.263Z"
   },
   {
    "duration": 27,
    "start_time": "2021-07-08T09:06:30.470Z"
   },
   {
    "duration": 11,
    "start_time": "2021-07-08T09:06:30.500Z"
   },
   {
    "duration": 31,
    "start_time": "2021-07-08T09:06:30.513Z"
   },
   {
    "duration": 18,
    "start_time": "2021-07-08T09:06:30.546Z"
   },
   {
    "duration": 11,
    "start_time": "2021-07-08T09:06:30.566Z"
   },
   {
    "duration": 19,
    "start_time": "2021-07-08T09:06:30.579Z"
   },
   {
    "duration": 20,
    "start_time": "2021-07-08T09:06:49.466Z"
   },
   {
    "duration": 9,
    "start_time": "2021-07-08T09:06:51.994Z"
   },
   {
    "duration": 20,
    "start_time": "2021-07-08T09:06:52.273Z"
   },
   {
    "duration": 246,
    "start_time": "2021-07-08T09:10:21.272Z"
   },
   {
    "duration": 84,
    "start_time": "2021-07-08T09:10:21.436Z"
   },
   {
    "duration": 7,
    "start_time": "2021-07-08T09:10:37.608Z"
   },
   {
    "duration": 189,
    "start_time": "2021-07-08T09:10:38.573Z"
   },
   {
    "duration": 185,
    "start_time": "2021-07-08T09:10:53.181Z"
   },
   {
    "duration": 11,
    "start_time": "2021-07-08T09:10:59.549Z"
   },
   {
    "duration": 42,
    "start_time": "2021-07-08T09:10:59.709Z"
   },
   {
    "duration": 12,
    "start_time": "2021-07-08T09:11:02.857Z"
   },
   {
    "duration": 28,
    "start_time": "2021-07-08T09:11:10.062Z"
   },
   {
    "duration": 249,
    "start_time": "2021-07-08T09:11:37.388Z"
   },
   {
    "duration": 232,
    "start_time": "2021-07-08T09:11:49.485Z"
   },
   {
    "duration": 453,
    "start_time": "2021-07-08T09:12:01.546Z"
   },
   {
    "duration": 440,
    "start_time": "2021-07-08T09:12:12.347Z"
   },
   {
    "duration": 213,
    "start_time": "2021-07-08T09:13:32.196Z"
   },
   {
    "duration": 172,
    "start_time": "2021-07-08T09:14:07.400Z"
   },
   {
    "duration": 185,
    "start_time": "2021-07-08T09:14:14.905Z"
   },
   {
    "duration": 209,
    "start_time": "2021-07-08T09:14:40.109Z"
   },
   {
    "duration": 201,
    "start_time": "2021-07-08T09:14:54.506Z"
   },
   {
    "duration": 622,
    "start_time": "2021-07-08T09:18:14.497Z"
   },
   {
    "duration": 220,
    "start_time": "2021-07-08T09:18:15.121Z"
   },
   {
    "duration": 79,
    "start_time": "2021-07-08T09:18:15.343Z"
   },
   {
    "duration": 4,
    "start_time": "2021-07-08T09:18:15.425Z"
   },
   {
    "duration": 24,
    "start_time": "2021-07-08T09:18:15.431Z"
   },
   {
    "duration": 8,
    "start_time": "2021-07-08T09:18:15.457Z"
   },
   {
    "duration": 16,
    "start_time": "2021-07-08T09:18:15.466Z"
   },
   {
    "duration": 5,
    "start_time": "2021-07-08T09:18:15.484Z"
   },
   {
    "duration": 10,
    "start_time": "2021-07-08T09:18:15.493Z"
   },
   {
    "duration": 8,
    "start_time": "2021-07-08T09:18:15.504Z"
   },
   {
    "duration": 7,
    "start_time": "2021-07-08T09:18:15.513Z"
   },
   {
    "duration": 26,
    "start_time": "2021-07-08T09:18:15.522Z"
   },
   {
    "duration": 49,
    "start_time": "2021-07-08T09:18:15.550Z"
   },
   {
    "duration": 21,
    "start_time": "2021-07-08T09:18:15.601Z"
   },
   {
    "duration": 8,
    "start_time": "2021-07-08T09:18:15.624Z"
   },
   {
    "duration": 3,
    "start_time": "2021-07-08T09:18:15.634Z"
   },
   {
    "duration": 8,
    "start_time": "2021-07-08T09:18:15.639Z"
   },
   {
    "duration": 45,
    "start_time": "2021-07-08T09:18:15.649Z"
   },
   {
    "duration": 13,
    "start_time": "2021-07-08T09:18:15.696Z"
   },
   {
    "duration": 10,
    "start_time": "2021-07-08T09:18:15.711Z"
   },
   {
    "duration": 64,
    "start_time": "2021-07-08T09:18:15.722Z"
   },
   {
    "duration": 19,
    "start_time": "2021-07-08T09:18:15.788Z"
   },
   {
    "duration": 9,
    "start_time": "2021-07-08T09:18:15.809Z"
   },
   {
    "duration": 9,
    "start_time": "2021-07-08T09:18:15.820Z"
   },
   {
    "duration": 18,
    "start_time": "2021-07-08T09:18:15.831Z"
   },
   {
    "duration": 43,
    "start_time": "2021-07-08T09:18:15.851Z"
   },
   {
    "duration": 12,
    "start_time": "2021-07-08T09:18:15.897Z"
   },
   {
    "duration": 219,
    "start_time": "2021-07-08T09:18:15.911Z"
   },
   {
    "duration": 8,
    "start_time": "2021-07-08T09:18:16.132Z"
   },
   {
    "duration": 199,
    "start_time": "2021-07-08T09:18:16.141Z"
   },
   {
    "duration": 18,
    "start_time": "2021-07-08T09:18:16.341Z"
   },
   {
    "duration": 24,
    "start_time": "2021-07-08T09:18:16.361Z"
   },
   {
    "duration": 24,
    "start_time": "2021-07-08T09:18:16.387Z"
   },
   {
    "duration": 211,
    "start_time": "2021-07-08T09:18:16.413Z"
   },
   {
    "duration": 18,
    "start_time": "2021-07-08T09:18:16.626Z"
   },
   {
    "duration": 596,
    "start_time": "2021-07-08T10:06:33.623Z"
   },
   {
    "duration": 181,
    "start_time": "2021-07-08T10:06:34.221Z"
   },
   {
    "duration": 176,
    "start_time": "2021-07-08T10:06:34.635Z"
   },
   {
    "duration": 239,
    "start_time": "2021-07-08T10:06:55.572Z"
   },
   {
    "duration": 6,
    "start_time": "2021-07-08T10:06:57.687Z"
   },
   {
    "duration": 4,
    "start_time": "2021-07-08T10:07:03.956Z"
   },
   {
    "duration": 4,
    "start_time": "2021-07-08T10:07:10.376Z"
   },
   {
    "duration": 4,
    "start_time": "2021-07-08T10:17:19.889Z"
   },
   {
    "duration": 3,
    "start_time": "2021-07-08T10:19:19.407Z"
   },
   {
    "duration": 197,
    "start_time": "2021-07-08T10:19:19.412Z"
   },
   {
    "duration": 127,
    "start_time": "2021-07-08T10:19:19.611Z"
   },
   {
    "duration": 4,
    "start_time": "2021-07-08T10:19:19.740Z"
   },
   {
    "duration": 27,
    "start_time": "2021-07-08T10:19:19.746Z"
   },
   {
    "duration": 7,
    "start_time": "2021-07-08T10:19:19.775Z"
   },
   {
    "duration": 30,
    "start_time": "2021-07-08T10:19:19.784Z"
   },
   {
    "duration": 7,
    "start_time": "2021-07-08T10:19:19.817Z"
   },
   {
    "duration": 26,
    "start_time": "2021-07-08T10:19:19.826Z"
   },
   {
    "duration": 18,
    "start_time": "2021-07-08T10:19:19.854Z"
   },
   {
    "duration": 14,
    "start_time": "2021-07-08T10:19:19.874Z"
   },
   {
    "duration": 48,
    "start_time": "2021-07-08T10:19:19.890Z"
   },
   {
    "duration": 17,
    "start_time": "2021-07-08T10:19:19.940Z"
   },
   {
    "duration": 38,
    "start_time": "2021-07-08T10:19:19.959Z"
   },
   {
    "duration": 8,
    "start_time": "2021-07-08T10:19:19.999Z"
   },
   {
    "duration": 15,
    "start_time": "2021-07-08T10:19:20.009Z"
   },
   {
    "duration": 22,
    "start_time": "2021-07-08T10:19:20.026Z"
   },
   {
    "duration": 10,
    "start_time": "2021-07-08T10:19:20.050Z"
   },
   {
    "duration": 10,
    "start_time": "2021-07-08T10:19:20.062Z"
   },
   {
    "duration": 20,
    "start_time": "2021-07-08T10:19:20.073Z"
   },
   {
    "duration": 29,
    "start_time": "2021-07-08T10:19:20.095Z"
   },
   {
    "duration": 17,
    "start_time": "2021-07-08T10:19:20.126Z"
   },
   {
    "duration": 40,
    "start_time": "2021-07-08T10:19:20.146Z"
   },
   {
    "duration": 15,
    "start_time": "2021-07-08T10:19:20.189Z"
   },
   {
    "duration": 19,
    "start_time": "2021-07-08T10:19:20.206Z"
   },
   {
    "duration": 10,
    "start_time": "2021-07-08T10:19:20.226Z"
   },
   {
    "duration": 11,
    "start_time": "2021-07-08T10:19:20.238Z"
   },
   {
    "duration": 297,
    "start_time": "2021-07-08T10:19:20.250Z"
   },
   {
    "duration": 6,
    "start_time": "2021-07-08T10:19:20.549Z"
   },
   {
    "duration": 191,
    "start_time": "2021-07-08T10:19:20.557Z"
   },
   {
    "duration": 19,
    "start_time": "2021-07-08T10:19:20.750Z"
   },
   {
    "duration": 20,
    "start_time": "2021-07-08T10:19:20.771Z"
   },
   {
    "duration": 15,
    "start_time": "2021-07-08T10:19:20.793Z"
   },
   {
    "duration": 222,
    "start_time": "2021-07-08T10:19:20.809Z"
   },
   {
    "duration": 20,
    "start_time": "2021-07-08T10:19:21.033Z"
   },
   {
    "duration": 27,
    "start_time": "2021-07-08T10:45:04.055Z"
   },
   {
    "duration": 8,
    "start_time": "2021-07-08T10:45:08.478Z"
   },
   {
    "duration": 8,
    "start_time": "2021-07-08T10:45:31.982Z"
   },
   {
    "duration": 10,
    "start_time": "2021-07-08T10:46:01.221Z"
   },
   {
    "duration": 17,
    "start_time": "2021-07-08T10:46:40.011Z"
   },
   {
    "duration": 193,
    "start_time": "2021-07-08T10:48:19.471Z"
   },
   {
    "duration": 225,
    "start_time": "2021-07-08T10:49:26.480Z"
   },
   {
    "duration": 204,
    "start_time": "2021-07-08T10:49:59.992Z"
   },
   {
    "duration": 435,
    "start_time": "2021-07-08T10:50:06.779Z"
   },
   {
    "duration": 199,
    "start_time": "2021-07-08T10:50:14.891Z"
   },
   {
    "duration": 204,
    "start_time": "2021-07-08T10:50:18.501Z"
   },
   {
    "duration": 244,
    "start_time": "2021-07-08T10:50:23.359Z"
   },
   {
    "duration": 192,
    "start_time": "2021-07-08T10:50:29.135Z"
   },
   {
    "duration": 218,
    "start_time": "2021-07-08T10:50:33.092Z"
   },
   {
    "duration": 207,
    "start_time": "2021-07-08T10:52:45.381Z"
   },
   {
    "duration": 5,
    "start_time": "2021-07-08T10:53:34.641Z"
   },
   {
    "duration": 196,
    "start_time": "2021-07-08T10:53:41.478Z"
   },
   {
    "duration": 43,
    "start_time": "2021-07-08T10:53:50.335Z"
   },
   {
    "duration": 32,
    "start_time": "2021-07-08T10:53:55.294Z"
   },
   {
    "duration": 55,
    "start_time": "2021-07-08T10:54:09.675Z"
   },
   {
    "duration": 16,
    "start_time": "2021-07-08T10:54:12.260Z"
   },
   {
    "duration": 15,
    "start_time": "2021-07-08T10:54:49.150Z"
   },
   {
    "duration": 20,
    "start_time": "2021-07-08T10:56:07.596Z"
   },
   {
    "duration": 16,
    "start_time": "2021-07-08T10:58:26.276Z"
   },
   {
    "duration": 22,
    "start_time": "2021-07-08T10:59:00.486Z"
   },
   {
    "duration": 18,
    "start_time": "2021-07-08T11:02:09.653Z"
   },
   {
    "duration": 10,
    "start_time": "2021-07-08T11:03:44.331Z"
   },
   {
    "duration": 10,
    "start_time": "2021-07-08T11:03:54.055Z"
   },
   {
    "duration": 12,
    "start_time": "2021-07-08T11:04:41.967Z"
   },
   {
    "duration": 24,
    "start_time": "2021-07-08T11:07:30.732Z"
   },
   {
    "duration": 6,
    "start_time": "2021-07-08T11:07:37.364Z"
   },
   {
    "duration": 16,
    "start_time": "2021-07-08T11:08:01.819Z"
   },
   {
    "duration": 17,
    "start_time": "2021-07-08T11:09:47.488Z"
   },
   {
    "duration": 246,
    "start_time": "2021-07-08T11:10:00.830Z"
   },
   {
    "duration": 18,
    "start_time": "2021-07-08T11:13:55.195Z"
   },
   {
    "duration": 204,
    "start_time": "2021-07-08T11:14:04.951Z"
   },
   {
    "duration": 19,
    "start_time": "2021-07-08T11:15:10.613Z"
   },
   {
    "duration": 680,
    "start_time": "2021-07-08T11:16:25.793Z"
   },
   {
    "duration": 451,
    "start_time": "2021-07-08T11:16:40.313Z"
   },
   {
    "duration": 469,
    "start_time": "2021-07-08T11:17:21.286Z"
   },
   {
    "duration": 20,
    "start_time": "2021-07-08T11:19:12.554Z"
   },
   {
    "duration": 35,
    "start_time": "2021-07-08T11:20:05.484Z"
   },
   {
    "duration": 53,
    "start_time": "2021-07-08T11:21:40.050Z"
   },
   {
    "duration": 13,
    "start_time": "2021-07-08T11:22:26.059Z"
   },
   {
    "duration": 19,
    "start_time": "2021-07-08T11:22:47.419Z"
   },
   {
    "duration": 25,
    "start_time": "2021-07-08T11:23:19.958Z"
   },
   {
    "duration": 29,
    "start_time": "2021-07-08T11:23:25.415Z"
   },
   {
    "duration": 10,
    "start_time": "2021-07-08T11:24:45.138Z"
   },
   {
    "duration": 19,
    "start_time": "2021-07-08T11:24:54.498Z"
   },
   {
    "duration": 12,
    "start_time": "2021-07-08T11:25:32.225Z"
   },
   {
    "duration": 19,
    "start_time": "2021-07-08T11:25:37.092Z"
   },
   {
    "duration": 17,
    "start_time": "2021-07-08T11:25:58.116Z"
   },
   {
    "duration": 15,
    "start_time": "2021-07-08T11:26:02.258Z"
   },
   {
    "duration": 8,
    "start_time": "2021-07-08T11:26:59.682Z"
   },
   {
    "duration": 184,
    "start_time": "2021-07-08T11:27:21.894Z"
   },
   {
    "duration": 8,
    "start_time": "2021-07-08T11:27:23.824Z"
   },
   {
    "duration": 202,
    "start_time": "2021-07-08T11:27:23.962Z"
   },
   {
    "duration": 360,
    "start_time": "2021-07-08T11:28:33.215Z"
   },
   {
    "duration": 231,
    "start_time": "2021-07-08T11:32:05.542Z"
   },
   {
    "duration": 607,
    "start_time": "2021-07-08T11:36:27.854Z"
   },
   {
    "duration": 241,
    "start_time": "2021-07-08T11:36:28.463Z"
   },
   {
    "duration": 67,
    "start_time": "2021-07-08T11:36:28.709Z"
   },
   {
    "duration": 5,
    "start_time": "2021-07-08T11:36:28.778Z"
   },
   {
    "duration": 32,
    "start_time": "2021-07-08T11:36:28.784Z"
   },
   {
    "duration": 11,
    "start_time": "2021-07-08T11:36:28.819Z"
   },
   {
    "duration": 20,
    "start_time": "2021-07-08T11:36:28.834Z"
   },
   {
    "duration": 36,
    "start_time": "2021-07-08T11:36:28.857Z"
   },
   {
    "duration": 16,
    "start_time": "2021-07-08T11:36:28.895Z"
   },
   {
    "duration": 14,
    "start_time": "2021-07-08T11:36:28.913Z"
   },
   {
    "duration": 9,
    "start_time": "2021-07-08T11:36:28.930Z"
   },
   {
    "duration": 55,
    "start_time": "2021-07-08T11:36:28.941Z"
   },
   {
    "duration": 27,
    "start_time": "2021-07-08T11:36:28.999Z"
   },
   {
    "duration": 30,
    "start_time": "2021-07-08T11:36:29.028Z"
   },
   {
    "duration": 31,
    "start_time": "2021-07-08T11:36:29.060Z"
   },
   {
    "duration": 3,
    "start_time": "2021-07-08T11:36:29.093Z"
   },
   {
    "duration": 12,
    "start_time": "2021-07-08T11:36:29.099Z"
   },
   {
    "duration": 11,
    "start_time": "2021-07-08T11:36:29.112Z"
   },
   {
    "duration": 12,
    "start_time": "2021-07-08T11:36:29.125Z"
   },
   {
    "duration": 9,
    "start_time": "2021-07-08T11:36:29.139Z"
   },
   {
    "duration": 31,
    "start_time": "2021-07-08T11:36:29.191Z"
   },
   {
    "duration": 17,
    "start_time": "2021-07-08T11:36:29.226Z"
   },
   {
    "duration": 7,
    "start_time": "2021-07-08T11:36:29.245Z"
   },
   {
    "duration": 10,
    "start_time": "2021-07-08T11:36:29.254Z"
   },
   {
    "duration": 30,
    "start_time": "2021-07-08T11:36:29.292Z"
   },
   {
    "duration": 11,
    "start_time": "2021-07-08T11:36:29.324Z"
   },
   {
    "duration": 11,
    "start_time": "2021-07-08T11:36:29.337Z"
   },
   {
    "duration": 230,
    "start_time": "2021-07-08T11:36:29.349Z"
   },
   {
    "duration": 13,
    "start_time": "2021-07-08T11:36:29.588Z"
   },
   {
    "duration": 205,
    "start_time": "2021-07-08T11:36:29.603Z"
   },
   {
    "duration": 20,
    "start_time": "2021-07-08T11:36:29.810Z"
   },
   {
    "duration": 9,
    "start_time": "2021-07-08T11:36:29.832Z"
   },
   {
    "duration": 16,
    "start_time": "2021-07-08T11:36:29.843Z"
   },
   {
    "duration": 283,
    "start_time": "2021-07-08T11:36:29.861Z"
   },
   {
    "duration": 50,
    "start_time": "2021-07-08T11:36:30.146Z"
   },
   {
    "duration": 14,
    "start_time": "2021-07-08T11:36:30.198Z"
   },
   {
    "duration": 11,
    "start_time": "2021-07-08T11:36:30.214Z"
   },
   {
    "duration": 245,
    "start_time": "2021-07-08T11:36:30.227Z"
   },
   {
    "duration": 439,
    "start_time": "2021-07-08T11:36:30.474Z"
   },
   {
    "duration": 210,
    "start_time": "2021-07-08T11:36:30.915Z"
   },
   {
    "duration": 15,
    "start_time": "2021-07-08T11:36:31.127Z"
   },
   {
    "duration": 17,
    "start_time": "2021-07-08T11:38:20.451Z"
   },
   {
    "duration": 642,
    "start_time": "2021-07-08T11:46:17.881Z"
   },
   {
    "duration": 210,
    "start_time": "2021-07-08T11:46:18.525Z"
   },
   {
    "duration": 104,
    "start_time": "2021-07-08T11:46:18.741Z"
   },
   {
    "duration": 8,
    "start_time": "2021-07-08T11:46:18.847Z"
   },
   {
    "duration": 25,
    "start_time": "2021-07-08T11:46:18.857Z"
   },
   {
    "duration": 14,
    "start_time": "2021-07-08T11:46:18.884Z"
   },
   {
    "duration": 22,
    "start_time": "2021-07-08T11:46:18.900Z"
   },
   {
    "duration": 5,
    "start_time": "2021-07-08T11:46:18.924Z"
   },
   {
    "duration": 13,
    "start_time": "2021-07-08T11:46:18.931Z"
   },
   {
    "duration": 45,
    "start_time": "2021-07-08T11:46:18.946Z"
   },
   {
    "duration": 12,
    "start_time": "2021-07-08T11:46:18.993Z"
   },
   {
    "duration": 38,
    "start_time": "2021-07-08T11:46:19.006Z"
   },
   {
    "duration": 50,
    "start_time": "2021-07-08T11:46:19.046Z"
   },
   {
    "duration": 29,
    "start_time": "2021-07-08T11:46:19.099Z"
   },
   {
    "duration": 7,
    "start_time": "2021-07-08T11:46:19.130Z"
   },
   {
    "duration": 3,
    "start_time": "2021-07-08T11:46:19.139Z"
   },
   {
    "duration": 11,
    "start_time": "2021-07-08T11:46:19.144Z"
   },
   {
    "duration": 40,
    "start_time": "2021-07-08T11:46:19.157Z"
   },
   {
    "duration": 15,
    "start_time": "2021-07-08T11:46:19.199Z"
   },
   {
    "duration": 10,
    "start_time": "2021-07-08T11:46:19.217Z"
   },
   {
    "duration": 68,
    "start_time": "2021-07-08T11:46:19.230Z"
   },
   {
    "duration": 17,
    "start_time": "2021-07-08T11:46:19.301Z"
   },
   {
    "duration": 7,
    "start_time": "2021-07-08T11:46:19.321Z"
   },
   {
    "duration": 11,
    "start_time": "2021-07-08T11:46:19.330Z"
   },
   {
    "duration": 59,
    "start_time": "2021-07-08T11:46:19.343Z"
   },
   {
    "duration": 17,
    "start_time": "2021-07-08T11:46:19.405Z"
   },
   {
    "duration": 16,
    "start_time": "2021-07-08T11:46:19.424Z"
   },
   {
    "duration": 252,
    "start_time": "2021-07-08T11:46:19.443Z"
   },
   {
    "duration": 9,
    "start_time": "2021-07-08T11:46:19.697Z"
   },
   {
    "duration": 224,
    "start_time": "2021-07-08T11:46:19.708Z"
   },
   {
    "duration": 21,
    "start_time": "2021-07-08T11:46:19.934Z"
   },
   {
    "duration": 9,
    "start_time": "2021-07-08T11:46:19.956Z"
   },
   {
    "duration": 32,
    "start_time": "2021-07-08T11:46:19.967Z"
   },
   {
    "duration": 288,
    "start_time": "2021-07-08T11:46:20.004Z"
   },
   {
    "duration": 23,
    "start_time": "2021-07-08T11:46:20.300Z"
   },
   {
    "duration": 11,
    "start_time": "2021-07-08T11:46:20.325Z"
   },
   {
    "duration": 11,
    "start_time": "2021-07-08T11:46:20.339Z"
   },
   {
    "duration": 259,
    "start_time": "2021-07-08T11:46:20.352Z"
   },
   {
    "duration": 438,
    "start_time": "2021-07-08T11:46:20.613Z"
   },
   {
    "duration": 207,
    "start_time": "2021-07-08T11:46:21.054Z"
   },
   {
    "duration": 27,
    "start_time": "2021-07-08T11:46:21.262Z"
   },
   {
    "duration": 19,
    "start_time": "2021-07-08T11:46:21.291Z"
   },
   {
    "duration": 820,
    "start_time": "2021-07-08T11:49:01.655Z"
   },
   {
    "duration": 372,
    "start_time": "2021-07-08T11:49:02.478Z"
   },
   {
    "duration": 98,
    "start_time": "2021-07-08T11:49:02.853Z"
   },
   {
    "duration": 6,
    "start_time": "2021-07-08T11:49:02.953Z"
   },
   {
    "duration": 39,
    "start_time": "2021-07-08T11:49:02.960Z"
   },
   {
    "duration": 9,
    "start_time": "2021-07-08T11:49:03.003Z"
   },
   {
    "duration": 23,
    "start_time": "2021-07-08T11:49:03.014Z"
   },
   {
    "duration": 6,
    "start_time": "2021-07-08T11:49:03.041Z"
   },
   {
    "duration": 20,
    "start_time": "2021-07-08T11:49:03.049Z"
   },
   {
    "duration": 18,
    "start_time": "2021-07-08T11:49:03.084Z"
   },
   {
    "duration": 14,
    "start_time": "2021-07-08T11:49:03.104Z"
   },
   {
    "duration": 39,
    "start_time": "2021-07-08T11:49:03.119Z"
   },
   {
    "duration": 38,
    "start_time": "2021-07-08T11:49:03.160Z"
   },
   {
    "duration": 26,
    "start_time": "2021-07-08T11:49:03.200Z"
   },
   {
    "duration": 7,
    "start_time": "2021-07-08T11:49:03.227Z"
   },
   {
    "duration": 4,
    "start_time": "2021-07-08T11:49:03.236Z"
   },
   {
    "duration": 15,
    "start_time": "2021-07-08T11:49:03.243Z"
   },
   {
    "duration": 21,
    "start_time": "2021-07-08T11:49:03.285Z"
   },
   {
    "duration": 17,
    "start_time": "2021-07-08T11:49:03.309Z"
   },
   {
    "duration": 10,
    "start_time": "2021-07-08T11:49:03.328Z"
   },
   {
    "duration": 65,
    "start_time": "2021-07-08T11:49:03.340Z"
   },
   {
    "duration": 18,
    "start_time": "2021-07-08T11:49:03.407Z"
   },
   {
    "duration": 8,
    "start_time": "2021-07-08T11:49:03.428Z"
   },
   {
    "duration": 15,
    "start_time": "2021-07-08T11:49:03.438Z"
   },
   {
    "duration": 40,
    "start_time": "2021-07-08T11:49:03.455Z"
   },
   {
    "duration": 12,
    "start_time": "2021-07-08T11:49:03.497Z"
   },
   {
    "duration": 29,
    "start_time": "2021-07-08T11:49:03.511Z"
   },
   {
    "duration": 285,
    "start_time": "2021-07-08T11:49:03.542Z"
   },
   {
    "duration": 8,
    "start_time": "2021-07-08T11:49:03.829Z"
   },
   {
    "duration": 227,
    "start_time": "2021-07-08T11:49:03.838Z"
   },
   {
    "duration": 40,
    "start_time": "2021-07-08T11:49:04.066Z"
   },
   {
    "duration": 10,
    "start_time": "2021-07-08T11:49:04.108Z"
   },
   {
    "duration": 26,
    "start_time": "2021-07-08T11:49:04.121Z"
   },
   {
    "duration": 290,
    "start_time": "2021-07-08T11:49:04.149Z"
   },
   {
    "duration": 26,
    "start_time": "2021-07-08T11:49:04.441Z"
   },
   {
    "duration": 31,
    "start_time": "2021-07-08T11:49:04.470Z"
   },
   {
    "duration": 14,
    "start_time": "2021-07-08T11:49:04.503Z"
   },
   {
    "duration": 259,
    "start_time": "2021-07-08T11:49:04.521Z"
   },
   {
    "duration": 480,
    "start_time": "2021-07-08T11:49:04.782Z"
   },
   {
    "duration": 225,
    "start_time": "2021-07-08T11:49:05.264Z"
   },
   {
    "duration": 22,
    "start_time": "2021-07-08T11:49:05.491Z"
   },
   {
    "duration": 24,
    "start_time": "2021-07-08T11:49:05.515Z"
   },
   {
    "duration": 634,
    "start_time": "2021-07-08T11:52:24.960Z"
   },
   {
    "duration": 199,
    "start_time": "2021-07-08T11:52:25.599Z"
   },
   {
    "duration": 106,
    "start_time": "2021-07-08T11:52:25.803Z"
   },
   {
    "duration": 7,
    "start_time": "2021-07-08T11:52:25.911Z"
   },
   {
    "duration": 29,
    "start_time": "2021-07-08T11:52:25.920Z"
   },
   {
    "duration": 7,
    "start_time": "2021-07-08T11:52:25.951Z"
   },
   {
    "duration": 26,
    "start_time": "2021-07-08T11:52:25.961Z"
   },
   {
    "duration": 11,
    "start_time": "2021-07-08T11:52:25.990Z"
   },
   {
    "duration": 29,
    "start_time": "2021-07-08T11:52:26.005Z"
   },
   {
    "duration": 9,
    "start_time": "2021-07-08T11:52:26.036Z"
   },
   {
    "duration": 8,
    "start_time": "2021-07-08T11:52:26.047Z"
   },
   {
    "duration": 63,
    "start_time": "2021-07-08T11:52:26.057Z"
   },
   {
    "duration": 17,
    "start_time": "2021-07-08T11:52:26.122Z"
   },
   {
    "duration": 43,
    "start_time": "2021-07-08T11:52:26.142Z"
   },
   {
    "duration": 17,
    "start_time": "2021-07-08T11:52:26.187Z"
   },
   {
    "duration": 5,
    "start_time": "2021-07-08T11:52:26.206Z"
   },
   {
    "duration": 12,
    "start_time": "2021-07-08T11:52:26.212Z"
   },
   {
    "duration": 11,
    "start_time": "2021-07-08T11:52:26.226Z"
   },
   {
    "duration": 12,
    "start_time": "2021-07-08T11:52:26.238Z"
   },
   {
    "duration": 38,
    "start_time": "2021-07-08T11:52:26.252Z"
   },
   {
    "duration": 40,
    "start_time": "2021-07-08T11:52:26.292Z"
   },
   {
    "duration": 17,
    "start_time": "2021-07-08T11:52:26.336Z"
   },
   {
    "duration": 39,
    "start_time": "2021-07-08T11:52:26.355Z"
   },
   {
    "duration": 11,
    "start_time": "2021-07-08T11:52:26.395Z"
   },
   {
    "duration": 23,
    "start_time": "2021-07-08T11:52:26.408Z"
   },
   {
    "duration": 12,
    "start_time": "2021-07-08T11:52:26.432Z"
   },
   {
    "duration": 41,
    "start_time": "2021-07-08T11:52:26.446Z"
   },
   {
    "duration": 215,
    "start_time": "2021-07-08T11:52:26.493Z"
   },
   {
    "duration": 8,
    "start_time": "2021-07-08T11:52:26.710Z"
   },
   {
    "duration": 228,
    "start_time": "2021-07-08T11:52:26.720Z"
   },
   {
    "duration": 18,
    "start_time": "2021-07-08T11:52:26.950Z"
   },
   {
    "duration": 35,
    "start_time": "2021-07-08T11:52:26.969Z"
   },
   {
    "duration": 23,
    "start_time": "2021-07-08T11:52:27.006Z"
   },
   {
    "duration": 258,
    "start_time": "2021-07-08T11:52:27.030Z"
   },
   {
    "duration": 24,
    "start_time": "2021-07-08T11:52:27.290Z"
   },
   {
    "duration": 12,
    "start_time": "2021-07-08T11:52:27.316Z"
   },
   {
    "duration": 10,
    "start_time": "2021-07-08T11:52:27.329Z"
   },
   {
    "duration": 298,
    "start_time": "2021-07-08T11:52:27.341Z"
   },
   {
    "duration": 436,
    "start_time": "2021-07-08T11:52:27.641Z"
   },
   {
    "duration": 216,
    "start_time": "2021-07-08T11:52:28.079Z"
   },
   {
    "duration": 20,
    "start_time": "2021-07-08T11:52:28.297Z"
   },
   {
    "duration": 17,
    "start_time": "2021-07-08T11:52:28.319Z"
   },
   {
    "duration": 103,
    "start_time": "2025-03-05T07:10:24.693Z"
   },
   {
    "duration": 1269,
    "start_time": "2025-03-05T07:10:31.517Z"
   },
   {
    "duration": 116,
    "start_time": "2025-03-05T07:11:53.141Z"
   },
   {
    "duration": 101,
    "start_time": "2025-03-05T07:12:08.245Z"
   },
   {
    "duration": 19,
    "start_time": "2025-03-05T07:12:13.453Z"
   },
   {
    "duration": 17,
    "start_time": "2025-03-05T07:12:30.688Z"
   },
   {
    "duration": 8,
    "start_time": "2025-03-05T07:12:46.070Z"
   },
   {
    "duration": 7,
    "start_time": "2025-03-05T07:12:56.873Z"
   },
   {
    "duration": 12,
    "start_time": "2025-03-05T07:13:07.525Z"
   },
   {
    "duration": 24,
    "start_time": "2025-03-05T07:17:25.429Z"
   },
   {
    "duration": 23,
    "start_time": "2025-03-05T07:17:29.349Z"
   },
   {
    "duration": 21,
    "start_time": "2025-03-05T07:17:48.657Z"
   },
   {
    "duration": 7,
    "start_time": "2025-03-05T07:22:15.005Z"
   },
   {
    "duration": 16,
    "start_time": "2025-03-05T07:22:39.353Z"
   },
   {
    "duration": 326,
    "start_time": "2025-03-05T07:22:59.392Z"
   },
   {
    "duration": 9,
    "start_time": "2025-03-05T07:24:13.704Z"
   },
   {
    "duration": 5,
    "start_time": "2025-03-05T07:24:24.877Z"
   },
   {
    "duration": 23,
    "start_time": "2025-03-05T07:27:46.125Z"
   },
   {
    "duration": 6,
    "start_time": "2025-03-05T07:30:12.439Z"
   },
   {
    "duration": 13,
    "start_time": "2025-03-05T07:30:39.226Z"
   },
   {
    "duration": 27,
    "start_time": "2025-03-05T07:30:52.323Z"
   },
   {
    "duration": 18,
    "start_time": "2025-03-05T07:30:59.554Z"
   },
   {
    "duration": 12,
    "start_time": "2025-03-05T07:32:50.191Z"
   },
   {
    "duration": 20,
    "start_time": "2025-03-05T07:32:54.280Z"
   },
   {
    "duration": 9,
    "start_time": "2025-03-05T07:33:17.000Z"
   },
   {
    "duration": 19,
    "start_time": "2025-03-05T07:33:25.512Z"
   },
   {
    "duration": 24,
    "start_time": "2025-03-05T07:36:11.362Z"
   },
   {
    "duration": 9,
    "start_time": "2025-03-05T07:39:22.688Z"
   },
   {
    "duration": 14,
    "start_time": "2025-03-05T07:39:28.485Z"
   },
   {
    "duration": 13,
    "start_time": "2025-03-05T07:39:52.792Z"
   },
   {
    "duration": 11,
    "start_time": "2025-03-05T07:40:09.632Z"
   },
   {
    "duration": 12,
    "start_time": "2025-03-05T07:40:54.988Z"
   },
   {
    "duration": 1484,
    "start_time": "2025-03-05T07:41:30.503Z"
   },
   {
    "duration": 14,
    "start_time": "2025-03-05T07:41:42.090Z"
   },
   {
    "duration": 1159,
    "start_time": "2025-03-05T07:42:35.140Z"
   },
   {
    "duration": 113,
    "start_time": "2025-03-05T07:42:36.301Z"
   },
   {
    "duration": 17,
    "start_time": "2025-03-05T07:42:36.415Z"
   },
   {
    "duration": 197,
    "start_time": "2025-03-05T07:42:36.434Z"
   },
   {
    "duration": 22,
    "start_time": "2025-03-05T07:42:36.633Z"
   },
   {
    "duration": 45,
    "start_time": "2025-03-05T07:42:36.656Z"
   },
   {
    "duration": 39,
    "start_time": "2025-03-05T07:42:36.703Z"
   },
   {
    "duration": 26,
    "start_time": "2025-03-05T07:42:36.743Z"
   },
   {
    "duration": 59,
    "start_time": "2025-03-05T07:42:36.770Z"
   },
   {
    "duration": 17,
    "start_time": "2025-03-05T07:42:36.831Z"
   },
   {
    "duration": 4,
    "start_time": "2025-03-05T07:45:29.645Z"
   },
   {
    "duration": 15,
    "start_time": "2025-03-05T07:45:39.381Z"
   },
   {
    "duration": 13,
    "start_time": "2025-03-05T07:46:03.345Z"
   },
   {
    "duration": 14,
    "start_time": "2025-03-05T07:46:12.709Z"
   },
   {
    "duration": 94,
    "start_time": "2025-03-05T07:48:36.600Z"
   },
   {
    "duration": 7,
    "start_time": "2025-03-05T07:48:51.464Z"
   },
   {
    "duration": 24,
    "start_time": "2025-03-05T07:48:58.532Z"
   },
   {
    "duration": 21,
    "start_time": "2025-03-05T07:49:30.564Z"
   },
   {
    "duration": 354,
    "start_time": "2025-03-05T07:51:18.623Z"
   },
   {
    "duration": 13,
    "start_time": "2025-03-05T07:51:26.383Z"
   },
   {
    "duration": 17,
    "start_time": "2025-03-05T07:52:38.675Z"
   },
   {
    "duration": 10,
    "start_time": "2025-03-05T07:53:24.242Z"
   },
   {
    "duration": 1435,
    "start_time": "2025-03-05T07:59:36.133Z"
   },
   {
    "duration": 8,
    "start_time": "2025-03-05T07:59:49.957Z"
   },
   {
    "duration": 19,
    "start_time": "2025-03-05T07:59:56.668Z"
   },
   {
    "duration": 20,
    "start_time": "2025-03-05T08:01:18.068Z"
   },
   {
    "duration": 9,
    "start_time": "2025-03-05T08:05:32.019Z"
   },
   {
    "duration": 10,
    "start_time": "2025-03-05T08:05:45.678Z"
   },
   {
    "duration": 9,
    "start_time": "2025-03-05T08:05:50.775Z"
   },
   {
    "duration": 28,
    "start_time": "2025-03-05T08:05:55.755Z"
   },
   {
    "duration": 5,
    "start_time": "2025-03-05T08:09:14.396Z"
   },
   {
    "duration": 29,
    "start_time": "2025-03-05T08:09:40.191Z"
   },
   {
    "duration": 4,
    "start_time": "2025-03-05T08:11:24.977Z"
   },
   {
    "duration": 17,
    "start_time": "2025-03-05T08:11:40.851Z"
   },
   {
    "duration": 4,
    "start_time": "2025-03-05T08:14:01.619Z"
   },
   {
    "duration": 8,
    "start_time": "2025-03-05T08:15:46.795Z"
   },
   {
    "duration": 8,
    "start_time": "2025-03-05T08:15:54.779Z"
   },
   {
    "duration": 8,
    "start_time": "2025-03-05T08:16:24.912Z"
   },
   {
    "duration": 9,
    "start_time": "2025-03-05T08:16:41.780Z"
   },
   {
    "duration": 46,
    "start_time": "2025-03-05T08:16:55.437Z"
   },
   {
    "duration": 1164,
    "start_time": "2025-03-05T08:17:06.972Z"
   },
   {
    "duration": 113,
    "start_time": "2025-03-05T08:17:08.138Z"
   },
   {
    "duration": 18,
    "start_time": "2025-03-05T08:17:08.252Z"
   },
   {
    "duration": 15,
    "start_time": "2025-03-05T08:17:08.272Z"
   },
   {
    "duration": 11,
    "start_time": "2025-03-05T08:17:08.288Z"
   },
   {
    "duration": 20,
    "start_time": "2025-03-05T08:17:08.300Z"
   },
   {
    "duration": 25,
    "start_time": "2025-03-05T08:17:08.322Z"
   },
   {
    "duration": 126,
    "start_time": "2025-03-05T08:17:08.349Z"
   },
   {
    "duration": 42,
    "start_time": "2025-03-05T08:17:08.477Z"
   },
   {
    "duration": 38,
    "start_time": "2025-03-05T08:17:08.521Z"
   },
   {
    "duration": 15,
    "start_time": "2025-03-05T08:17:08.560Z"
   },
   {
    "duration": 18,
    "start_time": "2025-03-05T08:17:08.577Z"
   },
   {
    "duration": 134,
    "start_time": "2025-03-05T08:17:08.597Z"
   },
   {
    "duration": 48,
    "start_time": "2025-03-05T08:17:08.732Z"
   },
   {
    "duration": 49,
    "start_time": "2025-03-05T08:17:08.782Z"
   },
   {
    "duration": 34,
    "start_time": "2025-03-05T08:17:08.832Z"
   },
   {
    "duration": 71,
    "start_time": "2025-03-05T08:17:08.868Z"
   },
   {
    "duration": 25,
    "start_time": "2025-03-05T08:17:08.941Z"
   },
   {
    "duration": 6,
    "start_time": "2025-03-05T08:17:08.968Z"
   },
   {
    "duration": 40,
    "start_time": "2025-03-05T08:17:08.976Z"
   },
   {
    "duration": 40,
    "start_time": "2025-03-05T08:17:09.018Z"
   },
   {
    "duration": 34,
    "start_time": "2025-03-05T08:17:09.060Z"
   },
   {
    "duration": 6,
    "start_time": "2025-03-05T08:17:09.096Z"
   },
   {
    "duration": 16,
    "start_time": "2025-03-05T08:17:09.104Z"
   },
   {
    "duration": 1112,
    "start_time": "2025-03-05T08:17:40.724Z"
   },
   {
    "duration": 115,
    "start_time": "2025-03-05T08:17:41.838Z"
   },
   {
    "duration": 18,
    "start_time": "2025-03-05T08:17:41.955Z"
   },
   {
    "duration": 15,
    "start_time": "2025-03-05T08:17:41.975Z"
   },
   {
    "duration": 7,
    "start_time": "2025-03-05T08:17:41.992Z"
   },
   {
    "duration": 12,
    "start_time": "2025-03-05T08:17:42.000Z"
   },
   {
    "duration": 18,
    "start_time": "2025-03-05T08:17:42.014Z"
   },
   {
    "duration": 45,
    "start_time": "2025-03-05T08:17:42.034Z"
   },
   {
    "duration": 22,
    "start_time": "2025-03-05T08:17:42.081Z"
   },
   {
    "duration": 17,
    "start_time": "2025-03-05T08:17:42.105Z"
   },
   {
    "duration": 39,
    "start_time": "2025-03-05T08:17:42.124Z"
   },
   {
    "duration": 16,
    "start_time": "2025-03-05T08:17:42.165Z"
   },
   {
    "duration": 20,
    "start_time": "2025-03-05T08:17:42.183Z"
   },
   {
    "duration": 20,
    "start_time": "2025-03-05T08:17:42.206Z"
   },
   {
    "duration": 16,
    "start_time": "2025-03-05T08:17:42.227Z"
   },
   {
    "duration": 9,
    "start_time": "2025-03-05T08:17:42.261Z"
   },
   {
    "duration": 19,
    "start_time": "2025-03-05T08:17:42.272Z"
   },
   {
    "duration": 22,
    "start_time": "2025-03-05T08:17:42.293Z"
   },
   {
    "duration": 5,
    "start_time": "2025-03-05T08:17:42.316Z"
   },
   {
    "duration": 57,
    "start_time": "2025-03-05T08:17:42.322Z"
   },
   {
    "duration": 4,
    "start_time": "2025-03-05T08:17:42.381Z"
   },
   {
    "duration": 86,
    "start_time": "2025-03-05T08:17:42.386Z"
   },
   {
    "duration": 4,
    "start_time": "2025-03-05T08:17:42.474Z"
   },
   {
    "duration": 30,
    "start_time": "2025-03-05T08:17:42.479Z"
   },
   {
    "duration": 1557,
    "start_time": "2025-03-05T08:18:07.484Z"
   },
   {
    "duration": 21,
    "start_time": "2025-03-05T08:18:26.545Z"
   },
   {
    "duration": 23,
    "start_time": "2025-03-05T08:19:19.696Z"
   },
   {
    "duration": 1170,
    "start_time": "2025-03-05T08:19:26.651Z"
   },
   {
    "duration": 113,
    "start_time": "2025-03-05T08:19:27.822Z"
   },
   {
    "duration": 19,
    "start_time": "2025-03-05T08:19:27.936Z"
   },
   {
    "duration": 108,
    "start_time": "2025-03-05T08:19:27.957Z"
   },
   {
    "duration": 41,
    "start_time": "2025-03-05T08:19:28.067Z"
   },
   {
    "duration": 22,
    "start_time": "2025-03-05T08:19:28.110Z"
   },
   {
    "duration": 21,
    "start_time": "2025-03-05T08:19:28.134Z"
   },
   {
    "duration": 46,
    "start_time": "2025-03-05T08:19:28.157Z"
   },
   {
    "duration": 22,
    "start_time": "2025-03-05T08:19:28.205Z"
   },
   {
    "duration": 16,
    "start_time": "2025-03-05T08:19:28.230Z"
   },
   {
    "duration": 13,
    "start_time": "2025-03-05T08:19:28.248Z"
   },
   {
    "duration": 17,
    "start_time": "2025-03-05T08:19:28.263Z"
   },
   {
    "duration": 15,
    "start_time": "2025-03-05T08:19:28.281Z"
   },
   {
    "duration": 25,
    "start_time": "2025-03-05T08:19:28.298Z"
   },
   {
    "duration": 15,
    "start_time": "2025-03-05T08:19:28.325Z"
   },
   {
    "duration": 9,
    "start_time": "2025-03-05T08:19:28.342Z"
   },
   {
    "duration": 101,
    "start_time": "2025-03-05T08:19:28.362Z"
   },
   {
    "duration": 26,
    "start_time": "2025-03-05T08:19:28.465Z"
   },
   {
    "duration": 5,
    "start_time": "2025-03-05T08:19:28.492Z"
   },
   {
    "duration": 140,
    "start_time": "2025-03-05T08:19:28.499Z"
   },
   {
    "duration": 97,
    "start_time": "2025-03-05T08:19:28.641Z"
   },
   {
    "duration": 16,
    "start_time": "2025-03-05T08:19:28.739Z"
   },
   {
    "duration": 4,
    "start_time": "2025-03-05T08:19:28.756Z"
   },
   {
    "duration": 14,
    "start_time": "2025-03-05T08:19:28.762Z"
   },
   {
    "duration": 25,
    "start_time": "2025-03-05T08:21:07.439Z"
   },
   {
    "duration": 13,
    "start_time": "2025-03-05T08:21:16.994Z"
   },
   {
    "duration": 4,
    "start_time": "2025-03-05T08:22:30.351Z"
   },
   {
    "duration": 6,
    "start_time": "2025-03-05T08:23:10.484Z"
   },
   {
    "duration": 10,
    "start_time": "2025-03-05T08:24:10.035Z"
   },
   {
    "duration": 6,
    "start_time": "2025-03-05T08:28:51.918Z"
   },
   {
    "duration": 100,
    "start_time": "2025-03-05T08:29:03.414Z"
   },
   {
    "duration": 8,
    "start_time": "2025-03-05T08:29:06.445Z"
   },
   {
    "duration": 10,
    "start_time": "2025-03-05T08:32:14.309Z"
   },
   {
    "duration": 9,
    "start_time": "2025-03-05T08:32:31.394Z"
   },
   {
    "duration": 26,
    "start_time": "2025-03-05T08:32:47.345Z"
   },
   {
    "duration": 23,
    "start_time": "2025-03-05T08:32:58.631Z"
   },
   {
    "duration": 4,
    "start_time": "2025-03-05T08:34:33.110Z"
   },
   {
    "duration": 5,
    "start_time": "2025-03-05T08:34:51.608Z"
   },
   {
    "duration": 1370,
    "start_time": "2025-03-05T08:35:32.461Z"
   },
   {
    "duration": 11,
    "start_time": "2025-03-05T08:35:36.139Z"
   },
   {
    "duration": 10,
    "start_time": "2025-03-05T08:35:41.144Z"
   },
   {
    "duration": 27,
    "start_time": "2025-03-05T08:47:14.868Z"
   },
   {
    "duration": 30,
    "start_time": "2025-03-05T08:48:45.927Z"
   },
   {
    "duration": 385,
    "start_time": "2025-03-05T08:55:10.641Z"
   },
   {
    "duration": 365,
    "start_time": "2025-03-05T08:55:30.550Z"
   },
   {
    "duration": 369,
    "start_time": "2025-03-05T08:55:56.341Z"
   },
   {
    "duration": 523,
    "start_time": "2025-03-05T08:56:05.662Z"
   },
   {
    "duration": 373,
    "start_time": "2025-03-05T08:56:13.041Z"
   },
   {
    "duration": 360,
    "start_time": "2025-03-05T08:56:15.856Z"
   },
   {
    "duration": 18,
    "start_time": "2025-03-05T08:58:16.449Z"
   },
   {
    "duration": 21,
    "start_time": "2025-03-05T09:00:08.457Z"
   },
   {
    "duration": 26,
    "start_time": "2025-03-05T09:03:59.166Z"
   },
   {
    "duration": 7,
    "start_time": "2025-03-05T09:04:42.463Z"
   },
   {
    "duration": 11,
    "start_time": "2025-03-05T09:06:07.087Z"
   },
   {
    "duration": 9,
    "start_time": "2025-03-05T09:06:14.468Z"
   },
   {
    "duration": 9,
    "start_time": "2025-03-05T09:07:01.743Z"
   },
   {
    "duration": 4,
    "start_time": "2025-03-05T09:07:11.543Z"
   },
   {
    "duration": 6,
    "start_time": "2025-03-05T09:07:28.299Z"
   },
   {
    "duration": 12,
    "start_time": "2025-03-05T09:08:16.767Z"
   },
   {
    "duration": 19,
    "start_time": "2025-03-05T09:08:37.334Z"
   },
   {
    "duration": 27,
    "start_time": "2025-03-05T09:08:54.450Z"
   },
   {
    "duration": 40,
    "start_time": "2025-03-05T09:09:30.722Z"
   },
   {
    "duration": 41,
    "start_time": "2025-03-05T09:09:39.267Z"
   },
   {
    "duration": 95,
    "start_time": "2025-03-05T09:12:11.903Z"
   },
   {
    "duration": 8,
    "start_time": "2025-03-05T09:12:21.103Z"
   },
   {
    "duration": 8,
    "start_time": "2025-03-05T09:12:33.746Z"
   },
   {
    "duration": 7,
    "start_time": "2025-03-05T09:12:38.351Z"
   },
   {
    "duration": 10,
    "start_time": "2025-03-05T09:12:46.407Z"
   },
   {
    "duration": 10,
    "start_time": "2025-03-05T09:12:57.703Z"
   },
   {
    "duration": 9,
    "start_time": "2025-03-05T09:13:12.487Z"
   },
   {
    "duration": 7,
    "start_time": "2025-03-05T09:13:22.716Z"
   },
   {
    "duration": 9,
    "start_time": "2025-03-05T09:13:28.547Z"
   },
   {
    "duration": 42,
    "start_time": "2025-03-05T09:16:19.593Z"
   },
   {
    "duration": 49,
    "start_time": "2025-03-05T11:45:13.931Z"
   },
   {
    "duration": 1331,
    "start_time": "2025-03-05T11:45:21.190Z"
   },
   {
    "duration": 116,
    "start_time": "2025-03-05T11:45:22.523Z"
   },
   {
    "duration": 20,
    "start_time": "2025-03-05T11:45:22.640Z"
   },
   {
    "duration": 17,
    "start_time": "2025-03-05T11:45:22.662Z"
   },
   {
    "duration": 8,
    "start_time": "2025-03-05T11:45:22.680Z"
   },
   {
    "duration": 12,
    "start_time": "2025-03-05T11:45:22.690Z"
   },
   {
    "duration": 38,
    "start_time": "2025-03-05T11:45:22.703Z"
   },
   {
    "duration": 50,
    "start_time": "2025-03-05T11:45:22.742Z"
   },
   {
    "duration": 32,
    "start_time": "2025-03-05T11:45:22.794Z"
   },
   {
    "duration": 19,
    "start_time": "2025-03-05T11:45:22.874Z"
   },
   {
    "duration": 16,
    "start_time": "2025-03-05T11:45:22.894Z"
   },
   {
    "duration": 66,
    "start_time": "2025-03-05T11:45:22.911Z"
   },
   {
    "duration": 16,
    "start_time": "2025-03-05T11:45:22.979Z"
   },
   {
    "duration": 21,
    "start_time": "2025-03-05T11:45:22.997Z"
   },
   {
    "duration": 18,
    "start_time": "2025-03-05T11:45:23.075Z"
   },
   {
    "duration": 15,
    "start_time": "2025-03-05T11:45:23.094Z"
   },
   {
    "duration": 77,
    "start_time": "2025-03-05T11:45:23.111Z"
   },
   {
    "duration": 26,
    "start_time": "2025-03-05T11:45:23.190Z"
   },
   {
    "duration": 60,
    "start_time": "2025-03-05T11:45:23.217Z"
   },
   {
    "duration": 33,
    "start_time": "2025-03-05T11:45:23.278Z"
   },
   {
    "duration": 5,
    "start_time": "2025-03-05T11:45:23.312Z"
   },
   {
    "duration": 74,
    "start_time": "2025-03-05T11:45:23.318Z"
   },
   {
    "duration": 4,
    "start_time": "2025-03-05T11:45:23.393Z"
   },
   {
    "duration": 17,
    "start_time": "2025-03-05T11:45:23.399Z"
   },
   {
    "duration": 72,
    "start_time": "2025-03-05T11:45:23.418Z"
   },
   {
    "duration": 17,
    "start_time": "2025-03-05T11:45:23.491Z"
   },
   {
    "duration": 5,
    "start_time": "2025-03-05T11:45:23.509Z"
   },
   {
    "duration": 64,
    "start_time": "2025-03-05T11:45:23.517Z"
   },
   {
    "duration": 10,
    "start_time": "2025-03-05T11:45:23.582Z"
   },
   {
    "duration": 82,
    "start_time": "2025-03-05T11:45:23.593Z"
   },
   {
    "duration": 28,
    "start_time": "2025-03-05T11:45:23.677Z"
   },
   {
    "duration": 81,
    "start_time": "2025-03-05T11:45:23.706Z"
   },
   {
    "duration": 20,
    "start_time": "2025-03-05T11:45:23.788Z"
   },
   {
    "duration": 72,
    "start_time": "2025-03-05T11:45:23.809Z"
   },
   {
    "duration": 9,
    "start_time": "2025-03-05T11:45:23.883Z"
   },
   {
    "duration": 10,
    "start_time": "2025-03-05T11:45:23.893Z"
   },
   {
    "duration": 95,
    "start_time": "2025-03-05T11:45:23.904Z"
   },
   {
    "duration": 9,
    "start_time": "2025-03-05T11:45:24.001Z"
   },
   {
    "duration": 87,
    "start_time": "2025-03-05T11:45:24.011Z"
   },
   {
    "duration": 11,
    "start_time": "2025-03-05T11:45:24.099Z"
   },
   {
    "duration": 26,
    "start_time": "2025-03-05T11:47:31.309Z"
   },
   {
    "duration": 38,
    "start_time": "2025-03-05T11:47:47.055Z"
   },
   {
    "duration": 18,
    "start_time": "2025-03-05T11:50:44.869Z"
   },
   {
    "duration": 17,
    "start_time": "2025-03-05T11:51:02.889Z"
   },
   {
    "duration": 14,
    "start_time": "2025-03-05T11:54:49.268Z"
   },
   {
    "duration": 9,
    "start_time": "2025-03-05T11:56:18.536Z"
   },
   {
    "duration": 704,
    "start_time": "2025-03-05T11:56:55.164Z"
   },
   {
    "duration": 397,
    "start_time": "2025-03-05T11:57:04.195Z"
   },
   {
    "duration": 10,
    "start_time": "2025-03-05T11:57:17.619Z"
   },
   {
    "duration": 7,
    "start_time": "2025-03-05T11:58:55.960Z"
   },
   {
    "duration": 14,
    "start_time": "2025-03-05T11:59:03.258Z"
   },
   {
    "duration": 344,
    "start_time": "2025-03-05T12:00:54.736Z"
   },
   {
    "duration": 12,
    "start_time": "2025-03-05T12:02:15.289Z"
   },
   {
    "duration": 268,
    "start_time": "2025-03-05T12:02:24.063Z"
   },
   {
    "duration": 21,
    "start_time": "2025-03-05T12:03:11.515Z"
   },
   {
    "duration": 30,
    "start_time": "2025-03-05T12:11:46.995Z"
   },
   {
    "duration": 25,
    "start_time": "2025-03-05T12:12:08.284Z"
   },
   {
    "duration": 249,
    "start_time": "2025-03-05T12:14:01.388Z"
   },
   {
    "duration": 1568,
    "start_time": "2025-03-05T12:14:41.875Z"
   },
   {
    "duration": 242,
    "start_time": "2025-03-05T12:15:01.963Z"
   },
   {
    "duration": 14,
    "start_time": "2025-03-05T12:15:15.301Z"
   },
   {
    "duration": 286,
    "start_time": "2025-03-05T12:15:21.259Z"
   },
   {
    "duration": 253,
    "start_time": "2025-03-05T12:17:20.539Z"
   },
   {
    "duration": 8,
    "start_time": "2025-03-05T12:24:01.056Z"
   },
   {
    "duration": 23,
    "start_time": "2025-03-05T12:24:37.150Z"
   },
   {
    "duration": 33,
    "start_time": "2025-03-05T12:24:49.605Z"
   },
   {
    "duration": 24,
    "start_time": "2025-03-05T12:24:57.397Z"
   },
   {
    "duration": 11,
    "start_time": "2025-03-05T12:25:40.486Z"
   },
   {
    "duration": 25,
    "start_time": "2025-03-05T12:25:48.598Z"
   },
   {
    "duration": 23,
    "start_time": "2025-03-05T12:26:07.306Z"
   },
   {
    "duration": 21,
    "start_time": "2025-03-05T12:27:42.150Z"
   },
   {
    "duration": 105,
    "start_time": "2025-03-05T12:30:58.229Z"
   },
   {
    "duration": 20,
    "start_time": "2025-03-05T12:31:37.849Z"
   },
   {
    "duration": 205,
    "start_time": "2025-03-05T12:32:58.285Z"
   },
   {
    "duration": 325,
    "start_time": "2025-03-05T12:33:12.050Z"
   },
   {
    "duration": 30,
    "start_time": "2025-03-05T12:39:33.208Z"
   },
   {
    "duration": 12,
    "start_time": "2025-03-05T12:39:41.457Z"
   },
   {
    "duration": 16,
    "start_time": "2025-03-05T12:39:54.763Z"
   },
   {
    "duration": 232,
    "start_time": "2025-03-05T12:41:29.736Z"
   },
   {
    "duration": 1742,
    "start_time": "2025-03-05T12:42:22.019Z"
   },
   {
    "duration": 27,
    "start_time": "2025-03-05T12:42:39.082Z"
   },
   {
    "duration": 297,
    "start_time": "2025-03-05T12:43:05.939Z"
   },
   {
    "duration": 283,
    "start_time": "2025-03-05T12:43:15.559Z"
   },
   {
    "duration": 275,
    "start_time": "2025-03-05T12:43:40.551Z"
   },
   {
    "duration": 328,
    "start_time": "2025-03-05T12:49:48.476Z"
   },
   {
    "duration": 352,
    "start_time": "2025-03-05T12:50:30.272Z"
   },
   {
    "duration": 49,
    "start_time": "2025-03-05T16:10:59.292Z"
   },
   {
    "duration": 1394,
    "start_time": "2025-03-05T16:11:08.620Z"
   },
   {
    "duration": 117,
    "start_time": "2025-03-05T16:11:10.016Z"
   },
   {
    "duration": 18,
    "start_time": "2025-03-05T16:11:10.135Z"
   },
   {
    "duration": 17,
    "start_time": "2025-03-05T16:11:10.155Z"
   },
   {
    "duration": 7,
    "start_time": "2025-03-05T16:11:10.174Z"
   },
   {
    "duration": 13,
    "start_time": "2025-03-05T16:11:10.183Z"
   },
   {
    "duration": 21,
    "start_time": "2025-03-05T16:11:10.198Z"
   },
   {
    "duration": 47,
    "start_time": "2025-03-05T16:11:10.221Z"
   },
   {
    "duration": 24,
    "start_time": "2025-03-05T16:11:10.270Z"
   },
   {
    "duration": 18,
    "start_time": "2025-03-05T16:11:10.298Z"
   },
   {
    "duration": 45,
    "start_time": "2025-03-05T16:11:10.318Z"
   },
   {
    "duration": 17,
    "start_time": "2025-03-05T16:11:10.365Z"
   },
   {
    "duration": 23,
    "start_time": "2025-03-05T16:11:10.384Z"
   },
   {
    "duration": 21,
    "start_time": "2025-03-05T16:11:10.409Z"
   },
   {
    "duration": 39,
    "start_time": "2025-03-05T16:11:10.432Z"
   },
   {
    "duration": 10,
    "start_time": "2025-03-05T16:11:10.473Z"
   },
   {
    "duration": 21,
    "start_time": "2025-03-05T16:11:10.485Z"
   },
   {
    "duration": 53,
    "start_time": "2025-03-05T16:11:10.507Z"
   },
   {
    "duration": 5,
    "start_time": "2025-03-05T16:11:10.562Z"
   },
   {
    "duration": 32,
    "start_time": "2025-03-05T16:11:10.569Z"
   },
   {
    "duration": 4,
    "start_time": "2025-03-05T16:11:10.603Z"
   },
   {
    "duration": 18,
    "start_time": "2025-03-05T16:11:10.608Z"
   },
   {
    "duration": 31,
    "start_time": "2025-03-05T16:11:10.628Z"
   },
   {
    "duration": 16,
    "start_time": "2025-03-05T16:11:10.661Z"
   },
   {
    "duration": 17,
    "start_time": "2025-03-05T16:11:10.678Z"
   },
   {
    "duration": 15,
    "start_time": "2025-03-05T16:11:10.697Z"
   },
   {
    "duration": 4,
    "start_time": "2025-03-05T16:11:10.714Z"
   },
   {
    "duration": 58,
    "start_time": "2025-03-05T16:11:10.721Z"
   },
   {
    "duration": 93,
    "start_time": "2025-03-05T16:11:10.781Z"
   },
   {
    "duration": 25,
    "start_time": "2025-03-05T16:11:10.876Z"
   },
   {
    "duration": 34,
    "start_time": "2025-03-05T16:11:10.903Z"
   },
   {
    "duration": 37,
    "start_time": "2025-03-05T16:11:10.939Z"
   },
   {
    "duration": 18,
    "start_time": "2025-03-05T16:11:10.978Z"
   },
   {
    "duration": 26,
    "start_time": "2025-03-05T16:11:10.998Z"
   },
   {
    "duration": 61,
    "start_time": "2025-03-05T16:11:11.026Z"
   },
   {
    "duration": 11,
    "start_time": "2025-03-05T16:11:11.088Z"
   },
   {
    "duration": 41,
    "start_time": "2025-03-05T16:11:11.101Z"
   },
   {
    "duration": 11,
    "start_time": "2025-03-05T16:11:11.144Z"
   },
   {
    "duration": 37,
    "start_time": "2025-03-05T16:11:11.157Z"
   },
   {
    "duration": 18,
    "start_time": "2025-03-05T16:11:11.196Z"
   },
   {
    "duration": 12,
    "start_time": "2025-03-05T16:11:11.216Z"
   },
   {
    "duration": 38,
    "start_time": "2025-03-05T16:11:11.230Z"
   },
   {
    "duration": 388,
    "start_time": "2025-03-05T16:11:11.270Z"
   },
   {
    "duration": 263,
    "start_time": "2025-03-05T16:11:11.659Z"
   },
   {
    "duration": 20,
    "start_time": "2025-03-05T16:11:11.924Z"
   },
   {
    "duration": 39,
    "start_time": "2025-03-05T16:11:11.958Z"
   },
   {
    "duration": 252,
    "start_time": "2025-03-05T16:11:11.999Z"
   },
   {
    "duration": 26,
    "start_time": "2025-03-05T16:11:12.252Z"
   },
   {
    "duration": 20,
    "start_time": "2025-03-05T16:11:12.280Z"
   },
   {
    "duration": 22,
    "start_time": "2025-03-05T16:11:12.301Z"
   },
   {
    "duration": 320,
    "start_time": "2025-03-05T16:11:12.325Z"
   },
   {
    "duration": 270,
    "start_time": "2025-03-05T16:11:12.646Z"
   },
   {
    "duration": 342,
    "start_time": "2025-03-05T16:11:12.918Z"
   },
   {
    "duration": 21,
    "start_time": "2025-03-05T16:11:13.262Z"
   },
   {
    "duration": 16,
    "start_time": "2025-03-05T16:12:12.365Z"
   },
   {
    "duration": 682,
    "start_time": "2025-03-05T16:12:20.585Z"
   },
   {
    "duration": 17,
    "start_time": "2025-03-05T16:12:25.793Z"
   },
   {
    "duration": 17,
    "start_time": "2025-03-05T16:12:36.671Z"
   },
   {
    "duration": 5,
    "start_time": "2025-03-05T16:15:53.061Z"
   },
   {
    "duration": 4,
    "start_time": "2025-03-05T16:16:17.350Z"
   },
   {
    "duration": 5,
    "start_time": "2025-03-05T16:16:27.874Z"
   },
   {
    "duration": 20,
    "start_time": "2025-03-05T16:17:20.733Z"
   },
   {
    "duration": 16,
    "start_time": "2025-03-05T16:18:58.459Z"
   },
   {
    "duration": 6,
    "start_time": "2025-03-05T16:19:43.441Z"
   },
   {
    "duration": 7,
    "start_time": "2025-03-05T16:23:33.066Z"
   },
   {
    "duration": 83,
    "start_time": "2025-03-05T16:27:31.229Z"
   },
   {
    "duration": 108,
    "start_time": "2025-03-05T16:28:04.723Z"
   },
   {
    "duration": 101,
    "start_time": "2025-03-05T16:31:27.757Z"
   },
   {
    "duration": 6,
    "start_time": "2025-03-05T16:38:14.822Z"
   },
   {
    "duration": 7,
    "start_time": "2025-03-05T16:39:11.649Z"
   },
   {
    "duration": 16,
    "start_time": "2025-03-05T16:40:37.428Z"
   },
   {
    "duration": 5,
    "start_time": "2025-03-05T16:40:41.928Z"
   },
   {
    "duration": 7,
    "start_time": "2025-03-05T16:40:56.890Z"
   },
   {
    "duration": 17,
    "start_time": "2025-03-05T16:41:27.716Z"
   },
   {
    "duration": 5,
    "start_time": "2025-03-05T16:41:31.912Z"
   },
   {
    "duration": 6,
    "start_time": "2025-03-05T16:41:32.628Z"
   },
   {
    "duration": 1184,
    "start_time": "2025-03-05T16:41:54.245Z"
   },
   {
    "duration": 120,
    "start_time": "2025-03-05T16:41:55.431Z"
   },
   {
    "duration": 18,
    "start_time": "2025-03-05T16:41:55.553Z"
   },
   {
    "duration": 47,
    "start_time": "2025-03-05T16:41:55.572Z"
   },
   {
    "duration": 7,
    "start_time": "2025-03-05T16:41:55.620Z"
   },
   {
    "duration": 9,
    "start_time": "2025-03-05T16:41:55.628Z"
   },
   {
    "duration": 19,
    "start_time": "2025-03-05T16:41:55.638Z"
   },
   {
    "duration": 20,
    "start_time": "2025-03-05T16:41:55.658Z"
   },
   {
    "duration": 21,
    "start_time": "2025-03-05T16:41:55.679Z"
   },
   {
    "duration": 17,
    "start_time": "2025-03-05T16:41:55.703Z"
   },
   {
    "duration": 43,
    "start_time": "2025-03-05T16:41:55.721Z"
   },
   {
    "duration": 13,
    "start_time": "2025-03-05T16:41:55.766Z"
   },
   {
    "duration": 15,
    "start_time": "2025-03-05T16:41:55.780Z"
   },
   {
    "duration": 18,
    "start_time": "2025-03-05T16:41:55.797Z"
   },
   {
    "duration": 47,
    "start_time": "2025-03-05T16:41:55.817Z"
   },
   {
    "duration": 10,
    "start_time": "2025-03-05T16:41:55.865Z"
   },
   {
    "duration": 61,
    "start_time": "2025-03-05T16:41:55.876Z"
   },
   {
    "duration": 23,
    "start_time": "2025-03-05T16:41:55.939Z"
   },
   {
    "duration": 5,
    "start_time": "2025-03-05T16:41:55.964Z"
   },
   {
    "duration": 33,
    "start_time": "2025-03-05T16:41:55.971Z"
   },
   {
    "duration": 51,
    "start_time": "2025-03-05T16:41:56.006Z"
   },
   {
    "duration": 24,
    "start_time": "2025-03-05T16:41:56.058Z"
   },
   {
    "duration": 4,
    "start_time": "2025-03-05T16:41:56.084Z"
   },
   {
    "duration": 16,
    "start_time": "2025-03-05T16:41:56.090Z"
   },
   {
    "duration": 16,
    "start_time": "2025-03-05T16:41:56.107Z"
   },
   {
    "duration": 38,
    "start_time": "2025-03-05T16:41:56.124Z"
   },
   {
    "duration": 5,
    "start_time": "2025-03-05T16:41:56.164Z"
   },
   {
    "duration": 8,
    "start_time": "2025-03-05T16:41:56.172Z"
   },
   {
    "duration": 15,
    "start_time": "2025-03-05T16:41:56.182Z"
   },
   {
    "duration": 60,
    "start_time": "2025-03-05T16:41:56.199Z"
   },
   {
    "duration": 27,
    "start_time": "2025-03-05T16:41:56.261Z"
   },
   {
    "duration": 27,
    "start_time": "2025-03-05T16:41:56.290Z"
   },
   {
    "duration": 42,
    "start_time": "2025-03-05T16:41:56.318Z"
   },
   {
    "duration": 22,
    "start_time": "2025-03-05T16:41:56.361Z"
   },
   {
    "duration": 6,
    "start_time": "2025-03-05T16:41:56.384Z"
   },
   {
    "duration": 5,
    "start_time": "2025-03-05T16:41:56.391Z"
   },
   {
    "duration": 61,
    "start_time": "2025-03-05T16:41:56.398Z"
   },
   {
    "duration": 9,
    "start_time": "2025-03-05T16:41:56.460Z"
   },
   {
    "duration": 32,
    "start_time": "2025-03-05T16:41:56.471Z"
   },
   {
    "duration": 15,
    "start_time": "2025-03-05T16:41:56.505Z"
   },
   {
    "duration": 41,
    "start_time": "2025-03-05T16:41:56.522Z"
   },
   {
    "duration": 12,
    "start_time": "2025-03-05T16:41:56.564Z"
   },
   {
    "duration": 330,
    "start_time": "2025-03-05T16:41:56.577Z"
   },
   {
    "duration": 264,
    "start_time": "2025-03-05T16:41:56.909Z"
   },
   {
    "duration": 21,
    "start_time": "2025-03-05T16:41:57.174Z"
   },
   {
    "duration": 35,
    "start_time": "2025-03-05T16:41:57.197Z"
   },
   {
    "duration": 262,
    "start_time": "2025-03-05T16:41:57.235Z"
   },
   {
    "duration": 21,
    "start_time": "2025-03-05T16:41:57.499Z"
   },
   {
    "duration": 118,
    "start_time": "2025-03-05T16:41:57.522Z"
   },
   {
    "duration": 21,
    "start_time": "2025-03-05T16:41:57.642Z"
   },
   {
    "duration": 285,
    "start_time": "2025-03-05T16:41:57.664Z"
   },
   {
    "duration": 276,
    "start_time": "2025-03-05T16:41:57.951Z"
   },
   {
    "duration": 334,
    "start_time": "2025-03-05T16:41:58.228Z"
   },
   {
    "duration": 19,
    "start_time": "2025-03-05T16:41:58.564Z"
   },
   {
    "duration": 6,
    "start_time": "2025-03-05T16:41:58.584Z"
   },
   {
    "duration": 7,
    "start_time": "2025-03-05T16:41:58.591Z"
   },
   {
    "duration": 18,
    "start_time": "2025-03-05T16:41:58.599Z"
   },
   {
    "duration": 103,
    "start_time": "2025-03-05T16:44:27.581Z"
   },
   {
    "duration": 389,
    "start_time": "2025-03-05T16:44:37.237Z"
   },
   {
    "duration": 387,
    "start_time": "2025-03-05T16:45:04.486Z"
   },
   {
    "duration": 379,
    "start_time": "2025-03-05T16:45:12.881Z"
   },
   {
    "duration": 4,
    "start_time": "2025-03-05T16:47:03.483Z"
   },
   {
    "duration": 6,
    "start_time": "2025-03-05T16:47:07.120Z"
   },
   {
    "duration": 15,
    "start_time": "2025-03-05T16:47:17.756Z"
   },
   {
    "duration": 5,
    "start_time": "2025-03-05T16:47:19.525Z"
   },
   {
    "duration": 6,
    "start_time": "2025-03-05T16:48:00.488Z"
   },
   {
    "duration": 16,
    "start_time": "2025-03-05T16:48:04.740Z"
   },
   {
    "duration": 8,
    "start_time": "2025-03-05T16:48:22.295Z"
   },
   {
    "duration": 8,
    "start_time": "2025-03-05T16:48:32.684Z"
   },
   {
    "duration": 4,
    "start_time": "2025-03-05T16:48:41.764Z"
   },
   {
    "duration": 1182,
    "start_time": "2025-03-05T16:48:46.938Z"
   },
   {
    "duration": 124,
    "start_time": "2025-03-05T16:48:48.122Z"
   },
   {
    "duration": 18,
    "start_time": "2025-03-05T16:48:48.248Z"
   },
   {
    "duration": 16,
    "start_time": "2025-03-05T16:48:48.268Z"
   },
   {
    "duration": 6,
    "start_time": "2025-03-05T16:48:48.286Z"
   },
   {
    "duration": 9,
    "start_time": "2025-03-05T16:48:48.294Z"
   },
   {
    "duration": 19,
    "start_time": "2025-03-05T16:48:48.305Z"
   },
   {
    "duration": 45,
    "start_time": "2025-03-05T16:48:48.326Z"
   },
   {
    "duration": 22,
    "start_time": "2025-03-05T16:48:48.373Z"
   },
   {
    "duration": 17,
    "start_time": "2025-03-05T16:48:48.398Z"
   },
   {
    "duration": 42,
    "start_time": "2025-03-05T16:48:48.417Z"
   },
   {
    "duration": 14,
    "start_time": "2025-03-05T16:48:48.461Z"
   },
   {
    "duration": 15,
    "start_time": "2025-03-05T16:48:48.476Z"
   },
   {
    "duration": 20,
    "start_time": "2025-03-05T16:48:48.492Z"
   },
   {
    "duration": 16,
    "start_time": "2025-03-05T16:48:48.513Z"
   },
   {
    "duration": 36,
    "start_time": "2025-03-05T16:48:48.531Z"
   },
   {
    "duration": 22,
    "start_time": "2025-03-05T16:48:48.569Z"
   },
   {
    "duration": 24,
    "start_time": "2025-03-05T16:48:48.593Z"
   },
   {
    "duration": 39,
    "start_time": "2025-03-05T16:48:48.619Z"
   },
   {
    "duration": 27,
    "start_time": "2025-03-05T16:48:48.660Z"
   },
   {
    "duration": 4,
    "start_time": "2025-03-05T16:48:48.689Z"
   },
   {
    "duration": 17,
    "start_time": "2025-03-05T16:48:48.695Z"
   },
   {
    "duration": 5,
    "start_time": "2025-03-05T16:48:48.713Z"
   },
   {
    "duration": 49,
    "start_time": "2025-03-05T16:48:48.719Z"
   },
   {
    "duration": 15,
    "start_time": "2025-03-05T16:48:48.770Z"
   },
   {
    "duration": 14,
    "start_time": "2025-03-05T16:48:48.787Z"
   },
   {
    "duration": 5,
    "start_time": "2025-03-05T16:48:48.802Z"
   },
   {
    "duration": 7,
    "start_time": "2025-03-05T16:48:48.811Z"
   },
   {
    "duration": 41,
    "start_time": "2025-03-05T16:48:48.820Z"
   },
   {
    "duration": 70,
    "start_time": "2025-03-05T16:48:48.863Z"
   },
   {
    "duration": 107,
    "start_time": "2025-03-05T16:48:48.935Z"
   },
   {
    "duration": 26,
    "start_time": "2025-03-05T16:48:49.043Z"
   },
   {
    "duration": 18,
    "start_time": "2025-03-05T16:48:49.070Z"
   },
   {
    "duration": 20,
    "start_time": "2025-03-05T16:48:49.090Z"
   },
   {
    "duration": 6,
    "start_time": "2025-03-05T16:48:49.111Z"
   },
   {
    "duration": 15,
    "start_time": "2025-03-05T16:48:49.118Z"
   },
   {
    "duration": 124,
    "start_time": "2025-03-05T16:48:49.134Z"
   },
   {
    "duration": 9,
    "start_time": "2025-03-05T16:48:49.259Z"
   },
   {
    "duration": 40,
    "start_time": "2025-03-05T16:48:49.269Z"
   },
   {
    "duration": 15,
    "start_time": "2025-03-05T16:48:49.311Z"
   },
   {
    "duration": 12,
    "start_time": "2025-03-05T16:48:49.328Z"
   },
   {
    "duration": 12,
    "start_time": "2025-03-05T16:48:49.358Z"
   },
   {
    "duration": 324,
    "start_time": "2025-03-05T16:48:49.372Z"
   },
   {
    "duration": 266,
    "start_time": "2025-03-05T16:48:49.697Z"
   },
   {
    "duration": 21,
    "start_time": "2025-03-05T16:48:49.964Z"
   },
   {
    "duration": 32,
    "start_time": "2025-03-05T16:48:49.987Z"
   },
   {
    "duration": 264,
    "start_time": "2025-03-05T16:48:50.021Z"
   },
   {
    "duration": 22,
    "start_time": "2025-03-05T16:48:50.286Z"
   },
   {
    "duration": 20,
    "start_time": "2025-03-05T16:48:50.309Z"
   },
   {
    "duration": 41,
    "start_time": "2025-03-05T16:48:50.330Z"
   },
   {
    "duration": 285,
    "start_time": "2025-03-05T16:48:50.373Z"
   },
   {
    "duration": 265,
    "start_time": "2025-03-05T16:48:50.659Z"
   },
   {
    "duration": 324,
    "start_time": "2025-03-05T16:48:50.926Z"
   },
   {
    "duration": 16,
    "start_time": "2025-03-05T16:48:51.258Z"
   },
   {
    "duration": 5,
    "start_time": "2025-03-05T16:48:51.276Z"
   },
   {
    "duration": 12,
    "start_time": "2025-03-05T16:48:51.282Z"
   },
   {
    "duration": 26,
    "start_time": "2025-03-05T16:48:51.296Z"
   },
   {
    "duration": 14,
    "start_time": "2025-03-05T16:49:00.639Z"
   },
   {
    "duration": 7,
    "start_time": "2025-03-05T16:49:12.350Z"
   },
   {
    "duration": 6,
    "start_time": "2025-03-05T16:49:14.754Z"
   },
   {
    "duration": 16,
    "start_time": "2025-03-05T16:49:15.302Z"
   },
   {
    "duration": 7,
    "start_time": "2025-03-05T16:50:00.083Z"
   },
   {
    "duration": 15,
    "start_time": "2025-03-05T16:50:01.634Z"
   },
   {
    "duration": 8,
    "start_time": "2025-03-05T16:50:14.992Z"
   },
   {
    "duration": 14,
    "start_time": "2025-03-05T16:50:15.690Z"
   },
   {
    "duration": 1206,
    "start_time": "2025-03-05T16:50:24.128Z"
   },
   {
    "duration": 112,
    "start_time": "2025-03-05T16:50:25.336Z"
   },
   {
    "duration": 18,
    "start_time": "2025-03-05T16:50:25.450Z"
   },
   {
    "duration": 15,
    "start_time": "2025-03-05T16:50:25.470Z"
   },
   {
    "duration": 8,
    "start_time": "2025-03-05T16:50:25.486Z"
   },
   {
    "duration": 9,
    "start_time": "2025-03-05T16:50:25.495Z"
   },
   {
    "duration": 19,
    "start_time": "2025-03-05T16:50:25.506Z"
   },
   {
    "duration": 50,
    "start_time": "2025-03-05T16:50:25.526Z"
   },
   {
    "duration": 77,
    "start_time": "2025-03-05T16:50:25.577Z"
   },
   {
    "duration": 17,
    "start_time": "2025-03-05T16:50:25.657Z"
   },
   {
    "duration": 14,
    "start_time": "2025-03-05T16:50:25.676Z"
   },
   {
    "duration": 13,
    "start_time": "2025-03-05T16:50:25.691Z"
   },
   {
    "duration": 15,
    "start_time": "2025-03-05T16:50:25.706Z"
   },
   {
    "duration": 47,
    "start_time": "2025-03-05T16:50:25.722Z"
   },
   {
    "duration": 16,
    "start_time": "2025-03-05T16:50:25.771Z"
   },
   {
    "duration": 10,
    "start_time": "2025-03-05T16:50:25.788Z"
   },
   {
    "duration": 19,
    "start_time": "2025-03-05T16:50:25.799Z"
   },
   {
    "duration": 56,
    "start_time": "2025-03-05T16:50:25.820Z"
   },
   {
    "duration": 5,
    "start_time": "2025-03-05T16:50:25.878Z"
   },
   {
    "duration": 100,
    "start_time": "2025-03-05T16:50:25.885Z"
   },
   {
    "duration": 5,
    "start_time": "2025-03-05T16:50:25.986Z"
   },
   {
    "duration": 17,
    "start_time": "2025-03-05T16:50:25.992Z"
   },
   {
    "duration": 4,
    "start_time": "2025-03-05T16:50:26.011Z"
   },
   {
    "duration": 93,
    "start_time": "2025-03-05T16:50:26.016Z"
   },
   {
    "duration": 18,
    "start_time": "2025-03-05T16:50:26.110Z"
   },
   {
    "duration": 19,
    "start_time": "2025-03-05T16:50:26.131Z"
   },
   {
    "duration": 4,
    "start_time": "2025-03-05T16:50:26.152Z"
   },
   {
    "duration": 8,
    "start_time": "2025-03-05T16:50:26.160Z"
   },
   {
    "duration": 9,
    "start_time": "2025-03-05T16:50:26.170Z"
   },
   {
    "duration": 26,
    "start_time": "2025-03-05T16:50:26.181Z"
   },
   {
    "duration": 66,
    "start_time": "2025-03-05T16:50:26.209Z"
   },
   {
    "duration": 27,
    "start_time": "2025-03-05T16:50:26.276Z"
   },
   {
    "duration": 19,
    "start_time": "2025-03-05T16:50:26.305Z"
   },
   {
    "duration": 46,
    "start_time": "2025-03-05T16:50:26.326Z"
   },
   {
    "duration": 7,
    "start_time": "2025-03-05T16:50:26.374Z"
   },
   {
    "duration": 6,
    "start_time": "2025-03-05T16:50:26.383Z"
   },
   {
    "duration": 38,
    "start_time": "2025-03-05T16:50:26.391Z"
   },
   {
    "duration": 9,
    "start_time": "2025-03-05T16:50:26.457Z"
   },
   {
    "duration": 35,
    "start_time": "2025-03-05T16:50:26.467Z"
   },
   {
    "duration": 16,
    "start_time": "2025-03-05T16:50:26.504Z"
   },
   {
    "duration": 11,
    "start_time": "2025-03-05T16:50:26.521Z"
   },
   {
    "duration": 11,
    "start_time": "2025-03-05T16:50:26.558Z"
   },
   {
    "duration": 317,
    "start_time": "2025-03-05T16:50:26.571Z"
   },
   {
    "duration": 255,
    "start_time": "2025-03-05T16:50:26.889Z"
   },
   {
    "duration": 28,
    "start_time": "2025-03-05T16:50:27.146Z"
   },
   {
    "duration": 91,
    "start_time": "2025-03-05T16:50:27.176Z"
   },
   {
    "duration": 247,
    "start_time": "2025-03-05T16:50:27.269Z"
   },
   {
    "duration": 22,
    "start_time": "2025-03-05T16:50:27.518Z"
   },
   {
    "duration": 107,
    "start_time": "2025-03-05T16:50:27.557Z"
   },
   {
    "duration": 20,
    "start_time": "2025-03-05T16:50:27.666Z"
   },
   {
    "duration": 288,
    "start_time": "2025-03-05T16:50:27.688Z"
   },
   {
    "duration": 280,
    "start_time": "2025-03-05T16:50:27.978Z"
   },
   {
    "duration": 325,
    "start_time": "2025-03-05T16:50:28.259Z"
   },
   {
    "duration": 17,
    "start_time": "2025-03-05T16:50:28.586Z"
   },
   {
    "duration": 11,
    "start_time": "2025-03-05T16:50:28.605Z"
   },
   {
    "duration": 8,
    "start_time": "2025-03-05T16:50:28.618Z"
   },
   {
    "duration": 34,
    "start_time": "2025-03-05T16:50:28.627Z"
   },
   {
    "duration": 106,
    "start_time": "2025-03-05T16:50:51.264Z"
   },
   {
    "duration": 15,
    "start_time": "2025-03-05T16:51:10.452Z"
   },
   {
    "duration": 5,
    "start_time": "2025-03-05T16:53:44.094Z"
   },
   {
    "duration": 1208,
    "start_time": "2025-03-05T16:53:53.488Z"
   },
   {
    "duration": 123,
    "start_time": "2025-03-05T16:53:54.699Z"
   },
   {
    "duration": 20,
    "start_time": "2025-03-05T16:53:54.824Z"
   },
   {
    "duration": 17,
    "start_time": "2025-03-05T16:53:54.846Z"
   },
   {
    "duration": 15,
    "start_time": "2025-03-05T16:53:54.865Z"
   },
   {
    "duration": 61,
    "start_time": "2025-03-05T16:53:54.882Z"
   },
   {
    "duration": 92,
    "start_time": "2025-03-05T16:53:54.944Z"
   },
   {
    "duration": 19,
    "start_time": "2025-03-05T16:53:55.038Z"
   },
   {
    "duration": 29,
    "start_time": "2025-03-05T16:53:55.059Z"
   },
   {
    "duration": 19,
    "start_time": "2025-03-05T16:53:55.090Z"
   },
   {
    "duration": 15,
    "start_time": "2025-03-05T16:53:55.111Z"
   },
   {
    "duration": 51,
    "start_time": "2025-03-05T16:53:55.128Z"
   },
   {
    "duration": 67,
    "start_time": "2025-03-05T16:53:55.182Z"
   },
   {
    "duration": 20,
    "start_time": "2025-03-05T16:53:55.251Z"
   },
   {
    "duration": 17,
    "start_time": "2025-03-05T16:53:55.272Z"
   },
   {
    "duration": 30,
    "start_time": "2025-03-05T16:53:55.291Z"
   },
   {
    "duration": 20,
    "start_time": "2025-03-05T16:53:55.323Z"
   },
   {
    "duration": 28,
    "start_time": "2025-03-05T16:53:55.344Z"
   },
   {
    "duration": 6,
    "start_time": "2025-03-05T16:53:55.373Z"
   },
   {
    "duration": 29,
    "start_time": "2025-03-05T16:53:55.381Z"
   },
   {
    "duration": 6,
    "start_time": "2025-03-05T16:53:55.412Z"
   },
   {
    "duration": 58,
    "start_time": "2025-03-05T16:53:55.420Z"
   },
   {
    "duration": 5,
    "start_time": "2025-03-05T16:53:55.480Z"
   },
   {
    "duration": 17,
    "start_time": "2025-03-05T16:53:55.486Z"
   },
   {
    "duration": 16,
    "start_time": "2025-03-05T16:53:55.505Z"
   },
   {
    "duration": 39,
    "start_time": "2025-03-05T16:53:55.522Z"
   },
   {
    "duration": 52,
    "start_time": "2025-03-05T16:53:55.563Z"
   },
   {
    "duration": 66,
    "start_time": "2025-03-05T16:53:55.619Z"
   },
   {
    "duration": 16,
    "start_time": "2025-03-05T16:53:55.686Z"
   },
   {
    "duration": 25,
    "start_time": "2025-03-05T16:53:55.703Z"
   },
   {
    "duration": 29,
    "start_time": "2025-03-05T16:53:55.729Z"
   },
   {
    "duration": 27,
    "start_time": "2025-03-05T16:53:55.760Z"
   },
   {
    "duration": 20,
    "start_time": "2025-03-05T16:53:55.788Z"
   },
   {
    "duration": 22,
    "start_time": "2025-03-05T16:53:55.809Z"
   },
   {
    "duration": 7,
    "start_time": "2025-03-05T16:53:55.857Z"
   },
   {
    "duration": 6,
    "start_time": "2025-03-05T16:53:55.866Z"
   },
   {
    "duration": 41,
    "start_time": "2025-03-05T16:53:55.873Z"
   },
   {
    "duration": 51,
    "start_time": "2025-03-05T16:53:55.915Z"
   },
   {
    "duration": 39,
    "start_time": "2025-03-05T16:53:55.968Z"
   },
   {
    "duration": 19,
    "start_time": "2025-03-05T16:53:56.009Z"
   },
   {
    "duration": 79,
    "start_time": "2025-03-05T16:53:56.030Z"
   },
   {
    "duration": 11,
    "start_time": "2025-03-05T16:53:56.110Z"
   },
   {
    "duration": 319,
    "start_time": "2025-03-05T16:53:56.123Z"
   },
   {
    "duration": 268,
    "start_time": "2025-03-05T16:53:56.444Z"
   },
   {
    "duration": 21,
    "start_time": "2025-03-05T16:53:56.714Z"
   },
   {
    "duration": 37,
    "start_time": "2025-03-05T16:53:56.736Z"
   },
   {
    "duration": 264,
    "start_time": "2025-03-05T16:53:56.774Z"
   },
   {
    "duration": 29,
    "start_time": "2025-03-05T16:53:57.040Z"
   },
   {
    "duration": 20,
    "start_time": "2025-03-05T16:53:57.071Z"
   },
   {
    "duration": 23,
    "start_time": "2025-03-05T16:53:57.093Z"
   },
   {
    "duration": 306,
    "start_time": "2025-03-05T16:53:57.117Z"
   },
   {
    "duration": 277,
    "start_time": "2025-03-05T16:53:57.424Z"
   },
   {
    "duration": 343,
    "start_time": "2025-03-05T16:53:57.703Z"
   },
   {
    "duration": 21,
    "start_time": "2025-03-05T16:53:58.047Z"
   },
   {
    "duration": 37,
    "start_time": "2025-03-05T16:53:58.069Z"
   },
   {
    "duration": 18,
    "start_time": "2025-03-05T16:59:15.750Z"
   },
   {
    "duration": 16,
    "start_time": "2025-03-05T17:01:56.884Z"
   },
   {
    "duration": 1504,
    "start_time": "2025-03-05T17:06:22.852Z"
   },
   {
    "duration": 5,
    "start_time": "2025-03-05T17:06:33.252Z"
   },
   {
    "duration": 7,
    "start_time": "2025-03-05T17:07:06.350Z"
   },
   {
    "duration": 7,
    "start_time": "2025-03-05T17:07:37.516Z"
   },
   {
    "duration": 10,
    "start_time": "2025-03-05T17:11:31.522Z"
   },
   {
    "duration": 14,
    "start_time": "2025-03-05T17:13:40.505Z"
   },
   {
    "duration": 11,
    "start_time": "2025-03-05T17:14:02.787Z"
   },
   {
    "duration": 324,
    "start_time": "2025-03-05T17:14:47.378Z"
   },
   {
    "duration": 6,
    "start_time": "2025-03-05T17:15:29.070Z"
   },
   {
    "duration": 12,
    "start_time": "2025-03-05T17:15:35.901Z"
   },
   {
    "duration": 1315,
    "start_time": "2025-03-05T17:16:27.430Z"
   },
   {
    "duration": 228,
    "start_time": "2025-03-05T17:16:41.280Z"
   },
   {
    "duration": 235,
    "start_time": "2025-03-05T17:16:55.895Z"
   },
   {
    "duration": 226,
    "start_time": "2025-03-05T17:17:00.591Z"
   },
   {
    "duration": 269,
    "start_time": "2025-03-05T17:19:39.942Z"
   },
   {
    "duration": 10,
    "start_time": "2025-03-05T17:19:53.594Z"
   },
   {
    "duration": 1363,
    "start_time": "2025-03-05T17:20:09.934Z"
   },
   {
    "duration": 269,
    "start_time": "2025-03-05T17:20:19.173Z"
   },
   {
    "duration": 1347,
    "start_time": "2025-03-05T17:26:08.581Z"
   },
   {
    "duration": 1499,
    "start_time": "2025-03-05T17:26:24.816Z"
   },
   {
    "duration": 1195,
    "start_time": "2025-03-05T17:26:52.428Z"
   },
   {
    "duration": 126,
    "start_time": "2025-03-05T17:26:53.625Z"
   },
   {
    "duration": 20,
    "start_time": "2025-03-05T17:26:53.752Z"
   },
   {
    "duration": 26,
    "start_time": "2025-03-05T17:26:53.774Z"
   },
   {
    "duration": 8,
    "start_time": "2025-03-05T17:26:53.801Z"
   },
   {
    "duration": 10,
    "start_time": "2025-03-05T17:26:53.811Z"
   },
   {
    "duration": 42,
    "start_time": "2025-03-05T17:26:53.823Z"
   },
   {
    "duration": 21,
    "start_time": "2025-03-05T17:26:53.867Z"
   },
   {
    "duration": 25,
    "start_time": "2025-03-05T17:26:53.889Z"
   },
   {
    "duration": 18,
    "start_time": "2025-03-05T17:26:53.916Z"
   },
   {
    "duration": 37,
    "start_time": "2025-03-05T17:26:53.935Z"
   },
   {
    "duration": 15,
    "start_time": "2025-03-05T17:26:53.974Z"
   },
   {
    "duration": 16,
    "start_time": "2025-03-05T17:26:53.990Z"
   },
   {
    "duration": 51,
    "start_time": "2025-03-05T17:26:54.007Z"
   },
   {
    "duration": 18,
    "start_time": "2025-03-05T17:26:54.060Z"
   },
   {
    "duration": 9,
    "start_time": "2025-03-05T17:26:54.079Z"
   },
   {
    "duration": 20,
    "start_time": "2025-03-05T17:26:54.090Z"
   },
   {
    "duration": 52,
    "start_time": "2025-03-05T17:26:54.112Z"
   },
   {
    "duration": 5,
    "start_time": "2025-03-05T17:26:54.166Z"
   },
   {
    "duration": 29,
    "start_time": "2025-03-05T17:26:54.173Z"
   },
   {
    "duration": 4,
    "start_time": "2025-03-05T17:26:54.204Z"
   },
   {
    "duration": 18,
    "start_time": "2025-03-05T17:26:54.209Z"
   },
   {
    "duration": 31,
    "start_time": "2025-03-05T17:26:54.228Z"
   },
   {
    "duration": 16,
    "start_time": "2025-03-05T17:26:54.260Z"
   },
   {
    "duration": 16,
    "start_time": "2025-03-05T17:26:54.278Z"
   },
   {
    "duration": 16,
    "start_time": "2025-03-05T17:26:54.295Z"
   },
   {
    "duration": 4,
    "start_time": "2025-03-05T17:26:54.313Z"
   },
   {
    "duration": 43,
    "start_time": "2025-03-05T17:26:54.320Z"
   },
   {
    "duration": 8,
    "start_time": "2025-03-05T17:26:54.365Z"
   },
   {
    "duration": 24,
    "start_time": "2025-03-05T17:26:54.375Z"
   },
   {
    "duration": 28,
    "start_time": "2025-03-05T17:26:54.401Z"
   },
   {
    "duration": 29,
    "start_time": "2025-03-05T17:26:54.457Z"
   },
   {
    "duration": 18,
    "start_time": "2025-03-05T17:26:54.487Z"
   },
   {
    "duration": 21,
    "start_time": "2025-03-05T17:26:54.507Z"
   },
   {
    "duration": 32,
    "start_time": "2025-03-05T17:26:54.530Z"
   },
   {
    "duration": 41,
    "start_time": "2025-03-05T17:26:54.564Z"
   },
   {
    "duration": 40,
    "start_time": "2025-03-05T17:26:54.607Z"
   },
   {
    "duration": 8,
    "start_time": "2025-03-05T17:26:54.649Z"
   },
   {
    "duration": 34,
    "start_time": "2025-03-05T17:26:54.659Z"
   },
   {
    "duration": 19,
    "start_time": "2025-03-05T17:26:54.695Z"
   },
   {
    "duration": 11,
    "start_time": "2025-03-05T17:26:54.716Z"
   },
   {
    "duration": 31,
    "start_time": "2025-03-05T17:26:54.729Z"
   },
   {
    "duration": 402,
    "start_time": "2025-03-05T17:26:54.762Z"
   },
   {
    "duration": 275,
    "start_time": "2025-03-05T17:26:55.171Z"
   },
   {
    "duration": 23,
    "start_time": "2025-03-05T17:26:55.448Z"
   },
   {
    "duration": 25,
    "start_time": "2025-03-05T17:26:55.473Z"
   },
   {
    "duration": 269,
    "start_time": "2025-03-05T17:26:55.500Z"
   },
   {
    "duration": 20,
    "start_time": "2025-03-05T17:26:55.771Z"
   },
   {
    "duration": 20,
    "start_time": "2025-03-05T17:26:55.793Z"
   },
   {
    "duration": 18,
    "start_time": "2025-03-05T17:26:55.815Z"
   },
   {
    "duration": 284,
    "start_time": "2025-03-05T17:26:55.858Z"
   },
   {
    "duration": 277,
    "start_time": "2025-03-05T17:26:56.143Z"
   },
   {
    "duration": 338,
    "start_time": "2025-03-05T17:26:56.422Z"
   },
   {
    "duration": 17,
    "start_time": "2025-03-05T17:26:56.762Z"
   },
   {
    "duration": 7,
    "start_time": "2025-03-05T17:26:56.781Z"
   },
   {
    "duration": 18,
    "start_time": "2025-03-05T17:26:56.790Z"
   },
   {
    "duration": 16,
    "start_time": "2025-03-05T17:26:56.810Z"
   },
   {
    "duration": 330,
    "start_time": "2025-03-05T17:26:56.828Z"
   },
   {
    "duration": 274,
    "start_time": "2025-03-05T17:26:57.160Z"
   },
   {
    "duration": 1675,
    "start_time": "2025-03-05T17:26:57.436Z"
   },
   {
    "duration": 1357,
    "start_time": "2025-03-05T17:27:32.663Z"
   },
   {
    "duration": 19,
    "start_time": "2025-03-05T17:27:42.827Z"
   },
   {
    "duration": 77,
    "start_time": "2025-03-05T17:27:56.118Z"
   },
   {
    "duration": 9,
    "start_time": "2025-03-05T17:28:02.587Z"
   },
   {
    "duration": 150,
    "start_time": "2025-03-05T17:29:04.556Z"
   },
   {
    "duration": 140,
    "start_time": "2025-03-05T17:29:18.031Z"
   },
   {
    "duration": 5063,
    "start_time": "2025-03-05T17:29:36.618Z"
   },
   {
    "duration": 142,
    "start_time": "2025-03-05T17:30:17.892Z"
   },
   {
    "duration": 10,
    "start_time": "2025-03-05T17:31:39.756Z"
   },
   {
    "duration": 9,
    "start_time": "2025-03-05T17:32:49.341Z"
   },
   {
    "duration": 146,
    "start_time": "2025-03-05T17:35:23.955Z"
   },
   {
    "duration": 11,
    "start_time": "2025-03-05T17:37:35.131Z"
   },
   {
    "duration": 9828,
    "start_time": "2025-03-05T17:38:03.702Z"
   },
   {
    "duration": 395,
    "start_time": "2025-03-05T17:38:45.663Z"
   },
   {
    "duration": 224,
    "start_time": "2025-03-05T17:39:51.577Z"
   },
   {
    "duration": 340,
    "start_time": "2025-03-05T17:40:30.026Z"
   },
   {
    "duration": 1438,
    "start_time": "2025-03-05T17:41:43.978Z"
   },
   {
    "duration": 1349,
    "start_time": "2025-03-05T17:42:33.858Z"
   },
   {
    "duration": 258,
    "start_time": "2025-03-05T17:42:38.182Z"
   },
   {
    "duration": 5,
    "start_time": "2025-03-05T17:50:07.596Z"
   },
   {
    "duration": 7,
    "start_time": "2025-03-05T17:50:58.625Z"
   },
   {
    "duration": 41,
    "start_time": "2025-03-05T17:51:40.880Z"
   },
   {
    "duration": 30,
    "start_time": "2025-03-05T17:51:49.811Z"
   },
   {
    "duration": 26,
    "start_time": "2025-03-05T17:51:59.567Z"
   },
   {
    "duration": 27,
    "start_time": "2025-03-05T17:52:11.927Z"
   },
   {
    "duration": 1473,
    "start_time": "2025-03-06T07:33:31.517Z"
   },
   {
    "duration": 124,
    "start_time": "2025-03-06T07:33:32.993Z"
   },
   {
    "duration": 19,
    "start_time": "2025-03-06T07:33:33.119Z"
   },
   {
    "duration": 16,
    "start_time": "2025-03-06T07:33:33.140Z"
   },
   {
    "duration": 7,
    "start_time": "2025-03-06T07:33:33.158Z"
   },
   {
    "duration": 10,
    "start_time": "2025-03-06T07:33:33.167Z"
   },
   {
    "duration": 20,
    "start_time": "2025-03-06T07:33:33.179Z"
   },
   {
    "duration": 21,
    "start_time": "2025-03-06T07:33:33.200Z"
   },
   {
    "duration": 53,
    "start_time": "2025-03-06T07:33:33.223Z"
   },
   {
    "duration": 18,
    "start_time": "2025-03-06T07:33:33.278Z"
   },
   {
    "duration": 65,
    "start_time": "2025-03-06T07:33:33.298Z"
   },
   {
    "duration": 14,
    "start_time": "2025-03-06T07:33:33.366Z"
   },
   {
    "duration": 22,
    "start_time": "2025-03-06T07:33:33.382Z"
   },
   {
    "duration": 21,
    "start_time": "2025-03-06T07:33:33.408Z"
   },
   {
    "duration": 32,
    "start_time": "2025-03-06T07:33:33.431Z"
   },
   {
    "duration": 59,
    "start_time": "2025-03-06T07:33:33.465Z"
   },
   {
    "duration": 19,
    "start_time": "2025-03-06T07:33:33.526Z"
   },
   {
    "duration": 25,
    "start_time": "2025-03-06T07:33:33.547Z"
   },
   {
    "duration": 6,
    "start_time": "2025-03-06T07:33:33.574Z"
   },
   {
    "duration": 55,
    "start_time": "2025-03-06T07:33:33.583Z"
   },
   {
    "duration": 4,
    "start_time": "2025-03-06T07:33:33.640Z"
   },
   {
    "duration": 30,
    "start_time": "2025-03-06T07:33:33.646Z"
   },
   {
    "duration": 19,
    "start_time": "2025-03-06T07:33:33.678Z"
   },
   {
    "duration": 16,
    "start_time": "2025-03-06T07:33:33.699Z"
   },
   {
    "duration": 23,
    "start_time": "2025-03-06T07:33:33.717Z"
   },
   {
    "duration": 19,
    "start_time": "2025-03-06T07:33:33.757Z"
   },
   {
    "duration": 16,
    "start_time": "2025-03-06T07:33:33.779Z"
   },
   {
    "duration": 10,
    "start_time": "2025-03-06T07:33:33.797Z"
   },
   {
    "duration": 27,
    "start_time": "2025-03-06T07:33:33.809Z"
   },
   {
    "duration": 35,
    "start_time": "2025-03-06T07:33:33.838Z"
   },
   {
    "duration": 29,
    "start_time": "2025-03-06T07:33:33.875Z"
   },
   {
    "duration": 29,
    "start_time": "2025-03-06T07:33:33.905Z"
   },
   {
    "duration": 40,
    "start_time": "2025-03-06T07:33:33.936Z"
   },
   {
    "duration": 25,
    "start_time": "2025-03-06T07:33:33.978Z"
   },
   {
    "duration": 8,
    "start_time": "2025-03-06T07:33:34.005Z"
   },
   {
    "duration": 23,
    "start_time": "2025-03-06T07:33:34.015Z"
   },
   {
    "duration": 55,
    "start_time": "2025-03-06T07:33:34.040Z"
   },
   {
    "duration": 62,
    "start_time": "2025-03-06T07:33:34.097Z"
   },
   {
    "duration": 46,
    "start_time": "2025-03-06T07:33:34.161Z"
   },
   {
    "duration": 18,
    "start_time": "2025-03-06T07:33:34.209Z"
   },
   {
    "duration": 27,
    "start_time": "2025-03-06T07:33:34.232Z"
   },
   {
    "duration": 13,
    "start_time": "2025-03-06T07:33:34.261Z"
   },
   {
    "duration": 349,
    "start_time": "2025-03-06T07:33:34.275Z"
   },
   {
    "duration": 282,
    "start_time": "2025-03-06T07:33:34.626Z"
   },
   {
    "duration": 21,
    "start_time": "2025-03-06T07:33:34.910Z"
   },
   {
    "duration": 66,
    "start_time": "2025-03-06T07:33:34.932Z"
   },
   {
    "duration": 310,
    "start_time": "2025-03-06T07:33:35.000Z"
   },
   {
    "duration": 23,
    "start_time": "2025-03-06T07:33:35.311Z"
   },
   {
    "duration": 41,
    "start_time": "2025-03-06T07:33:35.336Z"
   },
   {
    "duration": 23,
    "start_time": "2025-03-06T07:33:35.379Z"
   },
   {
    "duration": 329,
    "start_time": "2025-03-06T07:33:35.404Z"
   },
   {
    "duration": 305,
    "start_time": "2025-03-06T07:33:35.734Z"
   },
   {
    "duration": 377,
    "start_time": "2025-03-06T07:33:36.041Z"
   },
   {
    "duration": 25,
    "start_time": "2025-03-06T07:33:36.419Z"
   },
   {
    "duration": 65,
    "start_time": "2025-03-06T07:33:36.459Z"
   },
   {
    "duration": 28,
    "start_time": "2025-03-06T07:33:36.527Z"
   },
   {
    "duration": 50,
    "start_time": "2025-03-06T07:33:36.557Z"
   },
   {
    "duration": 11,
    "start_time": "2025-03-06T07:33:36.609Z"
   },
   {
    "duration": 35,
    "start_time": "2025-03-06T07:33:36.622Z"
   },
   {
    "duration": 342,
    "start_time": "2025-03-06T07:33:36.659Z"
   },
   {
    "duration": 302,
    "start_time": "2025-03-06T07:33:37.003Z"
   },
   {
    "duration": 10,
    "start_time": "2025-03-06T07:33:37.307Z"
   },
   {
    "duration": 195,
    "start_time": "2025-03-06T07:33:37.319Z"
   },
   {
    "duration": 403,
    "start_time": "2025-03-06T07:33:37.516Z"
   },
   {
    "duration": 281,
    "start_time": "2025-03-06T07:33:37.920Z"
   },
   {
    "duration": 84,
    "start_time": "2025-03-06T07:52:12.421Z"
   }
  ],
  "colab": {
   "name": "DA+. Сборный проект 1. Шаблон (1).ipynb",
   "provenance": []
  },
  "kernelspec": {
   "display_name": "Python 3 (ipykernel)",
   "language": "python",
   "name": "python3"
  },
  "language_info": {
   "codemirror_mode": {
    "name": "ipython",
    "version": 3
   },
   "file_extension": ".py",
   "mimetype": "text/x-python",
   "name": "python",
   "nbconvert_exporter": "python",
   "pygments_lexer": "ipython3",
   "version": "3.9.5"
  },
  "toc": {
   "base_numbering": 1,
   "nav_menu": {},
   "number_sections": true,
   "sideBar": true,
   "skip_h1_title": true,
   "title_cell": "Table of Contents",
   "title_sidebar": "Contents",
   "toc_cell": false,
   "toc_position": {
    "height": "calc(100% - 180px)",
    "left": "10px",
    "top": "150px",
    "width": "375.382px"
   },
   "toc_section_display": true,
   "toc_window_display": false
  }
 },
 "nbformat": 4,
 "nbformat_minor": 1
}
